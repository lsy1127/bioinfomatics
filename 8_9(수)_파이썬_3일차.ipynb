{
  "nbformat": 4,
  "nbformat_minor": 0,
  "metadata": {
    "colab": {
      "provenance": [],
      "authorship_tag": "ABX9TyNBDcKB2J/kvvSylX+G3TYb",
      "include_colab_link": true
    },
    "kernelspec": {
      "name": "python3",
      "display_name": "Python 3"
    },
    "language_info": {
      "name": "python"
    }
  },
  "cells": [
    {
      "cell_type": "markdown",
      "metadata": {
        "id": "view-in-github",
        "colab_type": "text"
      },
      "source": [
        "<a href=\"https://colab.research.google.com/github/lsy1127/bioinfomatics/blob/main/8_9(%EC%88%98)_%ED%8C%8C%EC%9D%B4%EC%8D%AC_3%EC%9D%BC%EC%B0%A8.ipynb\" target=\"_parent\"><img src=\"https://colab.research.google.com/assets/colab-badge.svg\" alt=\"Open In Colab\"/></a>"
      ]
    },
    {
      "cell_type": "code",
      "source": [
        "if input(' '):\n",
        "  c=int(c)\n",
        "else:\n",
        "  c=0\n",
        "\n",
        " c=int(c) if input('') else c=0\n",
        " input 공백을 대비해서 초기값을 지정하는 것도 가능\n",
        ""
      ],
      "metadata": {
        "id": "Gg2odKDk6uqT"
      },
      "execution_count": null,
      "outputs": []
    },
    {
      "cell_type": "markdown",
      "source": [
        "# for 문"
      ],
      "metadata": {
        "id": "7_ic14D7z-xM"
      }
    },
    {
      "cell_type": "code",
      "execution_count": null,
      "metadata": {
        "id": "OWIChLprxFrd"
      },
      "outputs": [],
      "source": [
        "for: 아무리 커도 개수가 유한개일 때\n",
        "while: 무한반복"
      ]
    },
    {
      "cell_type": "code",
      "source": [
        "for i in range(0,6,2):\n",
        "  print(\"안녕하세요\")"
      ],
      "metadata": {
        "colab": {
          "base_uri": "https://localhost:8080/"
        },
        "id": "RP9L7A5S9Ref",
        "outputId": "be66d72b-98af-4b0b-9395-fa2a7346c217"
      },
      "execution_count": 5,
      "outputs": [
        {
          "output_type": "stream",
          "name": "stdout",
          "text": [
            "안녕하세요\n",
            "안녕하세요\n",
            "안녕하세요\n"
          ]
        }
      ]
    },
    {
      "cell_type": "code",
      "source": [
        "# 같음\n",
        "# for a in range(0,100,1):\n",
        "# for a in range(0,100):\n",
        "# for a in range(100)\n",
        "for a in range(99, 100, 2):\n",
        "  print(f'{a}')"
      ],
      "metadata": {
        "colab": {
          "base_uri": "https://localhost:8080/"
        },
        "id": "Gg8x8b359u4B",
        "outputId": "eaa7292a-276e-4c04-d038-c5c56c9f9371"
      },
      "execution_count": 15,
      "outputs": [
        {
          "output_type": "stream",
          "name": "stdout",
          "text": [
            "99\n"
          ]
        }
      ]
    },
    {
      "cell_type": "code",
      "source": [
        "# range 함수를 이용한 정수 나열 리스트 만들기\n",
        "print(list(range(4,20,3)))"
      ],
      "metadata": {
        "colab": {
          "base_uri": "https://localhost:8080/"
        },
        "id": "KBFY8q4d--eD",
        "outputId": "dffeee5a-c7af-4280-9fa1-3aaed04d80af"
      },
      "execution_count": 19,
      "outputs": [
        {
          "output_type": "stream",
          "name": "stdout",
          "text": [
            "[4, 7, 10, 13, 16, 19]\n"
          ]
        }
      ]
    },
    {
      "cell_type": "markdown",
      "source": [
        "# list 사용해서 반복하기"
      ],
      "metadata": {
        "id": "r6zkPshZ_dNg"
      }
    },
    {
      "cell_type": "code",
      "source": [
        "for 번호 in [1,2,3]:\n",
        "  print(\"안녕하세요\")"
      ],
      "metadata": {
        "colab": {
          "base_uri": "https://localhost:8080/"
        },
        "id": "-6KT4ba2_er6",
        "outputId": "5918dc04-43ab-402e-a6e8-bee76cf1390e"
      },
      "execution_count": 22,
      "outputs": [
        {
          "output_type": "stream",
          "name": "stdout",
          "text": [
            "안녕하세요\n",
            "안녕하세요\n",
            "안녕하세요\n"
          ]
        }
      ]
    },
    {
      "cell_type": "code",
      "source": [
        "for 번호 in [1,2,'3','4444',[3,4,5]]:\n",
        "  print(f'{번호} 안녕하세요.')"
      ],
      "metadata": {
        "colab": {
          "base_uri": "https://localhost:8080/"
        },
        "id": "0BU13kdO_zkG",
        "outputId": "4a4e23c0-eb7d-4648-df2d-d092282a0bf8"
      },
      "execution_count": 24,
      "outputs": [
        {
          "output_type": "stream",
          "name": "stdout",
          "text": [
            "1 안녕하세요.\n",
            "2 안녕하세요.\n",
            "3 안녕하세요.\n",
            "4444 안녕하세요.\n",
            "[3, 4, 5] 안녕하세요.\n"
          ]
        }
      ]
    },
    {
      "cell_type": "markdown",
      "source": [
        "# 문자열을 이용해 반복하기"
      ],
      "metadata": {
        "id": "ZrV1d95D_-KT"
      }
    },
    {
      "cell_type": "code",
      "source": [
        "for 번호 in '===============':\n",
        "  print(f'{번호} 안녕하세요')"
      ],
      "metadata": {
        "colab": {
          "base_uri": "https://localhost:8080/"
        },
        "id": "6EyrHhSa_9c4",
        "outputId": "33827a0b-00c7-4560-fb99-11afdc65f931"
      },
      "execution_count": 27,
      "outputs": [
        {
          "output_type": "stream",
          "name": "stdout",
          "text": [
            "= 안녕하세요\n",
            "= 안녕하세요\n",
            "= 안녕하세요\n",
            "= 안녕하세요\n",
            "= 안녕하세요\n",
            "= 안녕하세요\n",
            "= 안녕하세요\n",
            "= 안녕하세요\n",
            "= 안녕하세요\n",
            "= 안녕하세요\n",
            "= 안녕하세요\n",
            "= 안녕하세요\n",
            "= 안녕하세요\n",
            "= 안녕하세요\n",
            "= 안녕하세요\n"
          ]
        }
      ]
    },
    {
      "cell_type": "markdown",
      "source": [
        "# 변수를 사용하지 않으려면 _ 사용"
      ],
      "metadata": {
        "id": "SRJIdRf6AS20"
      }
    },
    {
      "cell_type": "code",
      "source": [
        "for _ in range(9):\n",
        "  print('안녕하세요')"
      ],
      "metadata": {
        "colab": {
          "base_uri": "https://localhost:8080/"
        },
        "id": "EphxRGKmAWEE",
        "outputId": "4c56b00f-4c65-4a50-80b0-85fa4f714764"
      },
      "execution_count": 30,
      "outputs": [
        {
          "output_type": "stream",
          "name": "stdout",
          "text": [
            "안녕하세요\n",
            "안녕하세요\n",
            "안녕하세요\n",
            "안녕하세요\n",
            "안녕하세요\n",
            "안녕하세요\n",
            "안녕하세요\n",
            "안녕하세요\n",
            "안녕하세요\n"
          ]
        }
      ]
    },
    {
      "cell_type": "code",
      "source": [
        "for i in range(1,11, 1):\n"
      ],
      "metadata": {
        "colab": {
          "base_uri": "https://localhost:8080/",
          "height": 147
        },
        "id": "Dn255EVqAxkk",
        "outputId": "470cbcde-12e6-4e71-c36d-47648f9f83f8"
      },
      "execution_count": 2,
      "outputs": [
        {
          "output_type": "error",
          "ename": "IndentationError",
          "evalue": "ignored",
          "traceback": [
            "\u001b[0;36m  File \u001b[0;32m\"<ipython-input-2-c392a414dc6d>\"\u001b[0;36m, line \u001b[0;32m2\u001b[0m\n\u001b[0;31m    print(i)\u001b[0m\n\u001b[0m    ^\u001b[0m\n\u001b[0;31mIndentationError\u001b[0m\u001b[0;31m:\u001b[0m expected an indented block after 'for' statement on line 1\n"
          ]
        }
      ]
    },
    {
      "cell_type": "code",
      "source": [
        "a=0\n",
        "for i in range(1,101,1):\n",
        "  a=a+i # a += i\n",
        "print(f'1부터 100까지의 합:{a}')"
      ],
      "metadata": {
        "colab": {
          "base_uri": "https://localhost:8080/"
        },
        "id": "FBNywDozBL4e",
        "outputId": "ef65cdb0-d0e2-4bc7-e089-6ea07896a993"
      },
      "execution_count": 33,
      "outputs": [
        {
          "output_type": "stream",
          "name": "stdout",
          "text": [
            "1부터 100까지의 합:5050\n"
          ]
        }
      ]
    },
    {
      "cell_type": "code",
      "source": [
        "# sum() 함수를 사용해서 합 구하기\n",
        "sum(list(range(1,101,1)))"
      ],
      "metadata": {
        "colab": {
          "base_uri": "https://localhost:8080/"
        },
        "id": "HgRNP6PfBgXk",
        "outputId": "70997e3e-69e8-44ed-8169-08640d219c3e"
      },
      "execution_count": 34,
      "outputs": [
        {
          "output_type": "execute_result",
          "data": {
            "text/plain": [
              "5050"
            ]
          },
          "metadata": {},
          "execution_count": 34
        }
      ]
    },
    {
      "cell_type": "code",
      "source": [
        "# 합계 구하기: sum(), len(): 길이, 요소의 개수\n",
        "a=[70, 60, 55, 13, 1, 9, 77, 55, 42, 93]\n",
        "plus=0\n",
        "for i in a:\n",
        "  plus+=i\n",
        "print(f'리스트 {a}의 모든 요소의 합은 {plus}입니다')\n",
        "print(len(a))\n",
        "\n",
        "# sum(a)"
      ],
      "metadata": {
        "colab": {
          "base_uri": "https://localhost:8080/"
        },
        "id": "Xq6gpwFfFfuB",
        "outputId": "bd6e2353-8055-4242-e51b-0fd0a5c04c11"
      },
      "execution_count": 49,
      "outputs": [
        {
          "output_type": "stream",
          "name": "stdout",
          "text": [
            "리스트 [70, 60, 55, 13, 1, 9, 77, 55, 42, 93]의 모든 요소의 합은 475입니다\n",
            "10\n"
          ]
        }
      ]
    },
    {
      "cell_type": "code",
      "source": [
        "# max() / min()\n",
        "print(f'리스트{a}의 모든 요소 중 제일 큰 수 {max(a)}')\n",
        "print(f'리스트{a}의 모든 요소 중 제일 작은 수 {min(a)}')\n",
        "# 평균 sum(a)/len(a)\n",
        "print(f'리스트{a}의 평균은 {sum(a)/len(a)}')\n"
      ],
      "metadata": {
        "colab": {
          "base_uri": "https://localhost:8080/"
        },
        "id": "DyfCw5BxGR80",
        "outputId": "d2295fff-58c6-40b6-ad96-0b3e89b8ee26"
      },
      "execution_count": 50,
      "outputs": [
        {
          "output_type": "stream",
          "name": "stdout",
          "text": [
            "리스트[70, 60, 55, 13, 1, 9, 77, 55, 42, 93]의 모든 요소 중 제일 큰 수 93\n",
            "리스트[70, 60, 55, 13, 1, 9, 77, 55, 42, 93]의 모든 요소 중 제일 작은 수 1\n",
            "리스트[70, 60, 55, 13, 1, 9, 77, 55, 42, 93]의 평균은 47.5\n"
          ]
        }
      ]
    },
    {
      "cell_type": "code",
      "source": [
        "n=int(input('1부터 몇까지 더하시겠습니까?'))\n",
        "b=sum(list(range(1,n+1,1)))\n",
        "print(f'1부터 {n}까지의 합은: {b}')"
      ],
      "metadata": {
        "colab": {
          "base_uri": "https://localhost:8080/"
        },
        "id": "TysfqIE_CgSA",
        "outputId": "8e329022-5afc-45cb-f7b0-600230a61104"
      },
      "execution_count": 41,
      "outputs": [
        {
          "output_type": "stream",
          "name": "stdout",
          "text": [
            "1부터 몇까지 더하시겠습니까?100\n",
            "1부터 100까지의 합은: 5050\n"
          ]
        }
      ]
    },
    {
      "cell_type": "code",
      "source": [
        "a=int(input('1부터 몇까지 더하시겠습니까?'))\n",
        "plus=0\n",
        "for i in range(1,a+1,1):\n",
        "  plus += i\n",
        "\n",
        "print(f'1부터 {a}까지의 합은: {plus}입니다')\n"
      ],
      "metadata": {
        "colab": {
          "base_uri": "https://localhost:8080/"
        },
        "id": "Xts5eKv6H7Gm",
        "outputId": "60b800e9-c7e9-4c26-ac53-0b157f95dab5"
      },
      "execution_count": 70,
      "outputs": [
        {
          "output_type": "stream",
          "name": "stdout",
          "text": [
            "1부터 몇까지 더하시겠습니까?1\n",
            "1부터 1까지의 합은: 1입니다\n"
          ]
        }
      ]
    },
    {
      "cell_type": "code",
      "source": [
        "a=int(input('1부터 몇까지 더하시겠습니까?'))\n",
        "plus=0\n",
        "for i in range(1,a+1):\n",
        "  if i%2 != 0:  # 짝수가 아니다\n",
        "   plus+=i\n",
        "  print(i)\n",
        "\n",
        "\n",
        "print(f'1부터 {a}까지 짝수를 제외한 합은: {plus}입니다')\n",
        "\n",
        "\n",
        "\n",
        ""
      ],
      "metadata": {
        "colab": {
          "base_uri": "https://localhost:8080/"
        },
        "id": "ImRtPSxrKal6",
        "outputId": "3c044371-6166-42cb-e2dd-fa881acedc2b"
      },
      "execution_count": 79,
      "outputs": [
        {
          "output_type": "stream",
          "name": "stdout",
          "text": [
            "1부터 몇까지 더하시겠습니까?3\n",
            "1\n",
            "2\n",
            "3\n",
            "1부터 3까지 짝수를 제외한 합은: 4입니다\n"
          ]
        }
      ]
    },
    {
      "cell_type": "code",
      "source": [
        "a=list(input('괄호: '))\n",
        "print(a)\n",
        "t=0  #괄호의 합\n",
        "for i in a:\n",
        "   if '(':\n",
        "     1\n",
        "   elif ')':\n",
        "     -1\n",
        "   if a[0]==')':\n",
        "    break\n",
        "\n",
        "\n",
        "if t==0:\n",
        "  print('결과: True')\n",
        "else:\n",
        "  print('결과: False')\n"
      ],
      "metadata": {
        "colab": {
          "base_uri": "https://localhost:8080/"
        },
        "id": "2-eJP0BeN1ms",
        "outputId": "17f6c5a2-ed8c-455b-9843-4679db20c346"
      },
      "execution_count": 87,
      "outputs": [
        {
          "output_type": "stream",
          "name": "stdout",
          "text": [
            "괄호: )\n",
            "[')']\n",
            "결과: True\n"
          ]
        }
      ]
    },
    {
      "cell_type": "code",
      "source": [
        "a=int(input('몇단을 출력할까요?: '))\n",
        "print('-'*20)\n",
        "\n",
        "for i in range(1,10):\n",
        "   print(f'{a}*{i}={a*i:>2}')\n",
        ""
      ],
      "metadata": {
        "colab": {
          "base_uri": "https://localhost:8080/"
        },
        "id": "CCDQ2Vm5T530",
        "outputId": "c6f98021-ba77-4336-db3e-45f73acaeab8"
      },
      "execution_count": 91,
      "outputs": [
        {
          "output_type": "stream",
          "name": "stdout",
          "text": [
            "몇단을 출력할까요?: 9\n",
            "--------------------\n",
            "9*1= 9\n",
            "9*2=18\n",
            "9*3=27\n",
            "9*4=36\n",
            "9*5=45\n",
            "9*6=54\n",
            "9*7=63\n",
            "9*8=72\n",
            "9*9=81\n"
          ]
        }
      ]
    },
    {
      "cell_type": "code",
      "source": [
        "for i in range(5):\n",
        "  for k in range(3):\n",
        "    print(f'{i}:{k}', end=' ')\n",
        "  print() # i가 바뀔때마다 다음줄"
      ],
      "metadata": {
        "colab": {
          "base_uri": "https://localhost:8080/"
        },
        "id": "9vR3jGAmWdp2",
        "outputId": "7d120bb4-9e66-4503-cf83-4c32dfba0996"
      },
      "execution_count": 97,
      "outputs": [
        {
          "output_type": "stream",
          "name": "stdout",
          "text": [
            "0:0 0:1 0:2 \n",
            "1:0 1:1 1:2 \n",
            "2:0 2:1 2:2 \n",
            "3:0 3:1 3:2 \n",
            "4:0 4:1 4:2 \n"
          ]
        }
      ]
    },
    {
      "cell_type": "code",
      "source": [
        "for i in range(2,10):\n",
        "  print(f'#{i}단', end='  ')\n",
        "print('\\n'+'-'*55)\n",
        "for i in range(1,10):\n",
        "  for k in range(2,10):\n",
        "    print(f'{k}x{i}={i*k:>2}',end=' ')\n",
        "  print()\n",
        "\n"
      ],
      "metadata": {
        "colab": {
          "base_uri": "https://localhost:8080/"
        },
        "id": "bTe7SNeTXwts",
        "outputId": "29c2af74-1cfd-4116-efee-9e7eda970e84"
      },
      "execution_count": 125,
      "outputs": [
        {
          "output_type": "stream",
          "name": "stdout",
          "text": [
            "#2단  #3단  #4단  #5단  #6단  #7단  #8단  #9단  \n",
            "-------------------------------------------------------\n",
            "2x1= 2 3x1= 3 4x1= 4 5x1= 5 6x1= 6 7x1= 7 8x1= 8 9x1= 9 \n",
            "2x2= 4 3x2= 6 4x2= 8 5x2=10 6x2=12 7x2=14 8x2=16 9x2=18 \n",
            "2x3= 6 3x3= 9 4x3=12 5x3=15 6x3=18 7x3=21 8x3=24 9x3=27 \n",
            "2x4= 8 3x4=12 4x4=16 5x4=20 6x4=24 7x4=28 8x4=32 9x4=36 \n",
            "2x5=10 3x5=15 4x5=20 5x5=25 6x5=30 7x5=35 8x5=40 9x5=45 \n",
            "2x6=12 3x6=18 4x6=24 5x6=30 6x6=36 7x6=42 8x6=48 9x6=54 \n",
            "2x7=14 3x7=21 4x7=28 5x7=35 6x7=42 7x7=49 8x7=56 9x7=63 \n",
            "2x8=16 3x8=24 4x8=32 5x8=40 6x8=48 7x8=56 8x8=64 9x8=72 \n",
            "2x9=18 3x9=27 4x9=36 5x9=45 6x9=54 7x9=63 8x9=72 9x9=81 \n"
          ]
        }
      ]
    },
    {
      "cell_type": "code",
      "source": [
        "help(range)"
      ],
      "metadata": {
        "colab": {
          "base_uri": "https://localhost:8080/"
        },
        "id": "uY2MESjsbR6I",
        "outputId": "97af0045-e82f-4c8f-fcad-451e1334376e"
      },
      "execution_count": 128,
      "outputs": [
        {
          "output_type": "stream",
          "name": "stdout",
          "text": [
            "Help on class range in module builtins:\n",
            "\n",
            "class range(object)\n",
            " |  range(stop) -> range object\n",
            " |  range(start, stop[, step]) -> range object\n",
            " |  \n",
            " |  Return an object that produces a sequence of integers from start (inclusive)\n",
            " |  to stop (exclusive) by step.  range(i, j) produces i, i+1, i+2, ..., j-1.\n",
            " |  start defaults to 0, and stop is omitted!  range(4) produces 0, 1, 2, 3.\n",
            " |  These are exactly the valid indices for a list of 4 elements.\n",
            " |  When step is given, it specifies the increment (or decrement).\n",
            " |  \n",
            " |  Methods defined here:\n",
            " |  \n",
            " |  __bool__(self, /)\n",
            " |      True if self else False\n",
            " |  \n",
            " |  __contains__(self, key, /)\n",
            " |      Return key in self.\n",
            " |  \n",
            " |  __eq__(self, value, /)\n",
            " |      Return self==value.\n",
            " |  \n",
            " |  __ge__(self, value, /)\n",
            " |      Return self>=value.\n",
            " |  \n",
            " |  __getattribute__(self, name, /)\n",
            " |      Return getattr(self, name).\n",
            " |  \n",
            " |  __getitem__(self, key, /)\n",
            " |      Return self[key].\n",
            " |  \n",
            " |  __gt__(self, value, /)\n",
            " |      Return self>value.\n",
            " |  \n",
            " |  __hash__(self, /)\n",
            " |      Return hash(self).\n",
            " |  \n",
            " |  __iter__(self, /)\n",
            " |      Implement iter(self).\n",
            " |  \n",
            " |  __le__(self, value, /)\n",
            " |      Return self<=value.\n",
            " |  \n",
            " |  __len__(self, /)\n",
            " |      Return len(self).\n",
            " |  \n",
            " |  __lt__(self, value, /)\n",
            " |      Return self<value.\n",
            " |  \n",
            " |  __ne__(self, value, /)\n",
            " |      Return self!=value.\n",
            " |  \n",
            " |  __reduce__(...)\n",
            " |      Helper for pickle.\n",
            " |  \n",
            " |  __repr__(self, /)\n",
            " |      Return repr(self).\n",
            " |  \n",
            " |  __reversed__(...)\n",
            " |      Return a reverse iterator.\n",
            " |  \n",
            " |  count(...)\n",
            " |      rangeobject.count(value) -> integer -- return number of occurrences of value\n",
            " |  \n",
            " |  index(...)\n",
            " |      rangeobject.index(value) -> integer -- return index of value.\n",
            " |      Raise ValueError if the value is not present.\n",
            " |  \n",
            " |  ----------------------------------------------------------------------\n",
            " |  Static methods defined here:\n",
            " |  \n",
            " |  __new__(*args, **kwargs) from builtins.type\n",
            " |      Create and return a new object.  See help(type) for accurate signature.\n",
            " |  \n",
            " |  ----------------------------------------------------------------------\n",
            " |  Data descriptors defined here:\n",
            " |  \n",
            " |  start\n",
            " |  \n",
            " |  step\n",
            " |  \n",
            " |  stop\n",
            "\n"
          ]
        }
      ]
    },
    {
      "cell_type": "markdown",
      "source": [
        "# 난수(Random Number)"
      ],
      "metadata": {
        "id": "0cBeK8dZAmuz"
      }
    },
    {
      "cell_type": "code",
      "source": [
        "import random\n",
        "\n",
        "# 임의의 정수\n",
        "# random.randint(1,10)       # 1부터 10까지 정수 중 하나 선택\n",
        "# random.randrange(1, 11, n) # 시작부터 끝 미만까지 정수 점프n단계\n",
        "\n",
        "# 임의의 실수\n",
        "print(random.random())       # 0부터 1사이의 임의의 실수\n",
        "random.uniform(0.5, 1)       # 시작과 끝 사이의 실수\n",
        "\n",
        "# 리스트 섞기\n",
        "a= [1,2, 3, 4, 5, 6, 7]\n",
        "random.shuffle(a)\n",
        "print(a)\n",
        "\n",
        "# 리스트 요소 중에 하나 선택하기\n",
        "print(random.choice(a))\n",
        "\n",
        "# 리스트 요소 중에 개수 지정해서 선택하기\n",
        "print('로또 번호 출력:', random.sample(range(1,46),6)) # 1이상 45이하의 수에서 임의 6개 선택\n",
        "print('로또 번호 출력:', sorted(random.sample(range(1,46),6))) # 작은 숫자부터 정렬\n"
      ],
      "metadata": {
        "colab": {
          "base_uri": "https://localhost:8080/"
        },
        "id": "JHodOrZWtfWN",
        "outputId": "63ee4ba2-b950-406a-d562-2f6ab64fb135"
      },
      "execution_count": 65,
      "outputs": [
        {
          "output_type": "stream",
          "name": "stdout",
          "text": [
            "0.642984786959193\n",
            "[1, 2, 7, 5, 3, 6, 4]\n",
            "3\n",
            "로또 번호 출력: [22, 13, 1, 21, 38, 42]\n",
            "로또 번호 출력: [3, 11, 13, 28, 30, 31]\n"
          ]
        }
      ]
    },
    {
      "cell_type": "code",
      "source": [
        "import random\n",
        "for _ in range(5):\n",
        "\n",
        "a= random.randint(1,6)\n",
        "b= random.randint(1,6)\n",
        "\n",
        "print(f\"--{c}'번째 시도----------\")\n",
        "print(f'주사위 결과: 첫번째 [{a}] 두번째[{b}]')\n",
        "if {a}>{b}:\n",
        "      print('첫번째 주사위가 이겼습니다.')\n",
        "elif {a}=={b}:\n",
        "      print('비겼습니다.')\n",
        "else:\n",
        "      print('두번째 주사위가 이겼습니다.')\n",
        "# random.sample((range(1,7),2))"
      ],
      "metadata": {
        "colab": {
          "base_uri": "https://localhost:8080/"
        },
        "id": "CvKAegvxzw_2",
        "outputId": "37937a9d-3490-46ba-9cd0-ce854734db9d"
      },
      "execution_count": 89,
      "outputs": [
        {
          "output_type": "stream",
          "name": "stdout",
          "text": [
            "-*2+range(1, 6)'번째 시도-*20\n",
            "주사위 결과: 첫번째 [5] 두번째[2]\n",
            "두번째 주사위가 이겼습니다.\n"
          ]
        }
      ]
    },
    {
      "cell_type": "code",
      "source": [
        "import random\n",
        "d1, d2, d3, d4, d5, d6 = 0, 0, 0,0,0,0\n",
        "for _ in range(100):\n",
        "  a=random.randint(1,6)\n",
        "  if a==1:\n",
        "    d1+=1\n",
        "  if a==2:\n",
        "    d2+=1\n",
        "  if a==3:\n",
        "    d3+=1\n",
        "  if a==4:\n",
        "    d4+=1\n",
        "  if a==5:\n",
        "    d5+=1\n",
        "  if a==6:\n",
        "    d6+=1\n",
        "print(f'주사위 숫자별 개수: D1[{d1}] D2[{d2}] D3[{d3}] D4[{d4}] D5[{d5}] D6[{d6}]')\n",
        "print(f'가장 많이 나온 주사위 숫자: {}, 횟수{}')\n"
      ],
      "metadata": {
        "colab": {
          "base_uri": "https://localhost:8080/"
        },
        "id": "FdEhFXA03aSa",
        "outputId": "93593a65-92e8-489f-c0d4-c3dd45cf7f9c"
      },
      "execution_count": 104,
      "outputs": [
        {
          "output_type": "stream",
          "name": "stdout",
          "text": [
            "주사위 숫자별 개수: D1[20] D2[16] D3[15] D4[14] D5[18] D6[17]\n"
          ]
        }
      ]
    },
    {
      "cell_type": "code",
      "source": [
        "import random\n",
        "dice=[0,0,0,0,0,0]\n",
        "for i in range(10):\n",
        "  num = random.randint(1,6)\n",
        "  dice[num-1]=dice[num-1]+1\n",
        "  print(f'{i}회 시도 - 나온 수({num}), 주사위:{dice}')\n",
        "\n",
        "print(f'주사위 숫자의 나온 횟수: {dice}')\n",
        "print(f'가장 큰 횟수: {max(dice)}의 주사위 눈금은: {dice.index(max(dice))+1}')"
      ],
      "metadata": {
        "colab": {
          "base_uri": "https://localhost:8080/"
        },
        "id": "sX5E4B4n7Jsq",
        "outputId": "b3d8cc7a-ab15-47e7-9ad2-346bfeae5144"
      },
      "execution_count": 111,
      "outputs": [
        {
          "output_type": "stream",
          "name": "stdout",
          "text": [
            "0회 시도 - 나온 수(6), 주사위:[0, 0, 0, 0, 0, 1]\n",
            "1회 시도 - 나온 수(1), 주사위:[1, 0, 0, 0, 0, 1]\n",
            "2회 시도 - 나온 수(5), 주사위:[1, 0, 0, 0, 1, 1]\n",
            "3회 시도 - 나온 수(3), 주사위:[1, 0, 1, 0, 1, 1]\n",
            "4회 시도 - 나온 수(4), 주사위:[1, 0, 1, 1, 1, 1]\n",
            "5회 시도 - 나온 수(6), 주사위:[1, 0, 1, 1, 1, 2]\n",
            "6회 시도 - 나온 수(5), 주사위:[1, 0, 1, 1, 2, 2]\n",
            "7회 시도 - 나온 수(1), 주사위:[2, 0, 1, 1, 2, 2]\n",
            "8회 시도 - 나온 수(6), 주사위:[2, 0, 1, 1, 2, 3]\n",
            "9회 시도 - 나온 수(2), 주사위:[2, 1, 1, 1, 2, 3]\n",
            "주사위 숫자의 나온 횟수: [2, 1, 1, 1, 2, 3]\n",
            "가장 큰 횟수: 3의 주사위 눈금은: 6\n"
          ]
        }
      ]
    },
    {
      "cell_type": "markdown",
      "source": [
        "# while 문"
      ],
      "metadata": {
        "id": "hAGdebpDGlna"
      }
    },
    {
      "cell_type": "code",
      "source": [
        "i=0\n",
        "while i<3:\n",
        "  print('%d: 안녕하세요? while 문을 공부 중입니다.' %i)\n",
        "  i+=1\n",
        "  print(f'{i} 안녕하세요?')"
      ],
      "metadata": {
        "colab": {
          "base_uri": "https://localhost:8080/"
        },
        "id": "81A4vUXIFwtj",
        "outputId": "366f52db-09d5-4498-cf70-69892cb66725"
      },
      "execution_count": 113,
      "outputs": [
        {
          "output_type": "stream",
          "name": "stdout",
          "text": [
            "0: 안녕하세요? while 문을 공부 중입니다.\n",
            "1 안녕하세요?\n",
            "1: 안녕하세요? while 문을 공부 중입니다.\n",
            "2 안녕하세요?\n",
            "2: 안녕하세요? while 문을 공부 중입니다.\n",
            "3 안녕하세요?\n"
          ]
        }
      ]
    },
    {
      "cell_type": "code",
      "source": [
        "while 무한반복을 할 때 break조건을 만들어서 탈출요건을 갖출것"
      ],
      "metadata": {
        "id": "ULGZzxYZGmwj"
      },
      "execution_count": null,
      "outputs": []
    },
    {
      "cell_type": "code",
      "source": [
        "treehit=0\n",
        "while treehit<10:\n",
        "  print(f'나무를 {treehit+1}번 찍었습니다.')\n",
        "  treehit+=1\n",
        "print(\"나무 넘어 갑니다~\")"
      ],
      "metadata": {
        "colab": {
          "base_uri": "https://localhost:8080/"
        },
        "id": "Hp7r5OwRGxeb",
        "outputId": "08de7497-2e55-43f5-e961-2ee8a9d897b4"
      },
      "execution_count": 118,
      "outputs": [
        {
          "output_type": "stream",
          "name": "stdout",
          "text": [
            "나무를 1번 찍었습니다.\n",
            "나무를 2번 찍었습니다.\n",
            "나무를 3번 찍었습니다.\n",
            "나무를 4번 찍었습니다.\n",
            "나무를 5번 찍었습니다.\n",
            "나무를 6번 찍었습니다.\n",
            "나무를 7번 찍었습니다.\n",
            "나무를 8번 찍었습니다.\n",
            "나무를 9번 찍었습니다.\n",
            "나무를 10번 찍었습니다.\n",
            "나무 넘어 갑니다~\n"
          ]
        }
      ]
    },
    {
      "cell_type": "code",
      "source": [
        "treehit=0\n",
        "while True:\n",
        "    treehit+=1\n",
        "    print(f'나무를 {treehit}번 찍었습니다.')\n",
        "    if treehit==10:break\n",
        "print('나무 넘어 갑니다~')\n",
        "\n"
      ],
      "metadata": {
        "colab": {
          "base_uri": "https://localhost:8080/"
        },
        "id": "Kuw6ZE32KFjN",
        "outputId": "cda47f03-d463-4e33-cf8d-9adcdf87783d"
      },
      "execution_count": 132,
      "outputs": [
        {
          "output_type": "stream",
          "name": "stdout",
          "text": [
            "나무를 1번 찍었습니다.\n",
            "나무를 2번 찍었습니다.\n",
            "나무를 3번 찍었습니다.\n",
            "나무를 4번 찍었습니다.\n",
            "나무를 5번 찍었습니다.\n",
            "나무를 6번 찍었습니다.\n",
            "나무를 7번 찍었습니다.\n",
            "나무를 8번 찍었습니다.\n",
            "나무를 9번 찍었습니다.\n",
            "나무를 10번 찍었습니다.\n",
            "나무 넘어 갑니다~\n"
          ]
        }
      ]
    },
    {
      "cell_type": "code",
      "source": [
        "prompt=\"\"\"\n",
        "1. Add  2.Del 3.Modify  4.Quit\n",
        "\"\"\"\n",
        "while True:\n",
        "  print(prompt)\n",
        "  a=int(input('Enter number:'))\n",
        "  if a==4:\n",
        "    break"
      ],
      "metadata": {
        "id": "EkGRDtoBIXxj"
      },
      "execution_count": null,
      "outputs": []
    },
    {
      "cell_type": "code",
      "source": [
        "prompt=\"\"\"\n",
        "1. Add  2.Del 3.Modify  4.Quit\n",
        "'Enter number:\"\"\"\n",
        "while True:\n",
        "    print(prompt)\n",
        "    a=int(input(''))\n",
        "    if a==4:break"
      ],
      "metadata": {
        "id": "YPpkBiG7KAPg"
      },
      "execution_count": null,
      "outputs": []
    },
    {
      "cell_type": "code",
      "source": [
        "prompt=\"\"\"\n",
        "1. Add  2.Del 3.Modify  4.Quit\n",
        "'Enter number:\"\"\"\n",
        "a=''\n",
        "while a!='4':\n",
        "    a=input(prompt)"
      ],
      "metadata": {
        "id": "2U6rdXKhMgX9"
      },
      "execution_count": null,
      "outputs": []
    },
    {
      "cell_type": "code",
      "source": [
        "prompt=\"\"\"\n",
        "1. Add  2.Del 3.Modify  4.Quit\n",
        "'Enter number:\"\"\"\n",
        "a=''\n",
        "while True:\n",
        "    if a==4: break"
      ],
      "metadata": {
        "id": "YFowyZOINNh8"
      },
      "execution_count": null,
      "outputs": []
    },
    {
      "cell_type": "code",
      "source": [
        "#커피 주문 프로그램  반복문 이용해서 거스름돈 > 0까지 돈을 넣으라고 반복하기coffee1_price = 2500\n",
        "coffee1_price=2500\n",
        "coffee2_price = 3000\n",
        "coffee3_price = 3000\n",
        "menu = f'''[커피 자동주문 머신 메뉴]\n",
        "------------------------\n",
        "- 아메리카노:  {coffee1_price}원\n",
        "- 카페라떼:    {coffee2_price}원\n",
        "- 카푸치노:    {coffee3_price}원\n",
        "------------------------\n",
        "원하시는 커피종류와 잔수를 입력하세요!\n",
        "'''\n",
        "print(menu)\n",
        "coffee1 = int(input('아메리카노 몇잔: '))\n",
        "coffee2 = int(input('카페라떼   몇잔: '))\n",
        "coffee3 = int(input('카푸치노   몇잔: '))\n",
        "total = coffee1_price*coffee1 + coffee2_price*coffee2 + coffee3_price*coffee3\n",
        "print(f'주문하신 총 가격은 {total}원 입니다.')\n",
        "\n",
        "while True:\n",
        " money = int(input('돈을 입력해주세요: '))\n",
        " change= total - money\n",
        " total=change\n",
        "\n",
        " if change>0:\n",
        "    print(f'입력한 금액이 부족합니다.{change}원을 더 넣어주세요.')\n",
        "\n",
        " if money<total:\n",
        "        print(f'입력한 금액이 부족합니다. {change}원을 더 넣어주세요.')\n",
        "\n",
        " else:\n",
        "   print(f'거스름돈은 {abs(change)}원 입니다. 커피 맛있게 드세요~')"
      ],
      "metadata": {
        "colab": {
          "base_uri": "https://localhost:8080/",
          "height": 682
        },
        "id": "rr7LN6YbNkD_",
        "outputId": "564ec653-b96b-437c-ccc1-b3b2530c2a41"
      },
      "execution_count": 175,
      "outputs": [
        {
          "output_type": "stream",
          "name": "stdout",
          "text": [
            "[커피 자동주문 머신 메뉴]\n",
            "------------------------\n",
            "- 아메리카노:  2500원\n",
            "- 카페라떼:    3000원\n",
            "- 카푸치노:    3000원\n",
            "------------------------\n",
            "원하시는 커피종류와 잔수를 입력하세요!\n",
            "\n",
            "아메리카노 몇잔: 1\n",
            "카페라떼   몇잔: 1\n",
            "카푸치노   몇잔: 1\n",
            "주문하신 총 가격은 8500원 입니다.\n",
            "돈을 입력해주세요: 7000\n",
            "입력한 금액이 부족합니다.1500원을 더 넣어주세요.\n",
            "거스름돈은 1500원 입니다. 커피 맛있게 드세요~\n"
          ]
        },
        {
          "output_type": "error",
          "ename": "KeyboardInterrupt",
          "evalue": "ignored",
          "traceback": [
            "\u001b[0;31m---------------------------------------------------------------------------\u001b[0m",
            "\u001b[0;31mKeyboardInterrupt\u001b[0m                         Traceback (most recent call last)",
            "\u001b[0;32m<ipython-input-175-a4668017139c>\u001b[0m in \u001b[0;36m<cell line: 20>\u001b[0;34m()\u001b[0m\n\u001b[1;32m     19\u001b[0m \u001b[0;34m\u001b[0m\u001b[0m\n\u001b[1;32m     20\u001b[0m \u001b[0;32mwhile\u001b[0m \u001b[0;32mTrue\u001b[0m\u001b[0;34m:\u001b[0m\u001b[0;34m\u001b[0m\u001b[0;34m\u001b[0m\u001b[0m\n\u001b[0;32m---> 21\u001b[0;31m  \u001b[0mmoney\u001b[0m \u001b[0;34m=\u001b[0m \u001b[0mint\u001b[0m\u001b[0;34m(\u001b[0m\u001b[0minput\u001b[0m\u001b[0;34m(\u001b[0m\u001b[0;34m'돈을 입력해주세요: '\u001b[0m\u001b[0;34m)\u001b[0m\u001b[0;34m)\u001b[0m\u001b[0;34m\u001b[0m\u001b[0;34m\u001b[0m\u001b[0m\n\u001b[0m\u001b[1;32m     22\u001b[0m  \u001b[0mchange\u001b[0m\u001b[0;34m=\u001b[0m \u001b[0mtotal\u001b[0m \u001b[0;34m-\u001b[0m \u001b[0mmoney\u001b[0m\u001b[0;34m\u001b[0m\u001b[0;34m\u001b[0m\u001b[0m\n\u001b[1;32m     23\u001b[0m  \u001b[0mtotal\u001b[0m\u001b[0;34m=\u001b[0m\u001b[0mchange\u001b[0m\u001b[0;34m\u001b[0m\u001b[0;34m\u001b[0m\u001b[0m\n",
            "\u001b[0;32m/usr/local/lib/python3.10/dist-packages/ipykernel/kernelbase.py\u001b[0m in \u001b[0;36mraw_input\u001b[0;34m(self, prompt)\u001b[0m\n\u001b[1;32m    849\u001b[0m                 \u001b[0;34m\"raw_input was called, but this frontend does not support input requests.\"\u001b[0m\u001b[0;34m\u001b[0m\u001b[0;34m\u001b[0m\u001b[0m\n\u001b[1;32m    850\u001b[0m             )\n\u001b[0;32m--> 851\u001b[0;31m         return self._input_request(str(prompt),\n\u001b[0m\u001b[1;32m    852\u001b[0m             \u001b[0mself\u001b[0m\u001b[0;34m.\u001b[0m\u001b[0m_parent_ident\u001b[0m\u001b[0;34m,\u001b[0m\u001b[0;34m\u001b[0m\u001b[0;34m\u001b[0m\u001b[0m\n\u001b[1;32m    853\u001b[0m             \u001b[0mself\u001b[0m\u001b[0;34m.\u001b[0m\u001b[0m_parent_header\u001b[0m\u001b[0;34m,\u001b[0m\u001b[0;34m\u001b[0m\u001b[0;34m\u001b[0m\u001b[0m\n",
            "\u001b[0;32m/usr/local/lib/python3.10/dist-packages/ipykernel/kernelbase.py\u001b[0m in \u001b[0;36m_input_request\u001b[0;34m(self, prompt, ident, parent, password)\u001b[0m\n\u001b[1;32m    893\u001b[0m             \u001b[0;32mexcept\u001b[0m \u001b[0mKeyboardInterrupt\u001b[0m\u001b[0;34m:\u001b[0m\u001b[0;34m\u001b[0m\u001b[0;34m\u001b[0m\u001b[0m\n\u001b[1;32m    894\u001b[0m                 \u001b[0;31m# re-raise KeyboardInterrupt, to truncate traceback\u001b[0m\u001b[0;34m\u001b[0m\u001b[0;34m\u001b[0m\u001b[0m\n\u001b[0;32m--> 895\u001b[0;31m                 \u001b[0;32mraise\u001b[0m \u001b[0mKeyboardInterrupt\u001b[0m\u001b[0;34m(\u001b[0m\u001b[0;34m\"Interrupted by user\"\u001b[0m\u001b[0;34m)\u001b[0m \u001b[0;32mfrom\u001b[0m \u001b[0;32mNone\u001b[0m\u001b[0;34m\u001b[0m\u001b[0;34m\u001b[0m\u001b[0m\n\u001b[0m\u001b[1;32m    896\u001b[0m             \u001b[0;32mexcept\u001b[0m \u001b[0mException\u001b[0m \u001b[0;32mas\u001b[0m \u001b[0me\u001b[0m\u001b[0;34m:\u001b[0m\u001b[0;34m\u001b[0m\u001b[0;34m\u001b[0m\u001b[0m\n\u001b[1;32m    897\u001b[0m                 \u001b[0mself\u001b[0m\u001b[0;34m.\u001b[0m\u001b[0mlog\u001b[0m\u001b[0;34m.\u001b[0m\u001b[0mwarning\u001b[0m\u001b[0;34m(\u001b[0m\u001b[0;34m\"Invalid Message:\"\u001b[0m\u001b[0;34m,\u001b[0m \u001b[0mexc_info\u001b[0m\u001b[0;34m=\u001b[0m\u001b[0;32mTrue\u001b[0m\u001b[0;34m)\u001b[0m\u001b[0;34m\u001b[0m\u001b[0;34m\u001b[0m\u001b[0m\n",
            "\u001b[0;31mKeyboardInterrupt\u001b[0m: Interrupted by user"
          ]
        }
      ]
    },
    {
      "cell_type": "code",
      "source": [
        "import random\n",
        "random.sample((range(1,7),2))"
      ],
      "metadata": {
        "colab": {
          "base_uri": "https://localhost:8080/",
          "height": 201
        },
        "id": "jvhjN9sF29JO",
        "outputId": "48bc592b-333f-4998-aecb-1d4cc6f369b0"
      },
      "execution_count": 90,
      "outputs": [
        {
          "output_type": "error",
          "ename": "TypeError",
          "evalue": "ignored",
          "traceback": [
            "\u001b[0;31m---------------------------------------------------------------------------\u001b[0m",
            "\u001b[0;31mTypeError\u001b[0m                                 Traceback (most recent call last)",
            "\u001b[0;32m<ipython-input-90-675d252f16d7>\u001b[0m in \u001b[0;36m<cell line: 2>\u001b[0;34m()\u001b[0m\n\u001b[1;32m      1\u001b[0m \u001b[0;32mimport\u001b[0m \u001b[0mrandom\u001b[0m\u001b[0;34m\u001b[0m\u001b[0;34m\u001b[0m\u001b[0m\n\u001b[0;32m----> 2\u001b[0;31m \u001b[0mrandom\u001b[0m\u001b[0;34m.\u001b[0m\u001b[0msample\u001b[0m\u001b[0;34m(\u001b[0m\u001b[0;34m(\u001b[0m\u001b[0mrange\u001b[0m\u001b[0;34m(\u001b[0m\u001b[0;36m1\u001b[0m\u001b[0;34m,\u001b[0m\u001b[0;36m7\u001b[0m\u001b[0;34m)\u001b[0m\u001b[0;34m,\u001b[0m\u001b[0;36m2\u001b[0m\u001b[0;34m)\u001b[0m\u001b[0;34m)\u001b[0m\u001b[0;34m\u001b[0m\u001b[0;34m\u001b[0m\u001b[0m\n\u001b[0m",
            "\u001b[0;31mTypeError\u001b[0m: Random.sample() missing 1 required positional argument: 'k'"
          ]
        }
      ]
    }
  ]
}