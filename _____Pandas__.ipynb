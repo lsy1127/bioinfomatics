{
  "nbformat": 4,
  "nbformat_minor": 0,
  "metadata": {
    "colab": {
      "provenance": [],
      "toc_visible": true,
      "include_colab_link": true
    },
    "kernelspec": {
      "name": "python3",
      "display_name": "Python 3"
    },
    "language_info": {
      "name": "python"
    }
  },
  "cells": [
    {
      "cell_type": "markdown",
      "metadata": {
        "id": "view-in-github",
        "colab_type": "text"
      },
      "source": [
        "<a href=\"https://colab.research.google.com/github/lsy1127/bioinfomatics/blob/main/_____Pandas__.ipynb\" target=\"_parent\"><img src=\"https://colab.research.google.com/assets/colab-badge.svg\" alt=\"Open In Colab\"/></a>"
      ]
    },
    {
      "cell_type": "markdown",
      "source": [],
      "metadata": {
        "id": "tk6VhH-NSNNI"
      }
    },
    {
      "cell_type": "markdown",
      "source": [
        "\n",
        "\n",
        "1.   **판다스란?**\n",
        "\n",
        "2.   **Pandas import**\n",
        "\n",
        "3.   **Series vs DataFrame**\n",
        "\n",
        "4.   **Series 요약**\n",
        "\n",
        "5.   **DataFrame 생성**\n",
        "\n",
        "6.   **DataFrame 데이터 확인**\n",
        "\n",
        "7.   **DataFrame 데이터 정렬**\n",
        "\n",
        "8.   **DataFrame 데이터 선택**\n",
        "\n",
        "9.   **DataFrame 데이터 생성**\n",
        "\n",
        "10.  **DataFrame 데이터 변경**\n",
        "\n",
        "11.  **DataFrame 데이터 결합**\n",
        "\n"
      ],
      "metadata": {
        "id": "qiJzLcUJSPhA"
      }
    },
    {
      "cell_type": "markdown",
      "source": [
        "ㅤ"
      ],
      "metadata": {
        "id": "9ZigVtQcnTDF"
      }
    },
    {
      "cell_type": "markdown",
      "source": [
        "\n",
        "\n",
        "---\n",
        "\n"
      ],
      "metadata": {
        "id": "3t0J_7BRnTqy"
      }
    },
    {
      "cell_type": "markdown",
      "source": [
        "## **1. 판다스란?**"
      ],
      "metadata": {
        "id": "phdnyWarCZwE"
      }
    },
    {
      "cell_type": "markdown",
      "source": [
        "**행(Row) X 열(Column)**로 구성된 **2차원 데이터 객체**를 다루는 데이터 분석 라이브러리로, 대용량의 데이터들을 처리하는데 매우 편리한 도구입니다.\n"
      ],
      "metadata": {
        "id": "3BZ2Bm4OCuGY"
      }
    },
    {
      "cell_type": "markdown",
      "source": [
        "ㅤ"
      ],
      "metadata": {
        "id": "Anm2zpkhD4-t"
      }
    },
    {
      "cell_type": "markdown",
      "source": [
        "**[Numpy와 차이점?]**\n",
        "\n",
        "\n"
      ],
      "metadata": {
        "id": "3SBtb9-BDYGh"
      }
    },
    {
      "cell_type": "markdown",
      "source": [
        "Pandas는 Numpy를 기반으로 작성되지만 훨씬 더 **유연하고 편리하게 데이터 핸들링**이 가능합니다.\n",
        "\n",
        "또한 저수준 API를 제공하는 Numpy와 달리 **고수준 API** 제공하는 라이브러리입니다."
      ],
      "metadata": {
        "id": "0FpObmO6K16n"
      }
    },
    {
      "cell_type": "markdown",
      "source": [
        "> API : Application Programming Interface의 약자로, **응용 프로그램 프로그래밍 인터페이스**이다. 컴퓨터나 컴퓨터 프로그램 사이의 연결이며, 일종의 소프트웨어 인터페이스이다. 다른 종류의 소프트웨어에 서비스를 제공한다.\n",
        "\n",
        "\n",
        "\n",
        "\n",
        "\n",
        "\n"
      ],
      "metadata": {
        "id": "UL6u-mrVD3wq"
      }
    },
    {
      "cell_type": "markdown",
      "source": [
        "ㅤ"
      ],
      "metadata": {
        "id": "w9jjVOmoEivl"
      }
    },
    {
      "cell_type": "markdown",
      "source": [
        "## **2. Pandas import**\n"
      ],
      "metadata": {
        "id": "D4bULCg1Ei5S"
      }
    },
    {
      "cell_type": "markdown",
      "source": [
        "\n",
        "\n",
        "*   Pandas를 사용하기 위해서는 **모듈을 import** 해야 합니다.\n",
        "\n",
        "*   주로 간결성을 위해 **pd**라는 축약된 이름으로 사용하는 것이 관례입니다.\n",
        "\n",
        "*   Pandas와 Numpy는 같이 쓰이는 경우가 많기 때문에 주로 같이 import 합니다.\n",
        "\n",
        "\n",
        "\n",
        "\n",
        "\n",
        "\n",
        "\n",
        "\n",
        "\n"
      ],
      "metadata": {
        "id": "cHYtBeK0ErvX"
      }
    },
    {
      "cell_type": "markdown",
      "source": [
        "ㅤ"
      ],
      "metadata": {
        "id": "larPIwULKvhE"
      }
    },
    {
      "cell_type": "markdown",
      "source": [
        "## **3. Series vs Dataframe**"
      ],
      "metadata": {
        "id": "4rCEaGslFWLA"
      }
    },
    {
      "cell_type": "markdown",
      "source": [
        "\n",
        "\n",
        "\n",
        "*   Series : **1차원 배열의 형태**를 가지며 **인덱스**(index. 값이 위치하고 있는 정보)라는 한 가지 기준(행)에 의해 데이터가 저장됩니다.\n",
        "</br> </br>\n",
        "\n",
        "*   Dataframe : **2차원 배열의 형태**를 가지며 **인덱스와 칼럼**이라는 두 가지 기준(행X열)에 의해 표 형태처럼 데이터가 저장됩니다.\n",
        "\n",
        "\n",
        "\n"
      ],
      "metadata": {
        "id": "q80rQI2zFdil"
      }
    },
    {
      "cell_type": "markdown",
      "source": [
        "ㅤ"
      ],
      "metadata": {
        "id": "U5EO4zGkHK10"
      }
    },
    {
      "cell_type": "markdown",
      "source": [
        "## **4. Series 요약**"
      ],
      "metadata": {
        "id": "U7FsTQVTN-Ce"
      }
    },
    {
      "cell_type": "markdown",
      "source": [
        "\n",
        "### **1) Series 정의하기**\n",
        "\n",
        "\n",
        "\n",
        "\n",
        "\n"
      ],
      "metadata": {
        "id": "xPMPGnpSHWLA"
      }
    },
    {
      "cell_type": "markdown",
      "source": [
        "*   변수명 = pd.Series([값])"
      ],
      "metadata": {
        "id": "_lHgLR5EJRF-"
      }
    },
    {
      "cell_type": "markdown",
      "source": [
        "ㅤ"
      ],
      "metadata": {
        "id": "bXHhK3R9IzRh"
      }
    },
    {
      "cell_type": "markdown",
      "source": [
        "\n",
        "\n",
        "### **2) Series에 있는 자료 확인하기**\n",
        "\n",
        "\n",
        "\n",
        "\n",
        "\n",
        "\n",
        "\n"
      ],
      "metadata": {
        "id": "BjiZ4rwmHjhi"
      }
    },
    {
      "cell_type": "markdown",
      "source": [
        "*   값 확인 : 변수명.values\n",
        "\n",
        "*   인덱스 확인 : 변수명.index\n",
        "\n",
        "*   자료형 확인 : 변수명.dtypes\n"
      ],
      "metadata": {
        "id": "qnhGn07QJfXX"
      }
    },
    {
      "cell_type": "markdown",
      "source": [
        "ㅤ"
      ],
      "metadata": {
        "id": "OyaXOL9mIyPi"
      }
    },
    {
      "cell_type": "markdown",
      "source": [
        "### **3) 인덱스 변경하기**\n",
        "\n",
        "\n"
      ],
      "metadata": {
        "id": "bMmNzCfiI0Au"
      }
    },
    {
      "cell_type": "markdown",
      "source": [
        "인덱스의 이름을 원하는 숫자나 문자로 변경할 수 있습니다.\n",
        "</br></br>\n",
        "\n",
        "*   첫 번째 방법 : pd.Series([값], index=[인덱스명])\n",
        "\n",
        "    Series를 인덱스명을 따로 지정하여 다시 정의를 내립니다.\n",
        "    </br> </br>\n",
        "\n",
        "*   두 번째 방법 : 변수명.index = [인덱스명]\n",
        "    \n",
        "    직접적으로 변수의 인덱스를 지정합니다."
      ],
      "metadata": {
        "id": "xdJ5G-ImLWkX"
      }
    },
    {
      "cell_type": "markdown",
      "source": [
        "ㅤ"
      ],
      "metadata": {
        "id": "dPkGPCQmKyMf"
      }
    },
    {
      "cell_type": "markdown",
      "source": [
        "### **4) Series 인덱스를 대표하는 이름을 따로 설정하기**\n",
        "\n",
        "\n",
        "\n"
      ],
      "metadata": {
        "id": "5KSEnVOhKyZO"
      }
    },
    {
      "cell_type": "markdown",
      "source": [
        "*   변수명.index.names = “인덱스 이름”"
      ],
      "metadata": {
        "id": "LRmZWWzSLeLE"
      }
    },
    {
      "cell_type": "markdown",
      "source": [
        "i_name이 인덱스 전체를 대표하는 이름으로 맨 위에 작성되어 출력됩니다."
      ],
      "metadata": {
        "id": "Orc14T9oBc3u"
      }
    },
    {
      "cell_type": "markdown",
      "source": [
        "ㅤ"
      ],
      "metadata": {
        "id": "V-O7xl4JLE2z"
      }
    },
    {
      "cell_type": "markdown",
      "source": [
        "### **5) Dictionary 자료형을 Series로 변경하기**\n"
      ],
      "metadata": {
        "id": "tWESa9uuLFCX"
      }
    },
    {
      "cell_type": "markdown",
      "source": [
        "*    dictionary 자료형을 값으로 갖는 변수를 지정한 후, 그 변수를 이용하여 Series를 정의합니다.\n",
        "\n",
        "*   이때, dictionary의 key 부분이 Series의 index에 할당됩니다.\n",
        "</br> </br>\n",
        "\n",
        "* 변수명 = {dictionary 값}\n",
        "\n",
        "  pd.Series(변수명)\n",
        "\n",
        "\n",
        "     "
      ],
      "metadata": {
        "id": "P9LZDnHKLkjN"
      }
    },
    {
      "cell_type": "markdown",
      "source": [
        "ㅤ"
      ],
      "metadata": {
        "id": "isL0k6W2MI4p"
      }
    },
    {
      "cell_type": "markdown",
      "source": [
        "ㅤ"
      ],
      "metadata": {
        "id": "Wysm0fjifpBX"
      }
    },
    {
      "cell_type": "markdown",
      "source": [
        "## **5. DataFrame 생성**"
      ],
      "metadata": {
        "id": "aSnypLmqODeA"
      }
    },
    {
      "cell_type": "markdown",
      "source": [
        "\n",
        "### **1) DataFrame 직접 생성하기**\n",
        "\n",
        "\n",
        "\n",
        "\n"
      ],
      "metadata": {
        "id": "CEiKKN8fM2vZ"
      }
    },
    {
      "cell_type": "markdown",
      "source": [
        "pd.DataFrame 클래스 생성자를 이용하여 생성하는 방법입니다.\n",
        "</br> </br>\n",
        "\n",
        "**[numpy array 이용]**\n",
        "\n",
        " 1.   먼저 리스트를 생성합니다\n",
        " 2.   np.array()로 미리 생성한 리스트를 nparray로 바꿉니다.\n",
        " 3.   pd.DataFrame 클래스 생성자를 이용하여 Dataframe을 직접 생성합니다.\n",
        "\n",
        "      - 변수명 = pd.DataFrame(nparray, index, columns)\n",
        "      </br> </br>\n",
        "\n",
        "**[Dictionary 이용]**\n",
        "\n",
        " 1.   첫 번째 변수에 Dictionary 자료형을 갖는 데이터를 입력합니다.\n",
        "\n",
        "      - 변수명1 = dictionary 데이터 생성\n",
        "\n",
        " 2.   pd.DataFrame 클래스 생성자를 이용하여 Dataframe을 직접 생성합니다.\n",
        "\n",
        "      - 변수명2 = pd.DataFrame(변수명1)\n"
      ],
      "metadata": {
        "id": "yJOULXBeLtOV"
      }
    },
    {
      "cell_type": "markdown",
      "source": [
        "ㅤ"
      ],
      "metadata": {
        "id": "OxNiSSjLy7xY"
      }
    },
    {
      "cell_type": "markdown",
      "source": [
        "딕셔너리 자료형을 이용하여 데이터프레임을 생성할 때는 칼럼명만 명시할 수 있고 인덱스명은 따로 명시하지 못합니다."
      ],
      "metadata": {
        "id": "nTFZ2vcaDfSK"
      }
    },
    {
      "cell_type": "markdown",
      "source": [
        "ㅤ"
      ],
      "metadata": {
        "id": "MtTMssTsRmnr"
      }
    },
    {
      "cell_type": "markdown",
      "source": [
        "### **2) 파일을 불러 Dataframe 생성하기**\n"
      ],
      "metadata": {
        "id": "byR_80wwRoSX"
      }
    },
    {
      "cell_type": "markdown",
      "source": [
        "*   **pd.read_csv()** API를 사용하여 csv 외 필드 구분 문자 기반의 파일 포맷도 DataFrame으로 변환합니다. 디폴트 필드 구분 문자는 ‘,’ (콤마)입니다.\n",
        "    </br> </br>\n",
        "                                \n",
        "   \n",
        "*  **pd.read_csv(파일경로/파일명, sep=‘ 필드 구분 문자 ’)**\n",
        "</br> </br>\n",
        "\n",
        "> 필드 구분 문자 : ‘,’ (콤마), ‘\\t’ (탭)\n",
        "\n"
      ],
      "metadata": {
        "id": "KkJoiLhkL4_a"
      }
    },
    {
      "cell_type": "markdown",
      "source": [
        "ㅤ"
      ],
      "metadata": {
        "id": "DCPDbqyWzC4S"
      }
    },
    {
      "cell_type": "code",
      "source": [
        "# 코랩 사용시\n",
        "from google.colab import drive  # 구글 드라이브에 파일 생성\n",
        "drive.mount('/content/drive')"
      ],
      "metadata": {
        "colab": {
          "base_uri": "https://localhost:8080/"
        },
        "id": "i3DJrs14CpTK",
        "outputId": "4c4ac94a-bc59-4f96-8440-4235c76b8a0c"
      },
      "execution_count": null,
      "outputs": [
        {
          "output_type": "stream",
          "name": "stdout",
          "text": [
            "Mounted at /content/drive\n"
          ]
        }
      ]
    },
    {
      "cell_type": "markdown",
      "source": [
        "코랩을 사용할 경우 위 코드를 사용하여 구글 드라이브에 파일을 생성 후 그 파일에 데이터 파일을 넣습니다.\n"
      ],
      "metadata": {
        "id": "IKRTPTaCX622"
      }
    },
    {
      "cell_type": "markdown",
      "source": [
        "https://kosis.kr/statHtml/statHtml.do?orgId=112&tblId=TX_11202_A001&vw_cd=MT_ZTITLE&list_id=F_57&scrId=&seqNo=&lang_mode=ko&obj_var_id=&itm_id=&conn_path=MT_ZTITLE&path=%252FstatisticsList%252FstatisticsListIndex.do\n",
        "\n",
        "주제별 통계 > 보건 > 학생건강검사 > 시도별 학생표본 키 검사\n",
        "\n",
        "행렬전환 >  시점, 성별,시도별을 행으로, 연령별, 학교별을 열로 변환\n",
        "조회설정 > 지역: 서울만 선택, 시점 : 2015-2021년, 성별: 남자 혹은 여자 선택\n",
        "파일 다운로드 csv 형태, 파일 열어서 첫 줄 삭제"
      ],
      "metadata": {
        "id": "_at2024bM3I5"
      }
    },
    {
      "cell_type": "markdown",
      "source": [
        "\n",
        "- 맥은 utf-8 방식을 쓰고 윈도우는 cp949 방식 사용\n",
        "- 한글 인코딩: Microsoft사에서 만든 cp949/ms949 인코딩, euc-kr인코딩, utf-8 인코딩 등등\n",
        "-- 해결책 (1) - engine='python'\n",
        "-- 해결책 (2) - encoding='utf-8'\n",
        "-- 해결책 (3) - encoding='cp949'  # 한글이 깨지거나 읽을 때 오류가 발생한다면\n",
        "-- 해결책 (4) - Excel에서 인코딩 옵션 변경 (다른 이름으로 저장에서 - CSV UTF-8 (쉼표로 분리) 로 변경하여 저장)"
      ],
      "metadata": {
        "id": "2mwkXygtQj-M"
      }
    },
    {
      "cell_type": "markdown",
      "source": [
        "ㅤ"
      ],
      "metadata": {
        "id": "PNcPt6cXYZti"
      }
    },
    {
      "cell_type": "markdown",
      "source": [
        "파일을 불러오는 pd.read_csv를 사용할 때, 파일 경로 붙여넣고 그 뒤에 자신이 설정한 파일명과 데이터 파일 이름을 기입합니다."
      ],
      "metadata": {
        "id": "7Lv3M80OYiiI"
      }
    },
    {
      "cell_type": "markdown",
      "source": [
        "ㅤ"
      ],
      "metadata": {
        "id": "caF_RLGEY5N4"
      }
    },
    {
      "cell_type": "markdown",
      "source": [
        "## **6. Dataframe 데이터 확인**"
      ],
      "metadata": {
        "id": "2QUepetLY5ak"
      }
    },
    {
      "cell_type": "markdown",
      "source": [
        "### **1) 데이터 출력하기**\n",
        "\n"
      ],
      "metadata": {
        "id": "zfB3Zcs0ZAoq"
      }
    },
    {
      "cell_type": "markdown",
      "source": [
        "* .info() : 데이터의 정보 보기"
      ],
      "metadata": {
        "id": "tKVPlmJPRTVG"
      }
    },
    {
      "cell_type": "code",
      "source": [
        "df.info()"
      ],
      "metadata": {
        "id": "pYs6odpjRbd6"
      },
      "execution_count": null,
      "outputs": []
    },
    {
      "cell_type": "markdown",
      "source": [
        "* 메모리를 많이 차지하는 데이터는 OOM 에러 발생"
      ],
      "metadata": {
        "id": "loIfUmXsR81k"
      }
    },
    {
      "cell_type": "code",
      "source": [
        "df.info(memory_usage='deep')"
      ],
      "metadata": {
        "id": "yuzikHdCSIsE"
      },
      "execution_count": null,
      "outputs": []
    },
    {
      "cell_type": "markdown",
      "source": [
        "*   .head() : 상위 5개의 자료를 출력하는 메소드이다. 직접 입력한 값만큼 데이터를 출력합니다.\n",
        "\n",
        "*   .tail() : 하위 5개의 자료를 출력하는 메소드이다. 직접 입력한 값만큼 데이터를 출력합니다."
      ],
      "metadata": {
        "id": "VMAV6WH-MQBf"
      }
    },
    {
      "cell_type": "markdown",
      "source": [
        "ㅤ"
      ],
      "metadata": {
        "id": "DKaa7oN5bByY"
      }
    },
    {
      "cell_type": "markdown",
      "source": [
        "### **2) 행과 열만 출력하기**"
      ],
      "metadata": {
        "id": "CL-LCK4SFQud"
      }
    },
    {
      "cell_type": "markdown",
      "source": [
        "\n",
        "\n",
        "\n",
        "*   .index : 인덱스를 출력합니다. (행)\n",
        "\n",
        "*   .columns : 칼럼을 출력합니다. (열)\n",
        "\n"
      ],
      "metadata": {
        "id": "JkyGBUHhbCEH"
      }
    },
    {
      "cell_type": "markdown",
      "source": [
        "인덱스와 칼럼 값이 무엇인지 한번에 확인할 때 유용한 속성입니다."
      ],
      "metadata": {
        "id": "hdVqGEaLrKwV"
      }
    },
    {
      "cell_type": "markdown",
      "source": [
        "ㅤ"
      ],
      "metadata": {
        "id": "LJpI-qzwckya"
      }
    },
    {
      "cell_type": "markdown",
      "source": [
        "### **3) 데이터 값 출력하기**"
      ],
      "metadata": {
        "id": "MA0i8tkLFWSy"
      }
    },
    {
      "cell_type": "markdown",
      "source": [
        "\n",
        "\n",
        "\n",
        "*   .values : 자료의 데이터 값을 모두 출력합니다.\n",
        "\n",
        "\n"
      ],
      "metadata": {
        "id": "gxJY2YdlclRK"
      }
    },
    {
      "cell_type": "markdown",
      "source": [
        "array 형태로 모든 데이터 값이 출력됩니다."
      ],
      "metadata": {
        "id": "OlK8TNwjruHk"
      }
    },
    {
      "cell_type": "markdown",
      "source": [
        "ㅤ"
      ],
      "metadata": {
        "id": "w6vl2F3We-Nv"
      }
    },
    {
      "cell_type": "markdown",
      "source": [
        "### **4) 데이터 특징 확인하기**"
      ],
      "metadata": {
        "id": "BEK8aG8pFgRX"
      }
    },
    {
      "cell_type": "markdown",
      "source": [
        "*   [‘칼럼명’].unique() : 해당 칼럼에 할당된 데이터의 고유한 값의 종류 파악할 수 있는 메소드입니다.\n",
        "\n",
        "*   [‘칼럼명’].nunique() : 해당 데이터의 고유한 값의 수 파악할 수 있는 메소드입니다.\n",
        "</br></br>\n",
        "\n",
        "*   .value_counts() :특정 칼럼값의 유형과 데이터값의 건수를 반환하는 메소드입니다. 데이터 분포도를 확인하는데 유용합니다.\n",
        "  - 변수명['칼럼명'].value_counts() : 칼럼명에 확인하고자 하는 칼럼명을 기입한 후 출력합니다.\n",
        "</br></br>\n",
        "\n",
        "*   .describe() : 칼럼 별로 통계 정보 출력하는 메소드입니다.\n",
        "\n",
        "    - 출력 가능한 통계 자료 : count(개수), mean(평균), std(표준편차), min(최솟값), 4분위수(25%, 50%, 75%), max(최댓값)\n",
        "\n",
        "\n"
      ],
      "metadata": {
        "id": "mHIML1uVdCYZ"
      }
    },
    {
      "cell_type": "markdown",
      "source": [
        "ㅤ"
      ],
      "metadata": {
        "id": "td4ZaY0jzMT2"
      }
    },
    {
      "cell_type": "markdown",
      "source": [
        "ㅤ"
      ],
      "metadata": {
        "id": "qXb-5WRnzKKM"
      }
    },
    {
      "cell_type": "markdown",
      "source": [
        "ㅤ"
      ],
      "metadata": {
        "id": "4XnmJLSG5Fk9"
      }
    },
    {
      "cell_type": "markdown",
      "source": [
        "ㅤ\n"
      ],
      "metadata": {
        "id": "Bwhm638Tev4T"
      }
    },
    {
      "cell_type": "markdown",
      "source": [
        "통계 자료를 출력할 때, 가능한 자료형을 가지고 있는지 미리 확인해야 합니다.\n",
        "\n",
        "예를 들어 문자형의 데이터를 가지고 있는 칼럼은 평균값을 출력시키지 못하고 에러가 뜨게 됩니다.\n",
        "</br></br>\n",
        "\n",
        "count나 mean 외 다른 통계 값도 똑같이 적용됩니다.\n",
        "\n",
        "예시 : df.std(), df.min(), df.max() 등"
      ],
      "metadata": {
        "id": "NPZ-hddFF4bS"
      }
    },
    {
      "cell_type": "markdown",
      "source": [
        "* df.shape : 행과열의 개수\n",
        "* len(df) : 행의 갯수\n",
        "* len(df.columns) : 열의 개수"
      ],
      "metadata": {
        "id": "90r0hKScThr1"
      }
    },
    {
      "cell_type": "markdown",
      "source": [
        "ㅤ"
      ],
      "metadata": {
        "id": "5OZ9h25YnGKV"
      }
    },
    {
      "cell_type": "markdown",
      "source": [
        "## **7. Dataframe 데이터 정렬**"
      ],
      "metadata": {
        "id": "QAkLms4jnGXH"
      }
    },
    {
      "cell_type": "markdown",
      "source": [
        "### **1) 데이터 값을 기준으로 정렬**\n",
        "\n",
        "\n"
      ],
      "metadata": {
        "id": "8IRW-qGUggSD"
      }
    },
    {
      "cell_type": "markdown",
      "source": [
        "*   .sort_values() : 데이터 값을 기준으로 행과 열을 정렬하는 메소드입니다. 디폴트 값은 인덱스를 기준으로 오름차순 정렬됩니다. NaN(결측값)이 있다면 그 값은 맨 마지막에 위치합니다. 문자열은 ㄱㄴㄷ(한글), abc(영어) 순으로 정렬합니다.\n",
        "</br></br>\n",
        "\n",
        "*   변수명[‘특정 칼럼명’].sort_values() : 특정 칼럼명을 추출한 후 그 값을 정렬하는 방법입니다.\n",
        "</br></br>\n",
        "\n",
        "*   .sort_values() 파라미터\n",
        "\n",
        "    by : 특정 칼럼을 기준으로 정렬\n",
        "    \n",
        "    ascending : 정렬의 방향 (True: 오름차순, False: 내림차순)\n",
        "\n",
        "    axis : 정렬할 대상 축 (=0: 인덱스 기준, =1: 칼럼 기준)"
      ],
      "metadata": {
        "id": "6xKP5tv4Mcm8"
      }
    },
    {
      "cell_type": "markdown",
      "source": [
        "ㅤ"
      ],
      "metadata": {
        "id": "SBOkXyEEzX93"
      }
    },
    {
      "cell_type": "markdown",
      "source": [
        "ㅤ"
      ],
      "metadata": {
        "id": "QEOPU_s8wXnI"
      }
    },
    {
      "cell_type": "markdown",
      "source": [
        "ㅤ"
      ],
      "metadata": {
        "id": "QuejgALApP1G"
      }
    },
    {
      "cell_type": "markdown",
      "source": [
        "### **2) 인덱스 값을 기준으로 정렬**\n"
      ],
      "metadata": {
        "id": "zSSiGnQvnp1o"
      }
    },
    {
      "cell_type": "markdown",
      "source": [
        "*   .sort_index() : 인덱스 값을 기준으로 행과 열을 정렬합니다. 디폴트 값은 인덱스를 기준으로 오름차순 정렬됩니다.\n",
        "</br>\n",
        "\n",
        "*   .sort_index()의 파라미터\n",
        "\n",
        "    ascending : 정렬의 방향 (True: 오름차순, False: 내림차순)"
      ],
      "metadata": {
        "id": "_5SvElB_Mz2U"
      }
    },
    {
      "cell_type": "markdown",
      "source": [
        "ㅤ"
      ],
      "metadata": {
        "id": "ezxagHhom2FT"
      }
    },
    {
      "cell_type": "markdown",
      "source": [
        "오름차순으로 정렬된 첫번째 코드의 출력값에 반해 ascending=False을 넣은 두번째 코드의 출력값은 큰값에서 작은값으로 정렬되는 내림차순으로 출력되었습니다."
      ],
      "metadata": {
        "id": "nJBGUKPIwlpB"
      }
    },
    {
      "cell_type": "markdown",
      "source": [
        "ㅤ"
      ],
      "metadata": {
        "id": "8tFopl5UpRC4"
      }
    },
    {
      "cell_type": "markdown",
      "source": [
        "## **8. Dataframe 데이터 선택**"
      ],
      "metadata": {
        "id": "LosKkc8jpRiX"
      }
    },
    {
      "cell_type": "markdown",
      "source": [
        "* 열 인덱싱 : 컬럼 값이 아닌 컬럼 이름으로\n",
        "* 행 인덱싱 : 인덱스 이름으로\n",
        "* 자료 1개 가져올 때는 열인덱싱 -> 행인덱싱 방식\n",
        "* 불리안 인덱싱 : 조건을 찾을 컬럼 이름으로 조건식 만들어서\n",
        "~~~\n",
        "df [ '칼럼이름' ] 하나의 열만 인덱싱\n",
        "df [ [ '칼럼이름' ] ] 하나의 열만 인덱싱 하는데 데이터프레임모양으로 출력\n",
        "df [ [ '칼럼이름1', '칼럼이름2' ] ] 여러개의 열은 리스트로 인덱싱\n",
        "~~~"
      ],
      "metadata": {
        "id": "h1_iMzhva4ls"
      }
    },
    {
      "cell_type": "markdown",
      "source": [
        "*   슬라이싱 이용 : df[컬럼명], df[시작인덱스:끝인덱스+1], df[시작인덱스명:끝인덱스명]\n",
        "\n",
        "*   .loc[행, 열] : 라벨의 이름을 이용하여 데이터 선택 (명칭 기반)\n",
        "\n",
        "*   .iloc[인덱스 번호] : 위치를 나타내는 인덱스 번호 이용하여 데이터 선택 (위치 기반)\n",
        "</br></br>\n",
        "\n",
        "\n",
        "> 추가적으로 ix는 최근에 사라졌으니 참고 부탁드립니다."
      ],
      "metadata": {
        "id": "e_i5MUbkIurO"
      }
    },
    {
      "cell_type": "markdown",
      "source": [
        "ㅤ"
      ],
      "metadata": {
        "id": "OKWSRsUbzcoY"
      }
    },
    {
      "cell_type": "markdown",
      "source": [
        "* 행인덱싱은 항상 슬라이싱 형식으로 가져오기 ex) df[1:3]\n",
        "* 단일행을 가져오려면 슬라이싱 형태로 만들어서 가져오기 ex) df[3:4]\n",
        "* 문자라벨로 인덱싱할때는 끝라벨 포함 ex) df['a':'c']\n",
        "* 부분배열 불가능 ex)df[1,3,5] <-오류"
      ],
      "metadata": {
        "id": "y4bIRslbb5JY"
      }
    },
    {
      "cell_type": "markdown",
      "source": [
        "ㅤ"
      ],
      "metadata": {
        "id": "D3L-3pKWmDt-"
      }
    },
    {
      "cell_type": "markdown",
      "source": [
        "ㅤ"
      ],
      "metadata": {
        "id": "UZPgo6aUxfKX"
      }
    },
    {
      "cell_type": "markdown",
      "source": [
        "ㅤ"
      ],
      "metadata": {
        "id": "q94JC0AwmGqu"
      }
    },
    {
      "cell_type": "markdown",
      "source": [
        "ㅤ"
      ],
      "metadata": {
        "id": "_gJBGksGzhYR"
      }
    },
    {
      "cell_type": "markdown",
      "source": [
        "## **9. Dataframe 데이터 생성**"
      ],
      "metadata": {
        "id": "QDYE4HFMvrF7"
      }
    },
    {
      "cell_type": "markdown",
      "source": [
        "*   데이터프레임[칼럼명] = 값 : 새로운 칼럼에 값을 생성\n",
        "*  이미 있는 컬럼이면 값으로 수정되고, 없으면 생성"
      ],
      "metadata": {
        "id": "7SBWv3s8JKlX"
      }
    },
    {
      "cell_type": "markdown",
      "source": [
        "기존에 있던 데이터프레임을 새로운 변수 df1로 새로 생성합니다.\n",
        "\n",
        "df1에 0의 데이터 값을 가진 18세 칼럼을 생성합니다."
      ],
      "metadata": {
        "id": "GAOlW6J85daX"
      }
    },
    {
      "cell_type": "markdown",
      "source": [
        "ㅤ"
      ],
      "metadata": {
        "id": "zmcLyLoJ-qGk"
      }
    },
    {
      "cell_type": "markdown",
      "source": [
        "## **10. Dataframe 데이터 변경**"
      ],
      "metadata": {
        "id": "2ET3RZmjvwF2"
      }
    },
    {
      "cell_type": "markdown",
      "source": [
        "### **1) 위치 변경**"
      ],
      "metadata": {
        "id": "GBn8EWQkJ90D"
      }
    },
    {
      "cell_type": "markdown",
      "source": [
        "*  .at[행, 열] = 값 : 라벨의 이름을 이용하여 원하는 위치의 값을 변경할 수 있습니다.\n",
        "\n",
        "*  .iat[인덱스번호] = 값 : 인덱스 번호를 이용한 위치의 값을 변경할 수 있습니다."
      ],
      "metadata": {
        "id": "OdBN-R0xJpHv"
      }
    },
    {
      "cell_type": "markdown",
      "source": [
        "ㅤ"
      ],
      "metadata": {
        "id": "w3Lo8eEizj5q"
      }
    },
    {
      "cell_type": "markdown",
      "source": [
        "ㅤ"
      ],
      "metadata": {
        "id": "s3y5XL798Mx4"
      }
    },
    {
      "cell_type": "markdown",
      "source": [
        "ㅤ"
      ],
      "metadata": {
        "id": "LsI1KFCM8arQ"
      }
    },
    {
      "cell_type": "markdown",
      "source": [
        "### **2) 행과 열 교환하기**"
      ],
      "metadata": {
        "id": "E9A_2OuWJpT3"
      }
    },
    {
      "cell_type": "markdown",
      "source": [
        "\n",
        "\n",
        "\n",
        "*   .T : ‘Transpose index and columns’의 약자로, index 와 column 을 전치시킵니다.\n"
      ],
      "metadata": {
        "id": "l-Kie4JVJpT3"
      }
    },
    {
      "cell_type": "markdown",
      "source": [
        "행과 열의 위치가 바뀐 것을 확인할 수 있습니다."
      ],
      "metadata": {
        "id": "smGwGddcJpT4"
      }
    },
    {
      "cell_type": "markdown",
      "source": [
        "ㅤ"
      ],
      "metadata": {
        "id": "R7KzQjvUnTnD"
      }
    },
    {
      "cell_type": "markdown",
      "source": [
        "## **11. Dataframe 데이터 결합**"
      ],
      "metadata": {
        "id": "IwgOu4G8AeA_"
      }
    },
    {
      "cell_type": "markdown",
      "source": [
        "### **1) concat**"
      ],
      "metadata": {
        "id": "BliTMVP9LTeA"
      }
    },
    {
      "cell_type": "markdown",
      "source": [
        "*   concat은 concatenation의 약자로 연결을 의미합니다. 즉, 두 개 이상의 데이터프라임 결합할 때 사용하는 메소드입니다. (속성형태가 같은 데이터프레임 합칠 때)\n",
        "\n",
        "*   pd.concat([데이터프라임], [데이터프라임])\n",
        "\n",
        "*   axis: 어떻게 결합할 건지 결정하는 파라미터입니다.\n",
        "\n",
        "  - 0: 열 (디폴트), 1: 행"
      ],
      "metadata": {
        "id": "bwXiV9hCLhMy"
      }
    },
    {
      "cell_type": "markdown",
      "source": [
        "ㅤ"
      ],
      "metadata": {
        "id": "6Q-erswaMdXu"
      }
    },
    {
      "cell_type": "markdown",
      "source": [
        "concat은 칼럼과 인덱스를 기준으로 병합하는데 공통된 칼럼이나 인덱스가 없어 NaN을 포함하여 결합하게 됩니다."
      ],
      "metadata": {
        "id": "KAZwo4iECVkQ"
      }
    },
    {
      "cell_type": "markdown",
      "source": [
        "ㅤ"
      ],
      "metadata": {
        "id": "n3by5PcYl7Hm"
      }
    },
    {
      "cell_type": "markdown",
      "source": [
        "공통된 인덱스가 존재하여 아까와는 다르게 NaN 값이 포함하지 않고 결합할 수 있습니다."
      ],
      "metadata": {
        "id": "b7fSnAtGCvNo"
      }
    },
    {
      "cell_type": "markdown",
      "source": [
        "ㅤ"
      ],
      "metadata": {
        "id": "wq9J93wsl-Mx"
      }
    },
    {
      "cell_type": "markdown",
      "source": [
        "반대로 공통된 칼럼이 존재하고 열으로 병합하게 되면 NaN 값을 발생하지 않고 합쳐지게 됩니다."
      ],
      "metadata": {
        "id": "rOB6cdWgMh2C"
      }
    },
    {
      "cell_type": "markdown",
      "source": [
        "ㅤ"
      ],
      "metadata": {
        "id": "4eIvU6GrIyyp"
      }
    },
    {
      "cell_type": "markdown",
      "source": [
        "### **2) append**"
      ],
      "metadata": {
        "id": "KBJQIqLOMm9i"
      }
    },
    {
      "cell_type": "markdown",
      "source": [
        "*   concat과 달리 행으로 결합이 가능합니다. (열로 결합 불가능)\n",
        "\n",
        "*   데이터프레임1.append(데이터프레임2)"
      ],
      "metadata": {
        "id": "yObSlBhyMvNY"
      }
    },
    {
      "cell_type": "markdown",
      "source": [
        "ㅤ"
      ],
      "metadata": {
        "id": "dZTt-qTXORSj"
      }
    },
    {
      "cell_type": "markdown",
      "source": [
        "\n",
        "\n",
        "---\n",
        "\n"
      ],
      "metadata": {
        "id": "NUCBgVFsORg6"
      }
    },
    {
      "cell_type": "markdown",
      "source": [
        "## **12. Dataframe 데이터 복사와 삭제**\n"
      ],
      "metadata": {
        "id": "2YwYr4bYk8Yg"
      }
    },
    {
      "cell_type": "markdown",
      "source": [
        "### **1) 데이터 프레임 복제**\n",
        "df_original = df.copy()"
      ],
      "metadata": {
        "id": "tmepfCxqF_9f"
      }
    },
    {
      "cell_type": "markdown",
      "source": [
        "### **2) 행이나 열 삭제**\n",
        "- DataFrame.drop(labels=None, axis=0, index=None, columns=None, level=None, inplace=False, errors='raise')\n",
        "  - label 열이나 행\n",
        "  - axis: 0 행, 1 열, 디폴트 0"
      ],
      "metadata": {
        "id": "ckrMSL7JlF15"
      }
    },
    {
      "cell_type": "markdown",
      "source": [
        "*  행 여러개 삭제하기\n",
        "-- 데이터프레임.drop(index = 삭제할 인덱스 리스트, inplace = True)\n",
        "-- inplace의 기본값은 False, True로 바꿔주면 바로 삭제하겠다 라는 뜻"
      ],
      "metadata": {
        "id": "09jgDJZ5G9IY"
      }
    },
    {
      "cell_type": "markdown",
      "source": [
        "## **13. Dataframe 함수**\n"
      ],
      "metadata": {
        "id": "b8YTPtqoMzTq"
      }
    },
    {
      "cell_type": "markdown",
      "source": [
        "min(), max(), median(), mean(), std(), var(), sum()\n",
        "\n",
        "\n",
        "* 하나의 행의 모든값들을 더하기\n",
        "df.sum()\n",
        "\n",
        "* 하나의 열의 모든값들을 더하기\n",
        "df.sum(axis=1)\n",
        "\n",
        "* 한가지 열의 합계만 출력하기\n",
        "df[\"열의 이름\"].sum()\n",
        "\n",
        "* 한가지 행의 합계만 출력하기\n",
        "df.loc[\"행의 이름\"].sum()\n",
        "\n",
        "* df.isnull()은 null값이 몇개 있는지\n",
        "\n",
        "* df.isnull().sum()을 하면 열별로 null값이 몇개 있는"
      ],
      "metadata": {
        "id": "6o-sWAwaM09A"
      }
    },
    {
      "cell_type": "markdown",
      "source": [
        "여러가지 칼럼을 통계함수로 묶어보기\n",
        "* df.groupby(['나이', '전투력']).mean()\n",
        "* 여러개의 칼럼을 적어줄때는 [ ] 리스트안에 ,(쉼표)로 구분"
      ],
      "metadata": {
        "id": "tM3Wp59ENWSf"
      }
    }
  ]
}