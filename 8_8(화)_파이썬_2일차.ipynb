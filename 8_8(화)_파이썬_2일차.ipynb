{
  "nbformat": 4,
  "nbformat_minor": 0,
  "metadata": {
    "colab": {
      "provenance": [],
      "authorship_tag": "ABX9TyPABVHGL1pcg5bL/lZ/TQxv",
      "include_colab_link": true
    },
    "kernelspec": {
      "name": "python3",
      "display_name": "Python 3"
    },
    "language_info": {
      "name": "python"
    }
  },
  "cells": [
    {
      "cell_type": "markdown",
      "metadata": {
        "id": "view-in-github",
        "colab_type": "text"
      },
      "source": [
        "<a href=\"https://colab.research.google.com/github/lsy1127/bioinfomatics/blob/main/8_8(%ED%99%94)_%ED%8C%8C%EC%9D%B4%EC%8D%AC_2%EC%9D%BC%EC%B0%A8.ipynb\" target=\"_parent\"><img src=\"https://colab.research.google.com/assets/colab-badge.svg\" alt=\"Open In Colab\"/></a>"
      ]
    },
    {
      "cell_type": "code",
      "execution_count": null,
      "metadata": {
        "colab": {
          "base_uri": "https://localhost:8080/",
          "height": 35
        },
        "id": "cCbSM7TsnAc5",
        "outputId": "93e4f1b1-fac6-416a-85c2-129c32cb6686"
      },
      "outputs": [
        {
          "output_type": "execute_result",
          "data": {
            "text/plain": [
              "'       파이썬'"
            ],
            "application/vnd.google.colaboratory.intrinsic+json": {
              "type": "string"
            }
          },
          "metadata": {},
          "execution_count": 20
        }
      ],
      "source": [
        "\"{0:>10}\".format(\"파이썬\")"
      ]
    },
    {
      "cell_type": "code",
      "source": [
        "\"{0:<10}\".format(\"파이썬\")"
      ],
      "metadata": {
        "colab": {
          "base_uri": "https://localhost:8080/",
          "height": 35
        },
        "id": "fzXxqWPFqjb_",
        "outputId": "dd531877-739d-467a-ecee-f535df2eecd7"
      },
      "execution_count": null,
      "outputs": [
        {
          "output_type": "execute_result",
          "data": {
            "text/plain": [
              "'파이썬       '"
            ],
            "application/vnd.google.colaboratory.intrinsic+json": {
              "type": "string"
            }
          },
          "metadata": {},
          "execution_count": 11
        }
      ]
    },
    {
      "cell_type": "code",
      "source": [
        "\"{0:a^10}\".format(\"파이썬\")"
      ],
      "metadata": {
        "colab": {
          "base_uri": "https://localhost:8080/",
          "height": 35
        },
        "id": "0jcah5wGrBW9",
        "outputId": "fbe6e326-c455-4955-8f79-a5bce85449c2"
      },
      "execution_count": null,
      "outputs": [
        {
          "output_type": "execute_result",
          "data": {
            "text/plain": [
              "'aaa파이썬aaaa'"
            ],
            "application/vnd.google.colaboratory.intrinsic+json": {
              "type": "string"
            }
          },
          "metadata": {},
          "execution_count": 26
        }
      ]
    },
    {
      "cell_type": "code",
      "source": [
        "print(\"=\"*30)\n",
        "print(\"a\"*30)"
      ],
      "metadata": {
        "colab": {
          "base_uri": "https://localhost:8080/"
        },
        "id": "xvj5ZfOkrKwM",
        "outputId": "dbbb21c5-a63d-45e0-e7cc-7b9b9187aa1a"
      },
      "execution_count": null,
      "outputs": [
        {
          "output_type": "stream",
          "name": "stdout",
          "text": [
            "==============================\n",
            "aaaaaaaaaaaaaaaaaaaaaaaaaaaaaa\n"
          ]
        }
      ]
    },
    {
      "cell_type": "markdown",
      "source": [
        "딕셔너리 순서없음.\n",
        "%10s 10자리 문자열.\n"
      ],
      "metadata": {
        "id": "1V7D64PovJet"
      }
    },
    {
      "cell_type": "markdown",
      "source": [
        "\"I eat {} apples\". format(3)"
      ],
      "metadata": {
        "id": "BNAeHQxrwfNZ"
      }
    },
    {
      "cell_type": "code",
      "source": [
        "\"I eat {} apples\". format(\"five\")"
      ],
      "metadata": {
        "colab": {
          "base_uri": "https://localhost:8080/",
          "height": 35
        },
        "id": "Fv3BMIFoxz7U",
        "outputId": "0a88840a-14a2-46a8-8925-1b92165d88d9"
      },
      "execution_count": null,
      "outputs": [
        {
          "output_type": "execute_result",
          "data": {
            "text/plain": [
              "'I eat five apples'"
            ],
            "application/vnd.google.colaboratory.intrinsic+json": {
              "type": "string"
            }
          },
          "metadata": {},
          "execution_count": 29
        }
      ]
    },
    {
      "cell_type": "code",
      "source": [
        "number=5\n",
        "\"I eat {} apples. So, I'm {}\".format(10,\"full\")"
      ],
      "metadata": {
        "colab": {
          "base_uri": "https://localhost:8080/",
          "height": 35
        },
        "id": "xU3ZCucox2k5",
        "outputId": "79eac88d-4c14-4c2c-b9a1-50be21f42336"
      },
      "execution_count": null,
      "outputs": [
        {
          "output_type": "execute_result",
          "data": {
            "text/plain": [
              "\"I eat 10 apples. So, I'm full\""
            ],
            "application/vnd.google.colaboratory.intrinsic+json": {
              "type": "string"
            }
          },
          "metadata": {},
          "execution_count": 31
        }
      ]
    },
    {
      "cell_type": "code",
      "source": [
        "a=\"사랑해요, 파이썬!\"\n",
        "a[0:3]\n",
        "a[3]"
      ],
      "metadata": {
        "colab": {
          "base_uri": "https://localhost:8080/",
          "height": 35
        },
        "id": "fbSzRo1Jzh7j",
        "outputId": "437c7e73-0e55-4bb1-cded-cec525d03c0d"
      },
      "execution_count": null,
      "outputs": [
        {
          "output_type": "execute_result",
          "data": {
            "text/plain": [
              "'요'"
            ],
            "application/vnd.google.colaboratory.intrinsic+json": {
              "type": "string"
            }
          },
          "metadata": {},
          "execution_count": 48
        }
      ]
    },
    {
      "cell_type": "code",
      "source": [
        "a=\"hobby\"\n",
        "a.count('b')"
      ],
      "metadata": {
        "colab": {
          "base_uri": "https://localhost:8080/"
        },
        "id": "3JPGIOEnzhY7",
        "outputId": "aca2e981-767b-4618-994c-db6989ecc60b"
      },
      "execution_count": null,
      "outputs": [
        {
          "output_type": "execute_result",
          "data": {
            "text/plain": [
              "2"
            ]
          },
          "metadata": {},
          "execution_count": 49
        }
      ]
    },
    {
      "cell_type": "code",
      "source": [
        "str(list(range(1,10001, 1))).count('7')\n",
        "\n"
      ],
      "metadata": {
        "colab": {
          "base_uri": "https://localhost:8080/"
        },
        "id": "c1i_Y6MG0Dyi",
        "outputId": "f660e21f-c17e-4aa4-9731-f63a51dea22b"
      },
      "execution_count": null,
      "outputs": [
        {
          "output_type": "execute_result",
          "data": {
            "text/plain": [
              "4000"
            ]
          },
          "metadata": {},
          "execution_count": 57
        }
      ]
    },
    {
      "cell_type": "code",
      "source": [
        "\"I ate {} apples. So I'm {word}\".format(5,word=\"full\")"
      ],
      "metadata": {
        "colab": {
          "base_uri": "https://localhost:8080/",
          "height": 35
        },
        "id": "GUMNy9WPyDFC",
        "outputId": "b1270c20-dc99-42d2-880e-9b45adcc5963"
      },
      "execution_count": null,
      "outputs": [
        {
          "output_type": "execute_result",
          "data": {
            "text/plain": [
              "\"I ate 5 apples. So I'm full\""
            ],
            "application/vnd.google.colaboratory.intrinsic+json": {
              "type": "string"
            }
          },
          "metadata": {},
          "execution_count": 32
        }
      ]
    },
    {
      "cell_type": "code",
      "source": [
        "\"{0:0.2f}\".format(3.4213423)"
      ],
      "metadata": {
        "colab": {
          "base_uri": "https://localhost:8080/",
          "height": 35
        },
        "id": "cLP3zteHyRsK",
        "outputId": "fe64507a-b89c-415b-f1c6-96e3502b2d34"
      },
      "execution_count": null,
      "outputs": [
        {
          "output_type": "execute_result",
          "data": {
            "text/plain": [
              "'3.42'"
            ],
            "application/vnd.google.colaboratory.intrinsic+json": {
              "type": "string"
            }
          },
          "metadata": {},
          "execution_count": 44
        }
      ]
    },
    {
      "cell_type": "code",
      "source": [
        "a=\" 파이썬\"\n",
        "a.rstrip()"
      ],
      "metadata": {
        "colab": {
          "base_uri": "https://localhost:8080/",
          "height": 35
        },
        "id": "i-aiONUI2NLU",
        "outputId": "3d694b25-1296-4090-ec0c-2962486c145c"
      },
      "execution_count": null,
      "outputs": [
        {
          "output_type": "execute_result",
          "data": {
            "text/plain": [
              "' 파이썬'"
            ],
            "application/vnd.google.colaboratory.intrinsic+json": {
              "type": "string"
            }
          },
          "metadata": {},
          "execution_count": 60
        }
      ]
    },
    {
      "cell_type": "code",
      "source": [
        "a=\"a,b,cd\"\n",
        "a.split(',')"
      ],
      "metadata": {
        "colab": {
          "base_uri": "https://localhost:8080/"
        },
        "id": "KEv_fyCd23lR",
        "outputId": "087a3b9a-5633-47b8-a737-8a679ba3939e"
      },
      "execution_count": null,
      "outputs": [
        {
          "output_type": "execute_result",
          "data": {
            "text/plain": [
              "['a', 'b', 'cd']"
            ]
          },
          "metadata": {},
          "execution_count": 101
        }
      ]
    },
    {
      "cell_type": "code",
      "source": [
        "a=\"python\"\n",
        "print(a.upper())\n",
        "a=\"PYTHON\"\n",
        "print(a.lower())"
      ],
      "metadata": {
        "colab": {
          "base_uri": "https://localhost:8080/"
        },
        "id": "BBviOvbN5rA_",
        "outputId": "d0213439-eb86-43e3-a79a-ae2fca1bb7af"
      },
      "execution_count": null,
      "outputs": [
        {
          "output_type": "stream",
          "name": "stdout",
          "text": [
            "PYTHON\n",
            "python\n"
          ]
        }
      ]
    },
    {
      "cell_type": "code",
      "source": [
        "chr(65)"
      ],
      "metadata": {
        "colab": {
          "base_uri": "https://localhost:8080/",
          "height": 35
        },
        "id": "WklUb5j66viW",
        "outputId": "ab031930-f2f9-4bb5-fab6-897bfc11ba46"
      },
      "execution_count": null,
      "outputs": [
        {
          "output_type": "execute_result",
          "data": {
            "text/plain": [
              "'A'"
            ],
            "application/vnd.google.colaboratory.intrinsic+json": {
              "type": "string"
            }
          },
          "metadata": {},
          "execution_count": 99
        }
      ]
    },
    {
      "cell_type": "code",
      "source": [
        "print(a)"
      ],
      "metadata": {
        "colab": {
          "base_uri": "https://localhost:8080/"
        },
        "id": "B_A_JPKu8ijG",
        "outputId": "2e1a7749-d538-4cdb-e068-be8fd7985dea"
      },
      "execution_count": null,
      "outputs": [
        {
          "output_type": "stream",
          "name": "stdout",
          "text": [
            "a,b,cd\n"
          ]
        }
      ]
    },
    {
      "cell_type": "code",
      "source": [
        "a=\"Life is too short\"\n",
        "a.replace(\"Life\",  \"Your leg\")"
      ],
      "metadata": {
        "colab": {
          "base_uri": "https://localhost:8080/",
          "height": 35
        },
        "id": "eiCb0XbV4qoL",
        "outputId": "5d3401d1-30e7-443d-9972-3dd6f9103159"
      },
      "execution_count": null,
      "outputs": [
        {
          "output_type": "execute_result",
          "data": {
            "text/plain": [
              "'Your leg is too short'"
            ],
            "application/vnd.google.colaboratory.intrinsic+json": {
              "type": "string"
            }
          },
          "metadata": {},
          "execution_count": 88
        }
      ]
    },
    {
      "cell_type": "code",
      "source": [
        "a=\" \"\n",
        "a.join('abcd')"
      ],
      "metadata": {
        "colab": {
          "base_uri": "https://localhost:8080/",
          "height": 35
        },
        "id": "JRuCUMon5GKn",
        "outputId": "6d54b759-a9bf-4580-b133-078649472c54"
      },
      "execution_count": null,
      "outputs": [
        {
          "output_type": "execute_result",
          "data": {
            "text/plain": [
              "'a b c d'"
            ],
            "application/vnd.google.colaboratory.intrinsic+json": {
              "type": "string"
            }
          },
          "metadata": {},
          "execution_count": 91
        }
      ]
    },
    {
      "cell_type": "code",
      "source": [
        "a=\" \"\n",
        "a.join(\"파이썬\")"
      ],
      "metadata": {
        "colab": {
          "base_uri": "https://localhost:8080/",
          "height": 35
        },
        "id": "94AJcDO-5NQr",
        "outputId": "330e45ee-ba49-4320-d27d-dbd597817b0a"
      },
      "execution_count": null,
      "outputs": [
        {
          "output_type": "execute_result",
          "data": {
            "text/plain": [
              "'파 이 썬'"
            ],
            "application/vnd.google.colaboratory.intrinsic+json": {
              "type": "string"
            }
          },
          "metadata": {},
          "execution_count": 93
        }
      ]
    },
    {
      "cell_type": "code",
      "source": [
        "a=\"python\"\n",
        "a.upper"
      ],
      "metadata": {
        "id": "kIMo0RSd5TZE"
      },
      "execution_count": null,
      "outputs": []
    },
    {
      "cell_type": "code",
      "source": [
        "a=\"Python is best choice\"\n",
        "a.split()"
      ],
      "metadata": {
        "colab": {
          "base_uri": "https://localhost:8080/"
        },
        "id": "TYJ-oAE53pRH",
        "outputId": "a5723786-cdc1-4b8e-f04a-7af96f01e0c4"
      },
      "execution_count": null,
      "outputs": [
        {
          "output_type": "execute_result",
          "data": {
            "text/plain": [
              "['Python', 'is', 'best', 'choice']"
            ]
          },
          "metadata": {},
          "execution_count": 76
        }
      ]
    },
    {
      "cell_type": "code",
      "source": [
        "a=\"Life is too short\"\n",
        "a.split()"
      ],
      "metadata": {
        "colab": {
          "base_uri": "https://localhost:8080/"
        },
        "id": "djdzqTnw3LhK",
        "outputId": "abe0e1f0-27ee-408a-834f-9195a4ea16b1"
      },
      "execution_count": null,
      "outputs": [
        {
          "output_type": "execute_result",
          "data": {
            "text/plain": [
              "['Life', 'is', 'too', 'short']"
            ]
          },
          "metadata": {},
          "execution_count": 70
        }
      ]
    },
    {
      "cell_type": "code",
      "source": [
        "\"{0:20.4f}\".format(3.1231231231)"
      ],
      "metadata": {
        "colab": {
          "base_uri": "https://localhost:8080/",
          "height": 35
        },
        "id": "OPtM1tEVyhK1",
        "outputId": "f2340821-aff1-4494-b8c9-1e3646e3bf6d"
      },
      "execution_count": null,
      "outputs": [
        {
          "output_type": "execute_result",
          "data": {
            "text/plain": [
              "'              3.1231'"
            ],
            "application/vnd.google.colaboratory.intrinsic+json": {
              "type": "string"
            }
          },
          "metadata": {},
          "execution_count": 40
        }
      ]
    },
    {
      "cell_type": "code",
      "source": [
        "a=\"hello\"\n",
        "print(a)"
      ],
      "metadata": {
        "colab": {
          "base_uri": "https://localhost:8080/"
        },
        "id": "UEHvnzM48oKC",
        "outputId": "0d6e06db-516f-40fd-bf51-3f6281b0b4c9"
      },
      "execution_count": null,
      "outputs": [
        {
          "output_type": "stream",
          "name": "stdout",
          "text": [
            "hello\n"
          ]
        }
      ]
    },
    {
      "cell_type": "code",
      "source": [
        "s=input('문자열을 입력하세요: ')\n",
        "print(s[::-1])"
      ],
      "metadata": {
        "colab": {
          "base_uri": "https://localhost:8080/"
        },
        "id": "iirqBd5Q-9s5",
        "outputId": "27e63c00-c28d-4899-f3d9-3cddb550e4e0"
      },
      "execution_count": null,
      "outputs": [
        {
          "output_type": "stream",
          "name": "stdout",
          "text": [
            "문자열을 입력하세요: 사랑해요 파이썬\n",
            "썬이파 요해랑사\n"
          ]
        }
      ]
    },
    {
      "cell_type": "code",
      "source": [
        "a=input('파일을 입력하세요: ')\n",
        "print('파일: ',a)\n",
        "b=a.split('.')\n",
        "print('파일명:',b[0], end=' ')\n",
        "print('확장자:',b[1])\n",
        "\n"
      ],
      "metadata": {
        "colab": {
          "base_uri": "https://localhost:8080/"
        },
        "id": "3ph2TjxgAT2s",
        "outputId": "64ca58c4-b891-4894-e611-59c96b18fb6a"
      },
      "execution_count": null,
      "outputs": [
        {
          "output_type": "stream",
          "name": "stdout",
          "text": [
            "파일을 입력하세요: qwe.yu\n",
            "파일:  qwe.yu\n",
            "파일명: qwe 확장자: yu\n"
          ]
        }
      ]
    },
    {
      "cell_type": "code",
      "source": [
        "import datetime\n",
        "now=str(datetime.datetime.now())\n",
        "\n",
        "print(f'값 :{now}')\n",
        "print(f'자료형:{type(now)}')\n",
        "print(now)\n",
        "\n"
      ],
      "metadata": {
        "colab": {
          "base_uri": "https://localhost:8080/"
        },
        "id": "0yImdVafDq7Q",
        "outputId": "a65e9b4e-5e14-4bb4-af9d-053b305b825d"
      },
      "execution_count": null,
      "outputs": [
        {
          "output_type": "stream",
          "name": "stdout",
          "text": [
            "값 :2023-08-08 03:10:03.392646\n",
            "자료형:<class 'str'>\n",
            "2023-08-08 03:10:03.392646\n"
          ]
        }
      ]
    },
    {
      "cell_type": "code",
      "source": [
        "import datetime\n",
        "now=datetime.datetime.now()\n",
        "now.strftime('%Y년 %m월 %d일 %H시 %M분 %S초')\n"
      ],
      "metadata": {
        "colab": {
          "base_uri": "https://localhost:8080/",
          "height": 35
        },
        "id": "kPRkFrFBI-jJ",
        "outputId": "61345609-138e-499c-8179-d36a120c7f55"
      },
      "execution_count": null,
      "outputs": [
        {
          "output_type": "execute_result",
          "data": {
            "text/plain": [
              "'2023년 08월 08일 03시 16분 35초'"
            ],
            "application/vnd.google.colaboratory.intrinsic+json": {
              "type": "string"
            }
          },
          "metadata": {},
          "execution_count": 161
        }
      ]
    },
    {
      "cell_type": "code",
      "source": [
        "import urllib.request\n",
        "import ssl\n",
        "\n",
        "ctx = ssl._create_unverified_context()\n",
        "\n",
        "#환율정보 페이지 불러오기\n",
        "print(\"[환율정보 불러오기]\")\n",
        "URL = \"https://search.naver.com/search.naver?where=nexearch&sm=top_hty&fbm=1&ie=utf8&query=%ED%99%98%EC%9C%A8\"\n",
        "page = urllib.request.urlopen(URL, context=ctx)\n",
        "text = page.read().decode(\"utf8\")  # 해당 페이지의 소스코드\n",
        "\n",
        "print(text)\n",
        "\n",
        "#환율정보 가져오기: 기준시간\n",
        "searchText = 'class=\"grp_info\"> <em>'\n",
        "where      = text.find(searchText)  #소스코드에서 해당 문자열의 시작위치\n",
        "print(f'위치:{where}')\n",
        "print(f'searchtext 길이:{len(searchText)}')\n",
        "targetInfo = text[where+len(searchText):where+len(searchText)+16]\n",
        "print(f'-환율기준시간: {targetInfo}')\n",
        "\n",
        "#환율정보 가져오기: 달러\n",
        "searchText = '<span> 미국 <em>USD</em></span></a></th> <td><span>'\n",
        "where      = text.find(searchText)\n",
        "targetInfo = text[where+len(searchText):where+len(searchText)+8]\n",
        "print(f'-달러: {targetInfo}')\n",
        "\n",
        "#환율정보 가져오기: 위안\n",
        "searchText = '<span> 중국 <em>CNY</em></span></a></th> <td><span>'\n",
        "where      = text.find(searchText)\n",
        "targetInfo = text[where+len(searchText):where+len(searchText)+8]\n",
        "print(f'-위안: {targetInfo}')\n",
        "\n",
        "#환율정보 가져오기: 유로화\n",
        "searchText = '<span> 유럽연합 <em>EUR</em></span></a></th> <td><span>'\n",
        "where      = text.find(searchText)\n",
        "targetInfo = text[where+len(searchText):where+len(searchText)+8]\n",
        "print(f'-유로: {targetInfo}')"
      ],
      "metadata": {
        "colab": {
          "base_uri": "https://localhost:8080/"
        },
        "id": "SdEFbgwGK1Rj",
        "outputId": "5585d544-a94a-4279-814c-e66a7c9f23f8"
      },
      "execution_count": null,
      "outputs": [
        {
          "output_type": "stream",
          "name": "stdout",
          "text": [
            "[환율정보 불러오기]\n",
            "<!doctype html> <html lang=\"ko\"><head> <meta charset=\"utf-8\"> <meta name=\"referrer\" content=\"always\">  <meta name=\"format-detection\" content=\"telephone=no,address=no,email=no\"> <meta name=\"viewport\" content=\"width=device-width,initial-scale=1.0,maximum-scale=2.0\"> <meta property=\"og:title\" content=\"환율 : 네이버 통합검색\"/> <meta property=\"og:image\" content=\"https://ssl.pstatic.net/sstatic/search/common/og_v3.png\"> <meta property=\"og:description\" content=\"'환율'의 네이버 통합검색 결과입니다.\"> <meta name=\"description\" lang=\"ko\" content=\"'환율'의 네이버 통합검색 결과입니다.\"> <title>환율 : 네이버 통합검색</title> <link rel=\"shortcut icon\" href=\"https://ssl.pstatic.net/sstatic/search/favicon/favicon_191118_pc.ico\">  <link rel=\"search\" type=\"application/opensearchdescription+xml\" href=\"https://ssl.pstatic.net/sstatic/search/opensearch-description.https.xml\" title=\"Naver\" /><script> if (top.frames.length!=0 || window!=top) window.open(location, \"_top\"); </script><link rel=\"stylesheet\" type=\"text/css\" href=\"https://ssl.pstatic.net/sstatic/search/pc/css/search1_230803.css\"> <link rel=\"stylesheet\" type=\"text/css\" href=\"https://ssl.pstatic.net/sstatic/search/pc/css/search2_230803.css\"> <link rel=\"stylesheet\" type=\"text/css\" href=\"https://ssl.pstatic.net/sstatic/search/pc/css/sp_autocomplete_220526.css\"><script> naver = window.naver || {}; naver.search = naver.search || {}; naver.search.abt_param = \"\"; </script><script> naver = window.naver || {}; naver.search = naver.search || {}; naver.search.error = (function () { var errorList = Array() ; return { add : function (s) { errorList.push(s) ; }, clear : function () { delete errorList ; }, get : function (s) { return errorList ; }, getString : function (d) { if (typeof d === 'undefined') d = '|' ; return errorList.join(d) ; } } })(); function nx_add_event_handler (event, func) { $Fn(func).attach(document, event) ; } function bt(id, after) { document.getElementById(id).src = after; } function document_write (s) { document.write(s) ; } </script><script> var _nx_js_load = (function () { var scrs = {} ; return function (script, callback) { scrs[script] = {} ; scrs[script].domscript = document.createElement('script'); scrs[script].domscript.src = script ; if (callback) scrs[script].callback = (callback instanceof Array) ? callback : [callback]; scrs[script].domscript.onloadDone = false; scrs[script].domscript.onload = function() { scrs[script].domscript.onloadDone = true; if (scrs[script].callback) { for (var i = 0; i < scrs[script].callback.length; i++) { scrs[script].callback[i]() ; } } scrs[script].domscript.onload = scrs[script].domscript.onreadystatechange = null; } ; scrs[script].domscript.onreadystatechange = function() { if ( (\"loaded\" === scrs[script].domscript.readyState || \"complete\" === scrs[script].domscript.readyState) && !scrs[script].domscript.onloadDone ) { scrs[script].domscript.onload(); } } ; document.getElementsByTagName('head')[0].appendChild(scrs[script].domscript); }; })() ; var nx_js_defer_load = (function() { var info = {} ; return function(scrname, callback, t) { var nx_load_once = (function() { return function(scrname) { if (info[scrname].t > 0) setTimeout(function() { _nx_js_load(scrname, info[scrname].callback) ; }, t) ; else _nx_js_load(scrname, info[scrname].callback) ; } ; })(); if (t < 0) t = 0 ; if (info[scrname]) { n = info[scrname].length; for (var i = 0; i < n; i++) { if (info[scrname][i] == callback) return ; } if (t < info[scrname].t) info[scrname].t = t ; } else { info[scrname] = {} ; info[scrname].callback = [] ; info[scrname].t = t ; jindo.$Fn(function() { nx_load_once(scrname) ; }).attach(window, \"load\") ; } info[scrname].callback.push(callback) ; }; })(); function nx_js_lazyload(scripts, onload, is_serial) { if (!(scripts instanceof Array)) { scripts = [scripts]; } if (is_serial) { function load_next() { if (scripts.length == 0) { onload(); return; } _nx_js_load( scripts.shift(), load_next ) ; } load_next(); } else { var load_check = function() { var num_js = scripts.length; return function() { num_js--; if (num_js <= 0) { onload(); } } }(); for (var i = 0; i < scripts.length; i++) { _nx_js_load( scripts[i], load_check ) ; } } } nhn = window.nhn || {}; nhn.jsLazyLoad = { include: function(a, b, c) { nx_js_lazyload(a, b, 0) ; } } ; </script><script> var nx_au_cookie_domain = \".search.naver.com\" ; var g_site = \"\" ; var g_er_image, g_er_count = 0 ; function g_er (msg) { if (g_er_count++ > 0) return ; g_er_image = new Image() ; g_er_image.src = \"http://er.search.naver.com/er?f=\"+g_tab+\"&w=\"+g_stab+\"&q=%ED%99%98%EC%9C%A8&u=\"+encodeURIComponent(document.location)+\"&m=\"+encodeURIComponent(msg) ; } function nx_defer_eval (id) { var codeElement = document.getElementById(id), code = codeElement.innerHTML; eval(code.replace(/\\/\\*/, '').replace(/\\*\\//, '')); } function trim_crlf (q) { var crlf = /[\\r|\\n]/ ; q = q.replace(crlf, \"\") ; return q ; } function include_script (type, defer, src, charset) { var script = document.createElement(\"script\") ; script.type = type, script.defer = defer ; script.src = src ; if (charset) script.charset = charset ; else script.charset = 'utf-8' ; document.getElementsByTagName('head')[0].appendChild(script) ; return script ; } function include_style (src, charset) { var h = document.getElementsByTagName(\"head\")[0] ; var l = document.createElement('link') ; l.type = 'text/css' ; l.rel = 'stylesheet' ; if (charset) l.charset = charset ; else l.charset = 'utf-8' ; l.media = 'screen' ; l.href = src ; h.appendChild(l) ; } function rank_val (rank, name, sign, number, ad_onair) { this.rank = rank ; this.name = name ; this.sign = sign ; this.number = number ; this.ad_onair = ad_onair ; } function rr_hotquery_val (titleImg, totalLink, ad_onair) { this.titleImg = titleImg ; this.totalLink = totalLink ; this.ad_onair = ad_onair ; } function rr_append () { for (var i=0; i<rr_list.length; i++) if (rr_list[i].qname==hotqry_Name && rr_list[i].dir==hotqry_Dir) return 0 ; var o = { order:hotqry_Order, contid:hotqry_ContID, qname:hotqry_Name, dir:hotqry_Dir, toprank:hotqry_TopRank, rankdown:hotqry_RankDown, clicklog:hotqry_ClickLog, toprank_idx:toprank_idx, lowrank_idx:lowrank_idx, topranklist:toprank, lowranklist:lowrank_idx>=0?lowrank:null } ; rr_list = rr_list.concat(o) ; return 1 ; } var msg_hidden_idle=null; function msg (id) { if(msg_hidden_idle) clearInterval(msg_hidden_idle); if(id) { var mid=document.getElementById(id); mid.style.display=''; mid.style.visibility='visible'; } } function msg_hidden (id, f) { if(f) hidden(id); else msg_hidden_idle=setInterval(\"hidden('\"+id+\"')\",100); } function hidden (id) { var mid=document.getElementById(id); mid.style.display='none'; mid.style.visibility='hidden'; } function nx_check_basic () { return ; } var nx_default_charset = document.charset ; function nx_form_emul_charset (form) { if (/msie/i.test(navigator.userAgent) && !/opera/i.test(navigator.userAgent)) { document.charset = form.acceptCharset ; window.onbeforeunload = function () { document.charset = nx_default_charset ; } ; } return true; } </script><script> if (!String.prototype.trim) { String.prototype.trim = function () { return this.replace(/^[\\s\\uFEFF\\xA0]+|[\\s\\uFEFF\\xA0]+$/g, ''); }; } if (!Array.prototype.indexOf) { Array.prototype.indexOf = function(searchElement, fromIndex) { var k; if (this == null) { throw new TypeError('\"this\" is null or not defined'); } var o = Object(this); var len = o.length >>> 0; if (len === 0) { return -1; } var n = fromIndex | 0; if (n >= len) { return -1; } k = Math.max(n >= 0 ? n : len - Math.abs(n), 0); while (k < len) { if (k in o && o[k] === searchElement) { return k; } k++; } return -1; }; } if (!Array.prototype.filter) { Array.prototype.filter = function(func, thisArg) { 'use strict'; if (!((typeof func === 'Function' || typeof func === 'function') && this)) throw new TypeError(); var len = this.length >>> 0, res = new Array(len), t = this, c = 0, i = -1; var kValue; if (thisArg === undefined) { while (++i !== len) { if (i in this) { kValue = t[i]; if (func(t[i], i, t)) { res[c++] = kValue; } } } } else { while (++i !== len) { if (i in this) { kValue = t[i]; if (func.call(thisArg, t[i], i, t)) { res[c++] = kValue; } } } } res.length = c; return res; }; } if (typeof(encodeURIComponent) != \"function\") { encodeURIComponent = function (s) { function toHex (n) { var hexchars = \"0123456789ABCDEF\" ; return \"%\" + hexchars.charAt(n>>4) + hexchars.charAt(n&0xF) ; } var es = \"\" ; for (var i = 0; i < s.length;) { var c = s.charCodeAt(i++) ; if ((c&0xF800) == 0xD800) { var sc = s.charCodeAt(i++) ; c = ((c-0xD800)<<10) + (sc-0xDC00) + 0x10000 ; } if (!(c&~0x7F)) { if ((c>=65&&c<=90) || (c>=97&&c<=122) || (c>=48&&c<=57) || (c>=45&&c<=46) || c==95 || c==33 || c==126 || (c>=39&&c<=42)) es += String.fromCharCode(c) ; else es += toHex(c) ; } else if (!(c&~0x7FF)) es += toHex(0xC0+(c>>6)) + toHex(c&0x3F) ; else if (!(c&~0xFFFF)) es += toHex(0xE0+(c>>12)) + toHex(0x80+(c>>6&0x3F)) + toHex(0x80+(c&0x3F)) ; else es += toHex(0xF0+(c>>18)) + toHex(0x80+(c>>12&0x3F)) + toHex(0x80+(c>>6&0x3F)) + toHex(0x80+(c&0x3F)) ; } return es ; } } </script><script> (function(exportTarget) { var lcs_options = { nnb: true }; var lcs_version = \"v0.8.3\"; var lcs_add = {}; var lcs_bc = {}; var lcs_perf = {}; var lcs_do_count = 0; var lcs_do_retry_count = 0; var lcs_waiting_pageshow = false; function lcs_do(optional_etc) { var etc = optional_etc || {}; if (lcs_waiting_pageshow) { return; } var retry = function(__etc) { return function() { window.setTimeout(function() { lcs_waiting_pageshow = false; lcs_do(__etc); }, 10); } }(etc); if (document.readyState !== \"complete\") { var eventName = \"onpageshow\" in window ? \"pageshow\" : \"load\"; if (document.addEventListener) { window.addEventListener(eventName, retry, false); } else { window.attachEvent(\"on\"+ eventName, retry); } lcs_do_retry_count++; lcs_waiting_pageshow = true; return; } if (!window.lcs_SerName) { window.lcs_SerName = \"lcs.naver.com\"; } var rs = \"\"; var index; var itarVal; var doc = document; var wlt = window.location; var lcsServerAddr; try { lcsServerAddr = \"https://\" + window.lcs_SerName + \"/m?\"; } catch (e) { return; } try { rs = lcsServerAddr + \"u=\" + encodeURIComponent(wlt.href) + \"&e=\" + (doc.referrer ? encodeURIComponent(doc.referrer) : \"\"); } catch (e) {} try { if (typeof lcs_add.i == \"undefined\") lcs_add.i = \"\"; if (lcs_do_count < 1) { lcs_setBrowserCapa(); if (lcs_options.nnb) { lcs_setNNB(); } lcs_setConnectionType(); lcs_setNavigationTiming(); var loadEventStart = lcs_perf[\"loadEventStart\"] || 0; var loadEventEnd = lcs_perf[\"loadEventEnd\"] || 0; if (loadEventEnd < loadEventStart && lcs_do_retry_count < 3) { lcs_do_retry_count++; lcs_waiting_pageshow = true; retry(); return; } lcs_setPaintTiming(); lcs_setNavigationType(); } for (index in lcs_bc) { if (typeof lcs_bc[index] !== \"function\") rs += \"&\" + index + \"=\" + encodeURIComponent(lcs_bc[index]); } for (index in lcs_add) { itarVal = lcs_add[index]; if (itarVal !== undefined && typeof itarVal !== \"function\") { rs += \"&\" + index + \"=\" + encodeURIComponent(itarVal); } } if (lcs_do_count < 1) { for (index in lcs_perf) { itarVal = lcs_perf[index]; if (itarVal) { rs += \"&\" + index + \"=\" + encodeURIComponent(itarVal); } } } var dni = !!etc.dni ? etc.dni : getCookie(\"NAPP_DI\"); if (!!dni) { etc.dni = dni; } else { delete etc.dni; } for (index in etc) { if ( (index.length >= 3 && typeof etc[index] !== \"function\") || index === \"qy\" ) { rs += \"&\" + index + \"=\" + encodeURIComponent(etc[index]); } } if (!!etc === false || !!etc.pid === false) { var pidFallback; if (window.g_pid) { pidFallback = g_pid; } else { pidFallback = lcs_get_lpid(); } rs += \"&pid=\" + encodeURIComponent(pidFallback); } var timeStr = new Date().getTime(); rs += \"&ts=\" + timeStr; rs += \"&EOU\"; var obj = document.createElement(\"img\"); obj.src = rs; obj.onload = function() { obj.onload = null; return; }; lcs_do_count++; } catch (e) { return; } } function getCookie(name) { var value = document.cookie.match('(^|;) ?' + name + '=([^;]*)(;|$)'); return value? value[2] : \"\"; } function lcs_do_gdid(gdid, etc) { try { if (gdid) { lcs_add[\"i\"] = gdid; if (etc) { lcs_do(etc); } else { lcs_do(); } } } catch (e) {} } function getLocalStorage() { var localStorage = null; try { localStorage = window.localStorage; } catch (e) {} try { if (!localStorage) localStorage = window.sessionStorage; } catch (e) {} return localStorage || null; } function lcs_setNNB() { try { var lsg = getLocalStorage(); if (lsg) { if (lsg.ls) { var lc = lsg.ls; if (lc.length == 13) { lcs_add[\"ls\"] = lc; return; } } var nnb = lcs_getNNBfromCookie(); if (nnb != null && nnb != \"\") { lsg.ls = nnb; lcs_add[\"ls\"] = nnb; } } } catch (e) {} } function lcs_setBrowserCapa() { lcs_bc[\"os\"] = lcs_getOS(); lcs_bc[\"ln\"] = lcs_getlanguage(); lcs_bc[\"sr\"] = lcs_getScreen(); lcs_bc[\"pr\"] = window.devicePixelRatio || 1; var windowSize = lcs_getWindowSize(); lcs_bc[\"bw\"] = windowSize[\"bw\"]; lcs_bc[\"bh\"] = windowSize[\"bh\"]; lcs_bc[\"c\"] = lcs_getColorDepth(); lcs_bc[\"j\"] = lcs_getJavaEnabled(); lcs_bc[\"k\"] = lcs_getCookieEnabled(); } function lcs_getOS() { var lcs_os = \"\"; try { navigator.platform ? (lcs_os = navigator.platform) : \"\"; } catch (e) {} return lcs_os; } function lcs_getlanguage() { var lcs_ln = \"\"; try { navigator.userLanguage ? (lcs_ln = navigator.userLanguage) : navigator.language ? (lcs_ln = navigator.language) : \"\"; } catch (e) {} return lcs_ln; } function lcs_getScreen() { var lcs_sr = \"\"; try { if (window.screen && screen.width && screen.height) { lcs_sr = screen.width + \"x\" + screen.height; } else if (window.java || self.java) { var sr = java.awt.Toolkit.getDefaultToolkit().getScreenSize(); lcs_sr = sr.width + \"x\" + sr.height; } } catch (e) { lcs_sr = \"\"; } return lcs_sr; } function lcs_getWindowSize() { var doc = document; var size = { bw: \"\", bh: \"\" }; try { size[\"bw\"] = doc.documentElement.clientWidth ? doc.documentElement.clientWidth : doc.body.clientWidth; size[\"bh\"] = doc.documentElement.clientHeight ? doc.documentElement.clientHeight : doc.body.clientHeight; } catch (e) {} return size; } function lcs_getColorDepth() { var colorDepth = \"\"; try { if (window.screen) { colorDepth = screen.colorDepth ? screen.colorDepth : screen.pixelDepth; } else if (window.java || self.java) { var c = java.awt.Toolkit.getDefaultToolkit() .getColorModel() .getPixelSize(); colorDepth = c; } } catch (e) { colorDepth = \"\"; } return colorDepth; } function lcs_getJavaEnabled() { var jsEnable = \"\"; try { jsEnable = navigator.javaEnabled() ? \"Y\" : \"N\"; } catch (e) {} return jsEnable; } function lcs_getCookieEnabled() { var cookieEnable = \"\"; try { cookieEnable = navigator.cookieEnabled ? \"Y\" : \"N\"; } catch (e) {} return cookieEnable; } function lcs_getNNBfromCookie() { try { var ck = document.cookie; var k, v, i, ArrCookies = ck.split(\";\"); for (i = 0; i < ArrCookies.length; i++) { k = ArrCookies[i].substr(0, ArrCookies[i].indexOf(\"=\")); v = ArrCookies[i].substr(ArrCookies[i].indexOf(\"=\") + 1); k = k.replace(/^\\s+|\\s+$/g, \"\"); if (k == \"NNB\") { return unescape(v); } } } catch (e) {} } function lcs_setConnectionType() { var connection = navigator.connection; if (connection) { if (connection.type && connection.type.length > 1) { lcs_add[\"ct\"] = connection.type; } if (connection.effectiveType) { lcs_add[\"ect\"] = connection.effectiveType; } } } function lcs_setNavigationTiming() { var performance = window.performance || {}; if (performance.timing) { var pt = performance.timing; for (var key in pt) { var value = pt[key]; if (typeof value === \"number\") { lcs_perf[key] = value; } } } } function lcs_setPaintTiming() { var performance = window.performance || {}; try { if (performance.getEntriesByType) { var performanceEntries = performance.getEntriesByType(\"paint\"); performanceEntries.forEach(function(performanceEntry, i, entries) { var name = performanceEntry.name; switch (name) { case \"first-paint\": case \"first-contentful-paint\": lcs_perf[name] = performanceEntry.startTime; break; default: break; } }); } else { } } catch (e) { console.warn(e); } } function lcs_setNavigationType() { var ngt = getNavigationType(); if (ngt !== undefined) { lcs_perf[\"ngt\"] = ngt; } } function getNavigationType() { var performance = window.performance || {}; if (performance.navigation) { return performance.navigation.type; } return; } var lpid = null; function lcs_create_lpid() { var uaID; var lsg = getLocalStorage(); var nnb = lsg ? lsg.ls : null; if (nnb) { uaID = nnb; } else { var nnbFallback; nnbFallback = navigator.userAgent + Math.random(); uaID = nnbFallback; } var performance = window.performance || {}; var pageURL = location.href; var currentTime; if (performance.now) { currentTime = performance.now(); } else { currentTime = new Date().getTime(); } lpid = hashFunction.md5(uaID + pageURL + currentTime); return lpid; } function lcs_get_lpid() { if (lpid === null) { lpid = lcs_create_lpid(); } return lpid; } function lcs_update_lpid() { lpid = lcs_create_lpid(); return lpid; } var hashFunction = {}; (function(exportTarget) { function safeAdd(x, y) { var lsw = (x & 0xffff) + (y & 0xffff); var msw = (x >> 16) + (y >> 16) + (lsw >> 16); return (msw << 16) | (lsw & 0xffff); } function bitRotateLeft(num, cnt) { return (num << cnt) | (num >>> (32 - cnt)); } function md5cmn(q, a, b, x, s, t) { return safeAdd( bitRotateLeft(safeAdd(safeAdd(a, q), safeAdd(x, t)), s), b ); } function md5ff(a, b, c, d, x, s, t) { return md5cmn((b & c) | (~b & d), a, b, x, s, t); } function md5gg(a, b, c, d, x, s, t) { return md5cmn((b & d) | (c & ~d), a, b, x, s, t); } function md5hh(a, b, c, d, x, s, t) { return md5cmn(b ^ c ^ d, a, b, x, s, t); } function md5ii(a, b, c, d, x, s, t) { return md5cmn(c ^ (b | ~d), a, b, x, s, t); } function binlMD5(x, len) { x[len >> 5] |= 0x80 << len % 32; x[(((len + 64) >>> 9) << 4) + 14] = len; var i; var olda; var oldb; var oldc; var oldd; var a = 1732584193; var b = -271733879; var c = -1732584194; var d = 271733878; for (i = 0; i < x.length; i += 16) { olda = a; oldb = b; oldc = c; oldd = d; a = md5ff(a, b, c, d, x[i], 7, -680876936); d = md5ff(d, a, b, c, x[i + 1], 12, -389564586); c = md5ff(c, d, a, b, x[i + 2], 17, 606105819); b = md5ff(b, c, d, a, x[i + 3], 22, -1044525330); a = md5ff(a, b, c, d, x[i + 4], 7, -176418897); d = md5ff(d, a, b, c, x[i + 5], 12, 1200080426); c = md5ff(c, d, a, b, x[i + 6], 17, -1473231341); b = md5ff(b, c, d, a, x[i + 7], 22, -45705983); a = md5ff(a, b, c, d, x[i + 8], 7, 1770035416); d = md5ff(d, a, b, c, x[i + 9], 12, -1958414417); c = md5ff(c, d, a, b, x[i + 10], 17, -42063); b = md5ff(b, c, d, a, x[i + 11], 22, -1990404162); a = md5ff(a, b, c, d, x[i + 12], 7, 1804603682); d = md5ff(d, a, b, c, x[i + 13], 12, -40341101); c = md5ff(c, d, a, b, x[i + 14], 17, -1502002290); b = md5ff(b, c, d, a, x[i + 15], 22, 1236535329); a = md5gg(a, b, c, d, x[i + 1], 5, -165796510); d = md5gg(d, a, b, c, x[i + 6], 9, -1069501632); c = md5gg(c, d, a, b, x[i + 11], 14, 643717713); b = md5gg(b, c, d, a, x[i], 20, -373897302); a = md5gg(a, b, c, d, x[i + 5], 5, -701558691); d = md5gg(d, a, b, c, x[i + 10], 9, 38016083); c = md5gg(c, d, a, b, x[i + 15], 14, -660478335); b = md5gg(b, c, d, a, x[i + 4], 20, -405537848); a = md5gg(a, b, c, d, x[i + 9], 5, 568446438); d = md5gg(d, a, b, c, x[i + 14], 9, -1019803690); c = md5gg(c, d, a, b, x[i + 3], 14, -187363961); b = md5gg(b, c, d, a, x[i + 8], 20, 1163531501); a = md5gg(a, b, c, d, x[i + 13], 5, -1444681467); d = md5gg(d, a, b, c, x[i + 2], 9, -51403784); c = md5gg(c, d, a, b, x[i + 7], 14, 1735328473); b = md5gg(b, c, d, a, x[i + 12], 20, -1926607734); a = md5hh(a, b, c, d, x[i + 5], 4, -378558); d = md5hh(d, a, b, c, x[i + 8], 11, -2022574463); c = md5hh(c, d, a, b, x[i + 11], 16, 1839030562); b = md5hh(b, c, d, a, x[i + 14], 23, -35309556); a = md5hh(a, b, c, d, x[i + 1], 4, -1530992060); d = md5hh(d, a, b, c, x[i + 4], 11, 1272893353); c = md5hh(c, d, a, b, x[i + 7], 16, -155497632); b = md5hh(b, c, d, a, x[i + 10], 23, -1094730640); a = md5hh(a, b, c, d, x[i + 13], 4, 681279174); d = md5hh(d, a, b, c, x[i], 11, -358537222); c = md5hh(c, d, a, b, x[i + 3], 16, -722521979); b = md5hh(b, c, d, a, x[i + 6], 23, 76029189); a = md5hh(a, b, c, d, x[i + 9], 4, -640364487); d = md5hh(d, a, b, c, x[i + 12], 11, -421815835); c = md5hh(c, d, a, b, x[i + 15], 16, 530742520); b = md5hh(b, c, d, a, x[i + 2], 23, -995338651); a = md5ii(a, b, c, d, x[i], 6, -198630844); d = md5ii(d, a, b, c, x[i + 7], 10, 1126891415); c = md5ii(c, d, a, b, x[i + 14], 15, -1416354905); b = md5ii(b, c, d, a, x[i + 5], 21, -57434055); a = md5ii(a, b, c, d, x[i + 12], 6, 1700485571); d = md5ii(d, a, b, c, x[i + 3], 10, -1894986606); c = md5ii(c, d, a, b, x[i + 10], 15, -1051523); b = md5ii(b, c, d, a, x[i + 1], 21, -2054922799); a = md5ii(a, b, c, d, x[i + 8], 6, 1873313359); d = md5ii(d, a, b, c, x[i + 15], 10, -30611744); c = md5ii(c, d, a, b, x[i + 6], 15, -1560198380); b = md5ii(b, c, d, a, x[i + 13], 21, 1309151649); a = md5ii(a, b, c, d, x[i + 4], 6, -145523070); d = md5ii(d, a, b, c, x[i + 11], 10, -1120210379); c = md5ii(c, d, a, b, x[i + 2], 15, 718787259); b = md5ii(b, c, d, a, x[i + 9], 21, -343485551); a = safeAdd(a, olda); b = safeAdd(b, oldb); c = safeAdd(c, oldc); d = safeAdd(d, oldd); } return [a, b, c, d]; } function binl2rstr(input) { var i; var output = \"\"; var length32 = input.length * 32; for (i = 0; i < length32; i += 8) { output += String.fromCharCode((input[i >> 5] >>> i % 32) & 0xff); } return output; } function rstr2binl(input) { var i; var output = []; output[(input.length >> 2) - 1] = undefined; for (i = 0; i < output.length; i += 1) { output[i] = 0; } var length8 = input.length * 8; for (i = 0; i < length8; i += 8) { output[i >> 5] |= (input.charCodeAt(i / 8) & 0xff) << i % 32; } return output; } function rstrMD5(s) { return binl2rstr(binlMD5(rstr2binl(s), s.length * 8)); } function rstrHMACMD5(key, data) { var i; var bkey = rstr2binl(key); var ipad = []; var opad = []; var hash; ipad[15] = opad[15] = undefined; if (bkey.length > 16) { bkey = binlMD5(bkey, key.length * 8); } for (i = 0; i < 16; i += 1) { ipad[i] = bkey[i] ^ 0x36363636; opad[i] = bkey[i] ^ 0x5c5c5c5c; } hash = binlMD5(ipad.concat(rstr2binl(data)), 512 + data.length * 8); return binl2rstr(binlMD5(opad.concat(hash), 512 + 128)); } function rstr2hex(input) { var hexTab = \"0123456789abcdef\"; var output = \"\"; var x; var i; for (i = 0; i < input.length; i += 1) { x = input.charCodeAt(i); output += hexTab.charAt((x >>> 4) & 0x0f) + hexTab.charAt(x & 0x0f); } return output; } function str2rstrUTF8(input) { return unescape(encodeURIComponent(input)); } function rawMD5(s) { return rstrMD5(str2rstrUTF8(s)); } function hexMD5(s) { return rstr2hex(rawMD5(s)); } function rawHMACMD5(k, d) { return rstrHMACMD5(str2rstrUTF8(k), str2rstrUTF8(d)); } function hexHMACMD5(k, d) { return rstr2hex(rawHMACMD5(k, d)); } function md5(string, key, raw) { if (!key) { if (!raw) { return hexMD5(string); } return rawMD5(string); } if (!raw) { return hexHMACMD5(key, string); } return rawHMACMD5(key, string); } exportTarget.md5 = md5; })(hashFunction); exportTarget.lcs_do = lcs_do; exportTarget.lcs_do_gdid = lcs_do_gdid; exportTarget.lcs_get_lpid = lcs_get_lpid; exportTarget.lcs_update_lpid = lcs_update_lpid; exportTarget.lcs_version = lcs_version; })(window); </script><script> document.documentElement.setAttribute('data-useragent', window.navigator.userAgent.toLowerCase()) ; document.documentElement.setAttribute('data-platform', window.navigator.platform.toLowerCase()) ; try { document.execCommand('BackgroundImageCache', false, true); } catch(e) {} naver = window.naver || {}; naver.search = naver.search || {}; naver.search.cookie = (function () { return { set : function (key, value, expire, domain) { var cookie = key + \"=\" + escape(value); if (typeof expire !== 'undefined') { if (expire instanceof Date) { cookie = cookie + \"; expires=\" + expire.toUTCString(); } else { var exdate = new Date((new Date()).getTime() + expire*1000); cookie = cookie + \"; expires=\" + exdate.toUTCString(); } } cookie = cookie + \"; path=/\"; if (domain != null) { cookie = cookie + \"; domain=\" + domain; } document.cookie = cookie; }, get : function (key) { var cookie_list = document.cookie.split(/\\s*;\\s*/); for (var i = 0; i < cookie_list.length; i++) { var tmp_list = cookie_list[i].split(\"=\"); var c_key = tmp_list[0].trim(); var c_value = tmp_list[1]; if (key == c_key) { return unescape(c_value); } } return null; } } })(); function trim_space (q) { var head_re = /^ */; var tail_re = / *$/; q = q.replace(head_re, \"\"); q = q.replace(tail_re, \"\"); return q; } function nx_set_cookie (name, value, expire, domain) { var cookie = name + \"=\" + escape(value); if (expire != null) { if (expire instanceof Date) { cookie = cookie + \"; expires=\" + expire.toUTCString(); } else { var exdate = new Date((new Date()).getTime() + expire*1000); cookie = cookie + \"; expires=\" + exdate.toUTCString(); } } cookie = cookie + \"; path=/\"; if (domain != null) { cookie = cookie + \"; domain=\" + domain; } document.cookie = cookie; } function nx_get_cookie (name) { var cookie_list = document.cookie.split(/\\s*;\\s*/); for (var i = 0; i < cookie_list.length; i++) { var tmp_list = cookie_list[i].split(\"=\"); var c_name = trim_space(tmp_list[0]); var c_value = tmp_list[1]; if (name == c_name) { return unescape(c_value); } } return null; } </script><script> var g_D = 0 ; naver = window.naver || {}; naver.search = naver.search || {}; naver.search.https = window.location.protocol == \"https:\"; naver.search.meta_referrer = 0; naver.search.ext = naver.search.ext || {}; naver.search.map_api = { v2 : \"https://ssl.pstatic.net/sstatic.map/openapi/openapi_v23.js\", v3 : \"https://ssl.pstatic.net/sstatic.map/openapi/maps3.js\" }; var nx_mobile_agent = 0 ; var headerfooter_query = \"환율\" ; var headerfooter_query_encoded = \"%ED%99%98%EC%9C%A8\" ; var headerfooter_time_year = 2023 ; var headerfooter_time_month = 8 ; var headerfooter_time_day = 8 ; var headerfooter_time_hour = 12 ; var headerfooter_time_minute = 41 ; var headerfooter_time_second = 46 ; var headerfooter_time_wday = 2 ; var headerfooter_time_year_s = \"2023\" ; var headerfooter_time_month_s = \"08\" ; var headerfooter_time_day_s = \"08\" ; var headerfooter_time_hour_s = \"12\" ; var headerfooter_time_minute_s = \"41\" ; var headerfooter_time_second_s = \"46\" ; var headerfooter_time_wday_s = \"2\" ; var g_ssc = \"tab.nx.all\" ; var g_query = \"환율\" ; var g_puid = \"iLbHPlprvmsssNKI32sssssstOo-511291\" ; var g_suid = \"jcLNtp70aHdrwMtUP/cB/A==\" ; var g_tab = \"nexearch\" ; var g_stab = \"nexearch\" ; var g_crt = naver.search.abt_param; </script><script src=\"https://ssl.pstatic.net/sstatic/sdyn.js?f=/au/pc/_nx/jindo_1.5.3_171116.js+/search/js/nhn.Component.js+/search/js/jindo.Component.1.1.0.js+/search/js/jindo.component.library_120927.js+/au/s/pc/_common/jindo/jindo.Rolling_140526.js+/fe/sfe/nx_jquery/pc/nx_jquery_221215.js&amp;o=search\" crossorigin=\"anonymous\"></script><script src=\"https://ssl.pstatic.net/sstatic/fe/sfe/common/pc-1.5.1.js?o=search\" crossorigin=\"anonymous\"></script><script src=\"https://ssl.pstatic.net/sstatic/fe/meerkat/logger/sfe/naver.common.meerkat.logger.sfe_pc_230601.js?o=search\" crossorigin=\"anonymous\"></script><script src=\"https://ssl.pstatic.net/sstatic/fe/sfe/web-vitals/web-vitals_230627.js?o=search\" crossorigin=\"anonymous\"></script><script src=\"https://ssl.pstatic.net/sstatic/fe/sfe/scrollLog/Controller_220714.js?o=search\" crossorigin=\"anonymous\"></script><script src=\"https://ssl.pstatic.net/sstatic/fe/sfe/naver_autocomplete/pc/naver.common.atcmp.naver_web_230216.js?o=search\" crossorigin=\"anonymous\"></script><script> 0 && naver.common.meerkat.logger.observe(); </script><script> (function() { var startApplication = function () { var jsFile = \"https://ssl.pstatic.net/sstatic/fe/sfe/keep/Controller_230209.js\"; var require = window.require.config({ \"context\": \"search_common_module\", \"paths\": { \"Keep\": jsFile.replace(/\\.js$/, \"\") } }); define(\"jquery\", [], function () { return jQuery; }); require([\"Keep\"], function (Controller) { var oSearchKeep = new Controller({ \"api\": { \"token\": \"https://apis.naver.com/naverSearchFe/naver_keep/naver_keep\", \"check\": \"https://apis.naver.com/naverSearchFe/naver_keep/v1_web_keep_check?type=bookmark&key={=url}\", \"create\": \"https://apis.naver.com/naverSearchFe/naver_keep/v1_web_bookmark_create\", \"delete\": \"https://apis.naver.com/naverSearchFe/naver_keep/v1_web_keep_delete\" }, \"fanApi\": { \"check\": \"https://gw.in.naver.com/delivery/api/v1/subscribes?spaceIds={=spaceIds}\", \"subscribe\": \"https://gw.in.naver.com/home/api/v4/spaces/{=spaceId}/subscribes\", \"unsubscribe\": \"https://gw.in.naver.com/home/api/v4/spaces/{=spaceId}/unsubscribes\" }, \"captchaApi\": { \"image\": \"https://captcha.nid.naver.com/nhncaptchav4.gif?key={=key}\", \"voice\": \"https://soundcaptcha.nid.naver.com/soundCaptcha.wav?key={=key}\", \"token\": \"https://gw.in.naver.com/identity-access/api/v1/captcha?type={=type}\", \"refresh\": \"https://gw.in.naver.com/identity-access/api/v1/refresh-captcha?key={=key}&type={=type}\", \"check\": \"https://gw.in.naver.com/identity-access/api/v1/captcha\" }, \"loginUrl\": \"https://nid.naver.com/nidlogin.login?url={=location}\" }); oSearchKeep.on({ \"create\": function (we) { var crLog = we.data(\"cr-on\"); if (crLog) tCR(crLog); }, \"delete\": function (we) { var crLog = we.data(\"cr-off\"); if (crLog) tCR(crLog); }, \"showLayer\": function (we) { var crLog = we.data(\"cr-on\"); if (crLog) tCR(crLog); }, \"hideLayer\": function (we) { var crLog = we.data(\"cr-off\"); if (crLog) tCR(crLog); }, \"fan.subscribe\": function (we) { var crLog = we.data(\"cr-on\"); if (crLog) tCR(crLog); }, \"fan.unsubscribe\": function (we) { var crLog = we.data(\"cr-off\"); if (crLog) tCR(crLog); } }); window.naver.common.gv.searchKeep = oSearchKeep; }); }; naver.common.load_js(window.require ? null : naver.common.gv.REQUIRE_JS, startApplication, true, 150); })(); </script><script> (function() { var jsFileURL = \"https://ssl.pstatic.net/sstatic/fe/sfe/search_video_player2/PcVideoPlayer2-2.7.2.js\"; var jsLoadCallback = function() { var require = window.require.config({ \"context\": \"search_common_modules\", \"paths\": { \"VideoPlayer2\": jsFileURL.replace(/\\.js$/, \"\") } }); require([\"VideoPlayer2\"], function() { naver.common.VideoPlayer2.AD_SDK_JS = \"https://ssl.pstatic.net/tveta/libs/ssp-video/prod/ssp.web.sdk_2.3.0.js\"; }); }; var requirejs = naver.common.gv.REQUIRE_JS; naver.common.load_js(window.require ? null : requirejs, jsLoadCallback, true, 50); })(); </script><script> (function() { var requirejs = naver.common.gv.REQUIRE_JS; var jsFileURL = \"https://ssl.pstatic.net/sstatic/fe/sfe/search_audio_player2/AudioPlayer2_230201.js\"; var jsLoadCallback = function() { var require = window.require.config({ \"context\": \"search_common_modules\", \"paths\": { \"AudioPlayer2\": jsFileURL.replace(/\\.js$/, \"\") } }); require([\"AudioPlayer2\"], function() { naver.common.AudioPlayer2.WEB_PLAYER_JS = \"https://static-audiop.pstatic.net/audiocloud-webplayercore/1.1.7.0/js/audiocloud_webplayer_core.js\"; }); }; naver.common.load_js(window.require ? null : requirejs, jsLoadCallback, true, 50); })(); </script><script> (function() { var jsControllerUrl = \"https://ssl.pstatic.net/sstatic/fe/sfe/responsiveBlock/pc/Controller_221103.js\"; var startApplication = function() { var require = window.require.config({ \"context\": \"search_common_modules\", \"paths\": { \"ResponsiveBlock\": jsControllerUrl.replace(/\\.js$/, \"\") } }); define(\"jquery\", [], function() { return jQuery; }); require([\"ResponsiveBlock\"], function(ResponsiveBlock) { new ResponsiveBlock(); }); }; naver.common.load_js(null, startApplication, true, 50); })(); </script><script> function urlencode (q) { return encodeURIComponent(q).replace(/%20/g, \"+\").replace(/[!~'()]/g, function(c) { return '%' + c.charCodeAt(0).toString(16).toUpperCase() ; }); } function urldecode (q) { return decodeURIComponent(q.replace(/\\+/g, \" \")); } function urlexpand (url) { var href = document.location.href ; if (url == \"\") return href ; if (url.match(/^[-.A-Za-z]+:/)) return url ; if (url.charAt(0) == '#') return href.split(\"#\")[0] + url ; if (url.charAt(0) == '?') return href.split(\"?\")[0] + url ; if (url.charAt(0) == '/') return href.replace(/([^:\\/])\\/.*$/, \"$1\") + url ; return href.substring(0, href.lastIndexOf(\"/\")+1) + url ; } function tt_sub_disable (o) { if (typeof(o.tt_sub) == \"undefined\") return false ; if ((typeof(o.tt_sub) == \"object\") && (o.tt_sub.length)) { var i ; for (var i=0; i<o.tt_sub.length; i++) o.tt_sub[i].disabled = true ; } else o.tt_sub.disabled = true ; return true ; } function cpip () { var evt, sx = sy = px = py = -1 ; try { evt = window.event ; } catch (e) {} try { sx=evt.clientX-document.body.clientLeft, sy=evt.clientY-document.body.clientTop ; } catch (e) {} try { px=document.body.scrollLeft+(sx<0?0:sx), py=document.documentElement.scrollTop+(sy<0?0:sy) ; } catch (e) {} try { if (evt.pageX) px=evt.pageX ; if (evt.pageY) py=evt.pageY ; } catch (e) {} return \"px=\"+px+\"&py=\"+py+\"&sx=\"+sx+\"&sy=\"+sy ; } function nxGetCommonCRParam (p) { return (p.match(/(^|[&?])p=/) ? '' : \"p=\" + urlencode(g_puid) + '&') + \"q=\" + urlencode(g_query) + \"&ie=utf8&rev=1\" + (p.match(/(^|[&?])ssc=/) ? '' : \"&ssc=\" + urlencode(g_ssc)) + \"&f=\" + urlencode(g_tab) + \"&w=\" + urlencode(g_stab) + \"&s=\" + urlencode(g_suid) + \"&time=\" + urlencode((new Date()).getTime()) + g_crt ; } function getCRRankingByParam (p, info) { if (typeof info == 'undefined' || info == null) return 0 ; var cr = 0 ; try { var y, z ; var y = p.split('&') ; for (var i = 0; i < y.length; i++) { if (z = y[i].split('=')) { if (z[0] == 'a') { for (var j = 0; j < info.length; j++) { var a = info[j].area.split(/[*.]/)[0]; if (z[1].substr(0, a.length) == a) { cr = j + 1 ; break ; } } break ; } } } } catch (e) { } return cr ; } function getCRRanking (p) { var cr = 0 ; if (p.match(/(^|[&?])cr=/)) return cr ; if (typeof naver.search.section == 'undefined') return cr ; if (typeof naver.search.section.main != 'undefined') cr = getCRRankingByParam(p, naver.search.section.main) ; if (cr) return cr ; if (typeof naver.search.section.main2 != 'undefined') cr = getCRRankingByParam(p, naver.search.section.main2) ; return cr ; } function isOutlink (u) { if (!u || u.indexOf(\"://\") < 0) return false; var b = (u.search(/^\\w*:\\/\\/([^:/?]*\\.|)*(?!(ad)?cr\\.)[^.:/?]+\\.+naver\\.com(:\\d*)?(\\/|$)/) < 0);  return b; } function nxGetCRURL (m, a, b, c, d, e) { var p = \"\" ; var u ; if (c==undefined && d==undefined && e==undefined) { p = (a==undefined?\"\":\"&\"+a) + (b==undefined || a.indexOf(\"u=\")==0 || a.indexOf(\"&u=\") > 0 ?\"\":\"&u=\"+urlencode(b)) ; u = b ; } else { p = (a==undefined ? \"\" : \"&a=\"+urlencode(a)) + (b==undefined ? \"\" : \"&r=\"+urlencode(b)) + (c==undefined ? \"\" : \"&i=\"+urlencode(c)) + (d==undefined ? \"\" : \"&u=\"+urlencode(d)) + (e==undefined ? \"\" : \"&\"+e) ; u = d ; } if (! p) return null ; if (0 && u && u.indexOf(\"/search.naver?\") >= 0) { var r = /((?:^|&)u=)((?:(?:[^&]*%2F)?search.naver)?%3F(?:[^%&]|%[^2]|%2[^3])*)/; var pu = p.match(r); pu = pu && pu[2] ? pu[2] : '';  p = p.replace(r, '$1' + pu); } var url ; if (naver.search.https) { url = (naver.search.meta_referrer ? \"/p/crd\" : \"/p/cr\") + \"/rd\"; if (m != 0) m = 1; } else { out = isOutlink(u); url = \"http://cr.naver.com\" + (g_D && out ? \"/nr\" : \"/rd\"); if (m != 0) m = g_D && out ? 2 : 1; } url += \"?m=\" + m + \"&\" + cpip() + \"&\" + nxGetCommonCRParam(p) + p; return url; } function tCR (a, b, c, d, e) { var l = nxGetCRURL(0, a, b, c, d, e) ; var cr = getCRRanking(l) ; if (cr > 0) l = l + \"&cr=\" + cr ; if (document.images) (new Image()).src = l ; else document.location = l ; return false ; } function gCR (u, a, r, i, e, t) { if (u) u = urlexpand(u) ; var l = nxGetCRURL(1, a, r, i, u, e) ; var o = document.createElement(\"a\") ; var cr = getCRRanking(l) ; if (cr > 0) l = l + \"&cr=\" + cr ; if (o.click) { o.href = l ; o.style.display = \"none\" ; document.body.appendChild(o) ; o.click() ; } else document.location = l ; } function goCR (o, p, t) { var p0 = o.getAttribute && o.getAttribute(\"crp\"), u = o.href, u0 = u ; if (p0 && u.indexOf(p0)>0 && u.match(/\\/(rd|nr)\\?/)) { u = u0 = o.getAttribute && o.getAttribute(\"cru\") || u ; p = p0 ; } p0 = p ; tt_sub_disable(o) ; if (p.indexOf(\"u=javascript\") >= 0) t = true ; /* no frame/iframe but new window */ var n = (o.ownerDocument==document && o.target && o.target!=\"_self\" && o.target!=\"_parent\" && o.target!=\"_top\") && !(window.location.protocol&&window.location.protocol.indexOf(\"https:\")==0) ; var cr = getCRRanking(p) ; if (cr > 0) p = p + \"&cr=\" + cr ;  u = nxGetCRURL(t?0:(n?-1:1), p, u) ; if (u && !u.match(/m=0&/)) { if (o.setAttribute) { if (p0) o.setAttribute(\"crp\", p0) ; if (u0) o.setAttribute(\"cru\", u0) ; if (g_D && naver.search.https && naver.search.meta_referrer && o.href && isOutlink(o.href)) o.setAttribute(\"rel\", \"noreferrer\"); } var a = o.innerHTML ; o.href = u ; if (o.innerHTML != a) o.innerHTML = a ; } else if (document.images) (new Image()).src = u ; return true ; } function goOtherCR (o, p) { return goCR(o, p, false) ; } function goOtherTCR (o, p) { return goCR(o, p, true) ; } function get_form_url (o) { var url = o.getAttribute(\"action\") ; if (url == null) url = \"\" ; var e, n = 0 ; for (var i=0; i<o.elements.length; i++) { e = o.elements[i] ; if (e.disabled || !e.name) continue ; url += (n++>0?\"&\":url.indexOf(\"?\")<0?\"?\":url.indexOf(\"?\")<url.length-1?\"&\":\"\") + encodeURIComponent(e.name) + \"=\" + encodeURIComponent(e.value) ; } return url ; } function formCR (o, area, rank, id) { if (typeof o == 'string') o = document.getElementById(o) ; var target = o.getAttribute(\"target\") ; if (target && target!=\"_self\" && target!=\"_parent\" && target!=\"_top\" || /^post$/i.test(o.getAttribute(\"method\"))) { tCR(area, rank, id) ; o.submit() ; return false ; } var url = get_form_url(o) ; var a = document.createElement(\"a\") ; a.href = url ; var p = area != undefined ? \"a=\" + area : \"\" ; if (rank != undefined) p += (p?\"&\":\"\") + \"r=\" + encodeURIComponent(rank) ; if (id != undefined) p += (p?\"&\":\"\") + \"i=\" + encodeURIComponent(id) ; if (url != undefined) p += (p?\"&\":\"\") + \"u=\" + encodeURIComponent(urlexpand(url)) ; goCR(a, p) ; if (navigator.userAgent.indexOf('MSIE') > 0) { a.style.display = 'none' ; o.appendChild(a) ; a.click() ; } else document.location = a.href ; return false ; } </script><script> if (window.addEventListener) { window.addEventListener(\"load\", function() { lcs_do( {\"pid\": \"iLbHPlprvmsssNKI32sssssstOo-511291\", \"ssc\":\"tab.nx.all\"})}, false); } else { lcs_do( {\"pid\": \"iLbHPlprvmsssNKI32sssssstOo-511291\", \"ssc\":\"tab.nx.all\"}); } </script><script> (function() { function ignore(e) { var tagName = e.target.tagName.toUpperCase(); var ignoreTargets = [\"INPUT\", \"SELECT\", \"TEXTAREA\", \"EMBED\", \"OBJECT\"]; var isKeyV = e.key.toLowerCase() === \"v\"; if (ignoreTargets.indexOf(tagName) !== -1 || isContentEditable(e)) return true; else if (e.altKey) return true; else if (e.ctrlKey && !isKeyV) return true; else if (e.metaKey && !isKeyV) return true; else if (isSpaceKey(e)) return true; return false; } function isContentEditable(e) { return e.target.contentEditable === 'true'; } function stop(e) { e.preventDefault(); e.stopPropagation(); } function focus(reset) { var query = document.getElementById(\"nx_query\"); scrollTo(0, 0); if (reset) query.value = \"\"; query.focus(); query.select(); } function isSpaceKey(e) { return e.code === \"Space\" || e.key === \"Spacebar\" || e.key === \" \"; } function isShiftKeyAndSpaceKey(e) { return e.shiftKey && isSpaceKey(e); } function isF2Key(e) { return e.key === \"F2\"; } function isInsertKey(e) { return e.key === \"Insert\" || e.code === \"Insert\"; } function isSingleCharKey(e) { return e.key.length === 1; } document.addEventListener(\"keydown\", function onKeydown(e) { try { if (ignore(e)) return; if (isShiftKeyAndSpaceKey(e) || isF2Key(e) || isInsertKey(e)) { stop(e); focus(); } else if (isSingleCharKey(e)) { focus(true); } } catch (err) {} }); })(); </script><script> function nx_form_submit(f) { if (g_D || 0) f.action = \"\" ; if (typeof naver.search.option !== 'undefined') naver.search.option.append_params(f, ['qdt', 'qvt']); return true ; } </script><script> nx_js_defer_load(\"https://ssl.pstatic.net/sstatic/au/s/pc/_others/nxtt/search_om.js\", function() {NXTT.div=document.getElementById(\"nxtt_div\");}, 50); </script></head><body class='wrap-new api_animation'> <div id=nxtt_div style=\"display:none;position:absolute;border-width:0;z-index:11000\"></div> <div id=\"u_skip\"> <a href=\"#lnb\"><span>메뉴 영역으로 바로가기</span></a> <a href=\"#content\"><span>본문 영역으로 바로가기</span></a> </div> <div id=\"wrap\"><div id=\"header_wrap\" role=\"heading\"> <div class=\"api_floating_header\">  <div class=\"gnb_wrap\"> <div class=\"header_group\"> <div class=\"search_area\"> <h1 class=\"logo special\"> <a href=\"https://www.naver.com\" onclick=\"return goOtherCR(this, 'a=sta.naver&amp;r=&amp;i=&amp;u='+urlencode(this.href));\" class=\"link\"><img src=\"https://ssl.pstatic.net/sstatic/search/nlogo/20230807115141.png\" width=\"58\" height=\"60\" alt=\"NAVER\"></a> </h1> <form id=\"nx_search_form\" name=\"search\" action=\"?\" method=\"get\" role=\"search\" onsubmit=\"return nx_form_submit(this)\"> <fieldset class=\"greenwindow\"> <legend>검색</legend> <input type=\"hidden\" name=\"sm\" value=\"tab_hty.top\"> <input type=\"hidden\" name=\"where\" value=\"nexearch\"> <div class=\"greenbox\"> <input type=\"text\" id=\"nx_query\" name=\"query\" class=\"box_window\" maxlength=255 accesskey=\"s\" value=\"환율\" autocomplete=\"off\" placeholder=\"검색어를 입력해 주세요.\" data-atcmp-element> </div> <input type=\"hidden\" name=\"oquery\" value=\"환율\"> <input type=\"hidden\" name=\"tqi\" value=\"iLbHPlprvmsssNKI32sssssstOo-511291\"> <input type=\"hidden\" value=\"\" name=\"acq\" disabled> <input type=\"hidden\" value=\"\" name=\"acr\" disabled> <input type=\"hidden\" value=\"\" name=\"qdt\" disabled> <input type=\"hidden\" value=\"\" name=\"acir\" disabled> <input type=\"hidden\" value=\"\" name=\"os\" disabled> <input type=\"hidden\" value=\"\" name=\"bid\" disabled> <input type=\"hidden\" value=\"\" name=\"pkid\" disabled> <input type=\"hidden\" value=\"\" name=\"eid\" disabled> <input type=\"hidden\" value=\"\" name=\"mra\" disabled>  <div class=\"setkr_area\"> <a id=\"ke_kbd_btn\" role=\"button\" href=\"#\" class=\"bt_setkr\" aria-pressed=\"false\" onclick=\"return tCR('a=sch.ime');\"><i class=\"spnew ico_keyboard\">한글 입력기</i></a> <div id=\"_nx_kbd\" style=\"display:none;\"></div> </div> <!--[AU]초기화 코드는 마크업 코드 바로 뒤에 위치--> <script> (function() { var startApplication = function() { var $ = jQuery; var jsUrl = \"https://ssl.pstatic.net/sstatic/fe/sfe/ime/app-1.0.4.js\"; var cssUrl = \"https://ssl.pstatic.net/sstatic/search/pc/css/api_keyboard_230706.css\"; var ime; $(\"#ke_kbd_btn\").on(\"click\", function() { require([jsUrl], function(IMEKeyboard) { if (ime) { ime.toggle(); return; } ime = new IMEKeyboard({ \"cssUrl\": cssUrl, \"selector\": { \"TOGGLE_BTN\": \"#ke_kbd_btn\", \"CONTENTS_AREA\": \"#_nx_kbd\", \"INPUT\": \"#nx_query\" }, \"onSearchBtnClick\": function() { $(\"#nx_search_form\").submit(); } }).toggle(); }, function(e) { alert(\"네트워크 상태가 안 좋아 한영 입력기를 불러오지 못했습니다.\\n잠시 후 다시 시도해 주세요.\"); }); }); }; naver.common.load_js(null, startApplication, true, 150); })(); </script> <div class=\"autocomplete\"> <a role=\"button\" href=\"#\" class=\"bt_atcp _btn_arw\" id=\"nautocomplete\" aria-pressed=\"false\" data-atcmp-element><i class=\"spnew ico_arrow\">자동완성 레이어</i></a> <div class=\"ly_atcmp\" id=\"nx_autoframe_top\" style=\"display:none\" data-atcmp-element> <div class=\"api_atcmp_wrap\"> <div class=\"atcmp_fixer _recent_layer\" style=\"display:none;\"> <div class=\"atcmp_header _recent_header\"> <strong class=\"tit\">최근검색어</strong> <div class=\"option\"> <a role=\"button\" href=\"#\" class=\"item _delAll\" aria-pressed=\"false\">전체삭제</a> </div> </div> <div class=\"atcmp_container\"> <ul class=\"kwd_lst _recent\"> <li class=\"item _item\" data-rank=\"@rank@\" data-template-type=\"history\" data-keyword=\"@in_txt@\"> <a href=\"#\" class=\"kwd\"> <span class=\"fix\"><span class=\"common_ico_kwd\"><i class=\"imsc ico_search\"></i></span><span>@txt@</span></span> </a> <span class=\"etc\"> <em class=\"date\">@date@.</em> <a href=\"#\" role=\"button\" class=\"bt_item _del\" aria-pressed=\"false\"><i class=\"imsc ico_del\">삭제</i></a> </span> </li> </ul> <div class=\"kwd_info kwd_off _offMsg\" style=\"display: none;\">검색어 저장 기능이 꺼져 있습니다.<br><span class=\"kwd_dsc\">설정이 초기화 된다면 <a onclick=\"return goOtherCR(this,'a=sly.help&amp;r=&amp;i=&amp;u='+urlencode(this.href));\" href=\"https://help.naver.com/support/alias/search/word/word_29.naver\" target=\"_blank\" class=\"kwd_help\">도움말</a>을 확인해주세요.</span></div> <div class=\"kwd_info kwd_none _recentNone\" style=\"display: none;\">최근 검색어 내역이 없습니다.<br><span class=\"kwd_dsc\">설정이 초기화 된다면 <a onclick=\"return goOtherCR(this,'a=sly.help&amp;r=&amp;i=&amp;u='+urlencode(this.href));\" href=\"https://help.naver.com/support/alias/search/word/word_29.naver\" target=\"_blank\" class=\"kwd_help\">도움말</a>을 확인해주세요.</span></div> </div> <div class=\"atcmp_footer\"> <span class=\"side_opt_area\"> <span class=\"opt_item\"><a onclick=\"return goOtherCR(this,'a=sly.help&amp;r=&amp;i=&amp;u='+urlencode(this.href));\" href=\"https://help.naver.com/support/alias/search/word/word_29.naver\" target=\"_blank\">도움말</a></span> </span> <span class=\"rside_opt_area\"> <span class=\"opt_item\"> <a href=\"#\" class=\"close _keywordOnOff\">자동저장 끄기</a> </span> </span> </div> </div> <div class=\"atcmp_fixer _atcmp_layer\" style=\"display:none;\"> <div class=\"atcmp_container _words\"> <div class=\"atcmp_correct type_lotto _answer\" data-template-type=\"answer_3\" data-code=\"@code@\" data-keyword=\"@1@\"> <a href=\"#\" class=\"link_item\"> <span class=\"common_ico_kwd\"><i class=\"imsc ico_search\"></i></span> <div class=\"dsc_area\"> <span class=\"tit\">@5@회 로또당첨번호</span> <span class=\"dsc\"> <span class=\"item\">동행복권 제공</span> </span> </div> <span class=\"etc_area\"> <span class=\"etc lotto\"> <em class=\"n@6@\">@6@</em><em class=\"n@7@\">@7@</em><em class=\"n@8@\">@8@</em><em class=\"n@9@\">@9@</em><em class=\"n@10@\">@10@</em><em class=\"n@11@\">@11@</em><em class=\"imsc_bf bonus n@12@\">@12@</em> </span> </span> </a> </div> <div class=\"atcmp_correct type_exchange _answer\" data-template-type=\"answer_9\" data-code=\"@code@\" data-keyword=\"@1@\"> <a href=\"#\" class=\"link_item @11@\"> <span class=\"common_ico_kwd\"><i class=\"imsc ico @12@\">@14@</i></span> <div class=\"dsc_area\"> <span class=\"tit\">@txt@<span class=\"sub\">@currency@</span></span> <span class=\"dsc\"> <span class=\"item\"><i class=\"imsc ico_arr\"></i>@8@(@9@%)</span> </span> </div> <span class=\"etc_area\"> <span class=\"etc\"><em class=\"num\">@6@</em>원</span> </span> </a> </div> <div class=\"atcmp_correct type_weather _answer\" data-template-type=\"answer_11\" data-code=\"@code@\" data-keyword=\"@1@\"> <a href=\"#\" class=\"link_item @12@\"> <span class=\"common_ico_kwd\"><i class=\"imsc ico_search\"></i></span> <div class=\"dsc_area\"> <span class=\"tit\">@txt@</span> <span class=\"dsc\"> <span class=\"item\">@7@, @message@</span> </span> </div> <span class=\"etc_area\"> <span class=\"etc\"> <span class=\"ico_weather\"><i class=\"imsc ico ico@iconNo@\">@7@</i></span> <em class=\"degree\">@8@<sup class=\"celsius\">°</sup></em> </span> </span> </a> </div> <div class=\"atcmp_correct type_site _answer\" data-template-type=\"answer_17\" data-code=\"@code@\" data-keyword=\"@1@\"> <a href=\"@5@\" class=\"link_item\" target=\"_blank\"> <span class=\"common_ico_kwd\"><i class=\"imsc ico_url\"></i></span> <div class=\"dsc_area\"> <span class=\"tit\">@txt@</span> <span class=\"dsc\"> <span class=\"item\">@5@</span> </span> </div> <span class=\"etc_area\"> <span class=\"etc\">바로가기</span> </span> </a> </div> <ul class=\"kwd_lst _kwd_list\"> <li class=\"item _item\" data-rank=\"@rank@\" data-template-type=\"suggestion\" data-keyword=\"@in_txt@\"> <a href=\"#\" class=\"kwd\"> <span class=\"fix\"><span class=\"common_ico_kwd\"><i class=\"imsc ico_search\"></i></span>@txt@</span> </a> <span class=\"etc\"> <a href=\"#\" role=\"button\" class=\"bt_item _add\" aria-pressed=\"false\"><i class=\"imsc ico_insert\">추가</i></a> </span> </li> <li class=\"item has_correct _item\" data-rank=\"@rank@\" data-template-type=\"history\" data-keyword=\"@in_txt@\"> <a href=\"#\" class=\"kwd\"> <span class=\"fix\"><span class=\"common_ico_kwd\"><i class=\"imsc ico_search\"></i></span>@txt@</span> </a> <span class=\"etc\"> <em class=\"date\">@date@.</em> <a href=\"#\" role=\"button\" class=\"bt_item _add\" aria-pressed=\"false\"><i class=\"imsc ico_insert\">추가</i></a> </span> </li> </ul> <li class=\"item has_correct _item\" data-rank=\"@rank@\" data-intend-rank=\"@intendRank@\" data-template-type=\"intend\" data-keyword=\"@transQuery@\"> <a href=\"#\" class=\"kwd\"> <span class=\"fix\"><span class=\"common_ico_kwd\"><i class=\"imsc ico_search\"></i></span>@query@ <span class=\"context\">@intend@</span></span> </a> <span class=\"etc\"> <a href=\"#\" role=\"button\" class=\"bt_item _add\" aria-pressed=\"false\"><i class=\"imsc ico_insert\">추가</i></a> </span> </li> <div class=\"atcmp_alert _alert\"> <div class=\"dsc_election\"> <p class=\"dsc\"> <i class=\"imsc ico_election\"></i><span class=\"_alert_passage\"></span> </p> <span class=\"dsc_inner\"> <span class=\"_alert_passage2\"></span> <a href=\"#\" target=\"_blank\" class=\"link _alert_link\" onclick=\"return goOtherCR(this,'a=sug.vote&r=&i=&u='+urlencode(this.href));\">자세히보기</a> </span> </div> </div> <div class=\"atcmp_plus _plus\"> <div class=\"dsc_plus\"> <a onclick=\"return goOtherCR(this,'a=sug.cxhelp&amp;r=&amp;i=&amp;u='+urlencode(this.href));\" href=\"https://help.naver.com/support/alias/search/word/word_16.naver\" target=\"_blank\" class=\"link_dsc\">관심사를 반영한 컨텍스트 자동완성<i class=\"imsc ico_help\">도움말</i></a> </div> <div class=\"switch\"> <a role=\"button\" href=\"#\" class=\"bt_switch active _plus_btn\" aria-pressed=\"false\"><i class=\"imsc ico_option\">컨텍스트 자동완성</i></a> </div> <div class=\"layer_plus _plus_layer\"> <strong class=\"tit\">컨텍스트 자동완성</strong> <div class=\"_plus_layer_isloggedin\" style=\"display:none\"> <p class=\"dsc\">ON/OFF 설정은<br>해당기기(브라우저)에 저장됩니다.</p> <div class=\"btn_area\"> <a onclick=\"return goOtherCR(this,'a=sug.cxhelp&amp;r=&amp;i=&amp;u='+urlencode(this.href));\" href=\"https://help.naver.com/support/alias/search/word/word_16.naver\" target=\"_blank\" class=\"btn btn_view\">자세히</a> </div> </div> <div class=\"_plus_layer_isnotloggedin\" style=\"display:none\"> <p class=\"dsc\"><em class=\"txt\">동일한 시간대/연령/남녀별</em> 사용자 그룹의<br>관심사에 맞춰 자동완성을 제공합니다.</p> <div class=\"btn_area\"> <a href=\"https://nid.naver.com/nidlogin.login?url=https%3A%2F%2Fsearch.naver.com%2Fsearch.naver%3Fwhere%3Dnexearch%26sm%3Dtop_hty%26fbm%3D1%26ie%3Dutf8%26query%3D%25ED%2599%2598%25EC%259C%25A8\" onclick=\"return goOtherCR(this,'a=sug.cxlogin&amp;r=&amp;i=&amp;u='+urlencode(this.href));\" class=\"btn btn_login\">로그인</a> <a onclick=\"return goOtherCR(this,'a=sug.cxhelp&amp;r=&amp;i=&amp;u='+urlencode(this.href));\" href=\"https://help.naver.com/support/alias/search/word/word_16.naver\" target=\"_blank\" class=\"btn btn_view\">자세히</a> </div> </div> <a href=\"#\" role=\"button\" onclick=\"return tCR('a=sug.cxhide');\" class=\"btn_close _plus_layer_close\"><i class=\"imsc ico_close\">컨텍스트 자동완성 레이어 닫기</i></a> </div> </div> </div> <div class=\"atcmp_footer\"> <span class=\"side_opt_area\"> <span class=\"opt_item\"><a onclick=\"return goOtherCR(this,'a=sug.help&amp;r=&amp;i=&amp;u='+urlencode(this.href));\" href=\"https://help.naver.com/alias/search/word/word_17.naver\" target=\"_blank\">도움말</a></span> <span class=\"opt_item\"><a onclick=\"return goOtherCR(this,'a=sug.report&amp;r=&amp;i=&amp;u='+urlencode(this.href));\" href=\"https://help.naver.com/support/alias/search/word/word_18.naver\" target=\"_blank\" class=\"report\">신고</a></span> </span> <span class=\"rside_opt_area\"> <span class=\"opt_item\"> <a href=\"#\" class=\"close _suggestOnOff\">자동완성 끄기</a> </span> </span> </div> </div> </div> </div> </div> <button type=\"submit\" class=\"bt_search\"><i class=\"spnew ico_search\">검색</i></button> </fieldset> </form> </div> </div> <div id=\"gnb\"> <script> var gnb_option = { gnb_service : \"search\", gnb_template : \"gnb_utf8\", gnb_logout : encodeURIComponent(location.href), gnb_login : encodeURIComponent(location.href), gnb_brightness : 1 , gnb_item_hide_option : 0 } ; var gnb_url = \"https://ssl.pstatic.net/static.gn/templates/gnb_utf8.nhn\" ; nx_js_defer_load(gnb_url + \"?\" + headerfooter_time_year_s + headerfooter_time_month_s + headerfooter_time_day_s + headerfooter_time_hour_s, function() { getGNB() ; /* GNB Layer 찌꺼기 제거 대응 */ $Fn(function(we) { if (typeof gnbAllLayerClose == \"function\") { var bShowLayer = gnbUserLayer.show || gnbNaverMeLayer.show || gnbMoreLayer.show; var bClickGNBArea = $Element($$.getSingle(\"ul.gnb_lst\")).isEqual(we.element) || $Element($$.getSingle(\"ul.gnb_lst\")).isParentOf(we.element); if (bShowLayer && !bClickGNBArea) { gnbAllLayerClose(); } } }, this).attach(document, \"click\"); }, 0) ; </script> </div> </div><script> var nx_usain_beacon = function($) { var sent = 0; var tags = []; var usain_obj = { send: function() { if (sent > 0) { return; } sent = 1; setTimeout(function() { var perf = \"\"; perf = (function() { function _(t) { return (t?(t-window.performance.timing.navigationStart):0); }; if (typeof(window.performance) == \"undefined\") { return \"\" } if (typeof(window.performance.timing) == \"undefined\") { return \"\" } if (typeof(window.performance.navigation) == \"undefined\") { return \"\" } if (typeof(window.g_puid) == \"undefined\") { return \"\" } if (typeof(window.g_ssc) == \"undefined\") { return \"\" } var t = window.performance.timing; var n = window.performance.navigation; return \"navt=\" + [_(t.navigationStart), _(t.unloadEventStart), _(t.unloadEventEnd), _(t.redirectStart), _(t.redirectEnd), _(t.fetchStart), _(t.domainLookupStart), _(t.domainLookupEnd), _(t.connectStart), _(t.connectEnd), _(t.requestStart), _(t.responseStart), _(t.responseEnd), _(t.domLoading), _(t.domInteractive), _(t.domContentLoadedEventStart), _(t.domContentLoadedEventEnd), _(t.domComplete), _(t.loadEventStart), _(t.loadEventEnd), n.type, n.redirectCount].join(\":\") + \"&page_id=\" + encodeURIComponent(window.g_puid) + \"&ssc=\" + encodeURIComponent(window.g_ssc); }) (); if (document.location.protocol === 'https:') { tags.push('_ssl'); } else { tags.push('_nossl'); } var agent = eg.agent(); if (agent.browser.version) { var version = \"\"; var vers = (agent.browser.version + \"\").split('.'); version = vers[0]; if (version > 0) { tags.push('ua.' + agent.browser.name + '.' + version); } } var queries = []; if (perf) { queries.push(perf); } queries.push(\"tags=\" + tags.join(\":\") ); var u = new Image(); u.src = \"https://er.search.naver.com/er?v=2&\" + queries.join(\"&\"); u.onload = function() { u.onload = null; } }, 250); }, add_tag: function(tag) { tags.push(tag); } }; return usain_obj; }(jQuery); </script> <div id=\"lnb\" tabindex=\"0\"><div class=\"lnb_group\"> <div class=\"lnb_menu\"> <ul role=\"tablist\" class=\"base\"> <li role=\"presentation\" class=\"menu\"><a role=\"tab\" href=\"?where=nexearch&amp;sm=tab_jum&amp;query=%ED%99%98%EC%9C%A8\" onclick=\"return goOtherCR(this,'a=tab*N.now&amp;r=1&amp;i=&amp;u='+urlencode(this.href));\" class=\"tab\" aria-selected=\"true\">통합</a></li><li role=\"presentation\" class=\"menu\"><a role=\"tab\" href=\"?where=view&amp;sm=tab_jum&amp;query=%ED%99%98%EC%9C%A8\" onclick=\"return goOtherCR(this,'a=tab*e.jmp&amp;r=2&amp;i=&amp;u='+urlencode(this.href))\" class=\"tab\" aria-selected=\"false\">VIEW</a></li><li role=\"presentation\" class=\"menu\"><a role=\"tab\" href=\"?where=image&amp;sm=tab_jum&amp;query=%ED%99%98%EC%9C%A8\" onclick=\"return goOtherCR(this,'a=tab*i.jmp&amp;r=3&amp;i=&amp;u='+urlencode(this.href));\" class=\"tab\" aria-selected=\"false\">이미지</a></li><li role=\"presentation\" class=\"menu\"><a role=\"tab\" href=\"?where=kin&amp;sm=tab_jum&amp;query=%ED%99%98%EC%9C%A8\" onclick=\"return goOtherCR(this,'a=tab*k.jmp&amp;r=4&amp;i=&amp;u='+urlencode(this.href));\" class=\"tab\" aria-selected=\"false\">지식iN</a></li><li role=\"presentation\" class=\"menu\"><a role=\"tab\" href=\"?where=influencer&amp;sm=tab_jum&amp;query=%ED%99%98%EC%9C%A8\" onclick=\"return goOtherCR(this,'a=tab*F.jmp&amp;r=5&amp;i=&amp;u='+urlencode(this.href));\" class=\"tab\" aria-selected=\"false\">인플루언서</a></li><li role=\"presentation\" class=\"menu\"><a role=\"tab\" href=\"?where=video&amp;sm=tab_jum&amp;query=%ED%99%98%EC%9C%A8\" onclick=\"return goOtherCR(this,'a=tab*v.jmp&amp;r=6&amp;i=&amp;u='+urlencode(this.href));\" class=\"tab\" aria-selected=\"false\">동영상</a></li><li role=\"presentation\" class=\"menu\"><a role=\"tab\" href=\"https://search.shopping.naver.com/search/all?where=all&amp;frm=NVSCTAB&amp;query=%ED%99%98%EC%9C%A8\" onclick=\"return goOtherCR(this,'a=tab*S.jmp&amp;r=7&i=&amp;u='+urlencode(this.href));\" class=\"tab\" aria-selected=\"false\" target=\"_blank\">쇼핑</a></li><li role=\"presentation\" class=\"menu\"><a role=\"tab\" href=\"?where=news&amp;sm=tab_jum&amp;query=%ED%99%98%EC%9C%A8\" onclick=\"return goOtherCR(this,'a=tab*n.jmp&amp;r=8&amp;i=&amp;u='+urlencode(this.href));\" class=\"tab\" aria-selected=\"false\">뉴스</a></li><li role=\"presentation\" class=\"menu\"><a role=\"tab\" href=\"https://dict.naver.com/search.nhn?dicQuery=%ED%99%98%EC%9C%A8&amp;query=%ED%99%98%EC%9C%A8&amp;target=dic&amp;query_utf=&amp;isOnlyViewEE=\" onclick=\"return goOtherCR(this,'a=tab*L.jmp&amp;r=9&amp;i=&amp;u='+urlencode(this.href));\" class=\"tab\" aria-selected=\"false\" target=\"_blank\">어학사전</a></li><li role=\"presentation\" class=\"menu\"><a role=\"tab\" href=\"https://map.naver.com/v5/search/%ED%99%98%EC%9C%A8\" onclick=\"return goOtherCR(this,'a=tab*M.jmp&amp;r=10&amp;i=&amp;u='+urlencode(this.href));\" class=\"tab\" aria-selected=\"false\" target=\"_blank\">지도</a></li> </ul> <div class=\"group_more\"> <div id=\"_nx_lnb_more\" class=\"more_area\"> <a role=\"button\" href=\"#\" class=\"lnb_more _more_btn\" aria-pressed=\"false\" onclick=\"tCR(jQuery(this).attr('aria-pressed') === 'false' ? 'a=tab.more' : 'a=tmr.less');\"> <i class=\"spnew ico_lnb_more\">더보기</i> </a> <div class=\"addon\"> <ul> <li role=\"presentation\" class=\"menu\"><a role=\"tab\" href=\"https://search.shopping.naver.com/book/search?query=%ED%99%98%EC%9C%A8\" onclick=\"return goOtherCR(this,'a=tmr*B.jmp&amp;r=1&amp;i=&amp;u='+urlencode(this.href));\" class=\"tab\" aria-selected=\"false\" target=\"_blank\">도서</a></li><li role=\"presentation\" class=\"menu\"><a role=\"tab\" href=\"https://vibe.naver.com/search?query=%ED%99%98%EC%9C%A8\" onclick=\"return goOtherCR(this,'a=tmr*m.jmp&amp;r=2&amp;i=&amp;u='+urlencode(this.href));\" class=\"tab\" aria-selected=\"false\" target=\"_blank\">뮤직</a></li><li role=\"presentation\" class=\"menu\"><a role=\"tab\" href=\"?where=kdic&amp;sm=tab_jum&amp;query=%ED%99%98%EC%9C%A8\" onclick=\"return goOtherCR(this,'a=tmr*K.jmp&amp;r=3&amp;i=&amp;u='+urlencode(this.href));\" class=\"tab\" aria-selected=\"false\">지식백과</a></li><li role=\"presentation\" class=\"menu\"><a role=\"tab\" href=\"https://audioclip.naver.com/search/all?keyword=%ED%99%98%EC%9C%A8\" onclick=\"return goOtherCR(this,'a=tmr*A.jmp&amp;r=4&amp;i=&amp;u='+urlencode(this.href));\" class=\"tab\" aria-selected=\"false\" target=\"_blank\">오디오클립</a></li><li role=\"presentation\" class=\"menu\"><a role=\"tab\" href=\"https://academic.naver.com/search.naver?field=0&amp;query=%ED%99%98%EC%9C%A8\" onclick=\"return goOtherCR(this,'a=tmr*a.jmp&amp;r=5&amp;i=&amp;u='+urlencode(this.href));\" class=\"tab\" aria-selected=\"false\" target=\"_blank\">학술정보</a></li> </ul> <a role=\"button\" href=\"#\" class=\"btn_option _option_btn\" onclick=\"return tCR('a=tmr.optn');\" aria-pressed=\"false\" >검색옵션</a> </div> </div> </div> </div> </div><script> (function() { var startApplication = function() { var jsFileURL = \"https://ssl.pstatic.net/sstatic/au/pc/tab/SearchTab_210504.js\"; var require = window.require.config({ \"context\": \"search_tab_module\", \"paths\": { \"SearchTab\": jsFileURL.replace(/\\.js$/, \"\") } }); define(\"jquery\", [], function() { return jQuery; }); require([\"SearchTab\"], function(SearchTab) { var BASE_FLOATING_WIDTH = 1181; var $window = jQuery(window); var $lnb = jQuery(\"#lnb\"); var $headerWrap = jQuery(\"#header_wrap\"); var tab = new SearchTab($window, $lnb) .on(\"checkWindowWidth\", function(e){ if (e.windowWidth >= BASE_FLOATING_WIDTH) { $headerWrap.addClass(\"type_fixed\"); tab.activateFloating(); } else { tab.deactivateFloating(); $headerWrap .removeClass(\"type_fixed\") .removeClass(\"type_hide\"); } }) .on(\"hideTab\", function(){ if (window.g_nx_splugin && typeof window.g_nx_splugin.hide === \"function\") { window.g_nx_splugin.hide(); } }) .on(\"changeState\", function(e){ $headerWrap.toggleClass(\"type_hide\", e.isUnderBaseline); if (e.isUnderBaseline) { $headerWrap.addClass(\"type_animation\"); } }); window.naver = window.naver || {}; window.naver.pc = window.naver.pc || {}; window.naver.pc.search_tab = tab; }); }; naver.common.load_js(window.require ? null : naver.common.gv.REQUIRE_JS, startApplication, true, 150); })(); </script><div class=\"lnb_util\"> <ul class=\"list_util\"> <li> <a role=\"button\" href=\"#\" id=\"spiButton2\" class=\"spnew_bf bt_share naver-splugin\" onclick=\"return tCR('a=lnb.shr');\" data-evkey=\"search\" data-service-name=\"통합검색\" data-style=\"unity-v2\" data-use-short-url=\"on\" data-me-display=\"off\" data-mail-display=\"off\" data-option=\"{baseElement:'spiButton2', layerPosition:'outside-bottom', align:'right', top:4, left:0, marginLeft:8, marginTop:10}\" data-blog-url=\"https://search.naver.com/search.naver?fbm=1&amp;ie=utf8&amp;query=%ED%99%98%EC%9C%A8&amp;sm=svc_pin.blog&amp;where=nexearch\" data-cafe-url=\"https://search.naver.com/search.naver?fbm=1&amp;ie=utf8&amp;query=%ED%99%98%EC%9C%A8&amp;sm=svc_pin.cafe&amp;where=nexearch\" data-cafe-source-form=\"2\" data-memo-url=\"https://search.naver.com/search.naver?fbm=1&amp;ie=utf8&amp;query=%ED%99%98%EC%9C%A8&amp;sm=svc_pin.memo&amp;where=nexearch\" data-calendar-url=\"https://search.naver.com/search.naver?fbm=1&amp;ie=utf8&amp;query=%ED%99%98%EC%9C%A8&amp;sm=svc_pin.cal&amp;where=nexearch\" data-twitter-url=\"https://search.naver.com/search.naver?fbm=1&amp;ie=utf8&amp;query=%ED%99%98%EC%9C%A8&amp;sm=twp_pin&amp;where=nexearch\" data-facebook-url=\"https://search.naver.com/search.naver?fbm=1&amp;ie=utf8&amp;query=%ED%99%98%EC%9C%A8&amp;sm=fbp_pin&amp;where=nexearch\" data-band-url=\"https://search.naver.com/search.naver?fbm=1&amp;ie=utf8&amp;query=%ED%99%98%EC%9C%A8&amp;sm=bdp_pin&amp;where=nexearch\" >공유</a> </li> </ul> </div></div><script> naver.search.section = { \"main\": [{\"area\": \"nco_x5m*a\", \"rank\": 1},{\"area\": \"pwl_nop\", \"rank\": 2},{\"area\": \"nws_all*acbd\", \"rank\": 3},{\"area\": \"sit_4po*ebGl\", \"rank\": 4},{\"area\": \"itb_bas*0bf\", \"rank\": 5},{\"area\": \"web_gen*wclGx\", \"rank\": 6},{\"area\": \"biz_nop\", \"rank\": 7}], \"main2\": [{\"area\": \"rsk_top*qa\", \"rank\": 1},{\"area\": \"bnr\", \"rank\": 2}],  \"find_section_list\": function(column, area) { if (!this[column]) return []; return this[column].filter(function(a) { return a.area.indexOf(area) === 0; }); } }; </script></div> </div><div id=\"container\" role=\"main\"> <div id=\"content\" class=\"pack_group\"> <h1 class=\"blind\">환율 통합검색 결과</h1><div id=\"main_pack\" class=\"main_pack\"><script> var nx_cr_area_info = [{\"n\": \"nco_x5m\", \"r\": 1},{\"n\": \"pwl_nop\", \"r\": 2},{\"n\": \"nws_all\", \"r\": 3},{\"n\": \"sit_4po\", \"r\": 4},{\"n\": \"itb_bas\", \"r\": 5},{\"n\": \"web_gen\", \"r\": 6},{\"n\": \"biz_nop\", \"r\": 7}]; </script><script> naver.search.option = {} ; naver.search.option.params = {} ; naver.search.option.append_params = (function () { return function (f, exclude) { if (exclude == undefined) exclude = []; for (var k in naver.search.option.params) { if (exclude.indexOf(k) >= 0) continue; var v = naver.search.option.params[k] ; var input = document.createElement(\"input\"); input.type = \"hidden\"; input.name = k ; input.value = v ; f.appendChild(input); } return true ; } ; })() ; naver.search.option.get_params = (function () { return function () { var option_params = \"\" ; for (var k in naver.search.option.params) { var v = naver.search.option.params[k]; option_params = option_params.concat(\"&\" + k + \"=\" + urlencode(v)); } return option_params ; } ; })() ; </script><div id=\"snb\" class=\"_search_option_detail_wrap\" style=\"display:none;\"> <form id=\"nx_option_form\" name=\"nx_option_form\" action=\"?\"> <input type=\"hidden\" id=\"where\" name=\"where\" value=\"nexearch\"> <input type=\"hidden\" id=\"query\" name=\"query\" value=\"환율\"> <input type=\"hidden\" id=\"sm\" name=\"sm\" value=\"tab_opt\"> </form> <div role=\"listbox\" class=\"api_group_option_sort\"> <button onclick=\"return tCR('a=opt.fold');\" type=\"button\" class=\"spnew_bf bt_close _search_option_close_btn\">검색옵션 닫기</button> <ul class=\"lst_option\"> <li class=\"bx lineup\"> <div class=\"bx_inner\"> <strong class=\"tit\">정렬</strong> <div role=\"tablist\" class=\"option\"> <a role=\"tab\" class=\"txt\" aria-selected=\"true\" href=\"?where=nexearch&amp;sm=tab_opt&amp;query=%ED%99%98%EC%9C%A8&amp;nso=so%3Ar&amp;nso_open=1\" onclick=\"return goOtherCR(this, 'a=opt.sim&amp;r=&amp;i=&amp;u='+urlencode(this.href));\">관련도순</a><a role=\"tab\" class=\"txt\" aria-selected=\"false\" href=\"?where=nexearch&amp;sm=tab_opt&amp;query=%ED%99%98%EC%9C%A8&amp;nso=so%3Add&amp;nso_open=1\" onclick=\"return goOtherCR(this, 'a=opt.new&amp;r=&amp;i=&amp;u='+urlencode(this.href));\">최신순</a> </div> </div> </li> <li class=\"bx term\"> <div class=\"bx_inner\"> <strong class=\"tit\">기간</strong> <div role=\"tablist\" class=\"option\"> <a role=\"tab\" class=\"txt\" aria-selected=\"true\" href=\"?where=nexearch&amp;sm=tab_opt&amp;query=%ED%99%98%EC%9C%A8&amp;nso=p%3Aall&amp;nso_open=1\" onclick=\"return goOtherCR(this, 'a=opt.all&amp;r=&amp;i=&amp;u='+urlencode(this.href));\">전체</a><a role=\"tab\" class=\"txt\" aria-selected=\"false\" href=\"?where=nexearch&amp;sm=tab_opt&amp;query=%ED%99%98%EC%9C%A8&amp;nso=p%3A1h&amp;nso_open=1\" onclick=\"return goOtherCR(this, 'a=opt.1hr&amp;r=&amp;i=&amp;u='+urlencode(this.href));\">1시간</a><a role=\"tab\" class=\"txt\" aria-selected=\"false\" href=\"?where=nexearch&amp;sm=tab_opt&amp;query=%ED%99%98%EC%9C%A8&amp;nso=p%3A1d&amp;nso_open=1\" onclick=\"return goOtherCR(this, 'a=opt.1day&amp;r=&amp;i=&amp;u='+urlencode(this.href));\">1일</a><a role=\"tab\" class=\"txt\" aria-selected=\"false\" href=\"?where=nexearch&amp;sm=tab_opt&amp;query=%ED%99%98%EC%9C%A8&amp;nso=p%3A1w&amp;nso_open=1\" onclick=\"return goOtherCR(this, 'a=opt.1wk&amp;r=&amp;i=&amp;u='+urlencode(this.href));\">1주</a><a role=\"tab\" class=\"txt\" aria-selected=\"false\" href=\"?where=nexearch&amp;sm=tab_opt&amp;query=%ED%99%98%EC%9C%A8&amp;nso=p%3A1m&amp;nso_open=1\" onclick=\"return goOtherCR(this, 'a=opt.1mon&amp;r=&amp;i=&amp;u='+urlencode(this.href));\">1개월</a><a role=\"tab\" class=\"txt\" aria-selected=\"false\" href=\"?where=nexearch&amp;sm=tab_opt&amp;query=%ED%99%98%EC%9C%A8&amp;nso=p%3A3m&amp;nso_open=1\" onclick=\"return goOtherCR(this, 'a=opt.3mon&amp;r=&amp;i=&amp;u='+urlencode(this.href));\">3개월</a><a role=\"tab\" class=\"txt\" aria-selected=\"false\" href=\"?where=nexearch&amp;sm=tab_opt&amp;query=%ED%99%98%EC%9C%A8&amp;nso=p%3A6m&amp;nso_open=1\" onclick=\"return goOtherCR(this, 'a=opt.6mon&amp;r=&amp;i=&amp;u='+urlencode(this.href));\">6개월</a><a role=\"tab\" class=\"txt\" aria-selected=\"false\" href=\"?where=nexearch&amp;sm=tab_opt&amp;query=%ED%99%98%EC%9C%A8&amp;nso=p%3A1y&amp;nso_open=1\" onclick=\"return goOtherCR(this, 'a=opt.1yr&amp;r=&amp;i=&amp;u='+urlencode(this.href));\">1년</a> <a onclick=\"tCR('a=opt.cal');\" href=\"#\" role=\"tab\" class=\"txt txt_option _calendar_select_trigger\" data-select-trigger aria-selected=\"false\">직접입력<i class=\"spnew ico_check\">옵션<em class=\"open\">펼치기</em><em class=\"close\">접기</em></i></a> </div> <div class=\"api_select_option type_calendar _calendar_select_layer\" data-select-layer style=\"display: none;\"> <div role=\"tablist\" class=\"set_calendar\"> <span class=\"set\"> <span class=\"blind\">기간 설정시작</span> <a onclick=\"tCR('a=opt.str');\" href=\"#\" role=\"tab\" class=\"spnew_bf ico_calendar _start_trigger\" aria-selected=\"true\"></a> </span> <span class=\"set etc\"> <span class=\"spnew ico_since\"></span> </span> <span class=\"set\"> <span class=\"blind\">기간 설정끝</span> <a onclick=\"tCR('a=opt.fin');\" href=\"#\" role=\"tab\" class=\"spnew_bf ico_calendar _end_trigger\" aria-selected=\"false\"></a> </span> </div> <div class=\"select_wrap _root\"> <div class=\"group_select _list_root\"> <strong class=\"blind\">년(Year)</strong> <div class=\"select_cont\"> <div class=\"select_area _scroll_wrapper\"> <div> <ul role=\"tablist\" class=\"lst_item _ul\"></ul> </div> </div> </div> </div> <div class=\"group_select _list_root\"> <strong class=\"blind\">월(Month)</strong> <div class=\"select_cont\"> <div class=\"select_area _scroll_wrapper\"> <div> <ul role=\"tablist\" class=\"lst_item _ul\"></ul> </div> </div> </div> </div> <div class=\"group_select _list_root\"> <strong class=\"blind\">일(Day)</strong> <div class=\"select_cont\"> <div class=\"select_area _scroll_wrapper\"> <div> <ul role=\"tablist\" class=\"lst_item _ul\"></ul> </div> </div> </div> </div> </div> <div class=\"btn_area\"> <button data-cr-area=\"opt.set\" type=\"button\" class=\"btn_apply _apply_btn\">적용</button> </div> </div> </div> </li> <li class=\"bx clear\"> <div class=\"bx_inner\"> <div class=\"option\"> <a href=\"?where=nexearch&amp;sm=tab_opt&amp;query=%ED%99%98%EC%9C%A8&amp;nso_open=1\" onclick=\"return goOtherCR(this, 'a=opt.reset&amp;r=&amp;i=&amp;u='+urlencode(this.href));\" class=\"btn_clear spnew_bf\" role=\"button\">옵션초기화</a> <a href=\"https://help.naver.com/support/alias/search/integration/intergration_84.naver\" target=\"_blank\" onclick=\"return goOtherCR(this, 'a=opt.help&amp;r=&amp;i=&amp;u='+urlencode(this.href));\" class=\"link_help\">검색옵션 가이드<i class=\"spnew api_ico_help\"></i></a> </div> </div> </li> </ul> </div> </div><script> naver.search.option.append_params(jQuery(\"#nx_option_form\")[0]); </script> <script> (function() { var jsFileURL = \"https://ssl.pstatic.net/sstatic/fe/sfe/searchOption/Controller_220519.js\"; var startApplication = function() { var require = window.require.config({ \"context\": \"_fe_search_option\", \"paths\": { /* Controller.js의 경로 지정. */ \"Controller\": jsFileURL.replace(/\\.js$/, \"\") } }); /* module define은 require의 context별로 호출해야함. */ define(\"jquery\", [], function() { return jQuery; }); require([\"Controller\"], function(Controller) { var oSearchOption = new Controller({ \"$form\": jQuery(\"#nx_option_form\") }); oSearchOption.on({ \"selectCalendar\": function(e) { var param = e.param; var cr = { \"area\": e.$item.data(\"cr-area\") }; var date_from = e.startDate; var date_to = e.endDate; var from = date_from.year + \".\" + date_from.month + \".\" + date_from.date; from = from.replace(/\\./g, ''); var to = date_to.year + \".\" + date_to.month + \".\" + date_to.date; to = to.replace(/\\./g, ''); var opt_p = \"p:from\" + (from < to ? from : to) + \"to\" + (from < to ? to : from); var params = naver.search.option.params; var nso = params[\"nso\"]; if (nso) { var arr = nso.split(\",\"); var isPeriodExist = false; arr.forEach(function(element, index, arr){ if (element.indexOf(\"p:\") == 0) { arr[index] = opt_p; isPeriodExist = true; } }); if (!isPeriodExist){ arr.push(opt_p); } nso = arr.join(\",\"); } else { nso = opt_p; } params[\"nso\"] = nso; param = \"\"; for (var k in params) { var v = params[k]; param += \"&\" + k + \"=\" + urlencode(v); } if (param[0] === \"&\") { param = param.substring(1); } /* formCR 클릭로그 호출 */ this.submit(param, cr); } }); }); }; var requirejs = naver.common.gv.REQUIRE_JS; naver.common.load_js(window.require ? null : requirejs, startApplication, true, 150); })(); </script><script>var g_uad = false; </script><link rel=\"stylesheet\" type=\"text/css\" href=\"https://ssl.pstatic.net/sstatic/keypage/outside/scui/foreigninfo/css/cs_exchangerate_new_230307.css\"> <link rel=\"stylesheet\" type=\"text/css\" href=\"https://ssl.pstatic.net/sstatic/keypage/outside/scui/stock_exchange/css/pcs_stock_exchange_221115.css\"> <section class=\"sc_new cs_stock_exchange\" id=\"_cs_foreigninfo\" data-dss-logarea=\"x5m\"> <div class=\"api_subject_bx\"> <div id=\"header\" class=\"api_title_area\"> <h3 class=\"api_title\">해외정보</h3> </div> <div class=\"api_cs_wrap\"> <div class=\"cs_foreigninfo\"> <ul class=\"lst_tab\"> <li> <a nocr onclick=\"return goOtherCR(this, 'a=nco_x5m*a.map&r=1&i=0800042F_00000028AC42&u=' + urlencode(this.href));\" href=\"?where=nexearch&sm=tab_etc&qvt=0&query=%EC%84%B8%EA%B3%84%EC%A7%80%EB%8F%84\" class=\"tab_map\"> <span class=\"blind\">세계지도</span> </a> </li> <li> <a nocr onclick=\"return goOtherCR(this, 'a=nco_x5m*a.time&r=1&i=0800042F_00000028AC42&u=' + urlencode(this.href));\" href=\"?where=nexearch&sm=tab_etc&qvt=0&query=%EC%84%B8%EA%B3%84%EC%8B%9C%EA%B0%84\" class=\"tab_time\"> <span class=\"blind\">세계시간</span> </a> </li> <li> <a nocr onclick=\"return goOtherCR(this, 'a=nco_x5m*a.code&r=1&i=0800042F_00000028AC42&u=' + urlencode(this.href));\" href=\"?where=nexearch&sm=tab_etc&qvt=0&query=%EA%B5%AD%EA%B0%80%EB%B2%88%ED%98%B8\" class=\"tab_num\"> <span class=\"blind\">국가번호</span> </a> </li> <li class=\"on\"> <a nocr onclick=\"return goOtherCR(this, 'a=nco_x5m*a.exrat&r=1&i=0800042F_00000028AC42&u=' + urlencode(this.href));\" href=\"?where=nexearch&sm=tab_etc&qvt=0&query=%ED%99%98%EC%9C%A8\" class=\"tab_rate\"> <span class=\"blind\">환율</span> </a> </li> </ul> <div class=\"c_rate\"> <div class=\"rate_bx\"> <div class=\"rate_spot _rate_spot\"> <div class=\"rate_tlt\"> <h3> <a nocr onclick=\"return goOtherCR(this, 'a=nco_x5m*a.titlay&r=1&i=0800042F_00000028AC42&u=' + urlencode(this.href));\" href=\"https://finance.naver.com/marketindex/?tabSel=exchange#tab_section\" target=\"_blank\"> <span class=\"title\"><span class=\"rate_nm\">원달러</span><em class=\"t_nm\">미국USD</em></span> <span class=\"spt_con up\"> <span class=\"blind\">지수</span><strong>1,315.10</strong> <span class=\"price\"> <span class=\"blind\">전일대비</span><span class=\"ico\">상승</span><em>7.60</em> <em>(+0.58%)</em> </span> </span> </a> </h3> </div> <div class=\"cont_grp _graph\"> <div class=\"grp_nav\"> <h4 class=\"blind\">기간별 정보</h4> <ul> <li class=\"on _tab\"> <a nocr onclick=\"goOtherTCR(this, 'a=nco_x5m*a.1d&r=1&i=0800042F_00000028AC42');return false;\" href=\"#\">1일</a> </li> <li class=\"_tab\"> <a nocr onclick=\"goOtherTCR(this, 'a=nco_x5m*a.3m&r=1&i=0800042F_00000028AC42');return false;\" href=\"#\">3개월</a> </li> <li class=\"_tab\"> <a nocr onclick=\"goOtherTCR(this, 'a=nco_x5m*a.1y&r=1&i=0800042F_00000028AC42');return false;\" href=\"#\">1년</a> </li> <li class=\"_tab\"> <a nocr onclick=\"goOtherTCR(this, 'a=nco_x5m*a.3y&r=1&i=0800042F_00000028AC42');return false;\" href=\"#\">3년</a> </li> <li class=\"_tab\"> <a nocr onclick=\"goOtherTCR(this, 'a=nco_x5m*a.10y&r=1&i=0800042F_00000028AC42');return false;\" href=\"#\">10년</a> </li> </ul> </div> <div class=\"grp_img\"> <div class=\"img _panel\"> <div id=\"_exchange_chart0\"></div> </div> <div class=\"img _panel\"> <div id=\"_exchange_chart1\"></div> </div> <div class=\"img _panel\"> <div id=\"_exchange_chart2\"></div> </div> <div class=\"img _panel\"> <div id=\"_exchange_chart3\"></div> </div> <div class=\"img _panel\"> <div id=\"_exchange_chart4\"></div> </div> </div> <p class=\"grp_info\"> <em>2023.08.08 12:39</em> <a nocr onclick=\"return goOtherCR(this, 'a=nco_x5m*a.logo&r=1&i=0800042F_00000028AC42&u=' + urlencode(this.href));\" href=\"https://www.kebhana.com/\" target=\"_blank\"> <img src=\"https://ssl.pstatic.net/sstatic/keypage/outside/scui/foreigninfo/img/img_hana_v2.png\" width=\"51px\" height=\"14px\" alt=\"하나은행 로그이미지\"> </a> </p> </div> </div> <div class=\"rate_compare\"> <div class=\"rate_select_bx\"> <div class=\"rate_select _radio_box\" data-query=\"u1\" data-option-query=\"u8=down&amp;u5=all\"> <div class=\"check_area\"> <ul> <li> <div class=\"radio_check _radioBtn on\" data-value=\"keb\"> <a nocr onclick=\"goOtherTCR(this, 'a=nco_x5m*a.bank&r=1&i=0800042F_00000028AC42');return false;\" href=\"#\"> <div class=\"ico_radio\"></div><span class=\"radio_text\">하나은행</span></a> </div> </li> <li> <div class=\"radio_check _radioBtn \" data-value=\"shb\"> <a nocr onclick=\"goOtherTCR(this, 'a=nco_x5m*a.bank&r=1&i=0800042F_00000028AC42');return false;\" href=\"#\"> <div class=\"ico_radio\"></div><span class=\"radio_text\">신한은행</span></a> </div> </li> </ul> </div> </div> </div> <div class=\"rate_select_bx type2\"> <div class=\"rate_select _select_box\" data-query=\"u6\" data-option-query=\"u8=down&amp;u5=all\"> <a nocr onclick=\"goOtherTCR(this, 'a=nco_x5m*a.deal&r=1&i=0800042F_00000028AC42');return false;\" href=\"#\" class=\"_trigger _text\">매매기준율</a> <div class=\"ch_wrap_ly bank_ly_left _list\" style=\"display: none;\"> <ul class=\"ly_cont _l\"> <li class=\"_i\" data-value=\"buy\"><a onclick='return goOtherCR(this,&quot;a=nco_x5m*a&r=1&i=&quot;+urlencode(&quot;0800042F_00000028AC42&quot;)+&quot;&u=&quot;+urlencode(this.href));' href=\"#\">현찰 살때</a></li> <li class=\"_i\" data-value=\"sell\"><a onclick='return goOtherCR(this,&quot;a=nco_x5m*a&r=1&i=&quot;+urlencode(&quot;0800042F_00000028AC42&quot;)+&quot;&u=&quot;+urlencode(this.href));' href=\"#\">현찰 팔때</a></li> <li class=\"_i\" data-value=\"send\"><a onclick='return goOtherCR(this,&quot;a=nco_x5m*a&r=1&i=&quot;+urlencode(&quot;0800042F_00000028AC42&quot;)+&quot;&u=&quot;+urlencode(this.href));' href=\"#\">송금 보낼때</a></li> <li class=\"_i\" data-value=\"receive\"><a onclick='return goOtherCR(this,&quot;a=nco_x5m*a&r=1&i=&quot;+urlencode(&quot;0800042F_00000028AC42&quot;)+&quot;&u=&quot;+urlencode(this.href));' href=\"#\">송금 받을때</a></li> <li class=\"_i on\" data-value=\"standardUnit\"><a onclick='return goOtherCR(this,&quot;a=nco_x5m*a&r=1&i=&quot;+urlencode(&quot;0800042F_00000028AC42&quot;)+&quot;&u=&quot;+urlencode(this.href));' href=\"#\">매매기준율</a></li> </ul> </div> </div> <div class=\"rate_select _select_box\" data-query=\"u7\" data-option-query=\"u8=down&amp;u5=all\"> <a nocr onclick=\"goOtherTCR(this, 'a=nco_x5m*a.coupon&r=1&i=0800042F_00000028AC42');return false;\" href=\"#\" class=\"_trigger _text\">환율우대없음</a> <div class=\"ch_wrap_ly bank_ly_right _list\" style=\"display: none;\"> <ul class=\"ly_cont _l\"> <li class=\"_i on\" data-value=\"0\"><a onclick='return goOtherCR(this,&quot;a=nco_x5m*a&r=1&i=&quot;+urlencode(&quot;0800042F_00000028AC42&quot;)+&quot;&u=&quot;+urlencode(this.href));' href=\"#\">환율우대없음</a></li> <li class=\"_i\" data-value=\"0.9\"><a onclick='return goOtherCR(this,&quot;a=nco_x5m*a&r=1&i=&quot;+urlencode(&quot;0800042F_00000028AC42&quot;)+&quot;&u=&quot;+urlencode(this.href));' href=\"#\">환율우대 90%</a></li> <li class=\"_i\" data-value=\"0.8\"><a onclick='return goOtherCR(this,&quot;a=nco_x5m*a&r=1&i=&quot;+urlencode(&quot;0800042F_00000028AC42&quot;)+&quot;&u=&quot;+urlencode(this.href));' href=\"#\">환율우대 80%</a></li> <li class=\"_i\" data-value=\"0.7\"><a onclick='return goOtherCR(this,&quot;a=nco_x5m*a&r=1&i=&quot;+urlencode(&quot;0800042F_00000028AC42&quot;)+&quot;&u=&quot;+urlencode(this.href));' href=\"#\">환율우대 70%</a></li> <li class=\"_i\" data-value=\"0.6\"><a onclick='return goOtherCR(this,&quot;a=nco_x5m*a&r=1&i=&quot;+urlencode(&quot;0800042F_00000028AC42&quot;)+&quot;&u=&quot;+urlencode(this.href));' href=\"#\">환율우대 60%</a></li> <li class=\"_i\" data-value=\"0.5\"><a onclick='return goOtherCR(this,&quot;a=nco_x5m*a&r=1&i=&quot;+urlencode(&quot;0800042F_00000028AC42&quot;)+&quot;&u=&quot;+urlencode(this.href));' href=\"#\">환율우대 50%</a></li> <li class=\"_i\" data-value=\"0.4\"><a onclick='return goOtherCR(this,&quot;a=nco_x5m*a&r=1&i=&quot;+urlencode(&quot;0800042F_00000028AC42&quot;)+&quot;&u=&quot;+urlencode(this.href));' href=\"#\">환율우대 40%</a></li> <li class=\"_i\" data-value=\"0.3\"><a onclick='return goOtherCR(this,&quot;a=nco_x5m*a&r=1&i=&quot;+urlencode(&quot;0800042F_00000028AC42&quot;)+&quot;&u=&quot;+urlencode(this.href));' href=\"#\">환율우대 30%</a></li> <li class=\"_i\" data-value=\"0.2\"><a onclick='return goOtherCR(this,&quot;a=nco_x5m*a&r=1&i=&quot;+urlencode(&quot;0800042F_00000028AC42&quot;)+&quot;&u=&quot;+urlencode(this.href));' href=\"#\">환율우대 20%</a></li> <li class=\"_i\" data-value=\"0.1\"><a onclick='return goOtherCR(this,&quot;a=nco_x5m*a&r=1&i=&quot;+urlencode(&quot;0800042F_00000028AC42&quot;)+&quot;&u=&quot;+urlencode(this.href));' href=\"#\">환율우대 10%</a></li> </ul> </div> </div> </div> <div class=\"compare_area\"> <div class=\"compare_section\"> <div class=\"fr_info\"> <div id=\"ds_sel\" class=\"sbox\"> <div class=\"selectbox_box _select_box\" data-query=\"u3\" data-option-query=\"u8=down&amp;u5=all\"> <div class=\"selectbox_label _trigger\"> <span class=\"nation_usd _flag\"> <img src=\"https://ssl.pstatic.net/sstatic/keypage/image/direct/img_blank.gif\" class=\"_img\" alt=\"미국 USD\" width=\"1\" height=\"1\"> </span> <label class=\"_text\">미국 <em>USD</em></label> </div> <div class=\"ch_wrap_ly ly_rate scroll _list\" style=\"display: none;\"> <ul class=\"ly_cont _l\"> <li class=\"_i\" data-value=\"KRW\"><a onclick='return goOtherCR(this,&quot;a=nco_x5m*a&r=1&i=&quot;+urlencode(&quot;0800042F_00000028AC42&quot;)+&quot;&u=&quot;+urlencode(this.href));' href=\"#\">대한민국 KRW</a></li> <li class=\"_i\" data-value=\"ZAR\"><a onclick='return goOtherCR(this,&quot;a=nco_x5m*a&r=1&i=&quot;+urlencode(&quot;0800042F_00000028AC42&quot;)+&quot;&u=&quot;+urlencode(this.href));' href=\"#\">남아프리카 공화국 ZAR</a></li> <li class=\"_i\" data-value=\"NPR\"><a onclick='return goOtherCR(this,&quot;a=nco_x5m*a&r=1&i=&quot;+urlencode(&quot;0800042F_00000028AC42&quot;)+&quot;&u=&quot;+urlencode(this.href));' href=\"#\">네팔 NPR</a></li> <li class=\"_i\" data-value=\"NOK\"><a onclick='return goOtherCR(this,&quot;a=nco_x5m*a&r=1&i=&quot;+urlencode(&quot;0800042F_00000028AC42&quot;)+&quot;&u=&quot;+urlencode(this.href));' href=\"#\">노르웨이 NOK</a></li> <li class=\"_i\" data-value=\"NZD\"><a onclick='return goOtherCR(this,&quot;a=nco_x5m*a&r=1&i=&quot;+urlencode(&quot;0800042F_00000028AC42&quot;)+&quot;&u=&quot;+urlencode(this.href));' href=\"#\">뉴질랜드 NZD</a></li> <li class=\"_i\" data-value=\"TWD\"><a onclick='return goOtherCR(this,&quot;a=nco_x5m*a&r=1&i=&quot;+urlencode(&quot;0800042F_00000028AC42&quot;)+&quot;&u=&quot;+urlencode(this.href));' href=\"#\">대만 TWD</a></li> <li class=\"_i\" data-value=\"DKK\"><a onclick='return goOtherCR(this,&quot;a=nco_x5m*a&r=1&i=&quot;+urlencode(&quot;0800042F_00000028AC42&quot;)+&quot;&u=&quot;+urlencode(this.href));' href=\"#\">덴마크 DKK</a></li> <li class=\"_i\" data-value=\"RUB\"><a onclick='return goOtherCR(this,&quot;a=nco_x5m*a&r=1&i=&quot;+urlencode(&quot;0800042F_00000028AC42&quot;)+&quot;&u=&quot;+urlencode(this.href));' href=\"#\">러시아 RUB</a></li> <li class=\"_i\" data-value=\"MOP\"><a onclick='return goOtherCR(this,&quot;a=nco_x5m*a&r=1&i=&quot;+urlencode(&quot;0800042F_00000028AC42&quot;)+&quot;&u=&quot;+urlencode(this.href));' href=\"#\">마카오 MOP</a></li> <li class=\"_i\" data-value=\"MYR\"><a onclick='return goOtherCR(this,&quot;a=nco_x5m*a&r=1&i=&quot;+urlencode(&quot;0800042F_00000028AC42&quot;)+&quot;&u=&quot;+urlencode(this.href));' href=\"#\">말레이시아 MYR</a></li> <li class=\"_i\" data-value=\"MXN\"><a onclick='return goOtherCR(this,&quot;a=nco_x5m*a&r=1&i=&quot;+urlencode(&quot;0800042F_00000028AC42&quot;)+&quot;&u=&quot;+urlencode(this.href));' href=\"#\">멕시코 MXN</a></li> <li class=\"_i\" data-value=\"MNT\"><a onclick='return goOtherCR(this,&quot;a=nco_x5m*a&r=1&i=&quot;+urlencode(&quot;0800042F_00000028AC42&quot;)+&quot;&u=&quot;+urlencode(this.href));' href=\"#\">몽골 MNT</a></li> <li class=\"_i on\" data-value=\"USD\"><a onclick='return goOtherCR(this,&quot;a=nco_x5m*a&r=1&i=&quot;+urlencode(&quot;0800042F_00000028AC42&quot;)+&quot;&u=&quot;+urlencode(this.href));' href=\"#\">미국 USD</a></li> <li class=\"_i\" data-value=\"BHD\"><a onclick='return goOtherCR(this,&quot;a=nco_x5m*a&r=1&i=&quot;+urlencode(&quot;0800042F_00000028AC42&quot;)+&quot;&u=&quot;+urlencode(this.href));' href=\"#\">바레인 BHD</a></li> <li class=\"_i\" data-value=\"BDT\"><a onclick='return goOtherCR(this,&quot;a=nco_x5m*a&r=1&i=&quot;+urlencode(&quot;0800042F_00000028AC42&quot;)+&quot;&u=&quot;+urlencode(this.href));' href=\"#\">방글라데시 BDT</a></li> <li class=\"_i\" data-value=\"VND\"><a onclick='return goOtherCR(this,&quot;a=nco_x5m*a&r=1&i=&quot;+urlencode(&quot;0800042F_00000028AC42&quot;)+&quot;&u=&quot;+urlencode(this.href));' href=\"#\">베트남 VND</a></li> <li class=\"_i\" data-value=\"BRL\"><a onclick='return goOtherCR(this,&quot;a=nco_x5m*a&r=1&i=&quot;+urlencode(&quot;0800042F_00000028AC42&quot;)+&quot;&u=&quot;+urlencode(this.href));' href=\"#\">브라질 BRL</a></li> <li class=\"_i\" data-value=\"BND\"><a onclick='return goOtherCR(this,&quot;a=nco_x5m*a&r=1&i=&quot;+urlencode(&quot;0800042F_00000028AC42&quot;)+&quot;&u=&quot;+urlencode(this.href));' href=\"#\">브루나이 BND</a></li> <li class=\"_i\" data-value=\"SAR\"><a onclick='return goOtherCR(this,&quot;a=nco_x5m*a&r=1&i=&quot;+urlencode(&quot;0800042F_00000028AC42&quot;)+&quot;&u=&quot;+urlencode(this.href));' href=\"#\">사우디아라비아 SAR</a></li> <li class=\"_i\" data-value=\"SEK\"><a onclick='return goOtherCR(this,&quot;a=nco_x5m*a&r=1&i=&quot;+urlencode(&quot;0800042F_00000028AC42&quot;)+&quot;&u=&quot;+urlencode(this.href));' href=\"#\">스웨덴 SEK</a></li> <li class=\"_i\" data-value=\"CHF\"><a onclick='return goOtherCR(this,&quot;a=nco_x5m*a&r=1&i=&quot;+urlencode(&quot;0800042F_00000028AC42&quot;)+&quot;&u=&quot;+urlencode(this.href));' href=\"#\">스위스 CHF</a></li> <li class=\"_i\" data-value=\"SGD\"><a onclick='return goOtherCR(this,&quot;a=nco_x5m*a&r=1&i=&quot;+urlencode(&quot;0800042F_00000028AC42&quot;)+&quot;&u=&quot;+urlencode(this.href));' href=\"#\">싱가포르 SGD</a></li> <li class=\"_i\" data-value=\"AED\"><a onclick='return goOtherCR(this,&quot;a=nco_x5m*a&r=1&i=&quot;+urlencode(&quot;0800042F_00000028AC42&quot;)+&quot;&u=&quot;+urlencode(this.href));' href=\"#\">아랍에미리트 AED</a></li> <li class=\"_i\" data-value=\"GBP\"><a onclick='return goOtherCR(this,&quot;a=nco_x5m*a&r=1&i=&quot;+urlencode(&quot;0800042F_00000028AC42&quot;)+&quot;&u=&quot;+urlencode(this.href));' href=\"#\">영국 GBP</a></li> <li class=\"_i\" data-value=\"OMR\"><a onclick='return goOtherCR(this,&quot;a=nco_x5m*a&r=1&i=&quot;+urlencode(&quot;0800042F_00000028AC42&quot;)+&quot;&u=&quot;+urlencode(this.href));' href=\"#\">오만 OMR</a></li> <li class=\"_i\" data-value=\"JOD\"><a onclick='return goOtherCR(this,&quot;a=nco_x5m*a&r=1&i=&quot;+urlencode(&quot;0800042F_00000028AC42&quot;)+&quot;&u=&quot;+urlencode(this.href));' href=\"#\">요르단 JOD</a></li> <li class=\"_i\" data-value=\"EUR\"><a onclick='return goOtherCR(this,&quot;a=nco_x5m*a&r=1&i=&quot;+urlencode(&quot;0800042F_00000028AC42&quot;)+&quot;&u=&quot;+urlencode(this.href));' href=\"#\">유럽연합 EUR</a></li> <li class=\"_i\" data-value=\"ILS\"><a onclick='return goOtherCR(this,&quot;a=nco_x5m*a&r=1&i=&quot;+urlencode(&quot;0800042F_00000028AC42&quot;)+&quot;&u=&quot;+urlencode(this.href));' href=\"#\">이스라엘 ILS</a></li> <li class=\"_i\" data-value=\"EGP\"><a onclick='return goOtherCR(this,&quot;a=nco_x5m*a&r=1&i=&quot;+urlencode(&quot;0800042F_00000028AC42&quot;)+&quot;&u=&quot;+urlencode(this.href));' href=\"#\">이집트 EGP</a></li> <li class=\"_i\" data-value=\"INR\"><a onclick='return goOtherCR(this,&quot;a=nco_x5m*a&r=1&i=&quot;+urlencode(&quot;0800042F_00000028AC42&quot;)+&quot;&u=&quot;+urlencode(this.href));' href=\"#\">인도 INR</a></li> <li class=\"_i\" data-value=\"IDR\"><a onclick='return goOtherCR(this,&quot;a=nco_x5m*a&r=1&i=&quot;+urlencode(&quot;0800042F_00000028AC42&quot;)+&quot;&u=&quot;+urlencode(this.href));' href=\"#\">인도네시아 IDR</a></li> <li class=\"_i\" data-value=\"JPY\"><a onclick='return goOtherCR(this,&quot;a=nco_x5m*a&r=1&i=&quot;+urlencode(&quot;0800042F_00000028AC42&quot;)+&quot;&u=&quot;+urlencode(this.href));' href=\"#\">일본 JPY</a></li> <li class=\"_i\" data-value=\"CNY\"><a onclick='return goOtherCR(this,&quot;a=nco_x5m*a&r=1&i=&quot;+urlencode(&quot;0800042F_00000028AC42&quot;)+&quot;&u=&quot;+urlencode(this.href));' href=\"#\">중국 CNY</a></li> <li class=\"_i\" data-value=\"CZK\"><a onclick='return goOtherCR(this,&quot;a=nco_x5m*a&r=1&i=&quot;+urlencode(&quot;0800042F_00000028AC42&quot;)+&quot;&u=&quot;+urlencode(this.href));' href=\"#\">체코 CZK</a></li> <li class=\"_i\" data-value=\"CLP\"><a onclick='return goOtherCR(this,&quot;a=nco_x5m*a&r=1&i=&quot;+urlencode(&quot;0800042F_00000028AC42&quot;)+&quot;&u=&quot;+urlencode(this.href));' href=\"#\">칠레 CLP</a></li> <li class=\"_i\" data-value=\"KZT\"><a onclick='return goOtherCR(this,&quot;a=nco_x5m*a&r=1&i=&quot;+urlencode(&quot;0800042F_00000028AC42&quot;)+&quot;&u=&quot;+urlencode(this.href));' href=\"#\">카자흐스탄 KZT</a></li> <li class=\"_i\" data-value=\"QAR\"><a onclick='return goOtherCR(this,&quot;a=nco_x5m*a&r=1&i=&quot;+urlencode(&quot;0800042F_00000028AC42&quot;)+&quot;&u=&quot;+urlencode(this.href));' href=\"#\">카타르 QAR</a></li> <li class=\"_i\" data-value=\"CAD\"><a onclick='return goOtherCR(this,&quot;a=nco_x5m*a&r=1&i=&quot;+urlencode(&quot;0800042F_00000028AC42&quot;)+&quot;&u=&quot;+urlencode(this.href));' href=\"#\">캐나다 CAD</a></li> <li class=\"_i\" data-value=\"KWD\"><a onclick='return goOtherCR(this,&quot;a=nco_x5m*a&r=1&i=&quot;+urlencode(&quot;0800042F_00000028AC42&quot;)+&quot;&u=&quot;+urlencode(this.href));' href=\"#\">쿠웨이트 KWD</a></li> <li class=\"_i\" data-value=\"THB\"><a onclick='return goOtherCR(this,&quot;a=nco_x5m*a&r=1&i=&quot;+urlencode(&quot;0800042F_00000028AC42&quot;)+&quot;&u=&quot;+urlencode(this.href));' href=\"#\">태국 THB</a></li> <li class=\"_i\" data-value=\"TRY\"><a onclick='return goOtherCR(this,&quot;a=nco_x5m*a&r=1&i=&quot;+urlencode(&quot;0800042F_00000028AC42&quot;)+&quot;&u=&quot;+urlencode(this.href));' href=\"#\">튀르키예 TRY</a></li> <li class=\"_i\" data-value=\"PKR\"><a onclick='return goOtherCR(this,&quot;a=nco_x5m*a&r=1&i=&quot;+urlencode(&quot;0800042F_00000028AC42&quot;)+&quot;&u=&quot;+urlencode(this.href));' href=\"#\">파키스탄 PKR</a></li> <li class=\"_i\" data-value=\"PLN\"><a onclick='return goOtherCR(this,&quot;a=nco_x5m*a&r=1&i=&quot;+urlencode(&quot;0800042F_00000028AC42&quot;)+&quot;&u=&quot;+urlencode(this.href));' href=\"#\">폴란드 PLN</a></li> <li class=\"_i\" data-value=\"PHP\"><a onclick='return goOtherCR(this,&quot;a=nco_x5m*a&r=1&i=&quot;+urlencode(&quot;0800042F_00000028AC42&quot;)+&quot;&u=&quot;+urlencode(this.href));' href=\"#\">필리핀 PHP</a></li> <li class=\"_i\" data-value=\"HUF\"><a onclick='return goOtherCR(this,&quot;a=nco_x5m*a&r=1&i=&quot;+urlencode(&quot;0800042F_00000028AC42&quot;)+&quot;&u=&quot;+urlencode(this.href));' href=\"#\">헝가리 HUF</a></li> <li class=\"_i\" data-value=\"AUD\"><a onclick='return goOtherCR(this,&quot;a=nco_x5m*a&r=1&i=&quot;+urlencode(&quot;0800042F_00000028AC42&quot;)+&quot;&u=&quot;+urlencode(this.href));' href=\"#\">호주 AUD</a></li> <li class=\"_i\" data-value=\"HKD\"><a onclick='return goOtherCR(this,&quot;a=nco_x5m*a&r=1&i=&quot;+urlencode(&quot;0800042F_00000028AC42&quot;)+&quot;&u=&quot;+urlencode(this.href));' href=\"#\">홍콩 HKD</a></li> </ul> </div> </div> </div> <div class=\"input_box _input_box\" data-query=\"u2\" data-option-query=\"u8=down&amp;u5=info\"> <span id=\"drt_from_span\" class=\"input\"> <input id=\"ds_from_money\" maxlength=\"15\" type=\"text\" style=\"ime-mode:disabled;\" value=\"1\" class=\"_input input_text\"> </span> <span class=\"recite _recite\">1 달러</span> </div> </div> <span class=\"ico_same\"><span class=\"blind\">=</span></span> <div class=\"fr_info\"> <div id=\"ds_sel2\" class=\"sbox _select_box\" data-query=\"u4\" data-option-query=\"u8=down&amp;u5=all\"> <div class=\"selectbox_box\"> <div class=\"selectbox_label _trigger\"> <span class=\"nation_krw _flag\"> <img src=\"https://ssl.pstatic.net/sstatic/keypage/image/direct/img_blank.gif\" class=\"_img\" alt=\"대한민국 KRW\" width=\"1\" height=\"1\"> </span> <label for=\"ds_to_money\" class=\"_text\">대한민국 <em>KRW</em></label> </div> <div class=\"ch_wrap_ly ly_rate2 scroll _list\" style=\"display: none\"> <ul class=\"ly_cont _l\"> <li class=\"_i on\" data-value=\"KRW\"><a onclick='return goOtherCR(this,&quot;a=nco_x5m*a&r=1&i=&quot;+urlencode(&quot;0800042F_00000028AC42&quot;)+&quot;&u=&quot;+urlencode(this.href));' href=\"#\">대한민국 KRW</a></li> <li class=\"_i\" data-value=\"ZAR\"><a onclick='return goOtherCR(this,&quot;a=nco_x5m*a&r=1&i=&quot;+urlencode(&quot;0800042F_00000028AC42&quot;)+&quot;&u=&quot;+urlencode(this.href));' href=\"#\">남아프리카 공화국 ZAR</a></li> <li class=\"_i\" data-value=\"NPR\"><a onclick='return goOtherCR(this,&quot;a=nco_x5m*a&r=1&i=&quot;+urlencode(&quot;0800042F_00000028AC42&quot;)+&quot;&u=&quot;+urlencode(this.href));' href=\"#\">네팔 NPR</a></li> <li class=\"_i\" data-value=\"NOK\"><a onclick='return goOtherCR(this,&quot;a=nco_x5m*a&r=1&i=&quot;+urlencode(&quot;0800042F_00000028AC42&quot;)+&quot;&u=&quot;+urlencode(this.href));' href=\"#\">노르웨이 NOK</a></li> <li class=\"_i\" data-value=\"NZD\"><a onclick='return goOtherCR(this,&quot;a=nco_x5m*a&r=1&i=&quot;+urlencode(&quot;0800042F_00000028AC42&quot;)+&quot;&u=&quot;+urlencode(this.href));' href=\"#\">뉴질랜드 NZD</a></li> <li class=\"_i\" data-value=\"TWD\"><a onclick='return goOtherCR(this,&quot;a=nco_x5m*a&r=1&i=&quot;+urlencode(&quot;0800042F_00000028AC42&quot;)+&quot;&u=&quot;+urlencode(this.href));' href=\"#\">대만 TWD</a></li> <li class=\"_i\" data-value=\"DKK\"><a onclick='return goOtherCR(this,&quot;a=nco_x5m*a&r=1&i=&quot;+urlencode(&quot;0800042F_00000028AC42&quot;)+&quot;&u=&quot;+urlencode(this.href));' href=\"#\">덴마크 DKK</a></li> <li class=\"_i\" data-value=\"RUB\"><a onclick='return goOtherCR(this,&quot;a=nco_x5m*a&r=1&i=&quot;+urlencode(&quot;0800042F_00000028AC42&quot;)+&quot;&u=&quot;+urlencode(this.href));' href=\"#\">러시아 RUB</a></li> <li class=\"_i\" data-value=\"MOP\"><a onclick='return goOtherCR(this,&quot;a=nco_x5m*a&r=1&i=&quot;+urlencode(&quot;0800042F_00000028AC42&quot;)+&quot;&u=&quot;+urlencode(this.href));' href=\"#\">마카오 MOP</a></li> <li class=\"_i\" data-value=\"MYR\"><a onclick='return goOtherCR(this,&quot;a=nco_x5m*a&r=1&i=&quot;+urlencode(&quot;0800042F_00000028AC42&quot;)+&quot;&u=&quot;+urlencode(this.href));' href=\"#\">말레이시아 MYR</a></li> <li class=\"_i\" data-value=\"MXN\"><a onclick='return goOtherCR(this,&quot;a=nco_x5m*a&r=1&i=&quot;+urlencode(&quot;0800042F_00000028AC42&quot;)+&quot;&u=&quot;+urlencode(this.href));' href=\"#\">멕시코 MXN</a></li> <li class=\"_i\" data-value=\"MNT\"><a onclick='return goOtherCR(this,&quot;a=nco_x5m*a&r=1&i=&quot;+urlencode(&quot;0800042F_00000028AC42&quot;)+&quot;&u=&quot;+urlencode(this.href));' href=\"#\">몽골 MNT</a></li> <li class=\"_i\" data-value=\"USD\"><a onclick='return goOtherCR(this,&quot;a=nco_x5m*a&r=1&i=&quot;+urlencode(&quot;0800042F_00000028AC42&quot;)+&quot;&u=&quot;+urlencode(this.href));' href=\"#\">미국 USD</a></li> <li class=\"_i\" data-value=\"BHD\"><a onclick='return goOtherCR(this,&quot;a=nco_x5m*a&r=1&i=&quot;+urlencode(&quot;0800042F_00000028AC42&quot;)+&quot;&u=&quot;+urlencode(this.href));' href=\"#\">바레인 BHD</a></li> <li class=\"_i\" data-value=\"BDT\"><a onclick='return goOtherCR(this,&quot;a=nco_x5m*a&r=1&i=&quot;+urlencode(&quot;0800042F_00000028AC42&quot;)+&quot;&u=&quot;+urlencode(this.href));' href=\"#\">방글라데시 BDT</a></li> <li class=\"_i\" data-value=\"VND\"><a onclick='return goOtherCR(this,&quot;a=nco_x5m*a&r=1&i=&quot;+urlencode(&quot;0800042F_00000028AC42&quot;)+&quot;&u=&quot;+urlencode(this.href));' href=\"#\">베트남 VND</a></li> <li class=\"_i\" data-value=\"BRL\"><a onclick='return goOtherCR(this,&quot;a=nco_x5m*a&r=1&i=&quot;+urlencode(&quot;0800042F_00000028AC42&quot;)+&quot;&u=&quot;+urlencode(this.href));' href=\"#\">브라질 BRL</a></li> <li class=\"_i\" data-value=\"BND\"><a onclick='return goOtherCR(this,&quot;a=nco_x5m*a&r=1&i=&quot;+urlencode(&quot;0800042F_00000028AC42&quot;)+&quot;&u=&quot;+urlencode(this.href));' href=\"#\">브루나이 BND</a></li> <li class=\"_i\" data-value=\"SAR\"><a onclick='return goOtherCR(this,&quot;a=nco_x5m*a&r=1&i=&quot;+urlencode(&quot;0800042F_00000028AC42&quot;)+&quot;&u=&quot;+urlencode(this.href));' href=\"#\">사우디아라비아 SAR</a></li> <li class=\"_i\" data-value=\"SEK\"><a onclick='return goOtherCR(this,&quot;a=nco_x5m*a&r=1&i=&quot;+urlencode(&quot;0800042F_00000028AC42&quot;)+&quot;&u=&quot;+urlencode(this.href));' href=\"#\">스웨덴 SEK</a></li> <li class=\"_i\" data-value=\"CHF\"><a onclick='return goOtherCR(this,&quot;a=nco_x5m*a&r=1&i=&quot;+urlencode(&quot;0800042F_00000028AC42&quot;)+&quot;&u=&quot;+urlencode(this.href));' href=\"#\">스위스 CHF</a></li> <li class=\"_i\" data-value=\"SGD\"><a onclick='return goOtherCR(this,&quot;a=nco_x5m*a&r=1&i=&quot;+urlencode(&quot;0800042F_00000028AC42&quot;)+&quot;&u=&quot;+urlencode(this.href));' href=\"#\">싱가포르 SGD</a></li> <li class=\"_i\" data-value=\"AED\"><a onclick='return goOtherCR(this,&quot;a=nco_x5m*a&r=1&i=&quot;+urlencode(&quot;0800042F_00000028AC42&quot;)+&quot;&u=&quot;+urlencode(this.href));' href=\"#\">아랍에미리트 AED</a></li> <li class=\"_i\" data-value=\"GBP\"><a onclick='return goOtherCR(this,&quot;a=nco_x5m*a&r=1&i=&quot;+urlencode(&quot;0800042F_00000028AC42&quot;)+&quot;&u=&quot;+urlencode(this.href));' href=\"#\">영국 GBP</a></li> <li class=\"_i\" data-value=\"OMR\"><a onclick='return goOtherCR(this,&quot;a=nco_x5m*a&r=1&i=&quot;+urlencode(&quot;0800042F_00000028AC42&quot;)+&quot;&u=&quot;+urlencode(this.href));' href=\"#\">오만 OMR</a></li> <li class=\"_i\" data-value=\"JOD\"><a onclick='return goOtherCR(this,&quot;a=nco_x5m*a&r=1&i=&quot;+urlencode(&quot;0800042F_00000028AC42&quot;)+&quot;&u=&quot;+urlencode(this.href));' href=\"#\">요르단 JOD</a></li> <li class=\"_i\" data-value=\"EUR\"><a onclick='return goOtherCR(this,&quot;a=nco_x5m*a&r=1&i=&quot;+urlencode(&quot;0800042F_00000028AC42&quot;)+&quot;&u=&quot;+urlencode(this.href));' href=\"#\">유럽연합 EUR</a></li> <li class=\"_i\" data-value=\"ILS\"><a onclick='return goOtherCR(this,&quot;a=nco_x5m*a&r=1&i=&quot;+urlencode(&quot;0800042F_00000028AC42&quot;)+&quot;&u=&quot;+urlencode(this.href));' href=\"#\">이스라엘 ILS</a></li> <li class=\"_i\" data-value=\"EGP\"><a onclick='return goOtherCR(this,&quot;a=nco_x5m*a&r=1&i=&quot;+urlencode(&quot;0800042F_00000028AC42&quot;)+&quot;&u=&quot;+urlencode(this.href));' href=\"#\">이집트 EGP</a></li> <li class=\"_i\" data-value=\"INR\"><a onclick='return goOtherCR(this,&quot;a=nco_x5m*a&r=1&i=&quot;+urlencode(&quot;0800042F_00000028AC42&quot;)+&quot;&u=&quot;+urlencode(this.href));' href=\"#\">인도 INR</a></li> <li class=\"_i\" data-value=\"IDR\"><a onclick='return goOtherCR(this,&quot;a=nco_x5m*a&r=1&i=&quot;+urlencode(&quot;0800042F_00000028AC42&quot;)+&quot;&u=&quot;+urlencode(this.href));' href=\"#\">인도네시아 IDR</a></li> <li class=\"_i\" data-value=\"JPY\"><a onclick='return goOtherCR(this,&quot;a=nco_x5m*a&r=1&i=&quot;+urlencode(&quot;0800042F_00000028AC42&quot;)+&quot;&u=&quot;+urlencode(this.href));' href=\"#\">일본 JPY</a></li> <li class=\"_i\" data-value=\"CNY\"><a onclick='return goOtherCR(this,&quot;a=nco_x5m*a&r=1&i=&quot;+urlencode(&quot;0800042F_00000028AC42&quot;)+&quot;&u=&quot;+urlencode(this.href));' href=\"#\">중국 CNY</a></li> <li class=\"_i\" data-value=\"CZK\"><a onclick='return goOtherCR(this,&quot;a=nco_x5m*a&r=1&i=&quot;+urlencode(&quot;0800042F_00000028AC42&quot;)+&quot;&u=&quot;+urlencode(this.href));' href=\"#\">체코 CZK</a></li> <li class=\"_i\" data-value=\"CLP\"><a onclick='return goOtherCR(this,&quot;a=nco_x5m*a&r=1&i=&quot;+urlencode(&quot;0800042F_00000028AC42&quot;)+&quot;&u=&quot;+urlencode(this.href));' href=\"#\">칠레 CLP</a></li> <li class=\"_i\" data-value=\"KZT\"><a onclick='return goOtherCR(this,&quot;a=nco_x5m*a&r=1&i=&quot;+urlencode(&quot;0800042F_00000028AC42&quot;)+&quot;&u=&quot;+urlencode(this.href));' href=\"#\">카자흐스탄 KZT</a></li> <li class=\"_i\" data-value=\"QAR\"><a onclick='return goOtherCR(this,&quot;a=nco_x5m*a&r=1&i=&quot;+urlencode(&quot;0800042F_00000028AC42&quot;)+&quot;&u=&quot;+urlencode(this.href));' href=\"#\">카타르 QAR</a></li> <li class=\"_i\" data-value=\"CAD\"><a onclick='return goOtherCR(this,&quot;a=nco_x5m*a&r=1&i=&quot;+urlencode(&quot;0800042F_00000028AC42&quot;)+&quot;&u=&quot;+urlencode(this.href));' href=\"#\">캐나다 CAD</a></li> <li class=\"_i\" data-value=\"KWD\"><a onclick='return goOtherCR(this,&quot;a=nco_x5m*a&r=1&i=&quot;+urlencode(&quot;0800042F_00000028AC42&quot;)+&quot;&u=&quot;+urlencode(this.href));' href=\"#\">쿠웨이트 KWD</a></li> <li class=\"_i\" data-value=\"THB\"><a onclick='return goOtherCR(this,&quot;a=nco_x5m*a&r=1&i=&quot;+urlencode(&quot;0800042F_00000028AC42&quot;)+&quot;&u=&quot;+urlencode(this.href));' href=\"#\">태국 THB</a></li> <li class=\"_i\" data-value=\"TRY\"><a onclick='return goOtherCR(this,&quot;a=nco_x5m*a&r=1&i=&quot;+urlencode(&quot;0800042F_00000028AC42&quot;)+&quot;&u=&quot;+urlencode(this.href));' href=\"#\">튀르키예 TRY</a></li> <li class=\"_i\" data-value=\"PKR\"><a onclick='return goOtherCR(this,&quot;a=nco_x5m*a&r=1&i=&quot;+urlencode(&quot;0800042F_00000028AC42&quot;)+&quot;&u=&quot;+urlencode(this.href));' href=\"#\">파키스탄 PKR</a></li> <li class=\"_i\" data-value=\"PLN\"><a onclick='return goOtherCR(this,&quot;a=nco_x5m*a&r=1&i=&quot;+urlencode(&quot;0800042F_00000028AC42&quot;)+&quot;&u=&quot;+urlencode(this.href));' href=\"#\">폴란드 PLN</a></li> <li class=\"_i\" data-value=\"PHP\"><a onclick='return goOtherCR(this,&quot;a=nco_x5m*a&r=1&i=&quot;+urlencode(&quot;0800042F_00000028AC42&quot;)+&quot;&u=&quot;+urlencode(this.href));' href=\"#\">필리핀 PHP</a></li> <li class=\"_i\" data-value=\"HUF\"><a onclick='return goOtherCR(this,&quot;a=nco_x5m*a&r=1&i=&quot;+urlencode(&quot;0800042F_00000028AC42&quot;)+&quot;&u=&quot;+urlencode(this.href));' href=\"#\">헝가리 HUF</a></li> <li class=\"_i\" data-value=\"AUD\"><a onclick='return goOtherCR(this,&quot;a=nco_x5m*a&r=1&i=&quot;+urlencode(&quot;0800042F_00000028AC42&quot;)+&quot;&u=&quot;+urlencode(this.href));' href=\"#\">호주 AUD</a></li> <li class=\"_i\" data-value=\"HKD\"><a onclick='return goOtherCR(this,&quot;a=nco_x5m*a&r=1&i=&quot;+urlencode(&quot;0800042F_00000028AC42&quot;)+&quot;&u=&quot;+urlencode(this.href));' href=\"#\">홍콩 HKD</a></li> </ul> </div> </div> </div> <div class=\"input_box _input_box\" data-query=\"u2\" data-option-query=\"u8=up&amp;u5=info\"> <span id=\"drt_to_span\" class=\"input\"> <input id=\"ds_to_money\" maxlength=\"15\" type=\"text\" style=\"ime-mode:disabled;\" value=\"1,315.10\" class=\"_input input_text\"> </span> <span class=\"recite _recite result\">1,315.10 원</span> </div> </div> <p class=\"cal_txt _noservice\"></p> </div> </div> </div> <span class=\"clear_bx\"></span> </div> <div class=\"rate_table_bx _table\"> <table class=\"rate_table_info\"> <caption class=\"blind\">국가별 환율차트</caption> <colgroup> <col width=\"160px\"> <col width=\"100px\"> <col width=\"142px\"> <col width=\"146px\"> </colgroup> <thead> <tr> <th scope=\"col\" class=\"col1\"><span>통화명</span></th> <th scope=\"col\" class=\"col2\"><span>매매기준율</span></th> <th scope=\"col\" class=\"col3\"><span>전일대비</span></th> <th scope=\"col\" class=\"col4\"><span>등락률</span></th> </tr> </thead> <tbody> <tr class=\"up\"> <th><a nocr onclick=\"return goOtherCR(this, 'a=nco_x5m*a.list&r=1&i=0800042F_00000028AC42&u=' + urlencode(this.href));\" href=\"?where=nexearch&sm=tab_etc&mra=bk01&qvt=0&query=%EB%AF%B8%EA%B5%AD%ED%99%98%EC%9C%A8\"><span>미국 <em>USD</em></span></a></th> <td><span>1,315.10</span></td> <td class=\"flu_nm\"><span class=\"blind\">전일대비</span><span class=\"ico\">상승</span><em>7.60</em></td> <td class=\"flu_pct\"><span>+0.58%</span></td> </tr> <tr class=\"dw\"> <th><a nocr onclick=\"return goOtherCR(this, 'a=nco_x5m*a.list&r=1&i=0800042F_00000028AC42&u=' + urlencode(this.href));\" href=\"?where=nexearch&sm=tab_etc&mra=bk01&qvt=0&query=%EC%9D%BC%EB%B3%B8%ED%99%98%EC%9C%A8\"><span>일본 <em>JPY 100</em></span></a></th> <td><span>917.89</span></td> <td class=\"flu_nm\"><span class=\"blind\">전일대비</span><span class=\"ico\">하락</span><em>2.59</em></td> <td class=\"flu_pct\"><span>-0.28%</span></td> </tr> <tr class=\"up\"> <th><a nocr onclick=\"return goOtherCR(this, 'a=nco_x5m*a.list&r=1&i=0800042F_00000028AC42&u=' + urlencode(this.href));\" href=\"?where=nexearch&sm=tab_etc&mra=bk01&qvt=0&query=%EC%9C%A0%EB%9F%BD%EC%97%B0%ED%95%A9%ED%99%98%EC%9C%A8\"><span>유럽연합 <em>EUR</em></span></a></th> <td><span>1,444.64</span></td> <td class=\"flu_nm\"><span class=\"blind\">전일대비</span><span class=\"ico\">상승</span><em>6.91</em></td> <td class=\"flu_pct\"><span>+0.48%</span></td> </tr> <tr class=\"up\"> <th><a nocr onclick=\"return goOtherCR(this, 'a=nco_x5m*a.list&r=1&i=0800042F_00000028AC42&u=' + urlencode(this.href));\" href=\"?where=nexearch&sm=tab_etc&mra=bk01&qvt=0&query=%EC%A4%91%EA%B5%AD%ED%99%98%EC%9C%A8\"><span>중국 <em>CNY</em></span></a></th> <td><span>182.09</span></td> <td class=\"flu_nm\"><span class=\"blind\">전일대비</span><span class=\"ico\">상승</span><em>0.44</em></td> <td class=\"flu_pct\"><span>+0.24%</span></td> </tr> <tr class=\"up\"> <th><a nocr onclick=\"return goOtherCR(this, 'a=nco_x5m*a.list&r=1&i=0800042F_00000028AC42&u=' + urlencode(this.href));\" href=\"?where=nexearch&sm=tab_etc&mra=bk01&qvt=0&query=%EC%98%81%EA%B5%AD%ED%99%98%EC%9C%A8\"><span>영국 <em>GBP</em></span></a></th> <td><span>1,677.41</span></td> <td class=\"flu_nm\"><span class=\"blind\">전일대비</span><span class=\"ico\">상승</span><em>7.54</em></td> <td class=\"flu_pct\"><span>+0.45%</span></td> </tr> <tr class=\"up\"> <th><a nocr onclick=\"return goOtherCR(this, 'a=nco_x5m*a.list&r=1&i=0800042F_00000028AC42&u=' + urlencode(this.href));\" href=\"?where=nexearch&sm=tab_etc&mra=bk01&qvt=0&query=%ED%98%B8%EC%A3%BC%ED%99%98%EC%9C%A8\"><span>호주 <em>AUD</em></span></a></th> <td><span>861.00</span></td> <td class=\"flu_nm\"><span class=\"blind\">전일대비</span><span class=\"ico\">상승</span><em>2.36</em></td> <td class=\"flu_pct\"><span>+0.27%</span></td> </tr> <tr class=\"up\"> <th><a nocr onclick=\"return goOtherCR(this, 'a=nco_x5m*a.list&r=1&i=0800042F_00000028AC42&u=' + urlencode(this.href));\" href=\"?where=nexearch&sm=tab_etc&mra=bk01&qvt=0&query=%EC%BA%90%EB%82%98%EB%8B%A4%ED%99%98%EC%9C%A8\"><span>캐나다 <em>CAD</em></span></a></th> <td><span>982.00</span></td> <td class=\"flu_nm\"><span class=\"blind\">전일대비</span><span class=\"ico\">상승</span><em>4.50</em></td> <td class=\"flu_pct\"><span>+0.46%</span></td> </tr> <tr class=\"up\"> <th><a nocr onclick=\"return goOtherCR(this, 'a=nco_x5m*a.list&r=1&i=0800042F_00000028AC42&u=' + urlencode(this.href));\" href=\"?where=nexearch&sm=tab_etc&mra=bk01&qvt=0&query=%EB%89%B4%EC%A7%88%EB%9E%9C%EB%93%9C%ED%99%98%EC%9C%A8\"><span>뉴질랜드 <em>NZD</em></span></a></th> <td><span>799.71</span></td> <td class=\"flu_nm\"><span class=\"blind\">전일대비</span><span class=\"ico\">상승</span><em>2.40</em></td> <td class=\"flu_pct\"><span>+0.30%</span></td> </tr> </tbody> </table> </div> </div> <p class=\"info\">네이버(주)가 제공하는 금융정보는 각 컨텐츠 제공업체로부터 받는 정보로 투자 참고사항이며, 오류가 발생하거나 지연될 수 있습니다. 네이버(주)는 제공된 정보에 의한 투자결과에 법적책임을 지지 않습니다. 게시된 정보는 무단으로 배포할 수 없습니다.</p> <div class=\"section_more\"><a nocr onclick=\"return goOtherCR(this, 'a=nco_x5m*a.more&r=1&i=0800042F_00000028AC42&u=' + urlencode(this.href));\" href=\"https://finance.naver.com/marketindex/?tabSel=exchange#tab_section\" target=\"_blank\" class=\"go_more\">환율 더보기</a></div> </div> </div> </div> <div class=\"api_subject_bx\"> <div class=\"api_title_area\"> <h2 class=\"api_title\">국제시장 환율</h2> </div> <div class=\"api_cs_wrap\"> <div class=\"exchange_bx\"> <!--[D] 상한가: \"up\" class 추가 하한가: \"down\" class 추가 보합: 디폴트 --> <a nocr onclick=\"return goOtherCR(this, 'a=nco_x5m*a.national&r=1&i=0800042F_00000028AC42&u=' + urlencode(this.href));\" href=\"https://m.stock.naver.com/marketindex/exchangeWorld/GBPUSD\" class=\"world_market_contents up\"> <div class=\"text_contents\"> <strong class=\"unit_text_kor\">영국 파운드/달러</strong> <strong class=\"unit_text_eng\">GBPUSD</strong> <p class=\"exchange_date\">08.07.</p> </div> <div class=\"exchange_info\"> <strong class=\"unit_number\">1.2784</strong> <em class=\"unit_variation\"><span class=\"blind\">상승</span>0.0035</em> </div> <strong class=\"variation_percent\">+0.27%</strong> </a> </div> </div> <div class=\"api_more_wrap\"> <a nocr onclick=\"return goOtherCR(this, 'a=nco_x5m*a.more2&r=1&i=0800042F_00000028AC42&u=' + urlencode(this.href));\" href=\"https://m.stock.naver.com/marketindex/exchangeWorld\" class=\"api_more\">국제환율 더보기<i class=\"spnew ico_arr\"></i></a> </div> </div> </section> <script>(function(){var startApplication=function(){var require=window.require.config({\"context\":\"x5m\",\"paths\":{\"@service/ExchangeChart\":\"https://ssl.pstatic.net/imgstock/stock/build/prod/static/js/chart.exchange.amd-1.0.1.min\",\"controller\":\"https://ssl.pstatic.net/sstatic/au/pc/exchange/nhn.search.exchangeRate_210630\"}});define(\"jquery\",[],function(){return jQuery;});require([\"jquery\",\"@service/ExchangeChart\",\"controller\"],function($,ExchangeChart){var mode=(window.matchMedia(\"prefers-color-scheme: dark\").matches)?\"dark\":\"light\";var chartData=[{\"data\":{\"lastList\":[[\"124126\",\"124211\",\"124426\",\"124446\",\"124736\",\"125012\",\"125126\",\"125251\",\"125316\",\"125323\",\"125426\",\"125506\",\"125611\",\"125642\",\"125951\",\"130027\",\"130127\",\"130134\",\"130156\",\"130212\",\"130219\",\"130302\",\"130336\",\"130541\",\"130551\",\"131056\",\"131327\",\"131402\",\"131521\",\"131946\",\"132452\",\"132612\",\"132657\",\"132731\",\"132806\",\"133016\",\"133057\",\"133132\",\"133152\",\"133221\",\"133351\",\"133358\",\"133457\",\"133511\",\"133716\",\"134221\",\"134411\",\"134426\",\"134536\",\"134702\",\"135046\",\"135157\",\"135251\",\"135326\",\"135831\",\"135951\",\"140007\",\"140036\",\"140156\",\"140217\",\"140312\",\"140516\",\"140526\",\"140556\",\"140657\",\"140827\",\"140912\",\"140919\",\"141057\",\"141116\",\"141127\",\"141221\",\"141326\",\"141406\",\"141416\",\"141441\",\"141516\",\"141551\",\"141606\",\"141711\",\"141732\",\"141806\",\"141836\",\"141846\",\"141941\",\"142006\",\"142021\",\"142042\",\"142111\",\"142202\",\"142209\",\"142217\",\"142252\",\"142316\",\"142356\",\"142516\",\"142616\",\"142626\",\"142756\",\"142816\",\"142842\",\"142851\",\"142901\",\"142931\",\"142938\",\"142946\",\"142953\",\"143001\",\"143027\",\"143034\",\"143127\",\"143231\",\"143307\",\"143314\",\"143326\",\"143337\",\"143406\",\"143436\",\"143502\",\"143516\",\"143527\",\"143546\",\"143601\",\"143631\",\"143651\",\"143701\",\"143708\",\"143721\",\"143731\",\"143737\",\"143842\",\"143906\",\"143916\",\"143927\",\"143933\",\"143940\",\"143951\",\"144006\",\"144027\",\"144042\",\"144111\",\"144226\",\"144236\",\"144341\",\"144348\",\"144446\",\"144556\",\"144611\",\"144727\",\"144806\",\"144816\",\"144846\",\"144921\",\"145031\",\"145046\",\"145112\",\"145126\",\"145156\",\"145207\",\"145232\",\"145326\",\"145406\",\"145431\",\"145442\",\"145456\",\"145506\",\"145516\",\"145612\",\"145641\",\"145901\",\"145908\",\"145922\",\"150116\",\"150152\",\"150159\",\"150207\",\"150216\",\"150224\",\"150231\",\"150251\",\"150258\",\"150342\",\"150356\",\"150416\",\"150426\",\"150451\",\"150526\",\"150602\",\"150637\",\"150651\",\"150737\",\"150801\",\"150812\",\"150821\",\"150831\",\"150912\",\"151006\",\"151016\",\"151032\",\"151039\",\"151047\",\"151107\",\"151147\",\"151156\",\"151231\",\"151238\",\"151346\",\"151402\",\"151416\",\"151423\",\"151431\",\"151442\",\"151622\",\"151628\",\"151717\",\"151723\",\"151802\",\"151821\",\"151856\",\"151928\",\"151952\",\"152007\",\"152036\",\"152051\",\"152201\",\"152311\",\"152356\",\"152416\",\"152423\",\"152430\",\"152541\",\"152651\",\"152712\",\"152806\",\"152831\",\"152931\",\"153013\",\"153105\",\"154217\",\"154845\",\"155145\",\"155946\",\"161454\",\"161629\",\"162235\",\"162607\",\"163620\",\"171054\",\"171721\",\"172104\",\"172600\",\"173526\",\"175022\",\"175218\",\"180135\",\"183659\",\"184250\",\"190525\",\"191230\",\"191330\",\"192147\",\"192231\",\"192803\",\"200053\",\"215050\",\"225924\"],[1300.7,1300.9,1301.1,1300.9,1301.1,1301.3,1301.7,1301.9,1301.6,1301.8,1301.6,1301.8,1302,1301.8,1302,1302.3,1302.6,1302.8,1303,1303.2,1303,1303.2,1303.4,1303.2,1303.4,1303.4,1303.6,1303.8,1303.6,1303.4,1303.6,1303.8,1304,1304.2,1304.4,1304.7,1304.5,1304.3,1304.1,1304.3,1304,1303.8,1304,1303.8,1303.6,1303.7,1303.9,1304.1,1303.9,1303.6,1303.9,1304.1,1303.9,1303.7,1303.7,1303.5,1303.3,1303.5,1303.7,1303.9,1304.1,1304.3,1304.5,1304.7,1304.9,1305.2,1305,1305.2,1305.4,1305.6,1305.4,1305.6,1305.4,1305.2,1305,1305.2,1305.5,1305.8,1305.5,1305.3,1305.5,1305.3,1305.1,1305.3,1304.9,1304.7,1304.9,1304.7,1304.9,1305.1,1304.9,1304.7,1304.9,1304.7,1305,1304.7,1304.5,1304.2,1303.9,1303.7,1303.5,1303.7,1303.3,1303.1,1302.9,1302.7,1302.9,1303.1,1303.3,1303.5,1303.3,1303.5,1303.2,1303,1302.8,1303,1302.8,1303,1303.2,1303.4,1303.2,1303.4,1303.6,1303.8,1304,1303.8,1304,1303.8,1304,1304.3,1304.6,1304.8,1305,1304.8,1305,1304.8,1305,1305.3,1305.1,1305.4,1305.2,1305,1304.8,1304.6,1304.8,1304.6,1304.3,1304.5,1304.7,1304.9,1304.7,1304.9,1304.7,1304.9,1304.7,1304.9,1304.6,1304.4,1304.2,1304.4,1304.7,1304.5,1304.7,1305,1304.8,1305,1304.8,1305.1,1304.8,1304.5,1304.3,1304.5,1304.7,1304.3,1304,1303.8,1304,1303.8,1303.6,1303.4,1303.2,1303.4,1303.6,1303.8,1304.2,1304.4,1304.6,1304.8,1304.6,1304.4,1304.2,1304,1303.8,1304,1304.2,1304,1303.8,1303.6,1303.8,1304,1303.8,1303.6,1303.8,1304.1,1304.4,1304.2,1304.4,1304.6,1304.1,1304.3,1304.1,1303.9,1304.1,1303.9,1303.7,1303.9,1304.1,1303.8,1304,1304.2,1304.5,1304.8,1304.5,1304.7,1304.9,1305.1,1304.9,1305.1,1305.3,1305.5,1305.7,1305.5,1305.9,1306.1,1305.8,1306,1306.2,1306,1305.5,1305,1304.5,1305,1305,1304.5,1304.5,1304,1304.5,1305,1305.5,1306,1306.5,1307,1306.5,1306,1306.5,1306,1305.5,1305.5,1306,1306.5,1307,1307.5,1308,1308,1308,1307.5]],\"List\":[[\"082502\",\"082550\",\"090027\",\"090047\",\"090101\",\"090127\",\"090151\",\"090159\",\"090207\",\"090216\",\"090227\",\"090257\",\"090326\",\"090333\",\"090406\",\"090542\",\"090601\",\"090612\",\"090716\",\"090736\",\"090746\",\"090801\",\"090808\",\"090841\",\"090902\",\"090931\",\"090952\",\"091007\",\"091022\",\"091032\",\"091042\",\"091051\",\"091101\",\"091112\",\"091127\",\"091146\",\"091154\",\"091202\",\"091212\",\"091231\",\"091312\",\"091516\",\"091612\",\"091716\",\"091811\",\"092222\",\"092241\",\"092416\",\"092526\",\"092641\",\"092911\",\"092926\",\"092956\",\"093011\",\"093101\",\"093156\",\"093246\",\"093341\",\"093348\",\"093355\",\"093402\",\"093446\",\"093636\",\"093821\",\"093846\",\"094112\",\"094326\",\"094411\",\"094451\",\"094516\",\"094531\",\"094546\",\"094631\",\"094736\",\"094926\",\"095022\",\"095141\",\"095431\",\"095541\",\"095606\",\"095646\",\"095652\",\"095701\",\"095911\",\"100021\",\"100041\",\"100106\",\"100131\",\"100151\",\"100316\",\"100421\",\"100506\",\"100541\",\"100656\",\"100736\",\"100742\",\"100748\",\"100756\",\"100821\",\"100856\",\"100926\",\"100956\",\"101021\",\"101051\",\"101116\",\"101146\",\"101211\",\"101226\",\"101236\",\"101311\",\"101317\",\"101323\",\"101330\",\"101456\",\"101511\",\"101521\",\"101531\",\"101541\",\"101551\",\"101558\",\"101606\",\"101616\",\"101623\",\"101651\",\"101716\",\"101741\",\"101756\",\"101811\",\"101842\",\"101906\",\"101956\",\"102136\",\"102151\",\"102237\",\"102251\",\"102257\",\"102305\",\"102312\",\"102321\",\"102327\",\"102341\",\"102351\",\"102406\",\"102432\",\"102438\",\"102446\",\"102456\",\"102516\",\"102523\",\"102530\",\"102537\",\"102551\",\"102558\",\"102611\",\"102618\",\"102626\",\"102636\",\"102651\",\"102721\",\"102751\",\"103111\",\"103155\",\"103201\",\"103216\",\"103246\",\"103355\",\"103421\",\"103436\",\"103506\",\"103526\",\"103546\",\"103601\",\"103611\",\"103619\",\"103627\",\"103641\",\"103647\",\"103654\",\"103702\",\"103711\",\"103718\",\"103727\",\"103751\",\"103836\",\"103843\",\"103911\",\"104011\",\"104026\",\"104036\",\"104141\",\"104148\",\"104216\",\"104301\",\"104307\",\"104322\",\"104328\",\"104336\",\"104351\",\"104426\",\"104442\",\"104501\",\"104512\",\"104536\",\"104601\",\"104616\",\"104623\",\"104636\",\"104656\",\"104706\",\"104727\",\"104757\",\"104811\",\"104831\",\"104916\",\"104923\",\"104941\",\"105002\",\"105016\",\"105025\",\"105106\",\"105116\",\"105202\",\"105226\",\"105316\",\"105327\",\"105342\",\"105348\",\"105355\",\"105407\",\"105431\",\"105511\",\"105556\",\"105616\",\"105707\",\"105741\",\"105801\",\"105816\",\"105851\",\"105931\",\"105951\",\"105958\",\"110027\",\"110041\",\"110056\",\"110106\",\"110121\",\"110141\",\"110226\",\"110307\",\"110321\",\"110327\",\"110341\",\"110348\",\"110354\",\"110416\",\"110423\",\"110431\",\"110446\",\"110452\",\"110501\",\"110511\",\"110518\",\"110525\",\"110532\",\"110626\",\"110656\",\"110703\",\"110731\",\"110738\",\"110806\",\"110821\",\"110851\",\"110926\",\"110946\",\"111016\",\"111026\",\"111041\",\"111141\",\"111202\",\"111227\",\"111302\",\"111316\",\"111351\",\"111401\",\"111416\",\"111431\",\"111526\",\"111551\",\"111606\",\"111626\",\"111716\",\"111736\",\"111837\",\"111844\",\"111850\",\"111901\",\"111922\",\"111931\",\"112037\",\"112043\",\"112056\",\"112126\",\"112141\",\"112147\",\"112206\",\"112252\",\"112317\",\"112346\",\"112536\",\"112636\",\"112656\",\"112706\",\"112726\",\"112733\",\"112811\",\"112906\",\"112913\",\"112919\",\"112926\",\"113101\",\"113108\",\"113131\",\"113207\",\"113241\",\"113301\",\"113316\",\"113446\",\"113453\",\"113506\",\"113526\",\"113612\",\"113646\",\"113656\",\"113726\",\"113742\",\"113926\",\"114046\",\"114202\",\"114211\",\"114246\",\"114256\",\"114436\",\"114706\",\"114726\",\"114811\",\"114826\",\"114851\",\"115037\",\"115112\",\"115156\",\"115231\",\"115401\",\"115516\",\"115536\",\"115543\",\"115641\",\"115721\",\"115741\",\"115756\",\"115856\",\"115916\",\"115946\",\"120006\",\"120016\",\"120026\",\"120036\",\"120111\",\"120118\",\"120126\",\"120134\",\"120211\",\"120218\",\"120351\",\"120412\",\"120421\",\"120436\",\"120456\",\"120536\",\"120702\",\"120709\",\"120731\",\"120756\",\"120831\",\"120846\",\"120852\",\"120921\",\"120928\",\"120934\",\"120941\",\"120947\",\"121006\",\"121013\",\"121021\",\"121051\",\"121058\",\"121111\",\"121137\",\"121156\",\"121202\",\"121341\",\"121356\",\"121421\",\"121431\",\"121441\",\"121521\",\"121546\",\"121553\",\"121600\",\"121608\",\"121621\",\"121642\",\"121721\",\"121746\",\"121806\",\"121822\",\"121836\",\"121916\",\"121936\",\"122002\",\"122008\",\"122216\",\"122227\",\"122237\",\"122247\",\"122416\",\"122456\",\"122511\",\"122518\",\"122601\",\"122651\",\"122731\",\"122821\",\"123036\",\"123101\",\"123108\",\"123131\",\"123138\",\"123146\",\"123207\",\"123311\",\"123322\",\"123329\",\"123346\",\"123451\",\"123458\",\"123505\",\"123512\",\"123520\",\"123526\",\"123536\",\"123557\",\"123651\",\"123702\",\"123726\",\"123736\",\"123751\",\"123831\",\"123921\",\"124032\"],[1304.1,1308,1306.5,1306.3,1306.6,1306.3,1306,1305.8,1306,1305.8,1305.6,1305.4,1305.2,1305.4,1305.6,1305.8,1306,1305.7,1305.5,1305.2,1305,1305.2,1305.4,1305.6,1305.8,1306.1,1306.3,1306.5,1306.7,1307.3,1307.1,1307.3,1307.5,1307.3,1307.1,1306.9,1306.5,1306.8,1306.5,1306.7,1306.5,1306.7,1306.5,1306.7,1306.9,1306.7,1306.5,1306.7,1306.5,1306.7,1306.9,1307.2,1307,1307.2,1307.4,1307.2,1307.5,1307.7,1307.9,1307.4,1307.7,1307.5,1307.7,1307.5,1307.3,1307.1,1306.9,1307.1,1307.3,1307.6,1307.8,1307.6,1307.8,1307.6,1307.3,1307.1,1306.9,1307.1,1307.3,1307.5,1307.1,1307.5,1307.3,1307.1,1306.9,1307.1,1307.3,1307.5,1307.8,1308.1,1307.9,1307.7,1307.9,1308.1,1308.4,1308,1308.2,1308.4,1308.6,1308.4,1308.6,1308.8,1309,1308.6,1308.8,1308.6,1308.8,1308.6,1308.8,1309,1309.2,1308.9,1309.2,1309,1309.2,1309,1308.8,1309,1309.2,1308.9,1309.2,1309.5,1309.7,1310,1310.2,1310,1310.2,1310,1310.3,1310.5,1310.9,1311.1,1311.3,1311.1,1311.5,1311.7,1311.5,1311.7,1311.5,1311.7,1312,1312.2,1312.5,1312.7,1313,1313.3,1313.1,1313.4,1313.2,1313.4,1313.2,1313.4,1313.8,1313.2,1313.6,1313.8,1313.5,1313.2,1312.9,1312.6,1312.3,1312.2,1311.8,1311.6,1311.8,1312,1312.3,1312.5,1312.8,1313.2,1313.6,1313.8,1314.1,1314.3,1314.5,1313.8,1314.2,1314.6,1314.4,1314.6,1314.8,1314.4,1314,1313.7,1313.5,1313.2,1313.5,1313.7,1313.5,1313.3,1313.1,1312.8,1313,1313.4,1313.6,1313.9,1313.7,1313.5,1313.2,1312.9,1313.3,1313.5,1313.7,1313.5,1313.7,1313.4,1313.2,1313.5,1313.7,1313.9,1314.3,1314,1313.8,1313.6,1313.9,1313.7,1313.9,1313.7,1313.5,1313.3,1313.1,1313.4,1313.6,1313.9,1314.2,1313.8,1314.1,1314.3,1314.5,1314.3,1314.1,1314.3,1314.7,1314.5,1314.8,1315.1,1314.9,1315.1,1315.3,1315.5,1315.3,1315,1315.2,1315,1315.2,1315.4,1315.2,1315,1314.8,1315,1315.2,1315,1314.8,1314.6,1314.3,1314.6,1314.3,1314.5,1314.3,1314,1313.8,1314,1313.8,1313.5,1313.7,1314,1313.8,1314.1,1314.3,1314.1,1313.9,1314.1,1313.9,1314.1,1313.9,1313.7,1313.9,1313.7,1313.5,1313.3,1313.5,1313.3,1313.6,1313.8,1314,1313.7,1313.5,1313.3,1313.5,1313.3,1313,1312.8,1312.5,1312.2,1312.4,1312.7,1312.9,1312.6,1312.3,1312.5,1312.7,1312.4,1312.6,1312.4,1312.6,1312.9,1313.1,1312.9,1313.1,1312.9,1312.7,1312.9,1312.7,1312.9,1313.2,1313.4,1313.2,1313,1313.2,1313,1313.2,1313,1313.2,1313,1312.8,1312.6,1312.8,1312.6,1312.8,1313,1312.8,1312.6,1312.8,1312.6,1312.4,1312.6,1312.4,1312.6,1312.9,1312.7,1312.9,1313.1,1313.3,1313.6,1313.2,1313.4,1313.6,1313.8,1313.6,1313.4,1313.2,1312.9,1312.7,1312.5,1312.3,1312.1,1312.3,1312.5,1312.2,1312.4,1312.6,1312.8,1312.5,1312.7,1312.9,1313.1,1312.8,1313,1312.6,1312.8,1313.5,1313.1,1313.3,1313.1,1313.3,1313.5,1313.7,1314,1313.2,1313.4,1313.6,1313.8,1313.6,1314.3,1314.6,1314,1314.5,1314.3,1314.5,1314.2,1314,1314.2,1314.4,1314.2,1314,1313.6,1313.8,1314,1313.8,1313.6,1313.2,1313.6,1313.3,1313.1,1312.6,1312.4,1312.6,1312.3,1312.1,1312.3,1312.1,1312.4,1312.2,1312.4,1312.6,1312.4,1312.7,1312.5,1312.8,1312.5,1312.7,1313,1313.3,1313.5,1313.3,1313.1,1313.3,1313.1,1312.8,1313,1313.2,1313,1313.2,1313,1312.8,1313,1312.8,1313.1,1313.3,1313.6,1313.8,1314,1313.8,1314,1314.2,1314.5,1314.7,1314.9,1314.7,1315,1314.8,1314.6,1314.4,1314.7,1314.9,1314.7,1314.9,1315.1,1314.9]],\"base\":1307.5},\"code\":\"day\"},{\"data\":[[\"20230508\",\"20230509\",\"20230510\",\"20230511\",\"20230512\",\"20230515\",\"20230516\",\"20230517\",\"20230518\",\"20230519\",\"20230522\",\"20230523\",\"20230524\",\"20230525\",\"20230526\",\"20230530\",\"20230531\",\"20230601\",\"20230602\",\"20230605\",\"20230607\",\"20230608\",\"20230609\",\"20230612\",\"20230613\",\"20230614\",\"20230615\",\"20230616\",\"20230619\",\"20230620\",\"20230621\",\"20230622\",\"20230623\",\"20230626\",\"20230627\",\"20230628\",\"20230629\",\"20230630\",\"20230703\",\"20230704\",\"20230705\",\"20230706\",\"20230707\",\"20230710\",\"20230711\",\"20230712\",\"20230713\",\"20230714\",\"20230717\",\"20230718\",\"20230719\",\"20230720\",\"20230721\",\"20230724\",\"20230725\",\"20230726\",\"20230727\",\"20230728\",\"20230731\",\"20230801\",\"20230802\",\"20230803\",\"20230804\",\"20230807\",\"20230808\"],[1322,1326.5,1322,1330,1344,1340.5,1341,1339,1338,1328.5,1318,1320,1321,1330,1328,1323,1328,1320,1310,1307,1306,1300,1293.5,1290,1272,1275,1277,1280,1285,1288,1294,1299,1312,1307.5,1299,1312,1318,1319,1306,1297,1303,1311.5,1303,1306.5,1297,1281,1270,1273,1269,1264,1267,1278,1289,1281,1278.5,1275,1282.5,1278,1279,1290.5,1300,1300,1308,1307.5,1314.9]],\"code\":\"areaMonthThree\"},{\"data\":[[\"20220808\",\"20220809\",\"20220810\",\"20220811\",\"20220812\",\"20220816\",\"20220817\",\"20220818\",\"20220819\",\"20220822\",\"20220823\",\"20220824\",\"20220825\",\"20220826\",\"20220829\",\"20220830\",\"20220831\",\"20220901\",\"20220902\",\"20220905\",\"20220906\",\"20220907\",\"20220908\",\"20220913\",\"20220914\",\"20220915\",\"20220916\",\"20220919\",\"20220920\",\"20220921\",\"20220922\",\"20220923\",\"20220926\",\"20220927\",\"20220928\",\"20220929\",\"20220930\",\"20221004\",\"20221005\",\"20221006\",\"20221007\",\"20221011\",\"20221012\",\"20221013\",\"20221014\",\"20221017\",\"20221018\",\"20221019\",\"20221020\",\"20221021\",\"20221024\",\"20221025\",\"20221026\",\"20221027\",\"20221028\",\"20221031\",\"20221101\",\"20221102\",\"20221103\",\"20221104\",\"20221107\",\"20221108\",\"20221109\",\"20221110\",\"20221111\",\"20221114\",\"20221115\",\"20221116\",\"20221117\",\"20221118\",\"20221121\",\"20221122\",\"20221123\",\"20221124\",\"20221125\",\"20221128\",\"20221129\",\"20221130\",\"20221201\",\"20221202\",\"20221205\",\"20221206\",\"20221207\",\"20221208\",\"20221209\",\"20221212\",\"20221213\",\"20221214\",\"20221215\",\"20221216\",\"20221219\",\"20221220\",\"20221221\",\"20221222\",\"20221223\",\"20221226\",\"20221227\",\"20221228\",\"20221229\",\"20221230\",\"20230102\",\"20230103\",\"20230104\",\"20230105\",\"20230106\",\"20230109\",\"20230110\",\"20230111\",\"20230112\",\"20230113\",\"20230116\",\"20230117\",\"20230118\",\"20230119\",\"20230120\",\"20230125\",\"20230126\",\"20230127\",\"20230130\",\"20230131\",\"20230201\",\"20230202\",\"20230203\",\"20230206\",\"20230207\",\"20230208\",\"20230209\",\"20230210\",\"20230213\",\"20230214\",\"20230215\",\"20230216\",\"20230217\",\"20230220\",\"20230221\",\"20230222\",\"20230223\",\"20230224\",\"20230227\",\"20230228\",\"20230302\",\"20230303\",\"20230306\",\"20230307\",\"20230308\",\"20230309\",\"20230310\",\"20230313\",\"20230314\",\"20230315\",\"20230316\",\"20230317\",\"20230320\",\"20230321\",\"20230322\",\"20230323\",\"20230324\",\"20230327\",\"20230328\",\"20230329\",\"20230330\",\"20230331\",\"20230403\",\"20230404\",\"20230405\",\"20230406\",\"20230407\",\"20230410\",\"20230411\",\"20230412\",\"20230413\",\"20230414\",\"20230417\",\"20230418\",\"20230419\",\"20230420\",\"20230421\",\"20230424\",\"20230425\",\"20230426\",\"20230427\",\"20230428\",\"20230502\",\"20230503\",\"20230504\",\"20230508\",\"20230509\",\"20230510\",\"20230511\",\"20230512\",\"20230515\",\"20230516\",\"20230517\",\"20230518\",\"20230519\",\"20230522\",\"20230523\",\"20230524\",\"20230525\",\"20230526\",\"20230530\",\"20230531\",\"20230601\",\"20230602\",\"20230605\",\"20230607\",\"20230608\",\"20230609\",\"20230612\",\"20230613\",\"20230614\",\"20230615\",\"20230616\",\"20230619\",\"20230620\",\"20230621\",\"20230622\",\"20230623\",\"20230626\",\"20230627\",\"20230628\",\"20230629\",\"20230630\",\"20230703\",\"20230704\",\"20230705\",\"20230706\",\"20230707\",\"20230710\",\"20230711\",\"20230712\",\"20230713\",\"20230714\",\"20230717\",\"20230718\",\"20230719\",\"20230720\",\"20230721\",\"20230724\",\"20230725\",\"20230726\",\"20230727\",\"20230728\",\"20230731\",\"20230801\",\"20230802\",\"20230803\",\"20230804\",\"20230807\",\"20230808\"],[1305,1307,1305,1302,1312,1313,1316,1326,1336,1343,1338,1343,1337.5,1343,1349.5,1346,1344.5,1358.5,1363,1372,1379.5,1386,1379,1390,1394,1399,1390,1394,1395,1396,1406,1423,1425,1427,1440,1434,1439,1428,1424,1411,1429,1435.5,1433,1439,1442.5,1436,1427,1434,1427,1438,1442,1433,1420,1423,1425.5,1431,1421,1421,1427,1411,1398,1382,1368.5,1365,1319,1330,1316,1328,1352,1343,1361,1357,1352,1331,1338,1338,1331,1319,1307,1302,1302,1321,1320,1320,1306,1308,1298,1298,1314,1310,1304,1290,1288,1283,1284,1277,1272,1269.5,1268,1263,1273,1276,1274,1276,1260,1245,1248,1250,1248,1242,1241,1240,1230,1237,1240,1236.5,1234.5,1235,1230,1236,1231.5,1227,1251,1258,1262,1260,1259,1270.5,1279,1270,1289,1291.5,1300,1298,1302.5,1303,1295,1318,1320.5,1310,1315.5,1301,1301,1306,1316,1320,1323,1306,1308,1319,1312.5,1309.5,1308.5,1307.5,1306,1284,1300,1302,1300.5,1303,1298.5,1310,1313,1312.5,1315,1319.5,1319,1323,1322.5,1324,1307,1307,1320,1318,1329,1322.5,1332,1335,1342,1338,1342,1341,1342,1333,1327,1322,1326.5,1322,1330,1344,1340.5,1341,1339,1338,1328.5,1318,1320,1321,1330,1328,1323,1328,1320,1310,1307,1306,1300,1293.5,1290,1272,1275,1277,1280,1285,1288,1294,1299,1312,1307.5,1299,1312,1318,1319,1306,1297,1303,1311.5,1303,1306.5,1297,1281,1270,1273,1269,1264,1267,1278,1289,1281,1278.5,1275,1282.5,1278,1279,1290.5,1300,1300,1308,1307.5,1314.9]],\"code\":\"areaYear\"},{\"data\":[[\"20200814\",\"20200821\",\"20200828\",\"20200904\",\"20200911\",\"20200918\",\"20200925\",\"20200929\",\"20201008\",\"20201016\",\"20201023\",\"20201030\",\"20201106\",\"20201113\",\"20201120\",\"20201127\",\"20201204\",\"20201211\",\"20201218\",\"20201224\",\"20201231\",\"20210108\",\"20210115\",\"20210122\",\"20210129\",\"20210205\",\"20210210\",\"20210219\",\"20210226\",\"20210305\",\"20210312\",\"20210319\",\"20210326\",\"20210402\",\"20210409\",\"20210416\",\"20210423\",\"20210430\",\"20210507\",\"20210514\",\"20210521\",\"20210528\",\"20210604\",\"20210611\",\"20210618\",\"20210625\",\"20210702\",\"20210709\",\"20210716\",\"20210723\",\"20210730\",\"20210806\",\"20210813\",\"20210820\",\"20210827\",\"20210903\",\"20210910\",\"20210917\",\"20210924\",\"20211001\",\"20211008\",\"20211015\",\"20211022\",\"20211029\",\"20211105\",\"20211112\",\"20211119\",\"20211126\",\"20211203\",\"20211210\",\"20211217\",\"20211224\",\"20211231\",\"20220107\",\"20220114\",\"20220121\",\"20220128\",\"20220204\",\"20220211\",\"20220218\",\"20220225\",\"20220304\",\"20220311\",\"20220318\",\"20220325\",\"20220401\",\"20220408\",\"20220415\",\"20220422\",\"20220429\",\"20220506\",\"20220513\",\"20220520\",\"20220527\",\"20220603\",\"20220610\",\"20220617\",\"20220624\",\"20220701\",\"20220708\",\"20220715\",\"20220722\",\"20220729\",\"20220805\",\"20220812\",\"20220819\",\"20220826\",\"20220902\",\"20220908\",\"20220916\",\"20220923\",\"20220930\",\"20221007\",\"20221014\",\"20221021\",\"20221028\",\"20221104\",\"20221111\",\"20221118\",\"20221125\",\"20221202\",\"20221209\",\"20221216\",\"20221223\",\"20221230\",\"20230106\",\"20230113\",\"20230120\",\"20230127\",\"20230203\",\"20230210\",\"20230217\",\"20230224\",\"20230303\",\"20230310\",\"20230317\",\"20230324\",\"20230331\",\"20230407\",\"20230414\",\"20230421\",\"20230428\",\"20230504\",\"20230512\",\"20230519\",\"20230526\",\"20230602\",\"20230609\",\"20230616\",\"20230623\",\"20230630\",\"20230707\",\"20230714\",\"20230721\",\"20230728\",\"20230804\",\"20230808\"],[1187.5,1189.5,1183,1189.5,1187,1163.5,1175,1169,1152.5,1146,1128.5,1134.5,1121.5,1113.5,1117,1105,1086,1092,1099.5,1103.5,1088,1092,1103.5,1105,1117.5,1123.5,1107,1106.5,1126,1129,1136.5,1130,1131.5,1129,1121,1117,1117.5,1117.5,1120.5,1129.5,1127.5,1115,1116.5,1116.5,1132,1128.5,1136,1148.5,1141,1151.5,1152,1146,1169,1183.5,1170,1157,1170,1184,1178,1187,1196,1183.5,1176,1174,1186.5,1179.5,1190,1196,1183,1182,1186,1187.5,1190.5,1204,1190,1192.5,1209,1199.5,1199.5,1195.5,1204.5,1217.5,1237,1215.5,1224,1220,1228,1229.5,1243.5,1263,1270.5,1284,1273,1256,1252,1280,1295,1296,1298,1300,1325,1310,1304.5,1298.5,1312,1336,1343,1363,1379,1390,1423,1439,1429,1442.5,1438,1425.5,1411,1319,1343,1338,1302,1306,1310,1284,1263,1260,1242,1240,1235,1251,1270.5,1300,1318,1301,1323,1309.5,1300,1310,1319,1307,1332,1341,1327,1344,1328.5,1328,1310,1293.5,1280,1312,1319,1303,1273,1289,1278,1308,1314.9]],\"code\":\"areaYearThree\"},{\"data\":[[\"20130809\",\"20130816\",\"20130823\",\"20130830\",\"20130906\",\"20130913\",\"20130917\",\"20130927\",\"20131004\",\"20131011\",\"20131018\",\"20131025\",\"20131101\",\"20131108\",\"20131115\",\"20131122\",\"20131129\",\"20131206\",\"20131213\",\"20131220\",\"20131227\",\"20140103\",\"20140110\",\"20140117\",\"20140124\",\"20140129\",\"20140207\",\"20140214\",\"20140221\",\"20140228\",\"20140307\",\"20140314\",\"20140321\",\"20140328\",\"20140404\",\"20140411\",\"20140418\",\"20140425\",\"20140502\",\"20140509\",\"20140516\",\"20140523\",\"20140530\",\"20140605\",\"20140613\",\"20140620\",\"20140627\",\"20140704\",\"20140711\",\"20140718\",\"20140725\",\"20140801\",\"20140808\",\"20140814\",\"20140822\",\"20140829\",\"20140905\",\"20140912\",\"20140919\",\"20140926\",\"20141002\",\"20141010\",\"20141017\",\"20141024\",\"20141031\",\"20141107\",\"20141114\",\"20141121\",\"20141128\",\"20141205\",\"20141212\",\"20141219\",\"20141226\",\"20150102\",\"20150109\",\"20150116\",\"20150123\",\"20150130\",\"20150206\",\"20150213\",\"20150217\",\"20150227\",\"20150306\",\"20150313\",\"20150320\",\"20150327\",\"20150403\",\"20150410\",\"20150417\",\"20150424\",\"20150430\",\"20150508\",\"20150515\",\"20150522\",\"20150529\",\"20150605\",\"20150612\",\"20150619\",\"20150626\",\"20150703\",\"20150710\",\"20150717\",\"20150724\",\"20150731\",\"20150807\",\"20150813\",\"20150821\",\"20150828\",\"20150904\",\"20150911\",\"20150918\",\"20150925\",\"20151002\",\"20151008\",\"20151016\",\"20151023\",\"20151030\",\"20151106\",\"20151113\",\"20151120\",\"20151127\",\"20151204\",\"20151211\",\"20151218\",\"20151224\",\"20151231\",\"20160108\",\"20160115\",\"20160122\",\"20160129\",\"20160205\",\"20160212\",\"20160219\",\"20160226\",\"20160304\",\"20160311\",\"20160318\",\"20160325\",\"20160401\",\"20160408\",\"20160415\",\"20160422\",\"20160429\",\"20160504\",\"20160513\",\"20160520\",\"20160527\",\"20160603\",\"20160610\",\"20160617\",\"20160624\",\"20160701\",\"20160708\",\"20160715\",\"20160722\",\"20160729\",\"20160805\",\"20160812\",\"20160819\",\"20160826\",\"20160902\",\"20160909\",\"20160913\",\"20160923\",\"20160930\",\"20161007\",\"20161014\",\"20161021\",\"20161028\",\"20161104\",\"20161111\",\"20161118\",\"20161125\",\"20161202\",\"20161209\",\"20161216\",\"20161223\",\"20161230\",\"20170106\",\"20170113\",\"20170120\",\"20170126\",\"20170203\",\"20170210\",\"20170217\",\"20170224\",\"20170303\",\"20170310\",\"20170317\",\"20170324\",\"20170331\",\"20170407\",\"20170414\",\"20170421\",\"20170428\",\"20170504\",\"20170512\",\"20170519\",\"20170526\",\"20170602\",\"20170609\",\"20170616\",\"20170623\",\"20170630\",\"20170707\",\"20170714\",\"20170721\",\"20170728\",\"20170804\",\"20170811\",\"20170818\",\"20170825\",\"20170901\",\"20170908\",\"20170915\",\"20170922\",\"20170929\",\"20171013\",\"20171020\",\"20171027\",\"20171103\",\"20171110\",\"20171117\",\"20171124\",\"20171201\",\"20171208\",\"20171215\",\"20171222\",\"20171229\",\"20180105\",\"20180112\",\"20180119\",\"20180126\",\"20180202\",\"20180209\",\"20180214\",\"20180223\",\"20180302\",\"20180309\",\"20180316\",\"20180323\",\"20180330\",\"20180406\",\"20180413\",\"20180420\",\"20180427\",\"20180504\",\"20180511\",\"20180518\",\"20180525\",\"20180601\",\"20180608\",\"20180615\",\"20180622\",\"20180629\",\"20180706\",\"20180713\",\"20180720\",\"20180727\",\"20180803\",\"20180810\",\"20180817\",\"20180824\",\"20180831\",\"20180907\",\"20180914\",\"20180921\",\"20180928\",\"20181005\",\"20181012\",\"20181019\",\"20181026\",\"20181102\",\"20181109\",\"20181116\",\"20181123\",\"20181130\",\"20181207\",\"20181214\",\"20181221\",\"20181228\",\"20190104\",\"20190111\",\"20190118\",\"20190125\",\"20190201\",\"20190208\",\"20190215\",\"20190222\",\"20190228\",\"20190308\",\"20190315\",\"20190322\",\"20190329\",\"20190405\",\"20190412\",\"20190419\",\"20190426\",\"20190503\",\"20190510\",\"20190517\",\"20190524\",\"20190531\",\"20190607\",\"20190614\",\"20190621\",\"20190628\",\"20190705\",\"20190712\",\"20190719\",\"20190726\",\"20190802\",\"20190809\",\"20190816\",\"20190823\",\"20190830\",\"20190906\",\"20190911\",\"20190920\",\"20190927\",\"20191004\",\"20191011\",\"20191018\",\"20191025\",\"20191101\",\"20191108\",\"20191115\",\"20191122\",\"20191129\",\"20191206\",\"20191213\",\"20191220\",\"20191227\",\"20200103\",\"20200110\",\"20200117\",\"20200123\",\"20200131\",\"20200207\",\"20200214\",\"20200221\",\"20200228\",\"20200306\",\"20200313\",\"20200320\",\"20200327\",\"20200403\",\"20200410\",\"20200417\",\"20200424\",\"20200429\",\"20200508\",\"20200515\",\"20200522\",\"20200529\",\"20200605\",\"20200612\",\"20200619\",\"20200626\",\"20200703\",\"20200710\",\"20200717\",\"20200724\",\"20200731\",\"20200807\",\"20200814\",\"20200821\",\"20200828\",\"20200904\",\"20200911\",\"20200918\",\"20200925\",\"20200929\",\"20201008\",\"20201016\",\"20201023\",\"20201030\",\"20201106\",\"20201113\",\"20201120\",\"20201127\",\"20201204\",\"20201211\",\"20201218\",\"20201224\",\"20201231\",\"20210108\",\"20210115\",\"20210122\",\"20210129\",\"20210205\",\"20210210\",\"20210219\",\"20210226\",\"20210305\",\"20210312\",\"20210319\",\"20210326\",\"20210402\",\"20210409\",\"20210416\",\"20210423\",\"20210430\",\"20210507\",\"20210514\",\"20210521\",\"20210528\",\"20210604\",\"20210611\",\"20210618\",\"20210625\",\"20210702\",\"20210709\",\"20210716\",\"20210723\",\"20210730\",\"20210806\",\"20210813\",\"20210820\",\"20210827\",\"20210903\",\"20210910\",\"20210917\",\"20210924\",\"20211001\",\"20211008\",\"20211015\",\"20211022\",\"20211029\",\"20211105\",\"20211112\",\"20211119\",\"20211126\",\"20211203\",\"20211210\",\"20211217\",\"20211224\",\"20211231\",\"20220107\",\"20220114\",\"20220121\",\"20220128\",\"20220204\",\"20220211\",\"20220218\",\"20220225\",\"20220304\",\"20220311\",\"20220318\",\"20220325\",\"20220401\",\"20220408\",\"20220415\",\"20220422\",\"20220429\",\"20220506\",\"20220513\",\"20220520\",\"20220527\",\"20220603\",\"20220610\",\"20220617\",\"20220624\",\"20220701\",\"20220708\",\"20220715\",\"20220722\",\"20220729\",\"20220805\",\"20220812\",\"20220819\",\"20220826\",\"20220902\",\"20220908\",\"20220916\",\"20220923\",\"20220930\",\"20221007\",\"20221014\",\"20221021\",\"20221028\",\"20221104\",\"20221111\",\"20221118\",\"20221125\",\"20221202\",\"20221209\",\"20221216\",\"20221223\",\"20221230\",\"20230106\",\"20230113\",\"20230120\",\"20230127\",\"20230203\",\"20230210\",\"20230217\",\"20230224\",\"20230303\",\"20230310\",\"20230317\",\"20230324\",\"20230331\",\"20230407\",\"20230414\",\"20230421\",\"20230428\",\"20230504\",\"20230512\",\"20230519\",\"20230526\",\"20230602\",\"20230609\",\"20230616\",\"20230623\",\"20230630\",\"20230707\",\"20230714\",\"20230721\",\"20230728\",\"20230804\",\"20230808\"],[1111.5,1112.5,1113.5,1109,1092.5,1086.5,1083.5,1075,1071,1072,1062,1062,1061,1064.5,1063.5,1061,1058.5,1058,1053,1061,1054.5,1055,1061,1061.5,1079.5,1072,1075.5,1060,1071.5,1067.5,1061.2,1070.5,1080,1069,1054.8,1036,1038.3,1040.5,1029.5,1026,1025,1025.5,1020.3,1022,1019,1021.5,1014.5,1009.7,1019,1030,1027,1038,1036,1021.7,1018,1014,1025,1034.2,1044.5,1044.5,1060.9,1073,1065.5,1058,1067.5,1093.5,1100.3,1113,1108.5,1115,1102,1099.5,1099.2,1104.5,1091.1,1077.5,1082.3,1095.8,1090.2,1100.3,1105.2,1099.7,1098.6,1128.8,1126.3,1106.8,1092.8,1093.8,1080.9,1079.2,1074.3,1089.7,1086.6,1090.6,1109.2,1112.8,1117.3,1108,1119.5,1123.5,1130.1,1146.2,1170.4,1172.2,1166.7,1174.6,1194,1177,1191.3,1186,1162,1194,1183,1161.5,1133,1128,1138.5,1142,1166,1156.5,1156,1161,1181.5,1184,1170.5,1177.5,1199.5,1215,1199,1204.5,1197.5,1208,1233,1236.5,1207,1194,1162.5,1170,1152,1153.5,1148,1143.5,1140.5,1155.5,1171.5,1191.5,1180,1186,1166,1174,1173,1148,1157,1135,1138,1116,1113.3,1104.5,1120,1114.8,1117,1106,1125.5,1103.5,1104,1115.5,1133.5,1141,1145.5,1145,1167,1177,1177.5,1173,1173,1187,1205,1205,1196.5,1175.5,1176,1167,1148,1150,1150,1131,1157,1155.5,1131,1122.5,1118.5,1136,1142,1136,1140.5,1136.5,1129,1123,1119,1123,1125,1134,1138.5,1145,1154.5,1133.5,1119,1123,1126,1145.5,1141.5,1127,1120.5,1131,1132.5,1134.5,1146.5,1127.5,1132.5,1131,1115.5,1119.6,1099.5,1086.5,1087,1095,1090,1080,1068.5,1064.5,1065,1068.5,1066.5,1086.5,1091,1079,1078.5,1083,1071.2,1068.5,1079,1063,1069,1069,1070.5,1073,1077,1067,1082,1079,1075.5,1077,1099,1112.5,1114.5,1117,1133,1135,1118,1127,1129.5,1125,1117.5,1117.5,1124,1119.5,1116.5,1111,1130.5,1133,1132.5,1142.5,1118,1129,1132,1132.5,1122,1122.5,1134.5,1124.5,1117,1124,1116,1122.5,1121,1119,1124,1129.5,1125,1124,1137,1136.5,1134,1137,1138,1137,1136.5,1161,1170,1178,1195.5,1188,1191.5,1185.5,1185.5,1163.5,1155.5,1171.5,1179,1175.5,1184.5,1200.5,1212,1211,1211,1209.5,1194.5,1194.5,1188.5,1200,1197,1186,1181,1174.5,1167,1157.5,1167,1178,1180,1189.5,1172,1161,1160.5,1167.5,1161.5,1159,1168,1194.5,1193.5,1183,1211.5,1210.5,1191,1218,1245,1220,1236,1212.5,1217,1234.5,1219,1221,1230.5,1240.5,1238,1209,1203,1209.5,1200,1199.5,1201,1205,1204,1191,1188.5,1187.5,1189.5,1183,1189.5,1187,1163.5,1175,1169,1152.5,1146,1128.5,1134.5,1121.5,1113.5,1117,1105,1086,1092,1099.5,1103.5,1088,1092,1103.5,1105,1117.5,1123.5,1107,1106.5,1126,1129,1136.5,1130,1131.5,1129,1121,1117,1117.5,1117.5,1120.5,1129.5,1127.5,1115,1116.5,1116.5,1132,1128.5,1136,1148.5,1141,1151.5,1152,1146,1169,1183.5,1170,1157,1170,1184,1178,1187,1196,1183.5,1176,1174,1186.5,1179.5,1190,1196,1183,1182,1186,1187.5,1190.5,1204,1190,1192.5,1209,1199.5,1199.5,1195.5,1204.5,1217.5,1237,1215.5,1224,1220,1228,1229.5,1243.5,1263,1270.5,1284,1273,1256,1252,1280,1295,1296,1298,1300,1325,1310,1304.5,1298.5,1312,1336,1343,1363,1379,1390,1423,1439,1429,1442.5,1438,1425.5,1411,1319,1343,1338,1302,1306,1310,1284,1263,1260,1242,1240,1235,1251,1270.5,1300,1318,1301,1323,1309.5,1300,1310,1319,1307,1332,1341,1327,1344,1328.5,1328,1310,1293.5,1280,1312,1319,1303,1273,1289,1278,1308,1314.9]],\"code\":\"areaYearTen\"}];var chart=new ExchangeChart();var controller=new nhn.search.exchangeRate.Controller({\"sBaseSelector\":\"#_cs_foreigninfo\",\"htInputBoxOption\":{\"nDelay\":300},\"Chart\":ExchangeChart,\"mode\":mode,\"chartData\":chartData,\"sAPIUrl\":\"https://m.search.naver.com/p/csearch/content/qapirender.nhn\",\"htApiOption\":{\"_callback\":\"a\",\"pkid\":141,\"key\":\"exchangeApiBasic\",\"where\":\"nexearch\",\"q\":\"환율\"}});var initIndex=0;controller.drawChart(initIndex);controller.on(\"changeTab\",function(e){controller.drawChart(e.index);});});};var requirejs=\"https://ssl.pstatic.net/sstatic/au/module/requirejs/require-2.3.5.js\";nhn.common.load_js(window.require?null:requirejs,startApplication,true,150);})();</script>  <script crossorigin=\"anonymous\" src=\"https://ssl.pstatic.net/adimg3.search/adpost/js/event_tracker.js?o=search\"></script>\n",
            "  <script crossorigin=\"anonymous\" src=\"https://ssl.pstatic.net/adimg3.search/imp/nx/power/js/230320/power_link_for_you_responsive_pc.js?o=search\"></script>\n",
            "  <script type=\"text/javascript\">\n",
            "    if (typeof NAVER === \"undefined\") {\n",
            "      NAVER = {};\n",
            "    }\n",
            "    if (typeof NAVER.SEARCH_AD === \"undefined\") {\n",
            "      NAVER.SEARCH_AD = {};\n",
            "    }\n",
            "    NAVER.SEARCH_AD.showTooltip = function (element) {\n",
            "      var parentElement = $Element(element).parent();\n",
            "      var timerAttribute = parentElement.attr(\"data-timer\");\n",
            "      if (timerAttribute) {\n",
            "        clearTimeout(timerAttribute);\n",
            "        parentElement.attr(\"data-timer\", \"\");\n",
            "      }\n",
            "      var tooltipElement = $Element(parentElement.query(\"._tooltip\"));\n",
            "      tooltipElement.css(\"display\", \"inline\");\n",
            "    };\n",
            "    NAVER.SEARCH_AD.hideTooltip = function (element) {\n",
            "      var parentElement = $Element(element).parent();\n",
            "      if (!parentElement.attr(\"data-timer\")) {\n",
            "        var timer = setTimeout(function () {\n",
            "          var tooltipElement = $Element(parentElement.query(\"._tooltip\"));\n",
            "          tooltipElement.css(\"display\", \"none\");\n",
            "        }, 100);\n",
            "        parentElement.attr(\"data-timer\", timer);\n",
            "      }\n",
            "    };\n",
            "\n",
            "    var _elAdIndLayerPl = null;\n",
            "    var _elAdIndLayerTimePl;\n",
            "    var _elDscNcautionPl = null;\n",
            "\n",
            "    function adInfoShowPl(el) {\n",
            "      if (_elAdIndLayerPl) {\n",
            "        adInfoHidePl();\n",
            "        return false;\n",
            "      } else {\n",
            "        if (!_elDscNcautionPl) {\n",
            "          _elDscNcautionPl = $Element(el).parent();\n",
            "        }\n",
            "        _elDscNcautionPl._element.style.zIndex = 121;\n",
            "        _elAdIndLayerPl = $Element(el).next();\n",
            "        _elAdIndLayerPl.show();\n",
            "        _elAdIndLayerTimePl = (new Date()).getTime();\n",
            "        return true;\n",
            "      }\n",
            "    }\n",
            "\n",
            "    function adInfoHidePl() {\n",
            "      if (_elAdIndLayerPl) {\n",
            "        if (_elDscNcautionPl) {\n",
            "          _elDscNcautionPl._element.style.zIndex = 0;\n",
            "        }\n",
            "        _elAdIndLayerPl.hide();\n",
            "        _elAdIndLayerPl = null;\n",
            "      }\n",
            "    }\n",
            "\n",
            "    function adInfoHideClickEventHandlerPl(e) {\n",
            "      if (_elAdIndLayerTimePl + 200 < (new Date()).getTime()) adInfoHidePl();\n",
            "    }\n",
            "\n",
            "    document.body[window.addEventListener ? 'addEventListener' : 'attachEvent'](window.addEventListener ? \"click\" : \"onclick\", adInfoHideClickEventHandlerPl, false);\n",
            "  </script>\n",
            "  <script>\n",
            "    (function() {\n",
            "      var defaultFavicon = \"https://ssl.pstatic.net/adimg3.search/imp/nx/power/pc/230719/img/icon_favicon.png\";\n",
            "      naver.common.imageLazyLoader.onError(\n",
            "              naver.common.LazySrc.Handler.create({\n",
            "                \"power-link-favicon-error\": function ($img) {\n",
            "                  $img.attr(\"src\", defaultFavicon);\n",
            "                }\n",
            "              })\n",
            "      );\n",
            "    })();\n",
            "  </script>\n",
            "  <link href=\"https://ssl.pstatic.net/adimg3.search/imp/nx/power/pc/230726/css/nx_powerlink.css\" rel=\"stylesheet\" type=\"text/css\">\n",
            "  <link rel=\"stylesheet\" type=\"text/css\" href=\"https://ssl.pstatic.net/sstatic/search/local/css/maps_openapi_https_150716.css\">\n",
            "  <div class=\"ad_section section _pl_section bg_type_v2\">\n",
            "    <div class=\"section_head nx_power\"><h2>파워링크</h2>\n",
            "\n",
            "      <div class=\"dsc_ncaution\">\n",
            "        <span><em class=\"dsc_ncaution_quotation\">&lsquo;</em><strong class=\"dsc_ncaution_keyword\">환율</strong><em\n",
            "                class=\"dsc_ncaution_quotation\">&rsquo;</em></span>\n",
            "        <span class=\"dsc_ncaution_text\">관련 광고입니다.</span>\n",
            "        <a href=\"javascript:void(0);\" class=\"icon_nad_desc\"\n",
            "           title=\"이 광고가 표시된 이유\" onclick=\"if(adInfoShowPl(this)) goOtherCR(this, &#39;a=pwl_nop.adset&amp;r=0&amp;i=pwl_nopadset&amp;u=&#39;+urlencode(this.href));\">이 광고가 표시된 이유</a>\n",
            "\n",
            "        <div class=\"ly_ad_dsc\" onclick=\"adInfoHidePl();\" style=\"display:none\">\n",
            "\n",
            "          <p>광고 노출기준은 검색어에 대한 연관성과 광고주의 입찰가이며,\n",
            "            이미지 등 추가 링크는 등록한 경우에만 기준에 따라 노출됩니다. <a href=\"https://saedu.naver.com/help/faq/ncc/view.nhn?faqSeq=704\" class=\"link_help\">도움말</a></p>\n",
            "          <button type=\"button\" class=\"bt_ad_clse\">안내 레이어 닫기</button>\n",
            "        </div>\n",
            "      </div>\n",
            "      <a href=\"//saedu.naver.com/adbiz/searchad/intro.nhn\" class=\"go_register space\" target=\"_blank\" onclick=\"return goOtherCR(this, &#39;a=pwl_nop.registration&amp;r=0&amp;i=pwl_nopregistration&amp;u=&#39;+urlencode(this.href));\">등록 안내</a>\n",
            "    </div>\n",
            "    <div class=\"nad_area\" id=\"power_link_body\" impression-event-url=\"https://event.impression-neo.naver.com/api/v1/events/naver_search/impression?x=7F5VtiTAdBm9DBV8n_ivNg47x3gndKl0miF8QuXeWOp7CiAgInR5cGUiIDogIklNUFJFU1NJT04iLAogICJkZXRhaWwiIDogewogICAgIkBjbGFzcyIgOiAiY29tLm5hdmVyLmltcHJlc3Npb24uZXZlbnQuY29yZS5kb21haW4uSW1wcmVzc2lvbkV2ZW50RGV0YWlsIiwKICAgICJyZXF1ZXN0X2lkIiA6ICJpTGJIUGxwcnZtc3NzTktJMzJzc3Nzc3N0T28tNTExMjkxIiwKICAgICJyZXF1ZXN0X3RpbWVzdGFtcF9pbl9taWxsaXMiIDogMTY5MTQ2NjEwNjg5OCwKICAgICJjaGFubmVsX2lkIiA6IDIzNzU5NiwKICAgICJzZWFyY2hfa2V5d29yZCIgOiAi7ZmY7JyoIiwKICAgICJpbXByZXNzaW9uX2xvY2F0aW9uX2luZm8iIDogewogICAgICAiQGNsYXNzIiA6ICJjb20ubmF2ZXIuaW1wcmVzc2lvbi5ldmVudC5jb3JlLmRvbWFpbi5OYXZlclNlYXJjaENvbGxlY3Rpb25JbmZvIiwKICAgICAgInR5cGUiIDogIlBPV0VSX0xJTksiLAogICAgICAicmFua190eXBlIiA6ICJBTFdBWVNfVE9QIiwKICAgICAgImFkc19hcmVhX2hlaWdodCIgOiBudWxsLAogICAgICAieWNvb3JkaW5hdGVfaW5fcGl4ZWxzIiA6IG51bGwKICAgIH0sCiAgICAic2Vzc2lvbl9pZCIgOiBudWxsLAogICAgImJ1Y2tldF9pZCIgOiBudWxsLAogICAgInN5c3RlbV9yZXF1ZXN0X2lkIiA6ICJDblJaTEFBQUFZblRQSWdTQVY3bENRPT0iCiAgfSwKICAiaWQiIDogImNjYzU2M2YyLTY0ZTgtNGIzYy1hMGM5LTdkYjViNjA3NTgzMSIsCiAgInRpbWVzdGFtcF9pbl9taWxsaXMiIDogMAp9\">\n",
            "      <ul class=\"lst_type\">\n",
            "        <li class=\"lst type_more type_subtitle ext_link   type_img \"\n",
            "            onmouseover=\"jindo.$Element(this).addClass('ad_hover');\"\n",
            "            onmouseout=\"jindo.$Element(this).removeClass('ad_hover');\" num=\"0\">\n",
            "          <a class=\"lnk_thumb\"\n",
            "             href=\"https://adcr.naver.com/adcr?x=Ct7CPIpMwdxcf666XHUpBf///w==kN+uJrLOsyvdQIrHCRMSGV73Jjkvj1LVLZ4+11r1FgJRfpWbeRXBEcj6qvISI4ERlgrcQu273FkV4607LrukPYTaytyNLWmVL7aAyayEud54OPWD/q5fKtPcjGaj7EYF0yD7iJC3dM7zO1LsNHJyWOPm5FKCJr36ewjLlPs/lXdMjolVk7fO/sSMYAFR/aGWuRdxjLITYd163Sh40+cAM7gGtfJaytA1fzrXMS2blschyMH8bNgfu21ZoT8wYo+GVhW8287j9Hj+byLhoDtsQMpheBAGbvcztf5TtJ7uIr2H2bZb4lVx8VT905LOJL7fLFTxwLDp0P6w0VDB/thG9MQ+1biQxgdfj8rzpymj+L+FgXF/EN47iwVNN1Ji8g2CohHUXOOyYE4VYFuuI1NmEiouj5nwjHQWZg9nqgBhvtbc0MWyU+AT/o/2vkLju2MDqD8+K2/GbikR90U9WZs2LugoL8T31d/ibAqZyaSUd6s2lXJs3OG0q2FDJBa2CxCS2jIJ3RUQ6bBHUigxR7JKbKwQRD84z7TRC5ICUDCvtqpVVYkv0pOIqG0xzFZnACcGR3Z1hXSXJ8Qpvzuqr5gbIMqdNa0b1lDNUD1rXq5KeerZJQ8ZYKNncc7E7my3OQ0Aqff+ba6AK81R/JZOZFi6/MuonbJOuS66lspCAH0v+WKKCo77tiidyRboU3EHEalnJJYHL1mzl4JI+7UTE1katpQ==\"\n",
            "             target=\"_blank\" onclick=\"return goOtherCR(this,&#39;a=pwl_nop.image&amp;r=1&amp;i=nad-a001-01-000000251967139&amp;d=&#39;+urlencode(&#39;https://fx.kbstar.com&#39;)+&#39;&amp;u=&#39;+urlencode(this.href));\">\n",
            "            <img alt=\"링크이미지\" class=\"img_thumb\" src=\"https://searchad-phinf.pstatic.net/MjAyMzA3MDdfMzYg/MDAxNjg4NzA1MjI2NjU5.m3N4FNoCjRKvuyHoj31Je4a5t1iYKXR8ZiIaft22QCwg.ddVfhCAp2JdkYKcgIMYAlsIE9sMf0DmJHQkoNqUtfggg.PNG/1396947-d41ea8f6-c962-424e-b55b-b0bf8e2fffa0.png?type=f160_160\" width=\"100%\" height=\"100%\">\n",
            "          </a>\n",
            "          <div class=\"inner\">\n",
            "            <div class=\"title_url_area\">\n",
            "              <div class=\"url_area\">\n",
            "                <a href=\"https://adcr.naver.com/adcr?x=Q/QOC8oL3lNo4Z9OzW3joP///w==kN+uJrLOsyvdQIrHCRMSGV73Jjkvj1LVLZ4+11r1FgJRfpWbeRXBEcj6qvISI4ERlgrcQu273FkV4607LrukPYTaytyNLWmVL7aAyayEud54OPWD/q5fKtPcjGaj7EYF0yD7iJC3dM7zO1LsNHJyWOPm5FKCJr36ewjLlPs/lXdMjolVk7fO/sSMYAFR/aGWuRdxjLITYd163Sh40+cAM7gGtfJaytA1fzrXMS2blschyMH8bNgfu21ZoT8wYo+GVhW8287j9Hj+byLhoDtsQMpheBAGbvcztf5TtJ7uIr2H2bZb4lVx8VT905LOJL7fLFTxwLDp0P6w0VDB/thG9MQ+1biQxgdfj8rzpymj+L+FgXF/EN47iwVNN1Ji8g2CohHUXOOyYE4VYFuuI1NmEiouj5nwjHQWZg9nqgBhvtbc0MWyU+AT/o/2vkLju2MDqD8+K2/GbikR90U9WZs2LugoL8T31d/ibAqZyaSUd6s2lXJs3OG0q2FDJBa2CxCS2lJPgj1BhJtZdHMF94W5pH5BrAdcnpmoy15Ip/4ZKXXeONPZVds1KQn0HPm7ornhNcFexL9ImRBpuoMkHv3nsqhLukdT1n9jOwgm5FeU8PofaFKzz7s2lc+QKtFSiLtr4f5oimP2hLmD/gfb2EMCaDWuQSrYYC7V/7wm1DIGSiuSRUtX3SbqrsqZK5Zh2PCywNqSNxBb1rKsd4HszHGZeqg==\" class=\"favicon_wrap\" target=\"_blank\" onclick=\"return goOtherCR(this,&#39;a=pwl_nop.favicon&amp;r=1&amp;i=nad-a001-01-000000251967139&amp;d=&#39;+urlencode(&#39;https://fx.kbstar.com&#39;)+&#39;&amp;u=&#39;+urlencode(this.href));\">\n",
            "                  <img width=\"16\" height=\"16\" alt=\"favicon\" class=\"icon_favicon\" data-img-alias=\"power-link-favicon-error\"\n",
            "                       data-lazysrc=\"https://search.pstatic.net/sunny?src=https%3A%2F%2Foimg1.kbstar.com%2Fimg%2Fomweb%2Ffavi_iphone.png&amp;type=f30_30_png_expire24\"\n",
            "                       src=\"https://ssl.pstatic.net/adimg3.search/imp/nx/power/pc/230719/img/icon_favicon.png\">\n",
            "                </a>\n",
            "                <span class=\"icon_nad_mark\">광고</span>\n",
            "                \n",
            "                <a href=\"https://adcr.naver.com/adcr?x=Q/QOC8oL3lNo4Z9OzW3joP///w==kN+uJrLOsyvdQIrHCRMSGV73Jjkvj1LVLZ4+11r1FgJRfpWbeRXBEcj6qvISI4ERlgrcQu273FkV4607LrukPYTaytyNLWmVL7aAyayEud54OPWD/q5fKtPcjGaj7EYF0yD7iJC3dM7zO1LsNHJyWOPm5FKCJr36ewjLlPs/lXdMjolVk7fO/sSMYAFR/aGWuRdxjLITYd163Sh40+cAM7gGtfJaytA1fzrXMS2blschyMH8bNgfu21ZoT8wYo+GVhW8287j9Hj+byLhoDtsQMpheBAGbvcztf5TtJ7uIr2H2bZb4lVx8VT905LOJL7fLFTxwLDp0P6w0VDB/thG9MQ+1biQxgdfj8rzpymj+L+FgXF/EN47iwVNN1Ji8g2CohHUXOOyYE4VYFuuI1NmEiouj5nwjHQWZg9nqgBhvtbc0MWyU+AT/o/2vkLju2MDqD8+K2/GbikR90U9WZs2LugoL8T31d/ibAqZyaSUd6s2lXJs3OG0q2FDJBa2CxCS2lJPgj1BhJtZdHMF94W5pH5BrAdcnpmoy15Ip/4ZKXXeONPZVds1KQn0HPm7ornhNcFexL9ImRBpuoMkHv3nsqhLukdT1n9jOwgm5FeU8PofaFKzz7s2lc+QKtFSiLtr4f5oimP2hLmD/gfb2EMCaDWuQSrYYC7V/7wm1DIGSiuSRUtX3SbqrsqZK5Zh2PCywNqSNxBb1rKsd4HszHGZeqg==&amp;p=1\"\n",
            "                   class=\"lnk_url\" target=\"_blank\"\n",
            "                   onclick=\"return goOtherCR(this, &#39;a=pwl_nop.url&amp;r=1&amp;i=nad-a001-01-000000251967139&amp;d=&#39;+urlencode(&#39;https://fx.kbstar.com&#39;)+&#39;&amp;u=&#39;+urlencode(this.href));\">fx.kbstar.com</a>\n",
            "              </div>\n",
            "              <a href=\"https://adcr.naver.com/adcr?x=Q/QOC8oL3lNo4Z9OzW3joP///w==kN+uJrLOsyvdQIrHCRMSGV73Jjkvj1LVLZ4+11r1FgJRfpWbeRXBEcj6qvISI4ERlgrcQu273FkV4607LrukPYTaytyNLWmVL7aAyayEud54OPWD/q5fKtPcjGaj7EYF0yD7iJC3dM7zO1LsNHJyWOPm5FKCJr36ewjLlPs/lXdMjolVk7fO/sSMYAFR/aGWuRdxjLITYd163Sh40+cAM7gGtfJaytA1fzrXMS2blschyMH8bNgfu21ZoT8wYo+GVhW8287j9Hj+byLhoDtsQMpheBAGbvcztf5TtJ7uIr2H2bZb4lVx8VT905LOJL7fLFTxwLDp0P6w0VDB/thG9MQ+1biQxgdfj8rzpymj+L+FgXF/EN47iwVNN1Ji8g2CohHUXOOyYE4VYFuuI1NmEiouj5nwjHQWZg9nqgBhvtbc0MWyU+AT/o/2vkLju2MDqD8+K2/GbikR90U9WZs2LugoL8T31d/ibAqZyaSUd6s2lXJs3OG0q2FDJBa2CxCS2lJPgj1BhJtZdHMF94W5pH5BrAdcnpmoy15Ip/4ZKXXeONPZVds1KQn0HPm7ornhNcFexL9ImRBpuoMkHv3nsqhLukdT1n9jOwgm5FeU8PofaFKzz7s2lc+QKtFSiLtr4f5oimP2hLmD/gfb2EMCaDWuQSrYYC7V/7wm1DIGSiuSRUtX3SbqrsqZK5Zh2PCywNqSNxBb1rKsd4HszHGZeqg==&amp;p=0\" class=\"lnk_head\" target=\"_blank\" onclick=\"return goOtherCR(this, &#39;a=pwl_nop.tit&amp;r=1&amp;i=nad-a001-01-000000251967139&amp;d=&#39; + urlencode(&#39;https://fx.kbstar.com&#39;) + &#39;&amp;u=&#39;+ urlencode(this.href));\">\n",
            "                \n",
            "                  <span class=\"lnk_tit\">KB Star FX 환율우대</span><span class=\"lnk_tit\">개인고객 최대 90%까지</span><span class=\"lnk_tit\">연말까지</span>\n",
            "                \n",
            "                \n",
            "              </a>\n",
            "            </div>\n",
            "            <div class=\"desc_area\">\n",
            "              <a href=\"https://adcr.naver.com/adcr?x=Q/QOC8oL3lNo4Z9OzW3joP///w==kN+uJrLOsyvdQIrHCRMSGV73Jjkvj1LVLZ4+11r1FgJRfpWbeRXBEcj6qvISI4ERlgrcQu273FkV4607LrukPYTaytyNLWmVL7aAyayEud54OPWD/q5fKtPcjGaj7EYF0yD7iJC3dM7zO1LsNHJyWOPm5FKCJr36ewjLlPs/lXdMjolVk7fO/sSMYAFR/aGWuRdxjLITYd163Sh40+cAM7gGtfJaytA1fzrXMS2blschyMH8bNgfu21ZoT8wYo+GVhW8287j9Hj+byLhoDtsQMpheBAGbvcztf5TtJ7uIr2H2bZb4lVx8VT905LOJL7fLFTxwLDp0P6w0VDB/thG9MQ+1biQxgdfj8rzpymj+L+FgXF/EN47iwVNN1Ji8g2CohHUXOOyYE4VYFuuI1NmEiouj5nwjHQWZg9nqgBhvtbc0MWyU+AT/o/2vkLju2MDqD8+K2/GbikR90U9WZs2LugoL8T31d/ibAqZyaSUd6s2lXJs3OG0q2FDJBa2CxCS2lJPgj1BhJtZdHMF94W5pH5BrAdcnpmoy15Ip/4ZKXXeONPZVds1KQn0HPm7ornhNcFexL9ImRBpuoMkHv3nsqhLukdT1n9jOwgm5FeU8PofaFKzz7s2lc+QKtFSiLtr4f5oimP2hLmD/gfb2EMCaDWuQSrYYC7V/7wm1DIGSiuSRUtX3SbqrsqZK5Zh2PCywNqSNxBb1rKsd4HszHGZeqg==\" class=\"link_desc\" target=\"_blank\"\n",
            "                 onclick=\"return goOtherCR(this, &#39;a=pwl_nop.desc&amp;r=1&amp;i=nad-a001-01-000000251967139&amp;d=&#39; + urlencode(&#39;https://fx.kbstar.com&#39;) + &#39;&amp;u=&#39;+ urlencode(this.href));\">KB국민은행 준법감시인 심의필 제2023-2481-1호 (2023.10.31까지) 개인고객은 KB Star FX 가입만 하면 연말까지 쭉~ <strong class='hl'>환율</strong> 90% 우대!</a>\n",
            "              \n",
            "              \n",
            "            </div>\n",
            "            \n",
            "            <ul class=\"lst_link\">\n",
            "              \n",
            "                <li class=\"item\">\n",
            "                  <a class=\"link\" href=\"https://adcr.naver.com/adcr?x=8lDptUfdORNkUfwfm3kxy////w==kO66+S5argEsBh4zpAjq6IUye+O4Eq9SuISMRSwbtKOzCKphFFP0xAJDR5Y/IGf9Ls6AZGoDrsnvvHTx6zLm4Tpp+Rh7k2VXemHbna14im+GQELyhQniNK/vV275QUDecPbLA+OpAnG81vuDSUPpt+5Gs/r1kUlGhdu43BRfy7RQpTxg5ab9C12LCrW1nyPGwqqFbeF1COYZBvHftWeKQyys3fHl/ys87i62ZFTHDpTB0EjLLpv10GFNFgceEzWIckdpcZsysSeAVZ9B1eLOrWy6HyTaXupmzwttxWakTZCAZ+mgkwxdpfcZrCb4gc0BHQvaK19xPrFdN2fiSh881xgK/lRfFw5Zs8TUCkW75ZPZGFE6tDe/LfyYx9AxT/3kuwGFP58p2mkmZuYmg0avBa+mLHE2zGs036T0s9OKxsNkOyEP21CMls/UJ5MAm5e8Y+Qi+kLzyoZsyouQsrmy/duCjonJVr6CevTRCKRO5OorAPZu5vDb2kZiplFbhNgfo2lgDqkgx0Xv7y6/3+XJBM6tL9E05xX4U31AQJvyhu06MnxM7kdEA8XcAJboZPUtmLo5ITfBsdoRei2LBTkTg3xm+9RXPkCR+U4iabwGzsM+SHH6R7MUtS+q7PjFVnPVdJHawRw9G8c6A4gvDVSAGgtftuBfnSJhBtslFFIQvF72SXGibEn6HaEms4BZirGOne3SXGeSmDFUAq2KEWMEDSXdRv+XhhnPZWh4u4CfZIXE=\" target=\"_blank\" onclick=\"return goOtherCR(this,&#39;a=pwl_nop.sublink1&amp;r=1&amp;i=nad-a001-01-000000251967139&amp;d=&#39;+urlencode(&#39;https://fx.kbstar.com&#39;)+&#39;&amp;u=&#39;+urlencode(this.href));\">FX거래체험</a>\n",
            "                </li>\n",
            "              \n",
            "                <li class=\"item\">\n",
            "                  <a class=\"link\" href=\"https://adcr.naver.com/adcr?x=dLmN9ejLwGkBRFDaFN8Abf///w==kOWOahub8rB/xyNRHnG+lrK4ItWeGL1itsWch4uiquxJyqKnFezVWpJzV7PJ+aHgV8gQ3lkHWR19NzNeL7Xolk0PLedj5VTpwSOQPyf6pDUCgPR2pGZzMMW+Wc0B4R8AFkvxIUV64bIKleEb2Pf+pO36eS5HcNYwTZTnjfq+yL05nzYroMHrP3Y6Ni9gg/zH9j7M5dGdr/gKoQdRLmJuXOT4CEbWji1ymkFXYi3RvMK/w+11sMRm1O8B2qol+dOl3ypHdQvUF92ujN5W9O1emO1STq35sC5C8OUTpBklhTSQCt09kKc4Q18o8CIuJYaj3PRKbQjggofwljapOZoporSevLdLjvz4wn2jRceB2VV/ybFUPKTzHr5fnZqr3Elo6RcloLczVjQzAtRecxrxGGg1wOuAJiNhProng1A0zb1hsa5+RLPybGRPCVMWckZb2zCXDZ+FiVmjtJWAaqaOdh30Zx/ftTeMsnfNDEbq0DvCHM7HDrnjUyK9akgHqjxhzSnsq0PR4/dnYqrJ08eURd0k3MIJy0ZjkqwvP3fX8o1tuZHTyr9biLDsUYP82Uj870hen50PJgFqe9y4FlRNXfgci1XLhZRNfHpilQediEvBh7pkqzfiivSIW1P71tiGUQezXHCCyyfsgRNBBPcLFQ1LhupBXqfFJeQs+YcPrsH91UAeZUyD20Ik+rNf2QxtReou4u+HTz3IVo3/7Ow4rIU03sWMbD9dqpHROvLuBBss=\" target=\"_blank\" onclick=\"return goOtherCR(this,&#39;a=pwl_nop.sublink2&amp;r=1&amp;i=nad-a001-01-000000251967139&amp;d=&#39;+urlencode(&#39;https://fx.kbstar.com&#39;)+&#39;&amp;u=&#39;+urlencode(this.href));\">환율분석</a>\n",
            "                </li>\n",
            "              \n",
            "                <li class=\"item\">\n",
            "                  <a class=\"link\" href=\"https://adcr.naver.com/adcr?x=sSqM2tgakXlt9OuKtkEEH////w==k3oBEBIK0mqXADAfe6Ppojzrz/e9p7kbi5ELzkfEsUq1i5DPjvu4x0uUi9psmTQB5R/IXC14+H/bNYrWXbbDgzS9koiIdoFkmBUVEuTCBTdIncO46sUrYL7C5pbE+CvvyC/PYfvv7EnIUGRbMBM5fp9WWSWk9x9cDFVSo8cBkNqviehZn7rIFqLBPoUm1UaKeqdEp37ljEdaGNyBgOMxsOEefEopIq/AR3N0aotQ9s8Uk7qjW3vYx73OYaIiuIRihHMevVR2xIKeNRi7CUF2Qa4NmpCqCgeA+BPhwhBHjOCONxLCzAeLxvKNM4KcTVrfbgoQMey0F/iIECF2WEzSZTgW6/hXSSsqjiuB9sTDo/pdAkcgWWhN3e1KPJUo4/c7MEEwXaeQ0EDgQjy2yAJIyCb/jhYwaAOGKlLokaU4Ry08rYCgsa9znZK/w3Ic8ETmCFEPDhb91mqQZtoFRVCAVG3HWdS4TdbboHrA0sRMcwjMwHMRwRBe3jmSwZ5SlAyhWG1CRkVsLthiq6ciyJt+h/kaOVw/fe3FaJzNuykQJPrlRK5q54uAOn26NFzr9R3CHDU/+Su4NLcXw8HCKjaP9GFSuON8sjbbBSOTxlBhmxBJpLFcO3oLUla9oPcU7UnVfHy3hg0pKmpcjdnEsso2+8OgYYIRMaXsXaiQmH7zvL6Gb6nLZj0LK5yimhA3v46b81UsojFUmo06E6qVM1irw4LSh5vjZ7H7dFCEdWpoA7Is=\" target=\"_blank\" onclick=\"return goOtherCR(this,&#39;a=pwl_nop.sublink3&amp;r=1&amp;i=nad-a001-01-000000251967139&amp;d=&#39;+urlencode(&#39;https://fx.kbstar.com&#39;)+&#39;&amp;u=&#39;+urlencode(this.href));\">환율전망</a>\n",
            "                </li>\n",
            "              \n",
            "            </ul>\n",
            "            \n",
            "            \n",
            "            \n",
            "            \n",
            "          </div>\n",
            "        </li>\n",
            "        <li class=\"lst type_more type_subtitle ext_link   type_img \"\n",
            "            onmouseover=\"jindo.$Element(this).addClass('ad_hover');\"\n",
            "            onmouseout=\"jindo.$Element(this).removeClass('ad_hover');\" num=\"1\">\n",
            "          <a class=\"lnk_thumb\"\n",
            "             href=\"https://adcr.naver.com/adcr?x=mx2Njw9siD71QvQDmsA1Nf///w==km9Cp4ozqQddNDDOIlsD7xOSjUdcM3b8fNauHmTkYQDttZ+WIfIzygcO8BsVvbAWRST1kf0aGtm4lkyiKfbJmfKaIpM3lEM1Uxq9D4YjzbpXYiSw188t3SbMRYb+8XkQHSxIvb0ZduYWxUp5UtoMPiQYn5rmxhp+VM3AfoQXf6ONBI8pySB3VmoVcaInWt6ZthvNg/1rvo1s1kjJIsV8h5aEnaUMQdQSpsT1E/9buvYieG1/A53mHiefq/EEEWrOIoicCeZXaBKgEYjsc1RhXmep7fbfzjv1R5mamTYTXUkF4Pe2CMqAacAu8qc9rptFBSx9PSE2jsbQXZOKPkoBerDgOum5Zp8DDxFvk/GYmlxyfBZVD4tlrao9I4ahjoEX8JJUiaOAOBCT3XHjXYNPkrDQ3XjO75JFMLDcHIP6AnOLAD+W7AFLXSwMJFf4i+dKLnY2obTKd7VhyyCQ6PGPErXMpu2431dD9IOBgr8Cz1AKjVg0Krh4cvlA3UHfkXuj6vxREYbBH1Gv0/WwlEO6T61bNJHzobi7Fhhq37hmxUoFsR0waXRm7wElmu2JQ3R/9qiNgbfpmhJIKm25Enzwr4AuvClg7mKwL8sRkVrJhlU8UxBZyqj10k2ztKi00VBp+OBZ3KGizitX1ygn8sOiBNAjgWn2mMwad4+GVazV8sDovnlmCics1NPgnpUTqbkqHeNZGpEXr+mtdan0MD1qLoLThE15lzAlptX2AJS5p5uONm8797dpFmOwC/eHQzyFl7mp3ODwMaxqoGomgq+YDBg==\"\n",
            "             target=\"_blank\" onclick=\"return goOtherCR(this,&#39;a=pwl_nop.image&amp;r=2&amp;i=nad-a001-01-000000256444949&amp;d=&#39;+urlencode(&#39;http://www.myasset.com&#39;)+&#39;&amp;u=&#39;+urlencode(this.href));\">\n",
            "            <img alt=\"링크이미지\" class=\"img_thumb\" src=\"https://searchad-phinf.pstatic.net/MjAyMzA2MzBfMjY4/MDAxNjg4MDk4MDk5MzI4.GZUoZCAZnix6oebsf7uN6IoTxZ1bH9sAuiaiuEsRrfcg.a-WrJYD5VoTqxFTJ-fHOIqndfIzBG7RM4jU8ilHvk9Qg.PNG/384324-13fe54e3-e370-4906-90f4-3b44f37e0d66.png?type=f160_160\" width=\"100%\" height=\"100%\">\n",
            "          </a>\n",
            "          <div class=\"inner\">\n",
            "            <div class=\"title_url_area\">\n",
            "              <div class=\"url_area\">\n",
            "                <a href=\"https://adcr.naver.com/adcr?x=tim3J3mSJ0Wl9vcYOtE9OP///w==km9Cp4ozqQddNDDOIlsD7xOSjUdcM3b8fNauHmTkYQDttZ+WIfIzygcO8BsVvbAWRpik5N2VaSkL7xGy/A0KperElMnCN8KMvoEziiokJlJLiX9Vl+w0/6FsY94RY+XuRCfsDafnNtXFHp3svwu87ZAhAchd0QC6KbPXtDWbsxtsTfc0Ur61FJCTaNSHrttjg58n8b/VPrg0tYQ2NwX8bhdbB+yFNd5ygHklGZP4WwrVCL1lS0AN1oXetIV1kRKQyXMK53hZ39N2m4N+n76QVH7AaAc+Za9/8SIp3PUsVM6iI/+IcIA4Uj2LfsLVhklbaUYSJ9IH+TBHHhQ2FPxdjNINAl36TiEOoLnRNAEd46H7OhWMQCpfTBQl1N6Q6DVIuBXyJQIg+ainIV6KUgSMLu2Yszs+h/i6OsKseYLJ3BrvoGabfkaQwipEHUOg19Z1WhVW2W29/u2D93QjCliaaZD1c0bC/5mEFnrSBetg4lEmsRqIV6myBIdriiHC2T8nE5ZOndelQHPru5hc9Ba6YaGrPFKfEv/P3O68nJAW0ZvkacJmQp9qgVx3Im2wl8FSOWIxePJNTVGd61T4gswl30gmtYQxJ/EZXGoHzjIDDWu68SfCYpZP8hDWOZMQiQG2mojXKkE6FFd1YPxt16llCArLlDeWDckeNZYfGD7GI+R4vdv/VgtmdCVYCEIVtWmJqu2IZmzFVi4a3bIb2QXCMoayZxNmI516Q5b+ENt9tbG/wHwmSDv/l+QRwGpSyyOagpVtwwbhJAmwnXmX2UjUrOA==\" class=\"favicon_wrap\" target=\"_blank\" onclick=\"return goOtherCR(this,&#39;a=pwl_nop.favicon&amp;r=2&amp;i=nad-a001-01-000000256444949&amp;d=&#39;+urlencode(&#39;http://www.myasset.com&#39;)+&#39;&amp;u=&#39;+urlencode(this.href));\">\n",
            "                  <img width=\"16\" height=\"16\" alt=\"favicon\" class=\"icon_favicon\" data-img-alias=\"power-link-favicon-error\"\n",
            "                       data-lazysrc=\"https://search.pstatic.net/sunny?src=https%3A%2F%2Fwww.myasset.com%2Ftemplets%2Fmobile%2Fimg%2Flogo-152.png&amp;type=f30_30_png_expire24\"\n",
            "                       src=\"https://ssl.pstatic.net/adimg3.search/imp/nx/power/pc/230719/img/icon_favicon.png\">\n",
            "                </a>\n",
            "                <span class=\"icon_nad_mark\">광고</span>\n",
            "                \n",
            "                <a href=\"https://adcr.naver.com/adcr?x=tim3J3mSJ0Wl9vcYOtE9OP///w==km9Cp4ozqQddNDDOIlsD7xOSjUdcM3b8fNauHmTkYQDttZ+WIfIzygcO8BsVvbAWRpik5N2VaSkL7xGy/A0KperElMnCN8KMvoEziiokJlJLiX9Vl+w0/6FsY94RY+XuRCfsDafnNtXFHp3svwu87ZAhAchd0QC6KbPXtDWbsxtsTfc0Ur61FJCTaNSHrttjg58n8b/VPrg0tYQ2NwX8bhdbB+yFNd5ygHklGZP4WwrVCL1lS0AN1oXetIV1kRKQyXMK53hZ39N2m4N+n76QVH7AaAc+Za9/8SIp3PUsVM6iI/+IcIA4Uj2LfsLVhklbaUYSJ9IH+TBHHhQ2FPxdjNINAl36TiEOoLnRNAEd46H7OhWMQCpfTBQl1N6Q6DVIuBXyJQIg+ainIV6KUgSMLu2Yszs+h/i6OsKseYLJ3BrvoGabfkaQwipEHUOg19Z1WhVW2W29/u2D93QjCliaaZD1c0bC/5mEFnrSBetg4lEmsRqIV6myBIdriiHC2T8nE5ZOndelQHPru5hc9Ba6YaGrPFKfEv/P3O68nJAW0ZvkacJmQp9qgVx3Im2wl8FSOWIxePJNTVGd61T4gswl30gmtYQxJ/EZXGoHzjIDDWu68SfCYpZP8hDWOZMQiQG2mojXKkE6FFd1YPxt16llCArLlDeWDckeNZYfGD7GI+R4vdv/VgtmdCVYCEIVtWmJqu2IZmzFVi4a3bIb2QXCMoayZxNmI516Q5b+ENt9tbG/wHwmSDv/l+QRwGpSyyOagpVtwwbhJAmwnXmX2UjUrOA==&amp;p=1\"\n",
            "                   class=\"lnk_url\" target=\"_blank\"\n",
            "                   onclick=\"return goOtherCR(this, &#39;a=pwl_nop.url&amp;r=2&amp;i=nad-a001-01-000000256444949&amp;d=&#39;+urlencode(&#39;http://www.myasset.com&#39;)+&#39;&amp;u=&#39;+urlencode(this.href));\">www.myasset.com</a>\n",
            "              </div>\n",
            "              <a href=\"https://adcr.naver.com/adcr?x=tim3J3mSJ0Wl9vcYOtE9OP///w==km9Cp4ozqQddNDDOIlsD7xOSjUdcM3b8fNauHmTkYQDttZ+WIfIzygcO8BsVvbAWRpik5N2VaSkL7xGy/A0KperElMnCN8KMvoEziiokJlJLiX9Vl+w0/6FsY94RY+XuRCfsDafnNtXFHp3svwu87ZAhAchd0QC6KbPXtDWbsxtsTfc0Ur61FJCTaNSHrttjg58n8b/VPrg0tYQ2NwX8bhdbB+yFNd5ygHklGZP4WwrVCL1lS0AN1oXetIV1kRKQyXMK53hZ39N2m4N+n76QVH7AaAc+Za9/8SIp3PUsVM6iI/+IcIA4Uj2LfsLVhklbaUYSJ9IH+TBHHhQ2FPxdjNINAl36TiEOoLnRNAEd46H7OhWMQCpfTBQl1N6Q6DVIuBXyJQIg+ainIV6KUgSMLu2Yszs+h/i6OsKseYLJ3BrvoGabfkaQwipEHUOg19Z1WhVW2W29/u2D93QjCliaaZD1c0bC/5mEFnrSBetg4lEmsRqIV6myBIdriiHC2T8nE5ZOndelQHPru5hc9Ba6YaGrPFKfEv/P3O68nJAW0ZvkacJmQp9qgVx3Im2wl8FSOWIxePJNTVGd61T4gswl30gmtYQxJ/EZXGoHzjIDDWu68SfCYpZP8hDWOZMQiQG2mojXKkE6FFd1YPxt16llCArLlDeWDckeNZYfGD7GI+R4vdv/VgtmdCVYCEIVtWmJqu2IZmzFVi4a3bIb2QXCMoayZxNmI516Q5b+ENt9tbG/wHwmSDv/l+QRwGpSyyOagpVtwwbhJAmwnXmX2UjUrOA==&amp;p=0\" class=\"lnk_head\" target=\"_blank\" onclick=\"return goOtherCR(this, &#39;a=pwl_nop.tit&amp;r=2&amp;i=nad-a001-01-000000256444949&amp;d=&#39; + urlencode(&#39;http://www.myasset.com&#39;) + &#39;&amp;u=&#39;+ urlencode(this.href));\">\n",
            "                \n",
            "                  <span class=\"lnk_tit\">유안타증권 미국주식0.07%</span><span class=\"lnk_tit\">중국,대만,홍콩주식은 유안타</span><span class=\"lnk_tit\">미국주식 실시간시세 무료제공</span>\n",
            "                \n",
            "                \n",
            "              </a>\n",
            "            </div>\n",
            "            <div class=\"desc_area\">\n",
            "              \n",
            "              <a href=\"https://adcr.naver.com/adcr?x=tim3J3mSJ0Wl9vcYOtE9OP///w==km9Cp4ozqQddNDDOIlsD7xOSjUdcM3b8fNauHmTkYQDttZ+WIfIzygcO8BsVvbAWRpik5N2VaSkL7xGy/A0KperElMnCN8KMvoEziiokJlJLiX9Vl+w0/6FsY94RY+XuRCfsDafnNtXFHp3svwu87ZAhAchd0QC6KbPXtDWbsxtsTfc0Ur61FJCTaNSHrttjg58n8b/VPrg0tYQ2NwX8bhdbB+yFNd5ygHklGZP4WwrVCL1lS0AN1oXetIV1kRKQyXMK53hZ39N2m4N+n76QVH7AaAc+Za9/8SIp3PUsVM6iI/+IcIA4Uj2LfsLVhklbaUYSJ9IH+TBHHhQ2FPxdjNINAl36TiEOoLnRNAEd46H7OhWMQCpfTBQl1N6Q6DVIuBXyJQIg+ainIV6KUgSMLu2Yszs+h/i6OsKseYLJ3BrvoGabfkaQwipEHUOg19Z1WhVW2W29/u2D93QjCliaaZD1c0bC/5mEFnrSBetg4lEmsRqIV6myBIdriiHC2T8nE5ZOndelQHPru5hc9Ba6YaGrPFKfEv/P3O68nJAW0ZvkacJmQp9qgVx3Im2wl8FSOWIxePJNTVGd61T4gswl30gmtYQxJ/EZXGoHzjIDDWu68SfCYpZP8hDWOZMQiQG2mojXKkE6FFd1YPxt16llCArLlDeWDckeNZYfGD7GI+R4vdv/VgtmdCVYCEIVtWmJqu2IZmzFVi4a3bIb2QXCMoayZxNmI516Q5b+ENt9tbG/wHwmSDv/l+QRwGpSyyOagpVtwwbhJAmwnXmX2UjUrOA==\" class=\"link_desc\" target=\"_blank\"\n",
            "                 onclick=\"return goOtherCR(this, &#39;a=pwl_nop.desc&amp;r=2&amp;i=nad-a001-01-000000256444949&amp;d=&#39; + urlencode(&#39;http://www.myasset.com&#39;) + &#39;&amp;u=&#39;+ urlencode(this.href));\">신규,휴면고객 환전 우대 수수료 1달러당 1원!</a>\n",
            "              \n",
            "            </div>\n",
            "            \n",
            "            <ul class=\"lst_link\">\n",
            "              \n",
            "                <li class=\"item\">\n",
            "                  <a class=\"link\" href=\"https://adcr.naver.com/adcr?x=1hNg/UcJXHmCb1yugPoEg////w==km9Cp4ozqQddNDDOIlsD7xAM4YYrkskVcAz7VdUKkSkBNJkwFaL4yrf/RNBQUBW9P1O69fPdW4YzeTEj8/oX14uErnd82XFD1ocx5geIz38EpUrm9esr6rUlBNGog4/2qEs5GPPLD3B2cmGYVzRI1c0J9RqKZCrA73XIAF9sDFzzzmP0jeGq14HHBjlP/CAOveLzj7pPBUIbp+rntHujpSJ+NJtjRSkdLY1DHmpnGzIVLuO5YzLu9SNXs1L/TPUTHRo6GeJOlDpyj3O8v16zuX0atlkRqOlW04yv8MIBCOQg7D2hvhm3we1BSTd7Mg/xhoQkHJd1sIAA3jHnYTO6OUQVlbbrvgLt+432prIEgRe6cOtYnwxpt4FoQ0Th1OvYiPNIcDe5ZdABL5WpxOBzvZhUwbnty3rEtzJO6nXsRc+knPWZx6i4oMvlu/v9gC53xVvarm+K3tNYGOhIiomyVz1/bgYbbTZ5Ok2yY/nQtNoNhj2GrNbFQKZwzxY1m0k+T2MbOzufk2DR9UbmywzE9NI4gnp2mZhGtQmXe5XMlk9YAgaYGm63HO5EHfMu9VTy0CdOV3lM2aEr6vabfhpNe2mOZRGHSgpsAgYyIqK2+7sNog3cPokVNob3u+97LXhqBSK10pAdq2+WM+bMiChFprAW7kgoCDiNa73We0maINBdUkGQq+de0Hiaom0wC5GsMQ8e1zC6lrgin0GtrD/SRmSOb+a0h4DopmwpChOzAFndnEYEhOq16Jk9LGgsWk3Bya8SJ+ABpDp00GvLZuR/FcqLzoxAByWOSOGH+0bev2bo=\" target=\"_blank\" onclick=\"return goOtherCR(this,&#39;a=pwl_nop.sublink1&amp;r=2&amp;i=nad-a001-01-000000256444949&amp;d=&#39;+urlencode(&#39;http://www.myasset.com&#39;)+&#39;&amp;u=&#39;+urlencode(this.href));\">수수료혜택</a>\n",
            "                </li>\n",
            "              \n",
            "                <li class=\"item\">\n",
            "                  <a class=\"link\" href=\"https://adcr.naver.com/adcr?x=69Qg7+QGEyS232OmrPR0wP///w==k6fx4whaoLpUTGFvbuNojy9U8qje6MJthmWlbraXLsoWI3AEFZzfKY5pzPSgZZ1sog3+25oln3oUvhKCRCQbUmg6GRhr3GNIsz8EFp8Btub3YiSw188t3SbMRYb+8XkQHT0czeSMldPI0rvkPho4rR2UPIJRDfc9Cv5xGRVflXt5f1VdGn+Q1X2sgmOynEGr9WV99fjweuxAZSh5tNwR01++OFtBwKethE3Gf1myO1q6DeXqQb737fakNJ9Zw6EsLe1Wk1m616rxwEpPVvCXuAFHIhP/1/Co6bTPQfW9u3tqns42iY7n28pBLgyPJMSEzumvl/UW+9twO5hCHrNG4zKj/BY6e2fi0U3j4awAAeNaS+sGEH9fVRT+OyQy6vuBfSugytzqFTIZLQd5VI+TtZM8SI8C+voQbIxJe9/HbF7q0j/ot+RnFmWhKh+R+1QpkFk5ccGxk7c7WBggOlG1klLf88v7GhTVqjfU6q9C3dVQ3U0OwBHAczfq5tzpfE5wEv2X1duBjRLT33muaE690S5ogMElHqx9ZP3664J8ak6FVuoCVF8/e89aanY+HeBp7wbUWXRosVMtOZsdBEYCPVSrtFZJtbAUFI54UACNNjY8IzTfRS8I+HO95gAokE4N+XIst/BF0orsvEl/3h8LzXFWpk7jNXt+JHn5B+sck6ZxfDx3WPv4GaL9JZN+zlQisvMrnC02KMA7fbsLh/hladiVSyG6TGyeFkLnOPZC1H50uUD7J/Xh9qdA/1YO9NS40CoFrFFBCin28HpJqqGbVUGE2YCF/Ig1M5Te4t3sGCIE=\" target=\"_blank\" onclick=\"return goOtherCR(this,&#39;a=pwl_nop.sublink2&amp;r=2&amp;i=nad-a001-01-000000256444949&amp;d=&#39;+urlencode(&#39;http://www.myasset.com&#39;)+&#39;&amp;u=&#39;+urlencode(this.href));\">실시간시세</a>\n",
            "                </li>\n",
            "              \n",
            "                <li class=\"item\">\n",
            "                  <a class=\"link\" href=\"https://adcr.naver.com/adcr?x=QXidW8fSlsDLVyGgWWJgjv///w==km9Cp4ozqQddNDDOIlsD7xOSjUdcM3b8fNauHmTkYQDttZ+WIfIzygcO8BsVvbAWR6z8cetYiM8AGFQir/A8Z8CPk997zbJo8DA6Uuc7ZGDznLd7AIJF0EAS1EYTsOfE8QGHPEUP4YNBfj2y/X5E3aZDgNifW1TE7w2+uRdes/FHrck0m+BrBxQ6b6xq7mQspC1cZ7XJdHh6rVmyzDhsU3oQczM1+uYWlcijUTwJgAB7ssqJ+rGX5FBYxdYe8XMYSLaShvYubm0H09EZP0k0n9ffQAEXm8wXxX6KQpERthSmGw8DRmb8U7kD5nVytEUZu3eWDjLCDFTAfh/AxaF6eM2cO2rq/rGbxsGKs/5e+SJfZe5xgmRQtd+NpZdLdaJccsaT2u+MIkJzrygPsQYNBzsfGMttF7qbX1RI+NbbEfvHYeuTDBFAeh/q6QSm4BvqZrT8JPV0KDIeVBBVTsT1qEjAH4XmjPMkfrrxak4EbmpE4TQ8YvNx7eAe1AUXF13EotJ1VgctoH23OpCc/KJoqN4x3BfdHYfx4WB1WkeX8F4euBYXdGBBqmtD/1NpDawyoJJNGZfR08S6tcg7hMLBk9tl16n6cZqsN6wRTrhE61dCJ1CfATcXAkWDSO6cvoqLZBAhSTb0ly9Whcksare1ZD0XKGnwb/+DxhnAS6qgdNjDAuuykTRhbkGaX1IBAnTffxegn2X6jDjxww7v/RCeN/9B8VwvWJg7HD2P3InxaWsZdmRBy8XLTbx5Zsb45Bi101GDwk1uqjhL7my0wUd/YGA==\" target=\"_blank\" onclick=\"return goOtherCR(this,&#39;a=pwl_nop.sublink3&amp;r=2&amp;i=nad-a001-01-000000256444949&amp;d=&#39;+urlencode(&#39;http://www.myasset.com&#39;)+&#39;&amp;u=&#39;+urlencode(this.href));\">환전우대1원</a>\n",
            "                </li>\n",
            "              \n",
            "            </ul>\n",
            "            \n",
            "            \n",
            "            \n",
            "            \n",
            "          </div>\n",
            "        </li>\n",
            "        <li class=\"lst type_more type_subtitle ext_link    \"\n",
            "            onmouseover=\"jindo.$Element(this).addClass('ad_hover');\"\n",
            "            onmouseout=\"jindo.$Element(this).removeClass('ad_hover');\" num=\"2\">\n",
            "          \n",
            "          <div class=\"inner\">\n",
            "            <div class=\"title_url_area\">\n",
            "              <div class=\"url_area\">\n",
            "                <a href=\"https://adcr.naver.com/adcr?x=X++y0zHjKdpDATzvSLt9SP///w==kilYhRUy+uFCdMt503gKjPOWnIzIMgxkmM5WODbVwODF2O3+ty7FOkp/KBAntsMzPx10tZ/ZeC3VvaUhc0/cG6Gp5hT2uEK7TcvyXkEnYW3wxCzfL2B1ZsKCGA4ctrYPLJXpGIxRmVcCtw1Vg8XZdMn6KVPGud91nho97naPTu2y6VfHnzyuwsSSGPM+CNrafYVhP8NYpCakExSPUDWXhzV2bFxCOOpKDVw1DxOfPoBLQOltp08dUu1chKXdAkx8vqnRTzEfU1bA2hew4vgiY7i7s8KnHsIBmKDSJcyNKuz0nuqgNoAUiZYHOg/HG+qJ/nFN0/5JCcozQN1UACqwsDbOIl3L0YW0X5JQNhZbkBGLhGvPsN6LLoGFiVzlb9HizlGaLOvja2UT4ws2VeIhbEUSQWm9ao3IglcM24F1dpLFx5SqrI6pk6jGfBV78iEHMOckKwCD22wVSXBd4HUmlLgHQ1++1j1OVS75HMBn2PmfLsWPIC6qrt2CAD/sJRXSZEeOuojufyXgWzh0ao+nEtuEIngQ1dTPagKT1RDPTZZu1BbjlszBpJMrfVaQWI6PYcHZkibbwJsvxEUWoTf+YBtMT9HMqgyQfKPehoJzt7+wXZxM+ii7vjpSZeTgy6GvSNm8cV5WsjYylaMyPOCkK1mmdaHW3PTV+K9kZzF3JrZHjtCKk3ExxiszokCHIsrC6R0Zx2J5NyKczsYAisVEyp6Jv3hCjij3jjLJuTYDheNrFD8V4G/bDnYOlTVqgomvvh71on9G8Ar4CtQl/rKZGeePgyWcdTAayFP7+TXoF2hNMxrt3YwX+m+uBz1BCobXVxzy6q3FWhpw02zDteiN+nIEHAg2nhx+Q2uKn7MpS1HI=\" class=\"favicon_wrap\" target=\"_blank\" onclick=\"return goOtherCR(this,&#39;a=pwl_nop.favicon&amp;r=3&amp;i=nad-a001-01-000000251337722&amp;d=&#39;+urlencode(&#39;http://www.auction.co.kr&#39;)+&#39;&amp;u=&#39;+urlencode(this.href));\">\n",
            "                  <img width=\"16\" height=\"16\" alt=\"favicon\" class=\"icon_favicon\" data-img-alias=\"power-link-favicon-error\"\n",
            "                       data-lazysrc=\"https://search.pstatic.net/sunny?src=http%3A%2F%2Fpics.iacstatic.co.kr%2Fcommon%2Fstatic%2Ffavicon_2011.ico&amp;type=f30_30_png_expire24\"\n",
            "                       src=\"https://ssl.pstatic.net/adimg3.search/imp/nx/power/pc/230719/img/icon_favicon.png\">\n",
            "                </a>\n",
            "                <span class=\"icon_nad_mark\">광고</span>\n",
            "                \n",
            "                <a href=\"https://adcr.naver.com/adcr?x=X++y0zHjKdpDATzvSLt9SP///w==kilYhRUy+uFCdMt503gKjPOWnIzIMgxkmM5WODbVwODF2O3+ty7FOkp/KBAntsMzPx10tZ/ZeC3VvaUhc0/cG6Gp5hT2uEK7TcvyXkEnYW3wxCzfL2B1ZsKCGA4ctrYPLJXpGIxRmVcCtw1Vg8XZdMn6KVPGud91nho97naPTu2y6VfHnzyuwsSSGPM+CNrafYVhP8NYpCakExSPUDWXhzV2bFxCOOpKDVw1DxOfPoBLQOltp08dUu1chKXdAkx8vqnRTzEfU1bA2hew4vgiY7i7s8KnHsIBmKDSJcyNKuz0nuqgNoAUiZYHOg/HG+qJ/nFN0/5JCcozQN1UACqwsDbOIl3L0YW0X5JQNhZbkBGLhGvPsN6LLoGFiVzlb9HizlGaLOvja2UT4ws2VeIhbEUSQWm9ao3IglcM24F1dpLFx5SqrI6pk6jGfBV78iEHMOckKwCD22wVSXBd4HUmlLgHQ1++1j1OVS75HMBn2PmfLsWPIC6qrt2CAD/sJRXSZEeOuojufyXgWzh0ao+nEtuEIngQ1dTPagKT1RDPTZZu1BbjlszBpJMrfVaQWI6PYcHZkibbwJsvxEUWoTf+YBtMT9HMqgyQfKPehoJzt7+wXZxM+ii7vjpSZeTgy6GvSNm8cV5WsjYylaMyPOCkK1mmdaHW3PTV+K9kZzF3JrZHjtCKk3ExxiszokCHIsrC6R0Zx2J5NyKczsYAisVEyp6Jv3hCjij3jjLJuTYDheNrFD8V4G/bDnYOlTVqgomvvh71on9G8Ar4CtQl/rKZGeePgyWcdTAayFP7+TXoF2hNMxrt3YwX+m+uBz1BCobXVxzy6q3FWhpw02zDteiN+nIEHAg2nhx+Q2uKn7MpS1HI=&amp;p=1\"\n",
            "                   class=\"lnk_url\" target=\"_blank\"\n",
            "                   onclick=\"return goOtherCR(this, &#39;a=pwl_nop.url&amp;r=3&amp;i=nad-a001-01-000000251337722&amp;d=&#39;+urlencode(&#39;http://www.auction.co.kr&#39;)+&#39;&amp;u=&#39;+urlencode(this.href));\">www.auction.co.kr</a>\n",
            "              </div>\n",
            "              <a href=\"https://adcr.naver.com/adcr?x=X++y0zHjKdpDATzvSLt9SP///w==kilYhRUy+uFCdMt503gKjPOWnIzIMgxkmM5WODbVwODF2O3+ty7FOkp/KBAntsMzPx10tZ/ZeC3VvaUhc0/cG6Gp5hT2uEK7TcvyXkEnYW3wxCzfL2B1ZsKCGA4ctrYPLJXpGIxRmVcCtw1Vg8XZdMn6KVPGud91nho97naPTu2y6VfHnzyuwsSSGPM+CNrafYVhP8NYpCakExSPUDWXhzV2bFxCOOpKDVw1DxOfPoBLQOltp08dUu1chKXdAkx8vqnRTzEfU1bA2hew4vgiY7i7s8KnHsIBmKDSJcyNKuz0nuqgNoAUiZYHOg/HG+qJ/nFN0/5JCcozQN1UACqwsDbOIl3L0YW0X5JQNhZbkBGLhGvPsN6LLoGFiVzlb9HizlGaLOvja2UT4ws2VeIhbEUSQWm9ao3IglcM24F1dpLFx5SqrI6pk6jGfBV78iEHMOckKwCD22wVSXBd4HUmlLgHQ1++1j1OVS75HMBn2PmfLsWPIC6qrt2CAD/sJRXSZEeOuojufyXgWzh0ao+nEtuEIngQ1dTPagKT1RDPTZZu1BbjlszBpJMrfVaQWI6PYcHZkibbwJsvxEUWoTf+YBtMT9HMqgyQfKPehoJzt7+wXZxM+ii7vjpSZeTgy6GvSNm8cV5WsjYylaMyPOCkK1mmdaHW3PTV+K9kZzF3JrZHjtCKk3ExxiszokCHIsrC6R0Zx2J5NyKczsYAisVEyp6Jv3hCjij3jjLJuTYDheNrFD8V4G/bDnYOlTVqgomvvh71on9G8Ar4CtQl/rKZGeePgyWcdTAayFP7+TXoF2hNMxrt3YwX+m+uBz1BCobXVxzy6q3FWhpw02zDteiN+nIEHAg2nhx+Q2uKn7MpS1HI=&amp;p=0\" class=\"lnk_head\" target=\"_blank\" onclick=\"return goOtherCR(this, &#39;a=pwl_nop.tit&amp;r=3&amp;i=nad-a001-01-000000251337722&amp;d=&#39; + urlencode(&#39;http://www.auction.co.kr&#39;) + &#39;&amp;u=&#39;+ urlencode(this.href));\">\n",
            "                \n",
            "                  <span class=\"lnk_tit\">옥션 환율</span><span class=\"lnk_tit\">클럽은 5% 쿠폰 무제한</span>\n",
            "                \n",
            "                \n",
            "              </a>\n",
            "            </div>\n",
            "            <div class=\"desc_area\">\n",
            "              \n",
            "              <a href=\"https://adcr.naver.com/adcr?x=X++y0zHjKdpDATzvSLt9SP///w==kilYhRUy+uFCdMt503gKjPOWnIzIMgxkmM5WODbVwODF2O3+ty7FOkp/KBAntsMzPx10tZ/ZeC3VvaUhc0/cG6Gp5hT2uEK7TcvyXkEnYW3wxCzfL2B1ZsKCGA4ctrYPLJXpGIxRmVcCtw1Vg8XZdMn6KVPGud91nho97naPTu2y6VfHnzyuwsSSGPM+CNrafYVhP8NYpCakExSPUDWXhzV2bFxCOOpKDVw1DxOfPoBLQOltp08dUu1chKXdAkx8vqnRTzEfU1bA2hew4vgiY7i7s8KnHsIBmKDSJcyNKuz0nuqgNoAUiZYHOg/HG+qJ/nFN0/5JCcozQN1UACqwsDbOIl3L0YW0X5JQNhZbkBGLhGvPsN6LLoGFiVzlb9HizlGaLOvja2UT4ws2VeIhbEUSQWm9ao3IglcM24F1dpLFx5SqrI6pk6jGfBV78iEHMOckKwCD22wVSXBd4HUmlLgHQ1++1j1OVS75HMBn2PmfLsWPIC6qrt2CAD/sJRXSZEeOuojufyXgWzh0ao+nEtuEIngQ1dTPagKT1RDPTZZu1BbjlszBpJMrfVaQWI6PYcHZkibbwJsvxEUWoTf+YBtMT9HMqgyQfKPehoJzt7+wXZxM+ii7vjpSZeTgy6GvSNm8cV5WsjYylaMyPOCkK1mmdaHW3PTV+K9kZzF3JrZHjtCKk3ExxiszokCHIsrC6R0Zx2J5NyKczsYAisVEyp6Jv3hCjij3jjLJuTYDheNrFD8V4G/bDnYOlTVqgomvvh71on9G8Ar4CtQl/rKZGeePgyWcdTAayFP7+TXoF2hNMxrt3YwX+m+uBz1BCobXVxzy6q3FWhpw02zDteiN+nIEHAg2nhx+Q2uKn7MpS1HI=\" class=\"link_desc\" target=\"_blank\"\n",
            "                 onclick=\"return goOtherCR(this, &#39;a=pwl_nop.desc&amp;r=3&amp;i=nad-a001-01-000000251337722&amp;d=&#39; + urlencode(&#39;http://www.auction.co.kr&#39;) + &#39;&amp;u=&#39;+ urlencode(this.href));\"><strong class='hl'>환율</strong> 신세계 유니버스 클럽은 누구나 5% 쿠폰 무제한 발급</a>\n",
            "              \n",
            "            </div>\n",
            "            \n",
            "            <ul class=\"lst_link\">\n",
            "              \n",
            "                <li class=\"item\">\n",
            "                  <a class=\"link\" href=\"https://adcr.naver.com/adcr?x=iWs707ke5qHfZ/Y7F696p////w==kfCgQAfeRXUiyPNIAqg2nGHmxaTgdb81NvzbCjpgEsoG2EkWQLycWRqW43Pp1OXc5bCfJopjELBVK4hWDck1iAqNLM3KDJXuCyC2SmPHHo7AH2nQhva6w5/ffj+a3EvoVeBt9ndirql0spzXVkCt+9C5GIRkpRIxT20MUn2zLkBa+0QYBP+0vg+CgbI3DK+MF6xOhOhip/jXnno/hpwVS3X+1ScyF8T3MItO1zJObwt2jKOYhkxPIzGsxSthRL0Xzmv17t6nu3CJm7ae7atNxTsRpDcbbMN89Q7XD55bYsdEctJ8RtDrwAyFnlJZF8kAmqEIeltY8+uAyG+NIV90bdvRhlp1WzpRJsu8DwyJ1ihGXuPK6VpWQJBtOQrkZ3QY8b3ddTCJVy8zTEUEUYMoWe8nStuj8amubiiC2oCHsI9Zplsf+TIL3xqi1N6xlOIoMzvMY7v6uLqRM1gfyIaXisycaI3EQrG+pAAZRFswY5D33cnzH+Ncvd8ckTax4U53rp2JV3Ho2MlHXZcFenGtqb84ZozPsCBqQn66lMZykGVEW9ZzHH0XcZIFuDoXN6lUujb5vDukbZTTnqS0TaO2XIXwMyrDRO5B643A7Yn/etIj9CuOkGwQUzW+e+Uefgd5sKBQNAwVvHrErZfc/xefdYG7TfrOclcv2OPJdeJfmQoW6B+Fy4gUKNf4BPk71UB7niVkdYV5Qn4zbnR7bbr6a0q4q2SCovZod2imKPwA7qXbxTNlYpSOBQSANYN+IiDlX6vnYIgz+BR2+43ZZfgb4UpVyNjeFlfJ1k3uIsitMV0dO7QDJYSBO57E0DYHw9Lyw1k7WIDFU4oH/GOjS19PIlA==\" target=\"_blank\" onclick=\"return goOtherCR(this,&#39;a=pwl_nop.sublink1&amp;r=3&amp;i=nad-a001-01-000000251337722&amp;d=&#39;+urlencode(&#39;http://www.auction.co.kr&#39;)+&#39;&amp;u=&#39;+urlencode(this.href));\">옥션BEST</a>\n",
            "                </li>\n",
            "              \n",
            "                <li class=\"item\">\n",
            "                  <a class=\"link\" href=\"https://adcr.naver.com/adcr?x=Vf1JmqQbl4fsR8s3S/Ae0////w==kj/+b+l3i7l+BAgEgtz7nN6M7q2Hs3PT7gW/u/nZiJobnxnLEjjl9xGlLBp1JzZ3IQ1/u5JrRHyuyfnplx1WhJsV2farvOWNaxIHBxnjmoe4xCzfL2B1ZsKCGA4ctrYPLKUJ1vDGGDk5fFDATju3/VqxtDgNz/E9dqrae6pI5aokGjahdQrohHwaX8D5ZnwUa3YSdLJaAm9f6PxRrCjSBaFFN4ljqpR9mk+rkaxZpi/s7BfoqxxLUPurCG9aBfm7ztERwYWt0tAKi1rIKMYV3+XhNHRn7Iwz8tj7KHdf9Nt1MClv8xSjwhcjDD3I+a60vgznw522MsdRmw/fApesPqgJNd7ybJXuhil4vYF/iHnpfJK3Qg70pbeWERmTQnTRJfhx4UA/jk+4fZOpzFmgY5VTGnR6j4iFapypzr0zKSjZ4JN6MSsCIUgxW8ila48CMWYrG63Elmt8IggbbTMNUxu09MQE/oQTsiiXjvmqCtGgwv+SgS0F64xrNYC17Clq92M7W4VEmDlzRezvkQ6EswOMxyccIiSrWVtd88t/54/qWwuLtVJ3zq21TAtZhHkmgh8xwsyzEoYJf46dSlasoMyTVUxv+zVRySYoCr7ZItru/VzHK3vBqCZWIqM3KxjV7c+chaSsqw+kfbUYlCsZXIYh3vyOgRljqgf4kbHtgI7m+IyclspdHiuoYlRZKQIHhvbbZcnnADIFJD9aMOzrwLuXG/EMt1f+PyTyMh2jmFJ9FL9RYDaNbGZxpFLmwfTZeoX8cT+rjU4+kncIQD2RN2FxoobKvOD2Yf/KMZhrQJS4UNr8og06M1ClMytVBNfi8kpfIXd2FS5VlQ/ArVxoeng==\" target=\"_blank\" onclick=\"return goOtherCR(this,&#39;a=pwl_nop.sublink2&amp;r=3&amp;i=nad-a001-01-000000251337722&amp;d=&#39;+urlencode(&#39;http://www.auction.co.kr&#39;)+&#39;&amp;u=&#39;+urlencode(this.href));\">올킬 특가</a>\n",
            "                </li>\n",
            "              \n",
            "                <li class=\"item\">\n",
            "                  <a class=\"link\" href=\"https://adcr.naver.com/adcr?x=VvoC8iLFTwYWJwgywrZYs////w==k17V49ogdv0ahWAk7CNJFaIhx8aRI0qwv8VrjkgWWu3AAkKMd4ouPqbgf1Lf4Vr3bWsgYV5A/d2Y5Zwl3jMLJFI2hHQMNIviB54cLf/WziAixoAQeqdZYhF8/wHPWXl0SNLLYu7ltwh0s+fxrwwCVUpyl5kgm809UuucBrBGYBO1/Oe5k/3Qj098s9tD3i0R/dXfLoi3UCjUIEd5Fy/E9fPVXj12wAZ6QYoi4SA7Eod1irsWLeFGPA/bK4PskKiIIWJbKVyi6v+8JwJwtA3Z9r604DtC+fqUugLo3KCpBxtwVRGGTCmOUVJzDWj7f8PE3uT1t52LNnyuKT4spIMYw/51xHeTl1bEkfwZkmw69lzHrfIvh0dKZxvcJ7IYY1FVwet9xN4XiKD47cR6tSYUGenZ4MBjF+xBfYEd20HTYMyX7uKyngg0k2lTTy0THij9w0LCOxaQV2vTX/susw6l58s9A5HH+NFhYA0YZEAHiB9y0YyvNa1tu9dWMw5lrQlU+Bu6/i0iOhiKxncsdH5BA3SUtjIiocfgYUVzpba0pAeI9vDsswOrXq8qn/UjJcAVbgPA23XLVx2qe8fgy2I7iZMcj7XNQ9O6HO53fj764JhmQ2PvhdHUIjxS8a2tHHNaVv/kIBCFBH71bO5+2DlLnERvVYmEyfCKO4ufNt9p6dXBMdE1rd3Vma/PdNr/a5yU0iWLf6lEcavU1aQHO1yfqInZl65yD75QcIc/oZ9QwTjfOxgd9pKLCL+SjpRa720JGlDnTungIuiJoktq7RRi8udYPLLHvC+wPVL6dkl450foco7t9dMzB/ago8JsYHEXQ4ImIICDPlt+ifi8Y1jFa7LmuJT5n6tq1laIJFxQ7i8o=\" target=\"_blank\" onclick=\"return goOtherCR(this,&#39;a=pwl_nop.sublink3&amp;r=3&amp;i=nad-a001-01-000000251337722&amp;d=&#39;+urlencode(&#39;http://www.auction.co.kr&#39;)+&#39;&amp;u=&#39;+urlencode(this.href));\">웰컴백쿠폰</a>\n",
            "                </li>\n",
            "              \n",
            "                <li class=\"item\">\n",
            "                  <a class=\"link\" href=\"https://adcr.naver.com/adcr?x=MVWLum9TL838LsZgqHqCm////w==kzU+uS3srUrWqpjBuIHRYMxP4KDF0twbRC3k1NOKffV/wxSh4Av81F/lq9KjkB+qsF5/G2rGcAbxLz4qHFNdmw9cZjPaemiH3fDL7xql3KC0ZL0rzhUtE8DrFaVPrubkVpJG7aIzdNbCaAJUbEWk0k9ClBaplMWfxQisKx5pFNY9YwndiWsqKQV3FtDHJh4tkLROpvFHHkzjDy9HLeOmQ4JcVf+wScFs0+8C2YSnXqS8DIZrauHYzdOPj/UBwitvOQoACiXcOEad/OZGEiwXyyu3dZmJfy3RE7JTm6IE2/suwEduG6LmAvXBI8Rs4C488Yv5IggsXmm0UErbo28HQ+9pmWfpF5/iybKrK6KzoKYDav/ObPVC66MSacbGB0ae6FA9bp3g5WpT8G66+t1+0k6B+c6lL0cQWhHw7fhr8XskFgcopBIbJoi0NJEpVaHINaSgh6Z1jBgXPPMI4DN5Qa6fXO2RPxHZXJnKS6fYa8Y54+D4LS5+R2gkByGHCyFZR4lIq5szrbKHP/ePugnx4UIKLz9UhkA14kt+/NH1cyKZr1ffyYIPbRCt40jCBRe5vl3OJWeJksce754G5M8jWPC/aYvW+q3jLfFFU5YCLRGugN4mo89qfpn6D3b011P1fTO4B4cJw9jtQx4OayyJlZKjFgS/ZX8mb9X3hmVvdugtApq9vpbo3yhZFXskayFaAZvQ4/S/oXmL2Kq8RWc31ceg64Tvxvc9YCGJ0xFFrwoH8l8/VLNrRtaDltYqVMGEz3nVcpfQTWr9BayEhBGLDwJ/rugoQyiddHgs1Jhhdj8vAScGHn1ot6+Rr5F/i7OwN\" target=\"_blank\" onclick=\"return goOtherCR(this,&#39;a=pwl_nop.sublink4&amp;r=3&amp;i=nad-a001-01-000000251337722&amp;d=&#39;+urlencode(&#39;http://www.auction.co.kr&#39;)+&#39;&amp;u=&#39;+urlencode(this.href));\">유니버스클럽</a>\n",
            "                </li>\n",
            "              \n",
            "            </ul>\n",
            "            \n",
            "            \n",
            "            \n",
            "            \n",
            "          </div>\n",
            "        </li>\n",
            "        <li class=\"lst type_more type_subtitle    type_img \"\n",
            "            onmouseover=\"jindo.$Element(this).addClass('ad_hover');\"\n",
            "            onmouseout=\"jindo.$Element(this).removeClass('ad_hover');\" num=\"3\">\n",
            "          <a class=\"lnk_thumb\"\n",
            "             href=\"https://adcr.naver.com/adcr?x=wlYllx/FT205o8mCRrjs0P///w==kcd9HuPJmLB6/frWraSym+jP0YFFK4P08PFgLZ8gNUzggdv8oD4lyzJiSKV+mFg9lN196Q3ZAuEODztnF0OJRDPVTTetEW16cbdZd9XWhqInXv73TTQ7sQ4GgetqsXG9C/0mcHB9f1awgn/ctK3Yv0FHod/bO+r6vhg6Q5TXoeGS8UBaYgyuuguUgVTTHe9rNn9pigXx5sTkdGPnaimiZX8rHl1YhCg5tpwjwm9///qEr4rE5Q5ROfX/gbnSDZcZW3OvVoAHi+Ej2a0YCVzoFthm4wiJMM/EdP6JcqtcjkAVqXXI3uEiyl7OgyZFHjlvKULif6Bq62+tCiiN3JCo/2fZrvDRIlcKkOVfAYRT5xzrUBApVQl5O/31W7vKm5rsj8iXgSOdn+0Ffz0l+smj6hDd9aW2+TF8KISp3g6FbU43cZJpKRRe6mdqgAcEFvGDovuSE4aqC3spJ1sKzm8fpa/aaOBSS1fEUZS4fFKmG7vZd4hOxbKYm7BLuL6WJJoV8U99A5vnD/PSWXkJn3ahxzZoJ3xGsLvV80FvryXpoI6ydMvkkemxG++lAdjBJsXlHw1CLDva3ZS53b4zTzLuiJ2s+L1OYdczEhy2M15vrRQVxY7yX+L0NddA3BaQftB/kP8c/9fzYwvTGu9Kw0ar4lvkvywPNVimUW9GbAr4KZsTbACsQjZLUgV/ZEGlm1RMKoxL/D1P1oB/bvXkAhNVmZZmskgtBsgyRymg2b6feUmspBUHvp463b0rJepOsjSrko7KlXv1e+ova/1bz7zph4r/EdTLfNVDgPmL77+ZQbCdehjg0axWMG8ptWIMYASeH\"\n",
            "             target=\"_blank\" onclick=\"return goOtherCR(this,&#39;a=pwl_nop.image&amp;r=4&amp;i=nad-a001-01-000000225189855&amp;d=&#39;+urlencode(&#39;https://www.sentbiz.com&#39;)+&#39;&amp;u=&#39;+urlencode(this.href));\">\n",
            "            <img alt=\"링크이미지\" class=\"img_thumb\" src=\"https://searchad-phinf.pstatic.net/MjAyMzAxMThfNjgg/MDAxNjc0MDI0ODM3MDM0.9IRBNZF_nH1QQlHF_9oYzVqbAAS_T666jMGoOBzAqz4g.CAIc7Q1wNzN_ZILlehCiCkFSWR3ig_fKcC2aVw_8R1Yg.JPEG/2774887-257d26b3-3d40-4dbf-91db-0b503ebcd9fa.jpg?type=f160_160\" width=\"100%\" height=\"100%\">\n",
            "          </a>\n",
            "          <div class=\"inner\">\n",
            "            <div class=\"title_url_area\">\n",
            "              <div class=\"url_area\">\n",
            "                <a href=\"https://adcr.naver.com/adcr?x=IEFOpsDQF6deHlMywZbG2f///w==kcd9HuPJmLB6/frWraSym+jP0YFFK4P08PFgLZ8gNUzggdv8oD4lyzJiSKV+mFg9l30jfdttjapLZ7lWVfIpC1Q1ggrrvrGduZ1R6Y20uBZbXv73TTQ7sQ4GgetqsXG9C/0mcHB9f1awgn/ctK3Yv0FHod/bO+r6vhg6Q5TXoeGS8UBaYgyuuguUgVTTHe9rNn9pigXx5sTkdGPnaimiZX8rHl1YhCg5tpwjwm9///qGVBR20MSnB5wJpsRHZ/Ejo3OvVoAHi+Ej2a0YCVzoFtpW9kRtkbV62Yrd/jTfgjiVXaMCb/NDgJxH1mEY3Gd7F4X+wyaScDipxZMUZA3iD/ogXNmN5Cn55UQ+3mP+GiV+l/P1Up8ADrPTArbkMUBVYtzgG4QhnpvbywQcURE700tpo41VpNojwnPxbrDMmGLxZeWNkMvipE6qjJiJQdIiu8O1n31+hd+9YxfWRLUJDMYi7/G6iFlt9inVvAB6yB3QKdYWa0YALcO3uAMLlKlR21S8WERRZRtcK0oKDbA9oRoOJT7/EQak4njNwM00v49LA5mL+jzy3XtbJCtA/IoBj22HcRWlvflNDeyBnDAThyHblv7Gm5OKbKdfer47zuDMG50/j2iT2DEr+LSLa1Pz7P8c/9fzYwvTGu9Kw0ar4lvkvywPNVimUW9GbAr4KZsTbACsQjZLUgV/ZEGlm1RMKEdeGoTKzD+ga57ucnzPaF7IHhcMWrAHmjsVLtSTUL41B7wuD1RnBofDTOlSec9R4e0yIa3iq+2uzOOtTJvE9Q53jxqFdtmBGllV2nMGTx+Y0xw/69UMuViLnLOecUi34\" class=\"favicon_wrap\" target=\"_blank\" onclick=\"return goOtherCR(this,&#39;a=pwl_nop.favicon&amp;r=4&amp;i=nad-a001-01-000000225189855&amp;d=&#39;+urlencode(&#39;https://www.sentbiz.com&#39;)+&#39;&amp;u=&#39;+urlencode(this.href));\">\n",
            "                  <img width=\"16\" height=\"16\" alt=\"favicon\" class=\"icon_favicon\" data-img-alias=\"power-link-favicon-error\"\n",
            "                       data-lazysrc=\"https://search.pstatic.net/sunny?src=https%3A%2F%2Fcdn.imweb.me%2Fthumbnail%2F20230308%2Fabe1b0602cb42.png&amp;type=f30_30_png_expire24\"\n",
            "                       src=\"https://ssl.pstatic.net/adimg3.search/imp/nx/power/pc/230719/img/icon_favicon.png\">\n",
            "                </a>\n",
            "                <span class=\"icon_nad_mark\">광고</span>\n",
            "                \n",
            "                <a href=\"https://adcr.naver.com/adcr?x=IEFOpsDQF6deHlMywZbG2f///w==kcd9HuPJmLB6/frWraSym+jP0YFFK4P08PFgLZ8gNUzggdv8oD4lyzJiSKV+mFg9l30jfdttjapLZ7lWVfIpC1Q1ggrrvrGduZ1R6Y20uBZbXv73TTQ7sQ4GgetqsXG9C/0mcHB9f1awgn/ctK3Yv0FHod/bO+r6vhg6Q5TXoeGS8UBaYgyuuguUgVTTHe9rNn9pigXx5sTkdGPnaimiZX8rHl1YhCg5tpwjwm9///qGVBR20MSnB5wJpsRHZ/Ejo3OvVoAHi+Ej2a0YCVzoFtpW9kRtkbV62Yrd/jTfgjiVXaMCb/NDgJxH1mEY3Gd7F4X+wyaScDipxZMUZA3iD/ogXNmN5Cn55UQ+3mP+GiV+l/P1Up8ADrPTArbkMUBVYtzgG4QhnpvbywQcURE700tpo41VpNojwnPxbrDMmGLxZeWNkMvipE6qjJiJQdIiu8O1n31+hd+9YxfWRLUJDMYi7/G6iFlt9inVvAB6yB3QKdYWa0YALcO3uAMLlKlR21S8WERRZRtcK0oKDbA9oRoOJT7/EQak4njNwM00v49LA5mL+jzy3XtbJCtA/IoBj22HcRWlvflNDeyBnDAThyHblv7Gm5OKbKdfer47zuDMG50/j2iT2DEr+LSLa1Pz7P8c/9fzYwvTGu9Kw0ar4lvkvywPNVimUW9GbAr4KZsTbACsQjZLUgV/ZEGlm1RMKEdeGoTKzD+ga57ucnzPaF7IHhcMWrAHmjsVLtSTUL41B7wuD1RnBofDTOlSec9R4e0yIa3iq+2uzOOtTJvE9Q53jxqFdtmBGllV2nMGTx+Y0xw/69UMuViLnLOecUi34&amp;p=1\"\n",
            "                   class=\"lnk_url\" target=\"_blank\"\n",
            "                   onclick=\"return goOtherCR(this, &#39;a=pwl_nop.url&amp;r=4&amp;i=nad-a001-01-000000225189855&amp;d=&#39;+urlencode(&#39;https://www.sentbiz.com&#39;)+&#39;&amp;u=&#39;+urlencode(this.href));\">www.sentbiz.com</a>\n",
            "              </div>\n",
            "              <a href=\"https://adcr.naver.com/adcr?x=IEFOpsDQF6deHlMywZbG2f///w==kcd9HuPJmLB6/frWraSym+jP0YFFK4P08PFgLZ8gNUzggdv8oD4lyzJiSKV+mFg9l30jfdttjapLZ7lWVfIpC1Q1ggrrvrGduZ1R6Y20uBZbXv73TTQ7sQ4GgetqsXG9C/0mcHB9f1awgn/ctK3Yv0FHod/bO+r6vhg6Q5TXoeGS8UBaYgyuuguUgVTTHe9rNn9pigXx5sTkdGPnaimiZX8rHl1YhCg5tpwjwm9///qGVBR20MSnB5wJpsRHZ/Ejo3OvVoAHi+Ej2a0YCVzoFtpW9kRtkbV62Yrd/jTfgjiVXaMCb/NDgJxH1mEY3Gd7F4X+wyaScDipxZMUZA3iD/ogXNmN5Cn55UQ+3mP+GiV+l/P1Up8ADrPTArbkMUBVYtzgG4QhnpvbywQcURE700tpo41VpNojwnPxbrDMmGLxZeWNkMvipE6qjJiJQdIiu8O1n31+hd+9YxfWRLUJDMYi7/G6iFlt9inVvAB6yB3QKdYWa0YALcO3uAMLlKlR21S8WERRZRtcK0oKDbA9oRoOJT7/EQak4njNwM00v49LA5mL+jzy3XtbJCtA/IoBj22HcRWlvflNDeyBnDAThyHblv7Gm5OKbKdfer47zuDMG50/j2iT2DEr+LSLa1Pz7P8c/9fzYwvTGu9Kw0ar4lvkvywPNVimUW9GbAr4KZsTbACsQjZLUgV/ZEGlm1RMKEdeGoTKzD+ga57ucnzPaF7IHhcMWrAHmjsVLtSTUL41B7wuD1RnBofDTOlSec9R4e0yIa3iq+2uzOOtTJvE9Q53jxqFdtmBGllV2nMGTx+Y0xw/69UMuViLnLOecUi34&amp;p=0\" class=\"lnk_head\" target=\"_blank\" onclick=\"return goOtherCR(this, &#39;a=pwl_nop.tit&amp;r=4&amp;i=nad-a001-01-000000225189855&amp;d=&#39; + urlencode(&#39;https://www.sentbiz.com&#39;) + &#39;&amp;u=&#39;+ urlencode(this.href));\">\n",
            "                \n",
            "                  <span class=\"lnk_tit\">사업자전문 해외송금 센트비즈</span><span class=\"lnk_tit\">빠르고쉽게 저렴하고 안전하게</span>\n",
            "                \n",
            "                \n",
            "              </a>\n",
            "            </div>\n",
            "            <div class=\"desc_area\">\n",
            "              \n",
            "              <a href=\"https://adcr.naver.com/adcr?x=IEFOpsDQF6deHlMywZbG2f///w==kcd9HuPJmLB6/frWraSym+jP0YFFK4P08PFgLZ8gNUzggdv8oD4lyzJiSKV+mFg9l30jfdttjapLZ7lWVfIpC1Q1ggrrvrGduZ1R6Y20uBZbXv73TTQ7sQ4GgetqsXG9C/0mcHB9f1awgn/ctK3Yv0FHod/bO+r6vhg6Q5TXoeGS8UBaYgyuuguUgVTTHe9rNn9pigXx5sTkdGPnaimiZX8rHl1YhCg5tpwjwm9///qGVBR20MSnB5wJpsRHZ/Ejo3OvVoAHi+Ej2a0YCVzoFtpW9kRtkbV62Yrd/jTfgjiVXaMCb/NDgJxH1mEY3Gd7F4X+wyaScDipxZMUZA3iD/ogXNmN5Cn55UQ+3mP+GiV+l/P1Up8ADrPTArbkMUBVYtzgG4QhnpvbywQcURE700tpo41VpNojwnPxbrDMmGLxZeWNkMvipE6qjJiJQdIiu8O1n31+hd+9YxfWRLUJDMYi7/G6iFlt9inVvAB6yB3QKdYWa0YALcO3uAMLlKlR21S8WERRZRtcK0oKDbA9oRoOJT7/EQak4njNwM00v49LA5mL+jzy3XtbJCtA/IoBj22HcRWlvflNDeyBnDAThyHblv7Gm5OKbKdfer47zuDMG50/j2iT2DEr+LSLa1Pz7P8c/9fzYwvTGu9Kw0ar4lvkvywPNVimUW9GbAr4KZsTbACsQjZLUgV/ZEGlm1RMKEdeGoTKzD+ga57ucnzPaF7IHhcMWrAHmjsVLtSTUL41B7wuD1RnBofDTOlSec9R4e0yIa3iq+2uzOOtTJvE9Q53jxqFdtmBGllV2nMGTx+Y0xw/69UMuViLnLOecUi34\" class=\"link_desc\" target=\"_blank\"\n",
            "                 onclick=\"return goOtherCR(this, &#39;a=pwl_nop.desc&amp;r=4&amp;i=nad-a001-01-000000225189855&amp;d=&#39; + urlencode(&#39;https://www.sentbiz.com&#39;) + &#39;&amp;u=&#39;+ urlencode(this.href));\">기업전용 CS센터보유, 무제한 한도, 합리적인 수수료, 전세계 24시간 송금가능</a>\n",
            "              \n",
            "            </div>\n",
            "            \n",
            "            \n",
            "            \n",
            "            \n",
            "            \n",
            "            \n",
            "          </div>\n",
            "        </li>\n",
            "        <li class=\"lst type_more type_subtitle ext_link    \"\n",
            "            onmouseover=\"jindo.$Element(this).addClass('ad_hover');\"\n",
            "            onmouseout=\"jindo.$Element(this).removeClass('ad_hover');\" num=\"4\">\n",
            "          \n",
            "          <div class=\"inner\">\n",
            "            <div class=\"title_url_area\">\n",
            "              <div class=\"url_area\">\n",
            "                <a href=\"https://adcr.naver.com/adcr?x=Qmh4qqmiUkMp45GUWc/0Gv///w==kIPCRuCab5vimWnQ3eblK49d8xeTjlN36XkvmbK9Cn5z9Za3YPsV5ebFuHO8STgHxiPX3HCuBW1CqC+KtaGZr9xHHFZ1kkb6palD7X/UbjYwomDVn2m8uX97wEDA4WOpOgK6mM+37XCYd9RPvX1qKPJZhfetD2urKM0UdwtdvUlKA7OEffEBzYwxTshCWmPORzLqZ0dInfdo73+ynWvrEYAxiQyxyNja/gr2Sv26R5+HL9/64pdlE2Pb/xX9biPPHKPXBYaU/j9aWYLKpG+ZUVsPG2pZTvHjRXCNzztYPCFFx57y1NASy/7zFIGZ4jjUB2jX1WQdx+EqVx9/VhSQ40iGHVHvfVJGMXgcpv8XDyLhyW1aotnkWqzAeXK8l4qJT0av77T4PJ9I9BbcneoyrBO5S9ItjkxbSdPu3jxsfT/kpgsxsADw7jJLTHaSFGTVHLNmpb2NuKFiNHx8v/fHuabIbcSexWHbmsVQqY9Anlr/H7016tN347cXpGXwB0j5kHqyHNXnUrPYnz25Sfkpx1dhJpBoihiPak45DC5m8bZOcRDCXznGxEntq2/ap2N9Tr1HdaEFCR1aI+A+jsMzxBv+P+30yIpQn76xTK69awpjZKN0c9s4UHyFeIdmvufnOj/cpVT25DuxAoD9Pjr2t5q6gaQJHdLWmtrJTu6IehZKHVioMPqf4G4fdxG3Bg9At4LLjRxwYW3vTDedfRmq8qYTRJyHpUHkAR6JO/C73aQE54D1DRaKC1A1Wo4IbnAGh3TF5Fj4Ju9Op6GTVN0bB6DSgLJ6+o42ZGJ9Z7oCrMCkKIWbcSJop4V4H961DRh5uQV8lIMSDTgAp283G6CCNDQ==\" class=\"favicon_wrap\" target=\"_blank\" onclick=\"return goOtherCR(this,&#39;a=pwl_nop.favicon&amp;r=5&amp;i=nad-a001-01-000000251532788&amp;d=&#39;+urlencode(&#39;http://www.gmarket.co.kr&#39;)+&#39;&amp;u=&#39;+urlencode(this.href));\">\n",
            "                  <img width=\"16\" height=\"16\" alt=\"favicon\" class=\"icon_favicon\" data-img-alias=\"power-link-favicon-error\"\n",
            "                       data-lazysrc=\"https://search.pstatic.net/sunny?src=http%3A%2F%2Fimage.gmarket.co.kr%2Ffavicon%2Fgmarket.ico&amp;type=f30_30_png_expire24\"\n",
            "                       src=\"https://ssl.pstatic.net/adimg3.search/imp/nx/power/pc/230719/img/icon_favicon.png\">\n",
            "                </a>\n",
            "                <span class=\"icon_nad_mark\">광고</span>\n",
            "                \n",
            "                <a href=\"https://adcr.naver.com/adcr?x=Qmh4qqmiUkMp45GUWc/0Gv///w==kIPCRuCab5vimWnQ3eblK49d8xeTjlN36XkvmbK9Cn5z9Za3YPsV5ebFuHO8STgHxiPX3HCuBW1CqC+KtaGZr9xHHFZ1kkb6palD7X/UbjYwomDVn2m8uX97wEDA4WOpOgK6mM+37XCYd9RPvX1qKPJZhfetD2urKM0UdwtdvUlKA7OEffEBzYwxTshCWmPORzLqZ0dInfdo73+ynWvrEYAxiQyxyNja/gr2Sv26R5+HL9/64pdlE2Pb/xX9biPPHKPXBYaU/j9aWYLKpG+ZUVsPG2pZTvHjRXCNzztYPCFFx57y1NASy/7zFIGZ4jjUB2jX1WQdx+EqVx9/VhSQ40iGHVHvfVJGMXgcpv8XDyLhyW1aotnkWqzAeXK8l4qJT0av77T4PJ9I9BbcneoyrBO5S9ItjkxbSdPu3jxsfT/kpgsxsADw7jJLTHaSFGTVHLNmpb2NuKFiNHx8v/fHuabIbcSexWHbmsVQqY9Anlr/H7016tN347cXpGXwB0j5kHqyHNXnUrPYnz25Sfkpx1dhJpBoihiPak45DC5m8bZOcRDCXznGxEntq2/ap2N9Tr1HdaEFCR1aI+A+jsMzxBv+P+30yIpQn76xTK69awpjZKN0c9s4UHyFeIdmvufnOj/cpVT25DuxAoD9Pjr2t5q6gaQJHdLWmtrJTu6IehZKHVioMPqf4G4fdxG3Bg9At4LLjRxwYW3vTDedfRmq8qYTRJyHpUHkAR6JO/C73aQE54D1DRaKC1A1Wo4IbnAGh3TF5Fj4Ju9Op6GTVN0bB6DSgLJ6+o42ZGJ9Z7oCrMCkKIWbcSJop4V4H961DRh5uQV8lIMSDTgAp283G6CCNDQ==&amp;p=1\"\n",
            "                   class=\"lnk_url\" target=\"_blank\"\n",
            "                   onclick=\"return goOtherCR(this, &#39;a=pwl_nop.url&amp;r=5&amp;i=nad-a001-01-000000251532788&amp;d=&#39;+urlencode(&#39;http://www.gmarket.co.kr&#39;)+&#39;&amp;u=&#39;+urlencode(this.href));\">www.gmarket.co.kr</a>\n",
            "              </div>\n",
            "              <a href=\"https://adcr.naver.com/adcr?x=Qmh4qqmiUkMp45GUWc/0Gv///w==kIPCRuCab5vimWnQ3eblK49d8xeTjlN36XkvmbK9Cn5z9Za3YPsV5ebFuHO8STgHxiPX3HCuBW1CqC+KtaGZr9xHHFZ1kkb6palD7X/UbjYwomDVn2m8uX97wEDA4WOpOgK6mM+37XCYd9RPvX1qKPJZhfetD2urKM0UdwtdvUlKA7OEffEBzYwxTshCWmPORzLqZ0dInfdo73+ynWvrEYAxiQyxyNja/gr2Sv26R5+HL9/64pdlE2Pb/xX9biPPHKPXBYaU/j9aWYLKpG+ZUVsPG2pZTvHjRXCNzztYPCFFx57y1NASy/7zFIGZ4jjUB2jX1WQdx+EqVx9/VhSQ40iGHVHvfVJGMXgcpv8XDyLhyW1aotnkWqzAeXK8l4qJT0av77T4PJ9I9BbcneoyrBO5S9ItjkxbSdPu3jxsfT/kpgsxsADw7jJLTHaSFGTVHLNmpb2NuKFiNHx8v/fHuabIbcSexWHbmsVQqY9Anlr/H7016tN347cXpGXwB0j5kHqyHNXnUrPYnz25Sfkpx1dhJpBoihiPak45DC5m8bZOcRDCXznGxEntq2/ap2N9Tr1HdaEFCR1aI+A+jsMzxBv+P+30yIpQn76xTK69awpjZKN0c9s4UHyFeIdmvufnOj/cpVT25DuxAoD9Pjr2t5q6gaQJHdLWmtrJTu6IehZKHVioMPqf4G4fdxG3Bg9At4LLjRxwYW3vTDedfRmq8qYTRJyHpUHkAR6JO/C73aQE54D1DRaKC1A1Wo4IbnAGh3TF5Fj4Ju9Op6GTVN0bB6DSgLJ6+o42ZGJ9Z7oCrMCkKIWbcSJop4V4H961DRh5uQV8lIMSDTgAp283G6CCNDQ==&amp;p=0\" class=\"lnk_head\" target=\"_blank\" onclick=\"return goOtherCR(this, &#39;a=pwl_nop.tit&amp;r=5&amp;i=nad-a001-01-000000251532788&amp;d=&#39; + urlencode(&#39;http://www.gmarket.co.kr&#39;) + &#39;&amp;u=&#39;+ urlencode(this.href));\">\n",
            "                \n",
            "                  <span class=\"lnk_tit\">환율 G마켓</span><span class=\"lnk_tit\">신세계적 혜택을 한번에!</span>\n",
            "                \n",
            "                \n",
            "              </a>\n",
            "            </div>\n",
            "            <div class=\"desc_area\">\n",
            "              \n",
            "              <a href=\"https://adcr.naver.com/adcr?x=Qmh4qqmiUkMp45GUWc/0Gv///w==kIPCRuCab5vimWnQ3eblK49d8xeTjlN36XkvmbK9Cn5z9Za3YPsV5ebFuHO8STgHxiPX3HCuBW1CqC+KtaGZr9xHHFZ1kkb6palD7X/UbjYwomDVn2m8uX97wEDA4WOpOgK6mM+37XCYd9RPvX1qKPJZhfetD2urKM0UdwtdvUlKA7OEffEBzYwxTshCWmPORzLqZ0dInfdo73+ynWvrEYAxiQyxyNja/gr2Sv26R5+HL9/64pdlE2Pb/xX9biPPHKPXBYaU/j9aWYLKpG+ZUVsPG2pZTvHjRXCNzztYPCFFx57y1NASy/7zFIGZ4jjUB2jX1WQdx+EqVx9/VhSQ40iGHVHvfVJGMXgcpv8XDyLhyW1aotnkWqzAeXK8l4qJT0av77T4PJ9I9BbcneoyrBO5S9ItjkxbSdPu3jxsfT/kpgsxsADw7jJLTHaSFGTVHLNmpb2NuKFiNHx8v/fHuabIbcSexWHbmsVQqY9Anlr/H7016tN347cXpGXwB0j5kHqyHNXnUrPYnz25Sfkpx1dhJpBoihiPak45DC5m8bZOcRDCXznGxEntq2/ap2N9Tr1HdaEFCR1aI+A+jsMzxBv+P+30yIpQn76xTK69awpjZKN0c9s4UHyFeIdmvufnOj/cpVT25DuxAoD9Pjr2t5q6gaQJHdLWmtrJTu6IehZKHVioMPqf4G4fdxG3Bg9At4LLjRxwYW3vTDedfRmq8qYTRJyHpUHkAR6JO/C73aQE54D1DRaKC1A1Wo4IbnAGh3TF5Fj4Ju9Op6GTVN0bB6DSgLJ6+o42ZGJ9Z7oCrMCkKIWbcSJop4V4H961DRh5uQV8lIMSDTgAp283G6CCNDQ==\" class=\"link_desc\" target=\"_blank\"\n",
            "                 onclick=\"return goOtherCR(this, &#39;a=pwl_nop.desc&amp;r=5&amp;i=nad-a001-01-000000251532788&amp;d=&#39; + urlencode(&#39;http://www.gmarket.co.kr&#39;) + &#39;&amp;u=&#39;+ urlencode(this.href));\"><strong class='hl'>환율</strong> 유니버스 클럽 회원은 최대 12% 쿠폰 4장, 5% 쿠폰 무제한</a>\n",
            "              \n",
            "            </div>\n",
            "            \n",
            "            <ul class=\"lst_link\">\n",
            "              \n",
            "                <li class=\"item\">\n",
            "                  <a class=\"link\" href=\"https://adcr.naver.com/adcr?x=V/5yES+JLQhRL6KiPVFF9f///w==kwCpdfVhf7KKSSDZB6R1ARv3J9rdT4Ffu7Di3lwk7r7YkzuWXkS/dnS5pHojEbhOT9BoeOSKX6DsI/CuA5dJHi+1zcOp77wVNI3xbZF2tTstpq/a5gPckeTwKSiotJWuekvXobp5dHuWfPkVHvoe/+W1kRWP1NhI5T58Lo1fJPEabgUYM1UiFUDraxfsMjDHlgwDCjtjd6vTApQ12LzVkI6bCfobqRb4SABAabgWZXPVjCmrrsI8IYm+Zu0JaUdQLIg0x1P4I67mqN5Q/HK8Ye+q8earz2D8DftrcQHqEhVllRiLaUIHPrfN5FNS7XIHJmriy9Qcxx47lzNy8A1JYhMPDLaLFXFSJq1mhSKvNu75jVITgp2GzWNe3t19Wx9yQWJwjm9pheyJCYUA7iBps34nDz6kHVUevfBLiE7BxuK9Eb5RYXFyg59NVCxGPqXTRB7xLL1EBlmADQkK5ndlsFoHVHny59ej3yAkmLLJzm2qt6hzDwJpBvOZ7iQc09YVxATDGgxgoYbFxQNyLMF1j3fGaDXJPc/o7bL8BjFJ3XT5/YD/Lq0yKipmc/jhy97KdGCLtfDUO9hcgIx6iTKSnKKl78DO6flFWHhvfIvfteMuxry/a0SkKOaFekI5mNIxxVRN34FUxMZ3uiYe/PkUdZa6EoHqqM+eBMcNgEDf9DFiKMO1LpUViT//nZGymutbs92MthW3q9CyBzkJiO8TVm6/+PO8FBt7bLqyKv1DBHV/CHqo3eq5o3PXyXQJkNieTYhfJJU2nzuOfxhlR9LSGdKMQ6cpSy6qNDE4ICHYFz4E=\" target=\"_blank\" onclick=\"return goOtherCR(this,&#39;a=pwl_nop.sublink1&amp;r=5&amp;i=nad-a001-01-000000251532788&amp;d=&#39;+urlencode(&#39;http://www.gmarket.co.kr&#39;)+&#39;&amp;u=&#39;+urlencode(this.href));\">G마켓베스트</a>\n",
            "                </li>\n",
            "              \n",
            "                <li class=\"item\">\n",
            "                  <a class=\"link\" href=\"https://adcr.naver.com/adcr?x=l5mEKsugacHkJ6Ol9P1CV////w==k1LvAJPMc/Z5iAGtbuCDohbqqweR7vjAjeCs/qOcowhA+0reUG82bx/rLl2L8eS57mbF/g8Utb2nGFU3QtDGS0grsvdzLi0ziv1grnL8ghLAAE9b2Wwc28tybCqPKL1rRXr4c15USRp+/WEMfOphsFlhdPeA37MLG2qroFcefdrvi+YQTn12Di5RwDSrWh6uiRV/UwTa0sPFXD6WYK2KD+SuSpWAkOlzJF3XzuLlXnq7gkg5WOxpwyPTKPhAJkOm4ZbpZ3b74CdUE/8U9SciHha0vdObOHHfJaeAiPSOMH8650hHKQRLUtRAdK2lbuE42CPHN4K3U5nV3+EawAEXe2okJiSm3fsJP2wbvMGL5776xICsXfuYruVuNLX+vMmjAwrqCt03yaOh8c4xWGjXogqjZQ4W3AFKX6kOxsCZ1lEygoC9fHUF5F5XsHYfPlTkHh28BTASsojghT+8jGmnw8ItLjRvoFgcokidjSEzTzSo4I0MSOrKIULhBzSdRvcmbDYRN+VC+p5VIKxVFttSSYYI6BaM7Vf1uwRhX6Oy67VQAR2J1YvQnheXFMRYB6+u+HjWyGAbK0brcwnsPPPE8tKLctMXrFrZZqoXsCQS1OGJsPORjmDLayrIdODucYbdwfMo84v14Y4zUM1dRXxXtbHon+lYfEGoB98R/kf7bJddZNCDXYLe7KYntgfDOIwW74PlgGQZ9L+DOKgUUxjYzWNa1bcAF8h6aMeGl2NWUXTaFaCHTYbH+aYgtEbm4txXc7HC8vIEeDuqBYfwW4iE8n7MAsCPykHMgKX647oPhmxQ=\" target=\"_blank\" onclick=\"return goOtherCR(this,&#39;a=pwl_nop.sublink2&amp;r=5&amp;i=nad-a001-01-000000251532788&amp;d=&#39;+urlencode(&#39;http://www.gmarket.co.kr&#39;)+&#39;&amp;u=&#39;+urlencode(this.href));\">슈퍼딜특가</a>\n",
            "                </li>\n",
            "              \n",
            "                <li class=\"item\">\n",
            "                  <a class=\"link\" href=\"https://adcr.naver.com/adcr?x=2GZv4944h4AxtLNxX4RIEv///w==kBaO5aaSphxmLH+A1lt/Q2AkehhqRCLr2GwEmzLaWieMxQnN/zkRSsJp8cfsBlarcIx+9RvEPAos0vk6PpzAJlftnJxHzGocpEDoUvR21ez8YF9PWQMgKhCIhqqeX8kJPThLoyBgSfY8TtSwHb67wJ/Uxj69/c6UhQH9qTiRqJl+o2GLe9DG2M1CW8c3KLs/kqvhcFgJOpI7leEYImc69MegCpq9uepooBol7jSKN/NWCpbRqqXBCLrrURtpKMV2ypNwK6+lOggmw1bbPbzgBnUVP9Au2bDMeKOE/AW2GO0ruS7aHwiHsmUsGXTfYabRRqxKkXXHOQILnBBzVuvwdRWWIrGuwMANbe/v3BlndUswtDMc1vxi4WfoPSmlu5raftUnGFjbUJ2UD8hT0hUU+lvWEQ7hASeOfH82UELpfvfSFI+fxg8/NeldCjCwth4UY3lwA+V6Yjq1ncrMzaqRKAlms/P9uR7ZY8irDLYabcRmtneqhRcsaehkyeV6CpRvYEvZpRQ9eimYel8HMwOrnIigwYoh9kqAnoL321PCTiScyHljJWakGrYZr9Ae51PzPF5ztuZ2LOrEIbMRT0mAd/qtFW/gYhoT0F4dAzRdtivp4q0YB5RY906AkXrExqVJI5XSHoGscCjOoL/HoSrEodwI50IaI1Dp3VbeHa3lmPKy712aFrYNMj3LhLu7DH6Lz9agcVV+K0AK8bFYI5B7SSTtYMNno5kptPOl2uysCwxLVV3cTdqB09lFF/FBm69ZQ/Mg7JNPKeaiyrcaVicuzFORjSSTTrefxlX6vTuB/CGRUkO3xjmVrRa+77TOlIc1s\" target=\"_blank\" onclick=\"return goOtherCR(this,&#39;a=pwl_nop.sublink3&amp;r=5&amp;i=nad-a001-01-000000251532788&amp;d=&#39;+urlencode(&#39;http://www.gmarket.co.kr&#39;)+&#39;&amp;u=&#39;+urlencode(this.href));\">웰컴백쿠폰</a>\n",
            "                </li>\n",
            "              \n",
            "                <li class=\"item\">\n",
            "                  <a class=\"link\" href=\"https://adcr.naver.com/adcr?x=XN8vJsz04b29mNYVE3wl+P///w==kDJzBYFR2HhgLX6Sgmbfyx/NSzMmI3FreYCgfgtws8x6SrQaaoaobCL8JnqslhgckbYJUS7p/x5Mbqmf2+wlN1f/k63ISVBF3iFpSGNlIKq8H4vTX+E9VPzmsvc+TrS0EBTyV6/A6KhTYrsdhUhL1NKPycsyMcJmTeg/pjLV4MKMLHQ7avCkKnMuDXR/bO640pwTaCZZcjD0B0ZO5dn/27Ovxt3/uhusCByp+u9XwjR1r50m2z4nugp47KUJ+xM/buJ97p2uxYzL3ud+XwzrGi8uxcORv6Xn5y/0FIBsmvkzP9hbdWw+DCo/4tRC3l6LF3/6BiQ4LfgitIdq1d7h93FhhCCBV+IYotpjFw7sf/PsWQftjoz59TIQtBjtHEZ1M5IRq9Y3PZuPm9Nb8tiaiDkvToHhveiMqsGDVMMGEy9m7AYAzypFfl+wa6lYZXm3M9siX5MT+/jrk9O864DD/VBvSHwRVczYndfy0J+d5ArrU9hn5I0ExJi4p8M8HM+ChbuzMZgPNjWU0Tu6j/D94sLniNjbY9bQDODOskAjYzkq8Tq4/b9fIK2Flz6n89lc3akIsOLqZbF02Gn+BxC7I7ti2uo0zeUA1SHbk6opvDXsJo1M7hkAAnlL+X0SCgNHc2YJZJJK1QZy496h6l34Rm9jDcpWcvi3OPkU3tX1mW5bZTU9MKd/gtFKgpJSg8NnAi8EV+E/KROFpQri2JiBkbIQi8PsGqhUPXFkkPGRO6aKBdAF+w75susCOUoyzFIPPUKYPJn8Wu8JmKyYLn+dQXm0eOuVL5uWd13g8PSCYci8=\" target=\"_blank\" onclick=\"return goOtherCR(this,&#39;a=pwl_nop.sublink4&amp;r=5&amp;i=nad-a001-01-000000251532788&amp;d=&#39;+urlencode(&#39;http://www.gmarket.co.kr&#39;)+&#39;&amp;u=&#39;+urlencode(this.href));\">유니버스클럽</a>\n",
            "                </li>\n",
            "              \n",
            "            </ul>\n",
            "            \n",
            "            \n",
            "            \n",
            "            \n",
            "          </div>\n",
            "        </li>\n",
            "        <li class=\"lst type_more      \"\n",
            "            onmouseover=\"jindo.$Element(this).addClass('ad_hover');\"\n",
            "            onmouseout=\"jindo.$Element(this).removeClass('ad_hover');\" num=\"5\">\n",
            "          \n",
            "          <div class=\"inner\">\n",
            "            <div class=\"title_url_area\">\n",
            "              <div class=\"url_area\">\n",
            "                <a href=\"https://adcr.naver.com/adcr?x=h3kUSt2YWUIUIFDe1W3fk////w==kzanyTykYK6CGl77tqV+kA3EVQ3qHMR0RFFlzoe2QCzOEa9MV+kEq9TH4A1wsacXWrOziJUHd1/c24+sElULKX2lkxVenExFxCsTCS8JYpWZLo55TIjMvRo0nydf92QRp5g0dvmxlCOQFDvD23ISlMfDWrzwZR+ezfP1iOA7gCSI9eKt2dpG+uZOvqIKJ4SKyDdOXQLnVBvkqDJc9KYHHxnAEwP2pZGchkpjfLXCBXFYtNBS71e7p6kiAefL2Il6nxft6X+Y5h9gXWrepZoFYCEeWSH0Y04rDzncYWuq1xwvy4FCVaPCINvwd6XuT1oF4Z+5F2sFTji6khKE2J4R3QHmpT1PL/E+CkRMUU/JXMa6IfA3MW9J2F6EeKVeCuZTxYvkXWCL44d76lIWpEJaSVuH5506pqIqrkodyOfJOo9hS2Ixzk2EqT/VxQ0M07L/d3ddey1qIWdOvxOcg9PgUnJ1iuL8Q3Tlx3UR6zEv3sHjhrQndYg3bRNlPa4mIV49UQToH2BR3HdfDBUiDNeOl2tn+xQfMwYhkoFNJJYuTKtY0tF04mNx/J15UqDURtYhgxk4/MBS3dNvN3K90G356hslkXeDSB5v2yRVZ1stgMQYyYlP9sB864MPtEg9OmLytwp6qIU3e4jvasEkpHZyxH+2TxoL4cWGWWuDa8rkCjms=\" class=\"favicon_wrap\" target=\"_blank\" onclick=\"return goOtherCR(this,&#39;a=pwl_nop.favicon&amp;r=6&amp;i=nad-a001-01-000000255718385&amp;d=&#39;+urlencode(&#39;http://www.switchwon.com&#39;)+&#39;&amp;u=&#39;+urlencode(this.href));\">\n",
            "                  <img width=\"16\" height=\"16\" alt=\"favicon\" class=\"icon_favicon\" data-img-alias=\"power-link-favicon-error\"\n",
            "                       data-lazysrc=\"https://search.pstatic.net/sunny?src=http%3A%2F%2Fwww.switchwon.com%2Fimages%2Ffavicon.png&amp;type=f30_30_png_expire24\"\n",
            "                       src=\"https://ssl.pstatic.net/adimg3.search/imp/nx/power/pc/230719/img/icon_favicon.png\">\n",
            "                </a>\n",
            "                <span class=\"icon_nad_mark\">광고</span>\n",
            "                \n",
            "                <a href=\"https://adcr.naver.com/adcr?x=h3kUSt2YWUIUIFDe1W3fk////w==kzanyTykYK6CGl77tqV+kA3EVQ3qHMR0RFFlzoe2QCzOEa9MV+kEq9TH4A1wsacXWrOziJUHd1/c24+sElULKX2lkxVenExFxCsTCS8JYpWZLo55TIjMvRo0nydf92QRp5g0dvmxlCOQFDvD23ISlMfDWrzwZR+ezfP1iOA7gCSI9eKt2dpG+uZOvqIKJ4SKyDdOXQLnVBvkqDJc9KYHHxnAEwP2pZGchkpjfLXCBXFYtNBS71e7p6kiAefL2Il6nxft6X+Y5h9gXWrepZoFYCEeWSH0Y04rDzncYWuq1xwvy4FCVaPCINvwd6XuT1oF4Z+5F2sFTji6khKE2J4R3QHmpT1PL/E+CkRMUU/JXMa6IfA3MW9J2F6EeKVeCuZTxYvkXWCL44d76lIWpEJaSVuH5506pqIqrkodyOfJOo9hS2Ixzk2EqT/VxQ0M07L/d3ddey1qIWdOvxOcg9PgUnJ1iuL8Q3Tlx3UR6zEv3sHjhrQndYg3bRNlPa4mIV49UQToH2BR3HdfDBUiDNeOl2tn+xQfMwYhkoFNJJYuTKtY0tF04mNx/J15UqDURtYhgxk4/MBS3dNvN3K90G356hslkXeDSB5v2yRVZ1stgMQYyYlP9sB864MPtEg9OmLytwp6qIU3e4jvasEkpHZyxH+2TxoL4cWGWWuDa8rkCjms=&amp;p=1\"\n",
            "                   class=\"lnk_url\" target=\"_blank\"\n",
            "                   onclick=\"return goOtherCR(this, &#39;a=pwl_nop.url&amp;r=6&amp;i=nad-a001-01-000000255718385&amp;d=&#39;+urlencode(&#39;http://www.switchwon.com&#39;)+&#39;&amp;u=&#39;+urlencode(this.href));\">www.switchwon.com</a>\n",
            "              </div>\n",
            "              <a href=\"https://adcr.naver.com/adcr?x=h3kUSt2YWUIUIFDe1W3fk////w==kzanyTykYK6CGl77tqV+kA3EVQ3qHMR0RFFlzoe2QCzOEa9MV+kEq9TH4A1wsacXWrOziJUHd1/c24+sElULKX2lkxVenExFxCsTCS8JYpWZLo55TIjMvRo0nydf92QRp5g0dvmxlCOQFDvD23ISlMfDWrzwZR+ezfP1iOA7gCSI9eKt2dpG+uZOvqIKJ4SKyDdOXQLnVBvkqDJc9KYHHxnAEwP2pZGchkpjfLXCBXFYtNBS71e7p6kiAefL2Il6nxft6X+Y5h9gXWrepZoFYCEeWSH0Y04rDzncYWuq1xwvy4FCVaPCINvwd6XuT1oF4Z+5F2sFTji6khKE2J4R3QHmpT1PL/E+CkRMUU/JXMa6IfA3MW9J2F6EeKVeCuZTxYvkXWCL44d76lIWpEJaSVuH5506pqIqrkodyOfJOo9hS2Ixzk2EqT/VxQ0M07L/d3ddey1qIWdOvxOcg9PgUnJ1iuL8Q3Tlx3UR6zEv3sHjhrQndYg3bRNlPa4mIV49UQToH2BR3HdfDBUiDNeOl2tn+xQfMwYhkoFNJJYuTKtY0tF04mNx/J15UqDURtYhgxk4/MBS3dNvN3K90G356hslkXeDSB5v2yRVZ1stgMQYyYlP9sB864MPtEg9OmLytwp6qIU3e4jvasEkpHZyxH+2TxoL4cWGWWuDa8rkCjms=&amp;p=0\" class=\"lnk_head\" target=\"_blank\" onclick=\"return goOtherCR(this, &#39;a=pwl_nop.tit&amp;r=6&amp;i=nad-a001-01-000000255718385&amp;d=&#39; + urlencode(&#39;http://www.switchwon.com&#39;) + &#39;&amp;u=&#39;+ urlencode(this.href));\">\n",
            "                \n",
            "                \n",
            "                  <span class=\"lnk_tit\">엔화투자 환전이벤트 스위치원</span>\n",
            "                \n",
            "              </a>\n",
            "            </div>\n",
            "            <div class=\"desc_area\">\n",
            "              \n",
            "              <a href=\"https://adcr.naver.com/adcr?x=h3kUSt2YWUIUIFDe1W3fk////w==kzanyTykYK6CGl77tqV+kA3EVQ3qHMR0RFFlzoe2QCzOEa9MV+kEq9TH4A1wsacXWrOziJUHd1/c24+sElULKX2lkxVenExFxCsTCS8JYpWZLo55TIjMvRo0nydf92QRp5g0dvmxlCOQFDvD23ISlMfDWrzwZR+ezfP1iOA7gCSI9eKt2dpG+uZOvqIKJ4SKyDdOXQLnVBvkqDJc9KYHHxnAEwP2pZGchkpjfLXCBXFYtNBS71e7p6kiAefL2Il6nxft6X+Y5h9gXWrepZoFYCEeWSH0Y04rDzncYWuq1xwvy4FCVaPCINvwd6XuT1oF4Z+5F2sFTji6khKE2J4R3QHmpT1PL/E+CkRMUU/JXMa6IfA3MW9J2F6EeKVeCuZTxYvkXWCL44d76lIWpEJaSVuH5506pqIqrkodyOfJOo9hS2Ixzk2EqT/VxQ0M07L/d3ddey1qIWdOvxOcg9PgUnJ1iuL8Q3Tlx3UR6zEv3sHjhrQndYg3bRNlPa4mIV49UQToH2BR3HdfDBUiDNeOl2tn+xQfMwYhkoFNJJYuTKtY0tF04mNx/J15UqDURtYhgxk4/MBS3dNvN3K90G356hslkXeDSB5v2yRVZ1stgMQYyYlP9sB864MPtEg9OmLytwp6qIU3e4jvasEkpHZyxH+2TxoL4cWGWWuDa8rkCjms=\" class=\"link_desc\" target=\"_blank\"\n",
            "                 onclick=\"return goOtherCR(this, &#39;a=pwl_nop.desc&amp;r=6&amp;i=nad-a001-01-000000255718385&amp;d=&#39; + urlencode(&#39;http://www.switchwon.com&#39;) + &#39;&amp;u=&#39;+ urlencode(this.href));\">엔테크하고 휴가비벌자. <strong class='hl'>환율</strong>우대 100%까지, 항공권 혜택도 받아가세요.</a>\n",
            "              \n",
            "            </div>\n",
            "            \n",
            "            \n",
            "            \n",
            "            \n",
            "            \n",
            "            \n",
            "          </div>\n",
            "        </li>\n",
            "        <li class=\"lst type_more      \"\n",
            "            onmouseover=\"jindo.$Element(this).addClass('ad_hover');\"\n",
            "            onmouseout=\"jindo.$Element(this).removeClass('ad_hover');\" num=\"6\">\n",
            "          \n",
            "          <div class=\"inner\">\n",
            "            <div class=\"title_url_area\">\n",
            "              <div class=\"url_area\">\n",
            "                <a href=\"https://adcr.naver.com/adcr?x=2ckAbI31zrEvKZO6Jy0e9f///w==k/S/c9xVWbqLZIr+7PDDgeg25c+3Kt3+lQh2xZmmkgeHav9YMx8e2iVPeui89NbdGarmZFC0X+koGNfjKbc2SkIUFLAfUaTNEHv71rcUxszp6GTi0j0EB1MYovpHtCtwWQyefW9hdI8ltCu1KgDIwyC0gP3pbEuuMbXmJIOnm/HiHGdLOXM3GRl2iiEGPKD88/AqI7Im+UdqeiVWztUyFt9NcJxwwybZz0XhemTK3urE3SehErkBM7jnGZI6DlSMeGfHXKO4Sgj8PbBtc8rqM5zS74NdSOND/Ujjlo6HEJjPEMap6afePgDIr+Ipugxm4WttKXsGlTPzjpsm4dwq6BZH6F3pXsfU6Cdu665LuL9u6lnFDjNGTzNa3vTlTLr2AMzUNkYewjP53FYwejU3Fb79e2u0fsCBdW/B4N9QFdHHLapzUTl/LenytZmKLbFJRR+8akRUdvJxKhDw4FQQ1t1qbdUhB6vZTsx1CIyKFpY+aRw/JyfSIYnzGJnaf3NtpQngqnC8wbmKo47LN8OFSx74C9cP8fF1Ym+ro1BbaRfkCNqLjQODJoSb4FtPVB2fxiN228+Y2iHayLyraNiGxTc0L1ph4LeHu/DVV5rOxNqZEFt1cbOdfuZrCQkpQM76tVNwrT3+YYciXXo8V49UPZ/PikQaoUB1WNJc286rmITx7B2ticYIhR+QEf1XYTpvdJ0XpEZa+NhgltYL/ubHs0+/Ea4AUE9iA2yQuwUMHRKs1rw7nKDy+mXZsveV064he9a9t+vPUh+3d+dHv/zhz1y96OEp4RA9Ba4qghXydP5k=\" class=\"favicon_wrap\" target=\"_blank\" onclick=\"return goOtherCR(this,&#39;a=pwl_nop.favicon&amp;r=7&amp;i=nad-a001-01-000000000282219&amp;d=&#39;+urlencode(&#39;http://www.mibank.me&#39;)+&#39;&amp;u=&#39;+urlencode(this.href));\">\n",
            "                  <img width=\"16\" height=\"16\" alt=\"favicon\" class=\"icon_favicon\" data-img-alias=\"power-link-favicon-error\"\n",
            "                       data-lazysrc=\"https://search.pstatic.net/sunny?src=https%3A%2F%2Fwww.mibank.me%2Fdev-img%2Flanding-new%2Flanding_favixon%403x.png&amp;type=f30_30_png_expire24\"\n",
            "                       src=\"https://ssl.pstatic.net/adimg3.search/imp/nx/power/pc/230719/img/icon_favicon.png\">\n",
            "                </a>\n",
            "                <span class=\"icon_nad_mark\">광고</span>\n",
            "                \n",
            "                <a href=\"https://adcr.naver.com/adcr?x=2ckAbI31zrEvKZO6Jy0e9f///w==k/S/c9xVWbqLZIr+7PDDgeg25c+3Kt3+lQh2xZmmkgeHav9YMx8e2iVPeui89NbdGarmZFC0X+koGNfjKbc2SkIUFLAfUaTNEHv71rcUxszp6GTi0j0EB1MYovpHtCtwWQyefW9hdI8ltCu1KgDIwyC0gP3pbEuuMbXmJIOnm/HiHGdLOXM3GRl2iiEGPKD88/AqI7Im+UdqeiVWztUyFt9NcJxwwybZz0XhemTK3urE3SehErkBM7jnGZI6DlSMeGfHXKO4Sgj8PbBtc8rqM5zS74NdSOND/Ujjlo6HEJjPEMap6afePgDIr+Ipugxm4WttKXsGlTPzjpsm4dwq6BZH6F3pXsfU6Cdu665LuL9u6lnFDjNGTzNa3vTlTLr2AMzUNkYewjP53FYwejU3Fb79e2u0fsCBdW/B4N9QFdHHLapzUTl/LenytZmKLbFJRR+8akRUdvJxKhDw4FQQ1t1qbdUhB6vZTsx1CIyKFpY+aRw/JyfSIYnzGJnaf3NtpQngqnC8wbmKo47LN8OFSx74C9cP8fF1Ym+ro1BbaRfkCNqLjQODJoSb4FtPVB2fxiN228+Y2iHayLyraNiGxTc0L1ph4LeHu/DVV5rOxNqZEFt1cbOdfuZrCQkpQM76tVNwrT3+YYciXXo8V49UPZ/PikQaoUB1WNJc286rmITx7B2ticYIhR+QEf1XYTpvdJ0XpEZa+NhgltYL/ubHs0+/Ea4AUE9iA2yQuwUMHRKs1rw7nKDy+mXZsveV064he9a9t+vPUh+3d+dHv/zhz1y96OEp4RA9Ba4qghXydP5k=&amp;p=1\"\n",
            "                   class=\"lnk_url\" target=\"_blank\"\n",
            "                   onclick=\"return goOtherCR(this, &#39;a=pwl_nop.url&amp;r=7&amp;i=nad-a001-01-000000000282219&amp;d=&#39;+urlencode(&#39;http://www.mibank.me&#39;)+&#39;&amp;u=&#39;+urlencode(this.href));\">www.mibank.me</a>\n",
            "              </div>\n",
            "              <a href=\"https://adcr.naver.com/adcr?x=2ckAbI31zrEvKZO6Jy0e9f///w==k/S/c9xVWbqLZIr+7PDDgeg25c+3Kt3+lQh2xZmmkgeHav9YMx8e2iVPeui89NbdGarmZFC0X+koGNfjKbc2SkIUFLAfUaTNEHv71rcUxszp6GTi0j0EB1MYovpHtCtwWQyefW9hdI8ltCu1KgDIwyC0gP3pbEuuMbXmJIOnm/HiHGdLOXM3GRl2iiEGPKD88/AqI7Im+UdqeiVWztUyFt9NcJxwwybZz0XhemTK3urE3SehErkBM7jnGZI6DlSMeGfHXKO4Sgj8PbBtc8rqM5zS74NdSOND/Ujjlo6HEJjPEMap6afePgDIr+Ipugxm4WttKXsGlTPzjpsm4dwq6BZH6F3pXsfU6Cdu665LuL9u6lnFDjNGTzNa3vTlTLr2AMzUNkYewjP53FYwejU3Fb79e2u0fsCBdW/B4N9QFdHHLapzUTl/LenytZmKLbFJRR+8akRUdvJxKhDw4FQQ1t1qbdUhB6vZTsx1CIyKFpY+aRw/JyfSIYnzGJnaf3NtpQngqnC8wbmKo47LN8OFSx74C9cP8fF1Ym+ro1BbaRfkCNqLjQODJoSb4FtPVB2fxiN228+Y2iHayLyraNiGxTc0L1ph4LeHu/DVV5rOxNqZEFt1cbOdfuZrCQkpQM76tVNwrT3+YYciXXo8V49UPZ/PikQaoUB1WNJc286rmITx7B2ticYIhR+QEf1XYTpvdJ0XpEZa+NhgltYL/ubHs0+/Ea4AUE9iA2yQuwUMHRKs1rw7nKDy+mXZsveV064he9a9t+vPUh+3d+dHv/zhz1y96OEp4RA9Ba4qghXydP5k=&amp;p=0\" class=\"lnk_head\" target=\"_blank\" onclick=\"return goOtherCR(this, &#39;a=pwl_nop.tit&amp;r=7&amp;i=nad-a001-01-000000000282219&amp;d=&#39; + urlencode(&#39;http://www.mibank.me&#39;) + &#39;&amp;u=&#39;+ urlencode(this.href));\">\n",
            "                \n",
            "                \n",
            "                  <span class=\"lnk_tit\">환율비교 끝판왕 마이뱅크</span>\n",
            "                \n",
            "              </a>\n",
            "            </div>\n",
            "            <div class=\"desc_area\">\n",
            "              \n",
            "              <a href=\"https://adcr.naver.com/adcr?x=2ckAbI31zrEvKZO6Jy0e9f///w==k/S/c9xVWbqLZIr+7PDDgeg25c+3Kt3+lQh2xZmmkgeHav9YMx8e2iVPeui89NbdGarmZFC0X+koGNfjKbc2SkIUFLAfUaTNEHv71rcUxszp6GTi0j0EB1MYovpHtCtwWQyefW9hdI8ltCu1KgDIwyC0gP3pbEuuMbXmJIOnm/HiHGdLOXM3GRl2iiEGPKD88/AqI7Im+UdqeiVWztUyFt9NcJxwwybZz0XhemTK3urE3SehErkBM7jnGZI6DlSMeGfHXKO4Sgj8PbBtc8rqM5zS74NdSOND/Ujjlo6HEJjPEMap6afePgDIr+Ipugxm4WttKXsGlTPzjpsm4dwq6BZH6F3pXsfU6Cdu665LuL9u6lnFDjNGTzNa3vTlTLr2AMzUNkYewjP53FYwejU3Fb79e2u0fsCBdW/B4N9QFdHHLapzUTl/LenytZmKLbFJRR+8akRUdvJxKhDw4FQQ1t1qbdUhB6vZTsx1CIyKFpY+aRw/JyfSIYnzGJnaf3NtpQngqnC8wbmKo47LN8OFSx74C9cP8fF1Ym+ro1BbaRfkCNqLjQODJoSb4FtPVB2fxiN228+Y2iHayLyraNiGxTc0L1ph4LeHu/DVV5rOxNqZEFt1cbOdfuZrCQkpQM76tVNwrT3+YYciXXo8V49UPZ/PikQaoUB1WNJc286rmITx7B2ticYIhR+QEf1XYTpvdJ0XpEZa+NhgltYL/ubHs0+/Ea4AUE9iA2yQuwUMHRKs1rw7nKDy+mXZsveV064he9a9t+vPUh+3d+dHv/zhz1y96OEp4RA9Ba4qghXydP5k=\" class=\"link_desc\" target=\"_blank\"\n",
            "                 onclick=\"return goOtherCR(this, &#39;a=pwl_nop.desc&amp;r=7&amp;i=nad-a001-01-000000000282219&amp;d=&#39; + urlencode(&#39;http://www.mibank.me&#39;) + &#39;&amp;u=&#39;+ urlencode(this.href));\">1초전에 바뀐 44개국의 <strong class='hl'>환율</strong>을 실시간으로 비교해 드립니다. <strong class='hl'>환율</strong></a>\n",
            "              \n",
            "            </div>\n",
            "            \n",
            "            \n",
            "            \n",
            "            \n",
            "            \n",
            "            \n",
            "          </div>\n",
            "        </li>\n",
            "        <li class=\"lst       \"\n",
            "            onmouseover=\"jindo.$Element(this).addClass('ad_hover');\"\n",
            "            onmouseout=\"jindo.$Element(this).removeClass('ad_hover');\" num=\"7\">\n",
            "          \n",
            "          <div class=\"inner\">\n",
            "            <div class=\"title_url_area\">\n",
            "              <div class=\"url_area\">\n",
            "                <a href=\"https://adcr.naver.com/adcr?x=68tC7hTFUnTOdIxBrAAfRP///w==kztf6ngU9l2PoKU40NONPlNRqPV6APmAAGcclsViEcAXX6SX5GDOBbS1SLPyc7ibNPh6H8b8Lw6ppvg2shwaZne3TZcFdNPDpekNTYa6pLgdhww4aVuOrAwrtyK23+eckKqrMfevoo+/efW05rYU7016JYV3SanxGAk1IZukcg+N1Ld3aOSxNwWsrhVSvsl1awjuhEiZ9ir0q3cuSc5xzOiBkD4HTKJ9QnjJxgNPKyzqt1P4ydAMDfjgZKBwZh+20SWhhmT5hFt8P8fdhTDprADvHZQWkGTxYABW57C4S22cwn0XHBBGKHlJFktUZ0junTUpeCZsNopFTeW2niaxX909GnsqT5qeem6/fVC7DU7eAXv3BEjcZXDWsy1pjjzYYVDhmt/BgFNHPl77NNtwMAHQCPTFqYDV8DRoWxuloQozXa+7f5cmF2urCDjdP5IzT0LpstSTGXHFxJUzQckdBS1aAgrLWraSEHP8v/ya7k94sTFm51pQ5UL9kae1Aia9itdFc4tdpNAmsRIIZU5EVDNDyLll7/3/begY8Io9MR2kaoQyRsGB8hy6iVA0zN4XJM2P9mCItHiMN6XyHa66DbSzNXFiRvSY+yofUb/BoNu+Y7bjm776jJiXLfCKdhJbo1Z5Kr1icd7VCx4fB8hcwpaTlqlPS6q5RtqqBPBavriXyt/FyGmhl2lVgEM9JwrfoEDMFNIK04tt21AINddTAVPvb3cr8qCl2k1hbA1srYzBrh9odnio2qC/bo2B798TwhYfE5bsDzsNtpFhSjKwknX/iwLmL8HbSV+hACJFDSal+ZKRzArW6AVnxzqXZNPYWorsqU/20nDKGlXevP/yU6w==\" class=\"favicon_wrap\" target=\"_blank\" onclick=\"return goOtherCR(this,&#39;a=pwl_nop.favicon&amp;r=8&amp;i=nad-a001-01-000000256163473&amp;d=&#39;+urlencode(&#39;https://www.galleryk-arttech-universe.com/&#39;)+&#39;&amp;u=&#39;+urlencode(this.href));\">\n",
            "                  <img width=\"16\" height=\"16\" alt=\"favicon\" class=\"icon_favicon\" data-img-alias=\"power-link-favicon-error\"\n",
            "                       data-lazysrc=\"https://search.pstatic.net/sunny?src=https%3A%2F%2Fstatic.wixstatic.com%2Fmedia%2F02f4e1_85c3c2fe4f784c9ba49355f2cb7a5f72%7Emv2.jpg%2Fv1%2Ffill%2Fw_32%2Ch_32%2Clg_1%2Cusm_0.66_1.00_0.01%2F02f4e1_85c3c2fe4f784c9ba49355f2cb7a5f72%7Emv2.jpg&amp;type=f30_30_png_expire24\"\n",
            "                       src=\"https://ssl.pstatic.net/adimg3.search/imp/nx/power/pc/230719/img/icon_favicon.png\">\n",
            "                </a>\n",
            "                <span class=\"icon_nad_mark\">광고</span>\n",
            "                \n",
            "                <a href=\"https://adcr.naver.com/adcr?x=68tC7hTFUnTOdIxBrAAfRP///w==kztf6ngU9l2PoKU40NONPlNRqPV6APmAAGcclsViEcAXX6SX5GDOBbS1SLPyc7ibNPh6H8b8Lw6ppvg2shwaZne3TZcFdNPDpekNTYa6pLgdhww4aVuOrAwrtyK23+eckKqrMfevoo+/efW05rYU7016JYV3SanxGAk1IZukcg+N1Ld3aOSxNwWsrhVSvsl1awjuhEiZ9ir0q3cuSc5xzOiBkD4HTKJ9QnjJxgNPKyzqt1P4ydAMDfjgZKBwZh+20SWhhmT5hFt8P8fdhTDprADvHZQWkGTxYABW57C4S22cwn0XHBBGKHlJFktUZ0junTUpeCZsNopFTeW2niaxX909GnsqT5qeem6/fVC7DU7eAXv3BEjcZXDWsy1pjjzYYVDhmt/BgFNHPl77NNtwMAHQCPTFqYDV8DRoWxuloQozXa+7f5cmF2urCDjdP5IzT0LpstSTGXHFxJUzQckdBS1aAgrLWraSEHP8v/ya7k94sTFm51pQ5UL9kae1Aia9itdFc4tdpNAmsRIIZU5EVDNDyLll7/3/begY8Io9MR2kaoQyRsGB8hy6iVA0zN4XJM2P9mCItHiMN6XyHa66DbSzNXFiRvSY+yofUb/BoNu+Y7bjm776jJiXLfCKdhJbo1Z5Kr1icd7VCx4fB8hcwpaTlqlPS6q5RtqqBPBavriXyt/FyGmhl2lVgEM9JwrfoEDMFNIK04tt21AINddTAVPvb3cr8qCl2k1hbA1srYzBrh9odnio2qC/bo2B798TwhYfE5bsDzsNtpFhSjKwknX/iwLmL8HbSV+hACJFDSal+ZKRzArW6AVnxzqXZNPYWorsqU/20nDKGlXevP/yU6w==&amp;p=1\"\n",
            "                   class=\"lnk_url\" target=\"_blank\"\n",
            "                   onclick=\"return goOtherCR(this, &#39;a=pwl_nop.url&amp;r=8&amp;i=nad-a001-01-000000256163473&amp;d=&#39;+urlencode(&#39;https://www.galleryk-arttech-universe.com/&#39;)+&#39;&amp;u=&#39;+urlencode(this.href));\">www.galleryk-arttech-universe.com/</a>\n",
            "              </div>\n",
            "              <a href=\"https://adcr.naver.com/adcr?x=68tC7hTFUnTOdIxBrAAfRP///w==kztf6ngU9l2PoKU40NONPlNRqPV6APmAAGcclsViEcAXX6SX5GDOBbS1SLPyc7ibNPh6H8b8Lw6ppvg2shwaZne3TZcFdNPDpekNTYa6pLgdhww4aVuOrAwrtyK23+eckKqrMfevoo+/efW05rYU7016JYV3SanxGAk1IZukcg+N1Ld3aOSxNwWsrhVSvsl1awjuhEiZ9ir0q3cuSc5xzOiBkD4HTKJ9QnjJxgNPKyzqt1P4ydAMDfjgZKBwZh+20SWhhmT5hFt8P8fdhTDprADvHZQWkGTxYABW57C4S22cwn0XHBBGKHlJFktUZ0junTUpeCZsNopFTeW2niaxX909GnsqT5qeem6/fVC7DU7eAXv3BEjcZXDWsy1pjjzYYVDhmt/BgFNHPl77NNtwMAHQCPTFqYDV8DRoWxuloQozXa+7f5cmF2urCDjdP5IzT0LpstSTGXHFxJUzQckdBS1aAgrLWraSEHP8v/ya7k94sTFm51pQ5UL9kae1Aia9itdFc4tdpNAmsRIIZU5EVDNDyLll7/3/begY8Io9MR2kaoQyRsGB8hy6iVA0zN4XJM2P9mCItHiMN6XyHa66DbSzNXFiRvSY+yofUb/BoNu+Y7bjm776jJiXLfCKdhJbo1Z5Kr1icd7VCx4fB8hcwpaTlqlPS6q5RtqqBPBavriXyt/FyGmhl2lVgEM9JwrfoEDMFNIK04tt21AINddTAVPvb3cr8qCl2k1hbA1srYzBrh9odnio2qC/bo2B798TwhYfE5bsDzsNtpFhSjKwknX/iwLmL8HbSV+hACJFDSal+ZKRzArW6AVnxzqXZNPYWorsqU/20nDKGlXevP/yU6w==&amp;p=0\" class=\"lnk_head\" target=\"_blank\" onclick=\"return goOtherCR(this, &#39;a=pwl_nop.tit&amp;r=8&amp;i=nad-a001-01-000000256163473&amp;d=&#39; + urlencode(&#39;https://www.galleryk-arttech-universe.com/&#39;) + &#39;&amp;u=&#39;+ urlencode(this.href));\">\n",
            "                \n",
            "                \n",
            "                  <span class=\"lnk_tit\">갤러리K 아트테크 유니버스</span>\n",
            "                \n",
            "              </a>\n",
            "            </div>\n",
            "            <div class=\"desc_area\">\n",
            "              \n",
            "              <a href=\"https://adcr.naver.com/adcr?x=68tC7hTFUnTOdIxBrAAfRP///w==kztf6ngU9l2PoKU40NONPlNRqPV6APmAAGcclsViEcAXX6SX5GDOBbS1SLPyc7ibNPh6H8b8Lw6ppvg2shwaZne3TZcFdNPDpekNTYa6pLgdhww4aVuOrAwrtyK23+eckKqrMfevoo+/efW05rYU7016JYV3SanxGAk1IZukcg+N1Ld3aOSxNwWsrhVSvsl1awjuhEiZ9ir0q3cuSc5xzOiBkD4HTKJ9QnjJxgNPKyzqt1P4ydAMDfjgZKBwZh+20SWhhmT5hFt8P8fdhTDprADvHZQWkGTxYABW57C4S22cwn0XHBBGKHlJFktUZ0junTUpeCZsNopFTeW2niaxX909GnsqT5qeem6/fVC7DU7eAXv3BEjcZXDWsy1pjjzYYVDhmt/BgFNHPl77NNtwMAHQCPTFqYDV8DRoWxuloQozXa+7f5cmF2urCDjdP5IzT0LpstSTGXHFxJUzQckdBS1aAgrLWraSEHP8v/ya7k94sTFm51pQ5UL9kae1Aia9itdFc4tdpNAmsRIIZU5EVDNDyLll7/3/begY8Io9MR2kaoQyRsGB8hy6iVA0zN4XJM2P9mCItHiMN6XyHa66DbSzNXFiRvSY+yofUb/BoNu+Y7bjm776jJiXLfCKdhJbo1Z5Kr1icd7VCx4fB8hcwpaTlqlPS6q5RtqqBPBavriXyt/FyGmhl2lVgEM9JwrfoEDMFNIK04tt21AINddTAVPvb3cr8qCl2k1hbA1srYzBrh9odnio2qC/bo2B798TwhYfE5bsDzsNtpFhSjKwknX/iwLmL8HbSV+hACJFDSal+ZKRzArW6AVnxzqXZNPYWorsqU/20nDKGlXevP/yU6w==\" class=\"link_desc\" target=\"_blank\"\n",
            "                 onclick=\"return goOtherCR(this, &#39;a=pwl_nop.desc&amp;r=8&amp;i=nad-a001-01-000000256163473&amp;d=&#39; + urlencode(&#39;https://www.galleryk-arttech-universe.com/&#39;) + &#39;&amp;u=&#39;+ urlencode(this.href));\">국내 단 하나! 국가산업대상 갤러리K의 특허받은 아트테크, 세금환급, 종소세 절감</a>\n",
            "              \n",
            "            </div>\n",
            "            \n",
            "            \n",
            "            \n",
            "            \n",
            "            \n",
            "            \n",
            "          </div>\n",
            "        </li>\n",
            "        <li class=\"lst       \"\n",
            "            onmouseover=\"jindo.$Element(this).addClass('ad_hover');\"\n",
            "            onmouseout=\"jindo.$Element(this).removeClass('ad_hover');\" num=\"8\">\n",
            "          \n",
            "          <div class=\"inner\">\n",
            "            <div class=\"title_url_area\">\n",
            "              <div class=\"url_area\">\n",
            "                <a href=\"https://adcr.naver.com/adcr?x=WhCYQFgTxSxUVh0g3v5wqv///w==kItqLkiZKDLIRiS8NAE6Zp1+vJF7tRHBppP1iwZiz7rqRPep+e/IO08B7RD2uvIgSLbDjOmgQdNP8GnJ9nySDRzwbqgW5odh+syBVTBnVApHXPp/KtDo+IQBBXP38ncUz06mT8NHmvUvzx9eIlTywsqBaJPDVXiHP4rWEY14MgGCM9Kmrl6ZuqZm7kXZ8MLQRrYRM74UZpsUBX1Oyr+T5Y/diPmSi+HmCFxo0PO127jXgVgrJv6mpV0zJPU4jtC52WBVoitkAOARYJkHvat6iA17AaT7ZkEoQx37/8R+HjwOORv0mg+KRqjVRugW0fdM1gGNXv0FXwI6S3JNaibKAPLMxQn5Fg3E6+oiaunHsxiSKOjP5reoHYeAzGxQJ56KyucMPQfWD0VZ+liF6069SWqV3AlU/dmMVQQtQGCmFOL989j9ZW1U8Fs7I5iZRV0PXlqpPtbV+4UIRQBzg5w74NZCDr0vxM1ISshJxpNINMb6MNVJmU2tfoEv5hEnjRLmk08zGfNoAL6TVF/mOd0bUbxv8ArniaMV+Q5cAaxKWuRtXzLX22S/Obxbg+Y7FAf0DMmsTjkKs1Hmhmt8IBduNz/nwNDEtWZZxajUdhrZyc+HME1rzSQIQE58r7IO+JGu82tF6vMQCJzuI0oUUIuH6ea10dZ1l5GsnZkn7gdaxP4uPk8hBbYJIUGfmca65UZzuH5CfIJSmvLg4vyyvnyMX2g==\" class=\"favicon_wrap\" target=\"_blank\" onclick=\"return goOtherCR(this,&#39;a=pwl_nop.favicon&amp;r=9&amp;i=nad-a001-01-000000229551999&amp;d=&#39;+urlencode(&#39;https://changepoint.kr/&#39;)+&#39;&amp;u=&#39;+urlencode(this.href));\">\n",
            "                  <img width=\"16\" height=\"16\" alt=\"favicon\" class=\"icon_favicon\" data-img-alias=\"power-link-favicon-error\"\n",
            "                       data-lazysrc=\"https://search.pstatic.net/sunny?src=https%3A%2F%2Fchangepoint.kr%2Fwp-content%2Fuploads%2F2019%2F09%2FB06_%25EB%25A1%259C%25EA%25B3%25A0_20190917_%25EB%25B0%2595%25EC%2588%2598%25EC%259D%25B8.png&amp;type=f30_30_png_expire24\"\n",
            "                       src=\"https://ssl.pstatic.net/adimg3.search/imp/nx/power/pc/230719/img/icon_favicon.png\">\n",
            "                </a>\n",
            "                <span class=\"icon_nad_mark\">광고</span>\n",
            "                \n",
            "                <a href=\"https://adcr.naver.com/adcr?x=WhCYQFgTxSxUVh0g3v5wqv///w==kItqLkiZKDLIRiS8NAE6Zp1+vJF7tRHBppP1iwZiz7rqRPep+e/IO08B7RD2uvIgSLbDjOmgQdNP8GnJ9nySDRzwbqgW5odh+syBVTBnVApHXPp/KtDo+IQBBXP38ncUz06mT8NHmvUvzx9eIlTywsqBaJPDVXiHP4rWEY14MgGCM9Kmrl6ZuqZm7kXZ8MLQRrYRM74UZpsUBX1Oyr+T5Y/diPmSi+HmCFxo0PO127jXgVgrJv6mpV0zJPU4jtC52WBVoitkAOARYJkHvat6iA17AaT7ZkEoQx37/8R+HjwOORv0mg+KRqjVRugW0fdM1gGNXv0FXwI6S3JNaibKAPLMxQn5Fg3E6+oiaunHsxiSKOjP5reoHYeAzGxQJ56KyucMPQfWD0VZ+liF6069SWqV3AlU/dmMVQQtQGCmFOL989j9ZW1U8Fs7I5iZRV0PXlqpPtbV+4UIRQBzg5w74NZCDr0vxM1ISshJxpNINMb6MNVJmU2tfoEv5hEnjRLmk08zGfNoAL6TVF/mOd0bUbxv8ArniaMV+Q5cAaxKWuRtXzLX22S/Obxbg+Y7FAf0DMmsTjkKs1Hmhmt8IBduNz/nwNDEtWZZxajUdhrZyc+HME1rzSQIQE58r7IO+JGu82tF6vMQCJzuI0oUUIuH6ea10dZ1l5GsnZkn7gdaxP4uPk8hBbYJIUGfmca65UZzuH5CfIJSmvLg4vyyvnyMX2g==&amp;p=1\"\n",
            "                   class=\"lnk_url\" target=\"_blank\"\n",
            "                   onclick=\"return goOtherCR(this, &#39;a=pwl_nop.url&amp;r=9&amp;i=nad-a001-01-000000229551999&amp;d=&#39;+urlencode(&#39;https://changepoint.kr/&#39;)+&#39;&amp;u=&#39;+urlencode(this.href));\">changepoint.kr/</a>\n",
            "              </div>\n",
            "              <a href=\"https://adcr.naver.com/adcr?x=WhCYQFgTxSxUVh0g3v5wqv///w==kItqLkiZKDLIRiS8NAE6Zp1+vJF7tRHBppP1iwZiz7rqRPep+e/IO08B7RD2uvIgSLbDjOmgQdNP8GnJ9nySDRzwbqgW5odh+syBVTBnVApHXPp/KtDo+IQBBXP38ncUz06mT8NHmvUvzx9eIlTywsqBaJPDVXiHP4rWEY14MgGCM9Kmrl6ZuqZm7kXZ8MLQRrYRM74UZpsUBX1Oyr+T5Y/diPmSi+HmCFxo0PO127jXgVgrJv6mpV0zJPU4jtC52WBVoitkAOARYJkHvat6iA17AaT7ZkEoQx37/8R+HjwOORv0mg+KRqjVRugW0fdM1gGNXv0FXwI6S3JNaibKAPLMxQn5Fg3E6+oiaunHsxiSKOjP5reoHYeAzGxQJ56KyucMPQfWD0VZ+liF6069SWqV3AlU/dmMVQQtQGCmFOL989j9ZW1U8Fs7I5iZRV0PXlqpPtbV+4UIRQBzg5w74NZCDr0vxM1ISshJxpNINMb6MNVJmU2tfoEv5hEnjRLmk08zGfNoAL6TVF/mOd0bUbxv8ArniaMV+Q5cAaxKWuRtXzLX22S/Obxbg+Y7FAf0DMmsTjkKs1Hmhmt8IBduNz/nwNDEtWZZxajUdhrZyc+HME1rzSQIQE58r7IO+JGu82tF6vMQCJzuI0oUUIuH6ea10dZ1l5GsnZkn7gdaxP4uPk8hBbYJIUGfmca65UZzuH5CfIJSmvLg4vyyvnyMX2g==&amp;p=0\" class=\"lnk_head\" target=\"_blank\" onclick=\"return goOtherCR(this, &#39;a=pwl_nop.tit&amp;r=9&amp;i=nad-a001-01-000000229551999&amp;d=&#39; + urlencode(&#39;https://changepoint.kr/&#39;) + &#39;&amp;u=&#39;+ urlencode(this.href));\">\n",
            "                \n",
            "                \n",
            "                  <span class=\"lnk_tit\">동전환전소</span>\n",
            "                \n",
            "              </a>\n",
            "            </div>\n",
            "            <div class=\"desc_area\">\n",
            "              \n",
            "              <a href=\"https://adcr.naver.com/adcr?x=WhCYQFgTxSxUVh0g3v5wqv///w==kItqLkiZKDLIRiS8NAE6Zp1+vJF7tRHBppP1iwZiz7rqRPep+e/IO08B7RD2uvIgSLbDjOmgQdNP8GnJ9nySDRzwbqgW5odh+syBVTBnVApHXPp/KtDo+IQBBXP38ncUz06mT8NHmvUvzx9eIlTywsqBaJPDVXiHP4rWEY14MgGCM9Kmrl6ZuqZm7kXZ8MLQRrYRM74UZpsUBX1Oyr+T5Y/diPmSi+HmCFxo0PO127jXgVgrJv6mpV0zJPU4jtC52WBVoitkAOARYJkHvat6iA17AaT7ZkEoQx37/8R+HjwOORv0mg+KRqjVRugW0fdM1gGNXv0FXwI6S3JNaibKAPLMxQn5Fg3E6+oiaunHsxiSKOjP5reoHYeAzGxQJ56KyucMPQfWD0VZ+liF6069SWqV3AlU/dmMVQQtQGCmFOL989j9ZW1U8Fs7I5iZRV0PXlqpPtbV+4UIRQBzg5w74NZCDr0vxM1ISshJxpNINMb6MNVJmU2tfoEv5hEnjRLmk08zGfNoAL6TVF/mOd0bUbxv8ArniaMV+Q5cAaxKWuRtXzLX22S/Obxbg+Y7FAf0DMmsTjkKs1Hmhmt8IBduNz/nwNDEtWZZxajUdhrZyc+HME1rzSQIQE58r7IO+JGu82tF6vMQCJzuI0oUUIuH6ea10dZ1l5GsnZkn7gdaxP4uPk8hBbYJIUGfmca65UZzuH5CfIJSmvLg4vyyvnyMX2g==\" class=\"link_desc\" target=\"_blank\"\n",
            "                 onclick=\"return goOtherCR(this, &#39;a=pwl_nop.desc&amp;r=9&amp;i=nad-a001-01-000000229551999&amp;d=&#39; + urlencode(&#39;https://changepoint.kr/&#39;) + &#39;&amp;u=&#39;+ urlencode(this.href));\">달러  저렴하게 1123원에 환전해 가세요.</a>\n",
            "              \n",
            "            </div>\n",
            "            \n",
            "            \n",
            "            \n",
            "            \n",
            "            \n",
            "            \n",
            "          </div>\n",
            "        </li>\n",
            "        <li class=\"lst       \"\n",
            "            onmouseover=\"jindo.$Element(this).addClass('ad_hover');\"\n",
            "            onmouseout=\"jindo.$Element(this).removeClass('ad_hover');\" num=\"9\">\n",
            "          \n",
            "          <div class=\"inner\">\n",
            "            <div class=\"title_url_area\">\n",
            "              <div class=\"url_area\">\n",
            "                <a href=\"https://adcr.naver.com/adcr?x=wOyAYLqWthKKS46tlVuAhP///w==kGukckcxTkKrxM1sPkyRCoF0vEA+QGVPVvhjF42i5HYU7aYzZBtVlpDyZUbtHoDqJMnJ8fsfgTLW0NTD3gLQSe29RCIvusmTmH0ZP0j0aeK80IiJL1rutZdwGFa6tXuqg+2qYicbOYEuYDHbKA03FSK5iokw+E4XfkpGsazCEGHF1k4TrEPi2d42r3y+InM/aU+h1bqC6W2c+U2354zV+Dy2GfEI4IBbR3LYp7V85ZbDHoV6vyuYIkk4K6n2j2WEy7Rhec7KtMK2vu93UCTvQbqGehcTsRdFywiCL9J5E4phu2Sz1jYzN6houVBBpLsuVJfyxpS+NxRgeY2WWfejpL+n+aHIyEbc4px93HrThl1/qz/MPiySx5Dx/ka8JUfUARiYkw7OqmQzz5j4qRzojsNWZsPnlwen0qPRYDUP/cbmfrqklRNlvuP/9dUHYmmSineRbJ4rNvJi14B8wkgY/RqyK8OIfQJ4gNH3hAJV9c/bSYz33A8TvIY2CSAJF9PGdZA7FIxE3yy0mIiZBtLEDMR6KWGTmXKJDJznuVElyH2jBTHcRA4/O9iFYKCs+T0QkTnj9haC5jSsApWSuCVlh/dVeozyPjsZu/iFlfd5vi4+oBEjO5ooGWJQyU1MrVJ1dvq7KN9wsdFfYBP7FODj1pzsotXFuKPPVcWPBlFECXxU=\" class=\"favicon_wrap\" target=\"_blank\" onclick=\"return goOtherCR(this,&#39;a=pwl_nop.favicon&amp;r=10&amp;i=nad-a001-01-000000118333622&amp;d=&#39;+urlencode(&#39;http://kimpomoneybox.com&#39;)+&#39;&amp;u=&#39;+urlencode(this.href));\">\n",
            "                  <img width=\"16\" height=\"16\" alt=\"favicon\" class=\"icon_favicon\" data-img-alias=\"power-link-favicon-error\"\n",
            "                       src=\"https://ssl.pstatic.net/adimg3.search/imp/nx/power/pc/230719/img/icon_favicon.png\">\n",
            "                </a>\n",
            "                <span class=\"icon_nad_mark\">광고</span>\n",
            "                \n",
            "                <a href=\"https://adcr.naver.com/adcr?x=wOyAYLqWthKKS46tlVuAhP///w==kGukckcxTkKrxM1sPkyRCoF0vEA+QGVPVvhjF42i5HYU7aYzZBtVlpDyZUbtHoDqJMnJ8fsfgTLW0NTD3gLQSe29RCIvusmTmH0ZP0j0aeK80IiJL1rutZdwGFa6tXuqg+2qYicbOYEuYDHbKA03FSK5iokw+E4XfkpGsazCEGHF1k4TrEPi2d42r3y+InM/aU+h1bqC6W2c+U2354zV+Dy2GfEI4IBbR3LYp7V85ZbDHoV6vyuYIkk4K6n2j2WEy7Rhec7KtMK2vu93UCTvQbqGehcTsRdFywiCL9J5E4phu2Sz1jYzN6houVBBpLsuVJfyxpS+NxRgeY2WWfejpL+n+aHIyEbc4px93HrThl1/qz/MPiySx5Dx/ka8JUfUARiYkw7OqmQzz5j4qRzojsNWZsPnlwen0qPRYDUP/cbmfrqklRNlvuP/9dUHYmmSineRbJ4rNvJi14B8wkgY/RqyK8OIfQJ4gNH3hAJV9c/bSYz33A8TvIY2CSAJF9PGdZA7FIxE3yy0mIiZBtLEDMR6KWGTmXKJDJznuVElyH2jBTHcRA4/O9iFYKCs+T0QkTnj9haC5jSsApWSuCVlh/dVeozyPjsZu/iFlfd5vi4+oBEjO5ooGWJQyU1MrVJ1dvq7KN9wsdFfYBP7FODj1pzsotXFuKPPVcWPBlFECXxU=&amp;p=1\"\n",
            "                   class=\"lnk_url\" target=\"_blank\"\n",
            "                   onclick=\"return goOtherCR(this, &#39;a=pwl_nop.url&amp;r=10&amp;i=nad-a001-01-000000118333622&amp;d=&#39;+urlencode(&#39;http://kimpomoneybox.com&#39;)+&#39;&amp;u=&#39;+urlencode(this.href));\">kimpomoneybox.com</a>\n",
            "              </div>\n",
            "              <a href=\"https://adcr.naver.com/adcr?x=wOyAYLqWthKKS46tlVuAhP///w==kGukckcxTkKrxM1sPkyRCoF0vEA+QGVPVvhjF42i5HYU7aYzZBtVlpDyZUbtHoDqJMnJ8fsfgTLW0NTD3gLQSe29RCIvusmTmH0ZP0j0aeK80IiJL1rutZdwGFa6tXuqg+2qYicbOYEuYDHbKA03FSK5iokw+E4XfkpGsazCEGHF1k4TrEPi2d42r3y+InM/aU+h1bqC6W2c+U2354zV+Dy2GfEI4IBbR3LYp7V85ZbDHoV6vyuYIkk4K6n2j2WEy7Rhec7KtMK2vu93UCTvQbqGehcTsRdFywiCL9J5E4phu2Sz1jYzN6houVBBpLsuVJfyxpS+NxRgeY2WWfejpL+n+aHIyEbc4px93HrThl1/qz/MPiySx5Dx/ka8JUfUARiYkw7OqmQzz5j4qRzojsNWZsPnlwen0qPRYDUP/cbmfrqklRNlvuP/9dUHYmmSineRbJ4rNvJi14B8wkgY/RqyK8OIfQJ4gNH3hAJV9c/bSYz33A8TvIY2CSAJF9PGdZA7FIxE3yy0mIiZBtLEDMR6KWGTmXKJDJznuVElyH2jBTHcRA4/O9iFYKCs+T0QkTnj9haC5jSsApWSuCVlh/dVeozyPjsZu/iFlfd5vi4+oBEjO5ooGWJQyU1MrVJ1dvq7KN9wsdFfYBP7FODj1pzsotXFuKPPVcWPBlFECXxU=&amp;p=0\" class=\"lnk_head\" target=\"_blank\" onclick=\"return goOtherCR(this, &#39;a=pwl_nop.tit&amp;r=10&amp;i=nad-a001-01-000000118333622&amp;d=&#39; + urlencode(&#39;http://kimpomoneybox.com&#39;) + &#39;&amp;u=&#39;+ urlencode(this.href));\">\n",
            "                \n",
            "                \n",
            "                  <span class=\"lnk_tit\">머니박스 김포환전소</span>\n",
            "                \n",
            "              </a>\n",
            "            </div>\n",
            "            <div class=\"desc_area\">\n",
            "              \n",
            "              <a href=\"https://adcr.naver.com/adcr?x=wOyAYLqWthKKS46tlVuAhP///w==kGukckcxTkKrxM1sPkyRCoF0vEA+QGVPVvhjF42i5HYU7aYzZBtVlpDyZUbtHoDqJMnJ8fsfgTLW0NTD3gLQSe29RCIvusmTmH0ZP0j0aeK80IiJL1rutZdwGFa6tXuqg+2qYicbOYEuYDHbKA03FSK5iokw+E4XfkpGsazCEGHF1k4TrEPi2d42r3y+InM/aU+h1bqC6W2c+U2354zV+Dy2GfEI4IBbR3LYp7V85ZbDHoV6vyuYIkk4K6n2j2WEy7Rhec7KtMK2vu93UCTvQbqGehcTsRdFywiCL9J5E4phu2Sz1jYzN6houVBBpLsuVJfyxpS+NxRgeY2WWfejpL+n+aHIyEbc4px93HrThl1/qz/MPiySx5Dx/ka8JUfUARiYkw7OqmQzz5j4qRzojsNWZsPnlwen0qPRYDUP/cbmfrqklRNlvuP/9dUHYmmSineRbJ4rNvJi14B8wkgY/RqyK8OIfQJ4gNH3hAJV9c/bSYz33A8TvIY2CSAJF9PGdZA7FIxE3yy0mIiZBtLEDMR6KWGTmXKJDJznuVElyH2jBTHcRA4/O9iFYKCs+T0QkTnj9haC5jSsApWSuCVlh/dVeozyPjsZu/iFlfd5vi4+oBEjO5ooGWJQyU1MrVJ1dvq7KN9wsdFfYBP7FODj1pzsotXFuKPPVcWPBlFECXxU=\" class=\"link_desc\" target=\"_blank\"\n",
            "                 onclick=\"return goOtherCR(this, &#39;a=pwl_nop.desc&amp;r=10&amp;i=nad-a001-01-000000118333622&amp;d=&#39; + urlencode(&#39;http://kimpomoneybox.com&#39;) + &#39;&amp;u=&#39;+ urlencode(this.href));\">1:1맞춤예약/돈 버는환테크 시스템/세계18개국 환전센터/<strong class='hl'>환율</strong> 우대적용/외화컨설팅</a>\n",
            "              \n",
            "            </div>\n",
            "            \n",
            "            \n",
            "            \n",
            "            \n",
            "            \n",
            "            \n",
            "          </div>\n",
            "        </li>\n",
            "      </ul>\n",
            "      <div class=\"section_more\">\n",
            "        <a class=\"go_site\"\n",
            "           target=\"_blank\" href=\"https://ad.search.naver.com/search.naver?where=ad&amp;query=%ED%99%98%EC%9C%A8&amp;referenceId=iLbHPlprvmsssNKI32sssssstOo-511291\" onclick=\"return goOtherCR(this, &#39;a=pwl_nop.more&amp;r=1&amp;i=pwl_nopmore&amp;u=&#39;+urlencode(this.href));\">\n",
            "          더보기<i class=\"icon_arrow sp_nad\"></i></a>\n",
            "      </div>\n",
            "    </div>\n",
            "    \n",
            "    \n",
            "  </div>\n",
            "\n",
            "  <script type=\"text/javascript\">\n",
            "      (function() {\n",
            "          var createPlaceImageConveyer = function() {\n",
            "              var prev = document.getElementById(\"_place_prev_button\");\n",
            "              var next = document.getElementById(\"_place_next_button\");\n",
            "              if (prev == null || next == null) {\n",
            "                  return;\n",
            "              }\n",
            "              prev.style.display = \"none\";\n",
            "              var require = window.require.config({\n",
            "                  context: \"impression_neo_place_extension\",\n",
            "                  paths: {\n",
            "                      \"egjsConveyer\": \"https://ssl.pstatic.net/adimg3.search/imp/nx/power/pc/220822/js/egjs-conveyer.min.k253dc24\"\n",
            "                  }\n",
            "              });\n",
            "              require([\"egjsConveyer\"], function(egjsConveyer) {\n",
            "                  var conveyer = new egjsConveyer(\"#place_flicking\", { autoInit: false, preventClickOnDrag: true});\n",
            "\n",
            "\n",
            "                  conveyer.subscribe(\"isReachStart\", function(isReachStart) {\n",
            "                      prev.style.display = isReachStart ? \"none\" : \"block\";\n",
            "                  });\n",
            "\n",
            "                  conveyer.subscribe(\"isReachEnd\", function(isReachEnd) {\n",
            "                      next.style.display = isReachEnd ? \"none\" : \"block\";\n",
            "                  });\n",
            "                  conveyer.init();\n",
            "\n",
            "                  if (!conveyer.isReachEnd) {\n",
            "                      next.style.display = \"block\";\n",
            "                  }\n",
            "\n",
            "                  prev.addEventListener(\"click\", function() {\n",
            "                      conveyer.scrollIntoView(\"start\", {\n",
            "                          align: \"end\",\n",
            "                          duration: 500,\n",
            "                          excludeStand: true,\n",
            "                      });\n",
            "                  });\n",
            "                  next.addEventListener(\"click\", function() {\n",
            "                      conveyer.scrollIntoView(\"end\", {\n",
            "                          align: \"start\",\n",
            "                          duration: 500,\n",
            "                          excludeStand: true,\n",
            "                      });\n",
            "                  });\n",
            "              });\n",
            "          };\n",
            "          nhn.common.load_js(null, createPlaceImageConveyer, true, 150);\n",
            "      })();\n",
            "  </script>\n",
            "\n",
            "  \n",
            "  \n",
            "\n",
            "<link rel=\"stylesheet\" href=\"https://ssl.pstatic.net/adimg3.search/imp/nx/libs/egjs-flicking/4.4.2/flicking-inline.css\" />\n",
            "<link rel=\"stylesheet\" href=\"https://ssl.pstatic.net/adimg3.search/imp/nx/libs/egjs-flicking-plugins/20220228/flicking-plugins.min.css\">\n",
            "\n",
            "<div class=\"ad_section section\" id=\"_power_link_together_section\" style=\"display: none;\" data-responsive-json=\"{&quot;aq&quot;:0,&quot;ssc&quot;:&quot;tab.nx.all&quot;,&quot;apiUrl&quot;:&quot;https://external-api.impression-neo.naver.com/api/v1/powerLinkForYou/responsive/ads/search&quot;,&quot;requestId&quot;:&quot;iLbHPlprvmsssNKI32sssssstOo-511291&quot;,&quot;query&quot;:&quot;환율&quot;,&quot;channel&quot;:&quot;naver.search.pc.pl.responsive&quot;,&quot;sm&quot;:&quot;top_hty&quot;,&quot;adCreativeIds&quot;:[&quot;nad-a001-01-000000251967139&quot;,&quot;nad-a001-01-000000256444949&quot;,&quot;nad-a001-01-000000251337722&quot;,&quot;nad-a001-01-000000225189855&quot;,&quot;nad-a001-01-000000251532788&quot;,&quot;nad-a001-01-000000255718385&quot;,&quot;nad-a001-01-000000000282219&quot;,&quot;nad-a001-01-000000256163473&quot;,&quot;nad-a001-01-000000229551999&quot;,&quot;nad-a001-01-000000118333622&quot;,&quot;nad-a001-01-000000254464322&quot;,&quot;nad-a001-01-000000010821336&quot;,&quot;nad-a001-01-000000183981412&quot;,&quot;nad-a001-01-000000240373620&quot;]}\">\n",
            "    <div id=\"responsive_root\"></div>\n",
            "    <div class=\"lst_type_v2\" id=\"map_layer\" style=\"display: none;\">\n",
            "        <div class=\"lst\">\n",
            "          <div class=\"ly_map _preview_layer\" style=\"top: 0px !important;\" id=\"_preview_layer\">\n",
            "            <h4 class=\"sp_ad_map m_tit\">위치 미리보기</h4>\n",
            "            <div id=\"map\" class=\"map_area\" width=\"375\" height=\"312\">\n",
            "              <div id=\"map\" style=\"position: relative; overflow: hidden; background: url('https://ssl.pstatic.net/static/maps/mantle/1x/pattern_1.png') 0px 0px repeat transparent; width: 375px; height: 312px;\"></div>\n",
            "              <span class=\"bd\"><span class=\"bd_top\"></span><span class=\"bd_rgt\"></span><span class=\"bd_btm\"></span><span class=\"bd_lft\"></span></span>\n",
            "            </div>\n",
            "            <div class=\"tit_area\">\n",
            "              <div class=\"tit_sec\">\n",
            "                  <h4 class=\"tit\">\n",
            "                      <a target=\"_blank\" id=\"preview_headline\" href=\"\" onclick=\"\" class=\"txt\"></a>\n",
            "                      <a target=\"_blank\" id=\"preview_find_map\" href=\"\" onclick=\"\" class=\"sp_ad_map ico_find_road\">길찾기</a>\n",
            "                  </h4>\n",
            "                  <div class=\"m_url\">\n",
            "                      <a target=\"_blank\" id=\"preview_display_url\" href=\"\" onclick=\"\" class=\"txt\"></a>\n",
            "                  </div>\n",
            "              </div>\n",
            "              <div class=\"info_sec\">\n",
            "                  <div class=\"address\">\n",
            "                      <p class=\"txt\" id=\"preveiw_number_address\"></p>\n",
            "                      <p class=\"txt\">\n",
            "                          <span class=\"sp_ad_map ico_road_name\"><span class=\"blind\">도로명 주소</span></span> <span id=\"preview_road_address\"></span>\n",
            "                      </p>\n",
            "                  </div>\n",
            "                  <div class=\"dsc\"></div>\n",
            "              </div>\n",
            "          </div>\n",
            "            <a href=\"javascript:;\" class=\"sp_ad_mall btn_clse\" id=\"map_btn_clse\" title=\"미리보기 닫기\">닫기</a>\n",
            "            </div>\n",
            "        </div>\n",
            "      </div>\n",
            "</div>\n",
            "\n",
            "\n",
            "  <section class=\"sc_new sp_nnews _prs_nws_all\"> <div class=\"api_subject_bx\"> <div class=\"api_title_area\"> <h2 class=\"api_title\">뉴스</h2> <div class=\"api_title_sub\"> <a href=\"?where=news&query=%ED%99%98%EC%9C%A8&sort=0&sm=tab_smr&nso=so:r,p:all,a:all\" class=\"api_sub_option\" role=\"option\" aria-selected=\"true\" onclick=\"return goOtherCR(this, 'a=nws_all.sortsim&u='+urlencode(this.href));\">관련도순</a> <a href=\"?where=news&query=%ED%99%98%EC%9C%A8&sort=1&sm=tab_smr&nso=so:dd,p:all,a:all\" class=\"api_sub_option\" role=\"option\" onclick=\"return goOtherCR(this, 'a=nws_all.sortdate&u='+urlencode(this.href));\">최신순</a> </div></div><div class=\"group_news\"> <ul class=\"list_news\"> <li class=\"bx\" id=\"sp_nws_all1\"> <div class=\"news_wrap api_ani_send\"> <div class=\"news_area\"> <div class=\"news_info\"> <div class=\"api_save_group _keep_wrap\"> <a href=\"#\" role=\"button\" class=\"btn_save _keep_trigger\" data-url=\"https://www.yna.co.kr/view/PYH20230807141100013?input=1196m\" onclick=\"tCR('a=nws_all*a.kep&r=1&i=880000D8_000000000000000014117147&u=javascript'); return false;\" aria-pressed=\"false\"><i class=\"spnew ico_save\">문서 저장하기</i></a> <div class=\"api_ly_save _keep_save_layer\"> <a href=\"#\" role=\"button\" class=\"spnew_af item item_save _keep_save\" data-cr-on=\"a=nws_all*a.kepon&r=1&i=880000D8_000000000000000014117147&u=javascript\" data-cr-off=\"a=nws_all*a.kepoff&r=1&i=880000D8_000000000000000014117147&u=javascript\">Keep에 저장</a> <a href=\"https://keep.naver.com/\" class=\"spnew_af item item_quick\" target=\"_blank\" onClick=\"return goOtherCR(this,'a=nws_all*a.kephome&r=1&i=880000D8_000000000000000014117147&u='+urlencode(this.href));\">Keep 바로가기</a> </div></div><div class=\"info_group\"> <a href=\"https://www.yna.co.kr/\" class=\"info press\" target=\"_blank\" onclick=\"return goOtherCR(this, 'a=nws_all*a.prof&r=1&i=880000D8_000000000000000014117147&g=001.0014117147&u='+urlencode(this.href));\"><span class=\"thumb_box\"><img src=\"data:image/gif;base64,R0lGODlhAQABAIAAAAAAAP///yH5BAEAAAAALAAAAAABAAEAAAIBRAA7\" data-lazysrc=\"https://search.pstatic.net/common/?src=https%3A%2F%2Fmimgnews.pstatic.net%2Fimage%2Fupload%2Foffice_logo%2F001%2F2017%2F06%2F29%2Flogo_001_18_20170629160329.png&type=f54_54&expire=24&refresh=true\" alt=\"\" width=\"20\" height=\"20\" class=\"thumb\" onError=\"this.src='data:image/gif;base64,R0lGODlhAQABAIAAAAAAAP///yH5BAEAAAAALAAAAAABAAEAAAIBRAA7';this.className='thumb bg_default_press'\"></span>연합뉴스</a><span class=\"info\">20시간 전</span><a href=\"https://n.news.naver.com/mnews/article/001/0014117147?sid=101\" class=\"info\" target=\"_blank\" onclick=\"return goOtherCR(this, 'a=nws_all*a.nav&r=1&i=880000D8_000000000000000014117147&u='+urlencode(this.href));\">네이버뉴스</a> </div></div><a href=\"https://www.yna.co.kr/view/PYH20230807141100013?input=1196m\" class=\"news_tit\" target=\"_blank\" onclick=\"return goOtherCR(this, 'a=nws_all*a.tit&r=1&i=880000D8_000000000000000014117147&g=001.0014117147&u='+urlencode(this.href));\" title=\"환율 하락\"><mark>환율</mark> 하락</a> <div class=\"news_dsc\"> <div class=\"dsc_wrap\"> <a href=\"https://www.yna.co.kr/view/PYH20230807141100013?input=1196m\" class=\"api_txt_lines dsc_txt_wrap\" target=\"_blank\" onclick=\"return goOtherCR(this, 'a=nws_all*a.body&r=1&i=880000D8_000000000000000014117147&g=001.0014117147&u='+urlencode(this.href));\">7일 명동 하나은행 딜링룸 전광판에 원/달러 <mark>환율</mark> 종가가 표시돼 있다. 이날 코스피는 전장보다 22.... 22로 마쳤다. 서울 외환시장에서 달러 대비 원화 <mark>환율</mark>은 3.6원 내린 1,306.2원에서 마감했다. 2023.8.7</a> </div></div></div><a href=\"https://www.yna.co.kr/view/PYH20230807141100013?input=1196m\" class=\"dsc_thumb \" target=\"_blank\" onclick=\"return goOtherCR(this, 'a=nws_all*a.img&r=1&i=880000D8_000000000000000014117147&g=001.0014117147&u='+urlencode(this.href));\"><img src=\"data:image/gif;base64,R0lGODlhAQABAIAAAAAAAP///yH5BAEAAAAALAAAAAABAAEAAAIBRAA7\" data-lazysrc=\"https://search.pstatic.net/common/?src=https%3A%2F%2Fimgnews.pstatic.net%2Fimage%2Forigin%2F001%2F2023%2F08%2F07%2F14117147.jpg&type=ff264_180&expire=2&refresh=true\" width=\"132\" height=\"90\" alt=\"환율 하락\" class=\"thumb api_get\" onerror=\"this.parentNode.style.display='none';\"></a> </div><div class=\"news_cluster\"> <ul class=\"list_cluster\"> <li class=\"sub_bx\"> <span class=\"sub_wrap\"> <span class=\"sub_area\"> <cite class=\"sub_txt press\" title=\"뉴스1\">뉴스1</cite><span class=\"sub_txt\">20시간 전</span><a href=\"https://n.news.naver.com/mnews/article/421/0006976372?sid=101\" class=\"sub_txt\" target=\"_blank\" onclick=\"return goOtherCR(this, 'a=nws_all*c.nav&r=2&i=08138263_000000000000000006976372&u='+urlencode(this.href));\">네이버뉴스</a> </span><a href=\"https://www.news1.kr/photos/view/?6146069\" class=\"elss sub_tit\" target=\"_blank\" onclick=\"return goOtherCR(this, 'a=nws_all*c.tit&r=2&i=08138263_000000000000000006976372&g=421.0006976372&u='+urlencode(this.href));\" title=\"코스피·코스닥 하락 마감 &#39;원 달러 환율 1306.2원&#39;\">코스피·코스닥 하락 마감 '원 달러 <mark>환율</mark> 1306.2원'</a> </span></li> <li class=\"sub_bx\"> <span class=\"sub_wrap\"> <span class=\"sub_area\"> <cite class=\"sub_txt press\" title=\"디지털타임스\">디지털타임스</cite><span class=\"sub_txt\">20시간 전</span><a href=\"https://n.news.naver.com/mnews/article/029/0002818067?sid=101\" class=\"sub_txt\" target=\"_blank\" onclick=\"return goOtherCR(this, 'a=nws_all*c.nav&r=3&i=880000AD_000000000000000002818067&u='+urlencode(this.href));\">네이버뉴스</a> </span><a href=\"https://www.dt.co.kr/contents.html?article_no=2023080702109919666001&ref=naver\" class=\"elss sub_tit\" target=\"_blank\" onclick=\"return goOtherCR(this, 'a=nws_all*c.tit&r=3&i=880000AD_000000000000000002818067&g=029.0002818067&u='+urlencode(this.href));\" title=\"[포토] 코스피-원·달러 환율 하락 마감\">[포토] 코스피-원·달러 <mark>환율</mark> 하락 마감</a> </span></li> </ul></div><a href=\"?where=news&sm=tab_tnw&query=%ED%99%98%EC%9C%A8&nso=so:r,p:all,a:all&related=1&docid=0010014117147\" class=\"news_more\" onclick=\"return goOtherCR(this, 'a=nws_all*r.more&u='+urlencode(urlexpand(this.href)));\">관련뉴스 전체보기<i class=\"spnew ico_arrow\"></i></a> </li> <li class=\"bx\" id=\"sp_nws_all4\"> <div class=\"news_wrap api_ani_send\"> <div class=\"news_area\"> <div class=\"news_info\"> <div class=\"api_save_group _keep_wrap\"> <a href=\"#\" role=\"button\" class=\"btn_save _keep_trigger\" data-url=\"https://www.dnews.co.kr/uhtml/view.jsp?idxno=202308081133252360557\" onclick=\"tCR('a=nws_all*b.kep&r=4&i=88105698_000000000000000000476524&u=javascript'); return false;\" aria-pressed=\"false\"><i class=\"spnew ico_save\">문서 저장하기</i></a> <div class=\"api_ly_save _keep_save_layer\"> <a href=\"#\" role=\"button\" class=\"spnew_af item item_save _keep_save\" data-cr-on=\"a=nws_all*b.kepon&r=4&i=88105698_000000000000000000476524&u=javascript\" data-cr-off=\"a=nws_all*b.kepoff&r=4&i=88105698_000000000000000000476524&u=javascript\">Keep에 저장</a> <a href=\"https://keep.naver.com/\" class=\"spnew_af item item_quick\" target=\"_blank\" onClick=\"return goOtherCR(this,'a=nws_all*b.kephome&r=4&i=88105698_000000000000000000476524&u='+urlencode(this.href));\">Keep 바로가기</a> </div></div><div class=\"info_group\"> <a href=\"http://www.cnews.co.kr\" class=\"info press\" target=\"_blank\" onclick=\"return goOtherCR(this, 'a=nws_all*b.prof&r=4&i=88105698_000000000000000000476524&g=5138.0000476524&u='+urlencode(this.href));\"><span class=\"thumb_box\"><img src=\"data:image/gif;base64,R0lGODlhAQABAIAAAAAAAP///yH5BAEAAAAALAAAAAABAAEAAAIBRAA7\" data-lazysrc=\"https://search.pstatic.net/common/?src=http%3A%2F%2Fwww.cnews.co.kr%2Fuhtml%2Fimages%2Ffavicon.ico&type=f54_54&expire=24&refresh=true\" alt=\"\" width=\"20\" height=\"20\" class=\"thumb\" onError=\"this.src='data:image/gif;base64,R0lGODlhAQABAIAAAAAAAP///yH5BAEAAAAALAAAAAABAAEAAAIBRAA7';this.className='thumb bg_default_press'\"></span>대한경제</a><span class=\"info\">39분 전</span> </div></div><a href=\"https://www.dnews.co.kr/uhtml/view.jsp?idxno=202308081133252360557\" class=\"news_tit\" target=\"_blank\" onclick=\"return goOtherCR(this, 'a=nws_all*b.tit&r=4&i=88105698_000000000000000000476524&g=5138.0000476524&u='+urlencode(this.href));\" title=\"KB국민카드 “8월, 1달러당 1000원 고정환율 적용”\">KB국민카드 “8월, 1달러당 1000원 고정<mark>환율</mark> 적용”</a> <div class=\"news_dsc\"> <div class=\"dsc_wrap\"> <a href=\"https://www.dnews.co.kr/uhtml/view.jsp?idxno=202308081133252360557\" class=\"api_txt_lines dsc_txt_wrap\" target=\"_blank\" onclick=\"return goOtherCR(this, 'a=nws_all*b.body&r=4&i=88105698_000000000000000000476524&g=5138.0000476524&u='+urlencode(this.href));\">도움되도록 <mark>환율</mark>을 책임진다고 8일 밝혔다.KB Pay 앱에서 응모하고 해외 가맹점에서 해당 월 40만원 이상 이용하면, 미화 1달러를 1000원 고정<mark>환율</mark>로 적용해 <mark>환율</mark> 차액을 최대 2만 포인트리까지 제공한다. KB국민카드는...</a> </div></div></div><a href=\"https://www.dnews.co.kr/uhtml/view.jsp?idxno=202308081133252360557\" class=\"dsc_thumb \" target=\"_blank\" onclick=\"return goOtherCR(this, 'a=nws_all*b.img&r=4&i=88105698_000000000000000000476524&g=5138.0000476524&u='+urlencode(this.href));\"><img src=\"data:image/gif;base64,R0lGODlhAQABAIAAAAAAAP///yH5BAEAAAAALAAAAAABAAEAAAIBRAA7\" data-lazysrc=\"https://search.pstatic.net/common/?src=https%3A%2F%2Fimgnews.pstatic.net%2Fimage%2Forigin%2F5138%2F2023%2F08%2F08%2F476524.jpg&type=ff264_180&expire=2&refresh=true\" width=\"132\" height=\"90\" alt=\"KB국민카드 “8월, 1달\" class=\"thumb api_get\" onerror=\"this.parentNode.style.display='none';\"></a> </div><div class=\"news_cluster\"> <ul class=\"list_cluster\"> <li class=\"sub_bx\"> <span class=\"sub_wrap\"> <span class=\"sub_area\"> <cite class=\"sub_txt press\" title=\"데일리한국\">데일리한국</cite><span class=\"sub_txt\">2시간 전</span> </span><a href=\"https://daily.hankooki.com/news/articleView.html?idxno=986715\" class=\"elss sub_tit\" target=\"_blank\" onclick=\"return goOtherCR(this, 'a=nws_all*d.tit&r=5&i=88155e6a_000000000000000000521811&g=5358.0000521811&u='+urlencode(this.href));\" title=\"KB국민카드, &#39;환율&#39; 등 해외 여행 꿀팁 소개\">KB국민카드, '<mark>환율</mark>' 등 해외 여행 꿀팁 소개</a> </span></li> <li class=\"sub_bx\"> <span class=\"sub_wrap\"> <span class=\"sub_area\"> <cite class=\"sub_txt press\" title=\"EBN\">EBN</cite><span class=\"sub_txt\">2시간 전</span> </span><a href=\"https://www.ebn.co.kr/news/view/1587926/?sc=Naver\" class=\"elss sub_tit\" target=\"_blank\" onclick=\"return goOtherCR(this, 'a=nws_all*d.tit&r=6&i=880000A8_000000000000000000561948&g=5093.0000561948&u='+urlencode(this.href));\" title=\"KB국민카드, 해외 결제시 1달러=1천원 고정환율 적용\">KB국민카드, 해외 결제시 1달러=1천원 고정<mark>환율</mark> 적용</a> </span></li> </ul></div><a href=\"?where=news&sm=tab_tnw&query=%ED%99%98%EC%9C%A8&nso=so:r,p:all,a:all&related=1&docid=51380000476524\" class=\"news_more\" onclick=\"return goOtherCR(this, 'a=nws_all*r.more&u='+urlencode(urlexpand(this.href)));\">관련뉴스 전체보기<i class=\"spnew ico_arrow\"></i></a> </li> <li class=\"bx\" id=\"sp_nws_all7\"> <div class=\"news_wrap api_ani_send\"> <div class=\"news_area\"> <div class=\"news_info\"> <div class=\"api_save_group _keep_wrap\"> <a href=\"#\" role=\"button\" class=\"btn_save _keep_trigger\" data-url=\"http://www.newsis.com/view/?id=NISI20230808_0019988543\" onclick=\"tCR('a=nws_all*a.kep&r=7&i=88000127_000000000000000012018840&u=javascript'); return false;\" aria-pressed=\"false\"><i class=\"spnew ico_save\">문서 저장하기</i></a> <div class=\"api_ly_save _keep_save_layer\"> <a href=\"#\" role=\"button\" class=\"spnew_af item item_save _keep_save\" data-cr-on=\"a=nws_all*a.kepon&r=7&i=88000127_000000000000000012018840&u=javascript\" data-cr-off=\"a=nws_all*a.kepoff&r=7&i=88000127_000000000000000012018840&u=javascript\">Keep에 저장</a> <a href=\"https://keep.naver.com/\" class=\"spnew_af item item_quick\" target=\"_blank\" onClick=\"return goOtherCR(this,'a=nws_all*a.kephome&r=7&i=88000127_000000000000000012018840&u='+urlencode(this.href));\">Keep 바로가기</a> </div></div><div class=\"info_group\"> <a href=\"http://www.newsis.com\" class=\"info press\" target=\"_blank\" onclick=\"return goOtherCR(this, 'a=nws_all*a.prof&r=7&i=88000127_000000000000000012018840&g=003.0012018840&u='+urlencode(this.href));\"><span class=\"thumb_box\"><img src=\"data:image/gif;base64,R0lGODlhAQABAIAAAAAAAP///yH5BAEAAAAALAAAAAABAAEAAAIBRAA7\" data-lazysrc=\"https://search.pstatic.net/common/?src=https%3A%2F%2Fmimgnews.pstatic.net%2Fimage%2Fupload%2Foffice_logo%2F003%2F2019%2F02%2F19%2Flogo_003_18_20190219111719.jpg&type=f54_54&expire=24&refresh=true\" alt=\"\" width=\"20\" height=\"20\" class=\"thumb\" onError=\"this.src='data:image/gif;base64,R0lGODlhAQABAIAAAAAAAP///yH5BAEAAAAALAAAAAABAAEAAAIBRAA7';this.className='thumb bg_default_press'\"></span>뉴시스</a><span class=\"info\">2시간 전</span><a href=\"https://n.news.naver.com/mnews/article/003/0012018840?sid=101\" class=\"info\" target=\"_blank\" onclick=\"return goOtherCR(this, 'a=nws_all*a.nav&r=7&i=88000127_000000000000000012018840&u='+urlencode(this.href));\">네이버뉴스</a> </div></div><a href=\"http://www.newsis.com/view/?id=NISI20230808_0019988543\" class=\"news_tit\" target=\"_blank\" onclick=\"return goOtherCR(this, 'a=nws_all*a.tit&r=7&i=88000127_000000000000000012018840&g=003.0012018840&u='+urlencode(this.href));\" title=\"원·달러 환율 상승 출발\">원·달러 <mark>환율</mark> 상승 출발</a> <div class=\"news_dsc\"> <div class=\"dsc_wrap\"> <a href=\"http://www.newsis.com/view/?id=NISI20230808_0019988543\" class=\"api_txt_lines dsc_txt_wrap\" target=\"_blank\" onclick=\"return goOtherCR(this, 'a=nws_all*a.body&r=7&i=88000127_000000000000000012018840&g=003.0012018840&u='+urlencode(this.href));\">서울 외환시장에서 원·달러 <mark>환율</mark>은 전 거래일(1306.2원)보다 0.3원 오른 1306.5원에 출발했으나 보합권에서 움직이고 있다.. 2023.08.08. ks@newsis.com 공감언론 뉴시스가 독자 여러분의 소중한 제보를 기다립니다....</a> </div></div></div><a href=\"http://www.newsis.com/view/?id=NISI20230808_0019988543\" class=\"dsc_thumb \" target=\"_blank\" onclick=\"return goOtherCR(this, 'a=nws_all*a.img&r=7&i=88000127_000000000000000012018840&g=003.0012018840&u='+urlencode(this.href));\"><img src=\"data:image/gif;base64,R0lGODlhAQABAIAAAAAAAP///yH5BAEAAAAALAAAAAABAAEAAAIBRAA7\" data-lazysrc=\"https://search.pstatic.net/common/?src=https%3A%2F%2Fimgnews.pstatic.net%2Fimage%2Forigin%2F003%2F2023%2F08%2F08%2F12018840.jpg&type=ff264_180&expire=2&refresh=true\" width=\"132\" height=\"90\" alt=\"원·달러 환율 상승 출\" class=\"thumb api_get\" onerror=\"this.parentNode.style.display='none';\"></a> </div><div class=\"news_cluster\"> <ul class=\"list_cluster\"> <li class=\"sub_bx\"> <span class=\"sub_wrap\"> <span class=\"sub_area\"> <cite class=\"sub_txt press\" title=\"뉴시스\">뉴시스</cite><span class=\"sub_txt\">3시간 전</span><a href=\"https://n.news.naver.com/mnews/article/003/0012018675?sid=101\" class=\"sub_txt\" target=\"_blank\" onclick=\"return goOtherCR(this, 'a=nws_all*c.nav&r=8&i=88000127_000000000000000012018675&u='+urlencode(this.href));\">네이버뉴스</a> </span><a href=\"http://www.newsis.com/view/?id=NISX20230808_0002405865&cID=10403&pID=15000\" class=\"elss sub_tit\" target=\"_blank\" onclick=\"return goOtherCR(this, 'a=nws_all*c.tit&r=8&i=88000127_000000000000000012018675&g=003.0012018675&u='+urlencode(this.href));\" title=\"코스피 2598.29(▲0.68%), 코스닥 901.76(▲0.39%), 원·달러 환율 1306.5원(▲0.3원) 개장[시황]\">코스피 2598.29(▲0.68%), 코스닥 901.76(▲0.39%), 원·달러 <mark>환율</mark> 1306.5원(...</a> </span></li> </ul></div></li> <li class=\"bx\" id=\"sp_nws_all9\"> <div class=\"news_wrap api_ani_send\"> <div class=\"news_area\"> <div class=\"news_info\"> <div class=\"api_save_group _keep_wrap\"> <a href=\"#\" role=\"button\" class=\"btn_save _keep_trigger\" data-url=\"https://www.hellot.net/news/article.html?no=80767\" onclick=\"tCR('a=nws_all*b.kep&r=9&i=88166537_000000000000000000046284&u=javascript'); return false;\" aria-pressed=\"false\"><i class=\"spnew ico_save\">문서 저장하기</i></a> <div class=\"api_ly_save _keep_save_layer\"> <a href=\"#\" role=\"button\" class=\"spnew_af item item_save _keep_save\" data-cr-on=\"a=nws_all*b.kepon&r=9&i=88166537_000000000000000000046284&u=javascript\" data-cr-off=\"a=nws_all*b.kepoff&r=9&i=88166537_000000000000000000046284&u=javascript\">Keep에 저장</a> <a href=\"https://keep.naver.com/\" class=\"spnew_af item item_quick\" target=\"_blank\" onClick=\"return goOtherCR(this,'a=nws_all*b.kephome&r=9&i=88166537_000000000000000000046284&u='+urlencode(this.href));\">Keep 바로가기</a> </div></div><div class=\"info_group\"> <a href=\"http://www.hellot.net\" class=\"info press\" target=\"_blank\" onclick=\"return goOtherCR(this, 'a=nws_all*b.prof&r=9&i=88166537_000000000000000000046284&g=5417.0000046284&u='+urlencode(this.href));\"><span class=\"thumb_box\"><img src=\"data:image/gif;base64,R0lGODlhAQABAIAAAAAAAP///yH5BAEAAAAALAAAAAABAAEAAAIBRAA7\" data-lazysrc=\"https://search.pstatic.net/common/?src=https%3A%2F%2Fhellot.net%2Fdata%2Fskin%2Flayout%2F1%2Fm14%2Fimages%2Ffavicon.ico&type=f54_54&expire=24&refresh=true\" alt=\"\" width=\"20\" height=\"20\" class=\"thumb\" onError=\"this.src='data:image/gif;base64,R0lGODlhAQABAIAAAAAAAP///yH5BAEAAAAALAAAAAABAAEAAAIBRAA7';this.className='thumb bg_default_press'\"></span>헬로티</a><span class=\"info\">3시간 전</span> </div></div><a href=\"https://www.hellot.net/news/article.html?no=80767\" class=\"news_tit\" target=\"_blank\" onclick=\"return goOtherCR(this, 'a=nws_all*b.tit&r=9&i=88166537_000000000000000000046284&g=5417.0000046284&u='+urlencode(this.href));\" title=\"원/달러 환율, 장 초반 보합세...1300원대\">원/달러 <mark>환율</mark>, 장 초반 보합세...1300원대</a> <div class=\"news_dsc\"> <div class=\"dsc_wrap\"> <a href=\"https://www.hellot.net/news/article.html?no=80767\" class=\"api_txt_lines dsc_txt_wrap\" target=\"_blank\" onclick=\"return goOtherCR(this, 'a=nws_all*b.body&r=9&i=88166537_000000000000000000046284&g=5417.0000046284&u='+urlencode(this.href));\">8일 원/달러 <mark>환율</mark>은 장 초반 보합권에서 움직이고 있다. 이날 서울 외환시장에서 오전 9시 17분 현재 달러 대비 원화 <mark>환율</mark>은 전날보다 0.5원 상승한 1306.7원이다. <mark>환율</mark>은 0.3원 오른 1306.5원에 개장한 뒤 제한적으로...</a> </div></div></div><a href=\"https://www.hellot.net/news/article.html?no=80767\" class=\"dsc_thumb \" target=\"_blank\" onclick=\"return goOtherCR(this, 'a=nws_all*b.img&r=9&i=88166537_000000000000000000046284&g=5417.0000046284&u='+urlencode(this.href));\"><img src=\"data:image/gif;base64,R0lGODlhAQABAIAAAAAAAP///yH5BAEAAAAALAAAAAABAAEAAAIBRAA7\" data-lazysrc=\"https://search.pstatic.net/common/?src=https%3A%2F%2Fimgnews.pstatic.net%2Fimage%2Forigin%2F5417%2F2023%2F08%2F08%2F46284.jpg&type=ofullfill264_180_gray&expire=2&refresh=true\" width=\"132\" height=\"90\" alt=\"원/달러 환율, 장 초반\" class=\"thumb api_get\" onerror=\"this.parentNode.style.display='none';\"></a> </div><div class=\"news_cluster\"> <ul class=\"list_cluster\"> <li class=\"sub_bx\"> <span class=\"sub_wrap\"> <span class=\"sub_area\"> <cite class=\"sub_txt press\" title=\"연합뉴스\">연합뉴스</cite><span class=\"sub_txt\">3시간 전</span><a href=\"https://n.news.naver.com/mnews/article/001/0014117935?sid=101\" class=\"sub_txt\" target=\"_blank\" onclick=\"return goOtherCR(this, 'a=nws_all*c.nav&r=10&i=880000D8_000000000000000014117935&u='+urlencode(this.href));\">네이버뉴스</a> </span><a href=\"https://www.yna.co.kr/view/AKR20230808040400002?input=1195m\" class=\"elss sub_tit\" target=\"_blank\" onclick=\"return goOtherCR(this, 'a=nws_all*c.tit&r=10&i=880000D8_000000000000000014117935&g=001.0014117935&u='+urlencode(this.href));\" title=\"원/달러 환율, 장 초반 보합세…1,300원대\">원/달러 <mark>환율</mark>, 장 초반 보합세…1,300원대</a> </span></li> </ul></div></li> </ul></div><div class=\"api_more_wrap\"> <a href=\"?where=news&query=%ED%99%98%EC%9C%A8&sm=tab_tmr&nso=so:r,p:all,a:all&sort=0\" class=\"api_more\" onclick=\"return goOtherCR(this, 'a=nws_all.more&r=0&i=0&u='+urlencode(this.href));\">뉴스 더보기<i class=\"spnew ico_arr\"></i></a> </div> </div></section> <section class=\"sc_new sp_ntotal _sp_ntotal _prs_sit_4po _fe_root_sit_4po\"><div class=\"api_subject_bx type_noline\"><ul class=\"lst_total\"><li class=\"bx\"><div class=\"total_wrap api_ani_send\"><div class=\"api_save_group _keep_wrap\"><a href=\"#\" role=\"button\" class=\"btn_save _keep_trigger\" data-url=\"https://finance.naver.com/marketindex/\" onclick='tCR(\"a=sit_4po.kep&amp;r=&amp;i=&amp;u=javascript\")'><i class=\"spnew ico_save\">문서 저장하기</i></a><div class=\"api_ly_save _keep_save_layer\"><a href=\"#\" role=\"button\" class=\"spnew_af item item_save _keep_save\" data-cr-on=\"a=sit_4po.keepon\" data-cr-off=\"a=sit_4po.keepoff\">Keep에 저장</a>\n",
            "<a target=\"_blank\" href=\"https://keep.naver.com/\" class=\"spnew_af item item_quick\" onclick='goOtherCR(this,\"a=sit_4po.kep&amp;r=0&amp;i=a00000fa_60e021f8e843c32168c97744&amp;u=\"+urlencode(this.href))'>Keep 바로가기</a></div></div><div class=\"total_source_group\"><div class=\"total_source\"><div class=\"source_box\"><a target=\"_blank\" href=\"https://finance.naver.com/marketindex/\" class=\"thumb\" onclick='goOtherCR(this,\"a=sit_4po*e.link&amp;r=0&amp;i=a00000fa_60e021f8e843c32168c97744&amp;u=\"+urlencode(this.href))'><img src=\"https://search.pstatic.net/sunny?src=https%3A%2F%2Fssl.pstatic.net%2Fimgstock%2Ffavi%2Ffavicon-192x192.png&amp;type=f30_30_png_expire24\" width=\"15\" height=\"15\" alt></a>\n",
            "<a target=\"_blank\" href=\"https://finance.naver.com/marketindex/\" class=\"txt elss\" onclick='goOtherCR(this,\"a=sit_4po*e.link&amp;r=0&amp;i=a00000fa_60e021f8e843c32168c97744&amp;u=\"+urlencode(this.href))'>finance.naver.com<i class=\"divide\">›</i>marketindex</a></div></div></div><div class=\"total_group\"><div class=\"total_dsc_wrap\"><a target=\"_blank\" href=\"https://finance.naver.com/marketindex/\" class=\"total_thumb\" onclick='goOtherCR(this,\"a=sit_4po*G.image&amp;r=0&amp;i=a00000fa_60e021f8e843c32168c97744&amp;u=\"+urlencode(this.href))'><img src=\"https://search.pstatic.net/sunny?src=https%3A%2F%2Fssl.pstatic.net%2Fimgfinance%2Fchart%2Fmarketindex%2FFX_USDKRW.png&amp;type=fff264_180\" width=\"132\" height=\"90\" alt class=\"img api_get\" onerror='this.src=\"data:image/gif;base64,R0lGODlhAQABAIAAAAAAAP///yH5BAEAAAAALAAAAAABAAEAAAIBRAA7\",this.className=\"img bg_nimg\"'></a><div class=\"total_tit_box\"><div class=\"total_tit\"><a target=\"_blank\" href=\"https://finance.naver.com/marketindex/\" class=\"link_tit\" onclick='goOtherCR(this,\"a=sit_4po*e.link&amp;r=0&amp;i=a00000fa_60e021f8e843c32168c97744&amp;u=\"+urlencode(this.href))'><mark>환율</mark> - 네이버 금융</a></div></div><div class=\"group_item\"><ul class=\"list_item\"><li class=\"item\"><a target=\"_blank\" href=\"https://finance.naver.com/marketindex/?tabSel=exchange\" onclick='goOtherCR(this,\"a=sit_4po*b.sublink&amp;r=0&amp;i=a00000fa_60e021f8e843c32168c97744&amp;u=\"+urlencode(this.href))'>환전고시 <mark>환율</mark></a></li><li class=\"item\"><a target=\"_blank\" href=\"https://finance.naver.com/marketindex/?tabSel=materials\" onclick='goOtherCR(this,\"a=sit_4po*b.sublink&amp;r=0&amp;i=a00000fa_60e021f8e843c32168c97744&amp;u=\"+urlencode(this.href))'>원자재</a></li><li class=\"item\"><a target=\"_blank\" href=\"https://finance.naver.com/marketindex/?tabSel=gold\" onclick='goOtherCR(this,\"a=sit_4po*b.sublink&amp;r=0&amp;i=a00000fa_60e021f8e843c32168c97744&amp;u=\"+urlencode(this.href))'>유가 금시세</a></li><li class=\"item\"><a target=\"_blank\" href=\"https://finance.naver.com/marketindex/?tabSel=worldExchange\" onclick='goOtherCR(this,\"a=sit_4po*b.sublink&amp;r=0&amp;i=a00000fa_60e021f8e843c32168c97744&amp;u=\"+urlencode(this.href))'>국제시장 <mark>환율</mark></a></li></ul></div><a target=\"_blank\" href=\"https://finance.naver.com/marketindex/\" class=\"total_dsc\" onclick='goOtherCR(this,\"a=sit_4po*e.link&amp;r=0&amp;i=a00000fa_60e021f8e843c32168c97744&amp;u=\"+urlencode(this.href))'><div class=\"api_txt_lines dsc_txt\">국내 해외 증시 지수, 시장지표, 뉴스, 증권사 리서치 등 제공 ... 환전 고시 <mark>환율</mark> 1,300.00 9.50 2023.08.02 23:40하나은행 기준 고시회차571회 906.40 6.00 1,423.18 8.02 180.57 0.84 국제 시장 <mark>환율</mark> 143.3600 0.0900 2023.08.02모닝스타 기준 1.0926 0.0051 1.2685 0.0074 102.0800 0.4600 유가·금시세 81.37 0.43 2023.08.01NYMEX(뉴욕상업거래소) 기준 1649.03 10.80 1978.8 30.40 81306.23 458.32 <mark>환율</mark> 주요뉴스 '미 신용등급 강등' 아시아·유럽 증시 동 08.03 01:45 미국 신용등급 강등 여파…<mark>환율</mark> 급등·주</div></a></div></div></div><div class=\"source_cluster_wrap\"><div class=\"source_cluster_list\"><div class=\"source_item api_ani_send\"><a target=\"_blank\" href=\"https://finance.naver.com/marketindex/exchangeDetail.nhn?marketindexCd=FX_USDKRW\" class=\"source_thumb\" onclick='goOtherCR(this,\"a=sit_4po*l.link&amp;r=1&amp;i=a00000fa_0da53882c42a6639235724db&amp;u=\"+urlencode(this.href))'><img src=\"https://search.pstatic.net/sunny?src=https%3A%2F%2Fssl.pstatic.net%2Fimgfinance%2Fchart%2Fmarketindex%2Farea%2Fmonth3%2FFX_USDKRW.png&amp;type=fff174_174\" class=\"api_get\" width=\"36\" height=\"36\" alt onerror='this.src=\"data:image/gif;base64,R0lGODlhAQABAIAAAAAAAP///yH5BAEAAAAALAAAAAABAAEAAAIBRAA7\",this.className=\"img bg_nimg\"'>\n",
            "</a><a target=\"_blank\" href=\"https://finance.naver.com/marketindex/exchangeDetail.nhn?marketindexCd=FX_USDKRW\" class=\"source_title\" onclick='goOtherCR(this,\"a=sit_4po*l.link&amp;r=1&amp;i=a00000fa_0da53882c42a6639235724db&amp;u=\"+urlencode(this.href))'>미국 달러 : 네이버 증권</a><div class=\"source_dsc\">미국 달러 기준 1,309.50 6,547.50 13,095.00 65,475.00 130,950.00 327,375.00 654,750.00</div></div></div></div><div class=\"total_more_wrap\"><a href=\"?query=%ED%99%98%EC%9C%A8+site%3Afinance.naver.com&amp;where=web\" class=\"total_more\" onclick='goOtherCR(this,\"a=sit_4po*l.more&amp;r=&amp;i=&amp;u=\"+urlencode(this.href))'>관련문서 더보기<i class=\"spnew api_ico_arr4\"></i></a></div></li></ul></div></section><script>(function(){var e=\"https://ssl.pstatic.net/sstatic/fe/sfe/commonPortal/pc/Controller_221213a.js\",t=function(){var t=window.require.config({paths:{Controller:e.replace(/\\.js$/,\"\")}});define(\"jquery\",[],function(){return jQuery}),t([\"Controller\"],function(e){var t=jQuery(\"._fe_root_sit_4po\"),n=new e(t);n.on({\"tab-scroll\":function(e){e.isTrusted},\"content-scroll\":function(e){e.isTrusted},\"click-infolayer-trigger-button\":function(e){e.isOn}})})},n=naver.common.gv.REQUIRE_JS;naver.common.load_js(window.require?null:n,t,!0,150)})()</script><script>(function(){var e=\"https://ssl.pstatic.net/sstatic/fe/sfe/channel/pc/Channel_230615.js\",t=function(){var t=window.require.config({context:\"_pc_project_channel\",paths:{Channel:e.replace(/\\.js$/,\"\")}});define(\"jquery\",[],function(){return jQuery}),t([\"Channel\"],function(e){var t=jQuery(\"._fe_root_sit_4po\");new e(t).on(\"moveEnd\",function(){tCR(\"a=sit_4po*s.nflicking&r=&i=&u=javascript\")})})},n=\"https://ssl.pstatic.net/sstatic/au/module/requirejs/require-2.3.5.js\";nhn.common.load_js(window.require?null:n,t,!0,150)})()</script><script>(function(){var e,n=\"_sp_ntotal\",s=\"type_margin\",t=Array.prototype.slice.call(document.querySelectorAll(\"section.\"+n));function o(e,t){return e.matches?e.matches(t):!!e.msMatchesSelector&&e.msMatchesSelector(t)}function i(e){var t=e,s=t.tagName.toLowerCase();do t=t.previousElementSibling,s=t?t.tagName.toLowerCase():\"\";while(t!==null&&(s===\"script\"||s===\"link\"))return t!==null&&s===\"section\"&&o(t,\".\"+n)}for(e=0;e<t.length;++e)i(t[e])&&t[e].classList.add(s)})()</script><link rel=\"stylesheet\" type=\"text/css\" href=\"https://ssl.pstatic.net/sstatic/search/pc/css/sp_intent_block_230727.css\" /> <section class=\"sc_new sp_intent_block\"> <div class=\"api_subject_bx\"> <div class=\"intent_popular_wrap _fe_intent_popular_conveyer_root\"> <div class=\"popular_header\"> <div class=\"title_area\"> <span class=\"etc\">'환율' 관련</span> <strong class=\"title\">인기 주제 둘러보기</strong> </div> <a target=\"_blank\" href=\"https://s.search.naver.com/p/intentblock/search.naver?nlu_query=%7B%22v%22%3A%223%22%2C%22intentblock%22%3A%221%22%2C%22qid%22%3A%22%ED%99%98%EC%9C%A8%22%2C%22nquery%22%3A%22%ED%99%98%EC%9C%A8%22%7D&query=%ED%99%98%EC%9C%A8&sqs=&where=nx_blocks_bridge\" class=\"link _btn_bottomsheet\" onclick=\"goOtherCR(this, 'a=itb_bas*0.allblock&r=&i=&g=&u='+urlencode(this.href));\">모두 보기</a> </div> <div class=\"api_pcpg_wrap\"> <div class=\"api_flicking_wrap group_popular_block type_load _au_conveyer_container\" style=\"height: 184px;\"> <div class=\"flick_bx\"> <a target=\"_blank\" href=\"https://s.search.naver.com/p/intentblock/search.naver?ac=0&aq=0&bid=SYS-0000000025532065&display=10&lgl_lat=37.517675&lgl_long=126.7271995&lgl_rcode=11237106&ngn_country=KR&nlu_query=%7B%22v%22%3A%223%22%2C%22intentblock%22%3A%221%22%2C%22qid%22%3A%22%ED%99%98%EC%9C%A8%22%2C%22nquery%22%3A%22%ED%99%98%EC%9C%A8%22%7D&query=%ED%99%98%EC%9C%A8&sqs=&ssc=tab.itb.all&start=1&where=nx_bridge\" class=\"popular_block_wrap type_bg1\" onclick=\"goOtherCR(this, 'a=itb_bas*0.block&r=1&i=SYS-0000000025532065&g=%7B%22bid%22%3A%22SYS-0000000025532065%22%7D&u='+urlencode(this.href));\"> <div class=\"user_wrap\"> <div class=\"thumb_area\"> <div class=\"thumb\"> <div class=\"inner\"><img src=\"data:image/gif;base64,R0lGODlhAQABAIAAAAAAAP///yH5BAEAAAAALAAAAAABAAEAAAIBRAA7\" data-lazysrc=\"https://search.pstatic.net/common/?src=http%3A%2F%2Fblogfiles.naver.net%2FMjAyMzA2MThfMjU3%2FMDAxNjg3MDE0MjgzMzU3.CfRjy8FoCn3AQ7CFK4pq56fyK1-izI-9DzgmfdiKHRAg.Gh8iWbyZ1Oo_1GiCYGnWlCiUnV16A_iA1_B_MbbiAkMg.PNG.onosaka_sy%2F%25BF%25F8%25B4%25DE%25B7%25AF%25C8%25AF%25C0%25B2_%25C7%25D1%25B9%25CC%25B1%25DD%25B8%25AE%25C2%25F7.png%232000x2000&type=f210_208\" data-img-alias=\"intent-popular\" width=\"105\" height=\"96\" alt=\"\" class=\"img\" onerror=\"this.src='data:image/gif;base64,R0lGODlhAQABAIAAAAAAAP///yH5BAEAAAAALAAAAAABAAEAAAIBRAA7';this.className='img bg_nimg2'\"></div> </div> <div class=\"user_thumb\"> <span class=\"user\"><img src=\"data:image/gif;base64,R0lGODlhAQABAIAAAAAAAP///yH5BAEAAAAALAAAAAABAAEAAAIBRAA7\" data-lazysrc=\"https://search.pstatic.net/common/?src=http%3A%2F%2Fblogpfthumb.phinf.naver.net%2FMjAyMTA0MjhfMjcy%2FMDAxNjE5NTU4NzM2Mzky.ARKDnDdUvbLvWNByRP6DZjGpggn_NzbP0ooXMNMCaQQg.u2J9ILL0MUGZLdXbgQ8FHR6yxPdurO7xK-FkWRna4M0g.JPEG.usuallyrise%2Fusuallyrise.jpg&type=f48_48\" data-img-alias=\"intent-popular\" width=\"16\" height=\"16\" alt=\"\" class=\"img\" onerror=\"this.src='data:image/gif;base64,R0lGODlhAQABAIAAAAAAAP///yH5BAEAAAAALAAAAAABAAEAAAIBRAA7';this.className='img bg_npimg'\"></span> <span class=\"user\"><img src=\"data:image/gif;base64,R0lGODlhAQABAIAAAAAAAP///yH5BAEAAAAALAAAAAABAAEAAAIBRAA7\" data-lazysrc=\"https://search.pstatic.net/common/?src=http%3A%2F%2Fblogpfthumb.phinf.naver.net%2FMjAyMjA2MjRfMTYx%2FMDAxNjU2MDU0NjkxMTU4._suf7NO8tLE8RaHiiQFYKfI0gVAWsO7Hj4lu8QTo6QYg.IdDBMI_SgHBXrMyBgwaA8ZbuEZPul-hNDhmZnHYwc8kg.PNG.cocojjw%2F1.png%2F1.png&type=f48_48\" data-img-alias=\"intent-popular\" width=\"16\" height=\"16\" alt=\"\" class=\"img\" onerror=\"this.src='data:image/gif;base64,R0lGODlhAQABAIAAAAAAAP///yH5BAEAAAAALAAAAAABAAEAAAIBRAA7';this.className='img bg_npimg'\"></span> <span class=\"user\"><img src=\"data:image/gif;base64,R0lGODlhAQABAIAAAAAAAP///yH5BAEAAAAALAAAAAABAAEAAAIBRAA7\" data-lazysrc=\"https://search.pstatic.net/common/?src=http%3A%2F%2Fblogpfthumb.phinf.naver.net%2FMjAyMzA3MzBfMjg4%2FMDAxNjkwNzA0NDgzMjY1.sQIL75fk4L2WloHcVxUZgJCyE4Zttq80aNnbLRPrWnAg.Wy6wSmP61HE6ofMZjjJ5lnn5VyuCx5lV5S7Dp6FQOOog.PNG.onosaka_sy%2F%2525EC%252597%2525BF%2525EC%25259E%2525A5%2525EC%252588%252598%2525EC%25259D%252598_%2525EC%2525A7%252591%2525EC%2525A4%252591%2525ED%252588%2525AC%2525EC%25259E%252590_%2525ED%252594%252584%2525EB%2525A1%25259C%2525ED%252595%252584.png%2F%2525EC%252597%2525BF%2525EC%25259E%2525A5%2525EC%252588%252598%2525EC%25259D%252598%252B%2525EC%2525A7%252591%2525EC%2525A4%252591%2525ED%252588%2525AC%2525EC%25259E%252590_%2525ED%252594%252584%2525EB%2525A1%25259C%2525ED%252595%252584.png&type=f48_48\" data-img-alias=\"intent-popular\" width=\"16\" height=\"16\" alt=\"\" class=\"img\" onerror=\"this.src='data:image/gif;base64,R0lGODlhAQABAIAAAAAAAP///yH5BAEAAAAALAAAAAABAAEAAAIBRAA7';this.className='img bg_npimg'\"></span> </div> </div> <div class=\"dsc_area\"> <div class=\"dsc\">환율 하락 이유</div> </div> </div> </a> </div> <div class=\"flick_bx\"> <a target=\"_blank\" href=\"https://s.search.naver.com/p/intentblock/search.naver?ac=0&aq=0&bid=SYS-0000000026672542&display=10&lgl_lat=37.517675&lgl_long=126.7271995&lgl_rcode=11237106&ngn_country=KR&nlu_query=%7B%22v%22%3A%223%22%2C%22intentblock%22%3A%221%22%2C%22qid%22%3A%22%ED%99%98%EC%9C%A8%22%2C%22nquery%22%3A%22%ED%99%98%EC%9C%A8%22%7D&query=%ED%99%98%EC%9C%A8&sqs=&ssc=tab.itb.all&start=1&where=nx_bridge\" class=\"popular_block_wrap type_bg2\" onclick=\"goOtherCR(this, 'a=itb_bas*0.block&r=2&i=SYS-0000000026672542&g=%7B%22bid%22%3A%22SYS-0000000026672542%22%7D&u='+urlencode(this.href));\"> <div class=\"user_wrap\"> <div class=\"thumb_area\"> <div class=\"thumb\"> <div class=\"inner\"><img src=\"data:image/gif;base64,R0lGODlhAQABAIAAAAAAAP///yH5BAEAAAAALAAAAAABAAEAAAIBRAA7\" data-lazysrc=\"https://search.pstatic.net/common/?src=http%3A%2F%2Fblogfiles.naver.net%2FMjAyMzA3MjhfMzIg%2FMDAxNjkwNTQ3NDM3ODM0.Nnl-5o5WVrvU4F9_Zn-aw7RDugXce1f05VfcZl35-Zgg.LTSwI0lbbKiJEwLx2DyH-YLsRgRYd133rVVhxV_VS8cg.PNG.3f-hoon%2F1.png%23500x500&type=f210_208\" data-img-alias=\"intent-popular\" width=\"105\" height=\"96\" alt=\"\" class=\"img\" onerror=\"this.src='data:image/gif;base64,R0lGODlhAQABAIAAAAAAAP///yH5BAEAAAAALAAAAAABAAEAAAIBRAA7';this.className='img bg_nimg2'\"></div> </div> <div class=\"user_thumb\"> <span class=\"user\"><img src=\"data:image/gif;base64,R0lGODlhAQABAIAAAAAAAP///yH5BAEAAAAALAAAAAABAAEAAAIBRAA7\" data-lazysrc=\"https://search.pstatic.net/common/?src=https%3A%2F%2Fblogpfthumb-phinf.pstatic.net%2FMjAyMDEyMTRfMjQy%2FMDAxNjA3OTE4Nzg4MDI0.O0ZFgiO9brbBwX-U8MGaetzQdWHsQTFHfMIaARRlSJMg.DRAHpqjTCprbhG0zM2mz0-yD5MdAWgOsM3TOkAywAcQg.JPEG.rkd921026%2F%25ED%2594%2584%25EB%25A1%259C%25ED%2595%2584.jpg&type=f48_48\" data-img-alias=\"intent-popular\" width=\"16\" height=\"16\" alt=\"\" class=\"img\" onerror=\"this.src='data:image/gif;base64,R0lGODlhAQABAIAAAAAAAP///yH5BAEAAAAALAAAAAABAAEAAAIBRAA7';this.className='img bg_npimg'\"></span> <span class=\"user\"><img src=\"data:image/gif;base64,R0lGODlhAQABAIAAAAAAAP///yH5BAEAAAAALAAAAAABAAEAAAIBRAA7\" data-lazysrc=\"https://search.pstatic.net/common/?src=http%3A%2F%2Fblogpfthumb.phinf.naver.net%2FMjAyMzAxMDNfMTEx%2FMDAxNjcyNzUwMjUwOTQ2.jKZC2pG-apD5Goa5QA30JQ0LUNtXFsnMyCRchzt-NDAg.Pjr9J7sOp32yIce09X4uDRus9mbW5CsCQDfwyO9LLzkg.PNG.topjoys%2FINFONG_BLOG_MOBILE.png%2FINFONG_BLOG_MOBILE.png&type=f48_48\" data-img-alias=\"intent-popular\" width=\"16\" height=\"16\" alt=\"\" class=\"img\" onerror=\"this.src='data:image/gif;base64,R0lGODlhAQABAIAAAAAAAP///yH5BAEAAAAALAAAAAABAAEAAAIBRAA7';this.className='img bg_npimg'\"></span> <span class=\"user\"><img src=\"data:image/gif;base64,R0lGODlhAQABAIAAAAAAAP///yH5BAEAAAAALAAAAAABAAEAAAIBRAA7\" data-lazysrc=\"https://search.pstatic.net/common/?src=http%3A%2F%2Fblogpfthumb.phinf.naver.net%2FMjAyMzA2MjhfMjk4%2FMDAxNjg3OTU2NTIzNjQ5.hcE1mxgdfFa0ViDDThJaiVjVQ7vzrqDiUUIsBTJqmwog.NArRgOLy94K9LDjoT1Tesb5Vn3K0otCy-Fl42wVFRssg.JPEG.3f-hoon%2FKakaoTalk_20230628_214554986.jpg%2FKakaoTalk_20230628_214554986.jpg&type=f48_48\" data-img-alias=\"intent-popular\" width=\"16\" height=\"16\" alt=\"\" class=\"img\" onerror=\"this.src='data:image/gif;base64,R0lGODlhAQABAIAAAAAAAP///yH5BAEAAAAALAAAAAABAAEAAAIBRAA7';this.className='img bg_npimg'\"></span> </div> </div> <div class=\"dsc_area\"> <div class=\"dsc\">일본 환율 전망</div> </div> </div> </a> </div> <div class=\"flick_bx\"> <a target=\"_blank\" href=\"https://s.search.naver.com/p/intentblock/search.naver?ac=0&aq=0&bid=SYS-0000000025532038&display=10&lgl_lat=37.517675&lgl_long=126.7271995&lgl_rcode=11237106&ngn_country=KR&nlu_query=%7B%22v%22%3A%223%22%2C%22intentblock%22%3A%221%22%2C%22qid%22%3A%22%ED%99%98%EC%9C%A8%22%2C%22nquery%22%3A%22%ED%99%98%EC%9C%A8%22%7D&query=%ED%99%98%EC%9C%A8&sqs=&ssc=tab.itb.all&start=1&where=nx_bridge\" class=\"popular_block_wrap type_bg3\" onclick=\"goOtherCR(this, 'a=itb_bas*0.block&r=3&i=SYS-0000000025532038&g=%7B%22bid%22%3A%22SYS-0000000025532038%22%7D&u='+urlencode(this.href));\"> <div class=\"user_wrap\"> <div class=\"thumb_area\"> <div class=\"thumb\"> <div class=\"inner\"><img src=\"data:image/gif;base64,R0lGODlhAQABAIAAAAAAAP///yH5BAEAAAAALAAAAAABAAEAAAIBRAA7\" data-lazysrc=\"https://search.pstatic.net/common/?src=http%3A%2F%2Fblogfiles.naver.net%2FMjAyMzA0MDlfMjY3%2FMDAxNjgwOTcwOTg0ODI0.It3hiJL2FZHba_gU3-B_tPEgNc5nPwP6hSWauERhJgwg.G1hJTAboV0RPeJCQrj1w1a1SBO6d6aK8HukfHwBEyWsg.JPEG.kjs0%2F%25C1%25A6%25B8%25F1%25C0%25BB-%25C0%25D4%25B7%25C2%25C7%25D8%25C1%25D6%25BC%25BC%25BF%25E4_-001_%25286%2529.jpg%23960x960&type=f210_208\" data-img-alias=\"intent-popular\" width=\"105\" height=\"96\" alt=\"\" class=\"img\" onerror=\"this.src='data:image/gif;base64,R0lGODlhAQABAIAAAAAAAP///yH5BAEAAAAALAAAAAABAAEAAAIBRAA7';this.className='img bg_nimg2'\"></div> </div> <div class=\"user_thumb\"> <span class=\"user\"><img src=\"data:image/gif;base64,R0lGODlhAQABAIAAAAAAAP///yH5BAEAAAAALAAAAAABAAEAAAIBRAA7\" data-lazysrc=\"https://search.pstatic.net/common/?src=http%3A%2F%2Fblogpfthumb.phinf.naver.net%2FMjAyMzAxMDNfMTEx%2FMDAxNjcyNzUwMjUwOTQ2.jKZC2pG-apD5Goa5QA30JQ0LUNtXFsnMyCRchzt-NDAg.Pjr9J7sOp32yIce09X4uDRus9mbW5CsCQDfwyO9LLzkg.PNG.topjoys%2FINFONG_BLOG_MOBILE.png%2FINFONG_BLOG_MOBILE.png&type=f48_48\" data-img-alias=\"intent-popular\" width=\"16\" height=\"16\" alt=\"\" class=\"img\" onerror=\"this.src='data:image/gif;base64,R0lGODlhAQABAIAAAAAAAP///yH5BAEAAAAALAAAAAABAAEAAAIBRAA7';this.className='img bg_npimg'\"></span> <span class=\"user\"><img src=\"data:image/gif;base64,R0lGODlhAQABAIAAAAAAAP///yH5BAEAAAAALAAAAAABAAEAAAIBRAA7\" data-lazysrc=\"https://search.pstatic.net/common/?src=http%3A%2F%2Fblogpfthumb.phinf.naver.net%2FMjAyMzA3MjlfMjY1%2FMDAxNjkwNjAwODA2MTU1.ES5VDZpb5DmQiM-_wHSsjS5kFZovKZUSS_4ijU5bbycg.553fBDfD60Yez3G6WMDwrlCocrQzL-QUoOBwRaV9RlQg.PNG.jadore0131%2F003.png%2F003.png&type=f48_48\" data-img-alias=\"intent-popular\" width=\"16\" height=\"16\" alt=\"\" class=\"img\" onerror=\"this.src='data:image/gif;base64,R0lGODlhAQABAIAAAAAAAP///yH5BAEAAAAALAAAAAABAAEAAAIBRAA7';this.className='img bg_npimg'\"></span> <span class=\"user\"><img src=\"data:image/gif;base64,R0lGODlhAQABAIAAAAAAAP///yH5BAEAAAAALAAAAAABAAEAAAIBRAA7\" data-lazysrc=\"https://search.pstatic.net/common/?src=http%3A%2F%2Fblogpfthumb.phinf.naver.net%2FMjAyMzA3MDNfMjIg%2FMDAxNjg4MzUzNzIwMDY0.LIBtt-Ii1IUbBD_nbfEfZyfV2OSzICAt_7OXPG0hn3wg.WV9PWqGfwySswr1gU-ljE9GXy5roATlAxdz-vP62QK0g.JPEG.kjs0%2F%2525EA%2525BF%252580%2525EB%2525B2%25258C%2525EB%25258B%252598.jpg%2F%2525EA%2525BF%252580%2525EB%2525B2%25258C%2525EB%25258B%252598.jpg&type=f48_48\" data-img-alias=\"intent-popular\" width=\"16\" height=\"16\" alt=\"\" class=\"img\" onerror=\"this.src='data:image/gif;base64,R0lGODlhAQABAIAAAAAAAP///yH5BAEAAAAALAAAAAABAAEAAAIBRAA7';this.className='img bg_npimg'\"></span> </div> </div> <div class=\"dsc_area\"> <div class=\"dsc\">환율 뜻</div> </div> </div> </a> </div> <div class=\"flick_bx\"> <a target=\"_blank\" href=\"https://s.search.naver.com/p/intentblock/search.naver?ac=0&aq=0&bid=SYS-0000000008325704&display=10&lgl_lat=37.517675&lgl_long=126.7271995&lgl_rcode=11237106&ngn_country=KR&nlu_query=%7B%22v%22%3A%223%22%2C%22intentblock%22%3A%221%22%2C%22qid%22%3A%22%ED%99%98%EC%9C%A8%22%2C%22nquery%22%3A%22%ED%99%98%EC%9C%A8%22%7D&query=%ED%99%98%EC%9C%A8&sqs=&ssc=tab.itb.all&start=1&where=nx_bridge\" class=\"popular_block_wrap type_bg4\" onclick=\"goOtherCR(this, 'a=itb_bas*0.block&r=4&i=SYS-0000000008325704&g=%7B%22bid%22%3A%22SYS-0000000008325704%22%7D&u='+urlencode(this.href));\"> <div class=\"user_wrap\"> <div class=\"thumb_area\"> <div class=\"thumb\"> <div class=\"inner\"><img src=\"data:image/gif;base64,R0lGODlhAQABAIAAAAAAAP///yH5BAEAAAAALAAAAAABAAEAAAIBRAA7\" data-lazysrc=\"https://search.pstatic.net/common/?src=http%3A%2F%2Fblogfiles.naver.net%2FMjAyMzA3MjhfMTcx%2FMDAxNjkwNTA4NzEwMDgz.zZXWsldJgKqeAF-h_K1jtaJfz3j9p6uU_FPT6rdLISAg.OELs_krXF1a15Pt7pVDm2-kwL26KUizWvlLNfAGuUycg.PNG.mosfnet%2F%25C0%25AF%25BD%25C2%25C7%25CF_7%25BF%25F9_%25BD%25E6%25B3%25D7%25C0%25CF.png%23900x900&type=f210_208\" data-img-alias=\"intent-popular\" width=\"105\" height=\"96\" alt=\"\" class=\"img\" onerror=\"this.src='data:image/gif;base64,R0lGODlhAQABAIAAAAAAAP///yH5BAEAAAAALAAAAAABAAEAAAIBRAA7';this.className='img bg_nimg2'\"></div> </div> <div class=\"user_thumb\"> <span class=\"user\"><img src=\"data:image/gif;base64,R0lGODlhAQABAIAAAAAAAP///yH5BAEAAAAALAAAAAABAAEAAAIBRAA7\" data-lazysrc=\"https://search.pstatic.net/common/?src=http%3A%2F%2Fblogpfthumb.phinf.naver.net%2FMjAyMzAzMDFfMyAg%2FMDAxNjc3NjQzMDQ0Mzc3.Mvsv7qcEqMM3hKBitDcUhxmODwwwm9bkwzUIbJAD_ZAg.YW_AppfqxmZw_GcBLzrO4YP9psLpD-a6MLmJ-iZChZEg.GIF.sunny6237%2FprofileImage.gif&type=f48_48\" data-img-alias=\"intent-popular\" width=\"16\" height=\"16\" alt=\"\" class=\"img\" onerror=\"this.src='data:image/gif;base64,R0lGODlhAQABAIAAAAAAAP///yH5BAEAAAAALAAAAAABAAEAAAIBRAA7';this.className='img bg_npimg'\"></span> <span class=\"user\"><img src=\"data:image/gif;base64,R0lGODlhAQABAIAAAAAAAP///yH5BAEAAAAALAAAAAABAAEAAAIBRAA7\" data-lazysrc=\"https://search.pstatic.net/common/?src=http%3A%2F%2Fblogpfthumb.phinf.naver.net%2FMjAyMjAzMTNfMTA1%2FMDAxNjQ3MTYxNDg4ODA4.w9gxvIfp1lPecv9TYiBuhuXvfnhsXYv4JZYwVpQRNKAg.BO8CB4LX1kBLWfCCJaDluHRtVp2vut2owyiOQ-VLh9Ig.PNG.1996ghlee%2FprofileImage.png&type=f48_48\" data-img-alias=\"intent-popular\" width=\"16\" height=\"16\" alt=\"\" class=\"img\" onerror=\"this.src='data:image/gif;base64,R0lGODlhAQABAIAAAAAAAP///yH5BAEAAAAALAAAAAABAAEAAAIBRAA7';this.className='img bg_npimg'\"></span> <span class=\"user\"><img src=\"data:image/gif;base64,R0lGODlhAQABAIAAAAAAAP///yH5BAEAAAAALAAAAAABAAEAAAIBRAA7\" data-lazysrc=\"https://search.pstatic.net/common/?src=http%3A%2F%2Fblogpfthumb.phinf.naver.net%2F20160329_207%2Fmosfnet_1459218656389sW140_PNG%2Ffb_profile_1.png&type=f48_48\" data-img-alias=\"intent-popular\" width=\"16\" height=\"16\" alt=\"\" class=\"img\" onerror=\"this.src='data:image/gif;base64,R0lGODlhAQABAIAAAAAAAP///yH5BAEAAAAALAAAAAABAAEAAAIBRAA7';this.className='img bg_npimg'\"></span> </div> </div> <div class=\"dsc_area\"> <div class=\"dsc\">환율</div> </div> </div> </a> </div> <div class=\"flick_bx\"> <a target=\"_blank\" href=\"https://s.search.naver.com/p/intentblock/search.naver?ac=0&aq=0&bid=SYS-0000000025532096&display=10&lgl_lat=37.517675&lgl_long=126.7271995&lgl_rcode=11237106&ngn_country=KR&nlu_query=%7B%22v%22%3A%223%22%2C%22intentblock%22%3A%221%22%2C%22qid%22%3A%22%ED%99%98%EC%9C%A8%22%2C%22nquery%22%3A%22%ED%99%98%EC%9C%A8%22%7D&query=%ED%99%98%EC%9C%A8&sqs=&ssc=tab.itb.all&start=1&where=nx_bridge\" class=\"popular_block_wrap type_bg5\" onclick=\"goOtherCR(this, 'a=itb_bas*0.block&r=5&i=SYS-0000000025532096&g=%7B%22bid%22%3A%22SYS-0000000025532096%22%7D&u='+urlencode(this.href));\"> <div class=\"user_wrap\"> <div class=\"thumb_area\"> <div class=\"thumb\"> <div class=\"inner\"><img src=\"data:image/gif;base64,R0lGODlhAQABAIAAAAAAAP///yH5BAEAAAAALAAAAAABAAEAAAIBRAA7\" data-lazysrc=\"https://search.pstatic.net/common/?src=https%3A%2F%2Fmblogthumb-phinf.pstatic.net%2FMjAxOTA4MzFfMTg0%2FMDAxNTY3MTc4NDA5Mzgy.5FLGHeOAv7LHRPHle4ydg4Tte2uQQ6PNwdwXVqHVfQ4g.eAheiYy3FKGaJGpuy9BZCSA-_Rq5Ux3FZTlpbychaOsg.PNG.yikim107%2F%25C7%25C1%25B7%25B9%25C1%25A8%25C5%25D7%25C0%25CC%25BC%25C71.png%3Ftype%3Dw800&type=f210_208\" data-img-alias=\"intent-popular\" width=\"105\" height=\"96\" alt=\"\" class=\"img\" onerror=\"this.src='data:image/gif;base64,R0lGODlhAQABAIAAAAAAAP///yH5BAEAAAAALAAAAAABAAEAAAIBRAA7';this.className='img bg_nimg2'\"></div> </div> <div class=\"user_thumb\"> <span class=\"user\"><img src=\"data:image/gif;base64,R0lGODlhAQABAIAAAAAAAP///yH5BAEAAAAALAAAAAABAAEAAAIBRAA7\" data-lazysrc=\"https://search.pstatic.net/common/?src=http%3A%2F%2Fblogpfthumb.phinf.naver.net%2FMjAyMDA0MTdfMTA2%2FMDAxNTg3MTM1MjcwMDY5.6HQRfix1cYUICWxmsu0S4kITM5bzfQ0vsGJoif4jgEQg.ARDGe4MDSpNNBVbuACw0IXndJuOndVgqm_HgKnMMqm8g.PNG.smartnjun%2FprofileImage.png&type=f48_48\" data-img-alias=\"intent-popular\" width=\"16\" height=\"16\" alt=\"\" class=\"img\" onerror=\"this.src='data:image/gif;base64,R0lGODlhAQABAIAAAAAAAP///yH5BAEAAAAALAAAAAABAAEAAAIBRAA7';this.className='img bg_npimg'\"></span> <span class=\"user\"><img src=\"data:image/gif;base64,R0lGODlhAQABAIAAAAAAAP///yH5BAEAAAAALAAAAAABAAEAAAIBRAA7\" data-lazysrc=\"https://search.pstatic.net/common/?src=http%3A%2F%2Fblogpfthumb.phinf.naver.net%2FMjAyMzA1MTNfMTk1%2FMDAxNjgzOTE5NTk5NTA1.msVNhWNXZX6sdoYntq51-hEKm-zcBeei9uGB4mrnYYog.7dTfIG1MZlHBBlwDoRPNbPhdHMXlO28w_usDmnvlxxMg.JPEG.jjae56%2FprofileImage.jpg&type=f48_48\" data-img-alias=\"intent-popular\" width=\"16\" height=\"16\" alt=\"\" class=\"img\" onerror=\"this.src='data:image/gif;base64,R0lGODlhAQABAIAAAAAAAP///yH5BAEAAAAALAAAAAABAAEAAAIBRAA7';this.className='img bg_npimg'\"></span> <span class=\"user\"><img src=\"data:image/gif;base64,R0lGODlhAQABAIAAAAAAAP///yH5BAEAAAAALAAAAAABAAEAAAIBRAA7\" data-lazysrc=\"https://search.pstatic.net/common/?src=https%3A%2F%2Finfluencer-phinf.pstatic.net%2FMjAyMDExMTdfNSAg%2FMDAxNjA1NTQyMDk3OTI2.q5Nd3ZzzHhpqS3PfwGSSP_9BF4JndDBMi_htEXGyh8cg.1A8ZX4TI4QMVHNXfuNuaMiEafEj9TF7H4JrT5fJr5Mwg.JPEG%2FF3A96B74-86DD-44CF-8574-787566237012.jpeg&type=f48_48\" data-img-alias=\"intent-popular\" width=\"16\" height=\"16\" alt=\"\" class=\"img\" onerror=\"this.src='data:image/gif;base64,R0lGODlhAQABAIAAAAAAAP///yH5BAEAAAAALAAAAAABAAEAAAIBRAA7';this.className='img bg_npimg'\"></span> </div> </div> <div class=\"dsc_area\"> <div class=\"dsc\">환율 우대쿠폰</div> </div> </div> </a> </div> <div class=\"flick_bx\"> <a target=\"_blank\" href=\"https://s.search.naver.com/p/intentblock/search.naver?ac=0&aq=0&bid=SYS-0000000025532064&display=10&lgl_lat=37.517675&lgl_long=126.7271995&lgl_rcode=11237106&ngn_country=KR&nlu_query=%7B%22v%22%3A%223%22%2C%22intentblock%22%3A%221%22%2C%22qid%22%3A%22%ED%99%98%EC%9C%A8%22%2C%22nquery%22%3A%22%ED%99%98%EC%9C%A8%22%7D&query=%ED%99%98%EC%9C%A8&sqs=&ssc=tab.itb.all&start=1&where=nx_bridge\" class=\"popular_block_wrap type_bg6\" onclick=\"goOtherCR(this, 'a=itb_bas*0.block&r=6&i=SYS-0000000025532064&g=%7B%22bid%22%3A%22SYS-0000000025532064%22%7D&u='+urlencode(this.href));\"> <div class=\"user_wrap\"> <div class=\"thumb_area\"> <div class=\"thumb\"> <div class=\"inner\"><img src=\"data:image/gif;base64,R0lGODlhAQABAIAAAAAAAP///yH5BAEAAAAALAAAAAABAAEAAAIBRAA7\" data-lazysrc=\"https://search.pstatic.net/common/?src=http%3A%2F%2Fblogfiles.naver.net%2FMjAyMzA4MDdfMTI0%2FMDAxNjkxNDExMDExOTA5.svhAQMYBeRn-cWGfq2ODEs0IVhb55XCvJ-Zh-gxdoYQg.lFQ5V_Aks38z9Ce1KFhIaQVJ2HExvGVNgkgpnAwtFKwg.PNG.jmfactory%2Fimage.png%231098x624&type=f210_208\" data-img-alias=\"intent-popular\" width=\"105\" height=\"96\" alt=\"\" class=\"img\" onerror=\"this.src='data:image/gif;base64,R0lGODlhAQABAIAAAAAAAP///yH5BAEAAAAALAAAAAABAAEAAAIBRAA7';this.className='img bg_nimg2'\"></div> </div> <div class=\"user_thumb\"> <span class=\"user\"><img src=\"data:image/gif;base64,R0lGODlhAQABAIAAAAAAAP///yH5BAEAAAAALAAAAAABAAEAAAIBRAA7\" data-lazysrc=\"https://search.pstatic.net/common/?src=http%3A%2F%2Fblogpfthumb.phinf.naver.net%2FMjAyMDA3MDFfNTcg%2FMDAxNTkzNjAyMjMzOTA1.fugVpQR0lrfEFx9fNLPfpuuLbTAFai7iJk7g7pSfr-Ig.mTbXmHozeiGvh9roU4DHASuiWGt-FakvMBhVQHPKX9Ug.JPEG.mrs_english%2FMillion%252BDollar%252BBlog%252B2.jpg&type=f48_48\" data-img-alias=\"intent-popular\" width=\"16\" height=\"16\" alt=\"\" class=\"img\" onerror=\"this.src='data:image/gif;base64,R0lGODlhAQABAIAAAAAAAP///yH5BAEAAAAALAAAAAABAAEAAAIBRAA7';this.className='img bg_npimg'\"></span> <span class=\"user\"><img src=\"data:image/gif;base64,R0lGODlhAQABAIAAAAAAAP///yH5BAEAAAAALAAAAAABAAEAAAIBRAA7\" data-lazysrc=\"https://search.pstatic.net/common/?src=https%3A%2F%2Finfluencer-phinf.pstatic.net%2FMjAyMTAyMDRfMjM4%2FMDAxNjEyMzcyMjEzMTU1.fuo1Pkb4fFbezc88TvtJze9iXXHzfQVgmw7jGpsK3rYg.n0ZYtWfIzmbtIlGkGdMrJ8jC1ufpcu8aaLYajAoTsRAg.JPEG%2F575693BA-CB3F-4C78-A0B1-824B637D7662.jpeg&type=f48_48\" data-img-alias=\"intent-popular\" width=\"16\" height=\"16\" alt=\"\" class=\"img\" onerror=\"this.src='data:image/gif;base64,R0lGODlhAQABAIAAAAAAAP///yH5BAEAAAAALAAAAAABAAEAAAIBRAA7';this.className='img bg_npimg'\"></span> <span class=\"user\"><img src=\"data:image/gif;base64,R0lGODlhAQABAIAAAAAAAP///yH5BAEAAAAALAAAAAABAAEAAAIBRAA7\" data-lazysrc=\"https://search.pstatic.net/common/?src=http%3A%2F%2Fblogpfthumb.phinf.naver.net%2FMjAxNzAxMjNfMTgx%2FMDAxNDg1MTM1NTI0OTg3.ln4RVuMShfcCiFB26vL_1nBcB5bTx8H89-ScOVrBElIg.wMYWJAVm3W4UhpAiBNC6IglPW6k8XwlSOu64u1vnhwcg.JPEG.jmfactory%2FprofileImage.jpg&type=f48_48\" data-img-alias=\"intent-popular\" width=\"16\" height=\"16\" alt=\"\" class=\"img\" onerror=\"this.src='data:image/gif;base64,R0lGODlhAQABAIAAAAAAAP///yH5BAEAAAAALAAAAAABAAEAAAIBRAA7';this.className='img bg_npimg'\"></span> </div> </div> <div class=\"dsc_area\"> <div class=\"dsc\">환율 추이</div> </div> </div> </a> </div> <div class=\"flick_bx\"> <a target=\"_blank\" href=\"https://s.search.naver.com/p/intentblock/search.naver?ac=0&aq=0&bid=SYS-0000000008343036&display=10&lgl_lat=37.517675&lgl_long=126.7271995&lgl_rcode=11237106&ngn_country=KR&nlu_query=%7B%22v%22%3A%223%22%2C%22intentblock%22%3A%221%22%2C%22qid%22%3A%22%ED%99%98%EC%9C%A8%22%2C%22nquery%22%3A%22%ED%99%98%EC%9C%A8%22%7D&query=%ED%99%98%EC%9C%A8&sqs=&ssc=tab.itb.all&start=1&where=nx_bridge\" class=\"popular_block_wrap type_bg7\" onclick=\"goOtherCR(this, 'a=itb_bas*0.block&r=7&i=SYS-0000000008343036&g=%7B%22bid%22%3A%22SYS-0000000008343036%22%7D&u='+urlencode(this.href));\"> <div class=\"user_wrap\"> <div class=\"thumb_area\"> <div class=\"thumb\"> <div class=\"inner\"><img src=\"data:image/gif;base64,R0lGODlhAQABAIAAAAAAAP///yH5BAEAAAAALAAAAAABAAEAAAIBRAA7\" data-lazysrc=\"https://search.pstatic.net/common/?src=http%3A%2F%2Fblogfiles.naver.net%2FMjAyMzA2MDlfMTYx%2FMDAxNjg2Mjc4ODcwODky.7pOseBTtXVGosGzHQavrwvPgFFV9U7f1HjNyvdABY54g.z-1QFOJckJcUu22Z0Oq3J8n0TAOwXJSWiOe_mkVSkOQg.PNG.olivia0069%2Fimage.png%23888x563&type=f210_208\" data-img-alias=\"intent-popular\" width=\"105\" height=\"96\" alt=\"\" class=\"img\" onerror=\"this.src='data:image/gif;base64,R0lGODlhAQABAIAAAAAAAP///yH5BAEAAAAALAAAAAABAAEAAAIBRAA7';this.className='img bg_nimg2'\"></div> </div> <div class=\"user_thumb\"> <span class=\"user\"><img src=\"data:image/gif;base64,R0lGODlhAQABAIAAAAAAAP///yH5BAEAAAAALAAAAAABAAEAAAIBRAA7\" data-lazysrc=\"https://search.pstatic.net/common/?src=http%3A%2F%2Fblogpfthumb.phinf.naver.net%2FMjAyMTExMTlfOTUg%2FMDAxNjM3MzAzOTg1Mjky.wI3WQk7cGZLLOmLAmGl2F-OkUOyrdXAQEEjncohAczQg.707qEGT5stubHCSpQQE9_CNzK6EWALVhg9XbEtW_OKUg.JPEG.tmglove%2FprofileImage.jpg&type=f48_48\" data-img-alias=\"intent-popular\" width=\"16\" height=\"16\" alt=\"\" class=\"img\" onerror=\"this.src='data:image/gif;base64,R0lGODlhAQABAIAAAAAAAP///yH5BAEAAAAALAAAAAABAAEAAAIBRAA7';this.className='img bg_npimg'\"></span> <span class=\"user\"><img src=\"data:image/gif;base64,R0lGODlhAQABAIAAAAAAAP///yH5BAEAAAAALAAAAAABAAEAAAIBRAA7\" data-lazysrc=\"https://search.pstatic.net/common/?src=https%3A%2F%2Finfluencer-phinf.pstatic.net%2FMjAyMTAxMjdfNTgg%2FMDAxNjExNzIyMzQwMDQ2.8ktdHaj1RF2mBHEeJWwuW6eRQAN5ZOOO654AHm19r5wg.3osjh45gucfozctCCEQ_2OakB0NLMJVovNHTxwmolnYg.JPEG%2F0001.jpg&type=f48_48\" data-img-alias=\"intent-popular\" width=\"16\" height=\"16\" alt=\"\" class=\"img\" onerror=\"this.src='data:image/gif;base64,R0lGODlhAQABAIAAAAAAAP///yH5BAEAAAAALAAAAAABAAEAAAIBRAA7';this.className='img bg_npimg'\"></span> <span class=\"user\"><img src=\"data:image/gif;base64,R0lGODlhAQABAIAAAAAAAP///yH5BAEAAAAALAAAAAABAAEAAAIBRAA7\" data-lazysrc=\"https://search.pstatic.net/common/?src=http%3A%2F%2Fblogpfthumb.phinf.naver.net%2FMjAyMzA3MTJfMTc2%2FMDAxNjg5MDkyMjg3Nzgx.0H-TauzhJHgr_LntenfHzCZCnLJhajKvUlh-OQLsoT0g.ekI3nycU5sZEY4J1kpS7RSsXEzMT_hu6gnb_bvxqX6Ig.JPEG.olivia0069%2FprofileImage.jpg&type=f48_48\" data-img-alias=\"intent-popular\" width=\"16\" height=\"16\" alt=\"\" class=\"img\" onerror=\"this.src='data:image/gif;base64,R0lGODlhAQABAIAAAAAAAP///yH5BAEAAAAALAAAAAABAAEAAAIBRAA7';this.className='img bg_npimg'\"></span> </div> </div> <div class=\"dsc_area\"> <div class=\"dsc\">달러 엔화 환율</div> </div> </div> </a> </div> <div class=\"flick_bx\"> <a target=\"_blank\" href=\"https://s.search.naver.com/p/intentblock/search.naver?ac=0&aq=0&bid=SYS-0000000025532091&display=10&lgl_lat=37.517675&lgl_long=126.7271995&lgl_rcode=11237106&ngn_country=KR&nlu_query=%7B%22v%22%3A%223%22%2C%22intentblock%22%3A%221%22%2C%22qid%22%3A%22%ED%99%98%EC%9C%A8%22%2C%22nquery%22%3A%22%ED%99%98%EC%9C%A8%22%7D&query=%ED%99%98%EC%9C%A8&sqs=&ssc=tab.itb.all&start=1&where=nx_bridge\" class=\"popular_block_wrap type_bg8\" onclick=\"goOtherCR(this, 'a=itb_bas*0.block&r=8&i=SYS-0000000025532091&g=%7B%22bid%22%3A%22SYS-0000000025532091%22%7D&u='+urlencode(this.href));\"> <div class=\"user_wrap\"> <div class=\"thumb_area\"> <div class=\"thumb\"> <div class=\"inner\"><img src=\"data:image/gif;base64,R0lGODlhAQABAIAAAAAAAP///yH5BAEAAAAALAAAAAABAAEAAAIBRAA7\" data-lazysrc=\"https://search.pstatic.net/common/?src=http%3A%2F%2Fblogfiles.naver.net%2FMjAyMzA4MDdfNTUg%2FMDAxNjkxMzY3MzU1ODcx.Ry7IDDW31Jwegwi8MiRD4DqI4pmuxnEAPCQq5z3Ikowg.8s5_GkhaOF3mUgkdiCAh5GdD5gkVFdixOH-W6O_5Fdwg.JPEG.wodahs99%2FScreenshot%25A3%25DF20230205%25A3%25DF230713%25A3%25DFGallery.jpg%23900x1466&type=f210_208\" data-img-alias=\"intent-popular\" width=\"105\" height=\"96\" alt=\"\" class=\"img\" onerror=\"this.src='data:image/gif;base64,R0lGODlhAQABAIAAAAAAAP///yH5BAEAAAAALAAAAAABAAEAAAIBRAA7';this.className='img bg_nimg2'\"></div> </div> <div class=\"user_thumb\"> <span class=\"user\"><img src=\"data:image/gif;base64,R0lGODlhAQABAIAAAAAAAP///yH5BAEAAAAALAAAAAABAAEAAAIBRAA7\" data-lazysrc=\"https://search.pstatic.net/common/?src=http%3A%2F%2Fblogpfthumb.phinf.naver.net%2FMjAyMjEwMTlfOCAg%2FMDAxNjY2MTc2ODQ4MDYy.EX8kn3yPWNQc7yfMutad9w8PXyW5UQ7s7J6tNK74kbgg.eYGR2WsA9kUyQIR2zqz8uiCLp6VKXDOWtMdPOMd6qcIg.JPEG.mp3jih%2F%2525EC%2525A0%25259C%2525EB%2525AA%2525A9%2525EC%25259D%252584_%2525EC%25259E%252585%2525EB%2525A0%2525A5%2525ED%252595%2525B4%2525EC%2525A3%2525BC%2525EC%252584%2525B8%2525EC%25259A%252594_-001_%2525281%252529.jpg%2F%2525EC%2525A0%25259C%2525EB%2525AA%2525A9%2525EC%25259D%252584%252B%2525EC%25259E%252585%2525EB%2525A0%2525A5%2525ED%252595%2525B4%2525EC%2525A3%2525BC%2525EC%252584%2525B8%2525EC%25259A%252594_-001%252B%2525281%252529.jpg&type=f48_48\" data-img-alias=\"intent-popular\" width=\"16\" height=\"16\" alt=\"\" class=\"img\" onerror=\"this.src='data:image/gif;base64,R0lGODlhAQABAIAAAAAAAP///yH5BAEAAAAALAAAAAABAAEAAAIBRAA7';this.className='img bg_npimg'\"></span> <span class=\"user\"><img src=\"data:image/gif;base64,R0lGODlhAQABAIAAAAAAAP///yH5BAEAAAAALAAAAAABAAEAAAIBRAA7\" data-lazysrc=\"https://search.pstatic.net/common/?src=http%3A%2F%2Fblogpfthumb.phinf.naver.net%2FMjAyMzA2MjhfMjk5%2FMDAxNjg3OTQ0OTE4ODcx.d3dvyWAu3SG1ym6lM6wbJBLcdT6EiPuaaIAESdeIrK0g.9A9UrlRu-ldtpldkMoLlITAxWSAnF8G58l0qoSaSazIg.JPEG.traderfeels%2FTrader-Feels_%2525EB%25258C%252580%2525EC%2525A7%252580_33x-80.jpg%2FTrader-Feels%252B%2525EB%25258C%252580%2525EC%2525A7%252580%252B3%2525403x-80.jpg&type=f48_48\" data-img-alias=\"intent-popular\" width=\"16\" height=\"16\" alt=\"\" class=\"img\" onerror=\"this.src='data:image/gif;base64,R0lGODlhAQABAIAAAAAAAP///yH5BAEAAAAALAAAAAABAAEAAAIBRAA7';this.className='img bg_npimg'\"></span> <span class=\"user\"><img src=\"data:image/gif;base64,R0lGODlhAQABAIAAAAAAAP///yH5BAEAAAAALAAAAAABAAEAAAIBRAA7\" data-lazysrc=\"https://search.pstatic.net/common/?src=http%3A%2F%2Fblogpfthumb.phinf.naver.net%2FMjAyMzA3MzFfMjMg%2FMDAxNjkwNzU2OTE3MzQ3.urwtWkvC_yotfS6i3uqpnHhVsepY_MePp4MOGrSfWq0g.v0QP5c4VGRC-FacZYBkQvDahEoYYPd7p4HNSCDs8xm0g.GIF.wodahs99%2FprofileImage.gif&type=f48_48\" data-img-alias=\"intent-popular\" width=\"16\" height=\"16\" alt=\"\" class=\"img\" onerror=\"this.src='data:image/gif;base64,R0lGODlhAQABAIAAAAAAAP///yH5BAEAAAAALAAAAAABAAEAAAIBRAA7';this.className='img bg_npimg'\"></span> </div> </div> <div class=\"dsc_area\"> <div class=\"dsc\">오늘 환율</div> </div> </div> </a> </div> <div class=\"flick_bx\"> <a target=\"_blank\" href=\"https://s.search.naver.com/p/intentblock/search.naver?ac=0&aq=0&bid=SYS-0000000025532059&display=10&lgl_lat=37.517675&lgl_long=126.7271995&lgl_rcode=11237106&ngn_country=KR&nlu_query=%7B%22v%22%3A%223%22%2C%22intentblock%22%3A%221%22%2C%22qid%22%3A%22%ED%99%98%EC%9C%A8%22%2C%22nquery%22%3A%22%ED%99%98%EC%9C%A8%22%7D&query=%ED%99%98%EC%9C%A8&sqs=&ssc=tab.itb.all&start=1&where=nx_bridge\" class=\"popular_block_wrap type_bg9\" onclick=\"goOtherCR(this, 'a=itb_bas*0.block&r=9&i=SYS-0000000025532059&g=%7B%22bid%22%3A%22SYS-0000000025532059%22%7D&u='+urlencode(this.href));\"> <div class=\"user_wrap\"> <div class=\"thumb_area\"> <div class=\"thumb\"> <div class=\"inner\"><img src=\"data:image/gif;base64,R0lGODlhAQABAIAAAAAAAP///yH5BAEAAAAALAAAAAABAAEAAAIBRAA7\" data-lazysrc=\"https://search.pstatic.net/common/?src=http%3A%2F%2Fblogfiles.naver.net%2FMjAyMzA4MDdfMTM0%2FMDAxNjkxMzgxNDA5NTI5.kgYUVgxunI3U5cogLId4l1cdM7OyZKD9uYyGTv0J05Ig.1R3ywoOmS2BqesT8IQ6g4Vn3nsVSaJdRNRjL0k_10QMg.PNG.exnesskorea%2Funnamed.png%23512x250&type=f210_208\" data-img-alias=\"intent-popular\" width=\"105\" height=\"96\" alt=\"\" class=\"img\" onerror=\"this.src='data:image/gif;base64,R0lGODlhAQABAIAAAAAAAP///yH5BAEAAAAALAAAAAABAAEAAAIBRAA7';this.className='img bg_nimg2'\"></div> </div> <div class=\"user_thumb\"> <span class=\"user\"><img src=\"data:image/gif;base64,R0lGODlhAQABAIAAAAAAAP///yH5BAEAAAAALAAAAAABAAEAAAIBRAA7\" data-lazysrc=\"https://search.pstatic.net/common/?src=http%3A%2F%2Fblogpfthumb.phinf.naver.net%2FMjAyMzA1MDRfNzUg%2FMDAxNjgzMjExMDA0Mzcz.NjySgY6AD62gjONlWtexscNK6t5uFmAAUZiQrJ8EzbAg.5uoGxncTMfrkyv-PdppRfzFv3oKR7ca86dwa0GgFBkkg.JPEG.mcsmith0%2FIMG_4653.JPG%2FIMG_4653.JPG&type=f48_48\" data-img-alias=\"intent-popular\" width=\"16\" height=\"16\" alt=\"\" class=\"img\" onerror=\"this.src='data:image/gif;base64,R0lGODlhAQABAIAAAAAAAP///yH5BAEAAAAALAAAAAABAAEAAAIBRAA7';this.className='img bg_npimg'\"></span> <span class=\"user\"><img src=\"data:image/gif;base64,R0lGODlhAQABAIAAAAAAAP///yH5BAEAAAAALAAAAAABAAEAAAIBRAA7\" data-lazysrc=\"https://search.pstatic.net/common/?src=http%3A%2F%2Fblogpfthumb.phinf.naver.net%2FMjAyMTExMTlfOTUg%2FMDAxNjM3MzAzOTg1Mjky.wI3WQk7cGZLLOmLAmGl2F-OkUOyrdXAQEEjncohAczQg.707qEGT5stubHCSpQQE9_CNzK6EWALVhg9XbEtW_OKUg.JPEG.tmglove%2FprofileImage.jpg&type=f48_48\" data-img-alias=\"intent-popular\" width=\"16\" height=\"16\" alt=\"\" class=\"img\" onerror=\"this.src='data:image/gif;base64,R0lGODlhAQABAIAAAAAAAP///yH5BAEAAAAALAAAAAABAAEAAAIBRAA7';this.className='img bg_npimg'\"></span> <span class=\"user\"><img src=\"data:image/gif;base64,R0lGODlhAQABAIAAAAAAAP///yH5BAEAAAAALAAAAAABAAEAAAIBRAA7\" data-lazysrc=\"https://search.pstatic.net/common/?src=http%3A%2F%2Fblogpfthumb.phinf.naver.net%2FMjAyMTA1MjJfMjg1%2FMDAxNjIxNjEyNjYwODI0.HOb0C63m7-bMtNKMx16YpMTUFU5nVJ4d52GL6UMYOVAg.NZixQuHZ-CPZtOTZpkPBUTIynzjXs1G19nG4w2SPDKkg.PNG.exnesskorea%2FExness.png&type=f48_48\" data-img-alias=\"intent-popular\" width=\"16\" height=\"16\" alt=\"\" class=\"img\" onerror=\"this.src='data:image/gif;base64,R0lGODlhAQABAIAAAAAAAP///yH5BAEAAAAALAAAAAABAAEAAAIBRAA7';this.className='img bg_npimg'\"></span> </div> </div> <div class=\"dsc_area\"> <div class=\"dsc\">환율 동향</div> </div> </div> </a> </div> <div class=\"flick_bx\"> <a target=\"_blank\" href=\"https://s.search.naver.com/p/intentblock/search.naver?ac=0&aq=0&bid=SYS-0000000025532789&display=10&lgl_lat=37.517675&lgl_long=126.7271995&lgl_rcode=11237106&ngn_country=KR&nlu_query=%7B%22v%22%3A%223%22%2C%22intentblock%22%3A%221%22%2C%22qid%22%3A%22%ED%99%98%EC%9C%A8%22%2C%22nquery%22%3A%22%ED%99%98%EC%9C%A8%22%7D&query=%ED%99%98%EC%9C%A8&sqs=&ssc=tab.itb.all&start=1&where=nx_bridge\" class=\"popular_block_wrap type_bg1\" onclick=\"goOtherCR(this, 'a=itb_bas*0.block&r=10&i=SYS-0000000025532789&g=%7B%22bid%22%3A%22SYS-0000000025532789%22%7D&u='+urlencode(this.href));\"> <div class=\"user_wrap\"> <div class=\"thumb_area\"> <div class=\"thumb\"> <div class=\"inner\"><img src=\"data:image/gif;base64,R0lGODlhAQABAIAAAAAAAP///yH5BAEAAAAALAAAAAABAAEAAAIBRAA7\" data-lazysrc=\"https://search.pstatic.net/common/?src=http%3A%2F%2Fblogfiles.naver.net%2FMjAyMzA2MDhfMjgx%2FMDAxNjg2MTUwNzE3MjE4.DksNH261tn0P9Jh1-cUkygCVygCkD6gIW0F14-DXuisg.bMgctW10mQ3hxy964FtWpFsiVhn-oylcHFqWpiQfW0og.JPEG.aaoaa2024%2F%25C7%25C3%25B7%25A3-%25BA%25ED%25B7%25CE%25B1%25D7%25B1%25DB-%25B1%25E2%25BA%25BB.jpg%23470x470&type=f210_208\" data-img-alias=\"intent-popular\" width=\"105\" height=\"96\" alt=\"\" class=\"img\" onerror=\"this.src='data:image/gif;base64,R0lGODlhAQABAIAAAAAAAP///yH5BAEAAAAALAAAAAABAAEAAAIBRAA7';this.className='img bg_nimg2'\"></div> </div> <div class=\"user_thumb\"> <span class=\"user\"><img src=\"data:image/gif;base64,R0lGODlhAQABAIAAAAAAAP///yH5BAEAAAAALAAAAAABAAEAAAIBRAA7\" data-lazysrc=\"https://search.pstatic.net/common/?src=http%3A%2F%2Fblogpfthumb.phinf.naver.net%2FMjAyMjAyMDZfMTE1%2FMDAxNjQ0MTMzODIwMzE5.upIDWlmN-5j7uNvssTApgaSbeVTzh2yLnd_8xsLCl2Ig.s8l90BawfkSwUnq6fdRNVREqol1c5eGyOUgIULJlLgog.PNG.btctradingstar%2F%2525ED%252594%252584%2525EB%2525A1%25259C%2525ED%252595%252584_1.03%2525EB%2525B2%252584%2525EC%2525A0%252584_%252528x4_%2525EC%252582%2525AC%2525EC%25259D%2525B4%2525EC%2525A6%252588%252529_%2525EB%2525B8%252594%2525EB%2525A1%25259C%2525EA%2525B7%2525B8.png%2F%2525E1%252584%252591%2525E1%252585%2525B3%2525E1%252584%252585%2525E1%252585%2525A9%2525E1%252584%252591%2525E1%252585%2525B5%2525E1%252586%2525AF%252B1.03%2525E1%252584%252587%2525E1%252585%2525A5%2525E1%252584%25258C%2525E1%252585%2525A5%2525E1%252586%2525AB%252B%252528x4%252B%2525E1%252584%252589%2525E1%252585%2525A1%2525E1%252584%25258B%2525E1%252585%2525B5%2525E1%252584%25258C%2525E1%252585%2525B3%252529_%2525E1%252584%252587%2525E1%252585%2525B3%2525E1%252586%2525AF%2525E1%252584%252585%2525E1%252585%2525A9%2525E1%252584%252580%2525E1%252585%2525B3.png&type=f48_48\" data-img-alias=\"intent-popular\" width=\"16\" height=\"16\" alt=\"\" class=\"img\" onerror=\"this.src='data:image/gif;base64,R0lGODlhAQABAIAAAAAAAP///yH5BAEAAAAALAAAAAABAAEAAAIBRAA7';this.className='img bg_npimg'\"></span> <span class=\"user\"><img src=\"data:image/gif;base64,R0lGODlhAQABAIAAAAAAAP///yH5BAEAAAAALAAAAAABAAEAAAIBRAA7\" data-lazysrc=\"https://search.pstatic.net/common/?src=http%3A%2F%2Fblogpfthumb.phinf.naver.net%2FMjAyMTExMTlfOTUg%2FMDAxNjM3MzAzOTg1Mjky.wI3WQk7cGZLLOmLAmGl2F-OkUOyrdXAQEEjncohAczQg.707qEGT5stubHCSpQQE9_CNzK6EWALVhg9XbEtW_OKUg.JPEG.tmglove%2FprofileImage.jpg&type=f48_48\" data-img-alias=\"intent-popular\" width=\"16\" height=\"16\" alt=\"\" class=\"img\" onerror=\"this.src='data:image/gif;base64,R0lGODlhAQABAIAAAAAAAP///yH5BAEAAAAALAAAAAABAAEAAAIBRAA7';this.className='img bg_npimg'\"></span> <span class=\"user\"><img src=\"data:image/gif;base64,R0lGODlhAQABAIAAAAAAAP///yH5BAEAAAAALAAAAAABAAEAAAIBRAA7\" data-lazysrc=\"https://search.pstatic.net/common/?src=http%3A%2F%2Fblogpfthumb.phinf.naver.net%2FMjAyMjExMDdfMjQy%2FMDAxNjY3ODAxMTM3NjM2.g-L4YiRHoTYJuQTmbQ1pohtOgohEY4pgRFXQulTyYOgg.Eo7cQEz395qzMp5qQcDlsnKv3f6X6cWWsF5FaBzMLZMg.GIF.aaoaa2024%2F1107-2.gif%2F1107-2.gif&type=f48_48\" data-img-alias=\"intent-popular\" width=\"16\" height=\"16\" alt=\"\" class=\"img\" onerror=\"this.src='data:image/gif;base64,R0lGODlhAQABAIAAAAAAAP///yH5BAEAAAAALAAAAAABAAEAAAIBRAA7';this.className='img bg_npimg'\"></span> </div> </div> <div class=\"dsc_area\"> <div class=\"dsc\">달러 환율 예상</div> </div> </div> </a> </div> <div class=\"flick_bx\"> <a target=\"_blank\" href=\"https://s.search.naver.com/p/intentblock/search.naver?ac=0&aq=0&bid=SYS-0000000025532099&display=10&lgl_lat=37.517675&lgl_long=126.7271995&lgl_rcode=11237106&ngn_country=KR&nlu_query=%7B%22v%22%3A%223%22%2C%22intentblock%22%3A%221%22%2C%22qid%22%3A%22%ED%99%98%EC%9C%A8%22%2C%22nquery%22%3A%22%ED%99%98%EC%9C%A8%22%7D&query=%ED%99%98%EC%9C%A8&sqs=&ssc=tab.itb.all&start=1&where=nx_bridge\" class=\"popular_block_wrap type_bg2\" onclick=\"goOtherCR(this, 'a=itb_bas*0.block&r=11&i=SYS-0000000025532099&g=%7B%22bid%22%3A%22SYS-0000000025532099%22%7D&u='+urlencode(this.href));\"> <div class=\"user_wrap\"> <div class=\"thumb_area\"> <div class=\"thumb\"> <div class=\"inner\"><img src=\"data:image/gif;base64,R0lGODlhAQABAIAAAAAAAP///yH5BAEAAAAALAAAAAABAAEAAAIBRAA7\" data-lazysrc=\"https://search.pstatic.net/common/?src=https%3A%2F%2Fmblogthumb-phinf.pstatic.net%2FMjAyMzA3MjRfMjM4%2FMDAxNjkwMTc4NjYxMjcz.1maB-XvlGQqqvCT6JppJuAOrIlx28Nyp39umFT818HEg.Og1MuDQ5uNnStNa85ogpcJ4ZjBBah-uXk4Tj2cq3dGAg.JPEG.challiya%2F20230623_103329.jpg%3Ftype%3Dw800&type=f210_208\" data-img-alias=\"intent-popular\" width=\"105\" height=\"96\" alt=\"\" class=\"img\" onerror=\"this.src='data:image/gif;base64,R0lGODlhAQABAIAAAAAAAP///yH5BAEAAAAALAAAAAABAAEAAAIBRAA7';this.className='img bg_nimg2'\"></div> </div> <div class=\"user_thumb\"> <span class=\"user\"><img src=\"data:image/gif;base64,R0lGODlhAQABAIAAAAAAAP///yH5BAEAAAAALAAAAAABAAEAAAIBRAA7\" data-lazysrc=\"https://search.pstatic.net/common/?src=http%3A%2F%2Fblogpfthumb.phinf.naver.net%2F20120313_162%2Flaokimcom_1331648589629_jsSHVy_png%2F1.png&type=f48_48\" data-img-alias=\"intent-popular\" width=\"16\" height=\"16\" alt=\"\" class=\"img\" onerror=\"this.src='data:image/gif;base64,R0lGODlhAQABAIAAAAAAAP///yH5BAEAAAAALAAAAAABAAEAAAIBRAA7';this.className='img bg_npimg'\"></span> <span class=\"user\"><img src=\"data:image/gif;base64,R0lGODlhAQABAIAAAAAAAP///yH5BAEAAAAALAAAAAABAAEAAAIBRAA7\" data-lazysrc=\"https://search.pstatic.net/common/?src=http%3A%2F%2Fblogpfthumb.phinf.naver.net%2FMjAyMTEyMTBfNzAg%2FMDAxNjM5MTMyMjMxNzkw.Sa5Fo5bsoTinKIVFqH5SguJlJe444zCHB6DdOYCkGIMg.Z3AYZRO3snb31BCRXLmH7QsKY13Al61AspAG6EifJBYg.PNG.sooyani0204%2FprofileImage.png&type=f48_48\" data-img-alias=\"intent-popular\" width=\"16\" height=\"16\" alt=\"\" class=\"img\" onerror=\"this.src='data:image/gif;base64,R0lGODlhAQABAIAAAAAAAP///yH5BAEAAAAALAAAAAABAAEAAAIBRAA7';this.className='img bg_npimg'\"></span> <span class=\"user\"><img src=\"data:image/gif;base64,R0lGODlhAQABAIAAAAAAAP///yH5BAEAAAAALAAAAAABAAEAAAIBRAA7\" data-lazysrc=\"https://search.pstatic.net/common/?src=https%3A%2F%2Finfluencer-phinf.pstatic.net%2FMjAyMDAyMThfMTc0%2FMDAxNTgyMDI2NDIyMDM1.chnxGZK0ijhqv8281a1tU-AflZy707-_n2SAiHF72U4g.kmZWSZ8EbjpPh9iFnr8A101a3KsVQsNTbx25IfC2RDwg.GIF%2Fanigif3.gif&type=f48_48\" data-img-alias=\"intent-popular\" width=\"16\" height=\"16\" alt=\"\" class=\"img\" onerror=\"this.src='data:image/gif;base64,R0lGODlhAQABAIAAAAAAAP///yH5BAEAAAAALAAAAAABAAEAAAIBRAA7';this.className='img bg_npimg'\"></span> </div> </div> <div class=\"dsc_area\"> <div class=\"dsc\">환율 환전</div> </div> </div> </a> </div> <div class=\"flick_bx\"> <a target=\"_blank\" href=\"https://s.search.naver.com/p/intentblock/search.naver?ac=0&aq=0&bid=SYS-0000000025532092&display=10&lgl_lat=37.517675&lgl_long=126.7271995&lgl_rcode=11237106&ngn_country=KR&nlu_query=%7B%22v%22%3A%223%22%2C%22intentblock%22%3A%221%22%2C%22qid%22%3A%22%ED%99%98%EC%9C%A8%22%2C%22nquery%22%3A%22%ED%99%98%EC%9C%A8%22%7D&query=%ED%99%98%EC%9C%A8&sqs=&ssc=tab.itb.all&start=1&where=nx_bridge\" class=\"popular_block_wrap type_bg3\" onclick=\"goOtherCR(this, 'a=itb_bas*0.block&r=12&i=SYS-0000000025532092&g=%7B%22bid%22%3A%22SYS-0000000025532092%22%7D&u='+urlencode(this.href));\"> <div class=\"user_wrap\"> <div class=\"thumb_area\"> <div class=\"thumb\"> <div class=\"inner\"><img src=\"data:image/gif;base64,R0lGODlhAQABAIAAAAAAAP///yH5BAEAAAAALAAAAAABAAEAAAIBRAA7\" data-lazysrc=\"https://search.pstatic.net/common/?src=http%3A%2F%2Fblogfiles.naver.net%2FMjAyMzAxMTNfMjc3%2FMDAxNjczNjAzMDM0OTY0.2QKItPSoxcscgPKCXqY9UF_75Uxz7uHQkLqcQRG0di8g.F9lrsEeaBZTAeAibzTgDOS7vjzyyY0TeIVh5aF99llMg.JPEG.hhh33401%2FA-004.jpg%23936x936&type=f210_208\" data-img-alias=\"intent-popular\" width=\"105\" height=\"96\" alt=\"\" class=\"img\" onerror=\"this.src='data:image/gif;base64,R0lGODlhAQABAIAAAAAAAP///yH5BAEAAAAALAAAAAABAAEAAAIBRAA7';this.className='img bg_nimg2'\"></div> </div> <div class=\"user_thumb\"> <span class=\"user\"><img src=\"data:image/gif;base64,R0lGODlhAQABAIAAAAAAAP///yH5BAEAAAAALAAAAAABAAEAAAIBRAA7\" data-lazysrc=\"https://search.pstatic.net/common/?src=https%3A%2F%2Finfluencer-phinf.pstatic.net%2FMjAyMTAxMjdfNTgg%2FMDAxNjExNzIyMzQwMDQ2.8ktdHaj1RF2mBHEeJWwuW6eRQAN5ZOOO654AHm19r5wg.3osjh45gucfozctCCEQ_2OakB0NLMJVovNHTxwmolnYg.JPEG%2F0001.jpg&type=f48_48\" data-img-alias=\"intent-popular\" width=\"16\" height=\"16\" alt=\"\" class=\"img\" onerror=\"this.src='data:image/gif;base64,R0lGODlhAQABAIAAAAAAAP///yH5BAEAAAAALAAAAAABAAEAAAIBRAA7';this.className='img bg_npimg'\"></span> <span class=\"user\"><img src=\"data:image/gif;base64,R0lGODlhAQABAIAAAAAAAP///yH5BAEAAAAALAAAAAABAAEAAAIBRAA7\" data-lazysrc=\"https://search.pstatic.net/common/?src=https%3A%2F%2Finfluencer-phinf.pstatic.net%2FMjAyMDA1MjNfMjc1%2FMDAxNTkwMjA5MTgwMTE1.MFpy4lbdB_Yrx0oXGCW1L5wN9rltkxJPvourFAAGd10g.IoXkWqvGMAq4HjmPmhj_bgcUmWOHp3n-scsEfNha-o4g.JPEG%2F1575972198920.jpg&type=f48_48\" data-img-alias=\"intent-popular\" width=\"16\" height=\"16\" alt=\"\" class=\"img\" onerror=\"this.src='data:image/gif;base64,R0lGODlhAQABAIAAAAAAAP///yH5BAEAAAAALAAAAAABAAEAAAIBRAA7';this.className='img bg_npimg'\"></span> <span class=\"user\"><img src=\"data:image/gif;base64,R0lGODlhAQABAIAAAAAAAP///yH5BAEAAAAALAAAAAABAAEAAAIBRAA7\" data-lazysrc=\"https://search.pstatic.net/common/?src=http%3A%2F%2Fblogpfthumb.phinf.naver.net%2FMjAyMjA3MjNfMjI3%2FMDAxNjU4NTYyOTQ0Mzk5.f6wd4CoZpGYTAmNGxs29Z4XhMj4TtWCYB0kX58p1Dbgg.u8URXIjbQ9Tczn5iSKeciFr2wy5jvbQIeuWGfq3o4g8g.JPEG.hhh33401%2FprofileImage.jpg&type=f48_48\" data-img-alias=\"intent-popular\" width=\"16\" height=\"16\" alt=\"\" class=\"img\" onerror=\"this.src='data:image/gif;base64,R0lGODlhAQABAIAAAAAAAP///yH5BAEAAAAALAAAAAABAAEAAAIBRAA7';this.className='img bg_npimg'\"></span> </div> </div> <div class=\"dsc_area\"> <div class=\"dsc\">파운드 환율</div> </div> </div> </a> </div> <div class=\"flick_bx\"> <a target=\"_blank\" href=\"https://s.search.naver.com/p/intentblock/search.naver?ac=0&aq=0&bid=SYS-0000000025532035&display=10&lgl_lat=37.517675&lgl_long=126.7271995&lgl_rcode=11237106&ngn_country=KR&nlu_query=%7B%22v%22%3A%223%22%2C%22intentblock%22%3A%221%22%2C%22qid%22%3A%22%ED%99%98%EC%9C%A8%22%2C%22nquery%22%3A%22%ED%99%98%EC%9C%A8%22%7D&query=%ED%99%98%EC%9C%A8&sqs=&ssc=tab.itb.all&start=1&where=nx_bridge\" class=\"popular_block_wrap type_bg4\" onclick=\"goOtherCR(this, 'a=itb_bas*0.block&r=13&i=SYS-0000000025532035&g=%7B%22bid%22%3A%22SYS-0000000025532035%22%7D&u='+urlencode(this.href));\"> <div class=\"user_wrap\"> <div class=\"thumb_area\"> <div class=\"thumb\"> <div class=\"inner\"><img src=\"data:image/gif;base64,R0lGODlhAQABAIAAAAAAAP///yH5BAEAAAAALAAAAAABAAEAAAIBRAA7\" data-lazysrc=\"https://search.pstatic.net/common/?src=http%3A%2F%2Fblogfiles.naver.net%2FMjAyMzA4MDRfMTkx%2FMDAxNjkxMTMwMzI0MzQ3._-OiOFdhCbN40CmgN-DJuyYl5rJ9cZWLoFLAlXxlZOwg.zNMTGLi5tbEFUFw4zYZSdB5rSf_Tqg1AXIRV7eOzsCog.PNG.0simijustdoit%2FIMG_2730.PNG%23900x900&type=f210_208\" data-img-alias=\"intent-popular\" width=\"105\" height=\"96\" alt=\"\" class=\"img\" onerror=\"this.src='data:image/gif;base64,R0lGODlhAQABAIAAAAAAAP///yH5BAEAAAAALAAAAAABAAEAAAIBRAA7';this.className='img bg_nimg2'\"></div> </div> <div class=\"user_thumb\"> <span class=\"user\"><img src=\"data:image/gif;base64,R0lGODlhAQABAIAAAAAAAP///yH5BAEAAAAALAAAAAABAAEAAAIBRAA7\" data-lazysrc=\"https://search.pstatic.net/common/?src=http%3A%2F%2Fblogpfthumb.phinf.naver.net%2F20101012_235%2Fanaishan0723_1286855167744_Ya5VtH_jpg%2F%25C0%25B1%25BC%25F6%25C7%25FC-%25BA%25ED%25B8%25AE%25C4%25A1%25B9%25D9%25C0%25CC%25C6%25D0%25BD%25BAre%255B1%255D.jpg&type=f48_48\" data-img-alias=\"intent-popular\" width=\"16\" height=\"16\" alt=\"\" class=\"img\" onerror=\"this.src='data:image/gif;base64,R0lGODlhAQABAIAAAAAAAP///yH5BAEAAAAALAAAAAABAAEAAAIBRAA7';this.className='img bg_npimg'\"></span> <span class=\"user\"><img src=\"data:image/gif;base64,R0lGODlhAQABAIAAAAAAAP///yH5BAEAAAAALAAAAAABAAEAAAIBRAA7\" data-lazysrc=\"https://search.pstatic.net/common/?src=http%3A%2F%2Fblogpfthumb.phinf.naver.net%2FMjAyMjAyMDJfMTU3%2FMDAxNjQzNzMzMDk3Mjc2.Oon6u_61NwsmEPFJIZRBufySDGyWg7h0A-5x4I08zhQg.xhtvDvsw1PCCHYtV5dvs5tDHflNjr7JtqLKy8WYCG60g.JPEG.rgbbike%2FprofileImage.jpg&type=f48_48\" data-img-alias=\"intent-popular\" width=\"16\" height=\"16\" alt=\"\" class=\"img\" onerror=\"this.src='data:image/gif;base64,R0lGODlhAQABAIAAAAAAAP///yH5BAEAAAAALAAAAAABAAEAAAIBRAA7';this.className='img bg_npimg'\"></span> <span class=\"user\"><img src=\"data:image/gif;base64,R0lGODlhAQABAIAAAAAAAP///yH5BAEAAAAALAAAAAABAAEAAAIBRAA7\" data-lazysrc=\"https://search.pstatic.net/common/?src=http%3A%2F%2Fblogpfthumb.phinf.naver.net%2FMjAyMjA3MTJfMTY4%2FMDAxNjU3NjExMjQwMTU0.Ygyn_ftmYdaJ0IOSdfxE-F6u3cZHTs5nTiEVqz3gB5sg.ONSGNVJfPcD8paKACR8nvy2QKWMgDFlfOJ-9PaMstqEg.PNG.0simijustdoit%2F%25C4%25B8%25C3%25B3.PNG%2F%25C4%25B8%25C3%25B3.PNG&type=f48_48\" data-img-alias=\"intent-popular\" width=\"16\" height=\"16\" alt=\"\" class=\"img\" onerror=\"this.src='data:image/gif;base64,R0lGODlhAQABAIAAAAAAAP///yH5BAEAAAAALAAAAAABAAEAAAIBRAA7';this.className='img bg_npimg'\"></span> </div> </div> <div class=\"dsc_area\"> <div class=\"dsc\">매도 환율</div> </div> </div> </a> </div> <div class=\"flick_bx\"> <a target=\"_blank\" href=\"https://s.search.naver.com/p/intentblock/search.naver?ac=0&aq=0&bid=SYS-0000000025532071&display=10&lgl_lat=37.517675&lgl_long=126.7271995&lgl_rcode=11237106&ngn_country=KR&nlu_query=%7B%22v%22%3A%223%22%2C%22intentblock%22%3A%221%22%2C%22qid%22%3A%22%ED%99%98%EC%9C%A8%22%2C%22nquery%22%3A%22%ED%99%98%EC%9C%A8%22%7D&query=%ED%99%98%EC%9C%A8&sqs=&ssc=tab.itb.all&start=1&where=nx_bridge\" class=\"popular_block_wrap type_bg5\" onclick=\"goOtherCR(this, 'a=itb_bas*0.block&r=14&i=SYS-0000000025532071&g=%7B%22bid%22%3A%22SYS-0000000025532071%22%7D&u='+urlencode(this.href));\"> <div class=\"user_wrap\"> <div class=\"thumb_area\"> <div class=\"thumb\"> <div class=\"inner\"><img src=\"data:image/gif;base64,R0lGODlhAQABAIAAAAAAAP///yH5BAEAAAAALAAAAAABAAEAAAIBRAA7\" data-lazysrc=\"https://search.pstatic.net/common/?src=https%3A%2F%2Fmblogthumb-phinf.pstatic.net%2FMjAyMzA2MjhfNjAg%2FMDAxNjg3OTAwNzY1NjA2.50qS6vMCoy4mx3Q8Q71xGRbH7u7gq5I5bVlXnXZ0PVgg.d9iosyQsUrlAzA_KJ8t8CZM5b7jGPjuh_YVTW-6w6VMg.PNG.rct190%2F%25C1%25A6%25B8%25F1%25C0%25BB_%25C0%25D4%25B7%25C2%25C7%25D8%25C1%25D6%25BC%25BC%25BF%25E4_-001_%252880%2529.png%3Ftype%3Dw800&type=f210_208\" data-img-alias=\"intent-popular\" width=\"105\" height=\"96\" alt=\"\" class=\"img\" onerror=\"this.src='data:image/gif;base64,R0lGODlhAQABAIAAAAAAAP///yH5BAEAAAAALAAAAAABAAEAAAIBRAA7';this.className='img bg_nimg2'\"></div> </div> <div class=\"user_thumb\"> <span class=\"user\"><img src=\"data:image/gif;base64,R0lGODlhAQABAIAAAAAAAP///yH5BAEAAAAALAAAAAABAAEAAAIBRAA7\" data-lazysrc=\"https://search.pstatic.net/common/?src=http%3A%2F%2Fblogpfthumb.phinf.naver.net%2FMjAyMzA4MDJfMTEz%2FMDAxNjkwOTI3NDE2OTQz.i-eFkNJrFAP07xeInyYoaaY8qUmutv2YM3PW8ttfaWMg.DaNh7VXHSylEEp7d-xLwdfxSHm9I-0qttXjyRpohfDsg.JPEG.dreaming-whale%2FprofileImage.jpg&type=f48_48\" data-img-alias=\"intent-popular\" width=\"16\" height=\"16\" alt=\"\" class=\"img\" onerror=\"this.src='data:image/gif;base64,R0lGODlhAQABAIAAAAAAAP///yH5BAEAAAAALAAAAAABAAEAAAIBRAA7';this.className='img bg_npimg'\"></span> <span class=\"user\"><img src=\"data:image/gif;base64,R0lGODlhAQABAIAAAAAAAP///yH5BAEAAAAALAAAAAABAAEAAAIBRAA7\" data-lazysrc=\"https://search.pstatic.net/common/?src=http%3A%2F%2Fblogpfthumb.phinf.naver.net%2FMjAyMjA0MjVfMTE3%2FMDAxNjUwODkzNTQ1MDc3.oQmhNLW4ByhUqSBbz6F5jvf_VUsfhXpH18yd3zmcKdYg.y5y_KjaZbBorF7uNXBrqHhh0NiyKf_0umO8wxVi4R6Ug.PNG.jik0610%2FKakaoTalk_20220425_222102811.png%2FKakaoTalk_20220425_222102811.png&type=f48_48\" data-img-alias=\"intent-popular\" width=\"16\" height=\"16\" alt=\"\" class=\"img\" onerror=\"this.src='data:image/gif;base64,R0lGODlhAQABAIAAAAAAAP///yH5BAEAAAAALAAAAAABAAEAAAIBRAA7';this.className='img bg_npimg'\"></span> <span class=\"user\"><img src=\"data:image/gif;base64,R0lGODlhAQABAIAAAAAAAP///yH5BAEAAAAALAAAAAABAAEAAAIBRAA7\" data-lazysrc=\"https://search.pstatic.net/common/?src=https%3A%2F%2Finfluencer-phinf.pstatic.net%2FMjAyMTAxMjhfMTc5%2FMDAxNjExODI0MDE2NjA4.dg2J77TY0sdHZajsdR3_cF_h1Gr0MmdUjF2cGx8SN1kg.rCvlV41IqckC-y3mbYn7PgMoE-5i0oREPfYdJiPFwrMg.JPEG%2F20191120_170528565.jpg&type=f48_48\" data-img-alias=\"intent-popular\" width=\"16\" height=\"16\" alt=\"\" class=\"img\" onerror=\"this.src='data:image/gif;base64,R0lGODlhAQABAIAAAAAAAP///yH5BAEAAAAALAAAAAABAAEAAAIBRAA7';this.className='img bg_npimg'\"></span> </div> </div> <div class=\"dsc_area\"> <div class=\"dsc\">환율 투자</div> </div> </div> </a> </div> <div class=\"flick_bx flick_more block_more\"> <a href=\"https://s.search.naver.com/p/intentblock/search.naver?nlu_query=%7B%22v%22%3A%223%22%2C%22intentblock%22%3A%221%22%2C%22qid%22%3A%22%ED%99%98%EC%9C%A8%22%2C%22nquery%22%3A%22%ED%99%98%EC%9C%A8%22%7D&query=%ED%99%98%EC%9C%A8&sqs=&where=nx_blocks_bridge\" class=\"api_list_more block_list_more _btn_bottomsheet\" target=\"_blank\" onclick=\"goOtherCR(this, 'a=itb_bas*0.moreblock&r=&i=&g=&u='+urlencode(this.href));\"> <span class=\"api_more_info\"> <span class=\"spnew api_loader\"></span>더보기 </span> </a> </div> </div> <div class=\"api_btn_page\"> <div class=\"btn_prev _au_btn_prev\" style=\"display: none;\"><a href=\"#\" role=\"button\" class=\"btn\" onclick=\"tCR('a=itb_bas*0.prev&r=&i=&u=javascript');\"><i class=\"spnew ico_arr\">이전</i></a></div> <div class=\"btn_next _au_btn_next\" style=\"display: none;\"><a href=\"#\" role=\"button\" class=\"btn\" onclick=\"tCR('a=itb_bas*0.next&r=&i=&u=javascript');\"><i class=\"spnew ico_arr\">다음</i></a></div> </div> </div> </div> </div> </section><section class=\"sc_new sp_intent_block \"> <div class=\"api_subject_bx \"> <div class=\"intent_title_area\"> <div class=\"intent_title_wrap\"> <strong class=\"intent_title\">환율 하락 이유</strong> </div> </div> <div class=\"intent_wrap  \"> <div class=\"keyword_challenge_wrap\"> <ul class=\"keyword_challenge_list _au_list\"> <li class=\"keyword_item api_ani_send \" data-area-name=\"itb_bas*b 15 SYS-0000000025532065 90000003_0000000000000033F3AF90EA,1\" data-space-id=\"\" data-alarm-name=\"엿장수의 집중투자\" data-alarm-link=\"https://in.naver.com/\" data-alarm-thumb=\"https://search.pstatic.net/common/?src=http%3A%2F%2Fblogpfthumb.phinf.naver.net%2FMjAyMzA3MzBfMjg4%2FMDAxNjkwNzA0NDgzMjY1.sQIL75fk4L2WloHcVxUZgJCyE4Zttq80aNnbLRPrWnAg.Wy6wSmP61HE6ofMZjjJ5lnn5VyuCx5lV5S7Dp6FQOOog.PNG.onosaka_sy%2F%2525EC%252597%2525BF%2525EC%25259E%2525A5%2525EC%252588%252598%2525EC%25259D%252598_%2525EC%2525A7%252591%2525EC%2525A4%252591%2525ED%252588%2525AC%2525EC%25259E%252590_%2525ED%252594%252584%2525EB%2525A1%25259C%2525ED%252595%252584.png%2F%2525EC%252597%2525BF%2525EC%25259E%2525A5%2525EC%252588%252598%2525EC%25259D%252598%252B%2525EC%2525A7%252591%2525EC%2525A4%252591%2525ED%252588%2525AC%2525EC%25259E%252590_%2525ED%252594%252584%2525EB%2525A1%25259C%2525ED%252595%252584.png&type=f44_44\" > <div class=\"content_area \"> <div class=\"user_box\"> <div class=\"api_save_group _keep_wrap\"> <a href=\"#\" role=\"button\" class=\"btn_save _keep_trigger\" aria-pressed=\"false\" data-cr-on=\"a=itb_bas*b.kep&r=15&i=SYS-0000000025532065.90000003_0000000000000033F3AF90EA&g=%7B%22bid%22%3A%22SYS-0000000025532065%22%2C%22docRank%22%3A1%7D\" data-cr-off=\"a=itb_bas*b.kep&r=15&i=SYS-0000000025532065.90000003_0000000000000033F3AF90EA&g=%7B%22bid%22%3A%22SYS-0000000025532065%22%2C%22docRank%22%3A1%7D\" data-url=\"https://blog.naver.com/onosaka_sy/223131701482\"><i class=\"spnew ico_save\">문서 저장하기</i></a> <div class=\"api_ly_save _keep_save_layer\" style=\"display: none;\"> <a href=\"javascript:;\" role=\"button\" class=\"spnew_af item item_save _keep_save\" data-cr-on=\"a=itb_bas*b.kepon&r=15&i=SYS-0000000025532065.90000003_0000000000000033F3AF90EA&g=%7B%22bid%22%3A%22SYS-0000000025532065%22%2C%22docRank%22%3A1%7D\" data-cr-off=\"a=itb_bas*b.kepoff&r=15&i=SYS-0000000025532065.90000003_0000000000000033F3AF90EA&g=%7B%22bid%22%3A%22SYS-0000000025532065%22%2C%22docRank%22%3A1%7D\">Keep에 저장</a> <a target=\"_blank\" href=\"https://keep.naver.com/\" class=\"spnew_af item item_quick\" onclick=\"goOtherCR(this, 'a=itb_bas*b.kephome&r=&i=&g=&u='+urlencode(this.href));\">Keep 바로가기</a> </div> </div> <a target=\"_blank\" href=\"https://blog.naver.com/onosaka_sy\" class=\"thumb_group\" data-fan-target=\"15\" onclick=\"goOtherCR(this, 'a=itb_bas*b.profile&r=15&i=SYS-0000000025532065.90000003_0000000000000033F3AF90EA&g=%7B%22bid%22%3A%22SYS-0000000025532065%22%2C%22docRank%22%3A1%7D&u='+urlencode(this.href));\"> <img src=\"https://search.pstatic.net/common/?src=http%3A%2F%2Fblogpfthumb.phinf.naver.net%2FMjAyMzA3MzBfMjg4%2FMDAxNjkwNzA0NDgzMjY1.sQIL75fk4L2WloHcVxUZgJCyE4Zttq80aNnbLRPrWnAg.Wy6wSmP61HE6ofMZjjJ5lnn5VyuCx5lV5S7Dp6FQOOog.PNG.onosaka_sy%2F%2525EC%252597%2525BF%2525EC%25259E%2525A5%2525EC%252588%252598%2525EC%25259D%252598_%2525EC%2525A7%252591%2525EC%2525A4%252591%2525ED%252588%2525AC%2525EC%25259E%252590_%2525ED%252594%252584%2525EB%2525A1%25259C%2525ED%252595%252584.png%2F%2525EC%252597%2525BF%2525EC%25259E%2525A5%2525EC%252588%252598%2525EC%25259D%252598%252B%2525EC%2525A7%252591%2525EC%2525A4%252591%2525ED%252588%2525AC%2525EC%25259E%252590_%2525ED%252594%252584%2525EB%2525A1%25259C%2525ED%252595%252584.png&type=f72_72_shop\" width=\"20\" height=\"20\" alt=\"\" class=\"img\" onerror=\"this.src='data:image/gif;base64,R0lGODlhAQABAIAAAAAAAP///yH5BAEAAAAALAAAAAABAAEAAAIBRAA7';this.className='img bg_npimg'\"> </a> <div class=\"info_group\"> <div class=\"group_inner\"> <a target=\"_blank\" href=\"https://blog.naver.com/onosaka_sy\" class=\"name\" onclick=\"goOtherCR(this, 'a=itb_bas*b.profile&r=15&i=SYS-0000000025532065.90000003_0000000000000033F3AF90EA&g=%7B%22bid%22%3A%22SYS-0000000025532065%22%2C%22docRank%22%3A1%7D&u='+urlencode(this.href));\">엿장수의 집중투자</a> <div class=\"info\">2023.06.19.</div> </div> </div> </div> <div class=\"detail_box type_emphasis _fe_intent_detail_conveyer_root\"> <div class=\"title_area\"> <a target=\"_blank\" href=\"https://blog.naver.com/onosaka_sy/223131701482\" onclick=\"goOtherCR(this, 'a=itb_bas*b.imgtitlelink&r=15&i=SYS-0000000025532065.90000003_0000000000000033F3AF90EA&g=%7B%22bid%22%3A%22SYS-0000000025532065%22%2C%22docRank%22%3A1%7D&u='+urlencode(this.href));\" class=\"title _intent_cross_collection_trigger\">원달러<mark>환율</mark> 하락 이유: 한미 금리차</a> </div> <div class=\"api_pcpg_wrap\"> <div class=\"api_flicking_wrap thumb_list _au_conveyer_container\" style=\"height: 102px;\" > <div class=\"flick_bx\"> <a target=\"_blank\" href=\"https://blog.naver.com/onosaka_sy/223131701482\" class=\"link _intent_cross_collection_trigger\" onclick=\"goOtherCR(this, 'a=itb_bas*b.imgtitlelink&r=15&i=SYS-0000000025532065.90000003_0000000000000033F3AF90EA&g=%7B%22bid%22%3A%22SYS-0000000025532065%22%2C%22docRank%22%3A1%7D&u='+urlencode(this.href));\"> <img src=\"https://search.pstatic.net/common/?src=http%3A%2F%2Fblogfiles.naver.net%2FMjAyMzA2MThfMjU3%2FMDAxNjg3MDE0MjgzMzU3.CfRjy8FoCn3AQ7CFK4pq56fyK1-izI-9DzgmfdiKHRAg.Gh8iWbyZ1Oo_1GiCYGnWlCiUnV16A_iA1_B_MbbiAkMg.PNG.onosaka_sy%2F%25BF%25F8%25B4%25DE%25B7%25AF%25C8%25AF%25C0%25B2_%25C7%25D1%25B9%25CC%25B1%25DD%25B8%25AE%25C2%25F7.png%232000x2000&type=b220\" height=\"106\" alt=\"이미지준비중\" class=\"img\" onerror=\"this.src='data:image/gif;base64,R0lGODlhAQABAIAAAAAAAP///yH5BAEAAAAALAAAAAABAAEAAAIBRAA7';this.className='img bg_nimg2'\"> </a> </div> <div class=\"flick_bx\"> <a target=\"_blank\" href=\"https://blog.naver.com/onosaka_sy/223131701482\" class=\"link _intent_cross_collection_trigger\" onclick=\"goOtherCR(this, 'a=itb_bas*b.imgtitlelink&r=15&i=SYS-0000000025532065.90000003_0000000000000033F3AF90EA&g=%7B%22bid%22%3A%22SYS-0000000025532065%22%2C%22docRank%22%3A1%7D&u='+urlencode(this.href));\"> <img src=\"https://search.pstatic.net/common/?src=http%3A%2F%2Fblogfiles.naver.net%2FMjAyMzA2MThfOTMg%2FMDAxNjg3MDE0MjQ0Mjg3.TU98AX8nIkGInhZ0GImeEfrhHAS1CCA_4dKtFuf0Aw0g.ic7IEHewCDRMZResNtUFDI4Vgu5SR_F7UxhnomT_ULQg.PNG.onosaka_sy%2F%25BF%25F8%25B4%25DE%25B7%25AF%25C8%25AF%25C0%25B2%25C2%25F7%25C6%25AE.png%23720x800&type=b220\" height=\"106\" alt=\"이미지준비중\" class=\"img\" onerror=\"this.src='data:image/gif;base64,R0lGODlhAQABAIAAAAAAAP///yH5BAEAAAAALAAAAAABAAEAAAIBRAA7';this.className='img bg_nimg2'\"> </a> </div> <div class=\"flick_bx\"> <a target=\"_blank\" href=\"https://blog.naver.com/onosaka_sy/223131701482\" class=\"link _intent_cross_collection_trigger\" onclick=\"goOtherCR(this, 'a=itb_bas*b.imgtitlelink&r=15&i=SYS-0000000025532065.90000003_0000000000000033F3AF90EA&g=%7B%22bid%22%3A%22SYS-0000000025532065%22%2C%22docRank%22%3A1%7D&u='+urlencode(this.href));\"> <img src=\"https://search.pstatic.net/common/?src=http%3A%2F%2Fblogfiles.naver.net%2FMjAyMzA2MThfNzAg%2FMDAxNjg3MDE0MjUzNzAx.3QU53MLBgs2s8HX-1U7NfcRJB1cE0Fv6tca92ebWA68g.PAsb5hFIhdyE0gfOgP7rc2L3dc3p4y4BQoctXcQRbaog.PNG.onosaka_sy%2F%25BF%25B9%25B1%25DD%25BB%25F3%25C7%25B0%25BF%25B9%25BD%25C3.png%231000x750&type=b220\" height=\"106\" alt=\"이미지준비중\" class=\"img\" onerror=\"this.src='data:image/gif;base64,R0lGODlhAQABAIAAAAAAAP///yH5BAEAAAAALAAAAAABAAEAAAIBRAA7';this.className='img bg_nimg2'\"> </a> </div> <div class=\"flick_bx\"> <a target=\"_blank\" href=\"https://blog.naver.com/onosaka_sy/223131701482\" class=\"link _intent_cross_collection_trigger\" onclick=\"goOtherCR(this, 'a=itb_bas*b.imgtitlelink&r=15&i=SYS-0000000025532065.90000003_0000000000000033F3AF90EA&g=%7B%22bid%22%3A%22SYS-0000000025532065%22%2C%22docRank%22%3A1%7D&u='+urlencode(this.href));\"> <img src=\"https://search.pstatic.net/common/?src=http%3A%2F%2Fblogfiles.naver.net%2FMjAyMzA2MThfMjc4%2FMDAxNjg3MDE0NDI0MTE4.tgmIwnL6fRjuLUNjw-nlqs6jfTLFpSkB2_2hm1HZZ-Eg.qK9zaSJn5N82jvzNh6-DR2AsyfJOcnTRiBKjG4Ga3S4g.PNG.onosaka_sy%2F%25B9%25CC%25B1%25B9%25B1%25E2%25C1%25D8%25B1%25DD%25B8%25AE.png%23744x842&type=b220\" height=\"106\" alt=\"이미지준비중\" class=\"img\" onerror=\"this.src='data:image/gif;base64,R0lGODlhAQABAIAAAAAAAP///yH5BAEAAAAALAAAAAABAAEAAAIBRAA7';this.className='img bg_nimg2'\"> </a> </div> <div class=\"flick_bx\"> <a target=\"_blank\" href=\"https://blog.naver.com/onosaka_sy/223131701482\" class=\"link _intent_cross_collection_trigger\" onclick=\"goOtherCR(this, 'a=itb_bas*b.imgtitlelink&r=15&i=SYS-0000000025532065.90000003_0000000000000033F3AF90EA&g=%7B%22bid%22%3A%22SYS-0000000025532065%22%2C%22docRank%22%3A1%7D&u='+urlencode(this.href));\"> <img src=\"https://search.pstatic.net/common/?src=http%3A%2F%2Fblogfiles.naver.net%2FMjAyMzA2MThfMjM4%2FMDAxNjg3MDE0NDI1OTM3.lURU0Qj28Zy8o5p69nDO8RaafWxZNJ-dhBnfu6RwHMkg.QoAX_-q2qIg_qPXfXYqcX9h9cqu3zASmhkB6VTtA9h4g.PNG.onosaka_sy%2F%25C7%25D1%25B1%25B9%25B1%25E2%25C1%25D8%25B1%25DD%25B8%25AE.png%23744x842&type=b220\" height=\"106\" alt=\"이미지준비중\" class=\"img\" onerror=\"this.src='data:image/gif;base64,R0lGODlhAQABAIAAAAAAAP///yH5BAEAAAAALAAAAAABAAEAAAIBRAA7';this.className='img bg_nimg2'\"> </a> </div> <div class=\"flick_bx\"> <a target=\"_blank\" href=\"https://blog.naver.com/onosaka_sy/223131701482\" class=\"link _intent_cross_collection_trigger\" onclick=\"goOtherCR(this, 'a=itb_bas*b.imgtitlelink&r=15&i=SYS-0000000025532065.90000003_0000000000000033F3AF90EA&g=%7B%22bid%22%3A%22SYS-0000000025532065%22%2C%22docRank%22%3A1%7D&u='+urlencode(this.href));\"> <img src=\"https://search.pstatic.net/common/?src=http%3A%2F%2Fblogfiles.naver.net%2FMjAyMzA2MThfODEg%2FMDAxNjg3MDE0MzExOTcz.RN6DWwNPHuHYwSPDCcEAmucdWY1OvAhuCW5AfnDcvzkg.1IKsKMAkPlqgw54UXmlgT-G2fIE5w-Pgxp78mMGJV50g.PNG.onosaka_sy%2F%25B4%25DE%25B7%25AF_%25BF%25F8%25C8%25AD.png%231000x750&type=b220\" height=\"106\" alt=\"이미지준비중\" class=\"img\" onerror=\"this.src='data:image/gif;base64,R0lGODlhAQABAIAAAAAAAP///yH5BAEAAAAALAAAAAABAAEAAAIBRAA7';this.className='img bg_nimg2'\"> </a> </div> <div class=\"flick_bx\"> <a target=\"_blank\" href=\"https://blog.naver.com/onosaka_sy/223131701482\" class=\"link _intent_cross_collection_trigger\" onclick=\"goOtherCR(this, 'a=itb_bas*b.imgtitlelink&r=15&i=SYS-0000000025532065.90000003_0000000000000033F3AF90EA&g=%7B%22bid%22%3A%22SYS-0000000025532065%22%2C%22docRank%22%3A1%7D&u='+urlencode(this.href));\"> <img src=\"https://search.pstatic.net/common/?src=http%3A%2F%2Fblogfiles.naver.net%2FMjAyMzA2MThfNjMg%2FMDAxNjg3MDE0MzM1Mjgy.GV0N8YCTmkvgyoIdjX-Bq6sX9CO3gBs25tU0MGq52yYg.WU30qlblsiJhLE4iW815s27j6M-nqmoUi854Co6oyhAg.PNG.onosaka_sy%2F%25BF%25F8%25B4%25DE%25B7%25AF%25C8%25AF%25C0%25B2.png%231000x750&type=b220\" height=\"106\" alt=\"이미지준비중\" class=\"img\" onerror=\"this.src='data:image/gif;base64,R0lGODlhAQABAIAAAAAAAP///yH5BAEAAAAALAAAAAABAAEAAAIBRAA7';this.className='img bg_nimg2'\"> </a> </div> <div class=\"flick_bx\"> <a target=\"_blank\" href=\"https://blog.naver.com/onosaka_sy/223131701482\" class=\"link _intent_cross_collection_trigger\" onclick=\"goOtherCR(this, 'a=itb_bas*b.imgtitlelink&r=15&i=SYS-0000000025532065.90000003_0000000000000033F3AF90EA&g=%7B%22bid%22%3A%22SYS-0000000025532065%22%2C%22docRank%22%3A1%7D&u='+urlencode(this.href));\"> <img src=\"https://search.pstatic.net/common/?src=http%3A%2F%2Fblogfiles.naver.net%2FMjAyMzA2MThfNzcg%2FMDAxNjg3MDE0NDI3NTk4.vjIOewHutCD67DEz9OY5Z9JXhlQM3FTQgO7_ep_faosg.WS66e8AEqpoblOJaN8LBfEw7gjmaJtj2pmgAXeCgeRwg.PNG.onosaka_sy%2F%25BF%25F8%25C8%25AD%25B1%25E2%25C3%25E0%25C5%25EB%25C8%25AD_%25B0%25D4%25BD%25C3%25B1%25DB.png%23744x660&type=b220\" height=\"106\" alt=\"이미지준비중\" class=\"img\" onerror=\"this.src='data:image/gif;base64,R0lGODlhAQABAIAAAAAAAP///yH5BAEAAAAALAAAAAABAAEAAAIBRAA7';this.className='img bg_nimg2'\"> </a> </div> <div class=\"flick_bx\"> <a target=\"_blank\" href=\"https://blog.naver.com/onosaka_sy/223131701482\" class=\"link _intent_cross_collection_trigger\" onclick=\"goOtherCR(this, 'a=itb_bas*b.imgtitlelink&r=15&i=SYS-0000000025532065.90000003_0000000000000033F3AF90EA&g=%7B%22bid%22%3A%22SYS-0000000025532065%22%2C%22docRank%22%3A1%7D&u='+urlencode(this.href));\"> <img src=\"https://search.pstatic.net/common/?src=http%3A%2F%2Fblogfiles.naver.net%2FMjAyMzA2MThfMjMg%2FMDAxNjg3MDE0NDI5MTM5.SCaiDdVA9GEJtvMLKpDVICm_pI7LhGy9N73BW_Wl1cQg.YAS6Rqn0ZW9Rzzx9D_vNitNBejEv08tx-3gOk1xRkbUg.PNG.onosaka_sy%2F%25BF%25F8%25C8%25AD%25B1%25E2%25C3%25E0%25C5%25EB%25C8%25AD_%25C4%25AB%25C5%25E5.png%23744x268&type=b220\" height=\"106\" alt=\"이미지준비중\" class=\"img\" onerror=\"this.src='data:image/gif;base64,R0lGODlhAQABAIAAAAAAAP///yH5BAEAAAAALAAAAAABAAEAAAIBRAA7';this.className='img bg_nimg2'\"> </a> </div> </div> <div class=\"api_btn_page type_transparent\"> <div class=\"btn_prev _au_btn_prev\" style=\"display: none;\"><a href=\"#\" role=\"button\" class=\"btn\" onclick=\"tCR('a=itb_bas*b.imgflk&r=&i=&u=javascript');\"><i class=\"spnew ico_arr\">이전</i></a></div> <div class=\"btn_next _au_btn_next\" style=\"display: none;\"><a href=\"#\" role=\"button\" class=\"btn\" onclick=\"tCR('a=itb_bas*b.imgflk&r=&i=&u=javascript');\"><i class=\"spnew ico_arr\">다음</i></a></div> </div> </div> <div class=\"info_area\"> <a target=\"_blank\" href=\"https://blog.naver.com/onosaka_sy/223131701482\" onclick=\"goOtherCR(this, 'a=itb_bas*b.imgtitlelink&r=15&i=SYS-0000000025532065.90000003_0000000000000033F3AF90EA&g=%7B%22bid%22%3A%22SYS-0000000025532065%22%2C%22docRank%22%3A1%7D&u='+urlencode(this.href));\" class=\"desc _intent_cross_collection_trigger _ellipsis\"><span class=\"txt _text\">요즘 원달러<mark>환율</mark>이 큰 폭으로 하락하는 모습을 보이고 있는데요. 원달러<mark>환율</mark>은 한때 1300원을 훌쩍 넘었지만 지금은 1270원대를 유지하며 전과 다르게 많이 낮아졌습니다. 그렇다면 왜 이렇게 원달러<mark>환율</mark>이 하락해버린 것일까요? 이것은 한미 금리차 때문인데요. 이번 포스팅에서는 원달러<mark>환율</mark> 하락 이유에 대해서 알아보겠습니다. 일단 본격적으로 개념을 설명드리기... </span></a> </div> </div> </div> </li> <li class=\"keyword_item api_ani_send \" data-area-name=\"itb_bas*b 16 SYS-0000000025532065 90000003_0000000000000033F3DEAE92,2\" data-space-id=\"\" data-alarm-name=\"코코의 경제스토리\" data-alarm-link=\"https://in.naver.com/\" data-alarm-thumb=\"https://search.pstatic.net/common/?src=http%3A%2F%2Fblogpfthumb.phinf.naver.net%2FMjAyMjA2MjRfMTYx%2FMDAxNjU2MDU0NjkxMTU4._suf7NO8tLE8RaHiiQFYKfI0gVAWsO7Hj4lu8QTo6QYg.IdDBMI_SgHBXrMyBgwaA8ZbuEZPul-hNDhmZnHYwc8kg.PNG.cocojjw%2F1.png%2F1.png&type=f44_44\" > <div class=\"content_area \"> <div class=\"user_box\"> <div class=\"api_save_group _keep_wrap\"> <a href=\"#\" role=\"button\" class=\"btn_save _keep_trigger\" aria-pressed=\"false\" data-cr-on=\"a=itb_bas*b.kep&r=16&i=SYS-0000000025532065.90000003_0000000000000033F3DEAE92&g=%7B%22bid%22%3A%22SYS-0000000025532065%22%2C%22docRank%22%3A2%7D\" data-cr-off=\"a=itb_bas*b.kep&r=16&i=SYS-0000000025532065.90000003_0000000000000033F3DEAE92&g=%7B%22bid%22%3A%22SYS-0000000025532065%22%2C%22docRank%22%3A2%7D\" data-url=\"https://blog.naver.com/cocojjw/223134789266\"><i class=\"spnew ico_save\">문서 저장하기</i></a> <div class=\"api_ly_save _keep_save_layer\" style=\"display: none;\"> <a href=\"javascript:;\" role=\"button\" class=\"spnew_af item item_save _keep_save\" data-cr-on=\"a=itb_bas*b.kepon&r=16&i=SYS-0000000025532065.90000003_0000000000000033F3DEAE92&g=%7B%22bid%22%3A%22SYS-0000000025532065%22%2C%22docRank%22%3A2%7D\" data-cr-off=\"a=itb_bas*b.kepoff&r=16&i=SYS-0000000025532065.90000003_0000000000000033F3DEAE92&g=%7B%22bid%22%3A%22SYS-0000000025532065%22%2C%22docRank%22%3A2%7D\">Keep에 저장</a> <a target=\"_blank\" href=\"https://keep.naver.com/\" class=\"spnew_af item item_quick\" onclick=\"goOtherCR(this, 'a=itb_bas*b.kephome&r=&i=&g=&u='+urlencode(this.href));\">Keep 바로가기</a> </div> </div> <a target=\"_blank\" href=\"https://blog.naver.com/cocojjw\" class=\"thumb_group\" data-fan-target=\"16\" onclick=\"goOtherCR(this, 'a=itb_bas*b.profile&r=16&i=SYS-0000000025532065.90000003_0000000000000033F3DEAE92&g=%7B%22bid%22%3A%22SYS-0000000025532065%22%2C%22docRank%22%3A2%7D&u='+urlencode(this.href));\"> <img src=\"https://search.pstatic.net/common/?src=http%3A%2F%2Fblogpfthumb.phinf.naver.net%2FMjAyMjA2MjRfMTYx%2FMDAxNjU2MDU0NjkxMTU4._suf7NO8tLE8RaHiiQFYKfI0gVAWsO7Hj4lu8QTo6QYg.IdDBMI_SgHBXrMyBgwaA8ZbuEZPul-hNDhmZnHYwc8kg.PNG.cocojjw%2F1.png%2F1.png&type=f72_72_shop\" width=\"20\" height=\"20\" alt=\"\" class=\"img\" onerror=\"this.src='data:image/gif;base64,R0lGODlhAQABAIAAAAAAAP///yH5BAEAAAAALAAAAAABAAEAAAIBRAA7';this.className='img bg_npimg'\"> </a> <div class=\"info_group\"> <div class=\"group_inner\"> <a target=\"_blank\" href=\"https://blog.naver.com/cocojjw\" class=\"name\" onclick=\"goOtherCR(this, 'a=itb_bas*b.profile&r=16&i=SYS-0000000025532065.90000003_0000000000000033F3DEAE92&g=%7B%22bid%22%3A%22SYS-0000000025532065%22%2C%22docRank%22%3A2%7D&u='+urlencode(this.href));\">코코의 경제스토리</a> <div class=\"info\">2023.06.21.</div> </div> </div> </div> <div class=\"detail_box \"> <a target=\"_blank\" target=\"_blank\" href=\"https://blog.naver.com/cocojjw/223134789266\" class=\"thumb_area _intent_cross_collection_trigger \" onclick=\"goOtherCR(this, 'a=itb_bas*b.link&r=16&i=SYS-0000000025532065.90000003_0000000000000033F3DEAE92&g=%7B%22bid%22%3A%22SYS-0000000025532065%22%2C%22docRank%22%3A2%7D&u='+urlencode(this.href));\"> <img src=\"https://search.pstatic.net/common/?src=http%3A%2F%2Fblogfiles.naver.net%2FMjAyMzA2MjFfMTUy%2FMDAxNjg3MzIxMjc2MzQ2.36DdwDdFDq9R2njQbFO9KqgN5gbxgA4q7ydKuPVnKZIg.-MJJHq0ltYVpFvmj3XNpIgWqiPFHVbi9SlPe32BAv28g.PNG.cocojjw%2F%25C1%25A6%25B8%25F1%25C0%25BB-%25C0%25D4%25B7%25C2%25C7%25D8%25C1%25D6%25BC%25BC%25BF%25E4_-001_%25281%2529.png%231120x1120&type=ff264_180\" width=\"132\" height=\"90\" alt=\"이미지준비중\" class=\"img api_get\" onerror=\"this.src='data:image/gif;base64,R0lGODlhAQABAIAAAAAAAP///yH5BAEAAAAALAAAAAABAAEAAAIBRAA7';this.className='img bg_nimg'\"> <span class=\"count\">8</span> </a> <div class=\"info_area\"> <a target=\"_blank\" href=\"https://blog.naver.com/cocojjw/223134789266\" onclick=\"goOtherCR(this, 'a=itb_bas*b.link&r=16&i=SYS-0000000025532065.90000003_0000000000000033F3DEAE92&g=%7B%22bid%22%3A%22SYS-0000000025532065%22%2C%22docRank%22%3A2%7D&u='+urlencode(this.href));\" class=\"title _intent_cross_collection_trigger\">일본 엔화 <mark>환율</mark>하락 이유와 전망(엔저현상)... 엔테크/엔화 투자 방법(외화예금통장, TIGER 일본엔선물ETF, 엔화환전)</a> <a target=\"_blank\" href=\"https://blog.naver.com/cocojjw/223134789266\" onclick=\"goOtherCR(this, 'a=itb_bas*b.link&r=16&i=SYS-0000000025532065.90000003_0000000000000033F3DEAE92&g=%7B%22bid%22%3A%22SYS-0000000025532065%22%2C%22docRank%22%3A2%7D&u='+urlencode(this.href));\" class=\"desc _intent_cross_collection_trigger _ellipsis\"><span class=\"txt _text\">최근 일본의 엔화 <mark>환율</mark>이 8년 만에 최저 수준으로 하락했습니다. 19일에 원-엔 <mark>환율</mark>이 장중에 900원 선이 붕괴됐고 한 때는 897.49원까지 하락했습니다. 국내에서는 엔화 투자에 대한 열풍도 불고있습니다. 엔화 투자 방법에는 여러가지가 있는데 그 중에서도 3가지 방법에 대해서 알아보겠습니다. 3개월 차트 / 10년 차트 일본 엔화 약세... 하락 이유 국제 <mark>환율</mark>의 변화는 한... </span></a> </div> </div> </div> </li> <li class=\"keyword_item api_ani_send \" data-area-name=\"itb_bas*b 17 SYS-0000000025532065 90000003_0000000000000033F37ECEEE,3\" data-space-id=\"\" data-alarm-name=\"주상승의 파이어족 일지\" data-alarm-link=\"https://in.naver.com/\" data-alarm-thumb=\"https://search.pstatic.net/common/?src=http%3A%2F%2Fblogpfthumb.phinf.naver.net%2FMjAyMTA0MjhfMjcy%2FMDAxNjE5NTU4NzM2Mzky.ARKDnDdUvbLvWNByRP6DZjGpggn_NzbP0ooXMNMCaQQg.u2J9ILL0MUGZLdXbgQ8FHR6yxPdurO7xK-FkWRna4M0g.JPEG.usuallyrise%2Fusuallyrise.jpg&type=f44_44\" > <div class=\"content_area \"> <div class=\"user_box\"> <div class=\"api_save_group _keep_wrap\"> <a href=\"#\" role=\"button\" class=\"btn_save _keep_trigger\" aria-pressed=\"false\" data-cr-on=\"a=itb_bas*b.kep&r=17&i=SYS-0000000025532065.90000003_0000000000000033F37ECEEE&g=%7B%22bid%22%3A%22SYS-0000000025532065%22%2C%22docRank%22%3A3%7D\" data-cr-off=\"a=itb_bas*b.kep&r=17&i=SYS-0000000025532065.90000003_0000000000000033F37ECEEE&g=%7B%22bid%22%3A%22SYS-0000000025532065%22%2C%22docRank%22%3A3%7D\" data-url=\"https://blog.naver.com/usuallyrise/223128506094\"><i class=\"spnew ico_save\">문서 저장하기</i></a> <div class=\"api_ly_save _keep_save_layer\" style=\"display: none;\"> <a href=\"javascript:;\" role=\"button\" class=\"spnew_af item item_save _keep_save\" data-cr-on=\"a=itb_bas*b.kepon&r=17&i=SYS-0000000025532065.90000003_0000000000000033F37ECEEE&g=%7B%22bid%22%3A%22SYS-0000000025532065%22%2C%22docRank%22%3A3%7D\" data-cr-off=\"a=itb_bas*b.kepoff&r=17&i=SYS-0000000025532065.90000003_0000000000000033F37ECEEE&g=%7B%22bid%22%3A%22SYS-0000000025532065%22%2C%22docRank%22%3A3%7D\">Keep에 저장</a> <a target=\"_blank\" href=\"https://keep.naver.com/\" class=\"spnew_af item item_quick\" onclick=\"goOtherCR(this, 'a=itb_bas*b.kephome&r=&i=&g=&u='+urlencode(this.href));\">Keep 바로가기</a> </div> </div> <a target=\"_blank\" href=\"https://blog.naver.com/usuallyrise\" class=\"thumb_group\" data-fan-target=\"17\" onclick=\"goOtherCR(this, 'a=itb_bas*b.profile&r=17&i=SYS-0000000025532065.90000003_0000000000000033F37ECEEE&g=%7B%22bid%22%3A%22SYS-0000000025532065%22%2C%22docRank%22%3A3%7D&u='+urlencode(this.href));\"> <img src=\"https://search.pstatic.net/common/?src=http%3A%2F%2Fblogpfthumb.phinf.naver.net%2FMjAyMTA0MjhfMjcy%2FMDAxNjE5NTU4NzM2Mzky.ARKDnDdUvbLvWNByRP6DZjGpggn_NzbP0ooXMNMCaQQg.u2J9ILL0MUGZLdXbgQ8FHR6yxPdurO7xK-FkWRna4M0g.JPEG.usuallyrise%2Fusuallyrise.jpg&type=f72_72_shop\" width=\"20\" height=\"20\" alt=\"\" class=\"img\" onerror=\"this.src='data:image/gif;base64,R0lGODlhAQABAIAAAAAAAP///yH5BAEAAAAALAAAAAABAAEAAAIBRAA7';this.className='img bg_npimg'\"> </a> <div class=\"info_group\"> <div class=\"group_inner\"> <a target=\"_blank\" href=\"https://blog.naver.com/usuallyrise\" class=\"name\" onclick=\"goOtherCR(this, 'a=itb_bas*b.profile&r=17&i=SYS-0000000025532065.90000003_0000000000000033F37ECEEE&g=%7B%22bid%22%3A%22SYS-0000000025532065%22%2C%22docRank%22%3A3%7D&u='+urlencode(this.href));\">주상승의 파이어족 일지</a> <div class=\"info\">2023.06.14.</div> </div> </div> </div> <div class=\"detail_box \"> <a target=\"_blank\" target=\"_blank\" href=\"https://blog.naver.com/usuallyrise/223128506094\" class=\"thumb_area _intent_cross_collection_trigger \" onclick=\"goOtherCR(this, 'a=itb_bas*b.link&r=17&i=SYS-0000000025532065.90000003_0000000000000033F37ECEEE&g=%7B%22bid%22%3A%22SYS-0000000025532065%22%2C%22docRank%22%3A3%7D&u='+urlencode(this.href));\"> <img src=\"https://search.pstatic.net/common/?src=http%3A%2F%2Fblogfiles.naver.net%2FMjAyMzA2MTJfNjQg%2FMDAxNjg2NTMzNzQxNTQ4.amUzTiho57HWbj1aCOnUp2lsk2T4A2H4I--tGgM7FkQg.SrpM9A8z8Lx7dBGE_VTD5CkgdkIssYxzofDcrg9ttg0g.JPEG.usuallyrise%2F%25C1%25A6%25B8%25F1%25C0%25BB_%25C0%25D4%25B7%25C2%25C7%25D8%25C1%25D6%25BC%25BC%25BF%25E4__%25BA%25B9%25BB%25E7%25BA%25BB_%25BA%25B9%25BB%25E7%25BA%25BB-001.jpg%23400x400&type=ff264_180\" width=\"132\" height=\"90\" alt=\"이미지준비중\" class=\"img api_get\" onerror=\"this.src='data:image/gif;base64,R0lGODlhAQABAIAAAAAAAP///yH5BAEAAAAALAAAAAABAAEAAAIBRAA7';this.className='img bg_nimg'\"> <span class=\"count\">5</span> </a> <div class=\"info_area\"> <a target=\"_blank\" href=\"https://blog.naver.com/usuallyrise/223128506094\" onclick=\"goOtherCR(this, 'a=itb_bas*b.link&r=17&i=SYS-0000000025532065.90000003_0000000000000033F37ECEEE&g=%7B%22bid%22%3A%22SYS-0000000025532065%22%2C%22docRank%22%3A3%7D&u='+urlencode(this.href));\" class=\"title _intent_cross_collection_trigger\">엔화 하락 이유, 전망 금리차이 원엔 <mark>환율</mark></a> <a target=\"_blank\" href=\"https://blog.naver.com/usuallyrise/223128506094\" onclick=\"goOtherCR(this, 'a=itb_bas*b.link&r=17&i=SYS-0000000025532065.90000003_0000000000000033F37ECEEE&g=%7B%22bid%22%3A%22SYS-0000000025532065%22%2C%22docRank%22%3A3%7D&u='+urlencode(this.href));\" class=\"desc _intent_cross_collection_trigger _ellipsis\"><span class=\"txt _text\">엔화 하락 이유, 전망 금리차이 원엔 <mark>환율</mark> 안녕하세요. 예비 파이어족 주상승입니다. 최근 엔화가 계속해서 급락하면서 모아둔 엔화가 굉장히 많아졌습니다. 엔화투자하시는 분들은 저 같은분들 많으시라고 생각합니다. 오늘 아침에 원엔 <mark>환율</mark>을 확인해보니 무려 910원대까지 떨어졌더라고요. 이제 엔화투자 자금도 얼마 남지 않았는데 대체 어디까지 떨어질런지... </span></a> </div> </div> </div> </li> </ul> </div> </div> <div class=\"api_more_wrap\"> <a target=\"_blank\" href=\"https://s.search.naver.com/p/intentblock/search.naver?ac=0&aq=0&bid=SYS-0000000025532065&display=10&lgl_lat=37.517675&lgl_long=126.7271995&lgl_rcode=11237106&ngn_country=KR&nlu_query=%7B%22v%22%3A%223%22%2C%22intentblock%22%3A%221%22%2C%22qid%22%3A%22%ED%99%98%EC%9C%A8%22%2C%22nquery%22%3A%22%ED%99%98%EC%9C%A8%22%7D&query=%ED%99%98%EC%9C%A8&sqs=&ssc=tab.itb.all&start=1&where=nx_bridge\" class=\"api_more\" onclick=\"goOtherCR(this, 'a=itb_bas.more&r=&i=SYS-0000000025532065&g=%7B%22bid%22%3A%22SYS-0000000025532065%22%7D&u='+urlencode(this.href));\">환율 하락 이유 더보기<i class=\"spnew ico_arr\"></i></a> </div> </div> </section><section class=\"sc_new sp_intent_block \"> <div class=\"api_subject_bx \"> <div class=\"intent_title_area\"> <div class=\"intent_title_wrap\"> <strong class=\"intent_title\">일본 환율 전망</strong> </div> </div> <div class=\"intent_wrap  \"> <div class=\"keyword_challenge_wrap\"> <ul class=\"keyword_challenge_list _au_list\"> <li class=\"keyword_item api_ani_send \" data-area-name=\"itb_bas*b 18 SYS-0000000026672542 90000003_0000000000000033F5E67572,1\" data-space-id=\"\" data-alarm-name=\"월급쟁이 재테크노트\" data-alarm-link=\"https://in.naver.com/\" data-alarm-thumb=\"https://search.pstatic.net/common/?src=http%3A%2F%2Fblogpfthumb.phinf.naver.net%2FMjAyMzA2MjhfMjk4%2FMDAxNjg3OTU2NTIzNjQ5.hcE1mxgdfFa0ViDDThJaiVjVQ7vzrqDiUUIsBTJqmwog.NArRgOLy94K9LDjoT1Tesb5Vn3K0otCy-Fl42wVFRssg.JPEG.3f-hoon%2FKakaoTalk_20230628_214554986.jpg%2FKakaoTalk_20230628_214554986.jpg&type=f44_44\" > <div class=\"content_area \"> <div class=\"user_box\"> <div class=\"api_save_group _keep_wrap\"> <a href=\"#\" role=\"button\" class=\"btn_save _keep_trigger\" aria-pressed=\"false\" data-cr-on=\"a=itb_bas*b.kep&r=18&i=SYS-0000000026672542.90000003_0000000000000033F5E67572&g=%7B%22bid%22%3A%22SYS-0000000026672542%22%2C%22docRank%22%3A1%7D\" data-cr-off=\"a=itb_bas*b.kep&r=18&i=SYS-0000000026672542.90000003_0000000000000033F5E67572&g=%7B%22bid%22%3A%22SYS-0000000026672542%22%2C%22docRank%22%3A1%7D\" data-url=\"https://blog.naver.com/3f-hoon/223168853362\"><i class=\"spnew ico_save\">문서 저장하기</i></a> <div class=\"api_ly_save _keep_save_layer\" style=\"display: none;\"> <a href=\"javascript:;\" role=\"button\" class=\"spnew_af item item_save _keep_save\" data-cr-on=\"a=itb_bas*b.kepon&r=18&i=SYS-0000000026672542.90000003_0000000000000033F5E67572&g=%7B%22bid%22%3A%22SYS-0000000026672542%22%2C%22docRank%22%3A1%7D\" data-cr-off=\"a=itb_bas*b.kepoff&r=18&i=SYS-0000000026672542.90000003_0000000000000033F5E67572&g=%7B%22bid%22%3A%22SYS-0000000026672542%22%2C%22docRank%22%3A1%7D\">Keep에 저장</a> <a target=\"_blank\" href=\"https://keep.naver.com/\" class=\"spnew_af item item_quick\" onclick=\"goOtherCR(this, 'a=itb_bas*b.kephome&r=&i=&g=&u='+urlencode(this.href));\">Keep 바로가기</a> </div> </div> <a target=\"_blank\" href=\"https://blog.naver.com/3f-hoon\" class=\"thumb_group\" data-fan-target=\"18\" onclick=\"goOtherCR(this, 'a=itb_bas*b.profile&r=18&i=SYS-0000000026672542.90000003_0000000000000033F5E67572&g=%7B%22bid%22%3A%22SYS-0000000026672542%22%2C%22docRank%22%3A1%7D&u='+urlencode(this.href));\"> <img src=\"https://search.pstatic.net/common/?src=http%3A%2F%2Fblogpfthumb.phinf.naver.net%2FMjAyMzA2MjhfMjk4%2FMDAxNjg3OTU2NTIzNjQ5.hcE1mxgdfFa0ViDDThJaiVjVQ7vzrqDiUUIsBTJqmwog.NArRgOLy94K9LDjoT1Tesb5Vn3K0otCy-Fl42wVFRssg.JPEG.3f-hoon%2FKakaoTalk_20230628_214554986.jpg%2FKakaoTalk_20230628_214554986.jpg&type=f72_72_shop\" width=\"20\" height=\"20\" alt=\"\" class=\"img\" onerror=\"this.src='data:image/gif;base64,R0lGODlhAQABAIAAAAAAAP///yH5BAEAAAAALAAAAAABAAEAAAIBRAA7';this.className='img bg_npimg'\"> </a> <div class=\"info_group\"> <div class=\"group_inner\"> <a target=\"_blank\" href=\"https://blog.naver.com/3f-hoon\" class=\"name\" onclick=\"goOtherCR(this, 'a=itb_bas*b.profile&r=18&i=SYS-0000000026672542.90000003_0000000000000033F5E67572&g=%7B%22bid%22%3A%22SYS-0000000026672542%22%2C%22docRank%22%3A1%7D&u='+urlencode(this.href));\">월급쟁이 재테크노트</a> <div class=\"info\">2023.07.28.</div> </div> </div> </div> <div class=\"detail_box type_emphasis _fe_intent_detail_conveyer_root\"> <div class=\"title_area\"> <a target=\"_blank\" href=\"https://blog.naver.com/3f-hoon/223168853362\" onclick=\"goOtherCR(this, 'a=itb_bas*b.imgtitlelink&r=18&i=SYS-0000000026672542.90000003_0000000000000033F5E67572&g=%7B%22bid%22%3A%22SYS-0000000026672542%22%2C%22docRank%22%3A1%7D&u='+urlencode(this.href));\" class=\"title _intent_cross_collection_trigger\">일본은행 YCC 통화정책 수정 - 일본 <mark>환율</mark> 전망, 국채 수익률 변화</a> </div> <div class=\"api_pcpg_wrap\"> <div class=\"api_flicking_wrap thumb_list _au_conveyer_container\" style=\"height: 102px;\" > <div class=\"flick_bx\"> <a target=\"_blank\" href=\"https://blog.naver.com/3f-hoon/223168853362\" class=\"link _intent_cross_collection_trigger\" onclick=\"goOtherCR(this, 'a=itb_bas*b.imgtitlelink&r=18&i=SYS-0000000026672542.90000003_0000000000000033F5E67572&g=%7B%22bid%22%3A%22SYS-0000000026672542%22%2C%22docRank%22%3A1%7D&u='+urlencode(this.href));\"> <img src=\"https://search.pstatic.net/common/?src=http%3A%2F%2Fblogfiles.naver.net%2FMjAyMzA3MjhfMzIg%2FMDAxNjkwNTQ3NDM3ODM0.Nnl-5o5WVrvU4F9_Zn-aw7RDugXce1f05VfcZl35-Zgg.LTSwI0lbbKiJEwLx2DyH-YLsRgRYd133rVVhxV_VS8cg.PNG.3f-hoon%2F1.png%23500x500&type=b220\" height=\"106\" alt=\"이미지준비중\" class=\"img\" onerror=\"this.src='data:image/gif;base64,R0lGODlhAQABAIAAAAAAAP///yH5BAEAAAAALAAAAAABAAEAAAIBRAA7';this.className='img bg_nimg2'\"> </a> </div> <div class=\"flick_bx\"> <a target=\"_blank\" href=\"https://blog.naver.com/3f-hoon/223168853362\" class=\"link _intent_cross_collection_trigger\" onclick=\"goOtherCR(this, 'a=itb_bas*b.imgtitlelink&r=18&i=SYS-0000000026672542.90000003_0000000000000033F5E67572&g=%7B%22bid%22%3A%22SYS-0000000026672542%22%2C%22docRank%22%3A1%7D&u='+urlencode(this.href));\"> <img src=\"https://search.pstatic.net/common/?src=http%3A%2F%2Fblogfiles.naver.net%2FMjAyMzA3MjhfNDIg%2FMDAxNjkwNTQ4MDIxMzY2.qly_TIL-rm3IcIfVVdMw3xwkZ8bHyUK_sKUBFol66I0g.RvcPTfkwtuQjA8NtrOxyv7eGJ8aeeaR01o0QIZ4Xzyog.PNG.3f-hoon%2F6.png%23900x700&type=b220\" height=\"106\" alt=\"이미지준비중\" class=\"img\" onerror=\"this.src='data:image/gif;base64,R0lGODlhAQABAIAAAAAAAP///yH5BAEAAAAALAAAAAABAAEAAAIBRAA7';this.className='img bg_nimg2'\"> </a> </div> <div class=\"flick_bx\"> <a target=\"_blank\" href=\"https://blog.naver.com/3f-hoon/223168853362\" class=\"link _intent_cross_collection_trigger\" onclick=\"goOtherCR(this, 'a=itb_bas*b.imgtitlelink&r=18&i=SYS-0000000026672542.90000003_0000000000000033F5E67572&g=%7B%22bid%22%3A%22SYS-0000000026672542%22%2C%22docRank%22%3A1%7D&u='+urlencode(this.href));\"> <img src=\"https://search.pstatic.net/common/?src=http%3A%2F%2Fblogfiles.naver.net%2FMjAyMzA3MjhfMjM0%2FMDAxNjkwNTQ3NzYxODg4.wKUs3ZWYrK-C5MdalzGYOUoj8BXegaovZJRGcxVK6Qcg.yg9_DTSFFBIgas2QBcofs1IjeETUSkbZ9o0MTSa5EEIg.PNG.3f-hoon%2F2.png%23900x700&type=b220\" height=\"106\" alt=\"이미지준비중\" class=\"img\" onerror=\"this.src='data:image/gif;base64,R0lGODlhAQABAIAAAAAAAP///yH5BAEAAAAALAAAAAABAAEAAAIBRAA7';this.className='img bg_nimg2'\"> </a> </div> <div class=\"flick_bx\"> <a target=\"_blank\" href=\"https://blog.naver.com/3f-hoon/223168853362\" class=\"link _intent_cross_collection_trigger\" onclick=\"goOtherCR(this, 'a=itb_bas*b.imgtitlelink&r=18&i=SYS-0000000026672542.90000003_0000000000000033F5E67572&g=%7B%22bid%22%3A%22SYS-0000000026672542%22%2C%22docRank%22%3A1%7D&u='+urlencode(this.href));\"> <img src=\"https://search.pstatic.net/common/?src=http%3A%2F%2Fblogfiles.naver.net%2FMjAyMzA3MjhfNTgg%2FMDAxNjkwNTQ3OTQzNTI4.1VUmox7VRZ2Zw5yfcbMp5fxIcz4fAc9PTQcIJlN55fMg.8OhTEtH6nXG_yLmevMDJ5sxUE1FO6af7VYERE9qyzpUg.PNG.3f-hoon%2F3.png%23900x700&type=b220\" height=\"106\" alt=\"이미지준비중\" class=\"img\" onerror=\"this.src='data:image/gif;base64,R0lGODlhAQABAIAAAAAAAP///yH5BAEAAAAALAAAAAABAAEAAAIBRAA7';this.className='img bg_nimg2'\"> </a> </div> <div class=\"flick_bx\"> <a target=\"_blank\" href=\"https://blog.naver.com/3f-hoon/223168853362\" class=\"link _intent_cross_collection_trigger\" onclick=\"goOtherCR(this, 'a=itb_bas*b.imgtitlelink&r=18&i=SYS-0000000026672542.90000003_0000000000000033F5E67572&g=%7B%22bid%22%3A%22SYS-0000000026672542%22%2C%22docRank%22%3A1%7D&u='+urlencode(this.href));\"> <img src=\"https://search.pstatic.net/common/?src=http%3A%2F%2Fblogfiles.naver.net%2FMjAyMzA3MjhfMjIy%2FMDAxNjkwNTQ3OTQ3OTQ1.lpU5aGiWtkk4DKHqiBpTAVPuFRskNfJzwDfjYh4prDog.Vuxf6Fc68NkiFj858a3T_HFPndvNnx1u0997N3iuOD0g.PNG.3f-hoon%2F4.png%23900x700&type=b220\" height=\"106\" alt=\"이미지준비중\" class=\"img\" onerror=\"this.src='data:image/gif;base64,R0lGODlhAQABAIAAAAAAAP///yH5BAEAAAAALAAAAAABAAEAAAIBRAA7';this.className='img bg_nimg2'\"> </a> </div> <div class=\"flick_bx\"> <a target=\"_blank\" href=\"https://blog.naver.com/3f-hoon/223168853362\" class=\"link _intent_cross_collection_trigger\" onclick=\"goOtherCR(this, 'a=itb_bas*b.imgtitlelink&r=18&i=SYS-0000000026672542.90000003_0000000000000033F5E67572&g=%7B%22bid%22%3A%22SYS-0000000026672542%22%2C%22docRank%22%3A1%7D&u='+urlencode(this.href));\"> <img src=\"https://search.pstatic.net/common/?src=http%3A%2F%2Fblogfiles.naver.net%2FMjAyMzA3MjhfMTQ5%2FMDAxNjkwNTQ4MDEwOTAy.bIk16CjZKUl7bzxYU91Y5pfADEmXU8hyk6N6A5uUOYMg.IZ189fA1JVU4kPAeT5kc65YPIeEWejwqgpHNu9K6F3kg.PNG.3f-hoon%2F5.png%23900x700&type=b220\" height=\"106\" alt=\"이미지준비중\" class=\"img\" onerror=\"this.src='data:image/gif;base64,R0lGODlhAQABAIAAAAAAAP///yH5BAEAAAAALAAAAAABAAEAAAIBRAA7';this.className='img bg_nimg2'\"> </a> </div> </div> <div class=\"api_btn_page type_transparent\"> <div class=\"btn_prev _au_btn_prev\" style=\"display: none;\"><a href=\"#\" role=\"button\" class=\"btn\" onclick=\"tCR('a=itb_bas*b.imgflk&r=&i=&u=javascript');\"><i class=\"spnew ico_arr\">이전</i></a></div> <div class=\"btn_next _au_btn_next\" style=\"display: none;\"><a href=\"#\" role=\"button\" class=\"btn\" onclick=\"tCR('a=itb_bas*b.imgflk&r=&i=&u=javascript');\"><i class=\"spnew ico_arr\">다음</i></a></div> </div> </div> <div class=\"info_area\"> <a target=\"_blank\" href=\"https://blog.naver.com/3f-hoon/223168853362\" onclick=\"goOtherCR(this, 'a=itb_bas*b.imgtitlelink&r=18&i=SYS-0000000026672542.90000003_0000000000000033F5E67572&g=%7B%22bid%22%3A%22SYS-0000000026672542%22%2C%22docRank%22%3A1%7D&u='+urlencode(this.href));\" class=\"desc _intent_cross_collection_trigger _ellipsis\"><span class=\"txt _text\">일본은행 YCC 통화 정책 수정 일본 <mark>환율</mark> 전망과 국채 수익률 변화 알아보기 일본은행(BOJ)가 금요일 YCC 통화정책의 유연성을 가하는 내용을 발표하며 세계 금융시장이 놀라고... 일본 <mark>환율</mark> 전망 앞으로 일본 <mark>환율</mark>이 어떻게 될지 정확하게 맞출 순 없지만 이번에 YCC 통화정책의 변화로 엔화가 살짝 강세를 띄었습니다. 순간적으로 상승한 것을 볼 수 있는데요. 이것은... </span></a> </div> </div> </div> </li> <li class=\"keyword_item api_ani_send \" data-area-name=\"itb_bas*b 19 SYS-0000000026672542 90000003_0000000000000033F6699724,2\" data-space-id=\"\" data-alarm-name=\"경제 비서 인퐁\" data-alarm-link=\"https://in.naver.com/\" data-alarm-thumb=\"https://search.pstatic.net/common/?src=http%3A%2F%2Fblogpfthumb.phinf.naver.net%2FMjAyMzAxMDNfMTEx%2FMDAxNjcyNzUwMjUwOTQ2.jKZC2pG-apD5Goa5QA30JQ0LUNtXFsnMyCRchzt-NDAg.Pjr9J7sOp32yIce09X4uDRus9mbW5CsCQDfwyO9LLzkg.PNG.topjoys%2FINFONG_BLOG_MOBILE.png%2FINFONG_BLOG_MOBILE.png&type=f44_44\" > <div class=\"content_area \"> <div class=\"user_box\"> <div class=\"api_save_group _keep_wrap\"> <a href=\"#\" role=\"button\" class=\"btn_save _keep_trigger\" aria-pressed=\"false\" data-cr-on=\"a=itb_bas*b.kep&r=19&i=SYS-0000000026672542.90000003_0000000000000033F6699724&g=%7B%22bid%22%3A%22SYS-0000000026672542%22%2C%22docRank%22%3A2%7D\" data-cr-off=\"a=itb_bas*b.kep&r=19&i=SYS-0000000026672542.90000003_0000000000000033F6699724&g=%7B%22bid%22%3A%22SYS-0000000026672542%22%2C%22docRank%22%3A2%7D\" data-url=\"https://blog.naver.com/topjoys/223177447204\"><i class=\"spnew ico_save\">문서 저장하기</i></a> <div class=\"api_ly_save _keep_save_layer\" style=\"display: none;\"> <a href=\"javascript:;\" role=\"button\" class=\"spnew_af item item_save _keep_save\" data-cr-on=\"a=itb_bas*b.kepon&r=19&i=SYS-0000000026672542.90000003_0000000000000033F6699724&g=%7B%22bid%22%3A%22SYS-0000000026672542%22%2C%22docRank%22%3A2%7D\" data-cr-off=\"a=itb_bas*b.kepoff&r=19&i=SYS-0000000026672542.90000003_0000000000000033F6699724&g=%7B%22bid%22%3A%22SYS-0000000026672542%22%2C%22docRank%22%3A2%7D\">Keep에 저장</a> <a target=\"_blank\" href=\"https://keep.naver.com/\" class=\"spnew_af item item_quick\" onclick=\"goOtherCR(this, 'a=itb_bas*b.kephome&r=&i=&g=&u='+urlencode(this.href));\">Keep 바로가기</a> </div> </div> <a target=\"_blank\" href=\"https://blog.naver.com/topjoys\" class=\"thumb_group\" data-fan-target=\"19\" onclick=\"goOtherCR(this, 'a=itb_bas*b.profile&r=19&i=SYS-0000000026672542.90000003_0000000000000033F6699724&g=%7B%22bid%22%3A%22SYS-0000000026672542%22%2C%22docRank%22%3A2%7D&u='+urlencode(this.href));\"> <img src=\"https://search.pstatic.net/common/?src=http%3A%2F%2Fblogpfthumb.phinf.naver.net%2FMjAyMzAxMDNfMTEx%2FMDAxNjcyNzUwMjUwOTQ2.jKZC2pG-apD5Goa5QA30JQ0LUNtXFsnMyCRchzt-NDAg.Pjr9J7sOp32yIce09X4uDRus9mbW5CsCQDfwyO9LLzkg.PNG.topjoys%2FINFONG_BLOG_MOBILE.png%2FINFONG_BLOG_MOBILE.png&type=f72_72_shop\" width=\"20\" height=\"20\" alt=\"\" class=\"img\" onerror=\"this.src='data:image/gif;base64,R0lGODlhAQABAIAAAAAAAP///yH5BAEAAAAALAAAAAABAAEAAAIBRAA7';this.className='img bg_npimg'\"> </a> <div class=\"info_group\"> <div class=\"group_inner\"> <a target=\"_blank\" href=\"https://blog.naver.com/topjoys\" class=\"name\" onclick=\"goOtherCR(this, 'a=itb_bas*b.profile&r=19&i=SYS-0000000026672542.90000003_0000000000000033F6699724&g=%7B%22bid%22%3A%22SYS-0000000026672542%22%2C%22docRank%22%3A2%7D&u='+urlencode(this.href));\">경제 비서 인퐁</a> <div class=\"info\">14시간 전</div> </div> </div> </div> <div class=\"detail_box \"> <a target=\"_blank\" target=\"_blank\" href=\"https://blog.naver.com/topjoys/223177447204\" class=\"thumb_area _intent_cross_collection_trigger \" onclick=\"goOtherCR(this, 'a=itb_bas*b.link&r=19&i=SYS-0000000026672542.90000003_0000000000000033F6699724&g=%7B%22bid%22%3A%22SYS-0000000026672542%22%2C%22docRank%22%3A2%7D&u='+urlencode(this.href));\"> <img src=\"https://search.pstatic.net/common/?src=http%3A%2F%2Fblogfiles.naver.net%2FMjAyMzA4MDdfMjYw%2FMDAxNjkxNDA4MzEwNzMx.KRXH3ybXgg_oeaTd-Eee31cdD8q3o5KVPTqnEUVP1F4g.xVGisxJUdtppDrMOIek4j5SPTMqVnArORRJ-FonhWq0g.PNG.topjoys%2F003.png%231800x1350&type=ff264_180\" width=\"132\" height=\"90\" alt=\"이미지준비중\" class=\"img api_get\" onerror=\"this.src='data:image/gif;base64,R0lGODlhAQABAIAAAAAAAP///yH5BAEAAAAALAAAAAABAAEAAAIBRAA7';this.className='img bg_nimg'\"> <span class=\"count\">5</span> </a> <div class=\"info_area\"> <a target=\"_blank\" href=\"https://blog.naver.com/topjoys/223177447204\" onclick=\"goOtherCR(this, 'a=itb_bas*b.link&r=19&i=SYS-0000000026672542.90000003_0000000000000033F6699724&g=%7B%22bid%22%3A%22SYS-0000000026672542%22%2C%22docRank%22%3A2%7D&u='+urlencode(this.href));\" class=\"title _intent_cross_collection_trigger\">일본 YCC 정책 수정 : YCC 뜻, 엔화 <mark>환율</mark> 전망</a> <a target=\"_blank\" href=\"https://blog.naver.com/topjoys/223177447204\" onclick=\"goOtherCR(this, 'a=itb_bas*b.link&r=19&i=SYS-0000000026672542.90000003_0000000000000033F6699724&g=%7B%22bid%22%3A%22SYS-0000000026672542%22%2C%22docRank%22%3A2%7D&u='+urlencode(this.href));\" class=\"desc _intent_cross_collection_trigger _ellipsis\"><span class=\"txt _text\">오늘은 이번 일본 YCC 정책 변경으로 글로벌 시장에서 어떻게 반등하게 될지, 엔화 <mark>환율</mark> 상승 전망까지 자세히 알아보도록 하겠습니다. 1. 배경 각 나라의 중앙은행은 이자율과... 마찬가지로 엔화 <mark>환율</mark>도 상승했습니다. 4. 엔화 <mark>환율</mark> 전망 일본 YCC 정책 수정에 원했던 결과대로, 우선 엔화 <mark>환율</mark>은 상승할 전망입니다. 벌써 외국으로 유출되었던 자금이 금리 상승에... </span></a> </div> </div> </div> </li> <li class=\"keyword_item api_ani_send \" data-area-name=\"itb_bas*f 20 SYS-0000000026672542 a0209rl4_nblog_post_223171807226,3\" data-space-id=\"278550302925120\" data-alarm-name=\"깡냥\" data-alarm-link=\"https://in.naver.com/rkd921026\" data-alarm-thumb=\"https://search.pstatic.net/common/?src=https%3A%2F%2Fblogpfthumb-phinf.pstatic.net%2FMjAyMDEyMTRfMjQy%2FMDAxNjA3OTE4Nzg4MDI0.O0ZFgiO9brbBwX-U8MGaetzQdWHsQTFHfMIaARRlSJMg.DRAHpqjTCprbhG0zM2mz0-yD5MdAWgOsM3TOkAywAcQg.JPEG.rkd921026%2F%25ED%2594%2584%25EB%25A1%259C%25ED%2595%2584.jpg&type=f44_44\" > <div class=\"content_area \"> <div class=\"user_box\"> <div class=\"api_save_group _keep_wrap\"> <a href=\"#\" role=\"button\" class=\"btn_save _keep_trigger\" aria-pressed=\"false\" data-cr-on=\"a=itb_bas*f.kep&r=20&i=SYS-0000000026672542.a0209rl4_nblog_post_223171807226&g=%7B%22bid%22%3A%22SYS-0000000026672542%22%2C%22docRank%22%3A3%7D\" data-cr-off=\"a=itb_bas*f.kep&r=20&i=SYS-0000000026672542.a0209rl4_nblog_post_223171807226&g=%7B%22bid%22%3A%22SYS-0000000026672542%22%2C%22docRank%22%3A3%7D\" data-url=\"https://in.naver.com/rkd921026/contents/internal/592412402044512\"><i class=\"spnew ico_save\">문서 저장하기</i></a> <div class=\"api_ly_save _keep_save_layer\" style=\"display: none;\"> <a href=\"javascript:;\" role=\"button\" class=\"spnew_af item item_save _keep_save\" data-cr-on=\"a=itb_bas*f.kepon&r=20&i=SYS-0000000026672542.a0209rl4_nblog_post_223171807226&g=%7B%22bid%22%3A%22SYS-0000000026672542%22%2C%22docRank%22%3A3%7D\" data-cr-off=\"a=itb_bas*f.kepoff&r=20&i=SYS-0000000026672542.a0209rl4_nblog_post_223171807226&g=%7B%22bid%22%3A%22SYS-0000000026672542%22%2C%22docRank%22%3A3%7D\">Keep에 저장</a> <a target=\"_blank\" href=\"https://keep.naver.com/\" class=\"spnew_af item item_quick\" onclick=\"goOtherCR(this, 'a=itb_bas*f.kephome&r=&i=&g=&u='+urlencode(this.href));\">Keep 바로가기</a> </div> </div> <a target=\"_blank\" href=\"https://in.naver.com/rkd921026?query=%ED%99%98%EC%9C%A8&areacode=itb_bas%2Af_other\" class=\"thumb_group\" data-fan-target=\"20\" onclick=\"goOtherCR(this, 'a=itb_bas*f.profile&r=20&i=SYS-0000000026672542.a0209rl4_nblog_post_223171807226&g=%7B%22bid%22%3A%22SYS-0000000026672542%22%2C%22docRank%22%3A3%7D&u='+urlencode(this.href));\"> <img src=\"https://search.pstatic.net/common/?src=https%3A%2F%2Fblogpfthumb-phinf.pstatic.net%2FMjAyMDEyMTRfMjQy%2FMDAxNjA3OTE4Nzg4MDI0.O0ZFgiO9brbBwX-U8MGaetzQdWHsQTFHfMIaARRlSJMg.DRAHpqjTCprbhG0zM2mz0-yD5MdAWgOsM3TOkAywAcQg.JPEG.rkd921026%2F%25ED%2594%2584%25EB%25A1%259C%25ED%2595%2584.jpg&type=f72_72_shop\" width=\"20\" height=\"20\" alt=\"\" class=\"img\" onerror=\"this.src='data:image/gif;base64,R0lGODlhAQABAIAAAAAAAP///yH5BAEAAAAALAAAAAABAAEAAAIBRAA7';this.className='img bg_npimg'\"> </a> <div class=\"info_group\"> <div class=\"group_inner\"> <a target=\"_blank\" href=\"https://in.naver.com/rkd921026?query=%ED%99%98%EC%9C%A8&areacode=itb_bas%2Af_other\" class=\"name\" onclick=\"goOtherCR(this, 'a=itb_bas*f.profile&r=20&i=SYS-0000000026672542.a0209rl4_nblog_post_223171807226&g=%7B%22bid%22%3A%22SYS-0000000026672542%22%2C%22docRank%22%3A3%7D&u='+urlencode(this.href));\">깡냥</a> <div class=\"etc\">인플루언서</div> <div class=\"info\">6일 전</div> </div> </div> </div> <div class=\"detail_box \"> <a target=\"_blank\" target=\"_blank\" href=\"https://in.naver.com/rkd921026/contents/internal/592412402044512?query=%ED%99%98%EC%9C%A8&areacode=itb_bas%2Af_other\" class=\"thumb_area _intent_cross_collection_trigger \" onclick=\"goOtherCR(this, 'a=itb_bas*f.link&r=20&i=SYS-0000000026672542.a0209rl4_nblog_post_223171807226&g=%7B%22bid%22%3A%22SYS-0000000026672542%22%2C%22docRank%22%3A3%7D&u='+urlencode(this.href));\"> <img src=\"https://search.pstatic.net/common/?src=https%3A%2F%2Fmblogthumb-phinf.pstatic.net%2FMjAyMzA4MDFfMjk4%2FMDAxNjkwODY3MTQ2OTI1.NoG7uKCghWbOIznLz9kZ0NaKOSjBsjA8eSb0EOhT5Wkg.gpp0BiH9zYT09_ySr8KQhUNnGAX1hmjVqiVINH7qDuEg.JPEG.rkd921026%2F001.jpg%3Ftype%3Dw800&type=ff264_180\" width=\"132\" height=\"90\" alt=\"이미지준비중\" class=\"img api_get\" onerror=\"this.src='data:image/gif;base64,R0lGODlhAQABAIAAAAAAAP///yH5BAEAAAAALAAAAAABAAEAAAIBRAA7';this.className='img bg_nimg'\"> <span class=\"count\">8</span> </a> <div class=\"info_area\"> <a target=\"_blank\" href=\"https://in.naver.com/rkd921026/contents/internal/592412402044512?query=%ED%99%98%EC%9C%A8&areacode=itb_bas%2Af_other\" onclick=\"goOtherCR(this, 'a=itb_bas*f.link&r=20&i=SYS-0000000026672542.a0209rl4_nblog_post_223171807226&g=%7B%22bid%22%3A%22SYS-0000000026672542%22%2C%22docRank%22%3A3%7D&u='+urlencode(this.href));\" class=\"title _intent_cross_collection_trigger\">8월 달러 가격 하락 일본 엔화 화폐가치 <mark>환율</mark> 투자 전망</a> <a target=\"_blank\" href=\"https://in.naver.com/rkd921026/contents/internal/592412402044512?query=%ED%99%98%EC%9C%A8&areacode=itb_bas%2Af_other\" onclick=\"goOtherCR(this, 'a=itb_bas*f.link&r=20&i=SYS-0000000026672542.a0209rl4_nblog_post_223171807226&g=%7B%22bid%22%3A%22SYS-0000000026672542%22%2C%22docRank%22%3A3%7D&u='+urlencode(this.href));\" class=\"desc _intent_cross_collection_trigger _ellipsis\"><span class=\"txt _text\">이 달의 원 달러 <mark>환율</mark> 동향과 일본 엔화 <mark>환율</mark> 전망을 한번 정리해보겠다. 세계 각국의 <mark>환율</mark>을 살펴봄으로써 경제 상황이나 금리, 투자에 대한 안목이 좋아지니 이 글을 끝까지 읽어보면 좋겠다. <mark>환율</mark>은? 화폐로써 한 국가의 경제적 상황과 가치, 파워를 나타내는 통계 7월 최고<mark>환율</mark> : 1314 7월 최저<mark>환율</mark> : 1264 8월 2일 <mark>환율</mark> : 1275 원달러<mark>환율</mark> 전망 원 달러 <mark>환율</mark>은... </span></a> </div> </div> </div> </li> </ul> </div> </div> <div class=\"api_more_wrap\"> <a target=\"_blank\" href=\"https://s.search.naver.com/p/intentblock/search.naver?ac=0&aq=0&bid=SYS-0000000026672542&display=10&lgl_lat=37.517675&lgl_long=126.7271995&lgl_rcode=11237106&ngn_country=KR&nlu_query=%7B%22v%22%3A%223%22%2C%22intentblock%22%3A%221%22%2C%22qid%22%3A%22%ED%99%98%EC%9C%A8%22%2C%22nquery%22%3A%22%ED%99%98%EC%9C%A8%22%7D&query=%ED%99%98%EC%9C%A8&sqs=&ssc=tab.itb.all&start=1&where=nx_bridge\" class=\"api_more\" onclick=\"goOtherCR(this, 'a=itb_bas.more&r=&i=SYS-0000000026672542&g=%7B%22bid%22%3A%22SYS-0000000026672542%22%7D&u='+urlencode(this.href));\">일본 환율 전망 더보기<i class=\"spnew ico_arr\"></i></a> </div> </div> </section><section class=\"sc_new sp_intent_block \"> <div class=\"api_subject_bx \"> <div class=\"intent_title_area\"> <div class=\"intent_title_wrap\"> <strong class=\"intent_title\">환율 뜻</strong> </div> </div> <div class=\"intent_wrap  \"> <div class=\"keyword_challenge_wrap\"> <ul class=\"keyword_challenge_list _au_list\"> <li class=\"keyword_item api_ani_send \" data-area-name=\"itb_bas*b 21 SYS-0000000025532038 90000003_0000000000000033EFF2D05F,1\" data-space-id=\"\" data-alarm-name=\"달달한 인생책 꿀팁창고\" data-alarm-link=\"https://in.naver.com/\" data-alarm-thumb=\"https://search.pstatic.net/common/?src=http%3A%2F%2Fblogpfthumb.phinf.naver.net%2FMjAyMzA3MDNfMjIg%2FMDAxNjg4MzUzNzIwMDY0.LIBtt-Ii1IUbBD_nbfEfZyfV2OSzICAt_7OXPG0hn3wg.WV9PWqGfwySswr1gU-ljE9GXy5roATlAxdz-vP62QK0g.JPEG.kjs0%2F%2525EA%2525BF%252580%2525EB%2525B2%25258C%2525EB%25258B%252598.jpg%2F%2525EA%2525BF%252580%2525EB%2525B2%25258C%2525EB%25258B%252598.jpg&type=f44_44\" > <div class=\"content_area \"> <div class=\"user_box\"> <div class=\"api_save_group _keep_wrap\"> <a href=\"#\" role=\"button\" class=\"btn_save _keep_trigger\" aria-pressed=\"false\" data-cr-on=\"a=itb_bas*b.kep&r=21&i=SYS-0000000025532038.90000003_0000000000000033EFF2D05F&g=%7B%22bid%22%3A%22SYS-0000000025532038%22%2C%22docRank%22%3A1%7D\" data-cr-off=\"a=itb_bas*b.kep&r=21&i=SYS-0000000025532038.90000003_0000000000000033EFF2D05F&g=%7B%22bid%22%3A%22SYS-0000000025532038%22%2C%22docRank%22%3A1%7D\" data-url=\"https://blog.naver.com/kjs0/223068999775\"><i class=\"spnew ico_save\">문서 저장하기</i></a> <div class=\"api_ly_save _keep_save_layer\" style=\"display: none;\"> <a href=\"javascript:;\" role=\"button\" class=\"spnew_af item item_save _keep_save\" data-cr-on=\"a=itb_bas*b.kepon&r=21&i=SYS-0000000025532038.90000003_0000000000000033EFF2D05F&g=%7B%22bid%22%3A%22SYS-0000000025532038%22%2C%22docRank%22%3A1%7D\" data-cr-off=\"a=itb_bas*b.kepoff&r=21&i=SYS-0000000025532038.90000003_0000000000000033EFF2D05F&g=%7B%22bid%22%3A%22SYS-0000000025532038%22%2C%22docRank%22%3A1%7D\">Keep에 저장</a> <a target=\"_blank\" href=\"https://keep.naver.com/\" class=\"spnew_af item item_quick\" onclick=\"goOtherCR(this, 'a=itb_bas*b.kephome&r=&i=&g=&u='+urlencode(this.href));\">Keep 바로가기</a> </div> </div> <a target=\"_blank\" href=\"https://blog.naver.com/kjs0\" class=\"thumb_group\" data-fan-target=\"21\" onclick=\"goOtherCR(this, 'a=itb_bas*b.profile&r=21&i=SYS-0000000025532038.90000003_0000000000000033EFF2D05F&g=%7B%22bid%22%3A%22SYS-0000000025532038%22%2C%22docRank%22%3A1%7D&u='+urlencode(this.href));\"> <img src=\"https://search.pstatic.net/common/?src=http%3A%2F%2Fblogpfthumb.phinf.naver.net%2FMjAyMzA3MDNfMjIg%2FMDAxNjg4MzUzNzIwMDY0.LIBtt-Ii1IUbBD_nbfEfZyfV2OSzICAt_7OXPG0hn3wg.WV9PWqGfwySswr1gU-ljE9GXy5roATlAxdz-vP62QK0g.JPEG.kjs0%2F%2525EA%2525BF%252580%2525EB%2525B2%25258C%2525EB%25258B%252598.jpg%2F%2525EA%2525BF%252580%2525EB%2525B2%25258C%2525EB%25258B%252598.jpg&type=f72_72_shop\" width=\"20\" height=\"20\" alt=\"\" class=\"img\" onerror=\"this.src='data:image/gif;base64,R0lGODlhAQABAIAAAAAAAP///yH5BAEAAAAALAAAAAABAAEAAAIBRAA7';this.className='img bg_npimg'\"> </a> <div class=\"info_group\"> <div class=\"group_inner\"> <a target=\"_blank\" href=\"https://blog.naver.com/kjs0\" class=\"name\" onclick=\"goOtherCR(this, 'a=itb_bas*b.profile&r=21&i=SYS-0000000025532038.90000003_0000000000000033EFF2D05F&g=%7B%22bid%22%3A%22SYS-0000000025532038%22%2C%22docRank%22%3A1%7D&u='+urlencode(this.href));\">달달한 인생책 꿀팁창고</a> <div class=\"info\">2023.04.09.</div> </div> </div> </div> <div class=\"detail_box type_emphasis _fe_intent_detail_conveyer_root\"> <div class=\"title_area\"> <a target=\"_blank\" href=\"https://blog.naver.com/kjs0/223068999775\" onclick=\"goOtherCR(this, 'a=itb_bas*b.imgtitlelink&r=21&i=SYS-0000000025532038.90000003_0000000000000033EFF2D05F&g=%7B%22bid%22%3A%22SYS-0000000025532038%22%2C%22docRank%22%3A1%7D&u='+urlencode(this.href));\" class=\"title _intent_cross_collection_trigger\"><mark>환율</mark>이 헷갈리는 당신이 봐야 할 팁, <mark>환율</mark> 뜻 / 3년 후 부의 흐름이 보이는 경제지표 정독법, 김영익 상승 하락</a> </div> <div class=\"api_pcpg_wrap\"> <div class=\"api_flicking_wrap thumb_list _au_conveyer_container\" style=\"height: 102px;\" > <div class=\"flick_bx\"> <a target=\"_blank\" href=\"https://blog.naver.com/kjs0/223068999775\" class=\"link _intent_cross_collection_trigger\" onclick=\"goOtherCR(this, 'a=itb_bas*b.imgtitlelink&r=21&i=SYS-0000000025532038.90000003_0000000000000033EFF2D05F&g=%7B%22bid%22%3A%22SYS-0000000025532038%22%2C%22docRank%22%3A1%7D&u='+urlencode(this.href));\"> <img src=\"https://search.pstatic.net/common/?src=http%3A%2F%2Fblogfiles.naver.net%2FMjAyMzA0MDlfMjY3%2FMDAxNjgwOTcwOTg0ODI0.It3hiJL2FZHba_gU3-B_tPEgNc5nPwP6hSWauERhJgwg.G1hJTAboV0RPeJCQrj1w1a1SBO6d6aK8HukfHwBEyWsg.JPEG.kjs0%2F%25C1%25A6%25B8%25F1%25C0%25BB-%25C0%25D4%25B7%25C2%25C7%25D8%25C1%25D6%25BC%25BC%25BF%25E4_-001_%25286%2529.jpg%23960x960&type=b220\" height=\"106\" alt=\"이미지준비중\" class=\"img\" onerror=\"this.src='data:image/gif;base64,R0lGODlhAQABAIAAAAAAAP///yH5BAEAAAAALAAAAAABAAEAAAIBRAA7';this.className='img bg_nimg2'\"> </a> </div> <div class=\"flick_bx\"> <a target=\"_blank\" href=\"https://blog.naver.com/kjs0/223068999775\" class=\"link _intent_cross_collection_trigger\" onclick=\"goOtherCR(this, 'a=itb_bas*b.imgtitlelink&r=21&i=SYS-0000000025532038.90000003_0000000000000033EFF2D05F&g=%7B%22bid%22%3A%22SYS-0000000025532038%22%2C%22docRank%22%3A1%7D&u='+urlencode(this.href));\"> <img src=\"https://search.pstatic.net/common/?src=http%3A%2F%2Fblogfiles.naver.net%2FMjAyMzA0MDlfMjg3%2FMDAxNjgwOTcwOTk5Mjg4.iDhij4wrCqSfyl4HaZzGrB1ZLXeJHCYa-Hu7yRwPIJMg.ZHRtv3LwZp2rMKmJRWoOL99rf5kc-BMp1jioI0IZDqMg.JPEG.kjs0%2F%25C1%25A6%25B8%25F1%25C0%25BB-%25C0%25D4%25B7%25C2%25C7%25D8%25C1%25D6%25BC%25BC%25BF%25E4_-001_%25287%2529.jpg%23960x960&type=b220\" height=\"106\" alt=\"이미지준비중\" class=\"img\" onerror=\"this.src='data:image/gif;base64,R0lGODlhAQABAIAAAAAAAP///yH5BAEAAAAALAAAAAABAAEAAAIBRAA7';this.className='img bg_nimg2'\"> </a> </div> <div class=\"flick_bx\"> <a target=\"_blank\" href=\"https://blog.naver.com/kjs0/223068999775\" class=\"link _intent_cross_collection_trigger\" onclick=\"goOtherCR(this, 'a=itb_bas*b.imgtitlelink&r=21&i=SYS-0000000025532038.90000003_0000000000000033EFF2D05F&g=%7B%22bid%22%3A%22SYS-0000000025532038%22%2C%22docRank%22%3A1%7D&u='+urlencode(this.href));\"> <img src=\"https://search.pstatic.net/common/?src=http%3A%2F%2Fblogfiles.naver.net%2FMjAyMzA0MDlfMTY4%2FMDAxNjgwOTcxMjE0MzYz.D_IOEkSS-u0DSkVjl_EnZHoqPZXxqiLjoPnzbg3Hmhkg.Mbd1GLlKqF5aJyH2ZHHo7KkMD9hEJ3U7WjWUU38Gys4g.JPEG.kjs0%2F%25C1%25A6%25B8%25F1%25C0%25BB-%25C0%25D4%25B7%25C2%25C7%25D8%25C1%25D6%25BC%25BC%25BF%25E4_-001_%25288%2529.jpg%23891x617&type=b220\" height=\"106\" alt=\"이미지준비중\" class=\"img\" onerror=\"this.src='data:image/gif;base64,R0lGODlhAQABAIAAAAAAAP///yH5BAEAAAAALAAAAAABAAEAAAIBRAA7';this.className='img bg_nimg2'\"> </a> </div> <div class=\"flick_bx\"> <a target=\"_blank\" href=\"https://blog.naver.com/kjs0/223068999775\" class=\"link _intent_cross_collection_trigger\" onclick=\"goOtherCR(this, 'a=itb_bas*b.imgtitlelink&r=21&i=SYS-0000000025532038.90000003_0000000000000033EFF2D05F&g=%7B%22bid%22%3A%22SYS-0000000025532038%22%2C%22docRank%22%3A1%7D&u='+urlencode(this.href));\"> <img src=\"https://search.pstatic.net/common/?src=http%3A%2F%2Fblogfiles.naver.net%2FMjAyMzA0MDlfNjMg%2FMDAxNjgwOTcxMTU0MDQw.tQfHikG26mGDX6Hxp1LVMZYR1SAjNBBStaOWR-jo0_Yg.Zxpdpczg23Z0XDmExxYENXWx201n4CMPxUqNbZwpCMog.JPEG.kjs0%2F%25C1%25A6%25B8%25F1%25C0%25BB-%25C0%25D4%25B7%25C2%25C7%25D8%25C1%25D6%25BC%25BC%25BF%25E4_-001_%25289%2529.jpg%23960x960&type=b220\" height=\"106\" alt=\"이미지준비중\" class=\"img\" onerror=\"this.src='data:image/gif;base64,R0lGODlhAQABAIAAAAAAAP///yH5BAEAAAAALAAAAAABAAEAAAIBRAA7';this.className='img bg_nimg2'\"> </a> </div> <div class=\"flick_bx\"> <a target=\"_blank\" href=\"https://blog.naver.com/kjs0/223068999775\" class=\"link _intent_cross_collection_trigger\" onclick=\"goOtherCR(this, 'a=itb_bas*b.imgtitlelink&r=21&i=SYS-0000000025532038.90000003_0000000000000033EFF2D05F&g=%7B%22bid%22%3A%22SYS-0000000025532038%22%2C%22docRank%22%3A1%7D&u='+urlencode(this.href));\"> <img src=\"https://search.pstatic.net/common/?src=http%3A%2F%2Fblogfiles.naver.net%2FMjAyMzA0MDlfMjM4%2FMDAxNjgwOTcxMjczMDE4.tKuUx-_Q3Ixt1NqjIY36i8olKQRsAij5XznNSn-4U4Mg.HIl_6cQH_nc5a-SOvvXZ3IKYG5wNlAuuyqs1QG7BJpwg.JPEG.kjs0%2FKakaoTalk_20230409_011914529.jpg%231973x2877&type=b220\" height=\"106\" alt=\"이미지준비중\" class=\"img\" onerror=\"this.src='data:image/gif;base64,R0lGODlhAQABAIAAAAAAAP///yH5BAEAAAAALAAAAAABAAEAAAIBRAA7';this.className='img bg_nimg2'\"> </a> </div> <div class=\"flick_bx\"> <a target=\"_blank\" href=\"https://blog.naver.com/kjs0/223068999775\" class=\"link _intent_cross_collection_trigger\" onclick=\"goOtherCR(this, 'a=itb_bas*b.imgtitlelink&r=21&i=SYS-0000000025532038.90000003_0000000000000033EFF2D05F&g=%7B%22bid%22%3A%22SYS-0000000025532038%22%2C%22docRank%22%3A1%7D&u='+urlencode(this.href));\"> <img src=\"https://search.pstatic.net/common/?src=http%3A%2F%2Fblogfiles.naver.net%2FMjAyMzA0MDlfNTcg%2FMDAxNjgwOTcxMzI3MDU3.eJC26910XvS_v6K_qEvyveHWG0uSZlTMP7huB68VSv4g.KqLtQqhztgCPAEK7_KAdJWXwec3WedE-qeeN-fB-Mesg.JPEG.kjs0%2FKakaoTalk_20230409_011914529_01.jpg%232086x3037&type=b220\" height=\"106\" alt=\"이미지준비중\" class=\"img\" onerror=\"this.src='data:image/gif;base64,R0lGODlhAQABAIAAAAAAAP///yH5BAEAAAAALAAAAAABAAEAAAIBRAA7';this.className='img bg_nimg2'\"> </a> </div> <div class=\"flick_bx\"> <a target=\"_blank\" href=\"https://blog.naver.com/kjs0/223068999775\" class=\"link _intent_cross_collection_trigger\" onclick=\"goOtherCR(this, 'a=itb_bas*b.imgtitlelink&r=21&i=SYS-0000000025532038.90000003_0000000000000033EFF2D05F&g=%7B%22bid%22%3A%22SYS-0000000025532038%22%2C%22docRank%22%3A1%7D&u='+urlencode(this.href));\"> <img src=\"https://search.pstatic.net/common/?src=http%3A%2F%2Fblogfiles.naver.net%2FMjAyMzA0MDlfMTkx%2FMDAxNjgwOTcxMjc5NTMw.aeXQ7B969M3FbeaYFYxgPvoFTJgWvfgGZnCSIOkgGgEg.mDfH66cgeb5D-2caRRAcHl08YyWAG64wYe_1EjlaTWwg.JPEG.kjs0%2FKakaoTalk_20230409_011914529_02.jpg%232066x3284&type=b220\" height=\"106\" alt=\"이미지준비중\" class=\"img\" onerror=\"this.src='data:image/gif;base64,R0lGODlhAQABAIAAAAAAAP///yH5BAEAAAAALAAAAAABAAEAAAIBRAA7';this.className='img bg_nimg2'\"> </a> </div> <div class=\"flick_bx\"> <a target=\"_blank\" href=\"https://blog.naver.com/kjs0/223068999775\" class=\"link _intent_cross_collection_trigger\" onclick=\"goOtherCR(this, 'a=itb_bas*b.imgtitlelink&r=21&i=SYS-0000000025532038.90000003_0000000000000033EFF2D05F&g=%7B%22bid%22%3A%22SYS-0000000025532038%22%2C%22docRank%22%3A1%7D&u='+urlencode(this.href));\"> <img src=\"https://search.pstatic.net/common/?src=http%3A%2F%2Fblogfiles.naver.net%2FMjAyMzA0MDlfMjkz%2FMDAxNjgwOTcxMjgwMjU0.CsuQ3q2wucq5yLtN7sFCTR9T9ez2RhFJvO3L5a1QkfMg.4kXNGfnWEqaue9ERwwgMxrGjbKu-UcFVv7EDaChXTUEg.JPEG.kjs0%2FKakaoTalk_20230409_011914529_03.jpg%231838x3042&type=b220\" height=\"106\" alt=\"이미지준비중\" class=\"img\" onerror=\"this.src='data:image/gif;base64,R0lGODlhAQABAIAAAAAAAP///yH5BAEAAAAALAAAAAABAAEAAAIBRAA7';this.className='img bg_nimg2'\"> </a> </div> <div class=\"flick_bx\"> <a target=\"_blank\" href=\"https://blog.naver.com/kjs0/223068999775\" class=\"link _intent_cross_collection_trigger\" onclick=\"goOtherCR(this, 'a=itb_bas*b.imgtitlelink&r=21&i=SYS-0000000025532038.90000003_0000000000000033EFF2D05F&g=%7B%22bid%22%3A%22SYS-0000000025532038%22%2C%22docRank%22%3A1%7D&u='+urlencode(this.href));\"> <img src=\"https://search.pstatic.net/common/?src=http%3A%2F%2Fblogfiles.naver.net%2FMjAyMzA0MDlfMTEg%2FMDAxNjgwOTcxMjg0NzY1.AfgjmFt9xoPvE3vYZOPkpe6d7pMP4pzNd6yEa_vjBwsg.Njd59yshlwbgW1z7YjFS_33wnjTc5xr27T2qQ0Y79vAg.JPEG.kjs0%2FKakaoTalk_20230409_011914529_04.jpg%231690x2733&type=b220\" height=\"106\" alt=\"이미지준비중\" class=\"img\" onerror=\"this.src='data:image/gif;base64,R0lGODlhAQABAIAAAAAAAP///yH5BAEAAAAALAAAAAABAAEAAAIBRAA7';this.className='img bg_nimg2'\"> </a> </div> <div class=\"flick_bx\"> <a target=\"_blank\" href=\"https://blog.naver.com/kjs0/223068999775\" class=\"link _intent_cross_collection_trigger\" onclick=\"goOtherCR(this, 'a=itb_bas*b.imgtitlelink&r=21&i=SYS-0000000025532038.90000003_0000000000000033EFF2D05F&g=%7B%22bid%22%3A%22SYS-0000000025532038%22%2C%22docRank%22%3A1%7D&u='+urlencode(this.href));\"> <img src=\"https://search.pstatic.net/common/?src=http%3A%2F%2Fblogfiles.naver.net%2FMjAyMzA0MDlfMTUz%2FMDAxNjgwOTcxMjg0NTY5.-yKIRLUPd0aa6R3ZzU8yIJMTccKn62dXcXoXCSwWr-gg.D9lRAcOR14XLAtjAjpvUocwEqwCbnDJciBz3iLsanyEg.JPEG.kjs0%2FKakaoTalk_20230409_011914529_05.jpg%231959x3258&type=b220\" height=\"106\" alt=\"이미지준비중\" class=\"img\" onerror=\"this.src='data:image/gif;base64,R0lGODlhAQABAIAAAAAAAP///yH5BAEAAAAALAAAAAABAAEAAAIBRAA7';this.className='img bg_nimg2'\"> </a> </div> <div class=\"flick_bx\"> <a target=\"_blank\" href=\"https://blog.naver.com/kjs0/223068999775\" class=\"link _intent_cross_collection_trigger\" onclick=\"goOtherCR(this, 'a=itb_bas*b.imgtitlelink&r=21&i=SYS-0000000025532038.90000003_0000000000000033EFF2D05F&g=%7B%22bid%22%3A%22SYS-0000000025532038%22%2C%22docRank%22%3A1%7D&u='+urlencode(this.href));\"> <img src=\"https://search.pstatic.net/common/?src=http%3A%2F%2Fimage.nmv.naver.net%2Fblog_2023_04_09_3117%2Faaba4dbc-d62a-11ed-b8b6-a0369ffabf34_01.jpg%23m&type=b220\" height=\"106\" alt=\"이미지준비중\" class=\"img\" onerror=\"this.src='data:image/gif;base64,R0lGODlhAQABAIAAAAAAAP///yH5BAEAAAAALAAAAAABAAEAAAIBRAA7';this.className='img bg_nimg2'\"> </a> </div> </div> <div class=\"api_btn_page type_transparent\"> <div class=\"btn_prev _au_btn_prev\" style=\"display: none;\"><a href=\"#\" role=\"button\" class=\"btn\" onclick=\"tCR('a=itb_bas*b.imgflk&r=&i=&u=javascript');\"><i class=\"spnew ico_arr\">이전</i></a></div> <div class=\"btn_next _au_btn_next\" style=\"display: none;\"><a href=\"#\" role=\"button\" class=\"btn\" onclick=\"tCR('a=itb_bas*b.imgflk&r=&i=&u=javascript');\"><i class=\"spnew ico_arr\">다음</i></a></div> </div> </div> <div class=\"info_area\"> <a target=\"_blank\" href=\"https://blog.naver.com/kjs0/223068999775\" onclick=\"goOtherCR(this, 'a=itb_bas*b.imgtitlelink&r=21&i=SYS-0000000025532038.90000003_0000000000000033EFF2D05F&g=%7B%22bid%22%3A%22SYS-0000000025532038%22%2C%22docRank%22%3A1%7D&u='+urlencode(this.href));\" class=\"desc _intent_cross_collection_trigger _ellipsis\"><span class=\"txt _text\"><mark>환율</mark>에 대한 개념이 부족하지만 그래도 언젠가 <mark>환율</mark>을 좀 알고 싶었던 당신이라면 지금 알아버립시다. <mark>환율</mark> 뜻 <mark>환율</mark> - 한 나라의 화폐와 외국 화폐의 교환 비율 <mark>환율</mark> 뜻이 사전에는 이렇게 나와있지만, 정의를 외우는 것보단 직관적으로 받아들이는 게 더 좋습니다. 저는 이렇게 생각합니다. '1달러는 우리나라 돈으로 얼마?' . . . <mark>환율</mark>이 1,200원이다.라는 건 1달러에 1... </span></a> </div> </div> </div> </li> <li class=\"keyword_item api_ani_send \" data-area-name=\"itb_bas*b 22 SYS-0000000025532038 90000003_0000000000000033F4115131,2\" data-space-id=\"\" data-alarm-name=\"썬플라의 세금융 라이프\" data-alarm-link=\"https://in.naver.com/\" data-alarm-thumb=\"https://search.pstatic.net/common/?src=http%3A%2F%2Fblogpfthumb.phinf.naver.net%2FMjAyMzA3MjlfMjY1%2FMDAxNjkwNjAwODA2MTU1.ES5VDZpb5DmQiM-_wHSsjS5kFZovKZUSS_4ijU5bbycg.553fBDfD60Yez3G6WMDwrlCocrQzL-QUoOBwRaV9RlQg.PNG.jadore0131%2F003.png%2F003.png&type=f44_44\" > <div class=\"content_area \"> <div class=\"user_box\"> <div class=\"api_save_group _keep_wrap\"> <a href=\"#\" role=\"button\" class=\"btn_save _keep_trigger\" aria-pressed=\"false\" data-cr-on=\"a=itb_bas*b.kep&r=22&i=SYS-0000000025532038.90000003_0000000000000033F4115131&g=%7B%22bid%22%3A%22SYS-0000000025532038%22%2C%22docRank%22%3A2%7D\" data-cr-off=\"a=itb_bas*b.kep&r=22&i=SYS-0000000025532038.90000003_0000000000000033F4115131&g=%7B%22bid%22%3A%22SYS-0000000025532038%22%2C%22docRank%22%3A2%7D\" data-url=\"https://blog.naver.com/ssunfla/223138107697\"><i class=\"spnew ico_save\">문서 저장하기</i></a> <div class=\"api_ly_save _keep_save_layer\" style=\"display: none;\"> <a href=\"javascript:;\" role=\"button\" class=\"spnew_af item item_save _keep_save\" data-cr-on=\"a=itb_bas*b.kepon&r=22&i=SYS-0000000025532038.90000003_0000000000000033F4115131&g=%7B%22bid%22%3A%22SYS-0000000025532038%22%2C%22docRank%22%3A2%7D\" data-cr-off=\"a=itb_bas*b.kepoff&r=22&i=SYS-0000000025532038.90000003_0000000000000033F4115131&g=%7B%22bid%22%3A%22SYS-0000000025532038%22%2C%22docRank%22%3A2%7D\">Keep에 저장</a> <a target=\"_blank\" href=\"https://keep.naver.com/\" class=\"spnew_af item item_quick\" onclick=\"goOtherCR(this, 'a=itb_bas*b.kephome&r=&i=&g=&u='+urlencode(this.href));\">Keep 바로가기</a> </div> </div> <a target=\"_blank\" href=\"https://blog.naver.com/ssunfla\" class=\"thumb_group\" data-fan-target=\"22\" onclick=\"goOtherCR(this, 'a=itb_bas*b.profile&r=22&i=SYS-0000000025532038.90000003_0000000000000033F4115131&g=%7B%22bid%22%3A%22SYS-0000000025532038%22%2C%22docRank%22%3A2%7D&u='+urlencode(this.href));\"> <img src=\"https://search.pstatic.net/common/?src=http%3A%2F%2Fblogpfthumb.phinf.naver.net%2FMjAyMzA3MjlfMjY1%2FMDAxNjkwNjAwODA2MTU1.ES5VDZpb5DmQiM-_wHSsjS5kFZovKZUSS_4ijU5bbycg.553fBDfD60Yez3G6WMDwrlCocrQzL-QUoOBwRaV9RlQg.PNG.jadore0131%2F003.png%2F003.png&type=f72_72_shop\" width=\"20\" height=\"20\" alt=\"\" class=\"img\" onerror=\"this.src='data:image/gif;base64,R0lGODlhAQABAIAAAAAAAP///yH5BAEAAAAALAAAAAABAAEAAAIBRAA7';this.className='img bg_npimg'\"> </a> <div class=\"info_group\"> <div class=\"group_inner\"> <a target=\"_blank\" href=\"https://blog.naver.com/ssunfla\" class=\"name\" onclick=\"goOtherCR(this, 'a=itb_bas*b.profile&r=22&i=SYS-0000000025532038.90000003_0000000000000033F4115131&g=%7B%22bid%22%3A%22SYS-0000000025532038%22%2C%22docRank%22%3A2%7D&u='+urlencode(this.href));\">썬플라의 세금융 라이프</a> <div class=\"info\">2023.06.29.</div> </div> </div> </div> <div class=\"detail_box \"> <a target=\"_blank\" target=\"_blank\" href=\"https://blog.naver.com/ssunfla/223138107697\" class=\"thumb_area _intent_cross_collection_trigger \" onclick=\"goOtherCR(this, 'a=itb_bas*b.link&r=22&i=SYS-0000000025532038.90000003_0000000000000033F4115131&g=%7B%22bid%22%3A%22SYS-0000000025532038%22%2C%22docRank%22%3A2%7D&u='+urlencode(this.href));\"> <img src=\"https://search.pstatic.net/common/?src=http%3A%2F%2Fblogfiles.naver.net%2FMjAyMzA2MjVfMTIg%2FMDAxNjg3NjU2MzU5NjE3.l6FlKUwCgrECuEiIY3sKqUBQb6nCNrWyGv3_jPxuzq8g.L_otg8RWakWzjPGi5WyeXP32C1A6qEVnr5tEtJ_81ogg.PNG.jadore0131%2F%25C1%25A6%25B8%25F1%25C0%25BB-%25C0%25D4%25B7%25C2%25C7%25D8%25C1%25D6%25BC%25BC%25BF%25E4_-004_%252849%2529.png%23400x400&type=ff264_180\" width=\"132\" height=\"90\" alt=\"이미지준비중\" class=\"img api_get\" onerror=\"this.src='data:image/gif;base64,R0lGODlhAQABAIAAAAAAAP///yH5BAEAAAAALAAAAAABAAEAAAIBRAA7';this.className='img bg_nimg'\"> <span class=\"count\">7</span> </a> <div class=\"info_area\"> <a target=\"_blank\" href=\"https://blog.naver.com/ssunfla/223138107697\" onclick=\"goOtherCR(this, 'a=itb_bas*b.link&r=22&i=SYS-0000000025532038.90000003_0000000000000033F4115131&g=%7B%22bid%22%3A%22SYS-0000000025532038%22%2C%22docRank%22%3A2%7D&u='+urlencode(this.href));\" class=\"title _intent_cross_collection_trigger\">경제용어 스프레드는 빵에 발라 먹는건데? 신용,채권,<mark>환율</mark> 뜻 정리</a> <a target=\"_blank\" href=\"https://blog.naver.com/ssunfla/223138107697\" onclick=\"goOtherCR(this, 'a=itb_bas*b.link&r=22&i=SYS-0000000025532038.90000003_0000000000000033F4115131&g=%7B%22bid%22%3A%22SYS-0000000025532038%22%2C%22docRank%22%3A2%7D&u='+urlencode(this.href));\" class=\"desc _intent_cross_collection_trigger _ellipsis\"><span class=\"txt _text\"><mark>환율</mark>, 주식, 채권등에 이르기까지 다양한 영역에서 사용되는 단어입니다. 스프레드 즉, 가산금리는 국가, 기업 또는 개인이 돈을 빌릴 때 신용도가 높은 채무자에게는 낮은... <mark>환율</mark>스프레드 외화를 살 때와 팔 때의 가격 차이로 <mark>환율</mark>수수료 내는데 이 수수료가 <mark>환율</mark>스프레드입니다. <mark>환율</mark> 스프레드가 좁을수록 환전을 할 때 더 많은 돈을 절약할 수 있습니다.... </span></a> </div> </div> </div> </li> <li class=\"keyword_item api_ani_send \" data-area-name=\"itb_bas*b 23 SYS-0000000025532038 90000003_0000000000000033F178E7F4,3\" data-space-id=\"\" data-alarm-name=\"워킹맘의 퇴사일지, 아우렐\" data-alarm-link=\"https://in.naver.com/\" data-alarm-thumb=\"https://search.pstatic.net/common/?src=http%3A%2F%2Fblogpfthumb.phinf.naver.net%2FMjAxODExMDlfMzMg%2FMDAxNTQxNjkxMDYxNjk2.0955kaQHNed1-FQptp1ltWld8QEA8dU8HyV3PJ5vqgcg.uqsCb2kt3-sIRzPrI7vGd2TVb8fl0mKNCoN7b5QOpoUg.JPEG.hanayammy%2FIMG_20170224_133955.jpg&type=f44_44\" > <div class=\"content_area \"> <div class=\"user_box\"> <div class=\"api_save_group _keep_wrap\"> <a href=\"#\" role=\"button\" class=\"btn_save _keep_trigger\" aria-pressed=\"false\" data-cr-on=\"a=itb_bas*b.kep&r=23&i=SYS-0000000025532038.90000003_0000000000000033F178E7F4&g=%7B%22bid%22%3A%22SYS-0000000025532038%22%2C%22docRank%22%3A3%7D\" data-cr-off=\"a=itb_bas*b.kep&r=23&i=SYS-0000000025532038.90000003_0000000000000033F178E7F4&g=%7B%22bid%22%3A%22SYS-0000000025532038%22%2C%22docRank%22%3A3%7D\" data-url=\"https://blog.naver.com/hanayammy/223094564852\"><i class=\"spnew ico_save\">문서 저장하기</i></a> <div class=\"api_ly_save _keep_save_layer\" style=\"display: none;\"> <a href=\"javascript:;\" role=\"button\" class=\"spnew_af item item_save _keep_save\" data-cr-on=\"a=itb_bas*b.kepon&r=23&i=SYS-0000000025532038.90000003_0000000000000033F178E7F4&g=%7B%22bid%22%3A%22SYS-0000000025532038%22%2C%22docRank%22%3A3%7D\" data-cr-off=\"a=itb_bas*b.kepoff&r=23&i=SYS-0000000025532038.90000003_0000000000000033F178E7F4&g=%7B%22bid%22%3A%22SYS-0000000025532038%22%2C%22docRank%22%3A3%7D\">Keep에 저장</a> <a target=\"_blank\" href=\"https://keep.naver.com/\" class=\"spnew_af item item_quick\" onclick=\"goOtherCR(this, 'a=itb_bas*b.kephome&r=&i=&g=&u='+urlencode(this.href));\">Keep 바로가기</a> </div> </div> <a target=\"_blank\" href=\"https://blog.naver.com/hanayammy\" class=\"thumb_group\" data-fan-target=\"23\" onclick=\"goOtherCR(this, 'a=itb_bas*b.profile&r=23&i=SYS-0000000025532038.90000003_0000000000000033F178E7F4&g=%7B%22bid%22%3A%22SYS-0000000025532038%22%2C%22docRank%22%3A3%7D&u='+urlencode(this.href));\"> <img src=\"https://search.pstatic.net/common/?src=http%3A%2F%2Fblogpfthumb.phinf.naver.net%2FMjAxODExMDlfMzMg%2FMDAxNTQxNjkxMDYxNjk2.0955kaQHNed1-FQptp1ltWld8QEA8dU8HyV3PJ5vqgcg.uqsCb2kt3-sIRzPrI7vGd2TVb8fl0mKNCoN7b5QOpoUg.JPEG.hanayammy%2FIMG_20170224_133955.jpg&type=f72_72_shop\" width=\"20\" height=\"20\" alt=\"\" class=\"img\" onerror=\"this.src='data:image/gif;base64,R0lGODlhAQABAIAAAAAAAP///yH5BAEAAAAALAAAAAABAAEAAAIBRAA7';this.className='img bg_npimg'\"> </a> <div class=\"info_group\"> <div class=\"group_inner\"> <a target=\"_blank\" href=\"https://blog.naver.com/hanayammy\" class=\"name\" onclick=\"goOtherCR(this, 'a=itb_bas*b.profile&r=23&i=SYS-0000000025532038.90000003_0000000000000033F178E7F4&g=%7B%22bid%22%3A%22SYS-0000000025532038%22%2C%22docRank%22%3A3%7D&u='+urlencode(this.href));\">워킹맘의 퇴사일지, 아우렐</a> <div class=\"info\">2023.05.06.</div> </div> </div> </div> <div class=\"detail_box \"> <a target=\"_blank\" target=\"_blank\" href=\"https://blog.naver.com/hanayammy/223094564852\" class=\"thumb_area _intent_cross_collection_trigger \" onclick=\"goOtherCR(this, 'a=itb_bas*b.link&r=23&i=SYS-0000000025532038.90000003_0000000000000033F178E7F4&g=%7B%22bid%22%3A%22SYS-0000000025532038%22%2C%22docRank%22%3A3%7D&u='+urlencode(this.href));\"> <img src=\"https://search.pstatic.net/common/?src=http%3A%2F%2Fblogfiles.naver.net%2FMjAyMzAxMTBfMjAw%2FMDAxNjczMzYwMzM2NzAw.4WoSp4mRyd3dRiRsyV3EgGTVvc2Zk5M_Q_WuetRz_N4g.B4OXFmqlKnHkDyzGcrjMIgsF8RSDko4kaR_zMoeoWK8g.JPEG.hanayammy%2F%25C1%25A6%25B8%25F1%25C0%25BB_%25C0%25D4%25B7%25C2%25C7%25D8%25C1%25D6%25BC%25BC%25BF%25E4_-003.jpg%231080x1080&type=ff264_180\" width=\"132\" height=\"90\" alt=\"이미지준비중\" class=\"img api_get\" onerror=\"this.src='data:image/gif;base64,R0lGODlhAQABAIAAAAAAAP///yH5BAEAAAAALAAAAAABAAEAAAIBRAA7';this.className='img bg_nimg'\"> <span class=\"count\">3</span> </a> <div class=\"info_area\"> <a target=\"_blank\" href=\"https://blog.naver.com/hanayammy/223094564852\" onclick=\"goOtherCR(this, 'a=itb_bas*b.link&r=23&i=SYS-0000000025532038.90000003_0000000000000033F178E7F4&g=%7B%22bid%22%3A%22SYS-0000000025532038%22%2C%22docRank%22%3A3%7D&u='+urlencode(this.href));\" class=\"title _intent_cross_collection_trigger\"><mark>환율</mark> 상승, 하락이 경제에 영향을 미치는 이유가 뭘까? (feat.<mark>환율</mark> 뜻)</a> <a target=\"_blank\" href=\"https://blog.naver.com/hanayammy/223094564852\" onclick=\"goOtherCR(this, 'a=itb_bas*b.link&r=23&i=SYS-0000000025532038.90000003_0000000000000033F178E7F4&g=%7B%22bid%22%3A%22SYS-0000000025532038%22%2C%22docRank%22%3A3%7D&u='+urlencode(this.href));\" class=\"desc _intent_cross_collection_trigger _ellipsis\"><span class=\"txt _text\">원달러 <mark>환율</mark> 상승, 하락이 경제에 미치는 영향 해외 여행을 간다면 내가 가는 나라의 돈으로 환전을 하게 된다. 이때 우리나라 원화 대비 외화의 비율을 따져서 환전하게 되는데, 이... 사실 이렇게 여행을 갈때나 생각하게 되는게 <mark>환율</mark>이라는 개념인데, 왜 이 <mark>환율</mark> 때문에 외국 자본이 빠져나가거나 들어와 주식시장도 오르락 내리락 하게 되고, #<mark>환율</mark>주식 우리가... </span></a> </div> </div> </div> </li> </ul> </div> </div> <div class=\"api_more_wrap\"> <a target=\"_blank\" href=\"https://s.search.naver.com/p/intentblock/search.naver?ac=0&aq=0&bid=SYS-0000000025532038&display=10&lgl_lat=37.517675&lgl_long=126.7271995&lgl_rcode=11237106&ngn_country=KR&nlu_query=%7B%22v%22%3A%223%22%2C%22intentblock%22%3A%221%22%2C%22qid%22%3A%22%ED%99%98%EC%9C%A8%22%2C%22nquery%22%3A%22%ED%99%98%EC%9C%A8%22%7D&query=%ED%99%98%EC%9C%A8&sqs=&ssc=tab.itb.all&start=1&where=nx_bridge\" class=\"api_more\" onclick=\"goOtherCR(this, 'a=itb_bas.more&r=&i=SYS-0000000025532038&g=%7B%22bid%22%3A%22SYS-0000000025532038%22%7D&u='+urlencode(this.href));\">환율 뜻 더보기<i class=\"spnew ico_arr\"></i></a> </div> </div> </section> <script> (function () { var intentPortal = \"https://ssl.pstatic.net/sstatic/fe/sfe/ugc/intent-pc/IntentPortal_230602.js\"; var startApplication = function () { var require = window.require.config({ \"context\": \"intent-portal\", \"paths\": { \"IntentPortal\": intentPortal.replace(/.js$/, \"\") } }); define(\"jquery\", [], function () { return jQuery; }); require([\"IntentPortal\"], function (IntentPortal) { var intentPortal = new IntentPortal({ \"selectors\": { \"navigation\": { \"root\": \"._fe_intent_navigation_conveyer_root\" }, \"popular\": { \"root\": \"._fe_intent_popular_conveyer_root\" }, \"intentBlock\": { \"notice\": { \"root\": \"._fe_intent_notice_root\" }, \"detail\": { \"root\": \"._fe_intent_detail_conveyer_root\" }, \"tooltips\": { \"root\": \"._fe_intent_influencer_tooltip_root\", \"firstVisit\": \"._fe_intent_influencer_tooltip_first_visit\" }, \"reply\": { \"root\": \"._fe_intent_reply_conveyer_root\" }, \"snippet\": { \"root\": \"._fe_intent_snippet_conveyer_root\" }, \"crossCollection\": { \"trigger\": \"._intent_cross_collection_trigger\", \"item\": \"._intent_cross_collection_item\", \"closeButton\": \"._intent_cross_collection_close_button\" } }, \"conveyer\": { \"container\": \"._au_conveyer_container\", \"prevButton\": \"._au_btn_prev\", \"nextButton\": \"._au_btn_next\" } }, \"store\": { \"isCrossCollectionActive\": true } }); intentPortal.mount(); }); }; var requirejs = \"https://ssl.pstatic.net/sstatic/au/module/requirejs/require-2.3.5.js\"; nhn.common.load_js(window.require ? null : requirejs, startApplication, true, 150); })(); </script> <script> (function () { var startApplication = function () { var require = window.require.config({ \"context\": \"ugc\", \"paths\": { \"PWRAdLogger\": \"https://ssl.pstatic.net/sstatic/fe/sfe/ugc/intent-logger-pc/PWRAdLogger_230601.js\".replace(/\\.js$/, \"\") } }); require([\"PWRAdLogger\"], function (PWRAdLogger) { var root = document.querySelector(\"._intent_pwr_root\"); if (!root) { return; } var pwrAdLogger = new PWRAdLogger({ \"observing\": \"._intent_pwr_content\" }).mount({ \"root\": root }); }); }; var requirejs = \"https://ssl.pstatic.net/sstatic/au/module/requirejs/require-2.3.5.js\"; nhn.common.load_js(window.require ? null : requirejs, startApplication, true, 150); })(); </script> <section class=\"sc_new sp_ntotal _sp_ntotal _prs_web_gen _fe_root_web_gen\"><div class=\"api_subject_bx type_noline\"><ul class=\"lst_total\"><li class=\"bx\"><div class=\"total_wrap api_ani_send\"><div class=\"api_save_group _keep_wrap\"><a href=\"#\" role=\"button\" class=\"btn_save _keep_trigger\" data-url=\"https://namu.wiki/w/%ED%99%98%EC%9C%A8\" onclick='tCR(\"a=web_gen.kep&amp;r=&amp;i=&amp;u=javascript\")'><i class=\"spnew ico_save\">문서 저장하기</i></a><div class=\"api_ly_save _keep_save_layer\"><a href=\"#\" role=\"button\" class=\"spnew_af item item_save _keep_save\" data-cr-on=\"a=web_gen.keepon\" data-cr-off=\"a=web_gen.keepoff\">Keep에 저장</a>\n",
            "<a target=\"_blank\" href=\"https://keep.naver.com/\" class=\"spnew_af item item_quick\" onclick='goOtherCR(this,\"a=web_gen.kep&amp;r=0&amp;i=a00000fa_ccfcd6f12f6d2bbc5156f81c&amp;u=\"+urlencode(this.href))'>Keep 바로가기</a></div></div><div class=\"total_source_group\"><div class=\"total_source\"><div class=\"source_box\"><a target=\"_blank\" href=\"https://namu.wiki/w/%ED%99%98%EC%9C%A8\" class=\"thumb\" onclick='goOtherCR(this,\"a=web_gen*w.link&amp;r=0&amp;i=a00000fa_ccfcd6f12f6d2bbc5156f81c&amp;u=\"+urlencode(this.href))'><img src=\"https://search.pstatic.net/sunny?src=https%3A%2F%2Fnamu.wiki%2Ffavicon-192.png&amp;type=f30_30_png_expire24\" width=\"15\" height=\"15\" alt></a>\n",
            "<a target=\"_blank\" href=\"https://namu.wiki/w/%ED%99%98%EC%9C%A8\" class=\"txt elss\" onclick='goOtherCR(this,\"a=web_gen*w.link&amp;r=0&amp;i=a00000fa_ccfcd6f12f6d2bbc5156f81c&amp;u=\"+urlencode(this.href))'>namu.wiki<i class=\"divide\">›</i>환율</a></div></div></div><div class=\"total_group\"><div class=\"total_dsc_wrap\"><div class=\"total_tit_box\"><div class=\"total_tit\"><a target=\"_blank\" href=\"https://namu.wiki/w/%ED%99%98%EC%9C%A8\" class=\"link_tit\" onclick='goOtherCR(this,\"a=web_gen*w.link&amp;r=0&amp;i=a00000fa_ccfcd6f12f6d2bbc5156f81c&amp;u=\"+urlencode(this.href))'><mark>환율</mark> - 나무위키</a></div></div><a target=\"_blank\" href=\"https://namu.wiki/w/%ED%99%98%EC%9C%A8\" class=\"total_dsc\" onclick='goOtherCR(this,\"a=web_gen*w.link&amp;r=0&amp;i=a00000fa_ccfcd6f12f6d2bbc5156f81c&amp;u=\"+urlencode(this.href))'><div class=\"api_txt_lines dsc_txt\"><mark>환율</mark>(換率 / exchange rate)이란 사전적으로는 '한 나라의 화폐와 외국 화폐의 교환 비율'이나 한국에서 실질적으로 사용되고 있는 의미는 '외화 1단위와 교환되는 원화의 양이다. 우선 통화의 가치는 구매력으로 나타난다. 그런데 외국에서의 구매력, 예를 들어 해외직구를 하려면 자국의 통화를 교환해 얻은 외화가 있어야 가능하므로 통화의 대외가치를 나타낸다는 의의가 있다...</div></a></div></div></div><div class=\"snippet_rel_wrap\"><ul class=\"list_rel\"><li class=\"bx\"><a target=\"_blank\" href=\"https://namu.wiki/w/%ED%99%98%EC%9C%A8#s-1\" class=\"link_item\" onclick='tCR(\"a=web_gen*c.redlink&amp;r=0&amp;i=a00000fa_ccfcd6f12f6d2bbc5156f81c&amp;u=javascript\")'>개요</a></li><li class=\"bx\"><a target=\"_blank\" href=\"https://namu.wiki/w/%ED%99%98%EC%9C%A8#s-2\" class=\"link_item\" onclick='tCR(\"a=web_gen*c.redlink&amp;r=0&amp;i=a00000fa_ccfcd6f12f6d2bbc5156f81c&amp;u=javascript\")'>분류</a></li><li class=\"bx\"><a target=\"_blank\" href=\"https://namu.wiki/w/%ED%99%98%EC%9C%A8#s-3\" class=\"link_item\" onclick='tCR(\"a=web_gen*c.redlink&amp;r=0&amp;i=a00000fa_ccfcd6f12f6d2bbc5156f81c&amp;u=javascript\")'>환율 결정에 대한 제도</a></li><li class=\"bx\"><a target=\"_blank\" href=\"https://namu.wiki/w/%ED%99%98%EC%9C%A8#s-4\" class=\"link_item\" onclick='tCR(\"a=web_gen*c.redlink&amp;r=0&amp;i=a00000fa_ccfcd6f12f6d2bbc5156f81c&amp;u=javascript\")'>환율변동</a></li><li class=\"bx\"><a target=\"_blank\" href=\"https://namu.wiki/w/%ED%99%98%EC%9C%A8#s-5\" class=\"link_item\" onclick='tCR(\"a=web_gen*c.redlink&amp;r=0&amp;i=a00000fa_ccfcd6f12f6d2bbc5156f81c&amp;u=javascript\")'>유의 사항</a></li><li class=\"bx\"><a target=\"_blank\" href=\"https://namu.wiki/w/%ED%99%98%EC%9C%A8#s-6\" class=\"link_item\" onclick='tCR(\"a=web_gen*c.redlink&amp;r=0&amp;i=a00000fa_ccfcd6f12f6d2bbc5156f81c&amp;u=javascript\")'>대한민국</a></li><li class=\"bx\"><a target=\"_blank\" href=\"https://namu.wiki/w/%ED%99%98%EC%9C%A8#s-1.1\" class=\"link_item\" onclick='tCR(\"a=web_gen*c.redlink&amp;r=0&amp;i=a00000fa_ccfcd6f12f6d2bbc5156f81c&amp;u=javascript\")'>원리</a></li><li class=\"bx\"><a target=\"_blank\" href=\"https://namu.wiki/w/%ED%99%98%EC%9C%A8#s-1.2\" class=\"link_item\" onclick='tCR(\"a=web_gen*c.redlink&amp;r=0&amp;i=a00000fa_ccfcd6f12f6d2bbc5156f81c&amp;u=javascript\")'>표기법</a></li><li class=\"bx\"><a target=\"_blank\" href=\"https://namu.wiki/w/%ED%99%98%EC%9C%A8#s-2.1\" class=\"link_item\" onclick='tCR(\"a=web_gen*c.redlink&amp;r=0&amp;i=a00000fa_ccfcd6f12f6d2bbc5156f81c&amp;u=javascript\")'>매도율·매수율</a></li><li class=\"bx\"><a target=\"_blank\" href=\"https://namu.wiki/w/%ED%99%98%EC%9C%A8#s-3.1\" class=\"link_item\" onclick='tCR(\"a=web_gen*c.redlink&amp;r=0&amp;i=a00000fa_ccfcd6f12f6d2bbc5156f81c&amp;u=javascript\")'>고정 환율</a></li></ul></div><div class=\"source_cluster_wrap\"><div class=\"source_cluster_list\"><div class=\"source_item\"><a target=\"_blank\" href=\"https://namu.wiki/w/%EB%8C%80%ED%95%9C%EB%AF%BC%EA%B5%AD%20%EC%9B%90/%ED%99%98%EC%9C%A8\" class=\"source_title\" onclick='goOtherCR(this,\"a=web_gen*l.link&amp;r=1&amp;i=a00000fa_85bd64fd0c6c2b7118f0f367&amp;u=\"+urlencode(this.href))'>대한민국 원/<mark>환율</mark> - 나무위키</a><div class=\"source_dsc\">1993년 출범한 김영삼 정부 임기 초중반에는 달러화의 움직임에 큰 변화가 없었다. 하지만 임기 후반으로 갈수록 아시아 외환위기로 변동성이 심해졌고 결국 1997년 외환위기로 1997년 12월 3일부터 IMF 관리 체제로 들어가면서 1997년 12월 16일 정부는 <mark>환율</mark>변동제한폭을 폐지했고 불과 7일 후 달러화는 장중 1,999원을 기록하며 사상 최고치를 경신했다. 이후 달러화는 김영삼 정부 임기 종료 때까지 큰 폭의 등락을 반복했다...</div></div></div></div><div class=\"total_more_wrap\"><a href=\"?query=%ED%99%98%EC%9C%A8+site%3Anamu.wiki&amp;where=web\" class=\"total_more\" onclick='goOtherCR(this,\"a=web_gen*l.more&amp;r=&amp;i=&amp;u=\"+urlencode(this.href))'>관련문서 더보기<i class=\"spnew api_ico_arr4\"></i></a></div></li><li class=\"bx\"><div class=\"total_wrap api_ani_send\"><div class=\"api_save_group _keep_wrap\"><a href=\"#\" role=\"button\" class=\"btn_save _keep_trigger\" data-url=\"https://finance.daum.net/exchanges\" onclick='tCR(\"a=web_gen.kep&amp;r=&amp;i=&amp;u=javascript\")'><i class=\"spnew ico_save\">문서 저장하기</i></a><div class=\"api_ly_save _keep_save_layer\"><a href=\"#\" role=\"button\" class=\"spnew_af item item_save _keep_save\" data-cr-on=\"a=web_gen.keepon\" data-cr-off=\"a=web_gen.keepoff\">Keep에 저장</a>\n",
            "<a target=\"_blank\" href=\"https://keep.naver.com/\" class=\"spnew_af item item_quick\" onclick='goOtherCR(this,\"a=web_gen.kep&amp;r=2&amp;i=a00000fa_2b2d414caf86e51c823790b3&amp;u=\"+urlencode(this.href))'>Keep 바로가기</a></div></div><div class=\"total_source_group\"><div class=\"total_source\"><div class=\"source_box\"><a target=\"_blank\" href=\"https://finance.daum.net/exchanges\" class=\"thumb\" onclick='goOtherCR(this,\"a=web_gen*w.link&amp;r=2&amp;i=a00000fa_2b2d414caf86e51c823790b3&amp;u=\"+urlencode(this.href))'><img src=\"https://search.pstatic.net/sunny?src=https%3A%2F%2Ffinance.daum.net%2Ffavicon.ico&amp;type=f30_30_png_expire24\" width=\"15\" height=\"15\" alt></a>\n",
            "<a target=\"_blank\" href=\"https://finance.daum.net/exchanges\" class=\"txt elss\" onclick='goOtherCR(this,\"a=web_gen*w.link&amp;r=2&amp;i=a00000fa_2b2d414caf86e51c823790b3&amp;u=\"+urlencode(this.href))'>finance.daum.net<i class=\"divide\">›</i>exchanges</a></div></div></div><div class=\"total_group\"><div class=\"total_dsc_wrap\"><a target=\"_blank\" href=\"https://finance.daum.net/exchanges\" class=\"total_thumb\" onclick='goOtherCR(this,\"a=web_gen*G.image&amp;r=2&amp;i=a00000fa_2b2d414caf86e51c823790b3&amp;u=\"+urlencode(this.href))'><img src=\"https://search.pstatic.net/sunny?src=https%3A%2F%2Ft1.daumcdn.net%2Ffinance%2Fchart%2Fkr%2Fdaumforex%2Fd%2FFRX.KRWUSD.png&amp;type=fff264_180\" width=\"132\" height=\"90\" alt class=\"img api_get\" onerror='this.src=\"data:image/gif;base64,R0lGODlhAQABAIAAAAAAAP///yH5BAEAAAAALAAAAAABAAEAAAIBRAA7\",this.className=\"img bg_nimg\"'></a><div class=\"total_tit_box\"><div class=\"total_tit\"><a target=\"_blank\" href=\"https://finance.daum.net/exchanges\" class=\"link_tit\" onclick='goOtherCR(this,\"a=web_gen*w.link&amp;r=2&amp;i=a00000fa_2b2d414caf86e51c823790b3&amp;u=\"+urlencode(this.href))'><mark>환율</mark> | 다음 금융</a></div></div><a target=\"_blank\" href=\"https://finance.daum.net/exchanges\" class=\"total_dsc\" onclick='goOtherCR(this,\"a=web_gen*x.link&amp;r=2&amp;i=a00000fa_2b2d414caf86e51c823790b3&amp;u=\"+urlencode(this.href))'><div class=\"api_txt_lines dsc_txt\">미국 · USD · 1 달러 ; 대한민국 · KRW · 1,277 원</div></a></div></div></div></li><li class=\"bx\"><div class=\"total_wrap api_ani_send\"><div class=\"api_save_group _keep_wrap\"><a href=\"#\" role=\"button\" class=\"btn_save _keep_trigger\" data-url=\"https://www.citibank.co.kr/FxdExrt0100.act\" onclick='tCR(\"a=web_gen.kep&amp;r=&amp;i=&amp;u=javascript\")'><i class=\"spnew ico_save\">문서 저장하기</i></a><div class=\"api_ly_save _keep_save_layer\"><a href=\"#\" role=\"button\" class=\"spnew_af item item_save _keep_save\" data-cr-on=\"a=web_gen.keepon\" data-cr-off=\"a=web_gen.keepoff\">Keep에 저장</a>\n",
            "<a target=\"_blank\" href=\"https://keep.naver.com/\" class=\"spnew_af item item_quick\" onclick='goOtherCR(this,\"a=web_gen.kep&amp;r=3&amp;i=a00000fa_0e04bec1077a35311496984d&amp;u=\"+urlencode(this.href))'>Keep 바로가기</a></div></div><div class=\"total_source_group\"><div class=\"total_source\"><div class=\"source_box\"><a target=\"_blank\" href=\"https://www.citibank.co.kr/FxdExrt0100.act\" class=\"thumb\" onclick='goOtherCR(this,\"a=web_gen*w.link&amp;r=3&amp;i=a00000fa_0e04bec1077a35311496984d&amp;u=\"+urlencode(this.href))'><img src=\"https://search.pstatic.net/sunny?src=https%3A%2F%2Fwww.citibank.co.kr%2Fimg%2Fcommon%2Fciti_kr_192x192.png&amp;type=f30_30_png_expire24\" width=\"15\" height=\"15\" alt></a>\n",
            "<a target=\"_blank\" href=\"https://www.citibank.co.kr/FxdExrt0100.act\" class=\"txt elss\" onclick='goOtherCR(this,\"a=web_gen*w.link&amp;r=3&amp;i=a00000fa_0e04bec1077a35311496984d&amp;u=\"+urlencode(this.href))'>www.citibank.co.kr</a></div></div></div><div class=\"total_group\"><div class=\"total_dsc_wrap\"><div class=\"total_tit_box\"><div class=\"total_tit\"><a target=\"_blank\" href=\"https://www.citibank.co.kr/FxdExrt0100.act\" class=\"link_tit\" onclick='goOtherCR(this,\"a=web_gen*w.link&amp;r=3&amp;i=a00000fa_0e04bec1077a35311496984d&amp;u=\"+urlencode(this.href))'><mark>환율</mark>[35] - 한국씨티은행</a></div></div><a target=\"_blank\" href=\"https://www.citibank.co.kr/FxdExrt0100.act\" class=\"total_dsc\" onclick='goOtherCR(this,\"a=web_gen*x.link&amp;r=3&amp;i=a00000fa_0e04bec1077a35311496984d&amp;u=\"+urlencode(this.href))'><div class=\"api_txt_lines dsc_txt\">오늘의 <mark>환율</mark> · (조회시간 : 2023-08-07 23:48:01) ; 미국 · (USD) ; 중국 · (CNY) ; 유럽 · (EUR) ; 일본 · (JPY)</div></a></div></div></div></li></ul></div><div class=\"api_more_wrap type_margin\"><a href=\"?nso=&amp;page=2&amp;qdt=-1&amp;query=%ED%99%98%EC%9C%A8&amp;qvt=-1&amp;sm=tab_pge&amp;start=1&amp;where=web\" class=\"api_more\" onclick='goOtherCR(this,\"a=web_gen.more2&amp;r=&amp;i=&amp;u=\"+urlencode(this.href))'>검색결과 더보기<i class=\"spnew ico_arr\"></i></a></div></section><script>(function(){var e=\"https://ssl.pstatic.net/sstatic/fe/sfe/commonPortal/pc/Controller_221213a.js\",t=function(){var t=window.require.config({paths:{Controller:e.replace(/\\.js$/,\"\")}});define(\"jquery\",[],function(){return jQuery}),t([\"Controller\"],function(e){var t=jQuery(\"._fe_root_web_gen\"),n=new e(t);n.on({\"tab-scroll\":function(e){e.isTrusted},\"content-scroll\":function(e){e.isTrusted},\"click-infolayer-trigger-button\":function(e){e.isOn}})})},n=naver.common.gv.REQUIRE_JS;naver.common.load_js(window.require?null:n,t,!0,150)})()</script><script>(function(){var e=\"https://ssl.pstatic.net/sstatic/fe/sfe/channel/pc/Channel_230615.js\",t=function(){var t=window.require.config({context:\"_pc_project_channel\",paths:{Channel:e.replace(/\\.js$/,\"\")}});define(\"jquery\",[],function(){return jQuery}),t([\"Channel\"],function(e){var t=jQuery(\"._fe_root_web_gen\");new e(t).on(\"moveEnd\",function(){tCR(\"a=web_gen*s.nflicking&r=&i=&u=javascript\")})})},n=\"https://ssl.pstatic.net/sstatic/au/module/requirejs/require-2.3.5.js\";nhn.common.load_js(window.require?null:n,t,!0,150)})()</script><script>(function(){var e,n=\"_sp_ntotal\",s=\"type_margin\",t=Array.prototype.slice.call(document.querySelectorAll(\"section.\"+n));function o(e,t){return e.matches?e.matches(t):!!e.msMatchesSelector&&e.msMatchesSelector(t)}function i(e){var t=e,s=t.tagName.toLowerCase();do t=t.previousElementSibling,s=t?t.tagName.toLowerCase():\"\";while(t!==null&&(s===\"script\"||s===\"link\"))return t!==null&&s===\"section\"&&o(t,\".\"+n)}for(e=0;e<t.length;++e)i(t[e])&&t[e].classList.add(s)})()</script><script type=\"text/javascript\">\n",
            "    var _elAdIndLayerBz = null;\n",
            "    var _elAdIndLayerTimeBz;\n",
            "    var _elDscNcautionBz = null;\n",
            "\n",
            "    function adInfoShowBz(el) {\n",
            "      if (_elAdIndLayerBz) {\n",
            "        adInfoHideBz();\n",
            "        return false;\n",
            "      } else {\n",
            "        if (!_elDscNcautionBz) {\n",
            "          _elDscNcautionBz = $Element(el).parent();\n",
            "        }\n",
            "        _elDscNcautionBz._element.style.zIndex = 121;\n",
            "        _elAdIndLayerBz = $Element(el).next();\n",
            "        _elAdIndLayerBz.show();\n",
            "        _elAdIndLayerTimeBz = (new Date()).getTime();\n",
            "        return true;\n",
            "      }\n",
            "    }\n",
            "\n",
            "    function adInfoHideBz() {\n",
            "      if (_elAdIndLayerBz) {\n",
            "        if (_elDscNcautionBz) {\n",
            "          _elDscNcautionBz._element.style.zIndex = 0;\n",
            "        }\n",
            "        _elAdIndLayerBz.hide();\n",
            "        _elAdIndLayerBz = null;\n",
            "      }\n",
            "    }\n",
            "\n",
            "    function adInfoHideClickEventHandlerBz(e) {\n",
            "      if (_elAdIndLayerTimeBz + 200 < (new Date()).getTime()) adInfoHideBz();\n",
            "    }\n",
            "\n",
            "    document.body[window.addEventListener ? 'addEventListener' : 'attachEvent'](window.addEventListener ? \"click\" : \"onclick\", adInfoHideClickEventHandlerBz, false);\n",
            "  </script>\n",
            "  <div class=\"ad_section section _bz_section bg_type_v2\">\n",
            "    <div class=\"section_head\"><h2>비즈사이트</h2>\n",
            "      <div class=\"dsc_ncaution\">\n",
            "        <span><em class=\"dsc_ncaution_quotation\">&lsquo;</em>\n",
            "          <strong class=\"dsc_ncaution_keyword\">환율</strong>\n",
            "          <em class=\"dsc_ncaution_quotation\">&rsquo;</em>\n",
            "        </span>\n",
            "        <span class=\"dsc_ncaution_text\">관련 광고입니다.</span>\n",
            "        <a href=\"javascript:void(0);\" class=\"icon_nad_desc\"\n",
            "           title=\"이 광고가 표시된 이유\" onclick=\"if(adInfoShowBz(this)) goOtherCR(this, &#39;a=biz_nop.adset&amp;r=0&amp;i=biz_nopadset&amp;u=&#39;+urlencode(this.href));\">이 광고가 표시된 이유</a>\n",
            "        <div class=\"ly_ad_dsc\" onclick=\"adInfoHideBz();\" style=\"display:none\">\n",
            "          <p>광고 노출기준은 검색어에 대한 연관성과 광고주의 입찰가입니다.</p>\n",
            "          <button type=\"button\" class=\"bt_ad_clse\" title=\"안내 레이어 닫기\">안내 레이어 닫기</button>\n",
            "        </div>\n",
            "      </div>\n",
            "      <a href=\"//saedu.naver.com/adbiz/searchad/intro.nhn\" class=\"go_register space\"\n",
            "         target=\"_blank\" onclick=\"return goOtherCR(this, &#39;a=biz_nop.registration&amp;r=0&amp;i=biz_nopregistration&amp;u=&#39;+urlencode(this.href));\">등록 안내</a>\n",
            "    </div>\n",
            "    <div class=\"nad_area\" id=\"biz_site_body\" impression-event-url=\"https://event.impression-neo.naver.com/api/v1/events/naver_search/impression?x=_dwi5GphtMVollXUY96Du8hxA48hDGdION6s1VXh6ZF7CiAgInR5cGUiIDogIklNUFJFU1NJT04iLAogICJkZXRhaWwiIDogewogICAgIkBjbGFzcyIgOiAiY29tLm5hdmVyLmltcHJlc3Npb24uZXZlbnQuY29yZS5kb21haW4uSW1wcmVzc2lvbkV2ZW50RGV0YWlsIiwKICAgICJyZXF1ZXN0X2lkIiA6ICJpTGJIUGxwcnZtc3NzTktJMzJzc3Nzc3N0T28tNTExMjkxIiwKICAgICJyZXF1ZXN0X3RpbWVzdGFtcF9pbl9taWxsaXMiIDogMTY5MTQ2NjEwNjg5OCwKICAgICJjaGFubmVsX2lkIiA6IDIzNzU5NiwKICAgICJzZWFyY2hfa2V5d29yZCIgOiAi7ZmY7JyoIiwKICAgICJpbXByZXNzaW9uX2xvY2F0aW9uX2luZm8iIDogewogICAgICAiQGNsYXNzIiA6ICJjb20ubmF2ZXIuaW1wcmVzc2lvbi5ldmVudC5jb3JlLmRvbWFpbi5OYXZlclNlYXJjaENvbGxlY3Rpb25JbmZvIiwKICAgICAgInR5cGUiIDogIkJJWl9TSVRFIiwKICAgICAgInJhbmtfdHlwZSIgOiAiQUxXQVlTX1RPUCIsCiAgICAgICJhZHNfYXJlYV9oZWlnaHQiIDogbnVsbCwKICAgICAgInljb29yZGluYXRlX2luX3BpeGVscyIgOiBudWxsCiAgICB9LAogICAgInNlc3Npb25faWQiIDogbnVsbCwKICAgICJidWNrZXRfaWQiIDogbnVsbCwKICAgICJzeXN0ZW1fcmVxdWVzdF9pZCIgOiAiQ25SWkxBQUFBWW5UUElnU0FWN2xDUT09IgogIH0sCiAgImlkIiA6ICJmNWYwNGIzMS1hZDNlLTRkNzYtODBlMC0zNDYwZmEzOTZmMTYiLAogICJ0aW1lc3RhbXBfaW5fbWlsbGlzIiA6IDAKfQ==\">\n",
            "      <ul class=\"lst_type\">\n",
            "        <li class=\"lst type_biz\"\n",
            "            onmouseover=\"jindo.$Element(this).addClass('ad_hover');\"\n",
            "            onmouseout=\"jindo.$Element(this).removeClass('ad_hover');\" num=\"0\">\n",
            "          <div class=\"inner\">\n",
            "            <div class=\"title_url_area\">\n",
            "              <a href=\"https://adcr.naver.com/adcr?x=FNHkABgIw37jPpQrtfKxAv///w==kXZHB6CL+8z1ya6vVsD/DetvgIJBzeiLGJ5mK2YXe60cFYk3KTvl1SXnFgiljyaNv7zYk3hC+mBnVb298L9VKITMjiSlWKMC5FlagTqftlfBp3yWPt+CZqjMCrxqq0szf7UHrJCj5N171PJCMBBtTp3E0vHPCw6PtZ3jLYg+dPCVLoKScGoP9mffiCxvvvZRCo17JLIPnS4sXYF9HD1lojicu/VDiYcQJQQggtfl897v0cJyehAVP2SXmMn7kWz0eQg9T3S2iXjDUaZFUwNWK686jWkSd4KkM/WCinSoEwk4MkdIOZ0Gwn7OO7P0Ee6l6WQnzskTBShxp/Q5k61XVDnieK1I8SYrv92XcduhipkfZ8tH22GjEdwDcDRgBWcFxpknba5/yCz2DZDrc4+hHVpzCPBCcdUCwv6PSwKL8858asADz/FCMMt1ozcDVGYgGZ02NqiBj0oAbEGf7r5wWHKvh2tJig38Ds6MNrFk2a9q/d995X8gVzCfr2jA23vFIhnlo5rUWf8HHooWxV1a5xUGx9qq7MfYs4VITTbGkGgU+vumS5BRQvqbPapyIJ1YtEWpdNGi8JqhldxqqH1N6V7vemR6AeLdbK8uH0Qck8tEJfvnAVxsWTZ71aZrmZgoTn1pd/EQ/Xl/0eC61SE9bx5Xg+mYZmfxN80X0++7Y9E0=\" class=\"favicon_wrap\" target=\"_blank\" onclick=\"return goOtherCR(this,&#39;a=biz_nop.favicon&amp;r=11&amp;i=nad-a001-01-000000254464322&amp;d=&#39;+urlencode(&#39;https://cafe.naver.com/happystockforus&#39;)+&#39;&amp;u=&#39;+urlencode(this.href));\">\n",
            "                <img width=\"16\" height=\"16\" alt=\"favicon\" class=\"icon_favicon\" data-img-alias=\"power-link-favicon-error\"\n",
            "                     data-lazysrc=\"https://search.pstatic.net/sunny?src=https%3A%2F%2Fcafe.naver.com%2Ffavicon.ico&amp;type=f30_30_png_expire24\"\n",
            "                     src=\"https://ssl.pstatic.net/adimg3.search/imp/nx/power/pc/230719/img/icon_favicon.png\">\n",
            "              </a>\n",
            "              <div class=\"url_area\">\n",
            "                <span class=\"icon_nad_mark\">광고</span>\n",
            "                \n",
            "                <a href=\"https://adcr.naver.com/adcr?x=FNHkABgIw37jPpQrtfKxAv///w==kXZHB6CL+8z1ya6vVsD/DetvgIJBzeiLGJ5mK2YXe60cFYk3KTvl1SXnFgiljyaNv7zYk3hC+mBnVb298L9VKITMjiSlWKMC5FlagTqftlfBp3yWPt+CZqjMCrxqq0szf7UHrJCj5N171PJCMBBtTp3E0vHPCw6PtZ3jLYg+dPCVLoKScGoP9mffiCxvvvZRCo17JLIPnS4sXYF9HD1lojicu/VDiYcQJQQggtfl897v0cJyehAVP2SXmMn7kWz0eQg9T3S2iXjDUaZFUwNWK686jWkSd4KkM/WCinSoEwk4MkdIOZ0Gwn7OO7P0Ee6l6WQnzskTBShxp/Q5k61XVDnieK1I8SYrv92XcduhipkfZ8tH22GjEdwDcDRgBWcFxpknba5/yCz2DZDrc4+hHVpzCPBCcdUCwv6PSwKL8858asADz/FCMMt1ozcDVGYgGZ02NqiBj0oAbEGf7r5wWHKvh2tJig38Ds6MNrFk2a9q/d995X8gVzCfr2jA23vFIhnlo5rUWf8HHooWxV1a5xUGx9qq7MfYs4VITTbGkGgU+vumS5BRQvqbPapyIJ1YtEWpdNGi8JqhldxqqH1N6V7vemR6AeLdbK8uH0Qck8tEJfvnAVxsWTZ71aZrmZgoTn1pd/EQ/Xl/0eC61SE9bx5Xg+mYZmfxN80X0++7Y9E0=&amp;p=1\"\n",
            "                   class=\"lnk_url\" target=\"_blank\"\n",
            "                   onclick=\"return goOtherCR(this, &#39;a=biz_nop.url&amp;r=1&amp;i=nad-a001-01-000000254464322&amp;d=&#39;+urlencode(&#39;https://cafe.naver.com/happystockforus&#39;)+&#39;&amp;u=&#39;+urlencode(this.href));\">cafe.naver.com/happystockforus</a>\n",
            "              </div>\n",
            "              <a href=\"https://adcr.naver.com/adcr?x=FNHkABgIw37jPpQrtfKxAv///w==kXZHB6CL+8z1ya6vVsD/DetvgIJBzeiLGJ5mK2YXe60cFYk3KTvl1SXnFgiljyaNv7zYk3hC+mBnVb298L9VKITMjiSlWKMC5FlagTqftlfBp3yWPt+CZqjMCrxqq0szf7UHrJCj5N171PJCMBBtTp3E0vHPCw6PtZ3jLYg+dPCVLoKScGoP9mffiCxvvvZRCo17JLIPnS4sXYF9HD1lojicu/VDiYcQJQQggtfl897v0cJyehAVP2SXmMn7kWz0eQg9T3S2iXjDUaZFUwNWK686jWkSd4KkM/WCinSoEwk4MkdIOZ0Gwn7OO7P0Ee6l6WQnzskTBShxp/Q5k61XVDnieK1I8SYrv92XcduhipkfZ8tH22GjEdwDcDRgBWcFxpknba5/yCz2DZDrc4+hHVpzCPBCcdUCwv6PSwKL8858asADz/FCMMt1ozcDVGYgGZ02NqiBj0oAbEGf7r5wWHKvh2tJig38Ds6MNrFk2a9q/d995X8gVzCfr2jA23vFIhnlo5rUWf8HHooWxV1a5xUGx9qq7MfYs4VITTbGkGgU+vumS5BRQvqbPapyIJ1YtEWpdNGi8JqhldxqqH1N6V7vemR6AeLdbK8uH0Qck8tEJfvnAVxsWTZ71aZrmZgoTn1pd/EQ/Xl/0eC61SE9bx5Xg+mYZmfxN80X0++7Y9E0=&amp;p=0\" target=\"_blank\"\n",
            "                 class=\"lnk_head\" onclick=\"return goOtherCR(this, &#39;a=biz_nop.tit&amp;r=1&amp;i=nad-a001-01-000000254464322&amp;d=&#39; + urlencode(&#39;https://cafe.naver.com/happystockforus&#39;) + &#39;&amp;u=&#39;+ urlencode(this.href));\">\n",
            "                \n",
            "                \n",
            "                  <span class=\"lnk_tit\">해피스탁 네이버 카페</span>\n",
            "                \n",
            "                \n",
            "              </a>\n",
            "            </div>\n",
            "            <div class=\"desc_area\">\n",
            "              \n",
            "              <a href=\"https://adcr.naver.com/adcr?x=FNHkABgIw37jPpQrtfKxAv///w==kXZHB6CL+8z1ya6vVsD/DetvgIJBzeiLGJ5mK2YXe60cFYk3KTvl1SXnFgiljyaNv7zYk3hC+mBnVb298L9VKITMjiSlWKMC5FlagTqftlfBp3yWPt+CZqjMCrxqq0szf7UHrJCj5N171PJCMBBtTp3E0vHPCw6PtZ3jLYg+dPCVLoKScGoP9mffiCxvvvZRCo17JLIPnS4sXYF9HD1lojicu/VDiYcQJQQggtfl897v0cJyehAVP2SXmMn7kWz0eQg9T3S2iXjDUaZFUwNWK686jWkSd4KkM/WCinSoEwk4MkdIOZ0Gwn7OO7P0Ee6l6WQnzskTBShxp/Q5k61XVDnieK1I8SYrv92XcduhipkfZ8tH22GjEdwDcDRgBWcFxpknba5/yCz2DZDrc4+hHVpzCPBCcdUCwv6PSwKL8858asADz/FCMMt1ozcDVGYgGZ02NqiBj0oAbEGf7r5wWHKvh2tJig38Ds6MNrFk2a9q/d995X8gVzCfr2jA23vFIhnlo5rUWf8HHooWxV1a5xUGx9qq7MfYs4VITTbGkGgU+vumS5BRQvqbPapyIJ1YtEWpdNGi8JqhldxqqH1N6V7vemR6AeLdbK8uH0Qck8tEJfvnAVxsWTZ71aZrmZgoTn1pd/EQ/Xl/0eC61SE9bx5Xg+mYZmfxN80X0++7Y9E0=\" class=\"link_desc\" target=\"_blank\"\n",
            "                 onclick=\"return goOtherCR(this, &#39;a=biz_nop.desc&amp;r=1&amp;i=nad-a001-01-000000254464322&amp;d=&#39; + urlencode(&#39;https://cafe.naver.com/happystockforus&#39;) + &#39;&amp;u=&#39;+ urlencode(this.href));\">행복한 주식 투자를 위한 공간입니다.</a>\n",
            "              \n",
            "            </div>\n",
            "            \n",
            "          </div>\n",
            "        </li>\n",
            "        <li class=\"lst type_biz\"\n",
            "            onmouseover=\"jindo.$Element(this).addClass('ad_hover');\"\n",
            "            onmouseout=\"jindo.$Element(this).removeClass('ad_hover');\" num=\"1\">\n",
            "          <div class=\"inner\">\n",
            "            <div class=\"title_url_area\">\n",
            "              <a href=\"https://adcr.naver.com/adcr?x=8LqwqdDAvUgMxAPveAyo/v///w==kNHlyxCqbkiDw9fWaBKuGLj6xCi9lrAZfwrNFOtNd7/wNxceolyvJMmwKWKH0ulyS6fuHspVGOeOTeK6KERS06eMyLogR4wtr2R1xTPeYbPgafoXexqWUsQqofKzcqJzHY8VlrbU4iI7yzCPPWaFT2PHMYJaBVtEZDw/z9icswmMqgOgXIE/2G4KIHBfwdi2c8rckym3PXhZAIaGji62u95GTAaU6x5rBsrSOWv8zY39Zc01XCPynpqaw7R7gapZrWw/0gKsEDPYZHeJHnJM0mrbiyBJdIwaA8PgldlvK8jkptZjp1bswhumgC6ZVjrnx5iiUjomT83yFDuTy5gMMwNDGqQC69O9qGJohZdd4WhMRgN9jBkGRJpOgvV3d26qLp5yCSFi0Kh2cnwTkWrLAhFVrOJJhhxY3W2u3dfdwRr4bnYfVkyvm1elZU801JstZ+8Mb2Uk8tJ82fFiFDm0Z6SfumMtTbDUeDRoY3JYVS4MCibAgIlHkNyEH5zzKMLk6JoIkIcrhpnKrP1Z3L53Lvil4isvltyaKtysnMuLVMm1aGf71iL8ZA7AaiLhbYBmHkQ0DPUddNPZVbUxBgC21JPpLswOwsfcQDd1CdmVX4t35He9eevgNMZFni/yLkTkAT5swhO5Zv6XEHVZjPfBMxtRmp40+neZFdis+Whn+jJUUXaJRUdmS99q+ZqY4xm8mxoDcH3TtKIfmILetZabM2qwkt1tR5okyNmRCOrhJnq2ypWz5uGKEJWNFNzwyngpYKuUe4ZlAPzBSQ2GJAnf5yQ==\" class=\"favicon_wrap\" target=\"_blank\" onclick=\"return goOtherCR(this,&#39;a=biz_nop.favicon&amp;r=12&amp;i=nad-a001-01-000000010821336&amp;d=&#39;+urlencode(&#39;http://www.seoulpaper.com&#39;)+&#39;&amp;u=&#39;+urlencode(this.href));\">\n",
            "                <img width=\"16\" height=\"16\" alt=\"favicon\" class=\"icon_favicon\" data-img-alias=\"power-link-favicon-error\"\n",
            "                     data-lazysrc=\"https://search.pstatic.net/sunny?src=http%3A%2F%2Fwww.seoulpaper.com%2Ffavicon.ico&amp;type=f30_30_png_expire24\"\n",
            "                     src=\"https://ssl.pstatic.net/adimg3.search/imp/nx/power/pc/230719/img/icon_favicon.png\">\n",
            "              </a>\n",
            "              <div class=\"url_area\">\n",
            "                <span class=\"icon_nad_mark\">광고</span>\n",
            "                \n",
            "                <a href=\"https://adcr.naver.com/adcr?x=8LqwqdDAvUgMxAPveAyo/v///w==kNHlyxCqbkiDw9fWaBKuGLj6xCi9lrAZfwrNFOtNd7/wNxceolyvJMmwKWKH0ulyS6fuHspVGOeOTeK6KERS06eMyLogR4wtr2R1xTPeYbPgafoXexqWUsQqofKzcqJzHY8VlrbU4iI7yzCPPWaFT2PHMYJaBVtEZDw/z9icswmMqgOgXIE/2G4KIHBfwdi2c8rckym3PXhZAIaGji62u95GTAaU6x5rBsrSOWv8zY39Zc01XCPynpqaw7R7gapZrWw/0gKsEDPYZHeJHnJM0mrbiyBJdIwaA8PgldlvK8jkptZjp1bswhumgC6ZVjrnx5iiUjomT83yFDuTy5gMMwNDGqQC69O9qGJohZdd4WhMRgN9jBkGRJpOgvV3d26qLp5yCSFi0Kh2cnwTkWrLAhFVrOJJhhxY3W2u3dfdwRr4bnYfVkyvm1elZU801JstZ+8Mb2Uk8tJ82fFiFDm0Z6SfumMtTbDUeDRoY3JYVS4MCibAgIlHkNyEH5zzKMLk6JoIkIcrhpnKrP1Z3L53Lvil4isvltyaKtysnMuLVMm1aGf71iL8ZA7AaiLhbYBmHkQ0DPUddNPZVbUxBgC21JPpLswOwsfcQDd1CdmVX4t35He9eevgNMZFni/yLkTkAT5swhO5Zv6XEHVZjPfBMxtRmp40+neZFdis+Whn+jJUUXaJRUdmS99q+ZqY4xm8mxoDcH3TtKIfmILetZabM2qwkt1tR5okyNmRCOrhJnq2ypWz5uGKEJWNFNzwyngpYKuUe4ZlAPzBSQ2GJAnf5yQ==&amp;p=1\"\n",
            "                   class=\"lnk_url\" target=\"_blank\"\n",
            "                   onclick=\"return goOtherCR(this, &#39;a=biz_nop.url&amp;r=2&amp;i=nad-a001-01-000000010821336&amp;d=&#39;+urlencode(&#39;http://www.seoulpaper.com&#39;)+&#39;&amp;u=&#39;+urlencode(this.href));\">www.seoulpaper.com</a>\n",
            "              </div>\n",
            "              <a href=\"https://adcr.naver.com/adcr?x=8LqwqdDAvUgMxAPveAyo/v///w==kNHlyxCqbkiDw9fWaBKuGLj6xCi9lrAZfwrNFOtNd7/wNxceolyvJMmwKWKH0ulyS6fuHspVGOeOTeK6KERS06eMyLogR4wtr2R1xTPeYbPgafoXexqWUsQqofKzcqJzHY8VlrbU4iI7yzCPPWaFT2PHMYJaBVtEZDw/z9icswmMqgOgXIE/2G4KIHBfwdi2c8rckym3PXhZAIaGji62u95GTAaU6x5rBsrSOWv8zY39Zc01XCPynpqaw7R7gapZrWw/0gKsEDPYZHeJHnJM0mrbiyBJdIwaA8PgldlvK8jkptZjp1bswhumgC6ZVjrnx5iiUjomT83yFDuTy5gMMwNDGqQC69O9qGJohZdd4WhMRgN9jBkGRJpOgvV3d26qLp5yCSFi0Kh2cnwTkWrLAhFVrOJJhhxY3W2u3dfdwRr4bnYfVkyvm1elZU801JstZ+8Mb2Uk8tJ82fFiFDm0Z6SfumMtTbDUeDRoY3JYVS4MCibAgIlHkNyEH5zzKMLk6JoIkIcrhpnKrP1Z3L53Lvil4isvltyaKtysnMuLVMm1aGf71iL8ZA7AaiLhbYBmHkQ0DPUddNPZVbUxBgC21JPpLswOwsfcQDd1CdmVX4t35He9eevgNMZFni/yLkTkAT5swhO5Zv6XEHVZjPfBMxtRmp40+neZFdis+Whn+jJUUXaJRUdmS99q+ZqY4xm8mxoDcH3TtKIfmILetZabM2qwkt1tR5okyNmRCOrhJnq2ypWz5uGKEJWNFNzwyngpYKuUe4ZlAPzBSQ2GJAnf5yQ==&amp;p=0\" target=\"_blank\"\n",
            "                 class=\"lnk_head\" onclick=\"return goOtherCR(this, &#39;a=biz_nop.tit&amp;r=2&amp;i=nad-a001-01-000000010821336&amp;d=&#39; + urlencode(&#39;http://www.seoulpaper.com&#39;) + &#39;&amp;u=&#39;+ urlencode(this.href));\">\n",
            "                \n",
            "                \n",
            "                  <span class=\"lnk_tit\">서울대박사그룹,서울논문컨설팅</span>\n",
            "                \n",
            "                \n",
            "              </a>\n",
            "            </div>\n",
            "            <div class=\"desc_area\">\n",
            "              \n",
            "              <a href=\"https://adcr.naver.com/adcr?x=8LqwqdDAvUgMxAPveAyo/v///w==kNHlyxCqbkiDw9fWaBKuGLj6xCi9lrAZfwrNFOtNd7/wNxceolyvJMmwKWKH0ulyS6fuHspVGOeOTeK6KERS06eMyLogR4wtr2R1xTPeYbPgafoXexqWUsQqofKzcqJzHY8VlrbU4iI7yzCPPWaFT2PHMYJaBVtEZDw/z9icswmMqgOgXIE/2G4KIHBfwdi2c8rckym3PXhZAIaGji62u95GTAaU6x5rBsrSOWv8zY39Zc01XCPynpqaw7R7gapZrWw/0gKsEDPYZHeJHnJM0mrbiyBJdIwaA8PgldlvK8jkptZjp1bswhumgC6ZVjrnx5iiUjomT83yFDuTy5gMMwNDGqQC69O9qGJohZdd4WhMRgN9jBkGRJpOgvV3d26qLp5yCSFi0Kh2cnwTkWrLAhFVrOJJhhxY3W2u3dfdwRr4bnYfVkyvm1elZU801JstZ+8Mb2Uk8tJ82fFiFDm0Z6SfumMtTbDUeDRoY3JYVS4MCibAgIlHkNyEH5zzKMLk6JoIkIcrhpnKrP1Z3L53Lvil4isvltyaKtysnMuLVMm1aGf71iL8ZA7AaiLhbYBmHkQ0DPUddNPZVbUxBgC21JPpLswOwsfcQDd1CdmVX4t35He9eevgNMZFni/yLkTkAT5swhO5Zv6XEHVZjPfBMxtRmp40+neZFdis+Whn+jJUUXaJRUdmS99q+ZqY4xm8mxoDcH3TtKIfmILetZabM2qwkt1tR5okyNmRCOrhJnq2ypWz5uGKEJWNFNzwyngpYKuUe4ZlAPzBSQ2GJAnf5yQ==\" class=\"link_desc\" target=\"_blank\"\n",
            "                 onclick=\"return goOtherCR(this, &#39;a=biz_nop.desc&amp;r=2&amp;i=nad-a001-01-000000010821336&amp;d=&#39; + urlencode(&#39;http://www.seoulpaper.com&#39;) + &#39;&amp;u=&#39;+ urlencode(this.href));\">석박사,학술지,SCI논문,연구설계,교정,통계분석,신뢰할수 있는 서울대박사그룹</a>\n",
            "              \n",
            "            </div>\n",
            "            \n",
            "          </div>\n",
            "        </li>\n",
            "        <li class=\"lst type_biz\"\n",
            "            onmouseover=\"jindo.$Element(this).addClass('ad_hover');\"\n",
            "            onmouseout=\"jindo.$Element(this).removeClass('ad_hover');\" num=\"2\">\n",
            "          <div class=\"inner\">\n",
            "            <div class=\"title_url_area\">\n",
            "              <a href=\"https://adcr.naver.com/adcr?x=dC+7Q8TNc/hOkcXwq4Wa0////w==kuBWWZQ9lZwjDObcQP/dxmYE/lC2NXAsVMtRqKyd06r6A2tH1sxsDdO9rU7cWwCOsR4UYJAqUQXyFQrA4Gx9JsKAfWPbunuqKwSgXhYTylhxvf6kQX7nHmol9yuVguWFDBhnw1B4Km0Ws5rAVX7kXASbNu4joY5OeXqofQOrmO4pTUYNFnnpGUk1+6WQvfGYC+4xzPhckvY8UEOhzwy9fDajY/HJ7p5f+EjJRe4OckqPKnKZ1WRdWffgXiOR0WzexA34OCg4f/xGq6wJgdtE8oW600OM43V9jmUsvslQw7r5/w+yui0y65DZXXjgM7BOhjIgYLtAAHZ7BKigys+6l5ftlCyH+IGqz7096nWCFRj/SXTzRi6jdSgk8mBU9E0p15IlSxgMAtP8YY1CgG8iA1hl5gy443Z+j3Dkncuh//vgU50uVXbIiG5+gLIuMC7riElmNKKZP1aUvpEuikiOCIxJjETs2G9qBJJLEf9svVWCVaLMYFJlz5RQtk5spWABMaVoG/RHYQ07hEEMIjHS2Zxt1TvfMNQTRHvR89mPajygeqUdal4unpaRaYzWwmdVCAKhf1Tet05U1y8pOqLB1uCiVrXHFtBDP3EnPLqW7XlH1p5WAA75U0hojeh6VEKn5f/+qOwbhJFP1ENEJr6gnBQ==\" class=\"favicon_wrap\" target=\"_blank\" onclick=\"return goOtherCR(this,&#39;a=biz_nop.favicon&amp;r=13&amp;i=nad-a001-01-000000183981412&amp;d=&#39;+urlencode(&#39;https://www.m-live.co.kr/&#39;)+&#39;&amp;u=&#39;+urlencode(this.href));\">\n",
            "                <img width=\"16\" height=\"16\" alt=\"favicon\" class=\"icon_favicon\" data-img-alias=\"power-link-favicon-error\"\n",
            "                     data-lazysrc=\"https://search.pstatic.net/sunny?src=https%3A%2F%2Flive.v2cp.kr%2Fimages%2Felite%2Ffavicon.ico&amp;type=f30_30_png_expire24\"\n",
            "                     src=\"https://ssl.pstatic.net/adimg3.search/imp/nx/power/pc/230719/img/icon_favicon.png\">\n",
            "              </a>\n",
            "              <div class=\"url_area\">\n",
            "                <span class=\"icon_nad_mark\">광고</span>\n",
            "                \n",
            "                <a href=\"https://adcr.naver.com/adcr?x=dC+7Q8TNc/hOkcXwq4Wa0////w==kuBWWZQ9lZwjDObcQP/dxmYE/lC2NXAsVMtRqKyd06r6A2tH1sxsDdO9rU7cWwCOsR4UYJAqUQXyFQrA4Gx9JsKAfWPbunuqKwSgXhYTylhxvf6kQX7nHmol9yuVguWFDBhnw1B4Km0Ws5rAVX7kXASbNu4joY5OeXqofQOrmO4pTUYNFnnpGUk1+6WQvfGYC+4xzPhckvY8UEOhzwy9fDajY/HJ7p5f+EjJRe4OckqPKnKZ1WRdWffgXiOR0WzexA34OCg4f/xGq6wJgdtE8oW600OM43V9jmUsvslQw7r5/w+yui0y65DZXXjgM7BOhjIgYLtAAHZ7BKigys+6l5ftlCyH+IGqz7096nWCFRj/SXTzRi6jdSgk8mBU9E0p15IlSxgMAtP8YY1CgG8iA1hl5gy443Z+j3Dkncuh//vgU50uVXbIiG5+gLIuMC7riElmNKKZP1aUvpEuikiOCIxJjETs2G9qBJJLEf9svVWCVaLMYFJlz5RQtk5spWABMaVoG/RHYQ07hEEMIjHS2Zxt1TvfMNQTRHvR89mPajygeqUdal4unpaRaYzWwmdVCAKhf1Tet05U1y8pOqLB1uCiVrXHFtBDP3EnPLqW7XlH1p5WAA75U0hojeh6VEKn5f/+qOwbhJFP1ENEJr6gnBQ==&amp;p=1\"\n",
            "                   class=\"lnk_url\" target=\"_blank\"\n",
            "                   onclick=\"return goOtherCR(this, &#39;a=biz_nop.url&amp;r=3&amp;i=nad-a001-01-000000183981412&amp;d=&#39;+urlencode(&#39;https://www.m-live.co.kr/&#39;)+&#39;&amp;u=&#39;+urlencode(this.href));\">www.m-live.co.kr/</a>\n",
            "              </div>\n",
            "              <a href=\"https://adcr.naver.com/adcr?x=dC+7Q8TNc/hOkcXwq4Wa0////w==kuBWWZQ9lZwjDObcQP/dxmYE/lC2NXAsVMtRqKyd06r6A2tH1sxsDdO9rU7cWwCOsR4UYJAqUQXyFQrA4Gx9JsKAfWPbunuqKwSgXhYTylhxvf6kQX7nHmol9yuVguWFDBhnw1B4Km0Ws5rAVX7kXASbNu4joY5OeXqofQOrmO4pTUYNFnnpGUk1+6WQvfGYC+4xzPhckvY8UEOhzwy9fDajY/HJ7p5f+EjJRe4OckqPKnKZ1WRdWffgXiOR0WzexA34OCg4f/xGq6wJgdtE8oW600OM43V9jmUsvslQw7r5/w+yui0y65DZXXjgM7BOhjIgYLtAAHZ7BKigys+6l5ftlCyH+IGqz7096nWCFRj/SXTzRi6jdSgk8mBU9E0p15IlSxgMAtP8YY1CgG8iA1hl5gy443Z+j3Dkncuh//vgU50uVXbIiG5+gLIuMC7riElmNKKZP1aUvpEuikiOCIxJjETs2G9qBJJLEf9svVWCVaLMYFJlz5RQtk5spWABMaVoG/RHYQ07hEEMIjHS2Zxt1TvfMNQTRHvR89mPajygeqUdal4unpaRaYzWwmdVCAKhf1Tet05U1y8pOqLB1uCiVrXHFtBDP3EnPLqW7XlH1p5WAA75U0hojeh6VEKn5f/+qOwbhJFP1ENEJr6gnBQ==&amp;p=0\" target=\"_blank\"\n",
            "                 class=\"lnk_head\" onclick=\"return goOtherCR(this, &#39;a=biz_nop.tit&amp;r=3&amp;i=nad-a001-01-000000183981412&amp;d=&#39; + urlencode(&#39;https://www.m-live.co.kr/&#39;) + &#39;&amp;u=&#39;+ urlencode(this.href));\">\n",
            "                \n",
            "                \n",
            "                  <span class=\"lnk_tit\">주식방송 엠라이브</span>\n",
            "                \n",
            "                \n",
            "              </a>\n",
            "            </div>\n",
            "            <div class=\"desc_area\">\n",
            "              \n",
            "              <a href=\"https://adcr.naver.com/adcr?x=dC+7Q8TNc/hOkcXwq4Wa0////w==kuBWWZQ9lZwjDObcQP/dxmYE/lC2NXAsVMtRqKyd06r6A2tH1sxsDdO9rU7cWwCOsR4UYJAqUQXyFQrA4Gx9JsKAfWPbunuqKwSgXhYTylhxvf6kQX7nHmol9yuVguWFDBhnw1B4Km0Ws5rAVX7kXASbNu4joY5OeXqofQOrmO4pTUYNFnnpGUk1+6WQvfGYC+4xzPhckvY8UEOhzwy9fDajY/HJ7p5f+EjJRe4OckqPKnKZ1WRdWffgXiOR0WzexA34OCg4f/xGq6wJgdtE8oW600OM43V9jmUsvslQw7r5/w+yui0y65DZXXjgM7BOhjIgYLtAAHZ7BKigys+6l5ftlCyH+IGqz7096nWCFRj/SXTzRi6jdSgk8mBU9E0p15IlSxgMAtP8YY1CgG8iA1hl5gy443Z+j3Dkncuh//vgU50uVXbIiG5+gLIuMC7riElmNKKZP1aUvpEuikiOCIxJjETs2G9qBJJLEf9svVWCVaLMYFJlz5RQtk5spWABMaVoG/RHYQ07hEEMIjHS2Zxt1TvfMNQTRHvR89mPajygeqUdal4unpaRaYzWwmdVCAKhf1Tet05U1y8pOqLB1uCiVrXHFtBDP3EnPLqW7XlH1p5WAA75U0hojeh6VEKn5f/+qOwbhJFP1ENEJr6gnBQ==\" class=\"link_desc\" target=\"_blank\"\n",
            "                 onclick=\"return goOtherCR(this, &#39;a=biz_nop.desc&amp;r=3&amp;i=nad-a001-01-000000183981412&amp;d=&#39; + urlencode(&#39;https://www.m-live.co.kr/&#39;) + &#39;&amp;u=&#39;+ urlencode(this.href));\">실시간 전문가 주식방송 엠라이브!무료방송,종목추천</a>\n",
            "              \n",
            "            </div>\n",
            "            \n",
            "          </div>\n",
            "        </li>\n",
            "        <li class=\"lst type_biz\"\n",
            "            onmouseover=\"jindo.$Element(this).addClass('ad_hover');\"\n",
            "            onmouseout=\"jindo.$Element(this).removeClass('ad_hover');\" num=\"3\">\n",
            "          <div class=\"inner\">\n",
            "            <div class=\"title_url_area\">\n",
            "              <a href=\"https://adcr.naver.com/adcr?x=S516ZS5dCQ8RbnWF2tfnkP///w==k9/fOv6AqEGLtEXsrAdzVzV3J4VXAv12ztSX+8ilBz+MFnXdu2Doo+J7NXYzD8uQFqCW3xN1U81XuURMzcclZUZoIk2y9fE0B0hBhwAY8MUmj33S6oxRftunfamB+miKaI7xrZUtJ0fBO9nNxfw/RzXSMLeJi9nYN3NmxyA6HYnhs6hlbFR7ZuZboF606irpraTIZU7s/HhBPssm/tEiW7bcadcq7elicvmTnMC3SbVJPLi41Rrzirpcya9505dKjc0czQOgBgdgTLw06KAStYHglTfhnIQgPJlu3vbGRw3EMCwrWzD0lgIjy2w/ydcXN+zHx+tEzCeJvPKWqrNn3aLfVlY1RRhn6ivZU9WacO7a0xp3E0OLndTgTXf9WFQZq7xSudTsvdWKZaboYScjF/Bn1BnipUph34s6NMEQDmBv2SFgle0JunBnqRiwzGyfuT0sR5RG3Ob1mnwIbZfu5DkbTmcqsA3P8OQDPHIisv4i0U+Zael9Z6z4jBi2NDjjkenAHBi6YjP8Dwk1gofNOInDyZFvndpWJ0SALppX68SEUdzi1uKS23DtRRBHsJ0LU3m0DThqdw25FqLdSPrX7prztw6Ug/JMoVaRk/Ble9sGSe8TzVFIApcmlSWDc4R/9XIROr87N/2IhyRuCO3bJR7Ly6Sg1MaVuJoUBeMbBC64=\" class=\"favicon_wrap\" target=\"_blank\" onclick=\"return goOtherCR(this,&#39;a=biz_nop.favicon&amp;r=14&amp;i=nad-a001-01-000000240373620&amp;d=&#39;+urlencode(&#39;http://trlink.kr&#39;)+&#39;&amp;u=&#39;+urlencode(this.href));\">\n",
            "                <img width=\"16\" height=\"16\" alt=\"favicon\" class=\"icon_favicon\" data-img-alias=\"power-link-favicon-error\"\n",
            "                     data-lazysrc=\"https://search.pstatic.net/sunny?src=http%3A%2F%2Ftrlink.kr%2Ffavicon.ico&amp;type=f30_30_png_expire24\"\n",
            "                     src=\"https://ssl.pstatic.net/adimg3.search/imp/nx/power/pc/230719/img/icon_favicon.png\">\n",
            "              </a>\n",
            "              <div class=\"url_area\">\n",
            "                <span class=\"icon_nad_mark\">광고</span>\n",
            "                <span class=\"ico_area\">\n",
            "                  \n",
            "                  <span class=\"ico\">\n",
            "                    <span class=\"sp_nad ico_nlogin\"\n",
            "                          onMouseOver=\"NAVER.SEARCH_AD.showTooltip(this);\"\n",
            "                          onMouseOut=\"NAVER.SEARCH_AD.hideTooltip(this);\"\n",
            "                          onFocus=\"NAVER.SEARCH_AD.showTooltip(this);\"\n",
            "                          onBlur=\"NAVER.SEARCH_AD.hideTooltip(this);\">네이버 로그인</span>\n",
            "                    <a href=\"//nid.naver.com/user2/campaign/introNaverIdLogin.nhn\"\n",
            "                       class=\"ly_ad _tooltip\"\n",
            "                       style=\"display:none\" onFocus=\"NAVER.SEARCH_AD.showTooltip(this);\"\n",
            "                       onBlur=\"NAVER.SEARCH_AD.hideTooltip(this);\"\n",
            "                       onMouseOver=\"NAVER.SEARCH_AD.showTooltip(this);\"\n",
            "                       onMouseOut=\"NAVER.SEARCH_AD.hideTooltip(this);\" onclick=\"return goOtherCR(this, &#39;a=biz_nop.naverlogin&amp;r=4&amp;i=nad-a001-01-000000240373620&amp;u=&#39;+urlencode(this.href));\">\n",
            "                      <span class=\"ly_box\">\n",
            "                        <span>네이버 아이디로 로그인이 가능합니다.</span>\n",
            "                        <span class=\"ly_ad_go\">서비스 자세히 보기<span class=\"sp_nad bu\"></span></span>\n",
            "                      </span>\n",
            "                    </a>\n",
            "                  </span>\n",
            "                  \n",
            "                  \n",
            "                </span>\n",
            "                <a href=\"https://adcr.naver.com/adcr?x=S516ZS5dCQ8RbnWF2tfnkP///w==k9/fOv6AqEGLtEXsrAdzVzV3J4VXAv12ztSX+8ilBz+MFnXdu2Doo+J7NXYzD8uQFqCW3xN1U81XuURMzcclZUZoIk2y9fE0B0hBhwAY8MUmj33S6oxRftunfamB+miKaI7xrZUtJ0fBO9nNxfw/RzXSMLeJi9nYN3NmxyA6HYnhs6hlbFR7ZuZboF606irpraTIZU7s/HhBPssm/tEiW7bcadcq7elicvmTnMC3SbVJPLi41Rrzirpcya9505dKjc0czQOgBgdgTLw06KAStYHglTfhnIQgPJlu3vbGRw3EMCwrWzD0lgIjy2w/ydcXN+zHx+tEzCeJvPKWqrNn3aLfVlY1RRhn6ivZU9WacO7a0xp3E0OLndTgTXf9WFQZq7xSudTsvdWKZaboYScjF/Bn1BnipUph34s6NMEQDmBv2SFgle0JunBnqRiwzGyfuT0sR5RG3Ob1mnwIbZfu5DkbTmcqsA3P8OQDPHIisv4i0U+Zael9Z6z4jBi2NDjjkenAHBi6YjP8Dwk1gofNOInDyZFvndpWJ0SALppX68SEUdzi1uKS23DtRRBHsJ0LU3m0DThqdw25FqLdSPrX7prztw6Ug/JMoVaRk/Ble9sGSe8TzVFIApcmlSWDc4R/9XIROr87N/2IhyRuCO3bJR7Ly6Sg1MaVuJoUBeMbBC64=&amp;p=1\"\n",
            "                   class=\"lnk_url\" target=\"_blank\"\n",
            "                   onclick=\"return goOtherCR(this, &#39;a=biz_nop.url&amp;r=4&amp;i=nad-a001-01-000000240373620&amp;d=&#39;+urlencode(&#39;http://trlink.kr&#39;)+&#39;&amp;u=&#39;+urlencode(this.href));\">trlink.kr</a>\n",
            "              </div>\n",
            "              <a href=\"https://adcr.naver.com/adcr?x=S516ZS5dCQ8RbnWF2tfnkP///w==k9/fOv6AqEGLtEXsrAdzVzV3J4VXAv12ztSX+8ilBz+MFnXdu2Doo+J7NXYzD8uQFqCW3xN1U81XuURMzcclZUZoIk2y9fE0B0hBhwAY8MUmj33S6oxRftunfamB+miKaI7xrZUtJ0fBO9nNxfw/RzXSMLeJi9nYN3NmxyA6HYnhs6hlbFR7ZuZboF606irpraTIZU7s/HhBPssm/tEiW7bcadcq7elicvmTnMC3SbVJPLi41Rrzirpcya9505dKjc0czQOgBgdgTLw06KAStYHglTfhnIQgPJlu3vbGRw3EMCwrWzD0lgIjy2w/ydcXN+zHx+tEzCeJvPKWqrNn3aLfVlY1RRhn6ivZU9WacO7a0xp3E0OLndTgTXf9WFQZq7xSudTsvdWKZaboYScjF/Bn1BnipUph34s6NMEQDmBv2SFgle0JunBnqRiwzGyfuT0sR5RG3Ob1mnwIbZfu5DkbTmcqsA3P8OQDPHIisv4i0U+Zael9Z6z4jBi2NDjjkenAHBi6YjP8Dwk1gofNOInDyZFvndpWJ0SALppX68SEUdzi1uKS23DtRRBHsJ0LU3m0DThqdw25FqLdSPrX7prztw6Ug/JMoVaRk/Ble9sGSe8TzVFIApcmlSWDc4R/9XIROr87N/2IhyRuCO3bJR7Ly6Sg1MaVuJoUBeMbBC64=&amp;p=0\" target=\"_blank\"\n",
            "                 class=\"lnk_head\" onclick=\"return goOtherCR(this, &#39;a=biz_nop.tit&amp;r=4&amp;i=nad-a001-01-000000240373620&amp;d=&#39; + urlencode(&#39;http://trlink.kr&#39;) + &#39;&amp;u=&#39;+ urlencode(this.href));\">\n",
            "                \n",
            "                \n",
            "                  <span class=\"lnk_tit\">링크톡-투자전문가 매칭플랫폼</span>\n",
            "                \n",
            "                \n",
            "              </a>\n",
            "            </div>\n",
            "            <div class=\"desc_area\">\n",
            "              \n",
            "              <a href=\"https://adcr.naver.com/adcr?x=S516ZS5dCQ8RbnWF2tfnkP///w==k9/fOv6AqEGLtEXsrAdzVzV3J4VXAv12ztSX+8ilBz+MFnXdu2Doo+J7NXYzD8uQFqCW3xN1U81XuURMzcclZUZoIk2y9fE0B0hBhwAY8MUmj33S6oxRftunfamB+miKaI7xrZUtJ0fBO9nNxfw/RzXSMLeJi9nYN3NmxyA6HYnhs6hlbFR7ZuZboF606irpraTIZU7s/HhBPssm/tEiW7bcadcq7elicvmTnMC3SbVJPLi41Rrzirpcya9505dKjc0czQOgBgdgTLw06KAStYHglTfhnIQgPJlu3vbGRw3EMCwrWzD0lgIjy2w/ydcXN+zHx+tEzCeJvPKWqrNn3aLfVlY1RRhn6ivZU9WacO7a0xp3E0OLndTgTXf9WFQZq7xSudTsvdWKZaboYScjF/Bn1BnipUph34s6NMEQDmBv2SFgle0JunBnqRiwzGyfuT0sR5RG3Ob1mnwIbZfu5DkbTmcqsA3P8OQDPHIisv4i0U+Zael9Z6z4jBi2NDjjkenAHBi6YjP8Dwk1gofNOInDyZFvndpWJ0SALppX68SEUdzi1uKS23DtRRBHsJ0LU3m0DThqdw25FqLdSPrX7prztw6Ug/JMoVaRk/Ble9sGSe8TzVFIApcmlSWDc4R/9XIROr87N/2IhyRuCO3bJR7Ly6Sg1MaVuJoUBeMbBC64=\" class=\"link_desc\" target=\"_blank\"\n",
            "                 onclick=\"return goOtherCR(this, &#39;a=biz_nop.desc&amp;r=4&amp;i=nad-a001-01-000000240373620&amp;d=&#39; + urlencode(&#39;http://trlink.kr&#39;) + &#39;&amp;u=&#39;+ urlencode(this.href));\">내 투자 전망이 궁금하시다면, 링크톡에서 투자 고수들을 만나보세요</a>\n",
            "              \n",
            "            </div>\n",
            "            \n",
            "          </div>\n",
            "        </li>\n",
            "      </ul>\n",
            "      \n",
            "    </div>\n",
            "    \n",
            "    \n",
            "  </div>\n",
            "\n",
            "  <div class=\"api_sc_page_wrap\"><div class=\"sc_page\"><a role=\"button\" class=\"btn_prev\" aria-disabled=\"true\"><i class=\"spnew ico_page_arr\">이전</i></a><div class=\"sc_page_inner\"><a href=\"?nso=&amp;qdt=-1&amp;query=%ED%99%98%EC%9C%A8&amp;qvt=-1&amp;sm=tab_pge&amp;where=nexearch\" onclick='goOtherCR(this,\"a=pag.pag&r=1&i=&u=\"+urlencode(this.href))' role=\"button\" class=\"btn\" aria-pressed=\"true\">1</a>\n",
            "<a href=\"?nso=&amp;page=2&amp;qdt=-1&amp;query=%ED%99%98%EC%9C%A8&amp;qvt=-1&amp;sm=tab_pge&amp;start=1&amp;where=web\" onclick='goOtherCR(this,\"a=pag.pag&r=2&i=&u=\"+urlencode(this.href))' role=\"button\" class=\"btn\" aria-pressed=\"false\">2</a>\n",
            "<a href=\"?nso=&amp;page=3&amp;qdt=-1&amp;query=%ED%99%98%EC%9C%A8&amp;qvt=-1&amp;sm=tab_pge&amp;start=16&amp;where=web\" onclick='goOtherCR(this,\"a=pag.pag&r=3&i=&u=\"+urlencode(this.href))' role=\"button\" class=\"btn\" aria-pressed=\"false\">3</a>\n",
            "<a href=\"?nso=&amp;page=4&amp;qdt=-1&amp;query=%ED%99%98%EC%9C%A8&amp;qvt=-1&amp;sm=tab_pge&amp;start=31&amp;where=web\" onclick='goOtherCR(this,\"a=pag.pag&r=4&i=&u=\"+urlencode(this.href))' role=\"button\" class=\"btn\" aria-pressed=\"false\">4</a>\n",
            "<a href=\"?nso=&amp;page=5&amp;qdt=-1&amp;query=%ED%99%98%EC%9C%A8&amp;qvt=-1&amp;sm=tab_pge&amp;start=46&amp;where=web\" onclick='goOtherCR(this,\"a=pag.pag&r=5&i=&u=\"+urlencode(this.href))' role=\"button\" class=\"btn\" aria-pressed=\"false\">5</a>\n",
            "<a href=\"?nso=&amp;page=6&amp;qdt=-1&amp;query=%ED%99%98%EC%9C%A8&amp;qvt=-1&amp;sm=tab_pge&amp;start=61&amp;where=web\" onclick='goOtherCR(this,\"a=pag.pag&r=6&i=&u=\"+urlencode(this.href))' role=\"button\" class=\"btn\" aria-pressed=\"false\">6</a>\n",
            "<a href=\"?nso=&amp;page=7&amp;qdt=-1&amp;query=%ED%99%98%EC%9C%A8&amp;qvt=-1&amp;sm=tab_pge&amp;start=76&amp;where=web\" onclick='goOtherCR(this,\"a=pag.pag&r=7&i=&u=\"+urlencode(this.href))' role=\"button\" class=\"btn\" aria-pressed=\"false\">7</a>\n",
            "<a href=\"?nso=&amp;page=8&amp;qdt=-1&amp;query=%ED%99%98%EC%9C%A8&amp;qvt=-1&amp;sm=tab_pge&amp;start=91&amp;where=web\" onclick='goOtherCR(this,\"a=pag.pag&r=8&i=&u=\"+urlencode(this.href))' role=\"button\" class=\"btn\" aria-pressed=\"false\">8</a>\n",
            "<a href=\"?nso=&amp;page=9&amp;qdt=-1&amp;query=%ED%99%98%EC%9C%A8&amp;qvt=-1&amp;sm=tab_pge&amp;start=106&amp;where=web\" onclick='goOtherCR(this,\"a=pag.pag&r=9&i=&u=\"+urlencode(this.href))' role=\"button\" class=\"btn\" aria-pressed=\"false\">9</a>\n",
            "<a href=\"?nso=&amp;page=10&amp;qdt=-1&amp;query=%ED%99%98%EC%9C%A8&amp;qvt=-1&amp;sm=tab_pge&amp;start=121&amp;where=web\" onclick='goOtherCR(this,\"a=pag.pag&r=10&i=&u=\"+urlencode(this.href))' role=\"button\" class=\"btn\" aria-pressed=\"false\">10</a></div><a href=\"?nso=&amp;page=11&amp;qdt=-1&amp;query=%ED%99%98%EC%9C%A8&amp;qvt=-1&amp;sm=tab_pge&amp;start=1&amp;where=web\" onclick='goOtherCR(this,\"a=pag.pag&r=11&i=&u=\"+urlencode(this.href))' role=\"button\" class=\"btn_next\" aria-disabled=\"false\"><i class=\"spnew ico_page_arr\">다음</i></a></div></div></div><div id=\"sub_pack\" class=\"sub_pack\"><section class=\"sc_new sp_nkeyword\" id=\"nx_right_related_keywords\"> <div class=\"api_subject_bx _related_box\"> <div class=\"api_title_area\"> <h2 class=\"api_title\">연관 검색어<a href=\"https://help.naver.com/alias/search/word/word_1.naver\" class=\"api_link_help\" onclick=\"return goOtherCR(this, 'a=rsk_top.guide&amp;r=&amp;i=&amp;u='+urlencode(urlexpand(this.href)));\" target=\"_blank\"><i class=\"spnew api_ico_help\">도움말</i></a></h2> <div class=\"api_title_sub\"> <a href=\"https://help.naver.com/support/alias/search/word/word_2.naver\" class=\"btn_report\" onclick=\"return goOtherCR(this, 'a=rsk_top.report&amp;r=&amp;i=&amp;u='+urlencode(urlexpand(this.href)));\" target=\"_blank\"><span class=\"txt\">신고</span></a><a href=\"#\" onclick=\"return tCR('a=rsk_top.1fold&amp;r=1&amp;i=');\" class=\"btn_close _close\"><i class=\"spnew api_ico_close4\">검색어제안 기능 닫기</i></a> </div> </div> <div class=\"related_srch\"> <ul class=\"lst_related_srch _list_box\"> <li class=\"item\"> <a class=\"keyword\" href=\"?where=nexearch&amp;query=%ED%99%98%EC%9C%A8+%EC%A0%84%EB%A7%9D&amp;ie=utf8&amp;sm=tab_she&amp;qdt=0\" onclick=\"return goOtherCR(this, 'a=rsk_top*q.list1&amp;r=1&amp;u=' + urlencode(this.href))\"> <div class=\"tit\">환율 전망</div> </a> </li> <li class=\"item\"> <a class=\"keyword\" href=\"?where=nexearch&amp;query=%ED%99%98%EC%9C%A8+%EC%97%94%ED%99%94&amp;ie=utf8&amp;sm=tab_she&amp;qdt=0\" onclick=\"return goOtherCR(this, 'a=rsk_top*q.list1&amp;r=2&amp;u=' + urlencode(this.href))\"> <div class=\"tit\">환율 엔화</div> </a> </li> <li class=\"item\"> <a class=\"keyword\" href=\"?where=nexearch&amp;query=%EC%97%94%ED%99%94%ED%99%98%EC%9C%A8&amp;ie=utf8&amp;sm=tab_she&amp;qdt=0\" onclick=\"return goOtherCR(this, 'a=rsk_top*q.list1&amp;r=3&amp;u=' + urlencode(this.href))\"> <div class=\"tit\">엔화환율</div> </a> </li> <li class=\"item\"> <a class=\"keyword\" href=\"?where=nexearch&amp;query=%EB%B2%A0%ED%8A%B8%EB%82%A8%ED%99%98%EC%9C%A8&amp;ie=utf8&amp;sm=tab_she&amp;qdt=0\" onclick=\"return goOtherCR(this, 'a=rsk_top*q.list1&amp;r=4&amp;u=' + urlencode(this.href))\"> <div class=\"tit\">베트남환율</div> </a> </li> <li class=\"item\"> <a class=\"keyword\" href=\"?where=nexearch&amp;query=%EB%8B%AC%EB%9F%AC+%ED%99%98%EC%9C%A8&amp;ie=utf8&amp;sm=tab_she&amp;qdt=0\" onclick=\"return goOtherCR(this, 'a=rsk_top*a.list1&amp;r=5&amp;u=' + urlencode(this.href))\"> <div class=\"tit\">달러 환율</div> </a> </li> <li class=\"item\"> <a class=\"keyword\" href=\"?where=nexearch&amp;query=%EC%9D%BC%EB%B3%B8+%ED%99%98%EC%9C%A8&amp;ie=utf8&amp;sm=tab_she&amp;qdt=0\" onclick=\"return goOtherCR(this, 'a=rsk_top*a.list1&amp;r=6&amp;u=' + urlencode(this.href))\"> <div class=\"tit\">일본 환율</div> </a> </li> <li class=\"item\"> <a class=\"keyword\" href=\"?where=nexearch&amp;query=%EC%97%94+%ED%99%98%EC%9C%A8&amp;ie=utf8&amp;sm=tab_she&amp;qdt=0\" onclick=\"return goOtherCR(this, 'a=rsk_top*a.list1&amp;r=7&amp;u=' + urlencode(this.href))\"> <div class=\"tit\">엔 환율</div> </a> </li> <li class=\"item\"> <a class=\"keyword\" href=\"?where=nexearch&amp;query=%ED%98%B8%EC%A3%BC+%ED%99%98%EC%9C%A8&amp;ie=utf8&amp;sm=tab_she&amp;qdt=0\" onclick=\"return goOtherCR(this, 'a=rsk_top*a.list1&amp;r=8&amp;u=' + urlencode(this.href))\"> <div class=\"tit\">호주 환율</div> </a> </li> <li class=\"item\"> <a class=\"keyword\" href=\"?where=nexearch&amp;query=%ED%83%9C%EA%B5%AD+%ED%99%98%EC%9C%A8&amp;ie=utf8&amp;sm=tab_she&amp;qdt=0\" onclick=\"return goOtherCR(this, 'a=rsk_top*a.list1&amp;r=9&amp;u=' + urlencode(this.href))\"> <div class=\"tit\">태국 환율</div> </a> </li> <li class=\"item\"> <a class=\"keyword\" href=\"?where=nexearch&amp;query=%EC%A4%91%EA%B5%AD+%ED%99%98%EC%9C%A8&amp;ie=utf8&amp;sm=tab_she&amp;qdt=0\" onclick=\"return goOtherCR(this, 'a=rsk_top*a.list1&amp;r=10&amp;u=' + urlencode(this.href))\"> <div class=\"tit\">중국 환율</div> </a> </li> </ul> <div class=\"btn_area\"> <a href=\"#\" role=\"button\" class=\"btn_more _more\" style=\"display:none\" onclick=\"return tCR('a=rsk_top.open');\"><i class=\"spnew api_ico_open\">더보기</i></a> </div> <div class=\"closed\">1주일간 닫힘 상태가 유지됩니다. 다시 보시겠습니까?<a href=\"#\" onclick=\"return tCR('a=rsk_top.1unfold&amp;r=1&amp;i=');\" class=\"btn_open _open\">열기</a></div> </div> </div> </section> <script> (function() { var startApplication = function() { var jsFile = \"https://ssl.pstatic.net/sstatic/au/pc/related_keyword/Controller_210623.js\"; var require = window.require.config({ \"context\": \"_au_related_keyword\", \"paths\": { /* Controller.js의 경로 지정. */ \"Controller\": jsFile.replace(/\\.js$/, \"\"), } }); /* module define은 require의 context별로 호출해야함. */ define(\"jquery\", [], function() { return jQuery; }); require([\"Controller\"], function(Controller) { var ck = \"qre\"; new Controller(jQuery(\"#nx_right_related_keywords\"), { /* 초기 닫힘 상태 설정 */ isClosed: !!nx_get_cookie(ck) }) /* 열기 이벤트 */ .on(\"open\", function(e){ /* 쿠키 제거 */ nx_set_cookie(ck, \"\", -1, nx_au_cookie_domain); }) /* 닫기 이벤트 */ .on(\"close\", function(e){ var date = new Date(); date.setDate(date.getDate() + 7); /* 쿠키 저장 */ nx_set_cookie(ck, 1, date, nx_au_cookie_domain); }) }); }; var requirejs = naver.common.gv.REQUIRE_JS; naver.common.load_js(window.require ? null : requirejs, startApplication, true, 50); })(); </script> <section class=\"sc_new\"> <div class=\"api_subject_bx\"> <div class=\"api_common_banner\"> <a href=\"?mra=UlJUX1RJTQ%3D%3D&query=%EA%B5%AD%EB%82%B4%EC%97%AC%ED%96%89%EC%A7%80%EC%B6%94%EC%B2%9C&sm=tab_etc&where=nexearch\" class=\"spnew_bf item\" onclick=\"return goOtherCR(this, 'a=bnr.link1&r=1&i=&u='+urlencode(this.href));\"> <div class=\"ico_area\"><img src=\"https://ssl.pstatic.net/sstatic/search/mobile/img/ico_common_ban3_260ba428.png\" width=\"29\" height=\"29\" alt=\"\" class=\"ico\"></div> <div class=\"dsc_area\"> <strong class=\"elss tit\">우리나라에 이렇게 멋진 곳이?</strong> <p class=\"elss dsc\">몰랐던 대한민국 여행지의 재발견</p> </div> </a> <a href=\"?mra=UlJUX1RJTQ%3D%3D&query=%ED%95%B4%EC%99%B8%EC%97%AC%ED%96%89%EC%A7%80%EC%B6%94%EC%B2%9C&sm=tab_etc&where=nexearch\" class=\"spnew_bf item\" onclick=\"return goOtherCR(this, 'a=bnr.link2&r=2&i=&u='+urlencode(this.href));\"> <div class=\"ico_area\"><img src=\"https://ssl.pstatic.net/sstatic/search/mobile/img/ico_common_ban4_b8f1dad2.png\" width=\"29\" height=\"29\" alt=\"\" class=\"ico\"></div> <div class=\"dsc_area\"> <strong class=\"elss tit\">여름 휴가 계획은 지금부터!</strong> <p class=\"elss dsc\">인기 있는 해외 여행지 알아보기</p> </div> </a> <a href=\"https://campaign.naver.com/collect_v2/?pcode=naver_pcserp_general_E&event_id=naverlogistics&target=https%3A%2F%2Fshopping.naver.com%2Flogistics%2Fhome%3Fdtm_source%3Dnaver_pcserp%26dtm_medium%3Dsearch%26dtm_campaign%3Dnaverlogistics\" class=\"spnew_bf item\" target=\"_blank\" onclick=\"return goOtherCR(this, 'a=bnr.link3&r=3&i=&u='+urlencode(this.href));\"> <div class=\"ico_area\"><img src=\"https://ssl.pstatic.net/sstatic/search/mobile/img/ico_common_ban5_30aec83e.png\" width=\"29\" height=\"29\" alt=\"\" class=\"ico\"></div> <div class=\"dsc_area\"> <strong class=\"elss tit\">정확한 배송일이 궁금하다면?</strong> <p class=\"elss dsc\">네이버도착보장 태그를 확인해 보세요</p> </div> </a> <a href=\"https://channeltech.naver.com/?pcode=naver_pcserp_channeltech\" class=\"spnew_bf item\" target=\"_blank\" onclick=\"return goOtherCR(this, 'a=bnr.link4&r=4&i=&u='+urlencode(this.href));\"> <div class=\"ico_area\"><img src=\"https://ssl.pstatic.net/sstatic/search/mobile/img/ico_common_ban6_3c7d7b0a.png\" width=\"29\" height=\"29\" alt=\"\" class=\"ico\"></div> <div class=\"dsc_area\"> <strong class=\"elss tit\">지금 가장 핫한 네이버 기술 이야기</strong> <p class=\"elss dsc\">지금 &#39;네이버 채널 테크&#39;에서 만나보세요!</p> </div> </a> </div> </div> </section> <script> var nx_cr_right_area_info = [{\"n\": \"rsk_top\", \"r\": 1},{\"n\": \"bnr\", \"r\": 2}]; </script></div><div class=\"ly_dimmed\"></div> </div> </div><div id=\"footer\"> <div class=\"sub_pack_btm\"> <a href=\"#\" class=\"top\" onclick=\"window.scrollTo(0,0); document.querySelector('#wrap a').focus(); return false;\"><i class=\"spnew ico_top\">맨위로</i></a> </div> <div class=\"footer_group\"> <div class=\"footer_menu\"> <span class=\"inner\"><a href=\"https://www.naver.com/more.html\" target=\"_blank\" onclick=\"return goOtherCR(this, 'u='+urlencode(this.href)+'&amp;a=fot.sitemap&amp;r=&amp;i=');\" class=\"link\">전체서비스</a></span> <span class=\"inner\"><a href=\"https://policy.naver.com/policy/service.html\" target=\"_blank\" onclick=\"return goOtherCR(this, 'u='+urlencode(this.href)+'&amp;a=fot.policy&amp;r=&amp;i=');\" class=\"link\">이용약관</a></span> <span class=\"inner\"><a href=\"https://policy.naver.com/policy/privacy.html\" target=\"_blank\" onclick=\"return goOtherCR(this, 'u='+urlencode(this.href)+'&amp;a=fot.privacy&amp;r=&amp;i=');\" class=\"link\"><strong>개인정보처리방침</strong></a></span> <span class=\"inner\"><a class=\"link\" href=\"https://help.naver.com/support/alias/search/integration/integration_1.naver\" target=\"_blank\" onclick=\"return goOtherCR(this, 'u='+urlencode(this.href)+'&amp;a=fot.help&amp;r=&amp;i=');\">통합검색 고객센터</a></span> <span class=\"inner\"><a href=\"https://www.navercorp.com/\" target=\"_blank\" onclick=\"return goOtherCR(this, 'u='+urlencode(this.href)+'&amp;a=fot.nhn&amp;r=&amp;i=');\" class=\"link\"><i class=\"ico_footer_logo\">© NAVER Corp.</i></a></span> </div> </div>  </div><script> window.__atcmpCR = function(we, el, name, order, areaCode, rank) { var htAreaCode = __ghtAutoCompleteConfig[\"htAreaCode\"]; if (typeof htAreaCode[name] !== \"undefined\") { var areaCode = htAreaCode[name][0]; var rank = htAreaCode[name][1]; if (areaCode !== \"\") { tCR(\"a=\"+areaCode+\"&u=\"+urlencode(el.href)); } } return false; }; window.__atcmpSubmitBefore = function(elForm) { try { top.nx_form_submit(elForm); } catch (e) { try { nx_form_submit(elForm); } catch (e) {} } }; window.__ghtAutoCompleteConfig = { \"bLogin\" : false, \"sFromWhere\" : \"nx\", \"htApiUrl\" : { \"sMyKeyword\" : \"https://s.search.naver.com/n/mykeyword/search\", \"sAcKeyword\" : \"//ac.search.naver.com/nx/ac\", \"sAcAnsType\" : \"2\" }, \"ahtOption\": [ { \"sOrder\": \"asc\", \"sFormId\": \"nx_search_form\", \"sInputId\": \"nx_query\", \"sViewId\": \"nx_autoframe_top\", \"sViewToggleButtonId\": \"nautocomplete\" } ], \"htAreaCode\": { \"expand\": [\"sch.expand\", \"0\"], \"close\": [\"sch.close\", \"0\"], \"ansdirect\": [\"sug.ansdirect\", \"\"], \"sugoff\": [\"sug.sugoff\", \"\"], \"sugon\": [\"sug.sugon\", \"\"], \"plus.use\": [\"sug.cxon\", \"\"], \"plus.unuse\": [\"sug.cxoff\", \"\"], \"saveoff\": [\"sug.saveoff\", \"\"], \"saveon\": [\"sug.saveon\", \"\"], \"rx\": [\"sly.rx\", \"\"], \"ralldel\": [\"sly.ralldel\", \"\"], \"kwd.expand\": [\"sug.plus\", \"\"] }, \"htSmParam\" : { \"hty\" : \"tab_hty.top\", \"htyb\" : \"tab_hty.btm\", \"hst\" : \"tab_sly.hst\", \"prefix\" : \"tab_sug\", \"top\" : \"tab_sug.top\", \"btm\" : \"tab_sug.btm\", \"pat\" : \"tab_sug.pat\", \"mbk\" : \"tab_sug.mbk\", \"nlq\" : \"tab_sug.nlq\", \"asgl\" : \"tab_sug.asgl\", \"asga\" : \"tab_sug.asga\", \"aslt\" : \"tab_sug.aslt\", \"aspl\" : \"tab_sug.aspl\", \"astm\" : \"tab_sug.astm\", \"ast\" : \"tab_sug.ast\", \"ase\" : \"tab_sug.ase\", \"aswt\" : \"tab_sug.aswt\", \"asiw\" : \"tab_sug.asiw\", \"asis\" : \"tab_sug.asis\", \"extension\" : \"tab_sug.search\", \"asct\" : \"tab_sug.asct\" } }; new naver.common.atcmp.naver_web.Controller(__ghtAutoCompleteConfig).attach({ \"onOpen\": function(){ jQuery(\"#header_wrap .search_area\").addClass(\"type_write\"); }, \"onClose\": function(){ jQuery(\"#header_wrap .search_area\").removeClass(\"type_write\"); }, \"onSelect\": function(oCustomEvent) { __atcmpSubmitBefore(oCustomEvent.elForm); }, \"onClickLog\": function(oCustomEvent) { __atcmpCR(oCustomEvent.event, oCustomEvent.element, oCustomEvent.name, oCustomEvent.order, \"\", \"\"); } }); </script><script> (function () { var startApplication = function () { var url = \"https://s.search.naver.com/n/responsive/v1?u=\" + encodeURIComponent(location.href) + \"&q=\" + window.headerfooter_query_encoded + \"&p=\" + encodeURIComponent(window.g_puid) + \"&sscode=\" + encodeURIComponent(window.g_ssc); naver.common.responsiveLog = new window.naver.common.ResponsiveLog(); naver.common.responsiveLog.init(url); }; startApplication(); })(); </script><script> function splugin_oninitialize(sTargetId) { var elTarget = document.getElementById(sTargetId); var sUrl = $$.getSingle(\"a._sp_each_url\", elTarget).href; var sTitle = $Element($$.getSingle(\"._sp_each_title\", elTarget)).text(); var sSource = $Element($$.getSingle(\"._sp_each_source\", elTarget)); if (sSource) sSource = sSource.text(); return { \"url\": sUrl, \"title\": sTitle, \"option\": { \"baseElement\": sTargetId + \"_base\", \"layerPosition\": \"outside-bottom\", \"align\": \"right\", \"top\": 18, \"left\": -28, \"marginLeft\": 8, \"marginTop\": 10 }, \"me\": { \"display\": \"off\" }, \"mail\": { \"display\": \"off\" }, \"sourceName\": sSource }; } (function () { var jsUrl = \"https://ssl.pstatic.net/spi/js/release/ko_KR/splugin.js\"; var startApplication = function () { var require = window.require.config({ \"context\": \"search_common_modules\", \"paths\": { \"splugin\": jsUrl.replace(/\\.js$/, \"\") }, \"shim\": { \"splugin\": { \"exports\": \"SocialPlugIn_Core\" } }, \"urlArgs\": function(id, url) { if (id !== \"splugin\" && id !== \"like-it\") return \"\"; var args = \"v=\" + Math.floor(new Date().getTime() / 1200000); return (url.indexOf(\"?\") === -1 ? \"?\" : \"&\") + args; } }); require([\"splugin\"], function (SocialPlugIn_Core) { g_nx_splugin = SocialPlugIn_Core({ \"evKey\": \"search\", \"serviceName\" : \"통합검색\" }); }); }; naver.common.load_js(null, startApplication, true, 50); })(); </script><script> (function () { var jsUrl = \"https://static-like.pstatic.net/static/js/likeIt.list.js\"; var startApplication = function () { var require = window.require.config({ \"context\": \"search_common_modules\", \"paths\": { \"like-it\": jsUrl.replace(/\\.js$/, \"\") }, \"shim\": { \"like-it\": { \"exports\": \"nhn.LikeIt\" } }, \"urlArgs\": function(id, url) { if (id !== \"splugin\" && id !== \"like-it\") return \"\"; var args = \"v=\" + Math.floor(new Date().getTime() / 1200000); return (url.indexOf(\"?\") === -1 ? \"?\" : \"&\") + args; } }); require([\"like-it\"], function (likeIt) { likeIt.list.util.init({ \"sId\": \"SEARCH\", \"sDomain\": \"https://search.like.naver.com\", \"bMobile\": false }); }); }; naver.common.load_js(null, startApplication, true, 50); })(); </script><script> (function() { var needFix = navigator.userAgent.toLowerCase().indexOf('webkit') > -1; d = document; if (!needFix || !d.querySelectorAll) return; var toArray = function(list){ var armap=[]; i=0; for(;i<list.length;++i){ armap.push(list[i]); } return Array.prototype.slice.call(armap, 0); } ; window.addEventListener('load', function() { toArray(d.querySelectorAll('#u_skip a')).forEach(function(el) { el.addEventListener('click', function() { var target = d.getElementById(this.href.split('#')[1]); oldTabIndex = target.getAttribute('tabindex'); oldOutlineWidth = d.defaultView.getComputedStyle(target, null).getPropertyValue('outline-width'); target.setAttribute('tabindex', 0); target.style.outlineWidth = 0; target.focus(); if (oldTabIndex === null) target.removeAttribute('tabindex'); else target.setAttribute('tabindex', oldTabIndex); }, false); }); }, false); })(); </script><script> if(typeof nx_usain_beacon !== 'undefined') { nx_usain_beacon.add_tag(\"conn_._TLSv1.3_.:alpn.:wtm\") ; $Fn(function () { nx_usain_beacon.send(); }).attach(window, \"load\") ; } </script></div> </body></html>\n",
            "위치:74032\n",
            "searchtext 길이:22\n",
            "-환율기준시간: 2023.08.08 12:39\n",
            "-달러: rset=\"ut\n",
            "-위안: rset=\"ut\n",
            "-유로: et=\"utf-\n"
          ]
        }
      ]
    },
    {
      "cell_type": "code",
      "source": [
        "import urllib.request\n",
        "import ssl\n",
        "\n",
        "ctx = ssl._create_unverified_context()\n",
        "\n",
        "#환율정보 페이지 불러오기\n",
        "print(\"[환율정보 불러오기]\")\n",
        "URL = \"https://search.naver.com/search.naver?where=nexearch&sm=top_hty&fbm=1&ie=utf8&query=%ED%99%98%EC%9C%A8\"\n",
        "page = urllib.request.urlopen(URL, context=ctx)\n",
        "text = page.read().decode(\"utf8\")  # 해당 페이지의 소스코드\n",
        "# print(text)\n",
        "\n",
        "#환율정보 가져오기: 기준시간\n",
        "searchText = 'class=\"grp_info\"> <em>'\n",
        "where      = text.find(searchText)  #소스코드에서 해당 문자열의 시작위치\n",
        "targetInfo = text[where+len(searchText):where+len(searchText)+16]\n",
        "print(f'-환율기준시간: {targetInfo}')\n",
        "\n",
        "#환율정보 가져오기: 달러\n",
        "searchText = '<span>미국 <em>USD</em></span></a></th> <td><span>'\n",
        "where      = text.find(searchText)\n",
        "targetInfo = text[where+len(searchText):where+len(searchText)+8]\n",
        "print(f'-달러: {targetInfo}')\n",
        "\n",
        "searchText = '<span>중국 <em>CNY</em></span></a></th> <td><span>'\n",
        "where      = text.find(searchText)\n",
        "targetInfo = text[where+len(searchText):where+len(searchText)+6]\n",
        "print(f'-위안: {targetInfo}')\n",
        "\n",
        "searchText = '<span>유럽연합 <em>EUR</em></span></a></th> <td><span>'\n",
        "where      = text.find(searchText)\n",
        "targetInfo = text[where+len(searchText):where+len(searchText)+8]\n",
        "print(f'-유럽연합: {targetInfo}')"
      ],
      "metadata": {
        "id": "htywUS3xQUIc",
        "colab": {
          "base_uri": "https://localhost:8080/"
        },
        "outputId": "e4ba3200-1e9f-484f-9799-943ef6930dde"
      },
      "execution_count": null,
      "outputs": [
        {
          "output_type": "stream",
          "name": "stdout",
          "text": [
            "[환율정보 불러오기]\n",
            "-환율기준시간: 2023.08.08 12:49\n",
            "-달러: 1,313.70\n",
            "-위안: 181.91\n",
            "-유럽연합: 1,442.84\n"
          ]
        }
      ]
    },
    {
      "cell_type": "code",
      "source": [
        "number1=2\n",
        "number2=3\n",
        "number3=5\n",
        "print(f'{number1}+{number2}={number3}')\n",
        "print('%d와 %d을 더하면 %d' %(number1, number2, number3))\n",
        "print(number1)"
      ],
      "metadata": {
        "colab": {
          "base_uri": "https://localhost:8080/"
        },
        "id": "H0UhR7oFhVgR",
        "outputId": "653be21f-7995-4ffa-ca0a-2122e057911d"
      },
      "execution_count": null,
      "outputs": [
        {
          "output_type": "stream",
          "name": "stdout",
          "text": [
            "2+3=5\n",
            "2와 3을 더하면 5\n",
            "2\n"
          ]
        }
      ]
    },
    {
      "cell_type": "code",
      "source": [
        "a=300\n",
        "(a>100)and(a<200)\n",
        "not(a<100)"
      ],
      "metadata": {
        "colab": {
          "base_uri": "https://localhost:8080/"
        },
        "id": "KCroeexukNzQ",
        "outputId": "27cc6fe7-6de4-462e-e38b-15ab652d7126"
      },
      "execution_count": null,
      "outputs": [
        {
          "output_type": "execute_result",
          "data": {
            "text/plain": [
              "True"
            ]
          },
          "metadata": {},
          "execution_count": 183
        }
      ]
    },
    {
      "cell_type": "code",
      "source": [
        "num1=3\n",
        "num2=10\n",
        "llist=[1,2,3,4,5]\n",
        "print(num1 in llist)"
      ],
      "metadata": {
        "colab": {
          "base_uri": "https://localhost:8080/"
        },
        "id": "bhu8C-bqkwOU",
        "outputId": "dcbde90e-1f2f-4d65-92dd-0ae8f2975802"
      },
      "execution_count": null,
      "outputs": [
        {
          "output_type": "stream",
          "name": "stdout",
          "text": [
            "True\n"
          ]
        }
      ]
    },
    {
      "cell_type": "code",
      "source": [
        "a=int(input('동전으로 교환할 금액을 입력하세요:'))\n",
        "\n",
        "print(f' 500원짜리: {a//500}개')\n",
        "a = a % 500\n",
        "print(f' 100원짜리: {a//100}개')\n",
        "a = a % 100\n",
        "print(f' 50원짜리: {a//50}개')\n",
        "a = a % 50\n",
        "print(f' 10원짜리: {a//10}개')\n",
        "a = a % 10\n",
        "print(f' 잔돈: {a}원')"
      ],
      "metadata": {
        "colab": {
          "base_uri": "https://localhost:8080/"
        },
        "id": "0DYJcxNdlmW6",
        "outputId": "c63eb09b-60a0-4ed4-da69-186d848e937e"
      },
      "execution_count": null,
      "outputs": [
        {
          "output_type": "stream",
          "name": "stdout",
          "text": [
            "동전으로 교환할 금액을 입력하세요:4320\n",
            " 500원짜리: 8개\n",
            " 100원짜리: 3개\n",
            " 50원짜리: 0개\n",
            " 10원짜리: 2개\n",
            " 잔돈: 0원\n"
          ]
        }
      ]
    },
    {
      "cell_type": "code",
      "source": [
        "a=int(input('교환할 돈은 얼마?: '))\n",
        "print(f'지폐: 5만원 {a//50000}장', end= ',')\n",
        "a=a%50000\n",
        "print(f'만원 {a//10000}장', end= ',')\n",
        "a=a%10000\n",
        "print(f'5천원 {a//5000}장', end=\",\")\n",
        "a=a%5000\n",
        "print(f'천원 {a//1000}장')\n",
        "a=a%1000\n",
        "print(f'동전: 500원 {a//500}개', end=',')\n",
        "a=a%500\n",
        "print(f'100원 {a//100}개', end=',')\n",
        "a=a%100\n",
        "print(f'50원 {a//50}개', end=',')\n",
        "a=a%50\n",
        "print(f'10원 {a//10}개')\n",
        "a=a%10\n",
        "print(f'잔돈: {a}원')\n",
        "\n",
        "\n"
      ],
      "metadata": {
        "colab": {
          "base_uri": "https://localhost:8080/"
        },
        "id": "eEQykkF6o9Mi",
        "outputId": "fb0ea9a2-67be-4540-be32-92c0798b064c"
      },
      "execution_count": null,
      "outputs": [
        {
          "output_type": "stream",
          "name": "stdout",
          "text": [
            "교환할 돈은 얼마?: 123455\n",
            "지폐: 5만원 2장,만원 2장,5천원 0장,천원 3장\n",
            "동전: 500원 0개,100원 4개,50원 1개,10원 0개\n",
            "잔돈: 5원\n"
          ]
        }
      ]
    },
    {
      "cell_type": "code",
      "source": [
        "a=200\n",
        "if a<100:\n",
        "  print(\"100보다 작다\")\n",
        "\n",
        "else:\n",
        "  print(\"100 이상이다\")"
      ],
      "metadata": {
        "colab": {
          "base_uri": "https://localhost:8080/"
        },
        "id": "cY88__6yrrZd",
        "outputId": "fb87f7f6-7dfe-4ac6-d05e-8fb870154a39"
      },
      "execution_count": null,
      "outputs": [
        {
          "output_type": "stream",
          "name": "stdout",
          "text": [
            "100 이상이다\n"
          ]
        }
      ]
    },
    {
      "cell_type": "markdown",
      "source": [
        "# if 조건문"
      ],
      "metadata": {
        "id": "xV-_OQNqtH6X"
      }
    },
    {
      "cell_type": "code",
      "source": [
        "a=10500\n",
        "if a<1000:\n",
        "  print(f'{a}는 1000보다 작아요')\n",
        "else:\n",
        "  print(f'{a}는 1000 이상이군요')"
      ],
      "metadata": {
        "colab": {
          "base_uri": "https://localhost:8080/"
        },
        "id": "xfX5v0XltgLE",
        "outputId": "63d52099-5fa6-4202-dd78-baaf9f71f979"
      },
      "execution_count": null,
      "outputs": [
        {
          "output_type": "stream",
          "name": "stdout",
          "text": [
            "10500는 1000 이상이군요\n"
          ]
        }
      ]
    },
    {
      "cell_type": "markdown",
      "source": [
        "# 중첩 if문, elif 문"
      ],
      "metadata": {
        "id": "6tcQKagot3E5"
      }
    },
    {
      "cell_type": "code",
      "source": [],
      "metadata": {
        "id": "vDRZJboLuL-K"
      },
      "execution_count": null,
      "outputs": []
    },
    {
      "cell_type": "code",
      "source": [
        "온도=float(input('온도를 입력하세요:'))\n",
        "if 온도>30:\n",
        "  if 온도>35:\n",
        "    print('살인적인 더위')\n",
        "  else:\n",
        "      print(f'현재온도는 {온도}로 버틸만한 더위입니다')\n",
        "else:\n",
        "  if 온도<20:\n",
        "    print('춥다')\n",
        "  else:\n",
        "    print('낫배드')"
      ],
      "metadata": {
        "colab": {
          "base_uri": "https://localhost:8080/"
        },
        "id": "J2u0ShDot4sL",
        "outputId": "c04ebe94-6a09-40cc-c86a-10f891ba1042"
      },
      "execution_count": null,
      "outputs": [
        {
          "output_type": "stream",
          "name": "stdout",
          "text": [
            "온도를 입력하세요:33\n",
            "현재온도는 33.0로 버틸만한 더위입니다\n"
          ]
        }
      ]
    },
    {
      "cell_type": "code",
      "source": [
        "온도=float(input('온도를 입력하세요:'))\n",
        "if 온도>35:\n",
        "  print('쪄죽음')\n",
        "elif 온도>30:\n",
        "  print('버틸만함')\n",
        "elif 온도>10:\n",
        "  print('소소')\n",
        "else:\n",
        "  print('추움')\n"
      ],
      "metadata": {
        "colab": {
          "base_uri": "https://localhost:8080/"
        },
        "id": "XlL-StQjvoS7",
        "outputId": "926779af-c017-41de-e457-ee885d13b84a"
      },
      "execution_count": null,
      "outputs": [
        {
          "output_type": "stream",
          "name": "stdout",
          "text": [
            "온도를 입력하세요:20\n",
            "소소\n"
          ]
        }
      ]
    },
    {
      "cell_type": "code",
      "source": [
        "x=int(input('숫자를 입력해주세요:'))\n",
        "if x%2==0:\n",
        "  print(\"짝수입니다.\")\n",
        "else:\n",
        "  print(\"홀수입니다.\")"
      ],
      "metadata": {
        "colab": {
          "base_uri": "https://localhost:8080/"
        },
        "id": "iO_bE-VJ2BsI",
        "outputId": "3ee11381-3820-4de0-a22f-22754beac47f"
      },
      "execution_count": null,
      "outputs": [
        {
          "output_type": "stream",
          "name": "stdout",
          "text": [
            "숫자를 입력해주세요:51\n",
            "홀수입니다.\n"
          ]
        }
      ]
    },
    {
      "cell_type": "code",
      "source": [
        "\n",
        "score=int(input('성적을 입력해주세요: '))\n",
        "if score>=90:\n",
        "  grade='A'\n",
        "elif score>=80:\n",
        "  grade='B'\n",
        "elif score>=70:\n",
        "  grade='C'\n",
        "else:\n",
        "  grade='D'\n",
        "print(f' {score}는 {grade}등급입니다.')"
      ],
      "metadata": {
        "colab": {
          "base_uri": "https://localhost:8080/"
        },
        "id": "10CcNdLX3IiC",
        "outputId": "edb82f28-e8b0-4a75-be91-e59fa8c4b666"
      },
      "execution_count": null,
      "outputs": [
        {
          "output_type": "stream",
          "name": "stdout",
          "text": [
            "성적을 입력해주세요: 90\n",
            " 90는 A등급입니다.\n"
          ]
        }
      ]
    },
    {
      "cell_type": "code",
      "source": [
        "grade=int(input('학점을 입력해주세요: '))\n",
        "if grade>=A:\n",
        "  print(\"잘하셨습니다\")\n",
        "elif grade>=B:\n",
        "  print(\"그럭저럭 \")\n",
        "else:\n",
        "  print(\"재수강?\")"
      ],
      "metadata": {
        "id": "21aDgiXc64KY"
      },
      "execution_count": null,
      "outputs": []
    },
    {
      "cell_type": "code",
      "source": [
        "number=input('주민번호를 입력해주세요(ex:870701-2409184):')\n",
        "\n",
        "if int(number[7])%2==1:\n",
        "  print(f'19{number[0:2]}년 {number[2:4]}월 {number[4:6]}일')\n",
        "else:\n",
        "  print(f'20{number[0:2]}년 {number[2:4]}월 {number[4:6]}일')"
      ],
      "metadata": {
        "colab": {
          "base_uri": "https://localhost:8080/"
        },
        "id": "4zcBF1ga3mqy",
        "outputId": "c864a3cf-4217-465f-c216-2fe05f1d1692"
      },
      "execution_count": null,
      "outputs": [
        {
          "output_type": "stream",
          "name": "stdout",
          "text": [
            "주민번호를 입력해주세요(ex:870701-2409184):870701-2409184\n",
            "1987년 07월 01일\n"
          ]
        }
      ]
    },
    {
      "cell_type": "code",
      "source": [
        "userid=input('주민번호:')\n",
        "yy = userid[:2] #년\n",
        "mm = userid[2:4] #월\n",
        "dd = userid[4:6] #일\n",
        "\n",
        "# 한줄로 하면 yy, mm ,dd = userid[:2], userid[2:4], userid[4:6]\n",
        "\n",
        "\n",
        "# gender\n",
        "if userid[7]==1:\n",
        "  gender='남성'\n",
        "  yy=1900+int(yy)\n",
        "if userid[7]==2:\n",
        "  gender='여성'\n",
        "  yy=1900+int(yy)\n",
        "if userid[7]==3:\n",
        "  gender='남성'\n",
        "  yy=2000+int(yy)\n",
        "if userid[7]==4:\n",
        "  gender='여성'\n",
        "  yy=2000+int(yy)\n",
        "\n",
        "import datetime\n",
        "now=datetime.datetime.now()\n",
        "age=now.year - int(yy) # 나이 계산\n",
        "\n",
        "# age\n",
        "\n",
        "print(f'{yy}년 {mm}월 {dd}일 {age}세 {gender}')"
      ],
      "metadata": {
        "colab": {
          "base_uri": "https://localhost:8080/",
          "height": 238
        },
        "id": "qyM0AHR6A6cO",
        "outputId": "25f6dc04-9dae-49af-cb44-17ab5bc2c240"
      },
      "execution_count": null,
      "outputs": [
        {
          "name": "stdout",
          "output_type": "stream",
          "text": [
            "주민번호:911127-1074221\n"
          ]
        },
        {
          "output_type": "error",
          "ename": "NameError",
          "evalue": "ignored",
          "traceback": [
            "\u001b[0;31m---------------------------------------------------------------------------\u001b[0m",
            "\u001b[0;31mNameError\u001b[0m                                 Traceback (most recent call last)",
            "\u001b[0;32m<ipython-input-264-e86bbc3d44a4>\u001b[0m in \u001b[0;36m<cell line: 29>\u001b[0;34m()\u001b[0m\n\u001b[1;32m     27\u001b[0m \u001b[0;31m# age\u001b[0m\u001b[0;34m\u001b[0m\u001b[0;34m\u001b[0m\u001b[0m\n\u001b[1;32m     28\u001b[0m \u001b[0;34m\u001b[0m\u001b[0m\n\u001b[0;32m---> 29\u001b[0;31m \u001b[0mprint\u001b[0m\u001b[0;34m(\u001b[0m\u001b[0;34mf'{yy}년 {mm}월 {dd}일 {age}세 {gender}'\u001b[0m\u001b[0;34m)\u001b[0m\u001b[0;34m\u001b[0m\u001b[0;34m\u001b[0m\u001b[0m\n\u001b[0m",
            "\u001b[0;31mNameError\u001b[0m: name 'gender' is not defined"
          ]
        }
      ]
    },
    {
      "cell_type": "code",
      "source": [
        "print('[커피 자동주문 머신 메뉴]')\n",
        "print('-'*30)\n",
        "print('-아메리카노는 2500원')\n",
        "print('-카페라떼는 3000원')\n",
        "print('-카푸치노는 3000원')\n",
        "print('입니다. 원하시는 커피종류와 잔수를 입력하세요.')\n",
        "ame=input('아메리카노 몇잔?')\n",
        "cafe=input('카페라떼 몇잔?')"
      ],
      "metadata": {
        "colab": {
          "base_uri": "https://localhost:8080/",
          "height": 481
        },
        "id": "iaIozbeyFBEd",
        "outputId": "f4c3e97c-d5aa-403b-de30-47ffe4822153"
      },
      "execution_count": null,
      "outputs": [
        {
          "output_type": "stream",
          "name": "stdout",
          "text": [
            "[커피 자동주문 머신 메뉴]\n",
            "------------------------------\n",
            "-아메리카노는 2500원\n",
            "-카페라떼는 3000원\n",
            "카푸치노는 3000원\n"
          ]
        },
        {
          "output_type": "error",
          "ename": "KeyboardInterrupt",
          "evalue": "ignored",
          "traceback": [
            "\u001b[0;31m---------------------------------------------------------------------------\u001b[0m",
            "\u001b[0;31mKeyboardInterrupt\u001b[0m                         Traceback (most recent call last)",
            "\u001b[0;32m<ipython-input-268-cb27f5118e87>\u001b[0m in \u001b[0;36m<cell line: 6>\u001b[0;34m()\u001b[0m\n\u001b[1;32m      4\u001b[0m \u001b[0mprint\u001b[0m\u001b[0;34m(\u001b[0m\u001b[0;34m'-카페라떼는 3000원'\u001b[0m\u001b[0;34m)\u001b[0m\u001b[0;34m\u001b[0m\u001b[0;34m\u001b[0m\u001b[0m\n\u001b[1;32m      5\u001b[0m \u001b[0mprint\u001b[0m\u001b[0;34m(\u001b[0m\u001b[0;34m'카푸치노는 3000원'\u001b[0m\u001b[0;34m)\u001b[0m\u001b[0;34m\u001b[0m\u001b[0;34m\u001b[0m\u001b[0m\n\u001b[0;32m----> 6\u001b[0;31m \u001b[0ma\u001b[0m\u001b[0;34m=\u001b[0m\u001b[0minput\u001b[0m\u001b[0;34m(\u001b[0m\u001b[0;34m'입니다. 원하시는 커피종류와 잔수를 입력하세요.'\u001b[0m\u001b[0;34m)\u001b[0m\u001b[0;34m\u001b[0m\u001b[0;34m\u001b[0m\u001b[0m\n\u001b[0m",
            "\u001b[0;32m/usr/local/lib/python3.10/dist-packages/ipykernel/kernelbase.py\u001b[0m in \u001b[0;36mraw_input\u001b[0;34m(self, prompt)\u001b[0m\n\u001b[1;32m    849\u001b[0m                 \u001b[0;34m\"raw_input was called, but this frontend does not support input requests.\"\u001b[0m\u001b[0;34m\u001b[0m\u001b[0;34m\u001b[0m\u001b[0m\n\u001b[1;32m    850\u001b[0m             )\n\u001b[0;32m--> 851\u001b[0;31m         return self._input_request(str(prompt),\n\u001b[0m\u001b[1;32m    852\u001b[0m             \u001b[0mself\u001b[0m\u001b[0;34m.\u001b[0m\u001b[0m_parent_ident\u001b[0m\u001b[0;34m,\u001b[0m\u001b[0;34m\u001b[0m\u001b[0;34m\u001b[0m\u001b[0m\n\u001b[1;32m    853\u001b[0m             \u001b[0mself\u001b[0m\u001b[0;34m.\u001b[0m\u001b[0m_parent_header\u001b[0m\u001b[0;34m,\u001b[0m\u001b[0;34m\u001b[0m\u001b[0;34m\u001b[0m\u001b[0m\n",
            "\u001b[0;32m/usr/local/lib/python3.10/dist-packages/ipykernel/kernelbase.py\u001b[0m in \u001b[0;36m_input_request\u001b[0;34m(self, prompt, ident, parent, password)\u001b[0m\n\u001b[1;32m    893\u001b[0m             \u001b[0;32mexcept\u001b[0m \u001b[0mKeyboardInterrupt\u001b[0m\u001b[0;34m:\u001b[0m\u001b[0;34m\u001b[0m\u001b[0;34m\u001b[0m\u001b[0m\n\u001b[1;32m    894\u001b[0m                 \u001b[0;31m# re-raise KeyboardInterrupt, to truncate traceback\u001b[0m\u001b[0;34m\u001b[0m\u001b[0;34m\u001b[0m\u001b[0m\n\u001b[0;32m--> 895\u001b[0;31m                 \u001b[0;32mraise\u001b[0m \u001b[0mKeyboardInterrupt\u001b[0m\u001b[0;34m(\u001b[0m\u001b[0;34m\"Interrupted by user\"\u001b[0m\u001b[0;34m)\u001b[0m \u001b[0;32mfrom\u001b[0m \u001b[0;32mNone\u001b[0m\u001b[0;34m\u001b[0m\u001b[0;34m\u001b[0m\u001b[0m\n\u001b[0m\u001b[1;32m    896\u001b[0m             \u001b[0;32mexcept\u001b[0m \u001b[0mException\u001b[0m \u001b[0;32mas\u001b[0m \u001b[0me\u001b[0m\u001b[0;34m:\u001b[0m\u001b[0;34m\u001b[0m\u001b[0;34m\u001b[0m\u001b[0m\n\u001b[1;32m    897\u001b[0m                 \u001b[0mself\u001b[0m\u001b[0;34m.\u001b[0m\u001b[0mlog\u001b[0m\u001b[0;34m.\u001b[0m\u001b[0mwarning\u001b[0m\u001b[0;34m(\u001b[0m\u001b[0;34m\"Invalid Message:\"\u001b[0m\u001b[0;34m,\u001b[0m \u001b[0mexc_info\u001b[0m\u001b[0;34m=\u001b[0m\u001b[0;32mTrue\u001b[0m\u001b[0;34m)\u001b[0m\u001b[0;34m\u001b[0m\u001b[0;34m\u001b[0m\u001b[0m\n",
            "\u001b[0;31mKeyboardInterrupt\u001b[0m: Interrupted by user"
          ]
        }
      ]
    },
    {
      "cell_type": "code",
      "source": [
        "coffee1_price=2500\n",
        "coffee2_price=3000\n",
        "coffee3_price=3000\n",
        "menu=f'''[커피자동주문 머신 메뉴]\n",
        "--------------------------------\n",
        "-아메리카노: {coffee1_price}원\n",
        "-카페라떼: {coffee2_price}원\n",
        "-카푸치노: {coffee3_price}원\n",
        "--------------------------------\n",
        "원하시는 커피 종류와 잔수를 입력하세요.\n",
        "'''\n",
        "print(menu)\n",
        "coffee1=int(input('아메리카노 몇잔?'))\n",
        "coffee2=int(input('카페라떼 몇잔?'))\n",
        "coffee3=int(input('카푸치노 몇잔?'))\n",
        "\n",
        "cost=coffee1*coffee1_price+coffee2*coffee2_price+coffee3*coffee3_price\n",
        "print(f'주문하신 총 가격은 {cost}원 입니다.')\n",
        "money=int(input('돈을 입력해주세요'))\n",
        "\n",
        "\n",
        "if cost>money:\n",
        "  print(f'{abs(money-cost)}원을 더 넣어주세요')\n",
        "elif cost<money:\n",
        "  print(f'잔돈은 {abs(cost-money)}원 입니다.')\n"
      ],
      "metadata": {
        "colab": {
          "base_uri": "https://localhost:8080/"
        },
        "id": "iznZJWmtF6iG",
        "outputId": "31991d8e-e840-4cd0-83b4-03be0f8d462f"
      },
      "execution_count": null,
      "outputs": [
        {
          "output_type": "stream",
          "name": "stdout",
          "text": [
            "[커피자동주문 머신 메뉴]\n",
            "--------------------------------\n",
            "-아메리카노: 2500원\n",
            "-카페라떼: 3000원\n",
            "-카푸치노: 3000원\n",
            "--------------------------------\n",
            "원하시는 커피 종류와 잔수를 입력하세요.\n",
            "\n",
            "아메리카노 몇잔?1\n",
            "카페라떼 몇잔?1\n",
            "카푸치노 몇잔?1\n",
            "주문하신 총 가격은 8500원 입니다.\n",
            "돈을 입력해주세요10000\n",
            "잔돈은 1500원 입니다.\n"
          ]
        }
      ]
    },
    {
      "cell_type": "code",
      "source": [
        "patty_price=2000\n",
        "shrimp_price=1500\n",
        "lettuce_price=1500\n",
        "bacon_price=1200\n",
        "onion_price=1000\n",
        "cheese_price=1000\n",
        "menu=f'''[햄버거 토핑 주문 메뉴]\n",
        "---------------------------\n",
        "-기본 2000원이 추가됩니다.\n",
        "-패티:{patty_price}원\n",
        "-새우:{shrimp_price}원\n",
        "-상추:{lettuce_price}원\n",
        "-베이컨:{bacon_price}원\n",
        "-양파:{onion_price}원\n",
        "-치즈:{cheese_price}원\n",
        "---------------------------\n",
        "\n",
        "각 토핑 수량을 입력해주세요\n",
        "'''\n",
        "print(menu)\n",
        "patty=int(input('패티 몇 개?'))\n",
        "shrimp=int(input('새우 몇 마리?'))\n",
        "lettuce=int(input('상추 몇 장?'))\n",
        "bacon=int(input('베이컨 몇 조각?'))\n",
        "onion=int(input('양파 몇 조각?'))\n",
        "cheese=int(input('치즈 몇 장?'))\n",
        "bacon=int(input('베이컨 몇 조각?'))\n",
        "\n",
        "price=2000+patty * patty_price + lettuce* lettuce_price + onion * onion_price +shrimp*shrimp_price + cheese * cheese_price + bacon * bacon_price\n",
        "print(f'총 가격은 {price:,}원 입니다.')\n",
        "print(f'주문하신 메뉴는 패티{patty}개, 새우{shrimp}마리, 상추{lettuce}장, 베이컨{bacon}조각',end=', ')\n",
        "print(f'양파 {onion}조각, 치즈 {cheese}장, 베이컨 {bacon}조각입니다. 메뉴가 맞으면 돈을 입력해주세요.')\n",
        "money=int(input('돈을 입력해주세요: '))\n",
        "if price>money:\n",
        "  print(f'고객님 {price-money:,}원이 부족해요.')\n",
        "if price==money:\n",
        "  print('감사합니다. 주문이 완료 되었습니다.')\n",
        "if price<money:\n",
        "  print(f'감사합니다. 잔돈은 {money-price:,}원입니다.')\n"
      ],
      "metadata": {
        "id": "EjarwwwL_SjO",
        "colab": {
          "base_uri": "https://localhost:8080/"
        },
        "outputId": "19570d84-bb3c-4377-f185-80d1a774b632"
      },
      "execution_count": null,
      "outputs": [
        {
          "output_type": "stream",
          "name": "stdout",
          "text": [
            "[햄버거 토핑 주문 메뉴]\n",
            "---------------------------\n",
            "-기본 2000원이 추가됩니다.\n",
            "-패티:2000원\n",
            "-새우:1500원\n",
            "-상추:1500원\n",
            "-베이컨:1200원\n",
            "-양파:1000원\n",
            "-치즈:1000원\n",
            "---------------------------\n",
            "\n",
            "각 토핑 수량을 입력해주세요\n",
            "\n",
            "패티 몇 개?5\n",
            "새우 몇 마리?5\n",
            "상추 몇 장?5\n",
            "베이컨 몇 조각?5\n",
            "양파 몇 조각?23\n",
            "치즈 몇 장?23\n",
            "베이컨 몇 조각?2\n",
            "총 가격은 75,400원 입니다.\n",
            "주문하신 메뉴는 패티5개, 새우5마리, 상추5장, 베이컨2조각, 양파 23조각, 치즈 23장, 베이컨 2조각입니다. 메뉴가 맞으면 돈을 입력해주세요.\n",
            "돈을 입력해주세요: 12309\n",
            "고객님 63,091원이 부족해요.\n"
          ]
        }
      ]
    }
  ]
}