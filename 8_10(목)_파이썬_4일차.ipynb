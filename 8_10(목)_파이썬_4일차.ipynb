{
  "nbformat": 4,
  "nbformat_minor": 0,
  "metadata": {
    "colab": {
      "provenance": [],
      "authorship_tag": "ABX9TyNeMnebw4VuxVAwAVZFM8Tr",
      "include_colab_link": true
    },
    "kernelspec": {
      "name": "python3",
      "display_name": "Python 3"
    },
    "language_info": {
      "name": "python"
    }
  },
  "cells": [
    {
      "cell_type": "markdown",
      "metadata": {
        "id": "view-in-github",
        "colab_type": "text"
      },
      "source": [
        "<a href=\"https://colab.research.google.com/github/lsy1127/bioinfomatics/blob/main/8_10(%EB%AA%A9)_%ED%8C%8C%EC%9D%B4%EC%8D%AC_4%EC%9D%BC%EC%B0%A8.ipynb\" target=\"_parent\"><img src=\"https://colab.research.google.com/assets/colab-badge.svg\" alt=\"Open In Colab\"/></a>"
      ]
    },
    {
      "cell_type": "code",
      "execution_count": null,
      "metadata": {
        "id": "k6plVBd569Il"
      },
      "outputs": [],
      "source": [
        "import random\n",
        "title='''\n",
        "-------------------------------\n",
        "* 비밀의 숫자가 지정되었습니다.\n",
        "-------------------------------\n",
        "'''\n",
        "s=random.randint(1,100)\n",
        "t=0\n",
        "print(title)\n",
        "\n",
        "while True:\n",
        "    a=int(input('숫자를 입력하세요:'))\n",
        "    t+=1\n",
        "    if a>s:\n",
        "        print(\"비밀의 수는 더 작은 수 입니다.\")\n",
        "    elif a<s:\n",
        "        print(\"비밀의 수는 더 큰 수 입니다.\")\n",
        "    elif a==s:\n",
        "        print(\"정답입니다.\")\n",
        "        print(\"-------------------------------\")\n",
        "        break\n",
        "\n",
        "print(f'비밀의 숫자:{s}')\n",
        "print(f'당신의 입력 횟수:{t}')"
      ]
    },
    {
      "cell_type": "code",
      "source": [
        "length=int(input('공의 높이를 입력하세요(meter): '))\n",
        "meter, cnt= length, 0\n",
        "while True:\n",
        "    meter/=2\n",
        "    cnt+=1\n",
        "    if meter<0.00001:\n",
        "        break\n",
        "\n",
        "print(f'{length} 위치에서 공의 튕긴 횟수는 총 {cnt}번 입니다.')\n"
      ],
      "metadata": {
        "colab": {
          "base_uri": "https://localhost:8080/"
        },
        "id": "CG7CrXvmIItx",
        "outputId": "4a1e5fe2-5702-432a-f7da-10547b6bb041"
      },
      "execution_count": null,
      "outputs": [
        {
          "output_type": "stream",
          "name": "stdout",
          "text": [
            "공의 높이를 입력하세요(meter): 30\n",
            "30 위치에서 공의 튕긴 횟수는 총 22번 입니다.\n"
          ]
        }
      ]
    },
    {
      "cell_type": "markdown",
      "source": [
        "# 코딩 해결 능력\n",
        "문제를 세분화,\n",
        "차례로 해결\n",
        "\n",
        "\n"
      ],
      "metadata": {
        "id": "kQGSNFj0DZuB"
      }
    },
    {
      "cell_type": "code",
      "source": [
        "print('\\u2605')"
      ],
      "metadata": {
        "colab": {
          "base_uri": "https://localhost:8080/"
        },
        "id": "qVlnD-tYD0ig",
        "outputId": "c2ed516c-c781-4cd5-9971-657805c8e217"
      },
      "execution_count": null,
      "outputs": [
        {
          "output_type": "stream",
          "name": "stdout",
          "text": [
            "★\n"
          ]
        }
      ]
    },
    {
      "cell_type": "markdown",
      "source": [
        "# enumerate(): 인덱스와 값을 함께 사용할 수 있는 함수"
      ],
      "metadata": {
        "id": "RBj1tM3lLYJZ"
      }
    },
    {
      "cell_type": "code",
      "source": [
        "a=[3,4,6,8,9]\n",
        "for _ in a:\n",
        "    print(_)\n",
        "for b, c in enumerate(a):\n",
        "    print(f'인덱스:{b} 값:{c}')"
      ],
      "metadata": {
        "colab": {
          "base_uri": "https://localhost:8080/"
        },
        "id": "oO5H0ma2Lck8",
        "outputId": "cec66dc0-e7fd-4bf3-ed33-f25881ee1d6d"
      },
      "execution_count": null,
      "outputs": [
        {
          "output_type": "stream",
          "name": "stdout",
          "text": [
            "3\n",
            "4\n",
            "6\n",
            "8\n",
            "9\n",
            "인덱스:0 값:3\n",
            "인덱스:1 값:4\n",
            "인덱스:2 값:6\n",
            "인덱스:3 값:8\n",
            "인덱스:4 값:9\n"
          ]
        }
      ]
    },
    {
      "cell_type": "markdown",
      "source": [
        "# 파이썬 자료형: List(리스트)\n"
      ],
      "metadata": {
        "id": "sl_MTifHQ6f1"
      }
    },
    {
      "cell_type": "code",
      "source": [
        "help(list)"
      ],
      "metadata": {
        "colab": {
          "base_uri": "https://localhost:8080/"
        },
        "id": "xse54cITSDKg",
        "outputId": "904b954a-0ed1-4fc0-b00a-f28533f54b61"
      },
      "execution_count": null,
      "outputs": [
        {
          "output_type": "stream",
          "name": "stdout",
          "text": [
            "Help on class list in module builtins:\n",
            "\n",
            "class list(object)\n",
            " |  list(iterable=(), /)\n",
            " |  \n",
            " |  Built-in mutable sequence.\n",
            " |  \n",
            " |  If no argument is given, the constructor creates a new empty list.\n",
            " |  The argument must be an iterable if specified.\n",
            " |  \n",
            " |  Methods defined here:\n",
            " |  \n",
            " |  __add__(self, value, /)\n",
            " |      Return self+value.\n",
            " |  \n",
            " |  __contains__(self, key, /)\n",
            " |      Return key in self.\n",
            " |  \n",
            " |  __delitem__(self, key, /)\n",
            " |      Delete self[key].\n",
            " |  \n",
            " |  __eq__(self, value, /)\n",
            " |      Return self==value.\n",
            " |  \n",
            " |  __ge__(self, value, /)\n",
            " |      Return self>=value.\n",
            " |  \n",
            " |  __getattribute__(self, name, /)\n",
            " |      Return getattr(self, name).\n",
            " |  \n",
            " |  __getitem__(...)\n",
            " |      x.__getitem__(y) <==> x[y]\n",
            " |  \n",
            " |  __gt__(self, value, /)\n",
            " |      Return self>value.\n",
            " |  \n",
            " |  __iadd__(self, value, /)\n",
            " |      Implement self+=value.\n",
            " |  \n",
            " |  __imul__(self, value, /)\n",
            " |      Implement self*=value.\n",
            " |  \n",
            " |  __init__(self, /, *args, **kwargs)\n",
            " |      Initialize self.  See help(type(self)) for accurate signature.\n",
            " |  \n",
            " |  __iter__(self, /)\n",
            " |      Implement iter(self).\n",
            " |  \n",
            " |  __le__(self, value, /)\n",
            " |      Return self<=value.\n",
            " |  \n",
            " |  __len__(self, /)\n",
            " |      Return len(self).\n",
            " |  \n",
            " |  __lt__(self, value, /)\n",
            " |      Return self<value.\n",
            " |  \n",
            " |  __mul__(self, value, /)\n",
            " |      Return self*value.\n",
            " |  \n",
            " |  __ne__(self, value, /)\n",
            " |      Return self!=value.\n",
            " |  \n",
            " |  __repr__(self, /)\n",
            " |      Return repr(self).\n",
            " |  \n",
            " |  __reversed__(self, /)\n",
            " |      Return a reverse iterator over the list.\n",
            " |  \n",
            " |  __rmul__(self, value, /)\n",
            " |      Return value*self.\n",
            " |  \n",
            " |  __setitem__(self, key, value, /)\n",
            " |      Set self[key] to value.\n",
            " |  \n",
            " |  __sizeof__(self, /)\n",
            " |      Return the size of the list in memory, in bytes.\n",
            " |  \n",
            " |  append(self, object, /)\n",
            " |      Append object to the end of the list.\n",
            " |  \n",
            " |  clear(self, /)\n",
            " |      Remove all items from list.\n",
            " |  \n",
            " |  copy(self, /)\n",
            " |      Return a shallow copy of the list.\n",
            " |  \n",
            " |  count(self, value, /)\n",
            " |      Return number of occurrences of value.\n",
            " |  \n",
            " |  extend(self, iterable, /)\n",
            " |      Extend list by appending elements from the iterable.\n",
            " |  \n",
            " |  index(self, value, start=0, stop=9223372036854775807, /)\n",
            " |      Return first index of value.\n",
            " |      \n",
            " |      Raises ValueError if the value is not present.\n",
            " |  \n",
            " |  insert(self, index, object, /)\n",
            " |      Insert object before index.\n",
            " |  \n",
            " |  pop(self, index=-1, /)\n",
            " |      Remove and return item at index (default last).\n",
            " |      \n",
            " |      Raises IndexError if list is empty or index is out of range.\n",
            " |  \n",
            " |  remove(self, value, /)\n",
            " |      Remove first occurrence of value.\n",
            " |      \n",
            " |      Raises ValueError if the value is not present.\n",
            " |  \n",
            " |  reverse(self, /)\n",
            " |      Reverse *IN PLACE*.\n",
            " |  \n",
            " |  sort(self, /, *, key=None, reverse=False)\n",
            " |      Sort the list in ascending order and return None.\n",
            " |      \n",
            " |      The sort is in-place (i.e. the list itself is modified) and stable (i.e. the\n",
            " |      order of two equal elements is maintained).\n",
            " |      \n",
            " |      If a key function is given, apply it once to each list item and sort them,\n",
            " |      ascending or descending, according to their function values.\n",
            " |      \n",
            " |      The reverse flag can be set to sort in descending order.\n",
            " |  \n",
            " |  ----------------------------------------------------------------------\n",
            " |  Class methods defined here:\n",
            " |  \n",
            " |  __class_getitem__(...) from builtins.type\n",
            " |      See PEP 585\n",
            " |  \n",
            " |  ----------------------------------------------------------------------\n",
            " |  Static methods defined here:\n",
            " |  \n",
            " |  __new__(*args, **kwargs) from builtins.type\n",
            " |      Create and return a new object.  See help(type) for accurate signature.\n",
            " |  \n",
            " |  ----------------------------------------------------------------------\n",
            " |  Data and other attributes defined here:\n",
            " |  \n",
            " |  __hash__ = None\n",
            "\n"
          ]
        }
      ]
    },
    {
      "cell_type": "code",
      "source": [
        "# 빈 리스트 생성\n",
        "num=list()\n",
        "num=[]\n",
        "\n",
        "# 리스트 생성\n",
        "mylist=list(range(1,11))\n",
        "print(mylist)"
      ],
      "metadata": {
        "colab": {
          "base_uri": "https://localhost:8080/"
        },
        "id": "MG-2WjjlTJTM",
        "outputId": "6efaa31c-228d-4c11-9490-3849d36e77fa"
      },
      "execution_count": null,
      "outputs": [
        {
          "output_type": "stream",
          "name": "stdout",
          "text": [
            "[1, 2, 3, 4, 5, 6, 7, 8, 9, 10]\n"
          ]
        }
      ]
    },
    {
      "cell_type": "markdown",
      "source": [
        "# 리스트 요소(elemnet)에 접근하기"
      ],
      "metadata": {
        "id": "xfZlhWXYT2du"
      }
    },
    {
      "cell_type": "code",
      "source": [
        "# 인덱스로 요소에 접근한다.\n",
        "colors=['green','red','orange','black','blue']\n",
        "colors[0]\n",
        "print(f' 인덱스2 번의 값은: {colors[2]}')\n",
        "print(colors[2:])\n",
        "print('----------------')\n",
        "for color in colors:\n",
        "    print(f'내가 좋아하는 색상은 {color}!')\n",
        "for idx, color in enumerate(colors):\n",
        "    print()"
      ],
      "metadata": {
        "colab": {
          "base_uri": "https://localhost:8080/"
        },
        "id": "PwZjqhglT5W2",
        "outputId": "d637a311-2b2c-4a1b-9980-65bbc848a42f"
      },
      "execution_count": null,
      "outputs": [
        {
          "output_type": "stream",
          "name": "stdout",
          "text": [
            " 인덱스2 번의 값은: orange\n",
            "['orange', 'black', 'blue']\n",
            "----------------\n",
            "내가 좋아하는 색상은 green!\n",
            "내가 좋아하는 색상은 red!\n",
            "내가 좋아하는 색상은 orange!\n",
            "내가 좋아하는 색상은 black!\n",
            "내가 좋아하는 색상은 blue!\n"
          ]
        }
      ]
    },
    {
      "cell_type": "code",
      "source": [
        "a=[1,2,3]\n",
        "b=[4,5,6,7]\n",
        "print(len(a+b))"
      ],
      "metadata": {
        "colab": {
          "base_uri": "https://localhost:8080/"
        },
        "id": "zA5O2msEVnWf",
        "outputId": "4502e56a-63cf-4950-f56d-e97448f2717b"
      },
      "execution_count": null,
      "outputs": [
        {
          "output_type": "stream",
          "name": "stdout",
          "text": [
            "7\n"
          ]
        }
      ]
    },
    {
      "cell_type": "markdown",
      "source": [
        "# 리스트에 요소 추가하기"
      ],
      "metadata": {
        "id": "fy-DlWsqWWLB"
      }
    },
    {
      "cell_type": "code",
      "source": [
        "c=['밤','별','달','구름']\n",
        "print(c)\n",
        "\n",
        "# 리스트 맨 뒤에 추가하기 append(값)\n",
        "c.append('태양')\n",
        "print(c)\n",
        "# 리스트 특정 위치에 추가하기 insert(위치,값)\n",
        "c.insert(2,'dd')\n",
        "print(c)"
      ],
      "metadata": {
        "colab": {
          "base_uri": "https://localhost:8080/"
        },
        "id": "UC9XmCIJWAat",
        "outputId": "a153fefc-65a4-4318-dace-2021913e4b41"
      },
      "execution_count": null,
      "outputs": [
        {
          "output_type": "stream",
          "name": "stdout",
          "text": [
            "['밤', '별', '달', '구름']\n",
            "['밤', '별', '달', '구름', '태양']\n",
            "['밤', '별', 'dd', '달', '구름', '태양']\n"
          ]
        }
      ]
    },
    {
      "cell_type": "markdown",
      "source": [
        "# 리스트에서 요소 삭제하기"
      ],
      "metadata": {
        "id": "A7EM0Eg-WoVw"
      }
    },
    {
      "cell_type": "code",
      "source": [
        "c=['밤','별','달','구름']\n",
        "\n",
        "# 특정 요소 삭제하기 remove(값)\n",
        "c.remove('별')\n",
        "print(c)\n",
        "\n",
        "# 맨 뒤 요소 삭제하기 pop()\n",
        "c.pop()\n",
        "print(c)\n"
      ],
      "metadata": {
        "colab": {
          "base_uri": "https://localhost:8080/"
        },
        "id": "JelSDKU_Wp0e",
        "outputId": "ad87b6c8-5179-465e-839e-93c48dd4ab35"
      },
      "execution_count": null,
      "outputs": [
        {
          "output_type": "stream",
          "name": "stdout",
          "text": [
            "['밤', '달', '구름']\n",
            "['밤', '달']\n"
          ]
        }
      ]
    },
    {
      "cell_type": "markdown",
      "source": [
        "리스트에서 요소 변경하기"
      ],
      "metadata": {
        "id": "W1UEOxSeX9f3"
      }
    },
    {
      "cell_type": "code",
      "source": [
        "c=['밤','별','달','구름']\n",
        "\n",
        "# 인덱스 위치에 해당하는 값을 변경하기(대체하기)\n",
        "c[2]='태양'\n",
        "print(c)\n",
        "\n",
        "c.sort\n",
        "print(c)\n",
        "\n"
      ],
      "metadata": {
        "colab": {
          "base_uri": "https://localhost:8080/"
        },
        "id": "3qJcV2yCX-v5",
        "outputId": "05df7ca2-4d1c-4a22-96a0-6711998fec5b"
      },
      "execution_count": null,
      "outputs": [
        {
          "output_type": "stream",
          "name": "stdout",
          "text": [
            "['밤', '별', '태양', '구름']\n",
            "['밤', '별', '태양', '구름']\n"
          ]
        }
      ]
    },
    {
      "cell_type": "markdown",
      "source": [
        "# 리스트 정렬하기"
      ],
      "metadata": {
        "id": "bczE_GS9ZTDi"
      }
    },
    {
      "cell_type": "code",
      "source": [
        "c=['밤','별','달','구름']\n",
        "\n",
        "c.sort() # reverse=False 디폴트 값\n",
        "print(c)\n",
        "c.sort(reverse=True)\n",
        "print(c)"
      ],
      "metadata": {
        "colab": {
          "base_uri": "https://localhost:8080/"
        },
        "id": "4DiLHSbuZUKx",
        "outputId": "14c1fe10-162c-4e8f-dcac-81bafc125205"
      },
      "execution_count": null,
      "outputs": [
        {
          "output_type": "stream",
          "name": "stdout",
          "text": [
            "['구름', '달', '밤', '별']\n",
            "['별', '밤', '달', '구름']\n"
          ]
        }
      ]
    },
    {
      "cell_type": "code",
      "source": [
        "# 파이썬의 기본 함수: 정렬하기 sorted()\n"
      ],
      "metadata": {
        "id": "allehtRdaLhZ"
      },
      "execution_count": null,
      "outputs": []
    },
    {
      "cell_type": "markdown",
      "source": [
        "# 다차원 리스트 요소 접근"
      ],
      "metadata": {
        "id": "VRWuYfhSbTgL"
      }
    },
    {
      "cell_type": "code",
      "source": [
        "numbers=[[1,2,3],[4,5,[6,7,8]],9,10]\n",
        "print(len(numbers)) # 1~3, 4~8, 9, 10 으로 길이인식\n",
        "print(len(numbers[0])) # [1,2,3]\n",
        "print(len(numbers[1])) # [4,5,[6,7,8]]\n",
        "print(numbers[0][1]) # 인덱스 0번의 [1,2,3]의 인덱스 1번=2\n",
        "print(numbers[1][2][1]) # 7\n",
        "print(numbers[1][2][1:])"
      ],
      "metadata": {
        "colab": {
          "base_uri": "https://localhost:8080/"
        },
        "id": "r3tte8y6bVwy",
        "outputId": "30e0edf7-fe2f-4ed9-8d2f-19def33b7169"
      },
      "execution_count": null,
      "outputs": [
        {
          "output_type": "stream",
          "name": "stdout",
          "text": [
            "4\n",
            "3\n",
            "3\n",
            "2\n",
            "7\n",
            "[7, 8]\n"
          ]
        }
      ]
    },
    {
      "cell_type": "code",
      "source": [
        "# mylist=[ i for i in range(10)] 리스트 컴프리헨션(조건제시법)\n",
        "# mylist=list(range(10))\n",
        "\n",
        "# 빈 방(2차원 리스트)을 준비한다.\n",
        "mylist=[ [] for i in range(3) ]\n",
        "print(mylist)\n",
        "\n",
        "# 각 방(2차원 리스트)에 값을 추가한다.\n",
        "value=1\n",
        "for i in range(3):\n",
        "    for _ in range(4):\n",
        "        mylist[i].append(f'{value:>2}')\n",
        "        value+=1\n",
        "\n",
        "print(mylist)\n",
        "b=\"\"\n",
        "for i in range(3):\n",
        "  print(\" \".join(mylist[i]))"
      ],
      "metadata": {
        "colab": {
          "base_uri": "https://localhost:8080/"
        },
        "id": "K-bITOeIekT-",
        "outputId": "c9b016cf-73df-428a-e375-0034b0b14da9"
      },
      "execution_count": null,
      "outputs": [
        {
          "output_type": "stream",
          "name": "stdout",
          "text": [
            "[[], [], []]\n",
            "[[' 1', ' 2', ' 3', ' 4'], [' 5', ' 6', ' 7', ' 8'], [' 9', '10', '11', '12']]\n",
            " 1  2  3  4\n",
            " 5  6  7  8\n",
            " 9 10 11 12\n"
          ]
        }
      ]
    },
    {
      "cell_type": "code",
      "source": [
        "value=1\n",
        "mylist=[]\n",
        "for i in range(3):\n",
        "    mylist.append([]) # 빈 방\n",
        "    for k in range(4):\n"
      ],
      "metadata": {
        "id": "o_cY5dOfkDeD",
        "colab": {
          "base_uri": "https://localhost:8080/",
          "height": 147
        },
        "outputId": "87154690-c2ee-4a5f-a5f3-1b149f17278f"
      },
      "execution_count": 1,
      "outputs": [
        {
          "output_type": "error",
          "ename": "SyntaxError",
          "evalue": "ignored",
          "traceback": [
            "\u001b[0;36m  File \u001b[0;32m\"<ipython-input-1-2a86c9b25bf4>\"\u001b[0;36m, line \u001b[0;32m6\u001b[0m\n\u001b[0;31m    \u001b[0m\n\u001b[0m    ^\u001b[0m\n\u001b[0;31mSyntaxError\u001b[0m\u001b[0;31m:\u001b[0m incomplete input\n"
          ]
        }
      ]
    },
    {
      "cell_type": "code",
      "source": [
        "def func_sum(x, y):\n",
        "    return 2*x+y\n",
        "func_sum(5,10)\n"
      ],
      "metadata": {
        "colab": {
          "base_uri": "https://localhost:8080/"
        },
        "id": "XxP2klA3leHt",
        "outputId": "2c7e33fc-e6d8-472b-ec87-09e43f1eb798"
      },
      "execution_count": null,
      "outputs": [
        {
          "output_type": "execute_result",
          "data": {
            "text/plain": [
              "20"
            ]
          },
          "metadata": {},
          "execution_count": 99
        }
      ]
    }
  ]
}