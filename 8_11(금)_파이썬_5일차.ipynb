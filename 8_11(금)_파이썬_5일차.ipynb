{
  "nbformat": 4,
  "nbformat_minor": 0,
  "metadata": {
    "colab": {
      "provenance": [],
      "authorship_tag": "ABX9TyMBQf6SpJ7A/1OflYRZZbm7",
      "include_colab_link": true
    },
    "kernelspec": {
      "name": "python3",
      "display_name": "Python 3"
    },
    "language_info": {
      "name": "python"
    }
  },
  "cells": [
    {
      "cell_type": "markdown",
      "metadata": {
        "id": "view-in-github",
        "colab_type": "text"
      },
      "source": [
        "<a href=\"https://colab.research.google.com/github/lsy1127/bioinfomatics/blob/main/8_11(%EA%B8%88)_%ED%8C%8C%EC%9D%B4%EC%8D%AC_5%EC%9D%BC%EC%B0%A8.ipynb\" target=\"_parent\"><img src=\"https://colab.research.google.com/assets/colab-badge.svg\" alt=\"Open In Colab\"/></a>"
      ]
    },
    {
      "cell_type": "markdown",
      "source": [
        "# [복습문제] 리스트 사용하기"
      ],
      "metadata": {
        "id": "MqnxIo6PIQcr"
      }
    },
    {
      "cell_type": "code",
      "source": [
        "idols= ['A','B','C','D']\n",
        "scores= [ ]\n",
        "\n",
        "for idol in idols:\n",
        "    score=float(input(f\"'{idol}'의 성적은?: \"))\n",
        "    scores.append(score) # 리스트에 요소 추가\n",
        "\n",
        "print('-'*50)\n",
        "print('아이돌 성적 결과:')\n",
        "print('-'*50)\n",
        "\n",
        "for idx, idol in enumerate(idols):\n",
        "    if scores[idx]>=80:\n",
        "        result='수료'\n",
        "    else:\n",
        "        result='미수료'\n",
        "\n",
        "    print(f\"'{idol}의 성적은 {scores[idx]}, 아이돌 성적 결과:{result}'\" )"
      ],
      "metadata": {
        "colab": {
          "base_uri": "https://localhost:8080/"
        },
        "id": "JmFkRv_9IUJA",
        "outputId": "0b52e8c2-4875-4a90-ab4d-332d75aa64d5"
      },
      "execution_count": 4,
      "outputs": [
        {
          "output_type": "stream",
          "name": "stdout",
          "text": [
            "'A'의 성적은?: 80\n",
            "'B'의 성적은?: 90\n",
            "'C'의 성적은?: 89\n",
            "'D'의 성적은?: 77\n",
            "--------------------------------------------------\n",
            "아이돌 성적 결과:\n",
            "--------------------------------------------------\n",
            "'A의 성적은 80.0, 아이돌 성적 결과:수료'\n",
            "'B의 성적은 90.0, 아이돌 성적 결과:수료'\n",
            "'C의 성적은 89.0, 아이돌 성적 결과:수료'\n",
            "'D의 성적은 77.0, 아이돌 성적 결과:미수료'\n"
          ]
        }
      ]
    },
    {
      "cell_type": "code",
      "source": [
        "print(sorted(idols))\n",
        "scores.sort()\n",
        "print(scores)"
      ],
      "metadata": {
        "colab": {
          "base_uri": "https://localhost:8080/"
        },
        "id": "1JkFOeoaK5TC",
        "outputId": "93b1d1f5-ee7a-4b33-beba-ce6328147fd1"
      },
      "execution_count": 9,
      "outputs": [
        {
          "output_type": "stream",
          "name": "stdout",
          "text": [
            "['A', 'B', 'C', 'D']\n",
            "[77.0, 80.0, 89.0, 90.0]\n"
          ]
        }
      ]
    },
    {
      "cell_type": "code",
      "source": [
        "# 특정 위치에 요소 추가하기\n",
        "idols= ['A','B','C','D']\n",
        "idols.insert(2, 'A')\n",
        "print(idols)"
      ],
      "metadata": {
        "colab": {
          "base_uri": "https://localhost:8080/"
        },
        "id": "Mq9X0HGcLoD8",
        "outputId": "12076416-6def-4a43-8617-a8ed58108903"
      },
      "execution_count": 12,
      "outputs": [
        {
          "output_type": "stream",
          "name": "stdout",
          "text": [
            "['A', 'B', 'A', 'C', 'D']\n"
          ]
        }
      ]
    },
    {
      "cell_type": "markdown",
      "source": [
        "# 딕셔너리\n",
        "값을 찾을 땐 키값을 알아야함.\n",
        "키는 unique 해야함.\n",
        "튜플은 요소 수정, 삭제가 안되지만 딕셔너리는 가능."
      ],
      "metadata": {
        "id": "WnXhTk5WMKzc"
      }
    },
    {
      "cell_type": "code",
      "source": [
        "scores={'kor':70, 'eng': 89, 'math': 95, 'music': 100} # 딕셔너리 타입\n",
        "print(type(scores))\n",
        "print(scores)\n",
        "\n",
        "# 키와 값을 출력하는 방법1\n",
        "\n",
        "for key in scores:\n",
        "    print('키: %s => 값: %d' % (key,scores[key]))\n",
        "    # print(f'키:{key}=>값:{scores[key]:>3}')\n",
        "\n",
        "# 키와 값을 출력하는 방법2\n",
        "for key, value in scores.items():\n",
        "    print(f'키: {key} => 값: {value:>2}')"
      ],
      "metadata": {
        "colab": {
          "base_uri": "https://localhost:8080/"
        },
        "id": "uRV9rVP0N6gF",
        "outputId": "62e2ac15-9f9a-4e4c-c97a-facacdc31592"
      },
      "execution_count": 23,
      "outputs": [
        {
          "output_type": "stream",
          "name": "stdout",
          "text": [
            "<class 'dict'>\n",
            "{'kor': 70, 'eng': 89, 'math': 95, 'music': 100}\n",
            "키: kor => 값: 70\n",
            "키: eng => 값: 89\n",
            "키: math => 값: 95\n",
            "키: music => 값: 100\n",
            "키: kor => 값: 70\n",
            "키: eng => 값: 89\n",
            "키: math => 값: 95\n",
            "키: music => 값: 100\n"
          ]
        }
      ]
    },
    {
      "cell_type": "code",
      "source": [
        "scores={'kor':70, 'eng': 89, 'math': 95, 'music': 100} # 딕셔너리 타입\n",
        "print(scores)\n",
        "print(scores.keys()) # 딕셔너리에서 키만 출력\n",
        "print(scores.values()) # 딕셔너리에서 값만 출력\n",
        "print(scores.items()) # 딕셔너리에서 키,값이 튜플 형태로 출력"
      ],
      "metadata": {
        "colab": {
          "base_uri": "https://localhost:8080/"
        },
        "id": "1PADizICMLwD",
        "outputId": "17623aad-3c90-49ec-83f5-4423f5680a1f"
      },
      "execution_count": 19,
      "outputs": [
        {
          "output_type": "stream",
          "name": "stdout",
          "text": [
            "{'kor': 70, 'eng': 89, 'math': 95, 'music': 100}\n",
            "dict_keys(['kor', 'eng', 'math', 'music'])\n",
            "dict_values([70, 89, 95, 100])\n",
            "dict_items([('kor', 70), ('eng', 89), ('math', 95), ('music', 100)])\n"
          ]
        }
      ]
    },
    {
      "cell_type": "code",
      "source": [
        "scores={'kor':70, 'eng':89, 'math':95}\n",
        "arts={'music':100, 'dance': 90}\n",
        "scores.update(arts)\n",
        "scores"
      ],
      "metadata": {
        "colab": {
          "base_uri": "https://localhost:8080/"
        },
        "id": "yqIMT_CYRKuX",
        "outputId": "e74baeea-326e-41f8-da31-b7217d85c036"
      },
      "execution_count": 34,
      "outputs": [
        {
          "output_type": "execute_result",
          "data": {
            "text/plain": [
              "{'kor': 70, 'eng': 89, 'math': 95, 'music': 100, 'dance': 90}"
            ]
          },
          "metadata": {},
          "execution_count": 34
        }
      ]
    },
    {
      "cell_type": "code",
      "source": [
        "idlos = ['A', 'B', 'C', 'D']\n",
        "scores={} # 빈 딕셔너리\n",
        "\n",
        "for idol in idols:\n",
        "    scores[idol]=int(input(f\"'{idol}'의 성적은 \"))\n",
        "print(scores)\n",
        "\n",
        "print(f'성적의 합계는: {sum(scores.values())} 평균:{sum(scores.values())/len(scores)}')"
      ],
      "metadata": {
        "colab": {
          "base_uri": "https://localhost:8080/"
        },
        "id": "eOTeifZlPMXX",
        "outputId": "ca9a13a6-376e-4a96-c4ce-be4e2379aaef"
      },
      "execution_count": 42,
      "outputs": [
        {
          "output_type": "stream",
          "name": "stdout",
          "text": [
            "'A'의 성적은 980\n",
            "'B'의 성적은 90\n",
            "'A'의 성적은 70\n",
            "'C'의 성적은 8\n",
            "'D'의 성적은 8\n",
            "{'A': 70, 'B': 90, 'C': 8, 'D': 8}\n",
            "성적의 합계는: 176 평균:44.0\n"
          ]
        }
      ]
    },
    {
      "cell_type": "code",
      "source": [
        "# 내가 한 것\n",
        "title='''\n",
        "---선택메뉴---\n",
        "1. 단어 등록\n",
        "2. 단어 검색\n",
        "3. 모든 단어 보기\n",
        "0. 종료하기\n",
        "-----------------------------\n",
        "선택 '''\n",
        "all_vocab={}\n",
        "all_mean={}\n",
        "a=int(input(title))\n",
        "while True:\n",
        "    if a==1:\n",
        "        vocab=input('새 단어')\n",
        "        input(f'{vocab}의 뜻: ')\n",
        "        all_vocab.update(all_mean)\n",
        "\n",
        "    if a==2:\n",
        "        search_vocab=input('검색할 단어: ')\n",
        "        print(f'{key}의 뜻은: {value}')\n",
        "\n",
        "    if a==3:\n",
        "        for i in\n",
        "\n",
        "    else:\n",
        "     break\n"
      ],
      "metadata": {
        "id": "cwJwrZaZUvyD"
      },
      "execution_count": null,
      "outputs": []
    },
    {
      "cell_type": "code",
      "source": [
        "# 정답\n",
        "menu='''\n",
        "---선택메뉴---\n",
        "1. 단어 등록\n",
        "2. 단어 검색\n",
        "3. 모든 단어 보기\n",
        "0. 종료하기\n",
        "-----------------------------'''\n",
        "wordbook={}\n",
        "while True:\n",
        "    select=input(menu+'\\n 메뉴 선택: ')\n",
        "    if select == '1':               # 1. 단어 등록\n",
        "        word=input('등록할 새로운 단어: ')\n",
        "        wordbook[word]=input(f'{word}의 뜻은: ')\n",
        "    elif select == '2':               # 2. 단어 검색\n",
        "        word=input('검색할 단어: ')\n",
        "        if word in wordbook:   # if wordbook[word]: 단어장에 해당 언어가 있을 경우\n",
        "            print(f'{word}의 뜻은 {wordbook[word]}')\n",
        "        else:\n",
        "            print('미등록 단어입니다.')\n",
        "    elif select == '3':               # 3. 단어 보기\n",
        "        for key, value in wordbook.items():\n",
        "            print(f'{key}의 뜻은 {value}')\n",
        "        if len(wordbook) == 0:\n",
        "            print('등록된 단어가 없습니다.')\n",
        "    elif select == '0':\n",
        "        break\n",
        "\n",
        "print('프로그램이 종료되었습니다.')"
      ],
      "metadata": {
        "colab": {
          "base_uri": "https://localhost:8080/"
        },
        "id": "bkeqne7oYscB",
        "outputId": "abee891e-0cc2-4375-c222-d9b63d787b1a"
      },
      "execution_count": 55,
      "outputs": [
        {
          "output_type": "stream",
          "name": "stdout",
          "text": [
            "\n",
            "---선택메뉴---\n",
            "1. 단어 등록\n",
            "2. 단어 검색\n",
            "3. 모든 단어 보기\n",
            "0. 종료하기\n",
            "-----------------------------\n",
            " 메뉴 선택: 3\n",
            "등록된 단어가 없습니다.\n",
            "\n",
            "---선택메뉴---\n",
            "1. 단어 등록\n",
            "2. 단어 검색\n",
            "3. 모든 단어 보기\n",
            "0. 종료하기\n",
            "-----------------------------\n",
            " 메뉴 선택: 1\n",
            "등록할 새로운 단어: a\n",
            "a의 뜻은: 에이\n",
            "\n",
            "---선택메뉴---\n",
            "1. 단어 등록\n",
            "2. 단어 검색\n",
            "3. 모든 단어 보기\n",
            "0. 종료하기\n",
            "-----------------------------\n",
            " 메뉴 선택: 2\n",
            "검색할 단어: b\n",
            "미등록 단어입니다.\n",
            "\n",
            "---선택메뉴---\n",
            "1. 단어 등록\n",
            "2. 단어 검색\n",
            "3. 모든 단어 보기\n",
            "0. 종료하기\n",
            "-----------------------------\n",
            " 메뉴 선택: 1\n",
            "등록할 새로운 단어: b\n",
            "b의 뜻은: 비\n",
            "\n",
            "---선택메뉴---\n",
            "1. 단어 등록\n",
            "2. 단어 검색\n",
            "3. 모든 단어 보기\n",
            "0. 종료하기\n",
            "-----------------------------\n",
            " 메뉴 선택: 3\n",
            "a의 뜻은 에이\n",
            "b의 뜻은 비\n",
            "\n",
            "---선택메뉴---\n",
            "1. 단어 등록\n",
            "2. 단어 검색\n",
            "3. 모든 단어 보기\n",
            "0. 종료하기\n",
            "-----------------------------\n",
            " 메뉴 선택: 0\n",
            "프로그램이 종료되었습니다.\n"
          ]
        }
      ]
    },
    {
      "cell_type": "markdown",
      "source": [
        "# 집합"
      ],
      "metadata": {
        "id": "B2oTd5MnkJvK"
      }
    },
    {
      "cell_type": "code",
      "source": [
        "딕셔너리와 중괄호 {} 형태는 같지만\n",
        "딕셔너리는 키:값을 가지지만 집합은 값만 가짐"
      ],
      "metadata": {
        "id": "Pkpw51IWkKqY"
      },
      "execution_count": null,
      "outputs": []
    },
    {
      "cell_type": "code",
      "source": [
        "numList=[num for num in range(1,21) if num%3==0]\n",
        "numList"
      ],
      "metadata": {
        "colab": {
          "base_uri": "https://localhost:8080/"
        },
        "id": "6mEhkn8qkT3v",
        "outputId": "02c3effd-aa67-4d77-f457-a40f1d948100"
      },
      "execution_count": 61,
      "outputs": [
        {
          "output_type": "execute_result",
          "data": {
            "text/plain": [
              "[3, 6, 9, 12, 15, 18]"
            ]
          },
          "metadata": {},
          "execution_count": 61
        }
      ]
    },
    {
      "cell_type": "code",
      "source": [
        "numList=[num**num for num in range(1,21) if num%3==0]\n",
        "numList"
      ],
      "metadata": {
        "colab": {
          "base_uri": "https://localhost:8080/"
        },
        "id": "RJDYegx8m3eZ",
        "outputId": "f1157f22-b918-4e90-c08a-3f218c328925"
      },
      "execution_count": 64,
      "outputs": [
        {
          "output_type": "execute_result",
          "data": {
            "text/plain": [
              "[27,\n",
              " 46656,\n",
              " 387420489,\n",
              " 8916100448256,\n",
              " 437893890380859375,\n",
              " 39346408075296537575424]"
            ]
          },
          "metadata": {},
          "execution_count": 64
        }
      ]
    },
    {
      "cell_type": "code",
      "source": [
        "numbers=[]\n",
        "for num in range(1,21):\n",
        "    if num%3==0:\n",
        "        numbers.append(num)\n",
        "print(numbers)"
      ],
      "metadata": {
        "colab": {
          "base_uri": "https://localhost:8080/"
        },
        "id": "EnoPJVPzmVg9",
        "outputId": "7e38395e-a138-40f7-e06b-39efb4ced589"
      },
      "execution_count": 63,
      "outputs": [
        {
          "output_type": "stream",
          "name": "stdout",
          "text": [
            "[3, 6, 9, 12, 15, 18]\n"
          ]
        }
      ]
    },
    {
      "cell_type": "code",
      "source": [
        "numList=[num*num for num in range(1,6)]\n",
        "numList"
      ],
      "metadata": {
        "colab": {
          "base_uri": "https://localhost:8080/"
        },
        "id": "jKfbszlSlt18",
        "outputId": "d9cbe6d2-cb50-42ae-fa2c-f199610918e0"
      },
      "execution_count": 59,
      "outputs": [
        {
          "output_type": "execute_result",
          "data": {
            "text/plain": [
              "[1, 4, 9, 16, 25]"
            ]
          },
          "metadata": {},
          "execution_count": 59
        }
      ]
    },
    {
      "cell_type": "code",
      "source": [
        "hap = lambda num1, num2 : num1+num2"
      ],
      "metadata": {
        "id": "VkvFNsIIqKa7"
      },
      "execution_count": null,
      "outputs": []
    },
    {
      "cell_type": "markdown",
      "source": [
        "재귀함수도 while True의 break처럼 끝나는 조건이 있어야한다 = return"
      ],
      "metadata": {
        "id": "3UPG2TMgrXp9"
      }
    },
    {
      "cell_type": "code",
      "source": [],
      "metadata": {
        "id": "S3uCJwUUrdvw"
      },
      "execution_count": null,
      "outputs": []
    },
    {
      "cell_type": "code",
      "source": [],
      "metadata": {
        "id": "B6ODUWwRnRcA"
      },
      "execution_count": null,
      "outputs": []
    }
  ]
}