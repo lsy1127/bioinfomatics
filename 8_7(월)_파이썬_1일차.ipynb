{
  "nbformat": 4,
  "nbformat_minor": 0,
  "metadata": {
    "colab": {
      "provenance": [],
      "authorship_tag": "ABX9TyM7uIn2RvPCOaNvcQCZ5S7L",
      "include_colab_link": true
    },
    "kernelspec": {
      "name": "python3",
      "display_name": "Python 3"
    },
    "language_info": {
      "name": "python"
    }
  },
  "cells": [
    {
      "cell_type": "markdown",
      "metadata": {
        "id": "view-in-github",
        "colab_type": "text"
      },
      "source": [
        "<a href=\"https://colab.research.google.com/github/lsy1127/bioinfomatics/blob/main/8_7(%EC%9B%94)_%ED%8C%8C%EC%9D%B4%EC%8D%AC_1%EC%9D%BC%EC%B0%A8.ipynb\" target=\"_parent\"><img src=\"https://colab.research.google.com/assets/colab-badge.svg\" alt=\"Open In Colab\"/></a>"
      ]
    },
    {
      "cell_type": "markdown",
      "source": [
        "# 파이썬 자료형\n",
        "type(100)\n"
      ],
      "metadata": {
        "id": "S9GJ3vRSewyY"
      }
    },
    {
      "cell_type": "code",
      "source": [
        "# 데이터 형태 확인하는 함수 type()\n",
        "# 화면에 출력하는 함수 print()\n",
        "\n",
        "print(type(100))\n",
        "print(type(100.0))\n",
        "print(type('파이썬'))"
      ],
      "metadata": {
        "colab": {
          "base_uri": "https://localhost:8080/"
        },
        "id": "apbLI_Xae9jT",
        "outputId": "d615d0db-cee1-4a01-f990-9c24c0d3efe5"
      },
      "execution_count": 7,
      "outputs": [
        {
          "output_type": "stream",
          "name": "stdout",
          "text": [
            "<class 'int'>\n",
            "<class 'float'>\n",
            "<class 'str'>\n"
          ]
        }
      ]
    },
    {
      "cell_type": "code",
      "source": [
        "a=100\n",
        "b=50\n",
        "c='파이썬'\n",
        "print(a+b)\n",
        "print(c)"
      ],
      "metadata": {
        "colab": {
          "base_uri": "https://localhost:8080/"
        },
        "id": "oH7oSXGOgAQH",
        "outputId": "4b0f8573-bb22-4807-ed01-5faa60c3d68e"
      },
      "execution_count": 10,
      "outputs": [
        {
          "output_type": "stream",
          "name": "stdout",
          "text": [
            "150\n",
            "파이썬\n"
          ]
        }
      ]
    },
    {
      "cell_type": "code",
      "source": [
        "# 변수명 사용 규칙\n",
        "사과='사과'\n",
        "print(사과)\n",
        "\n",
        "사과='수박'\n",
        "print(사과)"
      ],
      "metadata": {
        "colab": {
          "base_uri": "https://localhost:8080/"
        },
        "id": "5plboy-2g5xh",
        "outputId": "098dbf97-37de-4566-f6f4-50829204aad4"
      },
      "execution_count": 12,
      "outputs": [
        {
          "output_type": "stream",
          "name": "stdout",
          "text": [
            "사과\n",
            "수박\n"
          ]
        }
      ]
    },
    {
      "cell_type": "code",
      "source": [
        "a=3.14\n",
        "b=314\n",
        "print(int(a))\n",
        "print(float(b))\n"
      ],
      "metadata": {
        "colab": {
          "base_uri": "https://localhost:8080/"
        },
        "id": "S_5TLvZ3hqOL",
        "outputId": "ef5ad3bd-e769-4c66-ebe8-7fc50570f81a"
      },
      "execution_count": 14,
      "outputs": [
        {
          "output_type": "stream",
          "name": "stdout",
          "text": [
            "3\n",
            "314.0\n"
          ]
        }
      ]
    },
    {
      "cell_type": "code",
      "source": [
        "# 문자열형\n",
        "# +: 문자열을 붙여서 표현\n",
        "print('오늘은'+'파이썬 첫째날')\n",
        "print('오늘은','파이썬 첫째날')\n"
      ],
      "metadata": {
        "colab": {
          "base_uri": "https://localhost:8080/"
        },
        "id": "DlelI4y4pPEh",
        "outputId": "a66b97b7-fc08-449b-b2a3-414ee648f12f"
      },
      "execution_count": 16,
      "outputs": [
        {
          "output_type": "stream",
          "name": "stdout",
          "text": [
            "오늘은파이썬 첫째날\n",
            "오늘은 파이썬 첫째날\n"
          ]
        }
      ]
    },
    {
      "cell_type": "code",
      "source": [
        "# *: 문자열을 반복\n",
        "print('반짝'*5)\n",
        "print('-=~'*10)"
      ],
      "metadata": {
        "colab": {
          "base_uri": "https://localhost:8080/"
        },
        "id": "PFDrrgpNpxki",
        "outputId": "1bcf1343-697e-4986-9a76-ba763517f08d"
      },
      "execution_count": 20,
      "outputs": [
        {
          "output_type": "stream",
          "name": "stdout",
          "text": [
            "반짝반짝반짝반짝반짝\n",
            "-=~-=~-=~-=~-=~-=~-=~-=~-=~-=~\n"
          ]
        }
      ]
    },
    {
      "cell_type": "code",
      "source": [
        "# bool타입\n",
        "a=True # 예약어 대문자 True는 1\n",
        "b=False # 예약어 대문자 False는 0\n",
        "print(a,b)\n",
        "\n",
        "a=100\n",
        "b=200\n",
        "print(a<b)"
      ],
      "metadata": {
        "colab": {
          "base_uri": "https://localhost:8080/"
        },
        "id": "1cyGVGxwqbof",
        "outputId": "1cef32ca-4cfc-4373-aa17-4da12a5bba85"
      },
      "execution_count": 24,
      "outputs": [
        {
          "output_type": "stream",
          "name": "stdout",
          "text": [
            "True False\n",
            "True\n"
          ]
        }
      ]
    },
    {
      "cell_type": "code",
      "source": [
        "# 계산기 만들기\n",
        "num1=int(input('첫번째 숫자: '))\n",
        "num2=int(input('두번째 숫자: '))\n",
        "\n",
        "print('-'*30)\n",
        "print('덧셈: %d + %d = %d' % (num1, num2, num1+num2))\n",
        "\n",
        "print('뺄셈: %d + %d = %d' % (num1, num2, num1-num2))\n",
        "print('곱셈: %d * %d = %d' % (num1, num2, num1*num2))\n",
        "\n",
        "print('나눗셈: %d + %d = %d' % (num1, num2, num1/num2))\n"
      ],
      "metadata": {
        "colab": {
          "base_uri": "https://localhost:8080/"
        },
        "id": "Oms9TRwksnyz",
        "outputId": "8c4c4915-ba9d-4c77-dd39-0f836b3c7f3e"
      },
      "execution_count": 44,
      "outputs": [
        {
          "output_type": "stream",
          "name": "stdout",
          "text": [
            "첫번째 숫자: 1\n",
            "두번째 숫자: 4\n",
            "------------------------------\n",
            "덧셈: 1 + 4 = 5\n",
            "뺄셈: 1 + 4 = -3\n",
            "곱셈: 1 * 4 = 4\n",
            "나눗셈: 1 + 4 = 0\n"
          ]
        }
      ]
    },
    {
      "cell_type": "code",
      "source": [
        "num1=int(input('첫번째 숫자: '))\n",
        "num2=int(input('두번째 숫자: '))\n",
        "\n",
        "print('='*30)\n",
        "print(f'덧셈: {num1} + {num2:>3} = {num1+num2}')\n",
        "print(f'뺄셈: {num1} - {num2:0>3} = {num1-num2}')\n",
        "print(f'곱셈: {num1} * {num2:>3} = {num1*num2}')\n",
        "print(f'나눗셈: {num1} / {num2} = {num1/num2}')"
      ],
      "metadata": {
        "colab": {
          "base_uri": "https://localhost:8080/"
        },
        "id": "MLqiH9OkwU07",
        "outputId": "43555531-bafc-44e4-864f-ea28a5346b57"
      },
      "execution_count": 51,
      "outputs": [
        {
          "output_type": "stream",
          "name": "stdout",
          "text": [
            "첫번째 숫자: 100\n",
            "두번째 숫자: 30\n",
            "==============================\n",
            "덧셈: 100 +  30 = 130\n",
            "뺄셈: 100 - 030 = 70\n",
            "곱셈: 100 *  30 = 3000\n",
            "나눗셈: 100 / 30 = round(3.3333333333333335)\n"
          ]
        }
      ]
    },
    {
      "cell_type": "code",
      "source": [
        "num1=float(input('속도를 입력해주세요: '))\n",
        "num2=float(input('거리를 입력해주세요: '))\n",
        "print(f'속도= {num1}')\n",
        "print(f'거리= {num2}')\n",
        "print(f'시간= {num2} / {num1} = {num2/num1}')\n"
      ],
      "metadata": {
        "colab": {
          "base_uri": "https://localhost:8080/"
        },
        "id": "31p-7-fFyx22",
        "outputId": "2054a75e-76bc-431d-e8bb-967bcce90319"
      },
      "execution_count": 58,
      "outputs": [
        {
          "output_type": "stream",
          "name": "stdout",
          "text": [
            "속도를 입력해주세요: 200\n",
            "거리를 입력해주세요: 50\n",
            "속도= 200.0\n",
            "거리= 50.0\n",
            "시간= 50.0 / 200.0 = 0.25\n"
          ]
        }
      ]
    },
    {
      "cell_type": "code",
      "source": [
        "num1=float(input('속도를 입력해주세요: '))\n",
        "num2=float(input('거리를 입력해주세요: '))\n",
        "print(속도=, ')\n",
        "print(f'거리= {num2}')\n",
        "print(f'시간= {num2} / {num1} = {num2/num1}')"
      ],
      "metadata": {
        "colab": {
          "base_uri": "https://localhost:8080/",
          "height": 147
        },
        "id": "mr5aB0ME0_3d",
        "outputId": "a72f1269-c25e-4d10-8a31-8975b46d6e82"
      },
      "execution_count": 59,
      "outputs": [
        {
          "output_type": "error",
          "ename": "SyntaxError",
          "evalue": "ignored",
          "traceback": [
            "\u001b[0;36m  File \u001b[0;32m\"<ipython-input-59-dbc2beb92869>\"\u001b[0;36m, line \u001b[0;32m3\u001b[0m\n\u001b[0;31m    print(속도=, num1')\u001b[0m\n\u001b[0m                   ^\u001b[0m\n\u001b[0;31mSyntaxError\u001b[0m\u001b[0;31m:\u001b[0m unterminated string literal (detected at line 3)\n"
          ]
        }
      ]
    },
    {
      "cell_type": "code",
      "source": [
        "a=int(input('키보드로 입력하세요'))\n"
      ],
      "metadata": {
        "colab": {
          "base_uri": "https://localhost:8080/"
        },
        "id": "3GpUgX09s99P",
        "outputId": "295ba9e8-d7ef-415b-dec3-e8097df558e9"
      },
      "execution_count": 34,
      "outputs": [
        {
          "name": "stdout",
          "output_type": "stream",
          "text": [
            "키보드로 입력하세요100\n"
          ]
        }
      ]
    },
    {
      "cell_type": "code",
      "source": [
        "\n",
        "a=int(input{'정수를 입력하세요:'})\n",
        "b={a}+{a*2}+{a*3}\n",
        "print(f'a+a*2+a*3={b})"
      ],
      "metadata": {
        "colab": {
          "base_uri": "https://localhost:8080/",
          "height": 147
        },
        "id": "Eu3OJLlT4Wht",
        "outputId": "2d9e55b0-24de-42c4-da69-958795c4d138"
      },
      "execution_count": 74,
      "outputs": [
        {
          "output_type": "error",
          "ename": "SyntaxError",
          "evalue": "ignored",
          "traceback": [
            "\u001b[0;36m  File \u001b[0;32m\"<ipython-input-74-d05ca28dcc19>\"\u001b[0;36m, line \u001b[0;32m3\u001b[0m\n\u001b[0;31m    print(f'a+a*2+a*3={b})\u001b[0m\n\u001b[0m          ^\u001b[0m\n\u001b[0;31mSyntaxError\u001b[0m\u001b[0;31m:\u001b[0m unterminated string literal (detected at line 3)\n"
          ]
        }
      ]
    },
    {
      "cell_type": "code",
      "source": [
        "# eval(): 문자열을 숫자처럼 계산\n",
        "# eval('3+4')\n",
        "a=input('정수를 입력하시오')\n",
        "result=f'{a}+{a+a}+{a+a+a}'\n",
        "print(f'{result}={eval(result)}')"
      ],
      "metadata": {
        "colab": {
          "base_uri": "https://localhost:8080/"
        },
        "id": "dIeMySZm72Rk",
        "outputId": "4096f229-9542-4ec4-ca96-ae9704d95835"
      },
      "execution_count": 73,
      "outputs": [
        {
          "output_type": "stream",
          "name": "stdout",
          "text": [
            "정수를 입력하시오7\n",
            "7+77+777=861\n"
          ]
        }
      ]
    },
    {
      "cell_type": "code",
      "source": [],
      "metadata": {
        "id": "Auvk5MhF3-2T"
      },
      "execution_count": null,
      "outputs": []
    }
  ]
}